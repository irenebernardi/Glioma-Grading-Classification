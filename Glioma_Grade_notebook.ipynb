{
 "cells": [
  {
   "cell_type": "code",
   "execution_count": 2,
   "metadata": {},
   "outputs": [],
   "source": [
    "import pandas as pd\n",
    "import seaborn as sns\n",
    "import matplotlib.pyplot as plt\n",
    "import numpy as np\n",
    "import plotly.graph_objs as go\n",
    "from plotly.subplots import make_subplots\n",
    "from sklearn.model_selection import train_test_split\n",
    "from sklearn.metrics import accuracy_score, confusion_matrix, roc_auc_score, ConfusionMatrixDisplay, roc_curve, auc\n",
    "from sklearn.model_selection import KFold\n",
    "from sklearn.ensemble import RandomForestClassifier\n",
    "from sklearn.linear_model import LogisticRegression\n",
    "from sklearn import svm, tree \n",
    "from sklearn.model_selection import GridSearchCV, RandomizedSearchCV , cross_val_score\n",
    "from collections import OrderedDict\n",
    "from operator import itemgetter\n",
    "from sklearn.metrics import recall_score\n",
    "from sklearn.ensemble import AdaBoostClassifier\n"
   ]
  },
  {
   "cell_type": "code",
   "execution_count": 164,
   "metadata": {},
   "outputs": [],
   "source": [
    "import warnings\n",
    "warnings.filterwarnings( 'ignore' )"
   ]
  },
  {
   "cell_type": "code",
   "execution_count": 3,
   "metadata": {},
   "outputs": [
    {
     "data": {
      "text/html": [
       "<div>\n",
       "<style scoped>\n",
       "    .dataframe tbody tr th:only-of-type {\n",
       "        vertical-align: middle;\n",
       "    }\n",
       "\n",
       "    .dataframe tbody tr th {\n",
       "        vertical-align: top;\n",
       "    }\n",
       "\n",
       "    .dataframe thead th {\n",
       "        text-align: right;\n",
       "    }\n",
       "</style>\n",
       "<table border=\"1\" class=\"dataframe\">\n",
       "  <thead>\n",
       "    <tr style=\"text-align: right;\">\n",
       "      <th></th>\n",
       "      <th>Grade</th>\n",
       "      <th>Project</th>\n",
       "      <th>Case_ID</th>\n",
       "      <th>Gender</th>\n",
       "      <th>Age_at_diagnosis</th>\n",
       "      <th>Primary_Diagnosis</th>\n",
       "      <th>Race</th>\n",
       "      <th>IDH1</th>\n",
       "      <th>TP53</th>\n",
       "      <th>ATRX</th>\n",
       "      <th>...</th>\n",
       "      <th>FUBP1</th>\n",
       "      <th>RB1</th>\n",
       "      <th>NOTCH1</th>\n",
       "      <th>BCOR</th>\n",
       "      <th>CSMD3</th>\n",
       "      <th>SMARCA4</th>\n",
       "      <th>GRIN2A</th>\n",
       "      <th>IDH2</th>\n",
       "      <th>FAT4</th>\n",
       "      <th>PDGFRA</th>\n",
       "    </tr>\n",
       "  </thead>\n",
       "  <tbody>\n",
       "    <tr>\n",
       "      <th>0</th>\n",
       "      <td>LGG</td>\n",
       "      <td>TCGA-LGG</td>\n",
       "      <td>TCGA-DU-8164</td>\n",
       "      <td>Male</td>\n",
       "      <td>51 years 108 days</td>\n",
       "      <td>Oligodendroglioma, NOS</td>\n",
       "      <td>white</td>\n",
       "      <td>MUTATED</td>\n",
       "      <td>NOT_MUTATED</td>\n",
       "      <td>NOT_MUTATED</td>\n",
       "      <td>...</td>\n",
       "      <td>MUTATED</td>\n",
       "      <td>NOT_MUTATED</td>\n",
       "      <td>NOT_MUTATED</td>\n",
       "      <td>NOT_MUTATED</td>\n",
       "      <td>NOT_MUTATED</td>\n",
       "      <td>NOT_MUTATED</td>\n",
       "      <td>NOT_MUTATED</td>\n",
       "      <td>NOT_MUTATED</td>\n",
       "      <td>NOT_MUTATED</td>\n",
       "      <td>NOT_MUTATED</td>\n",
       "    </tr>\n",
       "    <tr>\n",
       "      <th>1</th>\n",
       "      <td>LGG</td>\n",
       "      <td>TCGA-LGG</td>\n",
       "      <td>TCGA-QH-A6CY</td>\n",
       "      <td>Male</td>\n",
       "      <td>38 years 261 days</td>\n",
       "      <td>Mixed glioma</td>\n",
       "      <td>white</td>\n",
       "      <td>MUTATED</td>\n",
       "      <td>NOT_MUTATED</td>\n",
       "      <td>NOT_MUTATED</td>\n",
       "      <td>...</td>\n",
       "      <td>NOT_MUTATED</td>\n",
       "      <td>NOT_MUTATED</td>\n",
       "      <td>NOT_MUTATED</td>\n",
       "      <td>NOT_MUTATED</td>\n",
       "      <td>NOT_MUTATED</td>\n",
       "      <td>NOT_MUTATED</td>\n",
       "      <td>NOT_MUTATED</td>\n",
       "      <td>NOT_MUTATED</td>\n",
       "      <td>NOT_MUTATED</td>\n",
       "      <td>NOT_MUTATED</td>\n",
       "    </tr>\n",
       "    <tr>\n",
       "      <th>2</th>\n",
       "      <td>LGG</td>\n",
       "      <td>TCGA-LGG</td>\n",
       "      <td>TCGA-HW-A5KM</td>\n",
       "      <td>Male</td>\n",
       "      <td>35 years 62 days</td>\n",
       "      <td>Astrocytoma, NOS</td>\n",
       "      <td>white</td>\n",
       "      <td>MUTATED</td>\n",
       "      <td>MUTATED</td>\n",
       "      <td>MUTATED</td>\n",
       "      <td>...</td>\n",
       "      <td>NOT_MUTATED</td>\n",
       "      <td>NOT_MUTATED</td>\n",
       "      <td>NOT_MUTATED</td>\n",
       "      <td>NOT_MUTATED</td>\n",
       "      <td>NOT_MUTATED</td>\n",
       "      <td>NOT_MUTATED</td>\n",
       "      <td>NOT_MUTATED</td>\n",
       "      <td>NOT_MUTATED</td>\n",
       "      <td>NOT_MUTATED</td>\n",
       "      <td>NOT_MUTATED</td>\n",
       "    </tr>\n",
       "    <tr>\n",
       "      <th>3</th>\n",
       "      <td>LGG</td>\n",
       "      <td>TCGA-LGG</td>\n",
       "      <td>TCGA-E1-A7YE</td>\n",
       "      <td>Female</td>\n",
       "      <td>32 years 283 days</td>\n",
       "      <td>Astrocytoma, anaplastic</td>\n",
       "      <td>white</td>\n",
       "      <td>MUTATED</td>\n",
       "      <td>MUTATED</td>\n",
       "      <td>MUTATED</td>\n",
       "      <td>...</td>\n",
       "      <td>NOT_MUTATED</td>\n",
       "      <td>NOT_MUTATED</td>\n",
       "      <td>NOT_MUTATED</td>\n",
       "      <td>NOT_MUTATED</td>\n",
       "      <td>NOT_MUTATED</td>\n",
       "      <td>NOT_MUTATED</td>\n",
       "      <td>NOT_MUTATED</td>\n",
       "      <td>NOT_MUTATED</td>\n",
       "      <td>MUTATED</td>\n",
       "      <td>NOT_MUTATED</td>\n",
       "    </tr>\n",
       "    <tr>\n",
       "      <th>4</th>\n",
       "      <td>LGG</td>\n",
       "      <td>TCGA-LGG</td>\n",
       "      <td>TCGA-S9-A6WG</td>\n",
       "      <td>Male</td>\n",
       "      <td>31 years 187 days</td>\n",
       "      <td>Astrocytoma, anaplastic</td>\n",
       "      <td>white</td>\n",
       "      <td>MUTATED</td>\n",
       "      <td>MUTATED</td>\n",
       "      <td>MUTATED</td>\n",
       "      <td>...</td>\n",
       "      <td>NOT_MUTATED</td>\n",
       "      <td>NOT_MUTATED</td>\n",
       "      <td>NOT_MUTATED</td>\n",
       "      <td>NOT_MUTATED</td>\n",
       "      <td>NOT_MUTATED</td>\n",
       "      <td>NOT_MUTATED</td>\n",
       "      <td>NOT_MUTATED</td>\n",
       "      <td>NOT_MUTATED</td>\n",
       "      <td>NOT_MUTATED</td>\n",
       "      <td>NOT_MUTATED</td>\n",
       "    </tr>\n",
       "    <tr>\n",
       "      <th>...</th>\n",
       "      <td>...</td>\n",
       "      <td>...</td>\n",
       "      <td>...</td>\n",
       "      <td>...</td>\n",
       "      <td>...</td>\n",
       "      <td>...</td>\n",
       "      <td>...</td>\n",
       "      <td>...</td>\n",
       "      <td>...</td>\n",
       "      <td>...</td>\n",
       "      <td>...</td>\n",
       "      <td>...</td>\n",
       "      <td>...</td>\n",
       "      <td>...</td>\n",
       "      <td>...</td>\n",
       "      <td>...</td>\n",
       "      <td>...</td>\n",
       "      <td>...</td>\n",
       "      <td>...</td>\n",
       "      <td>...</td>\n",
       "      <td>...</td>\n",
       "    </tr>\n",
       "    <tr>\n",
       "      <th>857</th>\n",
       "      <td>GBM</td>\n",
       "      <td>TCGA-GBM</td>\n",
       "      <td>TCGA-19-5959</td>\n",
       "      <td>Female</td>\n",
       "      <td>77 years 325 days</td>\n",
       "      <td>Glioblastoma</td>\n",
       "      <td>white</td>\n",
       "      <td>NOT_MUTATED</td>\n",
       "      <td>NOT_MUTATED</td>\n",
       "      <td>NOT_MUTATED</td>\n",
       "      <td>...</td>\n",
       "      <td>NOT_MUTATED</td>\n",
       "      <td>NOT_MUTATED</td>\n",
       "      <td>NOT_MUTATED</td>\n",
       "      <td>NOT_MUTATED</td>\n",
       "      <td>NOT_MUTATED</td>\n",
       "      <td>NOT_MUTATED</td>\n",
       "      <td>NOT_MUTATED</td>\n",
       "      <td>NOT_MUTATED</td>\n",
       "      <td>NOT_MUTATED</td>\n",
       "      <td>NOT_MUTATED</td>\n",
       "    </tr>\n",
       "    <tr>\n",
       "      <th>858</th>\n",
       "      <td>GBM</td>\n",
       "      <td>TCGA-GBM</td>\n",
       "      <td>TCGA-16-0846</td>\n",
       "      <td>Male</td>\n",
       "      <td>85 years 65 days</td>\n",
       "      <td>Glioblastoma</td>\n",
       "      <td>white</td>\n",
       "      <td>NOT_MUTATED</td>\n",
       "      <td>MUTATED</td>\n",
       "      <td>NOT_MUTATED</td>\n",
       "      <td>...</td>\n",
       "      <td>NOT_MUTATED</td>\n",
       "      <td>NOT_MUTATED</td>\n",
       "      <td>NOT_MUTATED</td>\n",
       "      <td>NOT_MUTATED</td>\n",
       "      <td>NOT_MUTATED</td>\n",
       "      <td>NOT_MUTATED</td>\n",
       "      <td>NOT_MUTATED</td>\n",
       "      <td>NOT_MUTATED</td>\n",
       "      <td>NOT_MUTATED</td>\n",
       "      <td>NOT_MUTATED</td>\n",
       "    </tr>\n",
       "    <tr>\n",
       "      <th>859</th>\n",
       "      <td>GBM</td>\n",
       "      <td>TCGA-GBM</td>\n",
       "      <td>TCGA-28-1746</td>\n",
       "      <td>Female</td>\n",
       "      <td>77 years 178 days</td>\n",
       "      <td>Glioblastoma</td>\n",
       "      <td>white</td>\n",
       "      <td>NOT_MUTATED</td>\n",
       "      <td>MUTATED</td>\n",
       "      <td>NOT_MUTATED</td>\n",
       "      <td>...</td>\n",
       "      <td>NOT_MUTATED</td>\n",
       "      <td>NOT_MUTATED</td>\n",
       "      <td>NOT_MUTATED</td>\n",
       "      <td>NOT_MUTATED</td>\n",
       "      <td>NOT_MUTATED</td>\n",
       "      <td>NOT_MUTATED</td>\n",
       "      <td>NOT_MUTATED</td>\n",
       "      <td>NOT_MUTATED</td>\n",
       "      <td>NOT_MUTATED</td>\n",
       "      <td>NOT_MUTATED</td>\n",
       "    </tr>\n",
       "    <tr>\n",
       "      <th>860</th>\n",
       "      <td>GBM</td>\n",
       "      <td>TCGA-GBM</td>\n",
       "      <td>TCGA-32-2491</td>\n",
       "      <td>Male</td>\n",
       "      <td>63 years 121 days</td>\n",
       "      <td>Glioblastoma</td>\n",
       "      <td>white</td>\n",
       "      <td>NOT_MUTATED</td>\n",
       "      <td>MUTATED</td>\n",
       "      <td>NOT_MUTATED</td>\n",
       "      <td>...</td>\n",
       "      <td>NOT_MUTATED</td>\n",
       "      <td>MUTATED</td>\n",
       "      <td>NOT_MUTATED</td>\n",
       "      <td>NOT_MUTATED</td>\n",
       "      <td>NOT_MUTATED</td>\n",
       "      <td>NOT_MUTATED</td>\n",
       "      <td>NOT_MUTATED</td>\n",
       "      <td>NOT_MUTATED</td>\n",
       "      <td>NOT_MUTATED</td>\n",
       "      <td>NOT_MUTATED</td>\n",
       "    </tr>\n",
       "    <tr>\n",
       "      <th>861</th>\n",
       "      <td>GBM</td>\n",
       "      <td>TCGA-GBM</td>\n",
       "      <td>TCGA-06-2557</td>\n",
       "      <td>Male</td>\n",
       "      <td>76 years 221 days</td>\n",
       "      <td>Glioblastoma</td>\n",
       "      <td>black or african american</td>\n",
       "      <td>NOT_MUTATED</td>\n",
       "      <td>NOT_MUTATED</td>\n",
       "      <td>NOT_MUTATED</td>\n",
       "      <td>...</td>\n",
       "      <td>NOT_MUTATED</td>\n",
       "      <td>NOT_MUTATED</td>\n",
       "      <td>NOT_MUTATED</td>\n",
       "      <td>NOT_MUTATED</td>\n",
       "      <td>NOT_MUTATED</td>\n",
       "      <td>NOT_MUTATED</td>\n",
       "      <td>NOT_MUTATED</td>\n",
       "      <td>NOT_MUTATED</td>\n",
       "      <td>NOT_MUTATED</td>\n",
       "      <td>NOT_MUTATED</td>\n",
       "    </tr>\n",
       "  </tbody>\n",
       "</table>\n",
       "<p>862 rows × 27 columns</p>\n",
       "</div>"
      ],
      "text/plain": [
       "    Grade   Project       Case_ID  Gender   Age_at_diagnosis  \\\n",
       "0     LGG  TCGA-LGG  TCGA-DU-8164    Male  51 years 108 days   \n",
       "1     LGG  TCGA-LGG  TCGA-QH-A6CY    Male  38 years 261 days   \n",
       "2     LGG  TCGA-LGG  TCGA-HW-A5KM    Male   35 years 62 days   \n",
       "3     LGG  TCGA-LGG  TCGA-E1-A7YE  Female  32 years 283 days   \n",
       "4     LGG  TCGA-LGG  TCGA-S9-A6WG    Male  31 years 187 days   \n",
       "..    ...       ...           ...     ...                ...   \n",
       "857   GBM  TCGA-GBM  TCGA-19-5959  Female  77 years 325 days   \n",
       "858   GBM  TCGA-GBM  TCGA-16-0846    Male   85 years 65 days   \n",
       "859   GBM  TCGA-GBM  TCGA-28-1746  Female  77 years 178 days   \n",
       "860   GBM  TCGA-GBM  TCGA-32-2491    Male  63 years 121 days   \n",
       "861   GBM  TCGA-GBM  TCGA-06-2557    Male  76 years 221 days   \n",
       "\n",
       "           Primary_Diagnosis                       Race         IDH1  \\\n",
       "0     Oligodendroglioma, NOS                      white      MUTATED   \n",
       "1               Mixed glioma                      white      MUTATED   \n",
       "2           Astrocytoma, NOS                      white      MUTATED   \n",
       "3    Astrocytoma, anaplastic                      white      MUTATED   \n",
       "4    Astrocytoma, anaplastic                      white      MUTATED   \n",
       "..                       ...                        ...          ...   \n",
       "857             Glioblastoma                      white  NOT_MUTATED   \n",
       "858             Glioblastoma                      white  NOT_MUTATED   \n",
       "859             Glioblastoma                      white  NOT_MUTATED   \n",
       "860             Glioblastoma                      white  NOT_MUTATED   \n",
       "861             Glioblastoma  black or african american  NOT_MUTATED   \n",
       "\n",
       "            TP53         ATRX  ...        FUBP1          RB1       NOTCH1  \\\n",
       "0    NOT_MUTATED  NOT_MUTATED  ...      MUTATED  NOT_MUTATED  NOT_MUTATED   \n",
       "1    NOT_MUTATED  NOT_MUTATED  ...  NOT_MUTATED  NOT_MUTATED  NOT_MUTATED   \n",
       "2        MUTATED      MUTATED  ...  NOT_MUTATED  NOT_MUTATED  NOT_MUTATED   \n",
       "3        MUTATED      MUTATED  ...  NOT_MUTATED  NOT_MUTATED  NOT_MUTATED   \n",
       "4        MUTATED      MUTATED  ...  NOT_MUTATED  NOT_MUTATED  NOT_MUTATED   \n",
       "..           ...          ...  ...          ...          ...          ...   \n",
       "857  NOT_MUTATED  NOT_MUTATED  ...  NOT_MUTATED  NOT_MUTATED  NOT_MUTATED   \n",
       "858      MUTATED  NOT_MUTATED  ...  NOT_MUTATED  NOT_MUTATED  NOT_MUTATED   \n",
       "859      MUTATED  NOT_MUTATED  ...  NOT_MUTATED  NOT_MUTATED  NOT_MUTATED   \n",
       "860      MUTATED  NOT_MUTATED  ...  NOT_MUTATED      MUTATED  NOT_MUTATED   \n",
       "861  NOT_MUTATED  NOT_MUTATED  ...  NOT_MUTATED  NOT_MUTATED  NOT_MUTATED   \n",
       "\n",
       "            BCOR        CSMD3      SMARCA4       GRIN2A         IDH2  \\\n",
       "0    NOT_MUTATED  NOT_MUTATED  NOT_MUTATED  NOT_MUTATED  NOT_MUTATED   \n",
       "1    NOT_MUTATED  NOT_MUTATED  NOT_MUTATED  NOT_MUTATED  NOT_MUTATED   \n",
       "2    NOT_MUTATED  NOT_MUTATED  NOT_MUTATED  NOT_MUTATED  NOT_MUTATED   \n",
       "3    NOT_MUTATED  NOT_MUTATED  NOT_MUTATED  NOT_MUTATED  NOT_MUTATED   \n",
       "4    NOT_MUTATED  NOT_MUTATED  NOT_MUTATED  NOT_MUTATED  NOT_MUTATED   \n",
       "..           ...          ...          ...          ...          ...   \n",
       "857  NOT_MUTATED  NOT_MUTATED  NOT_MUTATED  NOT_MUTATED  NOT_MUTATED   \n",
       "858  NOT_MUTATED  NOT_MUTATED  NOT_MUTATED  NOT_MUTATED  NOT_MUTATED   \n",
       "859  NOT_MUTATED  NOT_MUTATED  NOT_MUTATED  NOT_MUTATED  NOT_MUTATED   \n",
       "860  NOT_MUTATED  NOT_MUTATED  NOT_MUTATED  NOT_MUTATED  NOT_MUTATED   \n",
       "861  NOT_MUTATED  NOT_MUTATED  NOT_MUTATED  NOT_MUTATED  NOT_MUTATED   \n",
       "\n",
       "            FAT4       PDGFRA  \n",
       "0    NOT_MUTATED  NOT_MUTATED  \n",
       "1    NOT_MUTATED  NOT_MUTATED  \n",
       "2    NOT_MUTATED  NOT_MUTATED  \n",
       "3        MUTATED  NOT_MUTATED  \n",
       "4    NOT_MUTATED  NOT_MUTATED  \n",
       "..           ...          ...  \n",
       "857  NOT_MUTATED  NOT_MUTATED  \n",
       "858  NOT_MUTATED  NOT_MUTATED  \n",
       "859  NOT_MUTATED  NOT_MUTATED  \n",
       "860  NOT_MUTATED  NOT_MUTATED  \n",
       "861  NOT_MUTATED  NOT_MUTATED  \n",
       "\n",
       "[862 rows x 27 columns]"
      ]
     },
     "execution_count": 3,
     "metadata": {},
     "output_type": "execute_result"
    }
   ],
   "source": [
    "df = pd.read_csv('/Users/irenebernardi/Desktop/ML /Glioma-Grading-Classification/TCGA_GBM_LGG_Mutations_all.csv')\n",
    "df\n"
   ]
  },
  {
   "cell_type": "markdown",
   "metadata": {},
   "source": [
    "## Data preprocessing"
   ]
  },
  {
   "cell_type": "code",
   "execution_count": 4,
   "metadata": {},
   "outputs": [
    {
     "name": "stdout",
     "output_type": "stream",
     "text": [
      "['LGG' 'GBM']\n",
      "['TCGA-LGG' 'TCGA-GBM']\n",
      "['TCGA-DU-8164' 'TCGA-QH-A6CY' 'TCGA-HW-A5KM' 'TCGA-E1-A7YE'\n",
      " 'TCGA-S9-A6WG' 'TCGA-DB-A4X9' 'TCGA-P5-A5F4' 'TCGA-FG-A4MY'\n",
      " 'TCGA-HT-A5R5' 'TCGA-DU-A76K' 'TCGA-QH-A6CV' 'TCGA-FG-5962'\n",
      " 'TCGA-DU-6402' 'TCGA-DB-A75M' 'TCGA-DB-A4XG' 'TCGA-DU-5851'\n",
      " 'TCGA-DB-A4XH' 'TCGA-HT-7874' 'TCGA-DH-A66D' 'TCGA-DU-5871'\n",
      " 'TCGA-FG-A60J' 'TCGA-E1-A7Z3' 'TCGA-DU-7011' 'TCGA-VW-A8FI'\n",
      " 'TCGA-DU-A7TB' 'TCGA-HT-7856' 'TCGA-TQ-A7RU' 'TCGA-HW-7486'\n",
      " 'TCGA-DU-6399' 'TCGA-DU-A7TA' 'TCGA-HT-A5RA' 'TCGA-DB-5280'\n",
      " 'TCGA-DU-6405' 'TCGA-S9-A7J1' 'TCGA-S9-A7J2' 'TCGA-HW-7495'\n",
      " 'TCGA-FG-A710' 'TCGA-P5-A5ET' 'TCGA-DU-7300' 'TCGA-DU-A5TY'\n",
      " 'TCGA-VM-A8CH' 'TCGA-R8-A6YH' 'TCGA-S9-A6WE' 'TCGA-HT-7681'\n",
      " 'TCGA-KT-A7W1' 'TCGA-FG-5964' 'TCGA-S9-A6TX' 'TCGA-P5-A5F2'\n",
      " 'TCGA-DU-5874' 'TCGA-DU-A5TT' 'TCGA-CS-5396' 'TCGA-DU-7302'\n",
      " 'TCGA-S9-A6TW' 'TCGA-RY-A845' 'TCGA-HT-A61A' 'TCGA-DU-7018'\n",
      " 'TCGA-HW-7489' 'TCGA-R8-A6ML' 'TCGA-DH-5144' 'TCGA-DU-7013'\n",
      " 'TCGA-CS-4941' 'TCGA-WY-A85E' 'TCGA-DH-A7UR' 'TCGA-HT-7689'\n",
      " 'TCGA-S9-A7R7' 'TCGA-HT-A619' 'TCGA-DU-7012' 'TCGA-S9-A6UB'\n",
      " 'TCGA-DB-5281' 'TCGA-QH-A6CX' 'TCGA-E1-5318' 'TCGA-CS-6290'\n",
      " 'TCGA-S9-A6U2' 'TCGA-HT-A74J' 'TCGA-WY-A859' 'TCGA-HT-A5RB'\n",
      " 'TCGA-DU-8168' 'TCGA-QH-A6X3' 'TCGA-DU-5853' 'TCGA-CS-6667'\n",
      " 'TCGA-S9-A89V' 'TCGA-HT-8012' 'TCGA-S9-A7IY' 'TCGA-TQ-A7RS'\n",
      " 'TCGA-QH-A6XC' 'TCGA-CS-6668' 'TCGA-DB-5277' 'TCGA-CS-6186'\n",
      " 'TCGA-HT-A4DS' 'TCGA-DU-8165' 'TCGA-HT-7605' 'TCGA-DU-6410'\n",
      " 'TCGA-RY-A83Z' 'TCGA-HW-8321' 'TCGA-S9-A7QW' 'TCGA-S9-A6WL'\n",
      " 'TCGA-DU-A5TW' 'TCGA-HW-A5KL' 'TCGA-WY-A85A' 'TCGA-P5-A72Z'\n",
      " 'TCGA-DU-8163' 'TCGA-DB-5275' 'TCGA-FG-8187' 'TCGA-P5-A5EU'\n",
      " 'TCGA-HT-7478' 'TCGA-QH-A65S' 'TCGA-HT-7881' 'TCGA-TQ-A7RO'\n",
      " 'TCGA-FG-8188' 'TCGA-FG-8182' 'TCGA-HT-A5R7' 'TCGA-DB-5276'\n",
      " 'TCGA-HT-8113' 'TCGA-S9-A7R2' 'TCGA-HT-7483' 'TCGA-S9-A7IS'\n",
      " 'TCGA-QH-A6X4' 'TCGA-DU-A5TP' 'TCGA-FG-6692' 'TCGA-HT-A74H'\n",
      " 'TCGA-DU-A6S2' 'TCGA-DU-6394' 'TCGA-R8-A6MO' 'TCGA-S9-A7IQ'\n",
      " 'TCGA-FG-8189' 'TCGA-FG-A70Z' 'TCGA-HT-7474' 'TCGA-HT-8010'\n",
      " 'TCGA-P5-A72U' 'TCGA-HT-8018' 'TCGA-HW-8320' 'TCGA-DU-6542'\n",
      " 'TCGA-E1-A7YN' 'TCGA-CS-5394' 'TCGA-FG-A4MX' 'TCGA-S9-A6WH'\n",
      " 'TCGA-WY-A85B' 'TCGA-S9-A7IZ' 'TCGA-S9-A7QZ' 'TCGA-DB-A75L'\n",
      " 'TCGA-E1-A7YO' 'TCGA-P5-A5EZ' 'TCGA-S9-A7R8' 'TCGA-E1-A7YY'\n",
      " 'TCGA-HT-7604' 'TCGA-E1-5304' 'TCGA-S9-A89Z' 'TCGA-E1-5307'\n",
      " 'TCGA-FG-A711' 'TCGA-TM-A84R' 'TCGA-HW-7490' 'TCGA-HT-8564'\n",
      " 'TCGA-HT-7875' 'TCGA-DH-5140' 'TCGA-WY-A85D' 'TCGA-TQ-A7RK'\n",
      " 'TCGA-FG-6688' 'TCGA-HT-7479' 'TCGA-DU-8167' 'TCGA-E1-A7YM'\n",
      " 'TCGA-QH-A6CW' 'TCGA-DU-8162' 'TCGA-P5-A5EV' 'TCGA-DB-A64Q'\n",
      " 'TCGA-DU-A5TR' 'TCGA-TM-A7CF' 'TCGA-FG-A6IZ' 'TCGA-HT-7687'\n",
      " 'TCGA-TM-A84J' 'TCGA-HT-A61C' 'TCGA-DU-A76R' 'TCGA-HT-7481'\n",
      " 'TCGA-DB-A4XB' 'TCGA-FG-A87N' 'TCGA-S9-A7J0' 'TCGA-CS-5397'\n",
      " 'TCGA-WY-A85C' 'TCGA-CS-6188' 'TCGA-HT-7690' 'TCGA-TQ-A7RN'\n",
      " 'TCGA-FG-A6J1' 'TCGA-TM-A7C5' 'TCGA-DU-5854' 'TCGA-TM-A84T'\n",
      " 'TCGA-DH-A669' 'TCGA-FG-A4MW' 'TCGA-E1-5302' 'TCGA-HT-7603'\n",
      " 'TCGA-S9-A6WP' 'TCGA-HT-A4DV' 'TCGA-DB-5270' 'TCGA-E1-A7YW'\n",
      " 'TCGA-DU-7009' 'TCGA-HT-8108' 'TCGA-DU-7306' 'TCGA-DB-A64P'\n",
      " 'TCGA-HT-7688' 'TCGA-VM-A8CD' 'TCGA-DB-A64X' 'TCGA-HT-7877'\n",
      " 'TCGA-DH-A66F' 'TCGA-P5-A77W' 'TCGA-HT-A5R9' 'TCGA-E1-A7YS'\n",
      " 'TCGA-TM-A7C3' 'TCGA-DU-A6S7' 'TCGA-TQ-A7RJ' 'TCGA-RY-A843'\n",
      " 'TCGA-RY-A840' 'TCGA-DU-6395' 'TCGA-FG-8191' 'TCGA-HT-7606'\n",
      " 'TCGA-HT-7857' 'TCGA-DU-7015' 'TCGA-HT-7609' 'TCGA-S9-A6WI'\n",
      " 'TCGA-S9-A6TZ' 'TCGA-FG-6691' 'TCGA-DU-6401' 'TCGA-DB-5278'\n",
      " 'TCGA-HT-8109' 'TCGA-FG-A4MT' 'TCGA-DU-7292' 'TCGA-CS-4943'\n",
      " 'TCGA-VV-A829' 'TCGA-FN-7833' 'TCGA-HT-7695' 'TCGA-DB-A4XC'\n",
      " 'TCGA-CS-5390' 'TCGA-HT-7855' 'TCGA-DU-A6S6' 'TCGA-VM-A8CB'\n",
      " 'TCGA-FG-A713' 'TCGA-DH-A7US' 'TCGA-WH-A86K' 'TCGA-DU-6403'\n",
      " 'TCGA-DU-5870' 'TCGA-P5-A736' 'TCGA-P5-A72X' 'TCGA-HT-8011'\n",
      " 'TCGA-CS-6670' 'TCGA-HT-8114' 'TCGA-FG-6690' 'TCGA-DU-6408'\n",
      " 'TCGA-IK-7675' 'TCGA-TM-A84I' 'TCGA-DB-A64U' 'TCGA-DU-5847'\n",
      " 'TCGA-E1-A7YJ' 'TCGA-DB-A4XA' 'TCGA-DU-5852' 'TCGA-TM-A7CA'\n",
      " 'TCGA-DU-6407' 'TCGA-HW-A5KJ' 'TCGA-TM-A84H' 'TCGA-HT-7472'\n",
      " 'TCGA-VV-A86M' 'TCGA-DU-A7TD' 'TCGA-S9-A7QX' 'TCGA-E1-A7YI'\n",
      " 'TCGA-HT-7860' 'TCGA-P5-A780' 'TCGA-E1-A7YQ' 'TCGA-S9-A6U5'\n",
      " 'TCGA-HT-8107' 'TCGA-CS-4942' 'TCGA-S9-A6U9' 'TCGA-HT-7686'\n",
      " 'TCGA-DB-A75P' 'TCGA-P5-A5EW' 'TCGA-HT-7607' 'TCGA-DU-7309'\n",
      " 'TCGA-P5-A737' 'TCGA-S9-A6WM' 'TCGA-FG-7636' 'TCGA-E1-5322'\n",
      " 'TCGA-TQ-A7RF' 'TCGA-DU-7010' 'TCGA-QH-A6CS' 'TCGA-HT-7476'\n",
      " 'TCGA-HT-7884' 'TCGA-DU-A7TC' 'TCGA-CS-6666' 'TCGA-HT-7610'\n",
      " 'TCGA-FG-A60K' 'TCGA-S9-A6U8' 'TCGA-HT-8563' 'TCGA-TQ-A7RH'\n",
      " 'TCGA-S9-A6U1' 'TCGA-DU-7301' 'TCGA-FG-6689' 'TCGA-HT-8013'\n",
      " 'TCGA-HT-A616' 'TCGA-DU-7008' 'TCGA-E1-A7YD' 'TCGA-E1-A7YK'\n",
      " 'TCGA-TM-A84Q' 'TCGA-WY-A858' 'TCGA-F6-A8O4' 'TCGA-R8-A6MK'\n",
      " 'TCGA-VM-A8CF' 'TCGA-FG-5965' 'TCGA-HT-7854' 'TCGA-RY-A847'\n",
      " 'TCGA-DU-5849' 'TCGA-FG-7637' 'TCGA-QH-A65R' 'TCGA-S9-A7R3'\n",
      " 'TCGA-P5-A735' 'TCGA-HT-A618' 'TCGA-E1-A7Z2' 'TCGA-TQ-A7RM'\n",
      " 'TCGA-HT-7694' 'TCGA-VM-A8C8' 'TCGA-HT-7616' 'TCGA-CS-5395'\n",
      " 'TCGA-S9-A7J3' 'TCGA-E1-5303' 'TCGA-CS-4944' 'TCGA-HT-7882'\n",
      " 'TCGA-DH-A7UT' 'TCGA-DB-A64O' 'TCGA-VW-A7QS' 'TCGA-QH-A870'\n",
      " 'TCGA-DU-A5TS' 'TCGA-P5-A731' 'TCGA-KT-A74X' 'TCGA-FG-A4MU'\n",
      " 'TCGA-E1-5311' 'TCGA-HT-7902' 'TCGA-DU-7290' 'TCGA-DB-5274'\n",
      " 'TCGA-FG-A60L' 'TCGA-P5-A781' 'TCGA-DB-A4XD' 'TCGA-DU-6393'\n",
      " 'TCGA-S9-A6U0' 'TCGA-DU-7298' 'TCGA-DU-7299' 'TCGA-DU-A7TG'\n",
      " 'TCGA-FG-A6J3' 'TCGA-DB-5279' 'TCGA-QH-A6X5' 'TCGA-CS-4938'\n",
      " 'TCGA-DU-5872' 'TCGA-DU-7007' 'TCGA-P5-A77X' 'TCGA-DU-7304'\n",
      " 'TCGA-DU-A6S3' 'TCGA-QH-A86X' 'TCGA-E1-5319' 'TCGA-HT-A5RC'\n",
      " 'TCGA-HT-8106' 'TCGA-S9-A6UA' 'TCGA-TM-A84S' 'TCGA-HT-7620'\n",
      " 'TCGA-DU-A7T6' 'TCGA-HT-7611' 'TCGA-DU-A6S8' 'TCGA-QH-A65V'\n",
      " 'TCGA-TM-A84B' 'TCGA-QH-A6CZ' 'TCGA-TM-A84G' 'TCGA-DU-8161'\n",
      " 'TCGA-HT-7477' 'TCGA-DU-6392' 'TCGA-CS-5393' 'TCGA-S9-A6WO'\n",
      " 'TCGA-S9-A7R4' 'TCGA-RY-A83X' 'TCGA-HT-7693' 'TCGA-HT-7467'\n",
      " 'TCGA-FG-8186' 'TCGA-HW-A5KK' 'TCGA-DB-A75O' 'TCGA-DB-A64W'\n",
      " 'TCGA-DB-A4XF' 'TCGA-FG-7638' 'TCGA-HT-A74K' 'TCGA-HT-8105'\n",
      " 'TCGA-S9-A6U6' 'TCGA-FG-A70Y' 'TCGA-F6-A8O3' 'TCGA-QH-A65Z'\n",
      " 'TCGA-DU-6397' 'TCGA-S9-A6TS' 'TCGA-DH-5142' 'TCGA-P5-A730'\n",
      " 'TCGA-TM-A84C' 'TCGA-TM-A84M' 'TCGA-TM-A84O' 'TCGA-S9-A7IX'\n",
      " 'TCGA-DU-A76L' 'TCGA-QH-A6X8' 'TCGA-HW-8319' 'TCGA-DB-A4XE'\n",
      " 'TCGA-VM-A8C9' 'TCGA-HT-7677' 'TCGA-DH-A7UU' 'TCGA-E1-A7Z6'\n",
      " 'TCGA-P5-A5F0' 'TCGA-DU-7019' 'TCGA-HT-7879' 'TCGA-DB-A64L'\n",
      " 'TCGA-HT-7469' 'TCGA-TM-A84F' 'TCGA-S9-A6TY' 'TCGA-RY-A83Y'\n",
      " 'TCGA-E1-A7YH' 'TCGA-DH-5141' 'TCGA-HT-A615' 'TCGA-HT-7676'\n",
      " 'TCGA-HT-7873' 'TCGA-HT-7473' 'TCGA-DU-6400' 'TCGA-HW-8322'\n",
      " 'TCGA-HT-7480' 'TCGA-DU-7006' 'TCGA-P5-A72W' 'TCGA-S9-A7R1'\n",
      " 'TCGA-HT-7684' 'TCGA-E1-A7YV' 'TCGA-P5-A5F1' 'TCGA-S9-A6WN'\n",
      " 'TCGA-DU-A7T8' 'TCGA-HW-7487' 'TCGA-DU-A7TJ' 'TCGA-DU-5855'\n",
      " 'TCGA-S9-A6TV' 'TCGA-DH-A66B' 'TCGA-HT-8104' 'TCGA-FG-A87Q'\n",
      " 'TCGA-P5-A733' 'TCGA-E1-A7Z4' 'TCGA-EZ-7264' 'TCGA-S9-A7QY'\n",
      " 'TCGA-DU-6396' 'TCGA-W9-A837' 'TCGA-FG-7641' 'TCGA-HT-7471'\n",
      " 'TCGA-HT-7470' 'TCGA-QH-A6CU' 'TCGA-HT-7485' 'TCGA-TQ-A7RW'\n",
      " 'TCGA-HT-7608' 'TCGA-R8-A73M' 'TCGA-HT-A74O' 'TCGA-HT-7468'\n",
      " 'TCGA-HT-7880' 'TCGA-HT-7858' 'TCGA-HT-A614' 'TCGA-HW-7491'\n",
      " 'TCGA-FG-5963' 'TCGA-DH-A7UV' 'TCGA-TQ-A7RG' 'TCGA-VM-A8CA'\n",
      " 'TCGA-HT-A61B' 'TCGA-E1-A7YU' 'TCGA-QH-A65X' 'TCGA-VM-A8CE'\n",
      " 'TCGA-TQ-A7RP' 'TCGA-E1-A7YL' 'TCGA-DU-8158' 'TCGA-HT-7692'\n",
      " 'TCGA-FG-7643' 'TCGA-DB-5273' 'TCGA-TQ-A7RV' 'TCGA-DU-A5TU'\n",
      " 'TCGA-DB-A75K' 'TCGA-TQ-A7RI' 'TCGA-FG-8185' 'TCGA-HT-8111'\n",
      " 'TCGA-TQ-A7RR' 'TCGA-TQ-A8XE' 'TCGA-HT-A617' 'TCGA-DB-A64V'\n",
      " 'TCGA-DU-8166' 'TCGA-TM-A7C4' 'TCGA-FG-7634' 'TCGA-QH-A6XA'\n",
      " 'TCGA-HT-7602' 'TCGA-S9-A6TU' 'TCGA-DH-A66G' 'TCGA-TQ-A7RQ'\n",
      " 'TCGA-HT-A74L' 'TCGA-HT-7475' 'TCGA-QH-A6X9' 'TCGA-IK-8125'\n",
      " 'TCGA-S9-A6WQ' 'TCGA-DH-5143' 'TCGA-DB-A64R' 'TCGA-DB-A64S'\n",
      " 'TCGA-P5-A5EX' 'TCGA-DU-7294' 'TCGA-E1-5305' 'TCGA-CS-6665'\n",
      " 'TCGA-HT-7601' 'TCGA-HT-8110' 'TCGA-TM-A84L' 'TCGA-14-1450'\n",
      " 'TCGA-12-0819' 'TCGA-32-1991' 'TCGA-76-6660' 'TCGA-76-6285'\n",
      " 'TCGA-74-6575' 'TCGA-81-5911' 'TCGA-28-5220' 'TCGA-06-0876'\n",
      " 'TCGA-14-0787' 'TCGA-06-0939' 'TCGA-06-0152' 'TCGA-32-1982'\n",
      " 'TCGA-32-2634' 'TCGA-76-4927' 'TCGA-19-5950' 'TCGA-06-1804'\n",
      " 'TCGA-19-2631' 'TCGA-12-3649' 'TCGA-14-1829' 'TCGA-27-1833'\n",
      " 'TCGA-76-6282' 'TCGA-06-6388' 'TCGA-32-1979' 'TCGA-32-5222'\n",
      " 'TCGA-02-0033' 'TCGA-14-1034' 'TCGA-12-0818' 'TCGA-27-1837'\n",
      " 'TCGA-12-0618' 'TCGA-28-2513' 'TCGA-06-5408' 'TCGA-76-6662'\n",
      " 'TCGA-12-3648' 'TCGA-81-5910' 'TCGA-15-0742' 'TCGA-06-5415'\n",
      " 'TCGA-12-1088' 'TCGA-19-A60I' 'TCGA-12-1092' 'TCGA-19-1790'\n",
      " 'TCGA-14-0812' 'TCGA-16-1460' 'TCGA-28-5204' 'TCGA-41-3915'\n",
      " 'TCGA-14-1451' 'TCGA-06-1084' 'TCGA-06-0125' 'TCGA-76-6656'\n",
      " 'TCGA-14-2554' 'TCGA-06-A7TK' 'TCGA-41-2571' 'TCGA-76-6661'\n",
      " 'TCGA-28-6450' 'TCGA-28-2509' 'TCGA-14-0862' 'TCGA-32-2632'\n",
      " 'TCGA-19-2624' 'TCGA-06-0686' 'TCGA-06-0750' 'TCGA-14-3476'\n",
      " 'TCGA-06-0209' 'TCGA-06-0132' 'TCGA-12-0656' 'TCGA-26-1799'\n",
      " 'TCGA-14-0871' 'TCGA-12-0657' 'TCGA-19-1786' 'TCGA-06-6390'\n",
      " 'TCGA-28-5219' 'TCGA-14-1455' 'TCGA-41-2575' 'TCGA-28-5216'\n",
      " 'TCGA-26-A7UX' 'TCGA-06-A5U0' 'TCGA-32-1980' 'TCGA-19-4068'\n",
      " 'TCGA-06-0744' 'TCGA-76-4935' 'TCGA-26-5133' 'TCGA-41-5651'\n",
      " 'TCGA-19-1787' 'TCGA-28-1745' 'TCGA-28-5213' 'TCGA-74-6577'\n",
      " 'TCGA-32-2638' 'TCGA-19-1791' 'TCGA-06-6693' 'TCGA-06-1087'\n",
      " 'TCGA-76-4928' 'TCGA-32-4210' 'TCGA-06-5412' 'TCGA-06-5417'\n",
      " 'TCGA-28-1752' 'TCGA-06-0747' 'TCGA-06-0169' 'TCGA-26-1442'\n",
      " 'TCGA-28-2499' 'TCGA-27-2518' 'TCGA-06-0216' 'TCGA-28-1750'\n",
      " 'TCGA-06-0137' 'TCGA-06-0184' 'TCGA-19-2620' 'TCGA-41-2573'\n",
      " 'TCGA-27-2524' 'TCGA-06-0190' 'TCGA-12-0773' 'TCGA-06-2563'\n",
      " 'TCGA-74-6573' 'TCGA-06-0185' 'TCGA-06-0140' 'TCGA-27-2528'\n",
      " 'TCGA-41-4097' 'TCGA-14-1823' 'TCGA-12-0619' 'TCGA-06-0219'\n",
      " 'TCGA-14-1456' 'TCGA-06-0192' 'TCGA-02-2486' 'TCGA-16-0861'\n",
      " 'TCGA-06-0875' 'TCGA-06-0879' 'TCGA-74-6581' 'TCGA-74-6578'\n",
      " 'TCGA-14-1396' 'TCGA-06-0195' 'TCGA-28-5218' 'TCGA-06-5416'\n",
      " 'TCGA-19-2623' 'TCGA-02-0003' 'TCGA-06-0189' 'TCGA-76-6286'\n",
      " 'TCGA-12-1597' 'TCGA-14-1453' 'TCGA-19-5960' 'TCGA-76-4929'\n",
      " 'TCGA-76-4925' 'TCGA-12-1600' 'TCGA-19-1789' 'TCGA-12-5301'\n",
      " 'TCGA-12-1598' 'TCGA-02-2470' 'TCGA-19-1385' 'TCGA-06-5858'\n",
      " 'TCGA-06-1806' 'TCGA-12-0688' 'TCGA-12-3652' 'TCGA-14-0813'\n",
      " 'TCGA-32-1970' 'TCGA-06-2570' 'TCGA-27-2527' 'TCGA-14-0740'\n",
      " 'TCGA-02-0055' 'TCGA-06-5418' 'TCGA-06-6701' 'TCGA-19-1390'\n",
      " 'TCGA-06-1800' 'TCGA-32-4213' 'TCGA-06-6694' 'TCGA-06-0122'\n",
      " 'TCGA-12-3651' 'TCGA-19-0957' 'TCGA-14-0817' 'TCGA-19-5958'\n",
      " 'TCGA-19-2625' 'TCGA-14-1825' 'TCGA-27-2521' 'TCGA-OX-A56R'\n",
      " 'TCGA-16-0849' 'TCGA-76-6657' 'TCGA-06-0158' 'TCGA-28-2501'\n",
      " 'TCGA-76-6280' 'TCGA-28-1747' 'TCGA-06-2559' 'TCGA-06-0878'\n",
      " 'TCGA-06-0166' 'TCGA-28-5208' 'TCGA-28-1749' 'TCGA-19-1387'\n",
      " 'TCGA-12-0615' 'TCGA-27-1830' 'TCGA-06-2561' 'TCGA-14-0786'\n",
      " 'TCGA-06-A5U1' 'TCGA-19-5951' 'TCGA-76-6191' 'TCGA-19-4065'\n",
      " 'TCGA-RR-A6KA' 'TCGA-06-0221' 'TCGA-28-2502' 'TCGA-06-5859'\n",
      " 'TCGA-06-6389' 'TCGA-32-2495' 'TCGA-06-0743' 'TCGA-12-0821'\n",
      " 'TCGA-28-1755' 'TCGA-32-4211' 'TCGA-06-2562' 'TCGA-32-4209'\n",
      " 'TCGA-41-3393' 'TCGA-76-4932' 'TCGA-12-0826' 'TCGA-27-2519'\n",
      " 'TCGA-RR-A6KB' 'TCGA-27-1831' 'TCGA-28-2510' 'TCGA-06-0644'\n",
      " 'TCGA-06-2569' 'TCGA-32-1977' 'TCGA-06-0187' 'TCGA-26-5136'\n",
      " 'TCGA-06-0882' 'TCGA-16-0850' 'TCGA-32-1976' 'TCGA-06-0877'\n",
      " 'TCGA-4W-AA9R' 'TCGA-06-2564' 'TCGA-19-1788' 'TCGA-12-0707'\n",
      " 'TCGA-06-0214' 'TCGA-14-0781' 'TCGA-4W-AA9T' 'TCGA-06-5856'\n",
      " 'TCGA-41-6646' 'TCGA-06-0145' 'TCGA-26-1439' 'TCGA-12-1093'\n",
      " 'TCGA-14-0736' 'TCGA-06-0745' 'TCGA-14-0789' 'TCGA-26-6173'\n",
      " 'TCGA-27-1838' 'TCGA-76-6663' 'TCGA-32-2494' 'TCGA-06-2567'\n",
      " 'TCGA-41-2572' 'TCGA-12-0775' 'TCGA-41-3392' 'TCGA-14-3477'\n",
      " 'TCGA-06-A6S1' 'TCGA-12-0692' 'TCGA-14-1795' 'TCGA-19-1386'\n",
      " 'TCGA-19-A6J5' 'TCGA-06-6699' 'TCGA-16-0848' 'TCGA-74-6584'\n",
      " 'TCGA-12-0820' 'TCGA-14-4157' 'TCGA-06-0130' 'TCGA-02-2485'\n",
      " 'TCGA-12-5299' 'TCGA-12-3646' 'TCGA-06-2558' 'TCGA-06-2565'\n",
      " 'TCGA-06-6391' 'TCGA-06-0238' 'TCGA-76-4926' 'TCGA-06-A7TL'\n",
      " 'TCGA-14-0790' 'TCGA-12-0616' 'TCGA-02-0047' 'TCGA-19-5955'\n",
      " 'TCGA-14-1827' 'TCGA-06-0157' 'TCGA-06-0168' 'TCGA-26-5135'\n",
      " 'TCGA-06-6698' 'TCGA-26-5134' 'TCGA-12-5295' 'TCGA-06-0154'\n",
      " 'TCGA-12-0691' 'TCGA-12-1602' 'TCGA-12-0670' 'TCGA-28-1757'\n",
      " 'TCGA-12-0829' 'TCGA-06-0749' 'TCGA-06-5413' 'TCGA-06-0646'\n",
      " 'TCGA-26-6174' 'TCGA-12-0662' 'TCGA-28-2514' 'TCGA-06-0650'\n",
      " 'TCGA-76-4931' 'TCGA-06-0649' 'TCGA-06-0241' 'TCGA-19-5956'\n",
      " 'TCGA-06-0173' 'TCGA-02-2466' 'TCGA-06-6697' 'TCGA-06-0129'\n",
      " 'TCGA-06-6695' 'TCGA-15-1446' 'TCGA-16-1048' 'TCGA-27-2526'\n",
      " 'TCGA-76-6192' 'TCGA-27-2523' 'TCGA-06-0119' 'TCGA-27-1835'\n",
      " 'TCGA-4W-AA9S' 'TCGA-19-2629' 'TCGA-RR-A6KC' 'TCGA-06-0237'\n",
      " 'TCGA-06-0211' 'TCGA-76-6283' 'TCGA-06-0188' 'TCGA-32-4208'\n",
      " 'TCGA-06-5414' 'TCGA-12-3644' 'TCGA-87-5896' 'TCGA-06-5410'\n",
      " 'TCGA-14-1821' 'TCGA-06-0126' 'TCGA-12-0827' 'TCGA-06-0210'\n",
      " 'TCGA-06-0213' 'TCGA-14-1037' 'TCGA-06-0645' 'TCGA-06-0171'\n",
      " 'TCGA-19-5954' 'TCGA-27-1836' 'TCGA-19-2621' 'TCGA-02-2483'\n",
      " 'TCGA-32-1986' 'TCGA-12-1599' 'TCGA-06-A6S0' 'TCGA-14-0865'\n",
      " 'TCGA-16-1045' 'TCGA-28-5209' 'TCGA-19-A6J4' 'TCGA-19-5947'\n",
      " 'TCGA-06-0155' 'TCGA-76-6664' 'TCGA-06-0124' 'TCGA-06-0151'\n",
      " 'TCGA-26-5139' 'TCGA-76-4934' 'TCGA-06-0141' 'TCGA-06-0881'\n",
      " 'TCGA-12-3653' 'TCGA-28-1751' 'TCGA-06-0648' 'TCGA-06-0174'\n",
      " 'TCGA-19-1389' 'TCGA-28-1753' 'TCGA-76-6193' 'TCGA-12-3650'\n",
      " 'TCGA-14-1395' 'TCGA-32-2616' 'TCGA-06-5411' 'TCGA-28-5215'\n",
      " 'TCGA-19-5953' 'TCGA-14-1043' 'TCGA-06-0128' 'TCGA-12-1089'\n",
      " 'TCGA-27-1834' 'TCGA-19-5959' 'TCGA-16-0846' 'TCGA-28-1746'\n",
      " 'TCGA-32-2491' 'TCGA-06-2557']\n",
      "['Male' 'Female' '--']\n",
      "['51 years 108 days' '38 years 261 days' '35 years 62 days'\n",
      " '32 years 283 days' '31 years 187 days' '33 years 78 days'\n",
      " '35 years 68 days' '44 years 239 days' '33 years 350 days' '87 years'\n",
      " '51 years 328 days' '54 years 95 days' '52 years 214 days'\n",
      " '47 years 123 days' '34 years 132 days' '40 years 192 days'\n",
      " '53 years 352 days' '41 years 70 days' '43 years 161 days'\n",
      " '37 years 159 days' '47 years 173 days' '31 years 8 days'\n",
      " '25 years 191 days' '66 years 305 days' '56 years 250 days'\n",
      " '35 years 362 days' '51 years 363 days' '37 years 32 days'\n",
      " '54 years 183 days' '32 years 76 days' '65 years 28 days'\n",
      " '43 years 131 days' '51 years 59 days' '43 years 221 days'\n",
      " '25 years 214 days' '45 years 24 days' '50 years 153 days'\n",
      " '27 years 166 days' '53 years 252 days' '46 years 144 days'\n",
      " '24 years 239 days' '--' '34 years 70 days' '29 years 198 days'\n",
      " '45 years 124 days' '62 years 90 days' '46 years 224 days'\n",
      " '36 years 247 days' '62 years 202 days' '70 years 159 days'\n",
      " '53 years 41 days' '48 years 124 days' '40 years 69 days'\n",
      " '40 years 7 days' '20 years 359 days' '57 years 200 days'\n",
      " '38 years 322 days' '52 years 192 days' '56 years 104 days'\n",
      " '59 years 275 days' '67 years 107 days' '48 years 346 days'\n",
      " '59 years 254 days' '58 years 147 days' '27 years 247 days'\n",
      " '51 years 230 days' '74 years 11 days' '52 years 230 days'\n",
      " '61 years 62 days' '66 years 146 days' '42 years 32 days'\n",
      " '31 years 344 days' '48 years 268 days' '33 years 340 days'\n",
      " '34 years 213 days' '24 years 54 days' '55 years 48 days'\n",
      " '27 years 323 days' '29 years 32 days' '39 years 131 days'\n",
      " '70 years 3 days' '30 years 338 days' '39 years 178 days'\n",
      " '25 years 41 days' '48 years 160 days' '57 years 17 days'\n",
      " '34 years 307 days' '58 years 137 days' '55 years 208 days'\n",
      " '60 years 49 days' '38 years 13 days' '56 years 113 days'\n",
      " '54 years 180 days' '31 years 152 days' '54 years 146 days'\n",
      " '52 years 241 days' '33 years 54 days' '42 years 173 days'\n",
      " '20 years 75 days' '64 years 106 days' '29 years 232 days'\n",
      " '36 years 222 days' '31 years 362 days' '36 years 67 days'\n",
      " '32 years 173 days' '38 years 292 days' '29 years 298 days'\n",
      " '41 years 76 days' '35 years 189 days' '33 years 39 days'\n",
      " '32 years 50 days' '49 years 276 days' '69 years 217 days'\n",
      " '14 years 154 days' '33 years 349 days' '47 years 92 days'\n",
      " '33 years 58 days' '63 years 364 days' '62 years 205 days'\n",
      " '37 years 83 days' '53 years 183 days' '53 years 74 days'\n",
      " '45 years 76 days' '33 years 331 days' '53 years 359 days'\n",
      " '52 years 156 days' '64 years 304 days' '71 years 70 days'\n",
      " '40 years 300 days' '36 years 354 days' '25 years 249 days'\n",
      " '63 years 170 days' '40 years 310 days' '47 years 215 days'\n",
      " '73 years 241 days' '24 years 51 days' '48 years 342 days'\n",
      " '41 years 325 days' '36 years 189 days' '45 years 334 days'\n",
      " '44 years 204 days' '27 years 6 days' '50 years 181 days'\n",
      " '42 years 141 days' '40 years 248 days' '62 years 192 days'\n",
      " '33 years 195 days' '46 years 42 days' '41 years 117 days'\n",
      " '47 years 333 days' '56 years 159 days' '38 years 64 days'\n",
      " '60 years 64 days' '29 years 150 days' '59 years 196 days'\n",
      " '44 years 66 days' '69 years 60 days' '63 years 253 days'\n",
      " '43 years 142 days' '61 years 316 days' '39 years 66 days'\n",
      " '31 years 315 days' '51 years 164 days' '41 years 203 days'\n",
      " '60 years 360 days' '74 years 158 days' '63 years 81 days'\n",
      " '66 years 170 days' '51 years 312 days' '39 years 62 days'\n",
      " '38 years 111 days' '37 years 92 days' '30 years 32 days'\n",
      " '54 years 143 days' '36 years 357 days' '48 years 197 days'\n",
      " '29 years 81 days' '32 years 135 days' '44 years 35 days'\n",
      " '30 years 329 days' '57 years 287 days' '19 years 55 days'\n",
      " '70 years 242 days' '63 years 67 days' '41 years 255 days'\n",
      " '29 years 291 days' '42 years 318 days' '51 years 172 days'\n",
      " '38 years 25 days' '28 years 344 days' '32 years 166 days'\n",
      " '26 years 43 days' '67 years 329 days' '40 years 326 days'\n",
      " '59 years 295 days' '58 years 16 days' '56 years 171 days'\n",
      " '20 years 276 days' '49 years 296 days' '37 years 31 days'\n",
      " '48 years 243 days' '71 years 227 days' '43 years 316 days'\n",
      " '27 years 309 days' '25 years 78 days' '30 years 126 days'\n",
      " '47 years 335 days' '31 years 262 days' '30 years 295 days'\n",
      " '30 years 276 days' '24 years 146 days' '41 years 66 days'\n",
      " '34 years 189 days' '56 years 155 days' '39 years 348 days'\n",
      " '23 years 3 days' '31 years 273 days' '17 years 271 days'\n",
      " '64 years 110 days' '27 years 221 days' '69 years 64 days'\n",
      " '37 years 51 days' '44 years 92 days' '25 years 97 days'\n",
      " '29 years 235 days' '26 years 209 days' '47 years 294 days'\n",
      " '39 years 252 days' '35 years 26 days' '33 years 287 days'\n",
      " '74 years 204 days' '50 years 167 days' '65 years 314 days'\n",
      " '60 years 116 days' '34 years 346 days' '44 years 229 days'\n",
      " '21 years 243 days' '55 years 87 days' '43 years 361 days'\n",
      " '36 years 49 days' '70 years 100 days' '23 years 352 days'\n",
      " '43 years 195 days' '30 years 264 days' '38 years 140 days'\n",
      " '34 years 188 days' '55 years 92 days' '30 years 238 days'\n",
      " '61 years 68 days' '44 years 344 days' '35 years 238 days'\n",
      " '68 years 129 days' '44 years 206 days' '38 years 89 days'\n",
      " '36 years 304 days' '52 years 32 days' '36 years 183 days'\n",
      " '33 years 176 days' '60 years 119 days' '44 years 90 days'\n",
      " '58 years 157 days' '33 years 364 days' '62 years 235 days'\n",
      " '44 years 226 days' '36 years 311 days' '29 years 132 days'\n",
      " '25 years 282 days' '20 years 307 days' '61 years 305 days'\n",
      " '41 years 222 days' '47 years 224 days' '59 years 212 days'\n",
      " '48 years 311 days' '38 years 24 days' '27 years 58 days'\n",
      " '58 years 15 days' '26 years 118 days' '44 years 209 days'\n",
      " '32 years 196 days' '22 years 305 days' '25 years 316 days'\n",
      " '34 years 27 days' '24 years 278 days' '30 years 348 days'\n",
      " '39 years 280 days' '22 years 236 days' '53 years 286 days'\n",
      " '30 years 355 days' '37 years 239 days' '36 years 73 days'\n",
      " '41 years 314 days' '57 years 201 days' '52 years 243 days'\n",
      " '31 years 346 days' '32 years 167 days' '44 years 131 days'\n",
      " '40 years 106 days' '44 years 263 days' '39 years 5 days'\n",
      " '62 years 93 days' '45 years 296 days' '48 years 131 days'\n",
      " '49 years 187 days' '38 years 194 days' '28 years 115 days'\n",
      " '38 years 273 days' '37 years 81 days' '41 years 179 days'\n",
      " '60 years 15 days' '50 years 232 days' '75 years 292 days'\n",
      " '43 years 143 days' '52 years 63 days' '38 years 333 days'\n",
      " '66 years 344 days' '30 years 57 days' '59 years 262 days'\n",
      " '35 years 37 days' '38 years 203 days' '42 years 310 days'\n",
      " '59 years 166 days' '26 years 94 days' '58 years 266 days'\n",
      " '31 years 10 days' '30 years 161 days' '45 years 231 days'\n",
      " '37 years 166 days' '34 years 162 days' '34 years 339 days'\n",
      " '32 years 53 days' '66 years 176 days' '46 years 89 days'\n",
      " '38 years 326 days' '33 years 213 days' '40 years 61 days'\n",
      " '52 years 145 days' '59 years 359 days' '58 years 55 days'\n",
      " '43 years 281 days' '33 years 192 days' '55 years 40 days'\n",
      " '43 years 226 days' '60 years 123 days' '33 years 332 days'\n",
      " '48 years 80 days' '70 years 205 days' '53 years 197 days'\n",
      " '66 years 136 days' '36 years 275 days' '40 years 49 days'\n",
      " '73 years 103 days' '36 years 165 days' '74 years 56 days'\n",
      " '43 years 145 days' '40 years 323 days' '38 years 128 days'\n",
      " '54 years 291 days' '63 years 54 days' '62 years 303 days'\n",
      " '35 years 53 days' '39 years 174 days' '29 years 341 days'\n",
      " '46 years 333 days' '46 years 110 days' '51 years 329 days'\n",
      " '54 years 221 days' '42 years 91 days' '64 years 108 days'\n",
      " '29 years 220 days' '65 years 195 days' '41 years 91 days'\n",
      " '31 years 206 days' '58 years 5 days' '54 years 318 days'\n",
      " '28 years 26 days' '20 years 116 days' '34 years 160 days'\n",
      " '54 years 198 days' '45 years 259 days' '48 years 325 days'\n",
      " '29 years 86 days' '22 years 8 days' '32 years 161 days'\n",
      " '40 years 50 days' '61 years 47 days' '57 years 276 days'\n",
      " '54 years 100 days' '56 years 317 days' '34 years 139 days'\n",
      " '27 years 289 days' '37 years 149 days' '43 years 332 days'\n",
      " '41 years 10 days' '33 years 104 days' '39 years 35 days'\n",
      " '31 years 300 days' '67 years 219 days' '30 years 140 days'\n",
      " '48 years 212 days' '50 years 302 days' '45 years 34 days'\n",
      " '47 years 299 days' '32 years 158 days' '26 years 171 days'\n",
      " '29 years 213 days' '28 years 79 days' '66 years 16 days'\n",
      " '39 years 304 days' '33 years 238 days' '60 years 75 days'\n",
      " '35 years 65 days' '35 years 45 days' '58 years 168 days'\n",
      " '26 years 50 days' '30 years 113 days' '38 years 82 days'\n",
      " '35 years 325 days' '39 years 291 days' '55 years 306 days'\n",
      " '49 years 337 days' '50 years 59 days' '52 years 163 days'\n",
      " '51 years 121 days' '61 years 285 days' '52 years 149 days'\n",
      " '35 years 66 days' '47 years 266 days' '35 years 70 days'\n",
      " '31 years 105 days' '31 years 35 days' '37 years 50 days'\n",
      " '37 years 97 days' '42 years 249 days' '32 years 116 days'\n",
      " '61 years 22 days' '48 years 78 days' '34 years 42 days'\n",
      " '30 years 252 days' '30 years 86 days' '28 years 195 days'\n",
      " '47 years 226 days' '35 years 91 days' '23 years 171 days'\n",
      " '49 years 264 days' '36 years 78 days' '54 years 268 days'\n",
      " '22 years 300 days' '42 years 5 days' '28 years 213 days'\n",
      " '25 years 232 days' '66 years 3 days' '46 years 181 days'\n",
      " '57 years 310 days' '43 years 22 days' '49 years 309 days'\n",
      " '33 years 99 days' '27 years 306 days' '62 years 166 days'\n",
      " '55 years 153 days' '37 years 285 days' '37 years 107 days'\n",
      " '32 years 122 days' '38 years 143 days' '42 years 289 days'\n",
      " '47 years 165 days' '54 years 227 days' '29 years 49 days'\n",
      " '39 years 359 days' '28 years 249 days' '23 years 108 days'\n",
      " '21 years 276 days' '38 years 229 days' '49 years 302 days'\n",
      " '38 years 308 days' '22 years 205 days' '67 years 215 days'\n",
      " '73 years 329 days' '62 years 100 days' '57 years 314 days'\n",
      " '30 years 334 days' '24 years 181 days' '20 years 84 days'\n",
      " '41 years 116 days' '53 years 258 days' '34 years 237 days'\n",
      " '51 years 350 days' '57 years 364 days' '31 years 176 days'\n",
      " '57 years 141 days' '49 years 263 days' '60 years 106 days'\n",
      " '73 years 250 days' '64 years 298 days' '73 years 164 days'\n",
      " '33 years 239 days' '67 years 151 days' '72 years 74 days'\n",
      " '69 years 124 days' '79 years 39 days' '68 years 7 days'\n",
      " '76 years 5 days' '82 years 14 days' '58 years 9 days'\n",
      " '52 years 251 days' '81 years 217 days' '74 years 172 days'\n",
      " '76 years 87 days' '57 years 110 days' '67 years 121 days'\n",
      " '63 years 313 days' '64 years 143 days' '69 years 50 days'\n",
      " '66 years 28 days' '54 years 347 days' '60 years 114 days'\n",
      " '45 years 230 days' '36 years 219 days' '49 years 174 days'\n",
      " '69 years 219 days' '54 years 340 days' '58 years 327 days'\n",
      " '61 years 183 days' '64 years 191 days' '65 years 309 days'\n",
      " '60 years 298 days' '53 years 309 days' '39 years 193 days'\n",
      " '58 years 227 days' '56 years 172 days' '65 years 344 days'\n",
      " '36 years 59 days' '72 years 192 days' '48 years 348 days'\n",
      " '39 years 157 days' '54 years 176 days' '63 years 333 days'\n",
      " '66 years 159 days' '52 years 97 days' '89 years 105 days'\n",
      " '54 years 242 days' '60 years 262 days' '77 years 116 days'\n",
      " '60 years 264 days' '80 years 61 days' '51 years 264 days'\n",
      " '53 years 145 days' '43 years 313 days' '74 years 144 days'\n",
      " '76 years 118 days' '49 years 228 days' '48 years 333 days'\n",
      " '68 years 334 days' '74 years 359 days' '69 years 211 days'\n",
      " '64 years 192 days' '58 years 144 days' '47 years 88 days'\n",
      " '61 years 282 days' '75 years 194 days' '52 years 246 days'\n",
      " '47 years 199 days' '21 years 288 days' '72 years 169 days'\n",
      " '68 years 108 days' '67 years' '52 years 238 days' '59 years 11 days'\n",
      " '59 years 149 days' '48 years 362 days' '76 years 58 days'\n",
      " '72 years 193 days' '51 years 113 days' '67 years 187 days'\n",
      " '82 years 115 days' '64 years 209 days' '75 years 265 days'\n",
      " '85 years 221 days' '73 years 105 days' '78 years 273 days'\n",
      " '45 years 136 days' '42 years 225 days' '53 years 299 days'\n",
      " '68 years 290 days' '43 years 245 days' '59 years 289 days'\n",
      " '52 years 137 days' '61 years 244 days' '40 years 207 days'\n",
      " '63 years 263 days' '63 years 307 days' '70 years 98 days'\n",
      " '59 years 362 days' '56 years 101 days' '62 years 190 days'\n",
      " '24 years 83 days' '72 years 345 days' '67 years 161 days'\n",
      " '54 years 200 days' '86 years 155 days' '62 years 222 days'\n",
      " '63 years 97 days' '58 years 200 days' '60 years 5 days'\n",
      " '67 years 17 days' '23 years 310 days' '58 years 59 days'\n",
      " '64 years 18 days' '65 years 37 days' '61 years 32 days'\n",
      " '52 years 161 days' '77 years 139 days' '58 years 280 days'\n",
      " '78 years 264 days' '63 years 122 days' '63 years 86 days'\n",
      " '23 years 133 days' '65 years 94 days' '50 years 79 days'\n",
      " '55 years 209 days' '60 years 258 days' '62 years 220 days'\n",
      " '69 years 95 days' '56 years 187 days' '76 years 72 days'\n",
      " '76 years 252 days' '86 years 8 days' '69 years 80 days'\n",
      " '59 years 219 days' '75 years 337 days' '57 years 202 days'\n",
      " '69 years 257 days' '45 years 226 days' '47 years 130 days'\n",
      " '74 years 57 days' '78 years 93 days' '59 years 64 days'\n",
      " '21 years 266 days' '81 years 34 days' '70 years 60 days'\n",
      " '62 years 153 days' '75 years 191 days' '60 years 136 days'\n",
      " '63 years 53 days' '61 years 52 days' '47 years 71 days'\n",
      " '76 years 150 days' '84 years 287 days' '77 years 153 days'\n",
      " '48 years 182 days' '69 years 223 days' '56 years 12 days'\n",
      " '76 years 171 days' '70 years 117 days' '34 years 267 days'\n",
      " '68 years 341 days' '54 years 216 days' '74 years 313 days'\n",
      " '73 years 193 days' '57 years 112 days' '44 years 230 days'\n",
      " '83 years 265 days' '74 years 291 days' '51 years 275 days'\n",
      " '52 years 60 days' '73 years 102 days' '81 years 307 days'\n",
      " '78 years 94 days' '57 years 312 days' '53 years 147 days'\n",
      " '50 years 330 days' '78 years 56 days' '76 years 236 days'\n",
      " '57 years 118 days' '36 years 108 days' '72 years 284 days'\n",
      " '31 years 11 days' '65 years 66 days' '63 years 201 days'\n",
      " '49 years 351 days' '59 years 311 days' '69 years 232 days'\n",
      " '62 years 304 days' '52 years 270 days' '56 years 294 days'\n",
      " '81 years 168 days' '40 years 293 days' '81 years 319 days'\n",
      " '50 years 171 days' '38 years 8 days' '48 years 183 days'\n",
      " '51 years 86 days' '66 years 341 days' '71 years 315 days'\n",
      " '24 years 156 days' '63 years 195 days' '69 years 116 days'\n",
      " '78 years 7 days' '30 years 155 days' '52 years 288 days'\n",
      " '65 years 57 days' '78 years 271 days' '61 years 37 days'\n",
      " '50 years 173 days' '39 years 57 days' '66 years 81 days'\n",
      " '49 years 6 days' '54 years 78 days' '58 years 48 days' '73 years 4 days'\n",
      " '53 years 303 days' '63 years 292 days' '66 years 191 days'\n",
      " '49 years 322 days' '59 years 335 days' '54 years 327 days'\n",
      " '57 years 274 days' '59 years 157 days' '44 years 55 days'\n",
      " '58 years 14 days' '65 years 18 days' '67 years 34 days'\n",
      " '75 years 172 days' '88 years 209 days' '53 years 85 days'\n",
      " '75 years 126 days' '66 years 269 days' '51 years 51 days'\n",
      " '40 years 360 days' '58 years 6 days' '57 years 29 days'\n",
      " '55 years 144 days' '40 years 268 days' '40 years 206 days'\n",
      " '54 years 89 days' '53 years 136 days' '56 years 9 days'\n",
      " '59 years 306 days' '75 years 118 days' '59 years 10 days'\n",
      " '44 years 135 days' '46 years 236 days' '68 years 248 days'\n",
      " '30 years 340 days' '36 years 302 days' '78 years 270 days'\n",
      " '83 years 235 days' '51 years 201 days' '63 years 118 days'\n",
      " '59 years 227 days' '53 years 233 days' '74 years 83 days'\n",
      " '60 years 246 days' '54 years 295 days' '63 years 9 days'\n",
      " '58 years 308 days' '60 years 274 days' '71 years 257 days'\n",
      " '75 years 78 days' '50 years 309 days' '67 years 6 days'\n",
      " '60 years 358 days' '65 years 143 days' '51 years 90 days'\n",
      " '45 years 301 days' '39 years 316 days' '70 years 245 days'\n",
      " '73 years 133 days' '65 years 360 days' '72 years 251 days'\n",
      " '61 years 177 days' '65 years 22 days' '30 years 327 days'\n",
      " '64 years 50 days' '55 years 267 days' '79 years 123 days'\n",
      " '74 years 294 days' '63 years 24 days' '81 years 21 days'\n",
      " '53 years 86 days' '69 years 343 days' '60 years 342 days'\n",
      " '55 years 214 days' '75 years 342 days' '47 years 349 days'\n",
      " '71 years 148 days' '25 years 82 days' '61 years 247 days'\n",
      " '47 years 302 days' '50 years 129 days' '72 years 97 days'\n",
      " '31 years 7 days' '86 years 216 days' '38 years 214 days'\n",
      " '72 years 302 days' '55 years 46 days' '66 years 320 days'\n",
      " '55 years 361 days' '72 years 57 days' '33 years 7 days'\n",
      " '83 years 114 days' '43 years 259 days' '68 years 224 days'\n",
      " '79 years 183 days' '67 years 326 days' '49 years 298 days'\n",
      " '66 years 256 days' '68 years 221 days' '47 years 52 days'\n",
      " '61 years 218 days' '49 years 157 days' '67 years 120 days'\n",
      " '32 years 268 days' '65 years 41 days' '66 years 213 days'\n",
      " '62 years 281 days' '50 years 16 days' '34 years 111 days'\n",
      " '61 years 11 days' '77 years 353 days' '54 years 101 days'\n",
      " '51 years 32 days' '53 years 8 days' '78 years 253 days'\n",
      " '46 years 337 days' '52 years 244 days' '48 years 249 days'\n",
      " '51 years 205 days' '62 years 41 days' '58 years 20 days'\n",
      " '61 years 112 days' '66 years 111 days' '64 years 43 days'\n",
      " '56 years 114 days' '77 years 325 days' '85 years 65 days'\n",
      " '77 years 178 days' '63 years 121 days' '76 years 221 days']\n",
      "['Oligodendroglioma, NOS' 'Mixed glioma' 'Astrocytoma, NOS'\n",
      " 'Astrocytoma, anaplastic' 'Oligodendroglioma, anaplastic' '--'\n",
      " 'Glioblastoma']\n",
      "['white' 'asian' 'black or african american' '--' 'not reported'\n",
      " 'american indian or alaska native']\n",
      "['MUTATED' 'NOT_MUTATED']\n",
      "['NOT_MUTATED' 'MUTATED']\n",
      "['NOT_MUTATED' 'MUTATED']\n",
      "['NOT_MUTATED' 'MUTATED']\n",
      "['NOT_MUTATED' 'MUTATED']\n",
      "['NOT_MUTATED' 'MUTATED']\n",
      "['NOT_MUTATED' 'MUTATED']\n",
      "['MUTATED' 'NOT_MUTATED']\n",
      "['NOT_MUTATED' 'MUTATED']\n",
      "['NOT_MUTATED' 'MUTATED']\n",
      "['MUTATED' 'NOT_MUTATED']\n",
      "['NOT_MUTATED' 'MUTATED']\n",
      "['NOT_MUTATED' 'MUTATED']\n",
      "['NOT_MUTATED' 'MUTATED']\n",
      "['NOT_MUTATED' 'MUTATED']\n",
      "['NOT_MUTATED' 'MUTATED']\n",
      "['NOT_MUTATED' 'MUTATED']\n",
      "['NOT_MUTATED' 'MUTATED']\n",
      "['NOT_MUTATED' 'MUTATED']\n",
      "['NOT_MUTATED' 'MUTATED']\n"
     ]
    }
   ],
   "source": [
    "for i in df.columns:\n",
    "    print(df[i].unique())"
   ]
  },
  {
   "cell_type": "code",
   "execution_count": 5,
   "metadata": {},
   "outputs": [],
   "source": [
    "# Replacing categorical variables with binary\n",
    "df.replace({'MUTATED': 1, 'NOT_MUTATED': 0, 'Female': 1, 'Male': 0, 'LGG': 0, 'GBM': 1}, inplace=True)"
   ]
  },
  {
   "cell_type": "code",
   "execution_count": 6,
   "metadata": {},
   "outputs": [],
   "source": [
    "# Removing rows with not identified variables\n",
    "df = df[ (df['Gender'] != '--') & (df['Race'] != 'not reported')]"
   ]
  },
  {
   "cell_type": "code",
   "execution_count": 7,
   "metadata": {},
   "outputs": [
    {
     "name": "stderr",
     "output_type": "stream",
     "text": [
      "/var/folders/8h/5vn4hvg944bdrjx5nw7kvn740000gn/T/ipykernel_23491/4293169099.py:2: SettingWithCopyWarning: \n",
      "A value is trying to be set on a copy of a slice from a DataFrame\n",
      "\n",
      "See the caveats in the documentation: https://pandas.pydata.org/pandas-docs/stable/user_guide/indexing.html#returning-a-view-versus-a-copy\n",
      "  df.drop(columns=(['Case_ID', 'Project', 'Primary_Diagnosis']), inplace=True)\n"
     ]
    }
   ],
   "source": [
    "# Dropping unnessecary columns\n",
    "df.drop(columns=(['Case_ID', 'Project', 'Primary_Diagnosis']), inplace=True)"
   ]
  },
  {
   "cell_type": "code",
   "execution_count": 8,
   "metadata": {},
   "outputs": [
    {
     "data": {
      "text/html": [
       "<div>\n",
       "<style scoped>\n",
       "    .dataframe tbody tr th:only-of-type {\n",
       "        vertical-align: middle;\n",
       "    }\n",
       "\n",
       "    .dataframe tbody tr th {\n",
       "        vertical-align: top;\n",
       "    }\n",
       "\n",
       "    .dataframe thead th {\n",
       "        text-align: right;\n",
       "    }\n",
       "</style>\n",
       "<table border=\"1\" class=\"dataframe\">\n",
       "  <thead>\n",
       "    <tr style=\"text-align: right;\">\n",
       "      <th></th>\n",
       "      <th>Grade</th>\n",
       "      <th>Gender</th>\n",
       "      <th>Age_at_diagnosis</th>\n",
       "      <th>IDH1</th>\n",
       "      <th>TP53</th>\n",
       "      <th>ATRX</th>\n",
       "      <th>PTEN</th>\n",
       "      <th>EGFR</th>\n",
       "      <th>CIC</th>\n",
       "      <th>MUC16</th>\n",
       "      <th>...</th>\n",
       "      <th>CSMD3</th>\n",
       "      <th>SMARCA4</th>\n",
       "      <th>GRIN2A</th>\n",
       "      <th>IDH2</th>\n",
       "      <th>FAT4</th>\n",
       "      <th>PDGFRA</th>\n",
       "      <th>Race_american indian or alaska native</th>\n",
       "      <th>Race_asian</th>\n",
       "      <th>Race_black or african american</th>\n",
       "      <th>Race_white</th>\n",
       "    </tr>\n",
       "  </thead>\n",
       "  <tbody>\n",
       "    <tr>\n",
       "      <th>0</th>\n",
       "      <td>0</td>\n",
       "      <td>0</td>\n",
       "      <td>51 years 108 days</td>\n",
       "      <td>1</td>\n",
       "      <td>0</td>\n",
       "      <td>0</td>\n",
       "      <td>0</td>\n",
       "      <td>0</td>\n",
       "      <td>0</td>\n",
       "      <td>0</td>\n",
       "      <td>...</td>\n",
       "      <td>0</td>\n",
       "      <td>0</td>\n",
       "      <td>0</td>\n",
       "      <td>0</td>\n",
       "      <td>0</td>\n",
       "      <td>0</td>\n",
       "      <td>0</td>\n",
       "      <td>0</td>\n",
       "      <td>0</td>\n",
       "      <td>1</td>\n",
       "    </tr>\n",
       "    <tr>\n",
       "      <th>1</th>\n",
       "      <td>0</td>\n",
       "      <td>0</td>\n",
       "      <td>38 years 261 days</td>\n",
       "      <td>1</td>\n",
       "      <td>0</td>\n",
       "      <td>0</td>\n",
       "      <td>0</td>\n",
       "      <td>0</td>\n",
       "      <td>1</td>\n",
       "      <td>0</td>\n",
       "      <td>...</td>\n",
       "      <td>0</td>\n",
       "      <td>0</td>\n",
       "      <td>0</td>\n",
       "      <td>0</td>\n",
       "      <td>0</td>\n",
       "      <td>0</td>\n",
       "      <td>0</td>\n",
       "      <td>0</td>\n",
       "      <td>0</td>\n",
       "      <td>1</td>\n",
       "    </tr>\n",
       "    <tr>\n",
       "      <th>2</th>\n",
       "      <td>0</td>\n",
       "      <td>0</td>\n",
       "      <td>35 years 62 days</td>\n",
       "      <td>1</td>\n",
       "      <td>1</td>\n",
       "      <td>1</td>\n",
       "      <td>0</td>\n",
       "      <td>0</td>\n",
       "      <td>0</td>\n",
       "      <td>0</td>\n",
       "      <td>...</td>\n",
       "      <td>0</td>\n",
       "      <td>0</td>\n",
       "      <td>0</td>\n",
       "      <td>0</td>\n",
       "      <td>0</td>\n",
       "      <td>0</td>\n",
       "      <td>0</td>\n",
       "      <td>0</td>\n",
       "      <td>0</td>\n",
       "      <td>1</td>\n",
       "    </tr>\n",
       "    <tr>\n",
       "      <th>3</th>\n",
       "      <td>0</td>\n",
       "      <td>1</td>\n",
       "      <td>32 years 283 days</td>\n",
       "      <td>1</td>\n",
       "      <td>1</td>\n",
       "      <td>1</td>\n",
       "      <td>0</td>\n",
       "      <td>0</td>\n",
       "      <td>0</td>\n",
       "      <td>1</td>\n",
       "      <td>...</td>\n",
       "      <td>0</td>\n",
       "      <td>0</td>\n",
       "      <td>0</td>\n",
       "      <td>0</td>\n",
       "      <td>1</td>\n",
       "      <td>0</td>\n",
       "      <td>0</td>\n",
       "      <td>0</td>\n",
       "      <td>0</td>\n",
       "      <td>1</td>\n",
       "    </tr>\n",
       "    <tr>\n",
       "      <th>4</th>\n",
       "      <td>0</td>\n",
       "      <td>0</td>\n",
       "      <td>31 years 187 days</td>\n",
       "      <td>1</td>\n",
       "      <td>1</td>\n",
       "      <td>1</td>\n",
       "      <td>0</td>\n",
       "      <td>0</td>\n",
       "      <td>0</td>\n",
       "      <td>0</td>\n",
       "      <td>...</td>\n",
       "      <td>0</td>\n",
       "      <td>0</td>\n",
       "      <td>0</td>\n",
       "      <td>0</td>\n",
       "      <td>0</td>\n",
       "      <td>0</td>\n",
       "      <td>0</td>\n",
       "      <td>0</td>\n",
       "      <td>0</td>\n",
       "      <td>1</td>\n",
       "    </tr>\n",
       "    <tr>\n",
       "      <th>...</th>\n",
       "      <td>...</td>\n",
       "      <td>...</td>\n",
       "      <td>...</td>\n",
       "      <td>...</td>\n",
       "      <td>...</td>\n",
       "      <td>...</td>\n",
       "      <td>...</td>\n",
       "      <td>...</td>\n",
       "      <td>...</td>\n",
       "      <td>...</td>\n",
       "      <td>...</td>\n",
       "      <td>...</td>\n",
       "      <td>...</td>\n",
       "      <td>...</td>\n",
       "      <td>...</td>\n",
       "      <td>...</td>\n",
       "      <td>...</td>\n",
       "      <td>...</td>\n",
       "      <td>...</td>\n",
       "      <td>...</td>\n",
       "      <td>...</td>\n",
       "    </tr>\n",
       "    <tr>\n",
       "      <th>857</th>\n",
       "      <td>1</td>\n",
       "      <td>1</td>\n",
       "      <td>77 years 325 days</td>\n",
       "      <td>0</td>\n",
       "      <td>0</td>\n",
       "      <td>0</td>\n",
       "      <td>1</td>\n",
       "      <td>0</td>\n",
       "      <td>0</td>\n",
       "      <td>0</td>\n",
       "      <td>...</td>\n",
       "      <td>0</td>\n",
       "      <td>0</td>\n",
       "      <td>0</td>\n",
       "      <td>0</td>\n",
       "      <td>0</td>\n",
       "      <td>0</td>\n",
       "      <td>0</td>\n",
       "      <td>0</td>\n",
       "      <td>0</td>\n",
       "      <td>1</td>\n",
       "    </tr>\n",
       "    <tr>\n",
       "      <th>858</th>\n",
       "      <td>1</td>\n",
       "      <td>0</td>\n",
       "      <td>85 years 65 days</td>\n",
       "      <td>0</td>\n",
       "      <td>1</td>\n",
       "      <td>0</td>\n",
       "      <td>1</td>\n",
       "      <td>0</td>\n",
       "      <td>0</td>\n",
       "      <td>0</td>\n",
       "      <td>...</td>\n",
       "      <td>0</td>\n",
       "      <td>0</td>\n",
       "      <td>0</td>\n",
       "      <td>0</td>\n",
       "      <td>0</td>\n",
       "      <td>0</td>\n",
       "      <td>0</td>\n",
       "      <td>0</td>\n",
       "      <td>0</td>\n",
       "      <td>1</td>\n",
       "    </tr>\n",
       "    <tr>\n",
       "      <th>859</th>\n",
       "      <td>1</td>\n",
       "      <td>1</td>\n",
       "      <td>77 years 178 days</td>\n",
       "      <td>0</td>\n",
       "      <td>1</td>\n",
       "      <td>0</td>\n",
       "      <td>1</td>\n",
       "      <td>0</td>\n",
       "      <td>0</td>\n",
       "      <td>0</td>\n",
       "      <td>...</td>\n",
       "      <td>0</td>\n",
       "      <td>0</td>\n",
       "      <td>0</td>\n",
       "      <td>0</td>\n",
       "      <td>0</td>\n",
       "      <td>0</td>\n",
       "      <td>0</td>\n",
       "      <td>0</td>\n",
       "      <td>0</td>\n",
       "      <td>1</td>\n",
       "    </tr>\n",
       "    <tr>\n",
       "      <th>860</th>\n",
       "      <td>1</td>\n",
       "      <td>0</td>\n",
       "      <td>63 years 121 days</td>\n",
       "      <td>0</td>\n",
       "      <td>1</td>\n",
       "      <td>0</td>\n",
       "      <td>0</td>\n",
       "      <td>0</td>\n",
       "      <td>0</td>\n",
       "      <td>1</td>\n",
       "      <td>...</td>\n",
       "      <td>0</td>\n",
       "      <td>0</td>\n",
       "      <td>0</td>\n",
       "      <td>0</td>\n",
       "      <td>0</td>\n",
       "      <td>0</td>\n",
       "      <td>0</td>\n",
       "      <td>0</td>\n",
       "      <td>0</td>\n",
       "      <td>1</td>\n",
       "    </tr>\n",
       "    <tr>\n",
       "      <th>861</th>\n",
       "      <td>1</td>\n",
       "      <td>0</td>\n",
       "      <td>76 years 221 days</td>\n",
       "      <td>0</td>\n",
       "      <td>0</td>\n",
       "      <td>0</td>\n",
       "      <td>0</td>\n",
       "      <td>0</td>\n",
       "      <td>0</td>\n",
       "      <td>0</td>\n",
       "      <td>...</td>\n",
       "      <td>0</td>\n",
       "      <td>0</td>\n",
       "      <td>0</td>\n",
       "      <td>0</td>\n",
       "      <td>0</td>\n",
       "      <td>0</td>\n",
       "      <td>0</td>\n",
       "      <td>0</td>\n",
       "      <td>1</td>\n",
       "      <td>0</td>\n",
       "    </tr>\n",
       "  </tbody>\n",
       "</table>\n",
       "<p>840 rows × 27 columns</p>\n",
       "</div>"
      ],
      "text/plain": [
       "     Grade Gender   Age_at_diagnosis  IDH1  TP53  ATRX  PTEN  EGFR  CIC  \\\n",
       "0        0      0  51 years 108 days     1     0     0     0     0    0   \n",
       "1        0      0  38 years 261 days     1     0     0     0     0    1   \n",
       "2        0      0   35 years 62 days     1     1     1     0     0    0   \n",
       "3        0      1  32 years 283 days     1     1     1     0     0    0   \n",
       "4        0      0  31 years 187 days     1     1     1     0     0    0   \n",
       "..     ...    ...                ...   ...   ...   ...   ...   ...  ...   \n",
       "857      1      1  77 years 325 days     0     0     0     1     0    0   \n",
       "858      1      0   85 years 65 days     0     1     0     1     0    0   \n",
       "859      1      1  77 years 178 days     0     1     0     1     0    0   \n",
       "860      1      0  63 years 121 days     0     1     0     0     0    0   \n",
       "861      1      0  76 years 221 days     0     0     0     0     0    0   \n",
       "\n",
       "     MUC16  ...  CSMD3  SMARCA4  GRIN2A  IDH2  FAT4  PDGFRA  \\\n",
       "0        0  ...      0        0       0     0     0       0   \n",
       "1        0  ...      0        0       0     0     0       0   \n",
       "2        0  ...      0        0       0     0     0       0   \n",
       "3        1  ...      0        0       0     0     1       0   \n",
       "4        0  ...      0        0       0     0     0       0   \n",
       "..     ...  ...    ...      ...     ...   ...   ...     ...   \n",
       "857      0  ...      0        0       0     0     0       0   \n",
       "858      0  ...      0        0       0     0     0       0   \n",
       "859      0  ...      0        0       0     0     0       0   \n",
       "860      1  ...      0        0       0     0     0       0   \n",
       "861      0  ...      0        0       0     0     0       0   \n",
       "\n",
       "     Race_american indian or alaska native  Race_asian  \\\n",
       "0                                        0           0   \n",
       "1                                        0           0   \n",
       "2                                        0           0   \n",
       "3                                        0           0   \n",
       "4                                        0           0   \n",
       "..                                     ...         ...   \n",
       "857                                      0           0   \n",
       "858                                      0           0   \n",
       "859                                      0           0   \n",
       "860                                      0           0   \n",
       "861                                      0           0   \n",
       "\n",
       "     Race_black or african american  Race_white  \n",
       "0                                 0           1  \n",
       "1                                 0           1  \n",
       "2                                 0           1  \n",
       "3                                 0           1  \n",
       "4                                 0           1  \n",
       "..                              ...         ...  \n",
       "857                               0           1  \n",
       "858                               0           1  \n",
       "859                               0           1  \n",
       "860                               0           1  \n",
       "861                               1           0  \n",
       "\n",
       "[840 rows x 27 columns]"
      ]
     },
     "execution_count": 8,
     "metadata": {},
     "output_type": "execute_result"
    }
   ],
   "source": [
    "# One hot encoding for race column\n",
    "df = pd.concat([df, pd.get_dummies(df['Race'], prefix='Race')], axis=1)\n",
    "df.drop(columns=['Race'], inplace=True)\n",
    "df\n"
   ]
  },
  {
   "cell_type": "code",
   "execution_count": 9,
   "metadata": {},
   "outputs": [],
   "source": [
    "# Converting column 'Age_at_diagnosis' to numerical data\n",
    "data = []\n",
    "years = pd.DataFrame(data)"
   ]
  },
  {
   "cell_type": "code",
   "execution_count": 10,
   "metadata": {},
   "outputs": [
    {
     "data": {
      "text/html": [
       "<div>\n",
       "<style scoped>\n",
       "    .dataframe tbody tr th:only-of-type {\n",
       "        vertical-align: middle;\n",
       "    }\n",
       "\n",
       "    .dataframe tbody tr th {\n",
       "        vertical-align: top;\n",
       "    }\n",
       "\n",
       "    .dataframe thead th {\n",
       "        text-align: right;\n",
       "    }\n",
       "</style>\n",
       "<table border=\"1\" class=\"dataframe\">\n",
       "  <thead>\n",
       "    <tr style=\"text-align: right;\">\n",
       "      <th></th>\n",
       "      <th>Grade</th>\n",
       "      <th>Gender</th>\n",
       "      <th>Age_at_diagnosis</th>\n",
       "      <th>IDH1</th>\n",
       "      <th>TP53</th>\n",
       "      <th>ATRX</th>\n",
       "      <th>PTEN</th>\n",
       "      <th>EGFR</th>\n",
       "      <th>CIC</th>\n",
       "      <th>MUC16</th>\n",
       "      <th>...</th>\n",
       "      <th>CSMD3</th>\n",
       "      <th>SMARCA4</th>\n",
       "      <th>GRIN2A</th>\n",
       "      <th>IDH2</th>\n",
       "      <th>FAT4</th>\n",
       "      <th>PDGFRA</th>\n",
       "      <th>Race_american indian or alaska native</th>\n",
       "      <th>Race_asian</th>\n",
       "      <th>Race_black or african american</th>\n",
       "      <th>Race_white</th>\n",
       "    </tr>\n",
       "  </thead>\n",
       "  <tbody>\n",
       "    <tr>\n",
       "      <th>0</th>\n",
       "      <td>0</td>\n",
       "      <td>0</td>\n",
       "      <td>51.30</td>\n",
       "      <td>1</td>\n",
       "      <td>0</td>\n",
       "      <td>0</td>\n",
       "      <td>0</td>\n",
       "      <td>0</td>\n",
       "      <td>0</td>\n",
       "      <td>0</td>\n",
       "      <td>...</td>\n",
       "      <td>0</td>\n",
       "      <td>0</td>\n",
       "      <td>0</td>\n",
       "      <td>0</td>\n",
       "      <td>0</td>\n",
       "      <td>0</td>\n",
       "      <td>0</td>\n",
       "      <td>0</td>\n",
       "      <td>0</td>\n",
       "      <td>1</td>\n",
       "    </tr>\n",
       "    <tr>\n",
       "      <th>1</th>\n",
       "      <td>0</td>\n",
       "      <td>0</td>\n",
       "      <td>38.72</td>\n",
       "      <td>1</td>\n",
       "      <td>0</td>\n",
       "      <td>0</td>\n",
       "      <td>0</td>\n",
       "      <td>0</td>\n",
       "      <td>1</td>\n",
       "      <td>0</td>\n",
       "      <td>...</td>\n",
       "      <td>0</td>\n",
       "      <td>0</td>\n",
       "      <td>0</td>\n",
       "      <td>0</td>\n",
       "      <td>0</td>\n",
       "      <td>0</td>\n",
       "      <td>0</td>\n",
       "      <td>0</td>\n",
       "      <td>0</td>\n",
       "      <td>1</td>\n",
       "    </tr>\n",
       "    <tr>\n",
       "      <th>2</th>\n",
       "      <td>0</td>\n",
       "      <td>0</td>\n",
       "      <td>35.17</td>\n",
       "      <td>1</td>\n",
       "      <td>1</td>\n",
       "      <td>1</td>\n",
       "      <td>0</td>\n",
       "      <td>0</td>\n",
       "      <td>0</td>\n",
       "      <td>0</td>\n",
       "      <td>...</td>\n",
       "      <td>0</td>\n",
       "      <td>0</td>\n",
       "      <td>0</td>\n",
       "      <td>0</td>\n",
       "      <td>0</td>\n",
       "      <td>0</td>\n",
       "      <td>0</td>\n",
       "      <td>0</td>\n",
       "      <td>0</td>\n",
       "      <td>1</td>\n",
       "    </tr>\n",
       "    <tr>\n",
       "      <th>3</th>\n",
       "      <td>0</td>\n",
       "      <td>1</td>\n",
       "      <td>32.78</td>\n",
       "      <td>1</td>\n",
       "      <td>1</td>\n",
       "      <td>1</td>\n",
       "      <td>0</td>\n",
       "      <td>0</td>\n",
       "      <td>0</td>\n",
       "      <td>1</td>\n",
       "      <td>...</td>\n",
       "      <td>0</td>\n",
       "      <td>0</td>\n",
       "      <td>0</td>\n",
       "      <td>0</td>\n",
       "      <td>1</td>\n",
       "      <td>0</td>\n",
       "      <td>0</td>\n",
       "      <td>0</td>\n",
       "      <td>0</td>\n",
       "      <td>1</td>\n",
       "    </tr>\n",
       "    <tr>\n",
       "      <th>4</th>\n",
       "      <td>0</td>\n",
       "      <td>0</td>\n",
       "      <td>31.51</td>\n",
       "      <td>1</td>\n",
       "      <td>1</td>\n",
       "      <td>1</td>\n",
       "      <td>0</td>\n",
       "      <td>0</td>\n",
       "      <td>0</td>\n",
       "      <td>0</td>\n",
       "      <td>...</td>\n",
       "      <td>0</td>\n",
       "      <td>0</td>\n",
       "      <td>0</td>\n",
       "      <td>0</td>\n",
       "      <td>0</td>\n",
       "      <td>0</td>\n",
       "      <td>0</td>\n",
       "      <td>0</td>\n",
       "      <td>0</td>\n",
       "      <td>1</td>\n",
       "    </tr>\n",
       "    <tr>\n",
       "      <th>...</th>\n",
       "      <td>...</td>\n",
       "      <td>...</td>\n",
       "      <td>...</td>\n",
       "      <td>...</td>\n",
       "      <td>...</td>\n",
       "      <td>...</td>\n",
       "      <td>...</td>\n",
       "      <td>...</td>\n",
       "      <td>...</td>\n",
       "      <td>...</td>\n",
       "      <td>...</td>\n",
       "      <td>...</td>\n",
       "      <td>...</td>\n",
       "      <td>...</td>\n",
       "      <td>...</td>\n",
       "      <td>...</td>\n",
       "      <td>...</td>\n",
       "      <td>...</td>\n",
       "      <td>...</td>\n",
       "      <td>...</td>\n",
       "      <td>...</td>\n",
       "    </tr>\n",
       "    <tr>\n",
       "      <th>857</th>\n",
       "      <td>1</td>\n",
       "      <td>1</td>\n",
       "      <td>77.89</td>\n",
       "      <td>0</td>\n",
       "      <td>0</td>\n",
       "      <td>0</td>\n",
       "      <td>1</td>\n",
       "      <td>0</td>\n",
       "      <td>0</td>\n",
       "      <td>0</td>\n",
       "      <td>...</td>\n",
       "      <td>0</td>\n",
       "      <td>0</td>\n",
       "      <td>0</td>\n",
       "      <td>0</td>\n",
       "      <td>0</td>\n",
       "      <td>0</td>\n",
       "      <td>0</td>\n",
       "      <td>0</td>\n",
       "      <td>0</td>\n",
       "      <td>1</td>\n",
       "    </tr>\n",
       "    <tr>\n",
       "      <th>858</th>\n",
       "      <td>1</td>\n",
       "      <td>0</td>\n",
       "      <td>85.18</td>\n",
       "      <td>0</td>\n",
       "      <td>1</td>\n",
       "      <td>0</td>\n",
       "      <td>1</td>\n",
       "      <td>0</td>\n",
       "      <td>0</td>\n",
       "      <td>0</td>\n",
       "      <td>...</td>\n",
       "      <td>0</td>\n",
       "      <td>0</td>\n",
       "      <td>0</td>\n",
       "      <td>0</td>\n",
       "      <td>0</td>\n",
       "      <td>0</td>\n",
       "      <td>0</td>\n",
       "      <td>0</td>\n",
       "      <td>0</td>\n",
       "      <td>1</td>\n",
       "    </tr>\n",
       "    <tr>\n",
       "      <th>859</th>\n",
       "      <td>1</td>\n",
       "      <td>1</td>\n",
       "      <td>77.49</td>\n",
       "      <td>0</td>\n",
       "      <td>1</td>\n",
       "      <td>0</td>\n",
       "      <td>1</td>\n",
       "      <td>0</td>\n",
       "      <td>0</td>\n",
       "      <td>0</td>\n",
       "      <td>...</td>\n",
       "      <td>0</td>\n",
       "      <td>0</td>\n",
       "      <td>0</td>\n",
       "      <td>0</td>\n",
       "      <td>0</td>\n",
       "      <td>0</td>\n",
       "      <td>0</td>\n",
       "      <td>0</td>\n",
       "      <td>0</td>\n",
       "      <td>1</td>\n",
       "    </tr>\n",
       "    <tr>\n",
       "      <th>860</th>\n",
       "      <td>1</td>\n",
       "      <td>0</td>\n",
       "      <td>63.33</td>\n",
       "      <td>0</td>\n",
       "      <td>1</td>\n",
       "      <td>0</td>\n",
       "      <td>0</td>\n",
       "      <td>0</td>\n",
       "      <td>0</td>\n",
       "      <td>1</td>\n",
       "      <td>...</td>\n",
       "      <td>0</td>\n",
       "      <td>0</td>\n",
       "      <td>0</td>\n",
       "      <td>0</td>\n",
       "      <td>0</td>\n",
       "      <td>0</td>\n",
       "      <td>0</td>\n",
       "      <td>0</td>\n",
       "      <td>0</td>\n",
       "      <td>1</td>\n",
       "    </tr>\n",
       "    <tr>\n",
       "      <th>861</th>\n",
       "      <td>1</td>\n",
       "      <td>0</td>\n",
       "      <td>76.61</td>\n",
       "      <td>0</td>\n",
       "      <td>0</td>\n",
       "      <td>0</td>\n",
       "      <td>0</td>\n",
       "      <td>0</td>\n",
       "      <td>0</td>\n",
       "      <td>0</td>\n",
       "      <td>...</td>\n",
       "      <td>0</td>\n",
       "      <td>0</td>\n",
       "      <td>0</td>\n",
       "      <td>0</td>\n",
       "      <td>0</td>\n",
       "      <td>0</td>\n",
       "      <td>0</td>\n",
       "      <td>0</td>\n",
       "      <td>1</td>\n",
       "      <td>0</td>\n",
       "    </tr>\n",
       "  </tbody>\n",
       "</table>\n",
       "<p>840 rows × 27 columns</p>\n",
       "</div>"
      ],
      "text/plain": [
       "     Grade Gender  Age_at_diagnosis  IDH1  TP53  ATRX  PTEN  EGFR  CIC  MUC16  \\\n",
       "0        0      0             51.30     1     0     0     0     0    0      0   \n",
       "1        0      0             38.72     1     0     0     0     0    1      0   \n",
       "2        0      0             35.17     1     1     1     0     0    0      0   \n",
       "3        0      1             32.78     1     1     1     0     0    0      1   \n",
       "4        0      0             31.51     1     1     1     0     0    0      0   \n",
       "..     ...    ...               ...   ...   ...   ...   ...   ...  ...    ...   \n",
       "857      1      1             77.89     0     0     0     1     0    0      0   \n",
       "858      1      0             85.18     0     1     0     1     0    0      0   \n",
       "859      1      1             77.49     0     1     0     1     0    0      0   \n",
       "860      1      0             63.33     0     1     0     0     0    0      1   \n",
       "861      1      0             76.61     0     0     0     0     0    0      0   \n",
       "\n",
       "     ...  CSMD3  SMARCA4  GRIN2A  IDH2  FAT4  PDGFRA  \\\n",
       "0    ...      0        0       0     0     0       0   \n",
       "1    ...      0        0       0     0     0       0   \n",
       "2    ...      0        0       0     0     0       0   \n",
       "3    ...      0        0       0     0     1       0   \n",
       "4    ...      0        0       0     0     0       0   \n",
       "..   ...    ...      ...     ...   ...   ...     ...   \n",
       "857  ...      0        0       0     0     0       0   \n",
       "858  ...      0        0       0     0     0       0   \n",
       "859  ...      0        0       0     0     0       0   \n",
       "860  ...      0        0       0     0     0       0   \n",
       "861  ...      0        0       0     0     0       0   \n",
       "\n",
       "     Race_american indian or alaska native  Race_asian  \\\n",
       "0                                        0           0   \n",
       "1                                        0           0   \n",
       "2                                        0           0   \n",
       "3                                        0           0   \n",
       "4                                        0           0   \n",
       "..                                     ...         ...   \n",
       "857                                      0           0   \n",
       "858                                      0           0   \n",
       "859                                      0           0   \n",
       "860                                      0           0   \n",
       "861                                      0           0   \n",
       "\n",
       "     Race_black or african american  Race_white  \n",
       "0                                 0           1  \n",
       "1                                 0           1  \n",
       "2                                 0           1  \n",
       "3                                 0           1  \n",
       "4                                 0           1  \n",
       "..                              ...         ...  \n",
       "857                               0           1  \n",
       "858                               0           1  \n",
       "859                               0           1  \n",
       "860                               0           1  \n",
       "861                               1           0  \n",
       "\n",
       "[840 rows x 27 columns]"
      ]
     },
     "execution_count": 10,
     "metadata": {},
     "output_type": "execute_result"
    }
   ],
   "source": [
    "# Creating new dataframe where Age column is split by ' ', unnecessary columns are deleted, years and days are added together\n",
    "years = df['Age_at_diagnosis'].str.split(' ', expand=True)\n",
    "years.drop(columns=[1, 3], inplace=True)\n",
    "years[2] = pd.to_numeric(years[2], errors='coerce')\n",
    "years[0] = pd.to_numeric(years[0], errors='coerce')\n",
    "years[2] = round(years[2] / 365, 2)\n",
    "years[0] = years[0] + years[2]\n",
    "# Old column is replaced with a new one\n",
    "df['Age_at_diagnosis'] = years[0]\n",
    "df"
   ]
  },
  {
   "cell_type": "code",
   "execution_count": 11,
   "metadata": {},
   "outputs": [
    {
     "data": {
      "text/html": [
       "<div>\n",
       "<style scoped>\n",
       "    .dataframe tbody tr th:only-of-type {\n",
       "        vertical-align: middle;\n",
       "    }\n",
       "\n",
       "    .dataframe tbody tr th {\n",
       "        vertical-align: top;\n",
       "    }\n",
       "\n",
       "    .dataframe thead th {\n",
       "        text-align: right;\n",
       "    }\n",
       "</style>\n",
       "<table border=\"1\" class=\"dataframe\">\n",
       "  <thead>\n",
       "    <tr style=\"text-align: right;\">\n",
       "      <th></th>\n",
       "      <th>Grade</th>\n",
       "      <th>Age</th>\n",
       "      <th>IDH1</th>\n",
       "      <th>TP53</th>\n",
       "      <th>ATRX</th>\n",
       "      <th>PTEN</th>\n",
       "      <th>EGFR</th>\n",
       "      <th>CIC</th>\n",
       "      <th>MUC16</th>\n",
       "      <th>PIK3CA</th>\n",
       "      <th>...</th>\n",
       "      <th>CSMD3</th>\n",
       "      <th>SMARCA4</th>\n",
       "      <th>GRIN2A</th>\n",
       "      <th>IDH2</th>\n",
       "      <th>FAT4</th>\n",
       "      <th>PDGFRA</th>\n",
       "      <th>Race_american indian or alaska native</th>\n",
       "      <th>Race_asian</th>\n",
       "      <th>Race_black or african american</th>\n",
       "      <th>Race_white</th>\n",
       "    </tr>\n",
       "  </thead>\n",
       "  <tbody>\n",
       "    <tr>\n",
       "      <th>count</th>\n",
       "      <td>840.000000</td>\n",
       "      <td>840.000000</td>\n",
       "      <td>840.000000</td>\n",
       "      <td>840.000000</td>\n",
       "      <td>840.000000</td>\n",
       "      <td>840.000000</td>\n",
       "      <td>840.000000</td>\n",
       "      <td>840.000000</td>\n",
       "      <td>840.000000</td>\n",
       "      <td>840.000000</td>\n",
       "      <td>...</td>\n",
       "      <td>840.000000</td>\n",
       "      <td>840.000000</td>\n",
       "      <td>840.000000</td>\n",
       "      <td>840.000000</td>\n",
       "      <td>840.000000</td>\n",
       "      <td>840.000000</td>\n",
       "      <td>840.000000</td>\n",
       "      <td>840.000000</td>\n",
       "      <td>840.000000</td>\n",
       "      <td>840.000000</td>\n",
       "    </tr>\n",
       "    <tr>\n",
       "      <th>mean</th>\n",
       "      <td>0.419048</td>\n",
       "      <td>50.873130</td>\n",
       "      <td>0.482143</td>\n",
       "      <td>0.414286</td>\n",
       "      <td>0.258333</td>\n",
       "      <td>0.167857</td>\n",
       "      <td>0.133333</td>\n",
       "      <td>0.132143</td>\n",
       "      <td>0.116667</td>\n",
       "      <td>0.086905</td>\n",
       "      <td>...</td>\n",
       "      <td>0.032143</td>\n",
       "      <td>0.032143</td>\n",
       "      <td>0.032143</td>\n",
       "      <td>0.027381</td>\n",
       "      <td>0.027381</td>\n",
       "      <td>0.026190</td>\n",
       "      <td>0.001190</td>\n",
       "      <td>0.016667</td>\n",
       "      <td>0.070238</td>\n",
       "      <td>0.911905</td>\n",
       "    </tr>\n",
       "    <tr>\n",
       "      <th>std</th>\n",
       "      <td>0.493697</td>\n",
       "      <td>15.633549</td>\n",
       "      <td>0.499979</td>\n",
       "      <td>0.492892</td>\n",
       "      <td>0.437979</td>\n",
       "      <td>0.373962</td>\n",
       "      <td>0.340137</td>\n",
       "      <td>0.338848</td>\n",
       "      <td>0.321214</td>\n",
       "      <td>0.281863</td>\n",
       "      <td>...</td>\n",
       "      <td>0.176484</td>\n",
       "      <td>0.176484</td>\n",
       "      <td>0.176484</td>\n",
       "      <td>0.163288</td>\n",
       "      <td>0.163288</td>\n",
       "      <td>0.159797</td>\n",
       "      <td>0.034503</td>\n",
       "      <td>0.128095</td>\n",
       "      <td>0.255700</td>\n",
       "      <td>0.283602</td>\n",
       "    </tr>\n",
       "    <tr>\n",
       "      <th>min</th>\n",
       "      <td>0.000000</td>\n",
       "      <td>14.420000</td>\n",
       "      <td>0.000000</td>\n",
       "      <td>0.000000</td>\n",
       "      <td>0.000000</td>\n",
       "      <td>0.000000</td>\n",
       "      <td>0.000000</td>\n",
       "      <td>0.000000</td>\n",
       "      <td>0.000000</td>\n",
       "      <td>0.000000</td>\n",
       "      <td>...</td>\n",
       "      <td>0.000000</td>\n",
       "      <td>0.000000</td>\n",
       "      <td>0.000000</td>\n",
       "      <td>0.000000</td>\n",
       "      <td>0.000000</td>\n",
       "      <td>0.000000</td>\n",
       "      <td>0.000000</td>\n",
       "      <td>0.000000</td>\n",
       "      <td>0.000000</td>\n",
       "      <td>0.000000</td>\n",
       "    </tr>\n",
       "    <tr>\n",
       "      <th>25%</th>\n",
       "      <td>0.000000</td>\n",
       "      <td>38.062500</td>\n",
       "      <td>0.000000</td>\n",
       "      <td>0.000000</td>\n",
       "      <td>0.000000</td>\n",
       "      <td>0.000000</td>\n",
       "      <td>0.000000</td>\n",
       "      <td>0.000000</td>\n",
       "      <td>0.000000</td>\n",
       "      <td>0.000000</td>\n",
       "      <td>...</td>\n",
       "      <td>0.000000</td>\n",
       "      <td>0.000000</td>\n",
       "      <td>0.000000</td>\n",
       "      <td>0.000000</td>\n",
       "      <td>0.000000</td>\n",
       "      <td>0.000000</td>\n",
       "      <td>0.000000</td>\n",
       "      <td>0.000000</td>\n",
       "      <td>0.000000</td>\n",
       "      <td>1.000000</td>\n",
       "    </tr>\n",
       "    <tr>\n",
       "      <th>50%</th>\n",
       "      <td>0.000000</td>\n",
       "      <td>51.390000</td>\n",
       "      <td>0.000000</td>\n",
       "      <td>0.000000</td>\n",
       "      <td>0.000000</td>\n",
       "      <td>0.000000</td>\n",
       "      <td>0.000000</td>\n",
       "      <td>0.000000</td>\n",
       "      <td>0.000000</td>\n",
       "      <td>0.000000</td>\n",
       "      <td>...</td>\n",
       "      <td>0.000000</td>\n",
       "      <td>0.000000</td>\n",
       "      <td>0.000000</td>\n",
       "      <td>0.000000</td>\n",
       "      <td>0.000000</td>\n",
       "      <td>0.000000</td>\n",
       "      <td>0.000000</td>\n",
       "      <td>0.000000</td>\n",
       "      <td>0.000000</td>\n",
       "      <td>1.000000</td>\n",
       "    </tr>\n",
       "    <tr>\n",
       "      <th>75%</th>\n",
       "      <td>1.000000</td>\n",
       "      <td>62.617500</td>\n",
       "      <td>1.000000</td>\n",
       "      <td>1.000000</td>\n",
       "      <td>1.000000</td>\n",
       "      <td>0.000000</td>\n",
       "      <td>0.000000</td>\n",
       "      <td>0.000000</td>\n",
       "      <td>0.000000</td>\n",
       "      <td>0.000000</td>\n",
       "      <td>...</td>\n",
       "      <td>0.000000</td>\n",
       "      <td>0.000000</td>\n",
       "      <td>0.000000</td>\n",
       "      <td>0.000000</td>\n",
       "      <td>0.000000</td>\n",
       "      <td>0.000000</td>\n",
       "      <td>0.000000</td>\n",
       "      <td>0.000000</td>\n",
       "      <td>0.000000</td>\n",
       "      <td>1.000000</td>\n",
       "    </tr>\n",
       "    <tr>\n",
       "      <th>max</th>\n",
       "      <td>1.000000</td>\n",
       "      <td>89.290000</td>\n",
       "      <td>1.000000</td>\n",
       "      <td>1.000000</td>\n",
       "      <td>1.000000</td>\n",
       "      <td>1.000000</td>\n",
       "      <td>1.000000</td>\n",
       "      <td>1.000000</td>\n",
       "      <td>1.000000</td>\n",
       "      <td>1.000000</td>\n",
       "      <td>...</td>\n",
       "      <td>1.000000</td>\n",
       "      <td>1.000000</td>\n",
       "      <td>1.000000</td>\n",
       "      <td>1.000000</td>\n",
       "      <td>1.000000</td>\n",
       "      <td>1.000000</td>\n",
       "      <td>1.000000</td>\n",
       "      <td>1.000000</td>\n",
       "      <td>1.000000</td>\n",
       "      <td>1.000000</td>\n",
       "    </tr>\n",
       "  </tbody>\n",
       "</table>\n",
       "<p>8 rows × 26 columns</p>\n",
       "</div>"
      ],
      "text/plain": [
       "            Grade         Age        IDH1        TP53        ATRX        PTEN  \\\n",
       "count  840.000000  840.000000  840.000000  840.000000  840.000000  840.000000   \n",
       "mean     0.419048   50.873130    0.482143    0.414286    0.258333    0.167857   \n",
       "std      0.493697   15.633549    0.499979    0.492892    0.437979    0.373962   \n",
       "min      0.000000   14.420000    0.000000    0.000000    0.000000    0.000000   \n",
       "25%      0.000000   38.062500    0.000000    0.000000    0.000000    0.000000   \n",
       "50%      0.000000   51.390000    0.000000    0.000000    0.000000    0.000000   \n",
       "75%      1.000000   62.617500    1.000000    1.000000    1.000000    0.000000   \n",
       "max      1.000000   89.290000    1.000000    1.000000    1.000000    1.000000   \n",
       "\n",
       "             EGFR         CIC       MUC16      PIK3CA  ...       CSMD3  \\\n",
       "count  840.000000  840.000000  840.000000  840.000000  ...  840.000000   \n",
       "mean     0.133333    0.132143    0.116667    0.086905  ...    0.032143   \n",
       "std      0.340137    0.338848    0.321214    0.281863  ...    0.176484   \n",
       "min      0.000000    0.000000    0.000000    0.000000  ...    0.000000   \n",
       "25%      0.000000    0.000000    0.000000    0.000000  ...    0.000000   \n",
       "50%      0.000000    0.000000    0.000000    0.000000  ...    0.000000   \n",
       "75%      0.000000    0.000000    0.000000    0.000000  ...    0.000000   \n",
       "max      1.000000    1.000000    1.000000    1.000000  ...    1.000000   \n",
       "\n",
       "          SMARCA4      GRIN2A        IDH2        FAT4      PDGFRA  \\\n",
       "count  840.000000  840.000000  840.000000  840.000000  840.000000   \n",
       "mean     0.032143    0.032143    0.027381    0.027381    0.026190   \n",
       "std      0.176484    0.176484    0.163288    0.163288    0.159797   \n",
       "min      0.000000    0.000000    0.000000    0.000000    0.000000   \n",
       "25%      0.000000    0.000000    0.000000    0.000000    0.000000   \n",
       "50%      0.000000    0.000000    0.000000    0.000000    0.000000   \n",
       "75%      0.000000    0.000000    0.000000    0.000000    0.000000   \n",
       "max      1.000000    1.000000    1.000000    1.000000    1.000000   \n",
       "\n",
       "       Race_american indian or alaska native  Race_asian  \\\n",
       "count                             840.000000  840.000000   \n",
       "mean                                0.001190    0.016667   \n",
       "std                                 0.034503    0.128095   \n",
       "min                                 0.000000    0.000000   \n",
       "25%                                 0.000000    0.000000   \n",
       "50%                                 0.000000    0.000000   \n",
       "75%                                 0.000000    0.000000   \n",
       "max                                 1.000000    1.000000   \n",
       "\n",
       "       Race_black or african american  Race_white  \n",
       "count                      840.000000  840.000000  \n",
       "mean                         0.070238    0.911905  \n",
       "std                          0.255700    0.283602  \n",
       "min                          0.000000    0.000000  \n",
       "25%                          0.000000    1.000000  \n",
       "50%                          0.000000    1.000000  \n",
       "75%                          0.000000    1.000000  \n",
       "max                          1.000000    1.000000  \n",
       "\n",
       "[8 rows x 26 columns]"
      ]
     },
     "execution_count": 11,
     "metadata": {},
     "output_type": "execute_result"
    }
   ],
   "source": [
    "# Imputing missing age values w mean and not median bc boxplot shows no outliers\n",
    "df.rename(columns={'Age_at_diagnosis': 'Age'}, inplace=True)\n",
    "df['Age'].fillna(df['Age'].mean(), inplace=True)\n",
    "df.describe()"
   ]
  },
  {
   "cell_type": "code",
   "execution_count": 12,
   "metadata": {},
   "outputs": [
    {
     "data": {
      "text/html": [
       "<div>\n",
       "<style scoped>\n",
       "    .dataframe tbody tr th:only-of-type {\n",
       "        vertical-align: middle;\n",
       "    }\n",
       "\n",
       "    .dataframe tbody tr th {\n",
       "        vertical-align: top;\n",
       "    }\n",
       "\n",
       "    .dataframe thead th {\n",
       "        text-align: right;\n",
       "    }\n",
       "</style>\n",
       "<table border=\"1\" class=\"dataframe\">\n",
       "  <thead>\n",
       "    <tr style=\"text-align: right;\">\n",
       "      <th></th>\n",
       "      <th>Grade</th>\n",
       "      <th>Gender</th>\n",
       "      <th>Age</th>\n",
       "      <th>IDH1</th>\n",
       "      <th>TP53</th>\n",
       "      <th>ATRX</th>\n",
       "      <th>PTEN</th>\n",
       "      <th>EGFR</th>\n",
       "      <th>CIC</th>\n",
       "      <th>MUC16</th>\n",
       "      <th>...</th>\n",
       "      <th>CSMD3</th>\n",
       "      <th>SMARCA4</th>\n",
       "      <th>GRIN2A</th>\n",
       "      <th>IDH2</th>\n",
       "      <th>FAT4</th>\n",
       "      <th>PDGFRA</th>\n",
       "      <th>Race_american indian or alaska native</th>\n",
       "      <th>Race_asian</th>\n",
       "      <th>Race_black or african american</th>\n",
       "      <th>Race_white</th>\n",
       "    </tr>\n",
       "  </thead>\n",
       "  <tbody>\n",
       "    <tr>\n",
       "      <th>0</th>\n",
       "      <td>0</td>\n",
       "      <td>0</td>\n",
       "      <td>0.027305</td>\n",
       "      <td>1</td>\n",
       "      <td>0</td>\n",
       "      <td>0</td>\n",
       "      <td>0</td>\n",
       "      <td>0</td>\n",
       "      <td>0</td>\n",
       "      <td>0</td>\n",
       "      <td>...</td>\n",
       "      <td>0</td>\n",
       "      <td>0</td>\n",
       "      <td>0</td>\n",
       "      <td>0</td>\n",
       "      <td>0</td>\n",
       "      <td>0</td>\n",
       "      <td>0</td>\n",
       "      <td>0</td>\n",
       "      <td>0</td>\n",
       "      <td>1</td>\n",
       "    </tr>\n",
       "    <tr>\n",
       "      <th>1</th>\n",
       "      <td>0</td>\n",
       "      <td>0</td>\n",
       "      <td>-0.777375</td>\n",
       "      <td>1</td>\n",
       "      <td>0</td>\n",
       "      <td>0</td>\n",
       "      <td>0</td>\n",
       "      <td>0</td>\n",
       "      <td>1</td>\n",
       "      <td>0</td>\n",
       "      <td>...</td>\n",
       "      <td>0</td>\n",
       "      <td>0</td>\n",
       "      <td>0</td>\n",
       "      <td>0</td>\n",
       "      <td>0</td>\n",
       "      <td>0</td>\n",
       "      <td>0</td>\n",
       "      <td>0</td>\n",
       "      <td>0</td>\n",
       "      <td>1</td>\n",
       "    </tr>\n",
       "    <tr>\n",
       "      <th>2</th>\n",
       "      <td>0</td>\n",
       "      <td>0</td>\n",
       "      <td>-1.004451</td>\n",
       "      <td>1</td>\n",
       "      <td>1</td>\n",
       "      <td>1</td>\n",
       "      <td>0</td>\n",
       "      <td>0</td>\n",
       "      <td>0</td>\n",
       "      <td>0</td>\n",
       "      <td>...</td>\n",
       "      <td>0</td>\n",
       "      <td>0</td>\n",
       "      <td>0</td>\n",
       "      <td>0</td>\n",
       "      <td>0</td>\n",
       "      <td>0</td>\n",
       "      <td>0</td>\n",
       "      <td>0</td>\n",
       "      <td>0</td>\n",
       "      <td>1</td>\n",
       "    </tr>\n",
       "    <tr>\n",
       "      <th>3</th>\n",
       "      <td>0</td>\n",
       "      <td>1</td>\n",
       "      <td>-1.157327</td>\n",
       "      <td>1</td>\n",
       "      <td>1</td>\n",
       "      <td>1</td>\n",
       "      <td>0</td>\n",
       "      <td>0</td>\n",
       "      <td>0</td>\n",
       "      <td>1</td>\n",
       "      <td>...</td>\n",
       "      <td>0</td>\n",
       "      <td>0</td>\n",
       "      <td>0</td>\n",
       "      <td>0</td>\n",
       "      <td>1</td>\n",
       "      <td>0</td>\n",
       "      <td>0</td>\n",
       "      <td>0</td>\n",
       "      <td>0</td>\n",
       "      <td>1</td>\n",
       "    </tr>\n",
       "    <tr>\n",
       "      <th>4</th>\n",
       "      <td>0</td>\n",
       "      <td>0</td>\n",
       "      <td>-1.238563</td>\n",
       "      <td>1</td>\n",
       "      <td>1</td>\n",
       "      <td>1</td>\n",
       "      <td>0</td>\n",
       "      <td>0</td>\n",
       "      <td>0</td>\n",
       "      <td>0</td>\n",
       "      <td>...</td>\n",
       "      <td>0</td>\n",
       "      <td>0</td>\n",
       "      <td>0</td>\n",
       "      <td>0</td>\n",
       "      <td>0</td>\n",
       "      <td>0</td>\n",
       "      <td>0</td>\n",
       "      <td>0</td>\n",
       "      <td>0</td>\n",
       "      <td>1</td>\n",
       "    </tr>\n",
       "    <tr>\n",
       "      <th>...</th>\n",
       "      <td>...</td>\n",
       "      <td>...</td>\n",
       "      <td>...</td>\n",
       "      <td>...</td>\n",
       "      <td>...</td>\n",
       "      <td>...</td>\n",
       "      <td>...</td>\n",
       "      <td>...</td>\n",
       "      <td>...</td>\n",
       "      <td>...</td>\n",
       "      <td>...</td>\n",
       "      <td>...</td>\n",
       "      <td>...</td>\n",
       "      <td>...</td>\n",
       "      <td>...</td>\n",
       "      <td>...</td>\n",
       "      <td>...</td>\n",
       "      <td>...</td>\n",
       "      <td>...</td>\n",
       "      <td>...</td>\n",
       "      <td>...</td>\n",
       "    </tr>\n",
       "    <tr>\n",
       "      <th>857</th>\n",
       "      <td>1</td>\n",
       "      <td>1</td>\n",
       "      <td>1.728134</td>\n",
       "      <td>0</td>\n",
       "      <td>0</td>\n",
       "      <td>0</td>\n",
       "      <td>1</td>\n",
       "      <td>0</td>\n",
       "      <td>0</td>\n",
       "      <td>0</td>\n",
       "      <td>...</td>\n",
       "      <td>0</td>\n",
       "      <td>0</td>\n",
       "      <td>0</td>\n",
       "      <td>0</td>\n",
       "      <td>0</td>\n",
       "      <td>0</td>\n",
       "      <td>0</td>\n",
       "      <td>0</td>\n",
       "      <td>0</td>\n",
       "      <td>1</td>\n",
       "    </tr>\n",
       "    <tr>\n",
       "      <th>858</th>\n",
       "      <td>1</td>\n",
       "      <td>0</td>\n",
       "      <td>2.194439</td>\n",
       "      <td>0</td>\n",
       "      <td>1</td>\n",
       "      <td>0</td>\n",
       "      <td>1</td>\n",
       "      <td>0</td>\n",
       "      <td>0</td>\n",
       "      <td>0</td>\n",
       "      <td>...</td>\n",
       "      <td>0</td>\n",
       "      <td>0</td>\n",
       "      <td>0</td>\n",
       "      <td>0</td>\n",
       "      <td>0</td>\n",
       "      <td>0</td>\n",
       "      <td>0</td>\n",
       "      <td>0</td>\n",
       "      <td>0</td>\n",
       "      <td>1</td>\n",
       "    </tr>\n",
       "    <tr>\n",
       "      <th>859</th>\n",
       "      <td>1</td>\n",
       "      <td>1</td>\n",
       "      <td>1.702548</td>\n",
       "      <td>0</td>\n",
       "      <td>1</td>\n",
       "      <td>0</td>\n",
       "      <td>1</td>\n",
       "      <td>0</td>\n",
       "      <td>0</td>\n",
       "      <td>0</td>\n",
       "      <td>...</td>\n",
       "      <td>0</td>\n",
       "      <td>0</td>\n",
       "      <td>0</td>\n",
       "      <td>0</td>\n",
       "      <td>0</td>\n",
       "      <td>0</td>\n",
       "      <td>0</td>\n",
       "      <td>0</td>\n",
       "      <td>0</td>\n",
       "      <td>1</td>\n",
       "    </tr>\n",
       "    <tr>\n",
       "      <th>860</th>\n",
       "      <td>1</td>\n",
       "      <td>0</td>\n",
       "      <td>0.796804</td>\n",
       "      <td>0</td>\n",
       "      <td>1</td>\n",
       "      <td>0</td>\n",
       "      <td>0</td>\n",
       "      <td>0</td>\n",
       "      <td>0</td>\n",
       "      <td>1</td>\n",
       "      <td>...</td>\n",
       "      <td>0</td>\n",
       "      <td>0</td>\n",
       "      <td>0</td>\n",
       "      <td>0</td>\n",
       "      <td>0</td>\n",
       "      <td>0</td>\n",
       "      <td>0</td>\n",
       "      <td>0</td>\n",
       "      <td>0</td>\n",
       "      <td>1</td>\n",
       "    </tr>\n",
       "    <tr>\n",
       "      <th>861</th>\n",
       "      <td>1</td>\n",
       "      <td>0</td>\n",
       "      <td>1.646259</td>\n",
       "      <td>0</td>\n",
       "      <td>0</td>\n",
       "      <td>0</td>\n",
       "      <td>0</td>\n",
       "      <td>0</td>\n",
       "      <td>0</td>\n",
       "      <td>0</td>\n",
       "      <td>...</td>\n",
       "      <td>0</td>\n",
       "      <td>0</td>\n",
       "      <td>0</td>\n",
       "      <td>0</td>\n",
       "      <td>0</td>\n",
       "      <td>0</td>\n",
       "      <td>0</td>\n",
       "      <td>0</td>\n",
       "      <td>1</td>\n",
       "      <td>0</td>\n",
       "    </tr>\n",
       "  </tbody>\n",
       "</table>\n",
       "<p>840 rows × 27 columns</p>\n",
       "</div>"
      ],
      "text/plain": [
       "     Grade Gender       Age  IDH1  TP53  ATRX  PTEN  EGFR  CIC  MUC16  ...  \\\n",
       "0        0      0  0.027305     1     0     0     0     0    0      0  ...   \n",
       "1        0      0 -0.777375     1     0     0     0     0    1      0  ...   \n",
       "2        0      0 -1.004451     1     1     1     0     0    0      0  ...   \n",
       "3        0      1 -1.157327     1     1     1     0     0    0      1  ...   \n",
       "4        0      0 -1.238563     1     1     1     0     0    0      0  ...   \n",
       "..     ...    ...       ...   ...   ...   ...   ...   ...  ...    ...  ...   \n",
       "857      1      1  1.728134     0     0     0     1     0    0      0  ...   \n",
       "858      1      0  2.194439     0     1     0     1     0    0      0  ...   \n",
       "859      1      1  1.702548     0     1     0     1     0    0      0  ...   \n",
       "860      1      0  0.796804     0     1     0     0     0    0      1  ...   \n",
       "861      1      0  1.646259     0     0     0     0     0    0      0  ...   \n",
       "\n",
       "     CSMD3  SMARCA4  GRIN2A  IDH2  FAT4  PDGFRA  \\\n",
       "0        0        0       0     0     0       0   \n",
       "1        0        0       0     0     0       0   \n",
       "2        0        0       0     0     0       0   \n",
       "3        0        0       0     0     1       0   \n",
       "4        0        0       0     0     0       0   \n",
       "..     ...      ...     ...   ...   ...     ...   \n",
       "857      0        0       0     0     0       0   \n",
       "858      0        0       0     0     0       0   \n",
       "859      0        0       0     0     0       0   \n",
       "860      0        0       0     0     0       0   \n",
       "861      0        0       0     0     0       0   \n",
       "\n",
       "     Race_american indian or alaska native  Race_asian  \\\n",
       "0                                        0           0   \n",
       "1                                        0           0   \n",
       "2                                        0           0   \n",
       "3                                        0           0   \n",
       "4                                        0           0   \n",
       "..                                     ...         ...   \n",
       "857                                      0           0   \n",
       "858                                      0           0   \n",
       "859                                      0           0   \n",
       "860                                      0           0   \n",
       "861                                      0           0   \n",
       "\n",
       "     Race_black or african american  Race_white  \n",
       "0                                 0           1  \n",
       "1                                 0           1  \n",
       "2                                 0           1  \n",
       "3                                 0           1  \n",
       "4                                 0           1  \n",
       "..                              ...         ...  \n",
       "857                               0           1  \n",
       "858                               0           1  \n",
       "859                               0           1  \n",
       "860                               0           1  \n",
       "861                               1           0  \n",
       "\n",
       "[840 rows x 27 columns]"
      ]
     },
     "execution_count": 12,
     "metadata": {},
     "output_type": "execute_result"
    }
   ],
   "source": [
    "#normalizing age\n",
    "df['Age'] = (df['Age'] - df['Age'].mean()) / df['Age'].std()\n",
    "df"
   ]
  },
  {
   "cell_type": "code",
   "execution_count": 13,
   "metadata": {},
   "outputs": [
    {
     "data": {
      "text/html": [
       "<div>\n",
       "<style scoped>\n",
       "    .dataframe tbody tr th:only-of-type {\n",
       "        vertical-align: middle;\n",
       "    }\n",
       "\n",
       "    .dataframe tbody tr th {\n",
       "        vertical-align: top;\n",
       "    }\n",
       "\n",
       "    .dataframe thead th {\n",
       "        text-align: right;\n",
       "    }\n",
       "</style>\n",
       "<table border=\"1\" class=\"dataframe\">\n",
       "  <thead>\n",
       "    <tr style=\"text-align: right;\">\n",
       "      <th></th>\n",
       "      <th>Grade</th>\n",
       "      <th>Age</th>\n",
       "      <th>IDH1</th>\n",
       "      <th>TP53</th>\n",
       "      <th>ATRX</th>\n",
       "      <th>PTEN</th>\n",
       "      <th>EGFR</th>\n",
       "      <th>CIC</th>\n",
       "      <th>MUC16</th>\n",
       "      <th>PIK3CA</th>\n",
       "      <th>...</th>\n",
       "      <th>CSMD3</th>\n",
       "      <th>SMARCA4</th>\n",
       "      <th>GRIN2A</th>\n",
       "      <th>IDH2</th>\n",
       "      <th>FAT4</th>\n",
       "      <th>PDGFRA</th>\n",
       "      <th>Race_american indian or alaska native</th>\n",
       "      <th>Race_asian</th>\n",
       "      <th>Race_black or african american</th>\n",
       "      <th>Race_white</th>\n",
       "    </tr>\n",
       "  </thead>\n",
       "  <tbody>\n",
       "    <tr>\n",
       "      <th>count</th>\n",
       "      <td>840.000000</td>\n",
       "      <td>8.400000e+02</td>\n",
       "      <td>840.000000</td>\n",
       "      <td>840.000000</td>\n",
       "      <td>840.000000</td>\n",
       "      <td>840.000000</td>\n",
       "      <td>840.000000</td>\n",
       "      <td>840.000000</td>\n",
       "      <td>840.000000</td>\n",
       "      <td>840.000000</td>\n",
       "      <td>...</td>\n",
       "      <td>840.000000</td>\n",
       "      <td>840.000000</td>\n",
       "      <td>840.000000</td>\n",
       "      <td>840.000000</td>\n",
       "      <td>840.000000</td>\n",
       "      <td>840.000000</td>\n",
       "      <td>840.000000</td>\n",
       "      <td>840.000000</td>\n",
       "      <td>840.000000</td>\n",
       "      <td>840.000000</td>\n",
       "    </tr>\n",
       "    <tr>\n",
       "      <th>mean</th>\n",
       "      <td>0.419048</td>\n",
       "      <td>4.372693e-15</td>\n",
       "      <td>0.482143</td>\n",
       "      <td>0.414286</td>\n",
       "      <td>0.258333</td>\n",
       "      <td>0.167857</td>\n",
       "      <td>0.133333</td>\n",
       "      <td>0.132143</td>\n",
       "      <td>0.116667</td>\n",
       "      <td>0.086905</td>\n",
       "      <td>...</td>\n",
       "      <td>0.032143</td>\n",
       "      <td>0.032143</td>\n",
       "      <td>0.032143</td>\n",
       "      <td>0.027381</td>\n",
       "      <td>0.027381</td>\n",
       "      <td>0.026190</td>\n",
       "      <td>0.001190</td>\n",
       "      <td>0.016667</td>\n",
       "      <td>0.070238</td>\n",
       "      <td>0.911905</td>\n",
       "    </tr>\n",
       "    <tr>\n",
       "      <th>std</th>\n",
       "      <td>0.493697</td>\n",
       "      <td>1.000000e+00</td>\n",
       "      <td>0.499979</td>\n",
       "      <td>0.492892</td>\n",
       "      <td>0.437979</td>\n",
       "      <td>0.373962</td>\n",
       "      <td>0.340137</td>\n",
       "      <td>0.338848</td>\n",
       "      <td>0.321214</td>\n",
       "      <td>0.281863</td>\n",
       "      <td>...</td>\n",
       "      <td>0.176484</td>\n",
       "      <td>0.176484</td>\n",
       "      <td>0.176484</td>\n",
       "      <td>0.163288</td>\n",
       "      <td>0.163288</td>\n",
       "      <td>0.159797</td>\n",
       "      <td>0.034503</td>\n",
       "      <td>0.128095</td>\n",
       "      <td>0.255700</td>\n",
       "      <td>0.283602</td>\n",
       "    </tr>\n",
       "    <tr>\n",
       "      <th>min</th>\n",
       "      <td>0.000000</td>\n",
       "      <td>-2.331725e+00</td>\n",
       "      <td>0.000000</td>\n",
       "      <td>0.000000</td>\n",
       "      <td>0.000000</td>\n",
       "      <td>0.000000</td>\n",
       "      <td>0.000000</td>\n",
       "      <td>0.000000</td>\n",
       "      <td>0.000000</td>\n",
       "      <td>0.000000</td>\n",
       "      <td>...</td>\n",
       "      <td>0.000000</td>\n",
       "      <td>0.000000</td>\n",
       "      <td>0.000000</td>\n",
       "      <td>0.000000</td>\n",
       "      <td>0.000000</td>\n",
       "      <td>0.000000</td>\n",
       "      <td>0.000000</td>\n",
       "      <td>0.000000</td>\n",
       "      <td>0.000000</td>\n",
       "      <td>0.000000</td>\n",
       "    </tr>\n",
       "    <tr>\n",
       "      <th>25%</th>\n",
       "      <td>0.000000</td>\n",
       "      <td>-8.194320e-01</td>\n",
       "      <td>0.000000</td>\n",
       "      <td>0.000000</td>\n",
       "      <td>0.000000</td>\n",
       "      <td>0.000000</td>\n",
       "      <td>0.000000</td>\n",
       "      <td>0.000000</td>\n",
       "      <td>0.000000</td>\n",
       "      <td>0.000000</td>\n",
       "      <td>...</td>\n",
       "      <td>0.000000</td>\n",
       "      <td>0.000000</td>\n",
       "      <td>0.000000</td>\n",
       "      <td>0.000000</td>\n",
       "      <td>0.000000</td>\n",
       "      <td>0.000000</td>\n",
       "      <td>0.000000</td>\n",
       "      <td>0.000000</td>\n",
       "      <td>0.000000</td>\n",
       "      <td>1.000000</td>\n",
       "    </tr>\n",
       "    <tr>\n",
       "      <th>50%</th>\n",
       "      <td>0.000000</td>\n",
       "      <td>3.306158e-02</td>\n",
       "      <td>0.000000</td>\n",
       "      <td>0.000000</td>\n",
       "      <td>0.000000</td>\n",
       "      <td>0.000000</td>\n",
       "      <td>0.000000</td>\n",
       "      <td>0.000000</td>\n",
       "      <td>0.000000</td>\n",
       "      <td>0.000000</td>\n",
       "      <td>...</td>\n",
       "      <td>0.000000</td>\n",
       "      <td>0.000000</td>\n",
       "      <td>0.000000</td>\n",
       "      <td>0.000000</td>\n",
       "      <td>0.000000</td>\n",
       "      <td>0.000000</td>\n",
       "      <td>0.000000</td>\n",
       "      <td>0.000000</td>\n",
       "      <td>0.000000</td>\n",
       "      <td>1.000000</td>\n",
       "    </tr>\n",
       "    <tr>\n",
       "      <th>75%</th>\n",
       "      <td>1.000000</td>\n",
       "      <td>7.512286e-01</td>\n",
       "      <td>1.000000</td>\n",
       "      <td>1.000000</td>\n",
       "      <td>1.000000</td>\n",
       "      <td>0.000000</td>\n",
       "      <td>0.000000</td>\n",
       "      <td>0.000000</td>\n",
       "      <td>0.000000</td>\n",
       "      <td>0.000000</td>\n",
       "      <td>...</td>\n",
       "      <td>0.000000</td>\n",
       "      <td>0.000000</td>\n",
       "      <td>0.000000</td>\n",
       "      <td>0.000000</td>\n",
       "      <td>0.000000</td>\n",
       "      <td>0.000000</td>\n",
       "      <td>0.000000</td>\n",
       "      <td>0.000000</td>\n",
       "      <td>0.000000</td>\n",
       "      <td>1.000000</td>\n",
       "    </tr>\n",
       "    <tr>\n",
       "      <th>max</th>\n",
       "      <td>1.000000</td>\n",
       "      <td>2.457335e+00</td>\n",
       "      <td>1.000000</td>\n",
       "      <td>1.000000</td>\n",
       "      <td>1.000000</td>\n",
       "      <td>1.000000</td>\n",
       "      <td>1.000000</td>\n",
       "      <td>1.000000</td>\n",
       "      <td>1.000000</td>\n",
       "      <td>1.000000</td>\n",
       "      <td>...</td>\n",
       "      <td>1.000000</td>\n",
       "      <td>1.000000</td>\n",
       "      <td>1.000000</td>\n",
       "      <td>1.000000</td>\n",
       "      <td>1.000000</td>\n",
       "      <td>1.000000</td>\n",
       "      <td>1.000000</td>\n",
       "      <td>1.000000</td>\n",
       "      <td>1.000000</td>\n",
       "      <td>1.000000</td>\n",
       "    </tr>\n",
       "  </tbody>\n",
       "</table>\n",
       "<p>8 rows × 26 columns</p>\n",
       "</div>"
      ],
      "text/plain": [
       "            Grade           Age        IDH1        TP53        ATRX  \\\n",
       "count  840.000000  8.400000e+02  840.000000  840.000000  840.000000   \n",
       "mean     0.419048  4.372693e-15    0.482143    0.414286    0.258333   \n",
       "std      0.493697  1.000000e+00    0.499979    0.492892    0.437979   \n",
       "min      0.000000 -2.331725e+00    0.000000    0.000000    0.000000   \n",
       "25%      0.000000 -8.194320e-01    0.000000    0.000000    0.000000   \n",
       "50%      0.000000  3.306158e-02    0.000000    0.000000    0.000000   \n",
       "75%      1.000000  7.512286e-01    1.000000    1.000000    1.000000   \n",
       "max      1.000000  2.457335e+00    1.000000    1.000000    1.000000   \n",
       "\n",
       "             PTEN        EGFR         CIC       MUC16      PIK3CA  ...  \\\n",
       "count  840.000000  840.000000  840.000000  840.000000  840.000000  ...   \n",
       "mean     0.167857    0.133333    0.132143    0.116667    0.086905  ...   \n",
       "std      0.373962    0.340137    0.338848    0.321214    0.281863  ...   \n",
       "min      0.000000    0.000000    0.000000    0.000000    0.000000  ...   \n",
       "25%      0.000000    0.000000    0.000000    0.000000    0.000000  ...   \n",
       "50%      0.000000    0.000000    0.000000    0.000000    0.000000  ...   \n",
       "75%      0.000000    0.000000    0.000000    0.000000    0.000000  ...   \n",
       "max      1.000000    1.000000    1.000000    1.000000    1.000000  ...   \n",
       "\n",
       "            CSMD3     SMARCA4      GRIN2A        IDH2        FAT4      PDGFRA  \\\n",
       "count  840.000000  840.000000  840.000000  840.000000  840.000000  840.000000   \n",
       "mean     0.032143    0.032143    0.032143    0.027381    0.027381    0.026190   \n",
       "std      0.176484    0.176484    0.176484    0.163288    0.163288    0.159797   \n",
       "min      0.000000    0.000000    0.000000    0.000000    0.000000    0.000000   \n",
       "25%      0.000000    0.000000    0.000000    0.000000    0.000000    0.000000   \n",
       "50%      0.000000    0.000000    0.000000    0.000000    0.000000    0.000000   \n",
       "75%      0.000000    0.000000    0.000000    0.000000    0.000000    0.000000   \n",
       "max      1.000000    1.000000    1.000000    1.000000    1.000000    1.000000   \n",
       "\n",
       "       Race_american indian or alaska native  Race_asian  \\\n",
       "count                             840.000000  840.000000   \n",
       "mean                                0.001190    0.016667   \n",
       "std                                 0.034503    0.128095   \n",
       "min                                 0.000000    0.000000   \n",
       "25%                                 0.000000    0.000000   \n",
       "50%                                 0.000000    0.000000   \n",
       "75%                                 0.000000    0.000000   \n",
       "max                                 1.000000    1.000000   \n",
       "\n",
       "       Race_black or african american  Race_white  \n",
       "count                      840.000000  840.000000  \n",
       "mean                         0.070238    0.911905  \n",
       "std                          0.255700    0.283602  \n",
       "min                          0.000000    0.000000  \n",
       "25%                          0.000000    1.000000  \n",
       "50%                          0.000000    1.000000  \n",
       "75%                          0.000000    1.000000  \n",
       "max                          1.000000    1.000000  \n",
       "\n",
       "[8 rows x 26 columns]"
      ]
     },
     "execution_count": 13,
     "metadata": {},
     "output_type": "execute_result"
    }
   ],
   "source": [
    "# Descriptive statistics\n",
    "df.describe()"
   ]
  },
  {
   "cell_type": "code",
   "execution_count": 14,
   "metadata": {},
   "outputs": [
    {
     "data": {
      "text/plain": [
       "<AxesSubplot:xlabel='Age'>"
      ]
     },
     "execution_count": 14,
     "metadata": {},
     "output_type": "execute_result"
    },
    {
     "data": {
      "image/png": "[encoded data removed]",
      "text/plain": [
       "<Figure size 432x288 with 1 Axes>"
      ]
     },
     "metadata": {
      "needs_background": "light"
     },
     "output_type": "display_data"
    }
   ],
   "source": [
    "sns.boxplot(data=df, x='Age')\n",
    "\n",
    "#TODO maybe plot age before normalization"
   ]
  },
  {
   "cell_type": "markdown",
   "metadata": {},
   "source": [
    "## Data visualization "
   ]
  },
  {
   "cell_type": "code",
   "execution_count": 15,
   "metadata": {},
   "outputs": [
    {
     "data": {
      "image/png": "[encoded data removed]",
      "text/plain": [
       "<Figure size 720x360 with 1 Axes>"
      ]
     },
     "metadata": {
      "needs_background": "light"
     },
     "output_type": "display_data"
    }
   ],
   "source": [
    "# Checking age distribution by gender\n",
    "plt.figure(figsize=(10, 5))\n",
    "sns.histplot(x='Age', data=df, hue='Gender', palette={0: 'blue', 1: 'pink'}, multiple='stack', bins=20, kde=True)\n",
    "plt.title('Age Distribution by gender')\n",
    "plt.show()"
   ]
  },
  {
   "cell_type": "code",
   "execution_count": 16,
   "metadata": {},
   "outputs": [
    {
     "data": {
      "image/png": "[encoded data removed]",
      "text/plain": [
       "<Figure size 432x288 with 1 Axes>"
      ]
     },
     "metadata": {
      "needs_background": "light"
     },
     "output_type": "display_data"
    }
   ],
   "source": [
    "# Checking distribution of glioma by gender\n",
    "\n",
    "sns.countplot(data=df, x='Gender', hue='Grade', palette={0: 'blue', 1: 'pink'})\n",
    "\n",
    "plt.xlabel('Gender')\n",
    "plt.ylabel('Count')\n",
    "plt.title('Distribution of Glioma by Gender')\n",
    "plt.legend(title='Glioma')\n",
    "\n",
    "plt.show()"
   ]
  },
  {
   "cell_type": "code",
   "execution_count": 17,
   "metadata": {},
   "outputs": [
    {
     "data": {
      "image/png": "[encoded data removed]",
      "text/plain": [
       "<Figure size 720x360 with 1 Axes>"
      ]
     },
     "metadata": {
      "needs_background": "light"
     },
     "output_type": "display_data"
    }
   ],
   "source": [
    "# distribution of most commonly mutated genes\n",
    "#find most commonly mutated genes \n",
    "df['Most_commonly_mutated_gene'] = df.iloc[:, 3:-5].idxmax(axis=1)\n",
    "plt.figure(figsize=(10, 5))\n",
    "\n",
    "sns.countplot(data=df, y='Most_commonly_mutated_gene', palette='Set2')\n",
    "plt.xlabel('Count')\n",
    "plt.ylabel('Gene')\n",
    "plt.title('Distribution of most commonly mutated genes')\n",
    "plt.show()\n",
    "\n",
    "#TODO: COMMENT IN FINAL REPORT ABOUT HOW IDH1 IS MOST RELEVANT GENE"
   ]
  },
  {
   "cell_type": "markdown",
   "metadata": {},
   "source": [
    "comment: Results: We identified mutations that affected amino acid 132 of IDH1 in more than 70% of WHO grade II and III astrocytomas and oligodendrogliomas and in glioblastomas that developed from these lower-grade lesions. Tumors without mutations in IDH1 often had mutations affecting the analogous amino acid (R172) of the IDH2 gene. Tumors with IDH1 or IDH2 mutations had distinctive genetic and clinical characteristics, and patients with such tumors had a better outcome than those with wild-type IDH genes. Each of four tested IDH1 and IDH2 mutations reduced the enzymatic activity of the encoded protein."
   ]
  },
  {
   "cell_type": "code",
   "execution_count": 18,
   "metadata": {},
   "outputs": [
    {
     "data": {
      "application/vnd.plotly.v1+json": {
       "config": {
        "plotlyServerURL": "https://plot.ly"
       },
       "data": [
        {
         "name": "Column IDH1",
         "type": "bar",
         "x": [
          0,
          1
         ],
         "xaxis": "x",
         "y": [
          435,
          405
         ],
         "yaxis": "y"
        },
        {
         "name": "Column TP53",
         "type": "bar",
         "x": [
          0,
          1
         ],
         "xaxis": "x2",
         "y": [
          492,
          348
         ],
         "yaxis": "y2"
        },
        {
         "name": "Column ATRX",
         "type": "bar",
         "x": [
          0,
          1
         ],
         "xaxis": "x3",
         "y": [
          623,
          217
         ],
         "yaxis": "y3"
        },
        {
         "name": "Column PTEN",
         "type": "bar",
         "x": [
          0,
          1
         ],
         "xaxis": "x4",
         "y": [
          699,
          141
         ],
         "yaxis": "y4"
        },
        {
         "name": "Column EGFR",
         "type": "bar",
         "x": [
          0,
          1
         ],
         "xaxis": "x5",
         "y": [
          728,
          112
         ],
         "yaxis": "y5"
        },
        {
         "name": "Column CIC",
         "type": "bar",
         "x": [
          0,
          1
         ],
         "xaxis": "x6",
         "y": [
          729,
          111
         ],
         "yaxis": "y6"
        },
        {
         "name": "Column MUC16",
         "type": "bar",
         "x": [
          0,
          1
         ],
         "xaxis": "x7",
         "y": [
          742,
          98
         ],
         "yaxis": "y7"
        },
        {
         "name": "Column PIK3CA",
         "type": "bar",
         "x": [
          0,
          1
         ],
         "xaxis": "x8",
         "y": [
          767,
          73
         ],
         "yaxis": "y8"
        },
        {
         "name": "Column NF1",
         "type": "bar",
         "x": [
          0,
          1
         ],
         "xaxis": "x9",
         "y": [
          773,
          67
         ],
         "yaxis": "y9"
        },
        {
         "name": "Column PIK3R1",
         "type": "bar",
         "x": [
          0,
          1
         ],
         "xaxis": "x10",
         "y": [
          786,
          54
         ],
         "yaxis": "y10"
        },
        {
         "name": "Column FUBP1",
         "type": "bar",
         "x": [
          0,
          1
         ],
         "xaxis": "x11",
         "y": [
          795,
          45
         ],
         "yaxis": "y11"
        },
        {
         "name": "Column RB1",
         "type": "bar",
         "x": [
          0,
          1
         ],
         "xaxis": "x12",
         "y": [
          800,
          40
         ],
         "yaxis": "y12"
        },
        {
         "name": "Column NOTCH1",
         "type": "bar",
         "x": [
          0,
          1
         ],
         "xaxis": "x13",
         "y": [
          802,
          38
         ],
         "yaxis": "y13"
        },
        {
         "name": "Column BCOR",
         "type": "bar",
         "x": [
          0,
          1
         ],
         "xaxis": "x14",
         "y": [
          811,
          29
         ],
         "yaxis": "y14"
        },
        {
         "name": "Column CSMD3",
         "type": "bar",
         "x": [
          0,
          1
         ],
         "xaxis": "x15",
         "y": [
          813,
          27
         ],
         "yaxis": "y15"
        },
        {
         "name": "Column SMARCA4",
         "type": "bar",
         "x": [
          0,
          1
         ],
         "xaxis": "x16",
         "y": [
          813,
          27
         ],
         "yaxis": "y16"
        },
        {
         "name": "Column GRIN2A",
         "type": "bar",
         "x": [
          0,
          1
         ],
         "xaxis": "x17",
         "y": [
          813,
          27
         ],
         "yaxis": "y17"
        },
        {
         "name": "Column IDH2",
         "type": "bar",
         "x": [
          0,
          1
         ],
         "xaxis": "x18",
         "y": [
          817,
          23
         ],
         "yaxis": "y18"
        },
        {
         "name": "Column FAT4",
         "type": "bar",
         "x": [
          0,
          1
         ],
         "xaxis": "x19",
         "y": [
          817,
          23
         ],
         "yaxis": "y19"
        },
        {
         "name": "Column PDGFRA",
         "type": "bar",
         "x": [
          0,
          1
         ],
         "xaxis": "x20",
         "y": [
          818,
          22
         ],
         "yaxis": "y20"
        }
       ],
       "layout": {
        "height": 1200,
        "template": {
         "data": {
          "bar": [
           {
            "error_x": {
             "color": "#2a3f5f"
            },
            "error_y": {
             "color": "#2a3f5f"
            },
            "marker": {
             "line": {
              "color": "#E5ECF6",
              "width": 0.5
             },
             "pattern": {
              "fillmode": "overlay",
              "size": 10,
              "solidity": 0.2
             }
            },
            "type": "bar"
           }
          ],
          "barpolar": [
           {
            "marker": {
             "line": {
              "color": "#E5ECF6",
              "width": 0.5
             },
             "pattern": {
              "fillmode": "overlay",
              "size": 10,
              "solidity": 0.2
             }
            },
            "type": "barpolar"
           }
          ],
          "carpet": [
           {
            "aaxis": {
             "endlinecolor": "#2a3f5f",
             "gridcolor": "white",
             "linecolor": "white",
             "minorgridcolor": "white",
             "startlinecolor": "#2a3f5f"
            },
            "baxis": {
             "endlinecolor": "#2a3f5f",
             "gridcolor": "white",
             "linecolor": "white",
             "minorgridcolor": "white",
             "startlinecolor": "#2a3f5f"
            },
            "type": "carpet"
           }
          ],
          "choropleth": [
           {
            "colorbar": {
             "outlinewidth": 0,
             "ticks": ""
            },
            "type": "choropleth"
           }
          ],
          "contour": [
           {
            "colorbar": {
             "outlinewidth": 0,
             "ticks": ""
            },
            "colorscale": [
             [
              0,
              "#0d0887"
             ],
             [
              0.1111111111111111,
              "#46039f"
             ],
             [
              0.2222222222222222,
              "#7201a8"
             ],
             [
              0.3333333333333333,
              "#9c179e"
             ],
             [
              0.4444444444444444,
              "#bd3786"
             ],
             [
              0.5555555555555556,
              "#d8576b"
             ],
             [
              0.6666666666666666,
              "#ed7953"
             ],
             [
              0.7777777777777778,
              "#fb9f3a"
             ],
             [
              0.8888888888888888,
              "#fdca26"
             ],
             [
              1,
              "#f0f921"
             ]
            ],
            "type": "contour"
           }
          ],
          "contourcarpet": [
           {
            "colorbar": {
             "outlinewidth": 0,
             "ticks": ""
            },
            "type": "contourcarpet"
           }
          ],
          "heatmap": [
           {
            "colorbar": {
             "outlinewidth": 0,
             "ticks": ""
            },
            "colorscale": [
             [
              0,
              "#0d0887"
             ],
             [
              0.1111111111111111,
              "#46039f"
             ],
             [
              0.2222222222222222,
              "#7201a8"
             ],
             [
              0.3333333333333333,
              "#9c179e"
             ],
             [
              0.4444444444444444,
              "#bd3786"
             ],
             [
              0.5555555555555556,
              "#d8576b"
             ],
             [
              0.6666666666666666,
              "#ed7953"
             ],
             [
              0.7777777777777778,
              "#fb9f3a"
             ],
             [
              0.8888888888888888,
              "#fdca26"
             ],
             [
              1,
              "#f0f921"
             ]
            ],
            "type": "heatmap"
           }
          ],
          "heatmapgl": [
           {
            "colorbar": {
             "outlinewidth": 0,
             "ticks": ""
            },
            "colorscale": [
             [
              0,
              "#0d0887"
             ],
             [
              0.1111111111111111,
              "#46039f"
             ],
             [
              0.2222222222222222,
              "#7201a8"
             ],
             [
              0.3333333333333333,
              "#9c179e"
             ],
             [
              0.4444444444444444,
              "#bd3786"
             ],
             [
              0.5555555555555556,
              "#d8576b"
             ],
             [
              0.6666666666666666,
              "#ed7953"
             ],
             [
              0.7777777777777778,
              "#fb9f3a"
             ],
             [
              0.8888888888888888,
              "#fdca26"
             ],
             [
              1,
              "#f0f921"
             ]
            ],
            "type": "heatmapgl"
           }
          ],
          "histogram": [
           {
            "marker": {
             "pattern": {
              "fillmode": "overlay",
              "size": 10,
              "solidity": 0.2
             }
            },
            "type": "histogram"
           }
          ],
          "histogram2d": [
           {
            "colorbar": {
             "outlinewidth": 0,
             "ticks": ""
            },
            "colorscale": [
             [
              0,
              "#0d0887"
             ],
             [
              0.1111111111111111,
              "#46039f"
             ],
             [
              0.2222222222222222,
              "#7201a8"
             ],
             [
              0.3333333333333333,
              "#9c179e"
             ],
             [
              0.4444444444444444,
              "#bd3786"
             ],
             [
              0.5555555555555556,
              "#d8576b"
             ],
             [
              0.6666666666666666,
              "#ed7953"
             ],
             [
              0.7777777777777778,
              "#fb9f3a"
             ],
             [
              0.8888888888888888,
              "#fdca26"
             ],
             [
              1,
              "#f0f921"
             ]
            ],
            "type": "histogram2d"
           }
          ],
          "histogram2dcontour": [
           {
            "colorbar": {
             "outlinewidth": 0,
             "ticks": ""
            },
            "colorscale": [
             [
              0,
              "#0d0887"
             ],
             [
              0.1111111111111111,
              "#46039f"
             ],
             [
              0.2222222222222222,
              "#7201a8"
             ],
             [
              0.3333333333333333,
              "#9c179e"
             ],
             [
              0.4444444444444444,
              "#bd3786"
             ],
             [
              0.5555555555555556,
              "#d8576b"
             ],
             [
              0.6666666666666666,
              "#ed7953"
             ],
             [
              0.7777777777777778,
              "#fb9f3a"
             ],
             [
              0.8888888888888888,
              "#fdca26"
             ],
             [
              1,
              "#f0f921"
             ]
            ],
            "type": "histogram2dcontour"
           }
          ],
          "mesh3d": [
           {
            "colorbar": {
             "outlinewidth": 0,
             "ticks": ""
            },
            "type": "mesh3d"
           }
          ],
          "parcoords": [
           {
            "line": {
             "colorbar": {
              "outlinewidth": 0,
              "ticks": ""
             }
            },
            "type": "parcoords"
           }
          ],
          "pie": [
           {
            "automargin": true,
            "type": "pie"
           }
          ],
          "scatter": [
           {
            "marker": {
             "colorbar": {
              "outlinewidth": 0,
              "ticks": ""
             }
            },
            "type": "scatter"
           }
          ],
          "scatter3d": [
           {
            "line": {
             "colorbar": {
              "outlinewidth": 0,
              "ticks": ""
             }
            },
            "marker": {
             "colorbar": {
              "outlinewidth": 0,
              "ticks": ""
             }
            },
            "type": "scatter3d"
           }
          ],
          "scattercarpet": [
           {
            "marker": {
             "colorbar": {
              "outlinewidth": 0,
              "ticks": ""
             }
            },
            "type": "scattercarpet"
           }
          ],
          "scattergeo": [
           {
            "marker": {
             "colorbar": {
              "outlinewidth": 0,
              "ticks": ""
             }
            },
            "type": "scattergeo"
           }
          ],
          "scattergl": [
           {
            "marker": {
             "colorbar": {
              "outlinewidth": 0,
              "ticks": ""
             }
            },
            "type": "scattergl"
           }
          ],
          "scattermapbox": [
           {
            "marker": {
             "colorbar": {
              "outlinewidth": 0,
              "ticks": ""
             }
            },
            "type": "scattermapbox"
           }
          ],
          "scatterpolar": [
           {
            "marker": {
             "colorbar": {
              "outlinewidth": 0,
              "ticks": ""
             }
            },
            "type": "scatterpolar"
           }
          ],
          "scatterpolargl": [
           {
            "marker": {
             "colorbar": {
              "outlinewidth": 0,
              "ticks": ""
             }
            },
            "type": "scatterpolargl"
           }
          ],
          "scatterternary": [
           {
            "marker": {
             "colorbar": {
              "outlinewidth": 0,
              "ticks": ""
             }
            },
            "type": "scatterternary"
           }
          ],
          "surface": [
           {
            "colorbar": {
             "outlinewidth": 0,
             "ticks": ""
            },
            "colorscale": [
             [
              0,
              "#0d0887"
             ],
             [
              0.1111111111111111,
              "#46039f"
             ],
             [
              0.2222222222222222,
              "#7201a8"
             ],
             [
              0.3333333333333333,
              "#9c179e"
             ],
             [
              0.4444444444444444,
              "#bd3786"
             ],
             [
              0.5555555555555556,
              "#d8576b"
             ],
             [
              0.6666666666666666,
              "#ed7953"
             ],
             [
              0.7777777777777778,
              "#fb9f3a"
             ],
             [
              0.8888888888888888,
              "#fdca26"
             ],
             [
              1,
              "#f0f921"
             ]
            ],
            "type": "surface"
           }
          ],
          "table": [
           {
            "cells": {
             "fill": {
              "color": "#EBF0F8"
             },
             "line": {
              "color": "white"
             }
            },
            "header": {
             "fill": {
              "color": "#C8D4E3"
             },
             "line": {
              "color": "white"
             }
            },
            "type": "table"
           }
          ]
         },
         "layout": {
          "annotationdefaults": {
           "arrowcolor": "#2a3f5f",
           "arrowhead": 0,
           "arrowwidth": 1
          },
          "autotypenumbers": "strict",
          "coloraxis": {
           "colorbar": {
            "outlinewidth": 0,
            "ticks": ""
           }
          },
          "colorscale": {
           "diverging": [
            [
             0,
             "#8e0152"
            ],
            [
             0.1,
             "#c51b7d"
            ],
            [
             0.2,
             "#de77ae"
            ],
            [
             0.3,
             "#f1b6da"
            ],
            [
             0.4,
             "#fde0ef"
            ],
            [
             0.5,
             "#f7f7f7"
            ],
            [
             0.6,
             "#e6f5d0"
            ],
            [
             0.7,
             "#b8e186"
            ],
            [
             0.8,
             "#7fbc41"
            ],
            [
             0.9,
             "#4d9221"
            ],
            [
             1,
             "#276419"
            ]
           ],
           "sequential": [
            [
             0,
             "#0d0887"
            ],
            [
             0.1111111111111111,
             "#46039f"
            ],
            [
             0.2222222222222222,
             "#7201a8"
            ],
            [
             0.3333333333333333,
             "#9c179e"
            ],
            [
             0.4444444444444444,
             "#bd3786"
            ],
            [
             0.5555555555555556,
             "#d8576b"
            ],
            [
             0.6666666666666666,
             "#ed7953"
            ],
            [
             0.7777777777777778,
             "#fb9f3a"
            ],
            [
             0.8888888888888888,
             "#fdca26"
            ],
            [
             1,
             "#f0f921"
            ]
           ],
           "sequentialminus": [
            [
             0,
             "#0d0887"
            ],
            [
             0.1111111111111111,
             "#46039f"
            ],
            [
             0.2222222222222222,
             "#7201a8"
            ],
            [
             0.3333333333333333,
             "#9c179e"
            ],
            [
             0.4444444444444444,
             "#bd3786"
            ],
            [
             0.5555555555555556,
             "#d8576b"
            ],
            [
             0.6666666666666666,
             "#ed7953"
            ],
            [
             0.7777777777777778,
             "#fb9f3a"
            ],
            [
             0.8888888888888888,
             "#fdca26"
            ],
            [
             1,
             "#f0f921"
            ]
           ]
          },
          "colorway": [
           "#636efa",
           "#EF553B",
           "#00cc96",
           "#ab63fa",
           "#FFA15A",
           "#19d3f3",
           "#FF6692",
           "#B6E880",
           "#FF97FF",
           "#FECB52"
          ],
          "font": {
           "color": "#2a3f5f"
          },
          "geo": {
           "bgcolor": "white",
           "lakecolor": "white",
           "landcolor": "#E5ECF6",
           "showlakes": true,
           "showland": true,
           "subunitcolor": "white"
          },
          "hoverlabel": {
           "align": "left"
          },
          "hovermode": "closest",
          "mapbox": {
           "style": "light"
          },
          "paper_bgcolor": "white",
          "plot_bgcolor": "#E5ECF6",
          "polar": {
           "angularaxis": {
            "gridcolor": "white",
            "linecolor": "white",
            "ticks": ""
           },
           "bgcolor": "#E5ECF6",
           "radialaxis": {
            "gridcolor": "white",
            "linecolor": "white",
            "ticks": ""
           }
          },
          "scene": {
           "xaxis": {
            "backgroundcolor": "#E5ECF6",
            "gridcolor": "white",
            "gridwidth": 2,
            "linecolor": "white",
            "showbackground": true,
            "ticks": "",
            "zerolinecolor": "white"
           },
           "yaxis": {
            "backgroundcolor": "#E5ECF6",
            "gridcolor": "white",
            "gridwidth": 2,
            "linecolor": "white",
            "showbackground": true,
            "ticks": "",
            "zerolinecolor": "white"
           },
           "zaxis": {
            "backgroundcolor": "#E5ECF6",
            "gridcolor": "white",
            "gridwidth": 2,
            "linecolor": "white",
            "showbackground": true,
            "ticks": "",
            "zerolinecolor": "white"
           }
          },
          "shapedefaults": {
           "line": {
            "color": "#2a3f5f"
           }
          },
          "ternary": {
           "aaxis": {
            "gridcolor": "white",
            "linecolor": "white",
            "ticks": ""
           },
           "baxis": {
            "gridcolor": "white",
            "linecolor": "white",
            "ticks": ""
           },
           "bgcolor": "#E5ECF6",
           "caxis": {
            "gridcolor": "white",
            "linecolor": "white",
            "ticks": ""
           }
          },
          "title": {
           "x": 0.05
          },
          "xaxis": {
           "automargin": true,
           "gridcolor": "white",
           "linecolor": "white",
           "ticks": "",
           "title": {
            "standoff": 15
           },
           "zerolinecolor": "white",
           "zerolinewidth": 2
          },
          "yaxis": {
           "automargin": true,
           "gridcolor": "white",
           "linecolor": "white",
           "ticks": "",
           "title": {
            "standoff": 15
           },
           "zerolinecolor": "white",
           "zerolinewidth": 2
          }
         }
        },
        "title": {
         "text": "Value Counts for Columns 3 to 22"
        },
        "width": 1000,
        "xaxis": {
         "anchor": "y",
         "domain": [
          0,
          0.2125
         ],
         "title": {
          "text": "IDH1"
         }
        },
        "xaxis10": {
         "anchor": "y10",
         "domain": [
          0.2625,
          0.475
         ],
         "title": {
          "text": "PIK3R1"
         }
        },
        "xaxis11": {
         "anchor": "y11",
         "domain": [
          0.525,
          0.7375
         ],
         "title": {
          "text": "FUBP1"
         }
        },
        "xaxis12": {
         "anchor": "y12",
         "domain": [
          0.7875,
          1
         ],
         "title": {
          "text": "RB1"
         }
        },
        "xaxis13": {
         "anchor": "y13",
         "domain": [
          0,
          0.2125
         ],
         "title": {
          "text": "NOTCH1"
         }
        },
        "xaxis14": {
         "anchor": "y14",
         "domain": [
          0.2625,
          0.475
         ],
         "title": {
          "text": "BCOR"
         }
        },
        "xaxis15": {
         "anchor": "y15",
         "domain": [
          0.525,
          0.7375
         ],
         "title": {
          "text": "CSMD3"
         }
        },
        "xaxis16": {
         "anchor": "y16",
         "domain": [
          0.7875,
          1
         ],
         "title": {
          "text": "SMARCA4"
         }
        },
        "xaxis17": {
         "anchor": "y17",
         "domain": [
          0,
          0.2125
         ],
         "title": {
          "text": "GRIN2A"
         }
        },
        "xaxis18": {
         "anchor": "y18",
         "domain": [
          0.2625,
          0.475
         ],
         "title": {
          "text": "IDH2"
         }
        },
        "xaxis19": {
         "anchor": "y19",
         "domain": [
          0.525,
          0.7375
         ],
         "title": {
          "text": "FAT4"
         }
        },
        "xaxis2": {
         "anchor": "y2",
         "domain": [
          0.2625,
          0.475
         ],
         "title": {
          "text": "TP53"
         }
        },
        "xaxis20": {
         "anchor": "y20",
         "domain": [
          0.7875,
          1
         ],
         "title": {
          "text": "PDGFRA"
         }
        },
        "xaxis3": {
         "anchor": "y3",
         "domain": [
          0.525,
          0.7375
         ],
         "title": {
          "text": "ATRX"
         }
        },
        "xaxis4": {
         "anchor": "y4",
         "domain": [
          0.7875,
          1
         ],
         "title": {
          "text": "PTEN"
         }
        },
        "xaxis5": {
         "anchor": "y5",
         "domain": [
          0,
          0.2125
         ],
         "title": {
          "text": "EGFR"
         }
        },
        "xaxis6": {
         "anchor": "y6",
         "domain": [
          0.2625,
          0.475
         ],
         "title": {
          "text": "CIC"
         }
        },
        "xaxis7": {
         "anchor": "y7",
         "domain": [
          0.525,
          0.7375
         ],
         "title": {
          "text": "MUC16"
         }
        },
        "xaxis8": {
         "anchor": "y8",
         "domain": [
          0.7875,
          1
         ],
         "title": {
          "text": "PIK3CA"
         }
        },
        "xaxis9": {
         "anchor": "y9",
         "domain": [
          0,
          0.2125
         ],
         "title": {
          "text": "NF1"
         }
        },
        "yaxis": {
         "anchor": "x",
         "domain": [
          0.848,
          1
         ]
        },
        "yaxis10": {
         "anchor": "x10",
         "domain": [
          0.424,
          0.576
         ]
        },
        "yaxis11": {
         "anchor": "x11",
         "domain": [
          0.424,
          0.576
         ]
        },
        "yaxis12": {
         "anchor": "x12",
         "domain": [
          0.424,
          0.576
         ]
        },
        "yaxis13": {
         "anchor": "x13",
         "domain": [
          0.212,
          0.364
         ]
        },
        "yaxis14": {
         "anchor": "x14",
         "domain": [
          0.212,
          0.364
         ]
        },
        "yaxis15": {
         "anchor": "x15",
         "domain": [
          0.212,
          0.364
         ]
        },
        "yaxis16": {
         "anchor": "x16",
         "domain": [
          0.212,
          0.364
         ]
        },
        "yaxis17": {
         "anchor": "x17",
         "domain": [
          0,
          0.152
         ]
        },
        "yaxis18": {
         "anchor": "x18",
         "domain": [
          0,
          0.152
         ]
        },
        "yaxis19": {
         "anchor": "x19",
         "domain": [
          0,
          0.152
         ]
        },
        "yaxis2": {
         "anchor": "x2",
         "domain": [
          0.848,
          1
         ]
        },
        "yaxis20": {
         "anchor": "x20",
         "domain": [
          0,
          0.152
         ]
        },
        "yaxis3": {
         "anchor": "x3",
         "domain": [
          0.848,
          1
         ]
        },
        "yaxis4": {
         "anchor": "x4",
         "domain": [
          0.848,
          1
         ]
        },
        "yaxis5": {
         "anchor": "x5",
         "domain": [
          0.6359999999999999,
          0.7879999999999999
         ]
        },
        "yaxis6": {
         "anchor": "x6",
         "domain": [
          0.6359999999999999,
          0.7879999999999999
         ]
        },
        "yaxis7": {
         "anchor": "x7",
         "domain": [
          0.6359999999999999,
          0.7879999999999999
         ]
        },
        "yaxis8": {
         "anchor": "x8",
         "domain": [
          0.6359999999999999,
          0.7879999999999999
         ]
        },
        "yaxis9": {
         "anchor": "x9",
         "domain": [
          0.424,
          0.576
         ]
        }
       }
      }
     },
     "metadata": {},
     "output_type": "display_data"
    }
   ],
   "source": [
    "fig = make_subplots(rows=5, cols=4)\n",
    "\n",
    "# Loop through columns 3 to 22 (indexing from 0 to 19)\n",
    "column_names = []  # List to store column names for legend\n",
    "\n",
    "for i, column in enumerate(df.iloc[:, 3:23].columns, start=1):\n",
    "    row_num = (i - 1) // 4 + 1  # Calculate row number\n",
    "    col_num = (i - 1) % 4 + 1   # Calculate column number\n",
    "\n",
    "    value_counts = df[column].value_counts()\n",
    "\n",
    "    fig.add_trace(\n",
    "        go.Bar(x=value_counts.index, y=value_counts.values),\n",
    "        row=row_num, col=col_num\n",
    "    )\n",
    "    \n",
    "    column_names.append(f'Column {column}')  # Store column names for legend\n",
    "\n",
    "    fig.update_xaxes(title_text=f'{column}', row=row_num, col=col_num)  # X-axis title\n",
    "\n",
    "# Update layout for all subplots\n",
    "fig.update_layout(title='Value Counts for Columns 3 to 22', width = 1000, height = 1200)\n",
    "fig.for_each_trace(lambda trace: trace.update(name=column_names.pop(0)))  # Update trace names using stored column names\n",
    "fig.show()"
   ]
  },
  {
   "cell_type": "markdown",
   "metadata": {},
   "source": [
    "Explains why IDH1 mutations so prevalent (boxplot balanced). Also expect that correlation matrix will show inv corrs between idh1 and idh2\n",
    "\n",
    "Other mutations imbalanced bc not all gliomas have all mutated genes"
   ]
  },
  {
   "cell_type": "code",
   "execution_count": 19,
   "metadata": {},
   "outputs": [
    {
     "data": {
      "text/plain": [
       "<AxesSubplot:>"
      ]
     },
     "execution_count": 19,
     "metadata": {},
     "output_type": "execute_result"
    },
    {
     "data": {
      "image/png": "[encoded data removed]",
      "text/plain": [
       "<Figure size 1152x432 with 2 Axes>"
      ]
     },
     "metadata": {
      "needs_background": "light"
     },
     "output_type": "display_data"
    }
   ],
   "source": [
    "# Visualization of correlation between variables\n",
    "plt.figure(figsize=(16, 6))\n",
    "corr = df.iloc[:, 3 : 23].corr()\n",
    "\n",
    "# Getting the Upper Triangle of the co-relation matrix\n",
    "matrix = np.triu(corr)\n",
    "\n",
    "# Using the upper triangle matrix as mask \n",
    "sns.heatmap(corr, annot=True, mask=matrix, vmin=-1, vmax=1, linewidths=.5, cmap='BrBG')"
   ]
  },
  {
   "cell_type": "code",
   "execution_count": 21,
   "metadata": {},
   "outputs": [
    {
     "ename": "ValueError",
     "evalue": "The X argument must be a pandas DataFrame, but got tuple",
     "output_type": "error",
     "traceback": [
      "\u001b[0;31m---------------------------------------------------------------------------\u001b[0m",
      "\u001b[0;31mValueError\u001b[0m                                Traceback (most recent call last)",
      "Input \u001b[0;32mIn [21]\u001b[0m, in \u001b[0;36m<cell line: 18>\u001b[0;34m()\u001b[0m\n\u001b[1;32m     15\u001b[0m \u001b[38;5;124;03m'''correlated_genes = ['ATRX', 'IDH1', 'TP53', 'CIC', 'FUBP1']\u001b[39;00m\n\u001b[1;32m     16\u001b[0m \u001b[38;5;124;03mdf_correlated_genes = pd.DataFrame(correlated_genes)'''\u001b[39;00m\n\u001b[1;32m     17\u001b[0m mca_ \u001b[38;5;241m=\u001b[39m prince\u001b[38;5;241m.\u001b[39mMCA( n_components\u001b[38;5;241m=\u001b[39m\u001b[38;5;241m2\u001b[39m) \u001b[38;5;66;03m#, use_benzecri_rates=False, plotter='mpl')\u001b[39;00m\n\u001b[0;32m---> 18\u001b[0m \u001b[43mmca_\u001b[49m\u001b[38;5;241;43m.\u001b[39;49m\u001b[43mfit\u001b[49m\u001b[43m(\u001b[49m\u001b[43mcorrelatedgenes\u001b[49m\u001b[43m)\u001b[49m\n\u001b[1;32m     19\u001b[0m \u001b[38;5;124;03m'''correlated_genes = ['ATRX', 'IDH1', 'TP53', 'CIC', 'FUBP1']\u001b[39;00m\n\u001b[1;32m     20\u001b[0m \u001b[38;5;124;03m#not sure how many components to pick?\u001b[39;00m\n\u001b[1;32m     21\u001b[0m \u001b[38;5;124;03mmca = prince.MCA(correlated_genes, n_components=2)# use_benzecri_rates=False, plotter='mpl' )'''\u001b[39;00m\n",
      "File \u001b[0;32m~/opt/anaconda3/lib/python3.9/site-packages/prince/utils.py:25\u001b[0m, in \u001b[0;36mcheck_is_dataframe_input.<locals>.wrapper\u001b[0;34m(*args, **kwargs)\u001b[0m\n\u001b[1;32m     23\u001b[0m X \u001b[38;5;241m=\u001b[39m args[\u001b[38;5;241m1\u001b[39m]  \u001b[38;5;66;03m# Assuming the first argument is 'self' or an instance\u001b[39;00m\n\u001b[1;32m     24\u001b[0m \u001b[38;5;28;01mif\u001b[39;00m \u001b[38;5;129;01mnot\u001b[39;00m \u001b[38;5;28misinstance\u001b[39m(X, pd\u001b[38;5;241m.\u001b[39mDataFrame):\n\u001b[0;32m---> 25\u001b[0m     \u001b[38;5;28;01mraise\u001b[39;00m \u001b[38;5;167;01mValueError\u001b[39;00m(\n\u001b[1;32m     26\u001b[0m         \u001b[38;5;124mf\u001b[39m\u001b[38;5;124m\"\u001b[39m\u001b[38;5;124mThe X argument must be a pandas DataFrame, but got \u001b[39m\u001b[38;5;132;01m{\u001b[39;00m\u001b[38;5;28mtype\u001b[39m(X)\u001b[38;5;241m.\u001b[39m\u001b[38;5;18m__name__\u001b[39m\u001b[38;5;132;01m}\u001b[39;00m\u001b[38;5;124m\"\u001b[39m\n\u001b[1;32m     27\u001b[0m     )\n\u001b[1;32m     28\u001b[0m \u001b[38;5;28;01mreturn\u001b[39;00m func(\u001b[38;5;241m*\u001b[39margs, \u001b[38;5;241m*\u001b[39m\u001b[38;5;241m*\u001b[39mkwargs)\n",
      "\u001b[0;31mValueError\u001b[0m: The X argument must be a pandas DataFrame, but got tuple"
     ]
    }
   ],
   "source": [
    "##########ATTEMPT AT MCA##########\n",
    "\n",
    "'''class MCA(CA):\n",
    "\n",
    "    \"\"\"\n",
    "    Args:\n",
    "        dataframe (pandas.DataFrame): A dataframe where each column is a variable.\n",
    "        use_benzecri_rates (bool): Whether to use Benzecri rates to inflate the eigenvalues.\n",
    "        plotter (str): The plotting backend used to build the charts. Can be any of: 'mpl'.\n",
    "    \"\"\"\n",
    " def __init__(self, dataframe, use_benzecri_rates=False, plotter='mpl'):'''\n",
    "import prince\n",
    "from prince import mca \n",
    "####TRYING JUST ON CORRELATED VALUES\n",
    "'''correlated_genes = ['ATRX', 'IDH1', 'TP53', 'CIC', 'FUBP1']\n",
    "df_correlated_genes = pd.DataFrame(correlated_genes)'''\n",
    "mca_ = prince.MCA( n_components=2) #, use_benzecri_rates=False, plotter='mpl')\n",
    "mca_.fit(correlatedgenes)\n",
    "'''correlated_genes = ['ATRX', 'IDH1', 'TP53', 'CIC', 'FUBP1']\n",
    "#not sure how many components to pick?\n",
    "mca = prince.MCA(correlated_genes, n_components=2)# use_benzecri_rates=False, plotter='mpl' )'''\n",
    "\n",
    "\n"
   ]
  },
  {
   "cell_type": "code",
   "execution_count": 70,
   "metadata": {},
   "outputs": [
    {
     "data": {
      "text/plain": [
       "(0      0\n",
       " 1      0\n",
       " 2      1\n",
       " 3      1\n",
       " 4      1\n",
       "       ..\n",
       " 857    0\n",
       " 858    0\n",
       " 859    0\n",
       " 860    0\n",
       " 861    0\n",
       " Name: ATRX, Length: 840, dtype: int64,\n",
       " 0      1\n",
       " 1      1\n",
       " 2      1\n",
       " 3      1\n",
       " 4      1\n",
       "       ..\n",
       " 857    0\n",
       " 858    0\n",
       " 859    0\n",
       " 860    0\n",
       " 861    0\n",
       " Name: IDH1, Length: 840, dtype: int64,\n",
       " 0      0\n",
       " 1      0\n",
       " 2      1\n",
       " 3      1\n",
       " 4      1\n",
       "       ..\n",
       " 857    0\n",
       " 858    1\n",
       " 859    1\n",
       " 860    1\n",
       " 861    0\n",
       " Name: TP53, Length: 840, dtype: int64,\n",
       " 0      0\n",
       " 1      1\n",
       " 2      0\n",
       " 3      0\n",
       " 4      0\n",
       "       ..\n",
       " 857    0\n",
       " 858    0\n",
       " 859    0\n",
       " 860    0\n",
       " 861    0\n",
       " Name: CIC, Length: 840, dtype: int64,\n",
       " 0      1\n",
       " 1      0\n",
       " 2      0\n",
       " 3      0\n",
       " 4      0\n",
       "       ..\n",
       " 857    0\n",
       " 858    0\n",
       " 859    0\n",
       " 860    0\n",
       " 861    0\n",
       " Name: FUBP1, Length: 840, dtype: int64)"
      ]
     },
     "execution_count": 70,
     "metadata": {},
     "output_type": "execute_result"
    }
   ],
   "source": [
    "correlatedgenes = df['ATRX'],df['IDH1'] , df['TP53'], df['CIC'], df['FUBP1']#, 'IDH1', 'TP53', 'CIC', 'FUBP1']\n",
    "\n",
    "correlatedgenes"
   ]
  },
  {
   "cell_type": "code",
   "execution_count": 71,
   "metadata": {},
   "outputs": [
    {
     "data": {
      "text/html": [
       "<div>\n",
       "<style scoped>\n",
       "    .dataframe tbody tr th:only-of-type {\n",
       "        vertical-align: middle;\n",
       "    }\n",
       "\n",
       "    .dataframe tbody tr th {\n",
       "        vertical-align: top;\n",
       "    }\n",
       "\n",
       "    .dataframe thead th {\n",
       "        text-align: right;\n",
       "    }\n",
       "</style>\n",
       "<table border=\"1\" class=\"dataframe\">\n",
       "  <thead>\n",
       "    <tr style=\"text-align: right;\">\n",
       "      <th></th>\n",
       "      <th>0</th>\n",
       "      <th>1</th>\n",
       "      <th>2</th>\n",
       "      <th>3</th>\n",
       "      <th>4</th>\n",
       "      <th>5</th>\n",
       "      <th>6</th>\n",
       "      <th>7</th>\n",
       "      <th>8</th>\n",
       "      <th>9</th>\n",
       "      <th>...</th>\n",
       "      <th>852</th>\n",
       "      <th>853</th>\n",
       "      <th>854</th>\n",
       "      <th>855</th>\n",
       "      <th>856</th>\n",
       "      <th>857</th>\n",
       "      <th>858</th>\n",
       "      <th>859</th>\n",
       "      <th>860</th>\n",
       "      <th>861</th>\n",
       "    </tr>\n",
       "  </thead>\n",
       "  <tbody>\n",
       "    <tr>\n",
       "      <th>ATRX</th>\n",
       "      <td>0</td>\n",
       "      <td>0</td>\n",
       "      <td>1</td>\n",
       "      <td>1</td>\n",
       "      <td>1</td>\n",
       "      <td>1</td>\n",
       "      <td>0</td>\n",
       "      <td>1</td>\n",
       "      <td>1</td>\n",
       "      <td>0</td>\n",
       "      <td>...</td>\n",
       "      <td>0</td>\n",
       "      <td>0</td>\n",
       "      <td>0</td>\n",
       "      <td>0</td>\n",
       "      <td>0</td>\n",
       "      <td>0</td>\n",
       "      <td>0</td>\n",
       "      <td>0</td>\n",
       "      <td>0</td>\n",
       "      <td>0</td>\n",
       "    </tr>\n",
       "    <tr>\n",
       "      <th>IDH1</th>\n",
       "      <td>1</td>\n",
       "      <td>1</td>\n",
       "      <td>1</td>\n",
       "      <td>1</td>\n",
       "      <td>1</td>\n",
       "      <td>1</td>\n",
       "      <td>1</td>\n",
       "      <td>1</td>\n",
       "      <td>1</td>\n",
       "      <td>0</td>\n",
       "      <td>...</td>\n",
       "      <td>0</td>\n",
       "      <td>0</td>\n",
       "      <td>1</td>\n",
       "      <td>0</td>\n",
       "      <td>0</td>\n",
       "      <td>0</td>\n",
       "      <td>0</td>\n",
       "      <td>0</td>\n",
       "      <td>0</td>\n",
       "      <td>0</td>\n",
       "    </tr>\n",
       "    <tr>\n",
       "      <th>TP53</th>\n",
       "      <td>0</td>\n",
       "      <td>0</td>\n",
       "      <td>1</td>\n",
       "      <td>1</td>\n",
       "      <td>1</td>\n",
       "      <td>0</td>\n",
       "      <td>1</td>\n",
       "      <td>1</td>\n",
       "      <td>1</td>\n",
       "      <td>0</td>\n",
       "      <td>...</td>\n",
       "      <td>0</td>\n",
       "      <td>0</td>\n",
       "      <td>1</td>\n",
       "      <td>0</td>\n",
       "      <td>0</td>\n",
       "      <td>0</td>\n",
       "      <td>1</td>\n",
       "      <td>1</td>\n",
       "      <td>1</td>\n",
       "      <td>0</td>\n",
       "    </tr>\n",
       "    <tr>\n",
       "      <th>CIC</th>\n",
       "      <td>0</td>\n",
       "      <td>1</td>\n",
       "      <td>0</td>\n",
       "      <td>0</td>\n",
       "      <td>0</td>\n",
       "      <td>0</td>\n",
       "      <td>0</td>\n",
       "      <td>0</td>\n",
       "      <td>0</td>\n",
       "      <td>0</td>\n",
       "      <td>...</td>\n",
       "      <td>0</td>\n",
       "      <td>0</td>\n",
       "      <td>0</td>\n",
       "      <td>0</td>\n",
       "      <td>0</td>\n",
       "      <td>0</td>\n",
       "      <td>0</td>\n",
       "      <td>0</td>\n",
       "      <td>0</td>\n",
       "      <td>0</td>\n",
       "    </tr>\n",
       "    <tr>\n",
       "      <th>FUBP1</th>\n",
       "      <td>1</td>\n",
       "      <td>0</td>\n",
       "      <td>0</td>\n",
       "      <td>0</td>\n",
       "      <td>0</td>\n",
       "      <td>0</td>\n",
       "      <td>0</td>\n",
       "      <td>0</td>\n",
       "      <td>0</td>\n",
       "      <td>0</td>\n",
       "      <td>...</td>\n",
       "      <td>0</td>\n",
       "      <td>0</td>\n",
       "      <td>0</td>\n",
       "      <td>0</td>\n",
       "      <td>0</td>\n",
       "      <td>0</td>\n",
       "      <td>0</td>\n",
       "      <td>0</td>\n",
       "      <td>0</td>\n",
       "      <td>0</td>\n",
       "    </tr>\n",
       "  </tbody>\n",
       "</table>\n",
       "<p>5 rows × 840 columns</p>\n",
       "</div>"
      ],
      "text/plain": [
       "       0    1    2    3    4    5    6    7    8    9    ...  852  853  854  \\\n",
       "ATRX     0    0    1    1    1    1    0    1    1    0  ...    0    0    0   \n",
       "IDH1     1    1    1    1    1    1    1    1    1    0  ...    0    0    1   \n",
       "TP53     0    0    1    1    1    0    1    1    1    0  ...    0    0    1   \n",
       "CIC      0    1    0    0    0    0    0    0    0    0  ...    0    0    0   \n",
       "FUBP1    1    0    0    0    0    0    0    0    0    0  ...    0    0    0   \n",
       "\n",
       "       855  856  857  858  859  860  861  \n",
       "ATRX     0    0    0    0    0    0    0  \n",
       "IDH1     0    0    0    0    0    0    0  \n",
       "TP53     0    0    0    1    1    1    0  \n",
       "CIC      0    0    0    0    0    0    0  \n",
       "FUBP1    0    0    0    0    0    0    0  \n",
       "\n",
       "[5 rows x 840 columns]"
      ]
     },
     "execution_count": 71,
     "metadata": {},
     "output_type": "execute_result"
    }
   ],
   "source": [
    "correlatedgenes = pd.DataFrame(correlatedgenes)\n",
    "correlatedgenes"
   ]
  },
  {
   "cell_type": "code",
   "execution_count": 72,
   "metadata": {},
   "outputs": [
    {
     "data": {
      "text/html": [
       "<div>\n",
       "<style scoped>\n",
       "    .dataframe tbody tr th:only-of-type {\n",
       "        vertical-align: middle;\n",
       "    }\n",
       "\n",
       "    .dataframe tbody tr th {\n",
       "        vertical-align: top;\n",
       "    }\n",
       "\n",
       "    .dataframe thead th {\n",
       "        text-align: right;\n",
       "    }\n",
       "</style>\n",
       "<table border=\"1\" class=\"dataframe\">\n",
       "  <thead>\n",
       "    <tr style=\"text-align: right;\">\n",
       "      <th></th>\n",
       "      <th>ATRX</th>\n",
       "      <th>IDH1</th>\n",
       "      <th>TP53</th>\n",
       "      <th>CIC</th>\n",
       "      <th>FUBP1</th>\n",
       "    </tr>\n",
       "  </thead>\n",
       "  <tbody>\n",
       "    <tr>\n",
       "      <th>0</th>\n",
       "      <td>0</td>\n",
       "      <td>1</td>\n",
       "      <td>0</td>\n",
       "      <td>0</td>\n",
       "      <td>1</td>\n",
       "    </tr>\n",
       "    <tr>\n",
       "      <th>1</th>\n",
       "      <td>0</td>\n",
       "      <td>1</td>\n",
       "      <td>0</td>\n",
       "      <td>1</td>\n",
       "      <td>0</td>\n",
       "    </tr>\n",
       "    <tr>\n",
       "      <th>2</th>\n",
       "      <td>1</td>\n",
       "      <td>1</td>\n",
       "      <td>1</td>\n",
       "      <td>0</td>\n",
       "      <td>0</td>\n",
       "    </tr>\n",
       "    <tr>\n",
       "      <th>3</th>\n",
       "      <td>1</td>\n",
       "      <td>1</td>\n",
       "      <td>1</td>\n",
       "      <td>0</td>\n",
       "      <td>0</td>\n",
       "    </tr>\n",
       "    <tr>\n",
       "      <th>4</th>\n",
       "      <td>1</td>\n",
       "      <td>1</td>\n",
       "      <td>1</td>\n",
       "      <td>0</td>\n",
       "      <td>0</td>\n",
       "    </tr>\n",
       "    <tr>\n",
       "      <th>...</th>\n",
       "      <td>...</td>\n",
       "      <td>...</td>\n",
       "      <td>...</td>\n",
       "      <td>...</td>\n",
       "      <td>...</td>\n",
       "    </tr>\n",
       "    <tr>\n",
       "      <th>857</th>\n",
       "      <td>0</td>\n",
       "      <td>0</td>\n",
       "      <td>0</td>\n",
       "      <td>0</td>\n",
       "      <td>0</td>\n",
       "    </tr>\n",
       "    <tr>\n",
       "      <th>858</th>\n",
       "      <td>0</td>\n",
       "      <td>0</td>\n",
       "      <td>1</td>\n",
       "      <td>0</td>\n",
       "      <td>0</td>\n",
       "    </tr>\n",
       "    <tr>\n",
       "      <th>859</th>\n",
       "      <td>0</td>\n",
       "      <td>0</td>\n",
       "      <td>1</td>\n",
       "      <td>0</td>\n",
       "      <td>0</td>\n",
       "    </tr>\n",
       "    <tr>\n",
       "      <th>860</th>\n",
       "      <td>0</td>\n",
       "      <td>0</td>\n",
       "      <td>1</td>\n",
       "      <td>0</td>\n",
       "      <td>0</td>\n",
       "    </tr>\n",
       "    <tr>\n",
       "      <th>861</th>\n",
       "      <td>0</td>\n",
       "      <td>0</td>\n",
       "      <td>0</td>\n",
       "      <td>0</td>\n",
       "      <td>0</td>\n",
       "    </tr>\n",
       "  </tbody>\n",
       "</table>\n",
       "<p>840 rows × 5 columns</p>\n",
       "</div>"
      ],
      "text/plain": [
       "     ATRX  IDH1  TP53  CIC  FUBP1\n",
       "0       0     1     0    0      1\n",
       "1       0     1     0    1      0\n",
       "2       1     1     1    0      0\n",
       "3       1     1     1    0      0\n",
       "4       1     1     1    0      0\n",
       "..    ...   ...   ...  ...    ...\n",
       "857     0     0     0    0      0\n",
       "858     0     0     1    0      0\n",
       "859     0     0     1    0      0\n",
       "860     0     0     1    0      0\n",
       "861     0     0     0    0      0\n",
       "\n",
       "[840 rows x 5 columns]"
      ]
     },
     "execution_count": 72,
     "metadata": {},
     "output_type": "execute_result"
    }
   ],
   "source": [
    "#reverse \n",
    "'''correlatedgenes = correlatedgenes.T()\n",
    "'''\n",
    "correlatedgenes = correlatedgenes.transpose()\n",
    "correlatedgenes\n"
   ]
  },
  {
   "cell_type": "code",
   "execution_count": 73,
   "metadata": {},
   "outputs": [
    {
     "data": {
      "text/html": [
       "\n",
       "<style>\n",
       "  #altair-viz-9add1448025542b9915c68d8aedfb7e9.vega-embed {\n",
       "    width: 100%;\n",
       "    display: flex;\n",
       "  }\n",
       "\n",
       "  #altair-viz-9add1448025542b9915c68d8aedfb7e9.vega-embed details,\n",
       "  #altair-viz-9add1448025542b9915c68d8aedfb7e9.vega-embed details summary {\n",
       "    position: relative;\n",
       "  }\n",
       "</style>\n",
       "<div id=\"altair-viz-9add1448025542b9915c68d8aedfb7e9\"></div>\n",
       "<script type=\"text/javascript\">\n",
       "  var VEGA_DEBUG = (typeof VEGA_DEBUG == \"undefined\") ? {} : VEGA_DEBUG;\n",
       "  (function(spec, embedOpt){\n",
       "    let outputDiv = document.currentScript.previousElementSibling;\n",
       "    if (outputDiv.id !== \"altair-viz-9add1448025542b9915c68d8aedfb7e9\") {\n",
       "      outputDiv = document.getElementById(\"altair-viz-9add1448025542b9915c68d8aedfb7e9\");\n",
       "    }\n",
       "    const paths = {\n",
       "      \"vega\": \"https://cdn.jsdelivr.net/npm/vega@5?noext\",\n",
       "      \"vega-lib\": \"https://cdn.jsdelivr.net/npm/vega-lib?noext\",\n",
       "      \"vega-lite\": \"https://cdn.jsdelivr.net/npm/vega-lite@5.16.3?noext\",\n",
       "      \"vega-embed\": \"https://cdn.jsdelivr.net/npm/vega-embed@6?noext\",\n",
       "    };\n",
       "\n",
       "    function maybeLoadScript(lib, version) {\n",
       "      var key = `${lib.replace(\"-\", \"\")}_version`;\n",
       "      return (VEGA_DEBUG[key] == version) ?\n",
       "        Promise.resolve(paths[lib]) :\n",
       "        new Promise(function(resolve, reject) {\n",
       "          var s = document.createElement('script');\n",
       "          document.getElementsByTagName(\"head\")[0].appendChild(s);\n",
       "          s.async = true;\n",
       "          s.onload = () => {\n",
       "            VEGA_DEBUG[key] = version;\n",
       "            return resolve(paths[lib]);\n",
       "          };\n",
       "          s.onerror = () => reject(`Error loading script: ${paths[lib]}`);\n",
       "          s.src = paths[lib];\n",
       "        });\n",
       "    }\n",
       "\n",
       "    function showError(err) {\n",
       "      outputDiv.innerHTML = `<div class=\"error\" style=\"color:red;\">${err}</div>`;\n",
       "      throw err;\n",
       "    }\n",
       "\n",
       "    function displayChart(vegaEmbed) {\n",
       "      vegaEmbed(outputDiv, spec, embedOpt)\n",
       "        .catch(err => showError(`Javascript Error: ${err.message}<br>This usually means there's a typo in your chart specification. See the javascript console for the full traceback.`));\n",
       "    }\n",
       "\n",
       "    if(typeof define === \"function\" && define.amd) {\n",
       "      requirejs.config({paths});\n",
       "      require([\"vega-embed\"], displayChart, err => showError(`Error loading script: ${err.message}`));\n",
       "    } else {\n",
       "      maybeLoadScript(\"vega\", \"5\")\n",
       "        .then(() => maybeLoadScript(\"vega-lite\", \"5.16.3\"))\n",
       "        .then(() => maybeLoadScript(\"vega-embed\", \"6\"))\n",
       "        .catch(showError)\n",
       "        .then(() => displayChart(vegaEmbed));\n",
       "    }\n",
       "  })({\"config\": {\"view\": {\"continuousWidth\": 300, \"continuousHeight\": 300}}, \"layer\": [{\"data\": {\"name\": \"data-2f8a0c573ccc0ba9c5d6eed8b82feedd\"}, \"mark\": {\"type\": \"circle\", \"size\": 50}, \"encoding\": {\"color\": {\"field\": \"variable\", \"type\": \"nominal\"}, \"tooltip\": [{\"field\": \"variable\", \"type\": \"nominal\"}, {\"field\": \"value\", \"type\": \"nominal\"}, {\"field\": \"component 0\", \"type\": \"quantitative\"}, {\"field\": \"component 1\", \"type\": \"quantitative\"}], \"x\": {\"axis\": {\"title\": \"component 0 \\u2014 38.64%\"}, \"field\": \"component 0\", \"scale\": {\"zero\": false}, \"type\": \"quantitative\"}, \"y\": {\"axis\": {\"title\": \"component 1 \\u2014 33.16%\"}, \"field\": \"component 1\", \"scale\": {\"zero\": false}, \"type\": \"quantitative\"}}, \"name\": \"view_9\"}, {\"data\": {\"name\": \"data-76c0c47bab94fc6104e476113afd2b27\"}, \"mark\": {\"type\": \"circle\", \"size\": 50}, \"encoding\": {\"color\": {\"field\": \"variable\", \"type\": \"nominal\"}, \"tooltip\": [{\"field\": \"variable\", \"type\": \"nominal\"}, {\"field\": \"value\", \"type\": \"nominal\"}, {\"field\": \"component 0\", \"type\": \"quantitative\"}, {\"field\": \"component 1\", \"type\": \"quantitative\"}], \"x\": {\"axis\": {\"title\": \"component 0 \\u2014 38.64%\"}, \"field\": \"component 0\", \"scale\": {\"zero\": false}, \"type\": \"quantitative\"}, \"y\": {\"axis\": {\"title\": \"component 1 \\u2014 33.16%\"}, \"field\": \"component 1\", \"scale\": {\"zero\": false}, \"type\": \"quantitative\"}}}], \"params\": [{\"name\": \"param_9\", \"select\": {\"type\": \"interval\", \"encodings\": [\"x\", \"y\"]}, \"bind\": \"scales\", \"views\": [\"view_9\"]}], \"$schema\": \"https://vega.github.io/schema/vega-lite/v5.16.3.json\", \"datasets\": {\"data-2f8a0c573ccc0ba9c5d6eed8b82feedd\": [{\"component 0\": 0.517580289348746, \"component 1\": 1.1851988064088024, \"variable\": \"row\", \"value\": \"0\", \"label\": 0}, {\"component 0\": 0.47345938288549566, \"component 1\": 0.8780143253958594, \"variable\": \"row\", \"value\": \"1\", \"label\": 1}, {\"component 0\": -1.0353745936361713, \"component 1\": 0.14486509101295753, \"variable\": \"row\", \"value\": \"2\", \"label\": 2}, {\"component 0\": -1.0353745936361713, \"component 1\": 0.14486509101295753, \"variable\": \"row\", \"value\": \"3\", \"label\": 3}, {\"component 0\": -1.0353745936361713, \"component 1\": 0.14486509101295753, \"variable\": \"row\", \"value\": \"4\", \"label\": 4}, {\"component 0\": -0.4844851207644412, \"component 1\": 0.1625264272042548, \"variable\": \"row\", \"value\": \"5\", \"label\": 5}, {\"component 0\": -0.40631928135611683, \"component 1\": 0.043185566521927524, \"variable\": \"row\", \"value\": \"6\", \"label\": 6}, {\"component 0\": -1.0353745936361713, \"component 1\": 0.14486509101295753, \"variable\": \"row\", \"value\": \"7\", \"label\": 7}, {\"component 0\": -1.0353745936361713, \"component 1\": 0.14486509101295753, \"variable\": \"row\", \"value\": \"8\", \"label\": 8}, {\"component 0\": 0.49740564854198227, \"component 1\": -0.4180752344894518, \"variable\": \"row\", \"value\": \"9\", \"label\": 9}, {\"component 0\": 0.49740564854198227, \"component 1\": -0.4180752344894518, \"variable\": \"row\", \"value\": \"10\", \"label\": 10}, {\"component 0\": 0.47345938288549566, \"component 1\": 0.8780143253958594, \"variable\": \"row\", \"value\": \"11\", \"label\": 11}, {\"component 0\": 0.49740564854198227, \"component 1\": -0.4180752344894518, \"variable\": \"row\", \"value\": \"12\", \"label\": 12}, {\"component 0\": -1.0353745936361713, \"component 1\": 0.14486509101295753, \"variable\": \"row\", \"value\": \"13\", \"label\": 13}, {\"component 0\": 0.49740564854198227, \"component 1\": -0.4180752344894518, \"variable\": \"row\", \"value\": \"14\", \"label\": 14}, {\"component 0\": -0.4844851207644412, \"component 1\": 0.1625264272042548, \"variable\": \"row\", \"value\": \"15\", \"label\": 15}, {\"component 0\": 0.14457019151561318, \"component 1\": 0.06084690271322481, \"variable\": \"row\", \"value\": \"16\", \"label\": 16}, {\"component 0\": 0.14457019151561318, \"component 1\": 0.06084690271322481, \"variable\": \"row\", \"value\": \"17\", \"label\": 17}, {\"component 0\": -1.0353745936361713, \"component 1\": 0.14486509101295753, \"variable\": \"row\", \"value\": \"18\", \"label\": 18}, {\"component 0\": -1.0353745936361713, \"component 1\": 0.14486509101295753, \"variable\": \"row\", \"value\": \"19\", \"label\": 19}, {\"component 0\": -0.40631928135611683, \"component 1\": 0.043185566521927524, \"variable\": \"row\", \"value\": \"20\", \"label\": 20}, {\"component 0\": -1.0353745936361713, \"component 1\": 0.14486509101295753, \"variable\": \"row\", \"value\": \"21\", \"label\": 21}, {\"component 0\": -1.0353745936361713, \"component 1\": 0.14486509101295753, \"variable\": \"row\", \"value\": \"22\", \"label\": 22}, {\"component 0\": -0.053483824329747714, \"component 1\": -0.43573657068074906, \"variable\": \"row\", \"value\": \"23\", \"label\": 23}, {\"component 0\": 0.49740564854198227, \"component 1\": -0.4180752344894518, \"variable\": \"row\", \"value\": \"24\", \"label\": 24}, {\"component 0\": 0.49740564854198227, \"component 1\": -0.4180752344894518, \"variable\": \"row\", \"value\": \"25\", \"label\": 25}, {\"component 0\": 0.47345938288549566, \"component 1\": 0.8780143253958594, \"variable\": \"row\", \"value\": \"26\", \"label\": 26}, {\"component 0\": 0.14457019151561318, \"component 1\": 0.06084690271322481, \"variable\": \"row\", \"value\": \"27\", \"label\": 27}, {\"component 0\": -0.6825391366098023, \"component 1\": -0.3340570461897191, \"variable\": \"row\", \"value\": \"28\", \"label\": 28}, {\"component 0\": -0.6825391366098023, \"component 1\": -0.3340570461897191, \"variable\": \"row\", \"value\": \"29\", \"label\": 29}, {\"component 0\": 0.49740564854198227, \"component 1\": -0.4180752344894518, \"variable\": \"row\", \"value\": \"30\", \"label\": 30}, {\"component 0\": -0.40631928135611683, \"component 1\": 0.043185566521927524, \"variable\": \"row\", \"value\": \"31\", \"label\": 31}, {\"component 0\": 0.49740564854198227, \"component 1\": -0.4180752344894518, \"variable\": \"row\", \"value\": \"32\", \"label\": 32}, {\"component 0\": 0.8464694807186285, \"component 1\": 2.002366229091437, \"variable\": \"row\", \"value\": \"33\", \"label\": 33}, {\"component 0\": 0.47345938288549566, \"component 1\": 0.8780143253958594, \"variable\": \"row\", \"value\": \"34\", \"label\": 34}, {\"component 0\": 0.47345938288549566, \"component 1\": 0.8780143253958594, \"variable\": \"row\", \"value\": \"35\", \"label\": 35}, {\"component 0\": 0.8464694807186285, \"component 1\": 2.002366229091437, \"variable\": \"row\", \"value\": \"36\", \"label\": 36}, {\"component 0\": 0.14457019151561318, \"component 1\": 0.06084690271322481, \"variable\": \"row\", \"value\": \"37\", \"label\": 37}, {\"component 0\": -0.03330918352298401, \"component 1\": 1.1675374702175052, \"variable\": \"row\", \"value\": \"38\", \"label\": 38}, {\"component 0\": 0.49740564854198227, \"component 1\": -0.4180752344894518, \"variable\": \"row\", \"value\": \"39\", \"label\": 39}, {\"component 0\": -0.4844851207644412, \"component 1\": 0.1625264272042548, \"variable\": \"row\", \"value\": \"40\", \"label\": 40}, {\"component 0\": 0.47345938288549566, \"component 1\": 0.8780143253958594, \"variable\": \"row\", \"value\": \"42\", \"label\": 42}, {\"component 0\": 0.8262948399118647, \"component 1\": 0.3990921881931828, \"variable\": \"row\", \"value\": \"43\", \"label\": 43}, {\"component 0\": 0.49740564854198227, \"component 1\": -0.4180752344894518, \"variable\": \"row\", \"value\": \"44\", \"label\": 44}, {\"component 0\": 0.47345938288549566, \"component 1\": 0.8780143253958594, \"variable\": \"row\", \"value\": \"45\", \"label\": 45}, {\"component 0\": 0.8464694807186285, \"component 1\": 2.002366229091437, \"variable\": \"row\", \"value\": \"46\", \"label\": 46}, {\"component 0\": -1.0353745936361713, \"component 1\": 0.14486509101295753, \"variable\": \"row\", \"value\": \"47\", \"label\": 47}, {\"component 0\": 0.14457019151561318, \"component 1\": 0.06084690271322481, \"variable\": \"row\", \"value\": \"48\", \"label\": 48}, {\"component 0\": -0.053483824329747714, \"component 1\": -0.43573657068074906, \"variable\": \"row\", \"value\": \"49\", \"label\": 49}, {\"component 0\": -0.40631928135611683, \"component 1\": 0.043185566521927524, \"variable\": \"row\", \"value\": \"50\", \"label\": 50}, {\"component 0\": 0.47345938288549566, \"component 1\": 0.8780143253958594, \"variable\": \"row\", \"value\": \"51\", \"label\": 51}, {\"component 0\": 0.47345938288549566, \"component 1\": 0.8780143253958594, \"variable\": \"row\", \"value\": \"52\", \"label\": 52}, {\"component 0\": -0.40631928135611683, \"component 1\": 0.043185566521927524, \"variable\": \"row\", \"value\": \"53\", \"label\": 53}, {\"component 0\": 0.49740564854198227, \"component 1\": -0.4180752344894518, \"variable\": \"row\", \"value\": \"54\", \"label\": 54}, {\"component 0\": 0.47345938288549566, \"component 1\": 0.8780143253958594, \"variable\": \"row\", \"value\": \"55\", \"label\": 55}, {\"component 0\": -0.4844851207644412, \"component 1\": 0.1625264272042548, \"variable\": \"row\", \"value\": \"56\", \"label\": 56}, {\"component 0\": 0.47345938288549566, \"component 1\": 0.8780143253958594, \"variable\": \"row\", \"value\": \"57\", \"label\": 57}, {\"component 0\": 0.21741416843857403, \"component 1\": 2.104045753582467, \"variable\": \"row\", \"value\": \"58\", \"label\": 58}, {\"component 0\": -0.053483824329747714, \"component 1\": -0.43573657068074906, \"variable\": \"row\", \"value\": \"59\", \"label\": 59}, {\"component 0\": 0.49740564854198227, \"component 1\": -0.4180752344894518, \"variable\": \"row\", \"value\": \"60\", \"label\": 60}, {\"component 0\": -1.0353745936361713, \"component 1\": 0.14486509101295753, \"variable\": \"row\", \"value\": \"61\", \"label\": 61}, {\"component 0\": 1.1993049377449976, \"component 1\": 1.5234440918887604, \"variable\": \"row\", \"value\": \"62\", \"label\": 62}, {\"component 0\": -1.0353745936361713, \"component 1\": 0.14486509101295753, \"variable\": \"row\", \"value\": \"63\", \"label\": 63}, {\"component 0\": -1.0353745936361713, \"component 1\": 0.14486509101295753, \"variable\": \"row\", \"value\": \"64\", \"label\": 64}, {\"component 0\": 0.47345938288549566, \"component 1\": 0.8780143253958594, \"variable\": \"row\", \"value\": \"65\", \"label\": 65}, {\"component 0\": 0.49740564854198227, \"component 1\": -0.4180752344894518, \"variable\": \"row\", \"value\": \"66\", \"label\": 66}, {\"component 0\": 0.47345938288549566, \"component 1\": 0.8780143253958594, \"variable\": \"row\", \"value\": \"67\", \"label\": 67}, {\"component 0\": -1.0353745936361713, \"component 1\": 0.14486509101295753, \"variable\": \"row\", \"value\": \"68\", \"label\": 68}, {\"component 0\": 0.49740564854198227, \"component 1\": -0.4180752344894518, \"variable\": \"row\", \"value\": \"69\", \"label\": 69}, {\"component 0\": 0.8262948399118647, \"component 1\": 0.3990921881931828, \"variable\": \"row\", \"value\": \"70\", \"label\": 70}, {\"component 0\": 0.47345938288549566, \"component 1\": 0.8780143253958594, \"variable\": \"row\", \"value\": \"72\", \"label\": 72}, {\"component 0\": -1.0353745936361713, \"component 1\": 0.14486509101295753, \"variable\": \"row\", \"value\": \"73\", \"label\": 73}, {\"component 0\": -0.40631928135611683, \"component 1\": 0.043185566521927524, \"variable\": \"row\", \"value\": \"74\", \"label\": 74}, {\"component 0\": -0.40631928135611683, \"component 1\": 0.043185566521927524, \"variable\": \"row\", \"value\": \"75\", \"label\": 75}, {\"component 0\": 0.8464694807186285, \"component 1\": 2.002366229091437, \"variable\": \"row\", \"value\": \"76\", \"label\": 76}, {\"component 0\": -0.40631928135611683, \"component 1\": 0.043185566521927524, \"variable\": \"row\", \"value\": \"77\", \"label\": 77}, {\"component 0\": -1.0353745936361713, \"component 1\": 0.14486509101295753, \"variable\": \"row\", \"value\": \"78\", \"label\": 78}, {\"component 0\": -0.40631928135611683, \"component 1\": 0.043185566521927524, \"variable\": \"row\", \"value\": \"79\", \"label\": 79}, {\"component 0\": -0.13164966373807216, \"component 1\": -0.3163957099984218, \"variable\": \"row\", \"value\": \"80\", \"label\": 80}, {\"component 0\": 0.47345938288549566, \"component 1\": 0.8780143253958594, \"variable\": \"row\", \"value\": \"81\", \"label\": 81}, {\"component 0\": 0.8464694807186285, \"component 1\": 2.002366229091437, \"variable\": \"row\", \"value\": \"82\", \"label\": 82}, {\"component 0\": 0.47345938288549566, \"component 1\": 0.8780143253958594, \"variable\": \"row\", \"value\": \"83\", \"label\": 83}, {\"component 0\": 0.49740564854198227, \"component 1\": -0.4180752344894518, \"variable\": \"row\", \"value\": \"84\", \"label\": 84}, {\"component 0\": 0.47345938288549566, \"component 1\": 0.8780143253958594, \"variable\": \"row\", \"value\": \"85\", \"label\": 85}, {\"component 0\": -0.40631928135611683, \"component 1\": 0.043185566521927524, \"variable\": \"row\", \"value\": \"86\", \"label\": 86}, {\"component 0\": 0.49740564854198227, \"component 1\": -0.4180752344894518, \"variable\": \"row\", \"value\": \"87\", \"label\": 87}, {\"component 0\": -0.053483824329747714, \"component 1\": -0.43573657068074906, \"variable\": \"row\", \"value\": \"88\", \"label\": 88}, {\"component 0\": -0.053483824329747714, \"component 1\": -0.43573657068074906, \"variable\": \"row\", \"value\": \"89\", \"label\": 89}, {\"component 0\": 0.14457019151561318, \"component 1\": 0.06084690271322481, \"variable\": \"row\", \"value\": \"90\", \"label\": 90}, {\"component 0\": 0.14457019151561318, \"component 1\": 0.06084690271322481, \"variable\": \"row\", \"value\": \"91\", \"label\": 91}, {\"component 0\": -1.0353745936361713, \"component 1\": 0.14486509101295753, \"variable\": \"row\", \"value\": \"92\", \"label\": 92}, {\"component 0\": -0.40631928135611683, \"component 1\": 0.043185566521927524, \"variable\": \"row\", \"value\": \"93\", \"label\": 93}, {\"component 0\": -1.0353745936361713, \"component 1\": 0.14486509101295753, \"variable\": \"row\", \"value\": \"94\", \"label\": 94}, {\"component 0\": 0.14457019151561318, \"component 1\": 0.06084690271322481, \"variable\": \"row\", \"value\": \"95\", \"label\": 95}, {\"component 0\": -1.0353745936361713, \"component 1\": 0.14486509101295753, \"variable\": \"row\", \"value\": \"96\", \"label\": 96}, {\"component 0\": -1.0353745936361713, \"component 1\": 0.14486509101295753, \"variable\": \"row\", \"value\": \"97\", \"label\": 97}, {\"component 0\": -0.13164966373807216, \"component 1\": -0.3163957099984218, \"variable\": \"row\", \"value\": \"98\", \"label\": 98}, {\"component 0\": 0.47345938288549566, \"component 1\": 0.8780143253958594, \"variable\": \"row\", \"value\": \"99\", \"label\": 99}, {\"component 0\": -1.0353745936361713, \"component 1\": 0.14486509101295753, \"variable\": \"row\", \"value\": \"100\", \"label\": 100}, {\"component 0\": -1.0353745936361713, \"component 1\": 0.14486509101295753, \"variable\": \"row\", \"value\": \"101\", \"label\": 101}, {\"component 0\": 0.14457019151561318, \"component 1\": 0.06084690271322481, \"variable\": \"row\", \"value\": \"102\", \"label\": 102}, {\"component 0\": -1.0353745936361713, \"component 1\": 0.14486509101295753, \"variable\": \"row\", \"value\": \"103\", \"label\": 103}, {\"component 0\": -1.0353745936361713, \"component 1\": 0.14486509101295753, \"variable\": \"row\", \"value\": \"104\", \"label\": 104}, {\"component 0\": -0.6825391366098023, \"component 1\": -0.3340570461897191, \"variable\": \"row\", \"value\": \"105\", \"label\": 105}, {\"component 0\": 0.14457019151561318, \"component 1\": 0.06084690271322481, \"variable\": \"row\", \"value\": \"106\", \"label\": 106}, {\"component 0\": 0.8262948399118647, \"component 1\": 0.3990921881931828, \"variable\": \"row\", \"value\": \"107\", \"label\": 107}, {\"component 0\": -1.0353745936361713, \"component 1\": 0.14486509101295753, \"variable\": \"row\", \"value\": \"108\", \"label\": 108}, {\"component 0\": -1.0353745936361713, \"component 1\": 0.14486509101295753, \"variable\": \"row\", \"value\": \"109\", \"label\": 109}, {\"component 0\": -0.4844851207644412, \"component 1\": 0.1625264272042548, \"variable\": \"row\", \"value\": \"110\", \"label\": 110}, {\"component 0\": -1.0353745936361713, \"component 1\": 0.14486509101295753, \"variable\": \"row\", \"value\": \"111\", \"label\": 111}, {\"component 0\": 0.49740564854198227, \"component 1\": -0.4180752344894518, \"variable\": \"row\", \"value\": \"112\", \"label\": 112}, {\"component 0\": 0.49740564854198227, \"component 1\": -0.4180752344894518, \"variable\": \"row\", \"value\": \"113\", \"label\": 113}, {\"component 0\": -0.40631928135611683, \"component 1\": 0.043185566521927524, \"variable\": \"row\", \"value\": \"114\", \"label\": 114}, {\"component 0\": -0.4844851207644412, \"component 1\": 0.1625264272042548, \"variable\": \"row\", \"value\": \"115\", \"label\": 115}, {\"component 0\": 0.8464694807186285, \"component 1\": 2.002366229091437, \"variable\": \"row\", \"value\": \"116\", \"label\": 116}, {\"component 0\": -1.0353745936361713, \"component 1\": 0.14486509101295753, \"variable\": \"row\", \"value\": \"117\", \"label\": 117}, {\"component 0\": 0.49740564854198227, \"component 1\": -0.4180752344894518, \"variable\": \"row\", \"value\": \"118\", \"label\": 118}, {\"component 0\": 0.49740564854198227, \"component 1\": -0.4180752344894518, \"variable\": \"row\", \"value\": \"119\", \"label\": 119}, {\"component 0\": 0.8464694807186285, \"component 1\": 2.002366229091437, \"variable\": \"row\", \"value\": \"120\", \"label\": 120}, {\"component 0\": 0.517580289348746, \"component 1\": 1.1851988064088024, \"variable\": \"row\", \"value\": \"121\", \"label\": 121}, {\"component 0\": 0.47345938288549566, \"component 1\": 0.8780143253958594, \"variable\": \"row\", \"value\": \"122\", \"label\": 122}, {\"component 0\": 0.14457019151561318, \"component 1\": 0.06084690271322481, \"variable\": \"row\", \"value\": \"123\", \"label\": 123}, {\"component 0\": 0.49740564854198227, \"component 1\": -0.4180752344894518, \"variable\": \"row\", \"value\": \"124\", \"label\": 124}, {\"component 0\": 0.49740564854198227, \"component 1\": -0.4180752344894518, \"variable\": \"row\", \"value\": \"125\", \"label\": 125}, {\"component 0\": -1.0353745936361713, \"component 1\": 0.14486509101295753, \"variable\": \"row\", \"value\": \"126\", \"label\": 126}, {\"component 0\": 0.47345938288549566, \"component 1\": 0.8780143253958594, \"variable\": \"row\", \"value\": \"127\", \"label\": 127}, {\"component 0\": 0.49740564854198227, \"component 1\": -0.4180752344894518, \"variable\": \"row\", \"value\": \"128\", \"label\": 128}, {\"component 0\": -1.0353745936361713, \"component 1\": 0.14486509101295753, \"variable\": \"row\", \"value\": \"129\", \"label\": 129}, {\"component 0\": -1.0353745936361713, \"component 1\": 0.14486509101295753, \"variable\": \"row\", \"value\": \"130\", \"label\": 130}, {\"component 0\": -0.40631928135611683, \"component 1\": 0.043185566521927524, \"variable\": \"row\", \"value\": \"131\", \"label\": 131}, {\"component 0\": 0.49740564854198227, \"component 1\": -0.4180752344894518, \"variable\": \"row\", \"value\": \"132\", \"label\": 132}, {\"component 0\": 0.8464694807186285, \"component 1\": 2.002366229091437, \"variable\": \"row\", \"value\": \"133\", \"label\": 133}, {\"component 0\": -1.0353745936361713, \"component 1\": 0.14486509101295753, \"variable\": \"row\", \"value\": \"134\", \"label\": 134}, {\"component 0\": 0.47345938288549566, \"component 1\": 0.8780143253958594, \"variable\": \"row\", \"value\": \"135\", \"label\": 135}, {\"component 0\": -1.0353745936361713, \"component 1\": 0.14486509101295753, \"variable\": \"row\", \"value\": \"136\", \"label\": 136}, {\"component 0\": -0.4844851207644412, \"component 1\": 0.1625264272042548, \"variable\": \"row\", \"value\": \"137\", \"label\": 137}, {\"component 0\": 0.2955800078468984, \"component 1\": 1.9847048929001396, \"variable\": \"row\", \"value\": \"138\", \"label\": 138}, {\"component 0\": 0.14457019151561318, \"component 1\": 0.06084690271322481, \"variable\": \"row\", \"value\": \"139\", \"label\": 139}, {\"component 0\": 0.8464694807186285, \"component 1\": 2.002366229091437, \"variable\": \"row\", \"value\": \"140\", \"label\": 140}, {\"component 0\": -0.40631928135611683, \"component 1\": 0.043185566521927524, \"variable\": \"row\", \"value\": \"141\", \"label\": 141}, {\"component 0\": -1.0353745936361713, \"component 1\": 0.14486509101295753, \"variable\": \"row\", \"value\": \"142\", \"label\": 142}, {\"component 0\": 0.47345938288549566, \"component 1\": 0.8780143253958594, \"variable\": \"row\", \"value\": \"143\", \"label\": 143}, {\"component 0\": -1.0353745936361713, \"component 1\": 0.14486509101295753, \"variable\": \"row\", \"value\": \"144\", \"label\": 144}, {\"component 0\": -1.0353745936361713, \"component 1\": 0.14486509101295753, \"variable\": \"row\", \"value\": \"145\", \"label\": 145}, {\"component 0\": -0.40631928135611683, \"component 1\": 0.043185566521927524, \"variable\": \"row\", \"value\": \"146\", \"label\": 146}, {\"component 0\": -1.0353745936361713, \"component 1\": 0.14486509101295753, \"variable\": \"row\", \"value\": \"147\", \"label\": 147}, {\"component 0\": -1.0353745936361713, \"component 1\": 0.14486509101295753, \"variable\": \"row\", \"value\": \"148\", \"label\": 148}, {\"component 0\": 0.49740564854198227, \"component 1\": -0.4180752344894518, \"variable\": \"row\", \"value\": \"149\", \"label\": 149}, {\"component 0\": -1.0353745936361713, \"component 1\": 0.14486509101295753, \"variable\": \"row\", \"value\": \"150\", \"label\": 150}, {\"component 0\": -0.053483824329747714, \"component 1\": -0.43573657068074906, \"variable\": \"row\", \"value\": \"151\", \"label\": 151}, {\"component 0\": 0.47345938288549566, \"component 1\": 0.8780143253958594, \"variable\": \"row\", \"value\": \"152\", \"label\": 152}, {\"component 0\": -0.053483824329747714, \"component 1\": -0.43573657068074906, \"variable\": \"row\", \"value\": \"153\", \"label\": 153}, {\"component 0\": -1.0353745936361713, \"component 1\": 0.14486509101295753, \"variable\": \"row\", \"value\": \"154\", \"label\": 154}, {\"component 0\": -1.0353745936361713, \"component 1\": 0.14486509101295753, \"variable\": \"row\", \"value\": \"155\", \"label\": 155}, {\"component 0\": 0.49740564854198227, \"component 1\": -0.4180752344894518, \"variable\": \"row\", \"value\": \"156\", \"label\": 156}, {\"component 0\": -0.40631928135611683, \"component 1\": 0.043185566521927524, \"variable\": \"row\", \"value\": \"157\", \"label\": 157}, {\"component 0\": -1.0353745936361713, \"component 1\": 0.14486509101295753, \"variable\": \"row\", \"value\": \"158\", \"label\": 158}, {\"component 0\": 0.49740564854198227, \"component 1\": -0.4180752344894518, \"variable\": \"row\", \"value\": \"159\", \"label\": 159}, {\"component 0\": -0.40631928135611683, \"component 1\": 0.043185566521927524, \"variable\": \"row\", \"value\": \"160\", \"label\": 160}, {\"component 0\": 0.49740564854198227, \"component 1\": -0.4180752344894518, \"variable\": \"row\", \"value\": \"161\", \"label\": 161}, {\"component 0\": -0.4844851207644412, \"component 1\": 0.1625264272042548, \"variable\": \"row\", \"value\": \"162\", \"label\": 162}, {\"component 0\": -1.0353745936361713, \"component 1\": 0.14486509101295753, \"variable\": \"row\", \"value\": \"164\", \"label\": 164}, {\"component 0\": -0.40631928135611683, \"component 1\": 0.043185566521927524, \"variable\": \"row\", \"value\": \"165\", \"label\": 165}, {\"component 0\": 0.47345938288549566, \"component 1\": 0.8780143253958594, \"variable\": \"row\", \"value\": \"166\", \"label\": 166}, {\"component 0\": 0.14457019151561318, \"component 1\": 0.06084690271322481, \"variable\": \"row\", \"value\": \"167\", \"label\": 167}, {\"component 0\": -0.053483824329747714, \"component 1\": -0.43573657068074906, \"variable\": \"row\", \"value\": \"168\", \"label\": 168}, {\"component 0\": 0.49740564854198227, \"component 1\": -0.4180752344894518, \"variable\": \"row\", \"value\": \"169\", \"label\": 169}, {\"component 0\": 0.14457019151561318, \"component 1\": 0.06084690271322481, \"variable\": \"row\", \"value\": \"170\", \"label\": 170}, {\"component 0\": 0.517580289348746, \"component 1\": 1.1851988064088024, \"variable\": \"row\", \"value\": \"171\", \"label\": 171}, {\"component 0\": -0.40631928135611683, \"component 1\": 0.043185566521927524, \"variable\": \"row\", \"value\": \"172\", \"label\": 172}, {\"component 0\": 0.14457019151561318, \"component 1\": 0.06084690271322481, \"variable\": \"row\", \"value\": \"173\", \"label\": 173}, {\"component 0\": -1.0353745936361713, \"component 1\": 0.14486509101295753, \"variable\": \"row\", \"value\": \"174\", \"label\": 174}, {\"component 0\": 0.49740564854198227, \"component 1\": -0.4180752344894518, \"variable\": \"row\", \"value\": \"175\", \"label\": 175}, {\"component 0\": -0.40631928135611683, \"component 1\": 0.043185566521927524, \"variable\": \"row\", \"value\": \"176\", \"label\": 176}, {\"component 0\": 0.49740564854198227, \"component 1\": -0.4180752344894518, \"variable\": \"row\", \"value\": \"177\", \"label\": 177}, {\"component 0\": -1.0353745936361713, \"component 1\": 0.14486509101295753, \"variable\": \"row\", \"value\": \"178\", \"label\": 178}, {\"component 0\": -0.40631928135611683, \"component 1\": 0.043185566521927524, \"variable\": \"row\", \"value\": \"179\", \"label\": 179}, {\"component 0\": 0.47345938288549566, \"component 1\": 0.8780143253958594, \"variable\": \"row\", \"value\": \"180\", \"label\": 180}, {\"component 0\": 0.47345938288549566, \"component 1\": 0.8780143253958594, \"variable\": \"row\", \"value\": \"181\", \"label\": 181}, {\"component 0\": 0.49740564854198227, \"component 1\": -0.4180752344894518, \"variable\": \"row\", \"value\": \"182\", \"label\": 182}, {\"component 0\": -1.0353745936361713, \"component 1\": 0.14486509101295753, \"variable\": \"row\", \"value\": \"183\", \"label\": 183}, {\"component 0\": 0.14457019151561318, \"component 1\": 0.06084690271322481, \"variable\": \"row\", \"value\": \"184\", \"label\": 184}, {\"component 0\": 0.49740564854198227, \"component 1\": -0.4180752344894518, \"variable\": \"row\", \"value\": \"185\", \"label\": 185}, {\"component 0\": -1.0353745936361713, \"component 1\": 0.14486509101295753, \"variable\": \"row\", \"value\": \"186\", \"label\": 186}, {\"component 0\": -1.0353745936361713, \"component 1\": 0.14486509101295753, \"variable\": \"row\", \"value\": \"187\", \"label\": 187}, {\"component 0\": 0.517580289348746, \"component 1\": 1.1851988064088024, \"variable\": \"row\", \"value\": \"188\", \"label\": 188}, {\"component 0\": 0.47345938288549566, \"component 1\": 0.8780143253958594, \"variable\": \"row\", \"value\": \"189\", \"label\": 189}, {\"component 0\": -1.0353745936361713, \"component 1\": 0.14486509101295753, \"variable\": \"row\", \"value\": \"190\", \"label\": 190}, {\"component 0\": -1.0353745936361713, \"component 1\": 0.14486509101295753, \"variable\": \"row\", \"value\": \"191\", \"label\": 191}, {\"component 0\": 0.14457019151561318, \"component 1\": 0.06084690271322481, \"variable\": \"row\", \"value\": \"192\", \"label\": 192}, {\"component 0\": -1.0353745936361713, \"component 1\": 0.14486509101295753, \"variable\": \"row\", \"value\": \"193\", \"label\": 193}, {\"component 0\": -1.0353745936361713, \"component 1\": 0.14486509101295753, \"variable\": \"row\", \"value\": \"194\", \"label\": 194}, {\"component 0\": 0.47345938288549566, \"component 1\": 0.8780143253958594, \"variable\": \"row\", \"value\": \"195\", \"label\": 195}, {\"component 0\": -1.0353745936361713, \"component 1\": 0.14486509101295753, \"variable\": \"row\", \"value\": \"196\", \"label\": 196}, {\"component 0\": 0.49740564854198227, \"component 1\": -0.4180752344894518, \"variable\": \"row\", \"value\": \"197\", \"label\": 197}, {\"component 0\": -0.40631928135611683, \"component 1\": 0.043185566521927524, \"variable\": \"row\", \"value\": \"198\", \"label\": 198}, {\"component 0\": 0.47345938288549566, \"component 1\": 0.8780143253958594, \"variable\": \"row\", \"value\": \"199\", \"label\": 199}, {\"component 0\": 0.14457019151561318, \"component 1\": 0.06084690271322481, \"variable\": \"row\", \"value\": \"200\", \"label\": 200}, {\"component 0\": 0.47345938288549566, \"component 1\": 0.8780143253958594, \"variable\": \"row\", \"value\": \"201\", \"label\": 201}, {\"component 0\": 0.8262948399118647, \"component 1\": 0.3990921881931828, \"variable\": \"row\", \"value\": \"202\", \"label\": 202}, {\"component 0\": 0.14457019151561318, \"component 1\": 0.06084690271322481, \"variable\": \"row\", \"value\": \"203\", \"label\": 203}, {\"component 0\": 0.49740564854198227, \"component 1\": -0.4180752344894518, \"variable\": \"row\", \"value\": \"204\", \"label\": 204}, {\"component 0\": -1.0353745936361713, \"component 1\": 0.14486509101295753, \"variable\": \"row\", \"value\": \"205\", \"label\": 205}, {\"component 0\": -1.0353745936361713, \"component 1\": 0.14486509101295753, \"variable\": \"row\", \"value\": \"206\", \"label\": 206}, {\"component 0\": 0.14457019151561318, \"component 1\": 0.06084690271322481, \"variable\": \"row\", \"value\": \"207\", \"label\": 207}, {\"component 0\": -1.0353745936361713, \"component 1\": 0.14486509101295753, \"variable\": \"row\", \"value\": \"209\", \"label\": 209}, {\"component 0\": -1.0353745936361713, \"component 1\": 0.14486509101295753, \"variable\": \"row\", \"value\": \"210\", \"label\": 210}, {\"component 0\": -0.40631928135611683, \"component 1\": 0.043185566521927524, \"variable\": \"row\", \"value\": \"211\", \"label\": 211}, {\"component 0\": 0.49740564854198227, \"component 1\": -0.4180752344894518, \"variable\": \"row\", \"value\": \"212\", \"label\": 212}, {\"component 0\": -1.0353745936361713, \"component 1\": 0.14486509101295753, \"variable\": \"row\", \"value\": \"213\", \"label\": 213}, {\"component 0\": -0.40631928135611683, \"component 1\": 0.043185566521927524, \"variable\": \"row\", \"value\": \"214\", \"label\": 214}, {\"component 0\": 0.14457019151561318, \"component 1\": 0.06084690271322481, \"variable\": \"row\", \"value\": \"215\", \"label\": 215}, {\"component 0\": -0.40631928135611683, \"component 1\": 0.043185566521927524, \"variable\": \"row\", \"value\": \"216\", \"label\": 216}, {\"component 0\": -1.0353745936361713, \"component 1\": 0.14486509101295753, \"variable\": \"row\", \"value\": \"217\", \"label\": 217}, {\"component 0\": -1.0353745936361713, \"component 1\": 0.14486509101295753, \"variable\": \"row\", \"value\": \"218\", \"label\": 218}, {\"component 0\": 0.47345938288549566, \"component 1\": 0.8780143253958594, \"variable\": \"row\", \"value\": \"219\", \"label\": 219}, {\"component 0\": 0.14457019151561318, \"component 1\": 0.06084690271322481, \"variable\": \"row\", \"value\": \"220\", \"label\": 220}, {\"component 0\": -1.0353745936361713, \"component 1\": 0.14486509101295753, \"variable\": \"row\", \"value\": \"221\", \"label\": 221}, {\"component 0\": 0.49740564854198227, \"component 1\": -0.4180752344894518, \"variable\": \"row\", \"value\": \"222\", \"label\": 222}, {\"component 0\": -1.0353745936361713, \"component 1\": 0.14486509101295753, \"variable\": \"row\", \"value\": \"223\", \"label\": 223}, {\"component 0\": 0.14457019151561318, \"component 1\": 0.06084690271322481, \"variable\": \"row\", \"value\": \"224\", \"label\": 224}, {\"component 0\": -1.0353745936361713, \"component 1\": 0.14486509101295753, \"variable\": \"row\", \"value\": \"225\", \"label\": 225}, {\"component 0\": 0.47345938288549566, \"component 1\": 0.8780143253958594, \"variable\": \"row\", \"value\": \"226\", \"label\": 226}, {\"component 0\": -1.0353745936361713, \"component 1\": 0.14486509101295753, \"variable\": \"row\", \"value\": \"227\", \"label\": 227}, {\"component 0\": 0.517580289348746, \"component 1\": 1.1851988064088024, \"variable\": \"row\", \"value\": \"228\", \"label\": 228}, {\"component 0\": -1.0353745936361713, \"component 1\": 0.14486509101295753, \"variable\": \"row\", \"value\": \"229\", \"label\": 229}, {\"component 0\": 0.14457019151561318, \"component 1\": 0.06084690271322481, \"variable\": \"row\", \"value\": \"230\", \"label\": 230}, {\"component 0\": -0.15559592939455882, \"component 1\": 0.9796938498868895, \"variable\": \"row\", \"value\": \"232\", \"label\": 232}, {\"component 0\": 0.47345938288549566, \"component 1\": 0.8780143253958594, \"variable\": \"row\", \"value\": \"233\", \"label\": 233}, {\"component 0\": -0.40631928135611683, \"component 1\": 0.043185566521927524, \"variable\": \"row\", \"value\": \"234\", \"label\": 234}, {\"component 0\": 0.49740564854198227, \"component 1\": -0.4180752344894518, \"variable\": \"row\", \"value\": \"235\", \"label\": 235}, {\"component 0\": 0.47345938288549566, \"component 1\": 0.8780143253958594, \"variable\": \"row\", \"value\": \"236\", \"label\": 236}, {\"component 0\": -1.0353745936361713, \"component 1\": 0.14486509101295753, \"variable\": \"row\", \"value\": \"237\", \"label\": 237}, {\"component 0\": -1.0353745936361713, \"component 1\": 0.14486509101295753, \"variable\": \"row\", \"value\": \"238\", \"label\": 238}, {\"component 0\": 0.49740564854198227, \"component 1\": -0.4180752344894518, \"variable\": \"row\", \"value\": \"239\", \"label\": 239}, {\"component 0\": 0.14457019151561318, \"component 1\": 0.06084690271322481, \"variable\": \"row\", \"value\": \"240\", \"label\": 240}, {\"component 0\": -1.0353745936361713, \"component 1\": 0.14486509101295753, \"variable\": \"row\", \"value\": \"241\", \"label\": 241}, {\"component 0\": -1.0353745936361713, \"component 1\": 0.14486509101295753, \"variable\": \"row\", \"value\": \"242\", \"label\": 242}, {\"component 0\": -1.0353745936361713, \"component 1\": 0.14486509101295753, \"variable\": \"row\", \"value\": \"243\", \"label\": 243}, {\"component 0\": -0.40631928135611683, \"component 1\": 0.043185566521927524, \"variable\": \"row\", \"value\": \"244\", \"label\": 244}, {\"component 0\": -1.0353745936361713, \"component 1\": 0.14486509101295753, \"variable\": \"row\", \"value\": \"245\", \"label\": 245}, {\"component 0\": 0.47345938288549566, \"component 1\": 0.8780143253958594, \"variable\": \"row\", \"value\": \"246\", \"label\": 246}, {\"component 0\": 0.49740564854198227, \"component 1\": -0.4180752344894518, \"variable\": \"row\", \"value\": \"247\", \"label\": 247}, {\"component 0\": 0.49740564854198227, \"component 1\": -0.4180752344894518, \"variable\": \"row\", \"value\": \"248\", \"label\": 248}, {\"component 0\": 0.47345938288549566, \"component 1\": 0.8780143253958594, \"variable\": \"row\", \"value\": \"249\", \"label\": 249}, {\"component 0\": -0.13164966373807216, \"component 1\": -0.3163957099984218, \"variable\": \"row\", \"value\": \"250\", \"label\": 250}, {\"component 0\": -1.0353745936361713, \"component 1\": 0.14486509101295753, \"variable\": \"row\", \"value\": \"251\", \"label\": 251}, {\"component 0\": -1.0353745936361713, \"component 1\": 0.14486509101295753, \"variable\": \"row\", \"value\": \"252\", \"label\": 252}, {\"component 0\": 0.14457019151561318, \"component 1\": 0.06084690271322481, \"variable\": \"row\", \"value\": \"253\", \"label\": 253}, {\"component 0\": -0.40631928135611683, \"component 1\": 0.043185566521927524, \"variable\": \"row\", \"value\": \"254\", \"label\": 254}, {\"component 0\": -1.0353745936361713, \"component 1\": 0.14486509101295753, \"variable\": \"row\", \"value\": \"255\", \"label\": 255}, {\"component 0\": 0.49740564854198227, \"component 1\": -0.4180752344894518, \"variable\": \"row\", \"value\": \"257\", \"label\": 257}, {\"component 0\": -1.0353745936361713, \"component 1\": 0.14486509101295753, \"variable\": \"row\", \"value\": \"258\", \"label\": 258}, {\"component 0\": -1.0353745936361713, \"component 1\": 0.14486509101295753, \"variable\": \"row\", \"value\": \"259\", \"label\": 259}, {\"component 0\": 0.49740564854198227, \"component 1\": -0.4180752344894518, \"variable\": \"row\", \"value\": \"260\", \"label\": 260}, {\"component 0\": -0.40631928135611683, \"component 1\": 0.043185566521927524, \"variable\": \"row\", \"value\": \"261\", \"label\": 261}, {\"component 0\": 0.49740564854198227, \"component 1\": -0.4180752344894518, \"variable\": \"row\", \"value\": \"262\", \"label\": 262}, {\"component 0\": 0.47345938288549566, \"component 1\": 0.8780143253958594, \"variable\": \"row\", \"value\": \"263\", \"label\": 263}, {\"component 0\": 0.49740564854198227, \"component 1\": -0.4180752344894518, \"variable\": \"row\", \"value\": \"264\", \"label\": 264}, {\"component 0\": -0.40631928135611683, \"component 1\": 0.043185566521927524, \"variable\": \"row\", \"value\": \"265\", \"label\": 265}, {\"component 0\": -1.0353745936361713, \"component 1\": 0.14486509101295753, \"variable\": \"row\", \"value\": \"266\", \"label\": 266}, {\"component 0\": -1.0353745936361713, \"component 1\": 0.14486509101295753, \"variable\": \"row\", \"value\": \"267\", \"label\": 267}, {\"component 0\": -1.0353745936361713, \"component 1\": 0.14486509101295753, \"variable\": \"row\", \"value\": \"269\", \"label\": 269}, {\"component 0\": 0.14457019151561318, \"component 1\": 0.06084690271322481, \"variable\": \"row\", \"value\": \"270\", \"label\": 270}, {\"component 0\": -0.6825391366098023, \"component 1\": -0.3340570461897191, \"variable\": \"row\", \"value\": \"271\", \"label\": 271}, {\"component 0\": 0.14457019151561318, \"component 1\": 0.06084690271322481, \"variable\": \"row\", \"value\": \"272\", \"label\": 272}, {\"component 0\": 0.49740564854198227, \"component 1\": -0.4180752344894518, \"variable\": \"row\", \"value\": \"273\", \"label\": 273}, {\"component 0\": -1.0353745936361713, \"component 1\": 0.14486509101295753, \"variable\": \"row\", \"value\": \"274\", \"label\": 274}, {\"component 0\": -1.0353745936361713, \"component 1\": 0.14486509101295753, \"variable\": \"row\", \"value\": \"275\", \"label\": 275}, {\"component 0\": -0.40631928135611683, \"component 1\": 0.043185566521927524, \"variable\": \"row\", \"value\": \"276\", \"label\": 276}, {\"component 0\": -1.0353745936361713, \"component 1\": 0.14486509101295753, \"variable\": \"row\", \"value\": \"277\", \"label\": 277}, {\"component 0\": 0.49740564854198227, \"component 1\": -0.4180752344894518, \"variable\": \"row\", \"value\": \"278\", \"label\": 278}, {\"component 0\": -0.6825391366098023, \"component 1\": -0.3340570461897191, \"variable\": \"row\", \"value\": \"279\", \"label\": 279}, {\"component 0\": -1.0353745936361713, \"component 1\": 0.14486509101295753, \"variable\": \"row\", \"value\": \"280\", \"label\": 280}, {\"component 0\": -0.40631928135611683, \"component 1\": 0.043185566521927524, \"variable\": \"row\", \"value\": \"281\", \"label\": 281}, {\"component 0\": -1.0353745936361713, \"component 1\": 0.14486509101295753, \"variable\": \"row\", \"value\": \"282\", \"label\": 282}, {\"component 0\": -1.0353745936361713, \"component 1\": 0.14486509101295753, \"variable\": \"row\", \"value\": \"283\", \"label\": 283}, {\"component 0\": 0.47345938288549566, \"component 1\": 0.8780143253958594, \"variable\": \"row\", \"value\": \"284\", \"label\": 284}, {\"component 0\": -1.0353745936361713, \"component 1\": 0.14486509101295753, \"variable\": \"row\", \"value\": \"285\", \"label\": 285}, {\"component 0\": -1.0353745936361713, \"component 1\": 0.14486509101295753, \"variable\": \"row\", \"value\": \"286\", \"label\": 286}, {\"component 0\": -1.0353745936361713, \"component 1\": 0.14486509101295753, \"variable\": \"row\", \"value\": \"287\", \"label\": 287}, {\"component 0\": -0.4844851207644412, \"component 1\": 0.1625264272042548, \"variable\": \"row\", \"value\": \"288\", \"label\": 288}, {\"component 0\": -1.0353745936361713, \"component 1\": 0.14486509101295753, \"variable\": \"row\", \"value\": \"289\", \"label\": 289}, {\"component 0\": -1.0353745936361713, \"component 1\": 0.14486509101295753, \"variable\": \"row\", \"value\": \"290\", \"label\": 290}, {\"component 0\": -1.0353745936361713, \"component 1\": 0.14486509101295753, \"variable\": \"row\", \"value\": \"291\", \"label\": 291}, {\"component 0\": -0.4844851207644412, \"component 1\": 0.1625264272042548, \"variable\": \"row\", \"value\": \"292\", \"label\": 292}, {\"component 0\": -1.0353745936361713, \"component 1\": 0.14486509101295753, \"variable\": \"row\", \"value\": \"293\", \"label\": 293}, {\"component 0\": -0.053483824329747714, \"component 1\": -0.43573657068074906, \"variable\": \"row\", \"value\": \"294\", \"label\": 294}, {\"component 0\": -1.0353745936361713, \"component 1\": 0.14486509101295753, \"variable\": \"row\", \"value\": \"295\", \"label\": 295}, {\"component 0\": -1.0353745936361713, \"component 1\": 0.14486509101295753, \"variable\": \"row\", \"value\": \"296\", \"label\": 296}, {\"component 0\": -1.0353745936361713, \"component 1\": 0.14486509101295753, \"variable\": \"row\", \"value\": \"297\", \"label\": 297}, {\"component 0\": -1.0353745936361713, \"component 1\": 0.14486509101295753, \"variable\": \"row\", \"value\": \"298\", \"label\": 298}, {\"component 0\": 0.47345938288549566, \"component 1\": 0.8780143253958594, \"variable\": \"row\", \"value\": \"299\", \"label\": 299}, {\"component 0\": -1.0353745936361713, \"component 1\": 0.14486509101295753, \"variable\": \"row\", \"value\": \"300\", \"label\": 300}, {\"component 0\": -1.0353745936361713, \"component 1\": 0.14486509101295753, \"variable\": \"row\", \"value\": \"301\", \"label\": 301}, {\"component 0\": 0.49740564854198227, \"component 1\": -0.4180752344894518, \"variable\": \"row\", \"value\": \"302\", \"label\": 302}, {\"component 0\": 0.14457019151561318, \"component 1\": 0.06084690271322481, \"variable\": \"row\", \"value\": \"303\", \"label\": 303}, {\"component 0\": 0.49740564854198227, \"component 1\": -0.4180752344894518, \"variable\": \"row\", \"value\": \"304\", \"label\": 304}, {\"component 0\": 0.14457019151561318, \"component 1\": 0.06084690271322481, \"variable\": \"row\", \"value\": \"305\", \"label\": 305}, {\"component 0\": 0.14457019151561318, \"component 1\": 0.06084690271322481, \"variable\": \"row\", \"value\": \"306\", \"label\": 306}, {\"component 0\": -0.40631928135611683, \"component 1\": 0.043185566521927524, \"variable\": \"row\", \"value\": \"307\", \"label\": 307}, {\"component 0\": -1.0353745936361713, \"component 1\": 0.14486509101295753, \"variable\": \"row\", \"value\": \"308\", \"label\": 308}, {\"component 0\": -0.6825391366098023, \"component 1\": -0.3340570461897191, \"variable\": \"row\", \"value\": \"309\", \"label\": 309}, {\"component 0\": 0.49740564854198227, \"component 1\": -0.4180752344894518, \"variable\": \"row\", \"value\": \"310\", \"label\": 310}, {\"component 0\": -0.40631928135611683, \"component 1\": 0.043185566521927524, \"variable\": \"row\", \"value\": \"311\", \"label\": 311}, {\"component 0\": 0.8464694807186285, \"component 1\": 2.002366229091437, \"variable\": \"row\", \"value\": \"312\", \"label\": 312}, {\"component 0\": -1.0353745936361713, \"component 1\": 0.14486509101295753, \"variable\": \"row\", \"value\": \"313\", \"label\": 313}, {\"component 0\": 0.8464694807186285, \"component 1\": 2.002366229091437, \"variable\": \"row\", \"value\": \"314\", \"label\": 314}, {\"component 0\": 0.49740564854198227, \"component 1\": -0.4180752344894518, \"variable\": \"row\", \"value\": \"315\", \"label\": 315}, {\"component 0\": 0.8464694807186285, \"component 1\": 2.002366229091437, \"variable\": \"row\", \"value\": \"316\", \"label\": 316}, {\"component 0\": -1.0353745936361713, \"component 1\": 0.14486509101295753, \"variable\": \"row\", \"value\": \"317\", \"label\": 317}, {\"component 0\": 0.14457019151561318, \"component 1\": 0.06084690271322481, \"variable\": \"row\", \"value\": \"318\", \"label\": 318}, {\"component 0\": 0.49740564854198227, \"component 1\": -0.4180752344894518, \"variable\": \"row\", \"value\": \"319\", \"label\": 319}, {\"component 0\": -0.40631928135611683, \"component 1\": 0.043185566521927524, \"variable\": \"row\", \"value\": \"320\", \"label\": 320}, {\"component 0\": 0.49740564854198227, \"component 1\": -0.4180752344894518, \"variable\": \"row\", \"value\": \"321\", \"label\": 321}, {\"component 0\": 0.14457019151561318, \"component 1\": 0.06084690271322481, \"variable\": \"row\", \"value\": \"322\", \"label\": 322}, {\"component 0\": -1.0353745936361713, \"component 1\": 0.14486509101295753, \"variable\": \"row\", \"value\": \"323\", \"label\": 323}, {\"component 0\": -0.4844851207644412, \"component 1\": 0.1625264272042548, \"variable\": \"row\", \"value\": \"324\", \"label\": 324}, {\"component 0\": 0.14457019151561318, \"component 1\": 0.06084690271322481, \"variable\": \"row\", \"value\": \"325\", \"label\": 325}, {\"component 0\": 0.47345938288549566, \"component 1\": 0.8780143253958594, \"variable\": \"row\", \"value\": \"326\", \"label\": 326}, {\"component 0\": 0.49740564854198227, \"component 1\": -0.4180752344894518, \"variable\": \"row\", \"value\": \"327\", \"label\": 327}, {\"component 0\": 0.47345938288549566, \"component 1\": 0.8780143253958594, \"variable\": \"row\", \"value\": \"328\", \"label\": 328}, {\"component 0\": -1.0353745936361713, \"component 1\": 0.14486509101295753, \"variable\": \"row\", \"value\": \"329\", \"label\": 329}, {\"component 0\": 0.49740564854198227, \"component 1\": -0.4180752344894518, \"variable\": \"row\", \"value\": \"330\", \"label\": 330}, {\"component 0\": 0.517580289348746, \"component 1\": 1.1851988064088024, \"variable\": \"row\", \"value\": \"331\", \"label\": 331}, {\"component 0\": -0.40631928135611683, \"component 1\": 0.043185566521927524, \"variable\": \"row\", \"value\": \"332\", \"label\": 332}, {\"component 0\": 0.14457019151561318, \"component 1\": 0.06084690271322481, \"variable\": \"row\", \"value\": \"333\", \"label\": 333}, {\"component 0\": -1.0353745936361713, \"component 1\": 0.14486509101295753, \"variable\": \"row\", \"value\": \"334\", \"label\": 334}, {\"component 0\": 0.47345938288549566, \"component 1\": 0.8780143253958594, \"variable\": \"row\", \"value\": \"335\", \"label\": 335}, {\"component 0\": 0.49740564854198227, \"component 1\": -0.4180752344894518, \"variable\": \"row\", \"value\": \"336\", \"label\": 336}, {\"component 0\": -1.0353745936361713, \"component 1\": 0.14486509101295753, \"variable\": \"row\", \"value\": \"337\", \"label\": 337}, {\"component 0\": -0.40631928135611683, \"component 1\": 0.043185566521927524, \"variable\": \"row\", \"value\": \"338\", \"label\": 338}, {\"component 0\": 0.14457019151561318, \"component 1\": 0.06084690271322481, \"variable\": \"row\", \"value\": \"339\", \"label\": 339}, {\"component 0\": -0.40631928135611683, \"component 1\": 0.043185566521927524, \"variable\": \"row\", \"value\": \"340\", \"label\": 340}, {\"component 0\": 0.47345938288549566, \"component 1\": 0.8780143253958594, \"variable\": \"row\", \"value\": \"342\", \"label\": 342}, {\"component 0\": -1.0353745936361713, \"component 1\": 0.14486509101295753, \"variable\": \"row\", \"value\": \"343\", \"label\": 343}, {\"component 0\": -1.0353745936361713, \"component 1\": 0.14486509101295753, \"variable\": \"row\", \"value\": \"344\", \"label\": 344}, {\"component 0\": -0.40631928135611683, \"component 1\": 0.043185566521927524, \"variable\": \"row\", \"value\": \"345\", \"label\": 345}, {\"component 0\": 0.8464694807186285, \"component 1\": 2.002366229091437, \"variable\": \"row\", \"value\": \"346\", \"label\": 346}, {\"component 0\": -1.0353745936361713, \"component 1\": 0.14486509101295753, \"variable\": \"row\", \"value\": \"347\", \"label\": 347}, {\"component 0\": 0.8464694807186285, \"component 1\": 2.002366229091437, \"variable\": \"row\", \"value\": \"348\", \"label\": 348}, {\"component 0\": 0.8464694807186285, \"component 1\": 2.002366229091437, \"variable\": \"row\", \"value\": \"349\", \"label\": 349}, {\"component 0\": 0.8464694807186285, \"component 1\": 2.002366229091437, \"variable\": \"row\", \"value\": \"350\", \"label\": 350}, {\"component 0\": 0.49740564854198227, \"component 1\": -0.4180752344894518, \"variable\": \"row\", \"value\": \"351\", \"label\": 351}, {\"component 0\": -0.40631928135611683, \"component 1\": 0.043185566521927524, \"variable\": \"row\", \"value\": \"352\", \"label\": 352}, {\"component 0\": -0.13164966373807216, \"component 1\": -0.3163957099984218, \"variable\": \"row\", \"value\": \"353\", \"label\": 353}, {\"component 0\": 0.14457019151561318, \"component 1\": 0.06084690271322481, \"variable\": \"row\", \"value\": \"354\", \"label\": 354}, {\"component 0\": 0.517580289348746, \"component 1\": 1.1851988064088024, \"variable\": \"row\", \"value\": \"355\", \"label\": 355}, {\"component 0\": 0.47345938288549566, \"component 1\": 0.8780143253958594, \"variable\": \"row\", \"value\": \"356\", \"label\": 356}, {\"component 0\": -1.0353745936361713, \"component 1\": 0.14486509101295753, \"variable\": \"row\", \"value\": \"357\", \"label\": 357}, {\"component 0\": 0.47345938288549566, \"component 1\": 0.8780143253958594, \"variable\": \"row\", \"value\": \"358\", \"label\": 358}, {\"component 0\": 0.47345938288549566, \"component 1\": 0.8780143253958594, \"variable\": \"row\", \"value\": \"359\", \"label\": 359}, {\"component 0\": 0.49740564854198227, \"component 1\": -0.4180752344894518, \"variable\": \"row\", \"value\": \"360\", \"label\": 360}, {\"component 0\": 0.8464694807186285, \"component 1\": 2.002366229091437, \"variable\": \"row\", \"value\": \"361\", \"label\": 361}, {\"component 0\": 0.517580289348746, \"component 1\": 1.1851988064088024, \"variable\": \"row\", \"value\": \"362\", \"label\": 362}, {\"component 0\": 0.49740564854198227, \"component 1\": -0.4180752344894518, \"variable\": \"row\", \"value\": \"363\", \"label\": 363}, {\"component 0\": -1.0353745936361713, \"component 1\": 0.14486509101295753, \"variable\": \"row\", \"value\": \"364\", \"label\": 364}, {\"component 0\": 0.01936015259321311, \"component 1\": 1.607462280188493, \"variable\": \"row\", \"value\": \"365\", \"label\": 365}, {\"component 0\": -0.40631928135611683, \"component 1\": 0.043185566521927524, \"variable\": \"row\", \"value\": \"366\", \"label\": 366}, {\"component 0\": -1.0353745936361713, \"component 1\": 0.14486509101295753, \"variable\": \"row\", \"value\": \"367\", \"label\": 367}, {\"component 0\": -0.40631928135611683, \"component 1\": 0.043185566521927524, \"variable\": \"row\", \"value\": \"368\", \"label\": 368}, {\"component 0\": 0.47345938288549566, \"component 1\": 0.8780143253958594, \"variable\": \"row\", \"value\": \"369\", \"label\": 369}, {\"component 0\": -1.0353745936361713, \"component 1\": 0.14486509101295753, \"variable\": \"row\", \"value\": \"370\", \"label\": 370}, {\"component 0\": 0.47345938288549566, \"component 1\": 0.8780143253958594, \"variable\": \"row\", \"value\": \"371\", \"label\": 371}, {\"component 0\": 0.14457019151561318, \"component 1\": 0.06084690271322481, \"variable\": \"row\", \"value\": \"372\", \"label\": 372}, {\"component 0\": 0.49740564854198227, \"component 1\": -0.4180752344894518, \"variable\": \"row\", \"value\": \"373\", \"label\": 373}, {\"component 0\": -0.40631928135611683, \"component 1\": 0.043185566521927524, \"variable\": \"row\", \"value\": \"374\", \"label\": 374}, {\"component 0\": 0.47345938288549566, \"component 1\": 0.8780143253958594, \"variable\": \"row\", \"value\": \"375\", \"label\": 375}, {\"component 0\": -0.40631928135611683, \"component 1\": 0.043185566521927524, \"variable\": \"row\", \"value\": \"376\", \"label\": 376}, {\"component 0\": -0.15559592939455882, \"component 1\": 0.9796938498868895, \"variable\": \"row\", \"value\": \"377\", \"label\": 377}, {\"component 0\": 0.14457019151561318, \"component 1\": 0.06084690271322481, \"variable\": \"row\", \"value\": \"378\", \"label\": 378}, {\"component 0\": 0.2955800078468984, \"component 1\": 1.9847048929001396, \"variable\": \"row\", \"value\": \"379\", \"label\": 379}, {\"component 0\": -1.0353745936361713, \"component 1\": 0.14486509101295753, \"variable\": \"row\", \"value\": \"380\", \"label\": 380}, {\"component 0\": -1.0353745936361713, \"component 1\": 0.14486509101295753, \"variable\": \"row\", \"value\": \"381\", \"label\": 381}, {\"component 0\": 0.14457019151561318, \"component 1\": 0.06084690271322481, \"variable\": \"row\", \"value\": \"382\", \"label\": 382}, {\"component 0\": 0.47345938288549566, \"component 1\": 0.8780143253958594, \"variable\": \"row\", \"value\": \"383\", \"label\": 383}, {\"component 0\": 0.8464694807186285, \"component 1\": 2.002366229091437, \"variable\": \"row\", \"value\": \"384\", \"label\": 384}, {\"component 0\": -1.0353745936361713, \"component 1\": 0.14486509101295753, \"variable\": \"row\", \"value\": \"385\", \"label\": 385}, {\"component 0\": -1.0353745936361713, \"component 1\": 0.14486509101295753, \"variable\": \"row\", \"value\": \"386\", \"label\": 386}, {\"component 0\": 0.49740564854198227, \"component 1\": -0.4180752344894518, \"variable\": \"row\", \"value\": \"387\", \"label\": 387}, {\"component 0\": 0.49740564854198227, \"component 1\": -0.4180752344894518, \"variable\": \"row\", \"value\": \"388\", \"label\": 388}, {\"component 0\": 0.2955800078468984, \"component 1\": 1.9847048929001396, \"variable\": \"row\", \"value\": \"389\", \"label\": 389}, {\"component 0\": 0.47345938288549566, \"component 1\": 0.8780143253958594, \"variable\": \"row\", \"value\": \"390\", \"label\": 390}, {\"component 0\": 0.49740564854198227, \"component 1\": -0.4180752344894518, \"variable\": \"row\", \"value\": \"391\", \"label\": 391}, {\"component 0\": 0.49740564854198227, \"component 1\": -0.4180752344894518, \"variable\": \"row\", \"value\": \"392\", \"label\": 392}, {\"component 0\": 0.47345938288549566, \"component 1\": 0.8780143253958594, \"variable\": \"row\", \"value\": \"393\", \"label\": 393}, {\"component 0\": -1.0353745936361713, \"component 1\": 0.14486509101295753, \"variable\": \"row\", \"value\": \"394\", \"label\": 394}, {\"component 0\": -1.0353745936361713, \"component 1\": 0.14486509101295753, \"variable\": \"row\", \"value\": \"395\", \"label\": 395}, {\"component 0\": 0.8464694807186285, \"component 1\": 2.002366229091437, \"variable\": \"row\", \"value\": \"397\", \"label\": 397}, {\"component 0\": -0.40631928135611683, \"component 1\": 0.043185566521927524, \"variable\": \"row\", \"value\": \"398\", \"label\": 398}, {\"component 0\": -1.0353745936361713, \"component 1\": 0.14486509101295753, \"variable\": \"row\", \"value\": \"399\", \"label\": 399}, {\"component 0\": 0.47345938288549566, \"component 1\": 0.8780143253958594, \"variable\": \"row\", \"value\": \"400\", \"label\": 400}, {\"component 0\": -0.40631928135611683, \"component 1\": 0.043185566521927524, \"variable\": \"row\", \"value\": \"401\", \"label\": 401}, {\"component 0\": -1.0353745936361713, \"component 1\": 0.14486509101295753, \"variable\": \"row\", \"value\": \"402\", \"label\": 402}, {\"component 0\": 0.8464694807186285, \"component 1\": 2.002366229091437, \"variable\": \"row\", \"value\": \"403\", \"label\": 403}, {\"component 0\": -0.6825391366098023, \"component 1\": -0.3340570461897191, \"variable\": \"row\", \"value\": \"404\", \"label\": 404}, {\"component 0\": -0.40631928135611683, \"component 1\": 0.043185566521927524, \"variable\": \"row\", \"value\": \"405\", \"label\": 405}, {\"component 0\": 0.49740564854198227, \"component 1\": -0.4180752344894518, \"variable\": \"row\", \"value\": \"406\", \"label\": 406}, {\"component 0\": 0.8464694807186285, \"component 1\": 2.002366229091437, \"variable\": \"row\", \"value\": \"407\", \"label\": 407}, {\"component 0\": -1.0353745936361713, \"component 1\": 0.14486509101295753, \"variable\": \"row\", \"value\": \"408\", \"label\": 408}, {\"component 0\": 0.8262948399118647, \"component 1\": 0.3990921881931828, \"variable\": \"row\", \"value\": \"409\", \"label\": 409}, {\"component 0\": 0.517580289348746, \"component 1\": 1.1851988064088024, \"variable\": \"row\", \"value\": \"410\", \"label\": 410}, {\"component 0\": -1.0353745936361713, \"component 1\": 0.14486509101295753, \"variable\": \"row\", \"value\": \"411\", \"label\": 411}, {\"component 0\": -0.40631928135611683, \"component 1\": 0.043185566521927524, \"variable\": \"row\", \"value\": \"412\", \"label\": 412}, {\"component 0\": -1.0353745936361713, \"component 1\": 0.14486509101295753, \"variable\": \"row\", \"value\": \"413\", \"label\": 413}, {\"component 0\": 0.47345938288549566, \"component 1\": 0.8780143253958594, \"variable\": \"row\", \"value\": \"414\", \"label\": 414}, {\"component 0\": 0.14457019151561318, \"component 1\": 0.06084690271322481, \"variable\": \"row\", \"value\": \"415\", \"label\": 415}, {\"component 0\": 0.47345938288549566, \"component 1\": 0.8780143253958594, \"variable\": \"row\", \"value\": \"416\", \"label\": 416}, {\"component 0\": 0.49740564854198227, \"component 1\": -0.4180752344894518, \"variable\": \"row\", \"value\": \"417\", \"label\": 417}, {\"component 0\": -1.0353745936361713, \"component 1\": 0.14486509101295753, \"variable\": \"row\", \"value\": \"418\", \"label\": 418}, {\"component 0\": 0.14457019151561318, \"component 1\": 0.06084690271322481, \"variable\": \"row\", \"value\": \"419\", \"label\": 419}, {\"component 0\": 0.14457019151561318, \"component 1\": 0.06084690271322481, \"variable\": \"row\", \"value\": \"420\", \"label\": 420}, {\"component 0\": -0.4844851207644412, \"component 1\": 0.1625264272042548, \"variable\": \"row\", \"value\": \"421\", \"label\": 421}, {\"component 0\": -1.0353745936361713, \"component 1\": 0.14486509101295753, \"variable\": \"row\", \"value\": \"422\", \"label\": 422}, {\"component 0\": 0.14457019151561318, \"component 1\": 0.06084690271322481, \"variable\": \"row\", \"value\": \"423\", \"label\": 423}, {\"component 0\": -1.0353745936361713, \"component 1\": 0.14486509101295753, \"variable\": \"row\", \"value\": \"424\", \"label\": 424}, {\"component 0\": 0.8464694807186285, \"component 1\": 2.002366229091437, \"variable\": \"row\", \"value\": \"425\", \"label\": 425}, {\"component 0\": 0.49740564854198227, \"component 1\": -0.4180752344894518, \"variable\": \"row\", \"value\": \"426\", \"label\": 426}, {\"component 0\": -1.0353745936361713, \"component 1\": 0.14486509101295753, \"variable\": \"row\", \"value\": \"427\", \"label\": 427}, {\"component 0\": -0.4844851207644412, \"component 1\": 0.1625264272042548, \"variable\": \"row\", \"value\": \"428\", \"label\": 428}, {\"component 0\": -1.0353745936361713, \"component 1\": 0.14486509101295753, \"variable\": \"row\", \"value\": \"429\", \"label\": 429}, {\"component 0\": 0.49740564854198227, \"component 1\": -0.4180752344894518, \"variable\": \"row\", \"value\": \"430\", \"label\": 430}, {\"component 0\": 0.49740564854198227, \"component 1\": -0.4180752344894518, \"variable\": \"row\", \"value\": \"431\", \"label\": 431}, {\"component 0\": -1.0353745936361713, \"component 1\": 0.14486509101295753, \"variable\": \"row\", \"value\": \"432\", \"label\": 432}, {\"component 0\": -1.0353745936361713, \"component 1\": 0.14486509101295753, \"variable\": \"row\", \"value\": \"433\", \"label\": 433}, {\"component 0\": 0.8464694807186285, \"component 1\": 2.002366229091437, \"variable\": \"row\", \"value\": \"434\", \"label\": 434}, {\"component 0\": 0.49740564854198227, \"component 1\": -0.4180752344894518, \"variable\": \"row\", \"value\": \"435\", \"label\": 435}, {\"component 0\": -1.0353745936361713, \"component 1\": 0.14486509101295753, \"variable\": \"row\", \"value\": \"436\", \"label\": 436}, {\"component 0\": 0.14457019151561318, \"component 1\": 0.06084690271322481, \"variable\": \"row\", \"value\": \"437\", \"label\": 437}, {\"component 0\": 0.47345938288549566, \"component 1\": 0.8780143253958594, \"variable\": \"row\", \"value\": \"438\", \"label\": 438}, {\"component 0\": 0.8464694807186285, \"component 1\": 2.002366229091437, \"variable\": \"row\", \"value\": \"439\", \"label\": 439}, {\"component 0\": -1.0353745936361713, \"component 1\": 0.14486509101295753, \"variable\": \"row\", \"value\": \"440\", \"label\": 440}, {\"component 0\": 0.14457019151561318, \"component 1\": 0.06084690271322481, \"variable\": \"row\", \"value\": \"441\", \"label\": 441}, {\"component 0\": -1.0353745936361713, \"component 1\": 0.14486509101295753, \"variable\": \"row\", \"value\": \"442\", \"label\": 442}, {\"component 0\": -0.40631928135611683, \"component 1\": 0.043185566521927524, \"variable\": \"row\", \"value\": \"443\", \"label\": 443}, {\"component 0\": 0.8464694807186285, \"component 1\": 2.002366229091437, \"variable\": \"row\", \"value\": \"444\", \"label\": 444}, {\"component 0\": 0.47345938288549566, \"component 1\": 0.8780143253958594, \"variable\": \"row\", \"value\": \"445\", \"label\": 445}, {\"component 0\": -1.0353745936361713, \"component 1\": 0.14486509101295753, \"variable\": \"row\", \"value\": \"446\", \"label\": 446}, {\"component 0\": 0.47345938288549566, \"component 1\": 0.8780143253958594, \"variable\": \"row\", \"value\": \"447\", \"label\": 447}, {\"component 0\": -1.0353745936361713, \"component 1\": 0.14486509101295753, \"variable\": \"row\", \"value\": \"448\", \"label\": 448}, {\"component 0\": -1.0353745936361713, \"component 1\": 0.14486509101295753, \"variable\": \"row\", \"value\": \"449\", \"label\": 449}, {\"component 0\": -1.0353745936361713, \"component 1\": 0.14486509101295753, \"variable\": \"row\", \"value\": \"450\", \"label\": 450}, {\"component 0\": 0.8262948399118647, \"component 1\": 0.3990921881931828, \"variable\": \"row\", \"value\": \"451\", \"label\": 451}, {\"component 0\": -0.6825391366098023, \"component 1\": -0.3340570461897191, \"variable\": \"row\", \"value\": \"452\", \"label\": 452}, {\"component 0\": -1.0353745936361713, \"component 1\": 0.14486509101295753, \"variable\": \"row\", \"value\": \"453\", \"label\": 453}, {\"component 0\": 0.47345938288549566, \"component 1\": 0.8780143253958594, \"variable\": \"row\", \"value\": \"454\", \"label\": 454}, {\"component 0\": -0.40631928135611683, \"component 1\": 0.043185566521927524, \"variable\": \"row\", \"value\": \"456\", \"label\": 456}, {\"component 0\": -0.40631928135611683, \"component 1\": 0.043185566521927524, \"variable\": \"row\", \"value\": \"457\", \"label\": 457}, {\"component 0\": 0.8262948399118647, \"component 1\": 0.3990921881931828, \"variable\": \"row\", \"value\": \"458\", \"label\": 458}, {\"component 0\": 0.47345938288549566, \"component 1\": 0.8780143253958594, \"variable\": \"row\", \"value\": \"459\", \"label\": 459}, {\"component 0\": 0.49740564854198227, \"component 1\": -0.4180752344894518, \"variable\": \"row\", \"value\": \"460\", \"label\": 460}, {\"component 0\": -0.053483824329747714, \"component 1\": -0.43573657068074906, \"variable\": \"row\", \"value\": \"461\", \"label\": 461}, {\"component 0\": 0.49740564854198227, \"component 1\": -0.4180752344894518, \"variable\": \"row\", \"value\": \"462\", \"label\": 462}, {\"component 0\": 0.14457019151561318, \"component 1\": 0.06084690271322481, \"variable\": \"row\", \"value\": \"463\", \"label\": 463}, {\"component 0\": 0.49740564854198227, \"component 1\": -0.4180752344894518, \"variable\": \"row\", \"value\": \"464\", \"label\": 464}, {\"component 0\": -1.0353745936361713, \"component 1\": 0.14486509101295753, \"variable\": \"row\", \"value\": \"465\", \"label\": 465}, {\"component 0\": -1.0353745936361713, \"component 1\": 0.14486509101295753, \"variable\": \"row\", \"value\": \"466\", \"label\": 466}, {\"component 0\": -1.0353745936361713, \"component 1\": 0.14486509101295753, \"variable\": \"row\", \"value\": \"467\", \"label\": 467}, {\"component 0\": 0.8464694807186285, \"component 1\": 2.002366229091437, \"variable\": \"row\", \"value\": \"468\", \"label\": 468}, {\"component 0\": 0.47345938288549566, \"component 1\": 0.8780143253958594, \"variable\": \"row\", \"value\": \"469\", \"label\": 469}, {\"component 0\": -1.0353745936361713, \"component 1\": 0.14486509101295753, \"variable\": \"row\", \"value\": \"470\", \"label\": 470}, {\"component 0\": -0.40631928135611683, \"component 1\": 0.043185566521927524, \"variable\": \"row\", \"value\": \"471\", \"label\": 471}, {\"component 0\": -1.0353745936361713, \"component 1\": 0.14486509101295753, \"variable\": \"row\", \"value\": \"472\", \"label\": 472}, {\"component 0\": -0.40631928135611683, \"component 1\": 0.043185566521927524, \"variable\": \"row\", \"value\": \"473\", \"label\": 473}, {\"component 0\": 0.49740564854198227, \"component 1\": -0.4180752344894518, \"variable\": \"row\", \"value\": \"474\", \"label\": 474}, {\"component 0\": 0.8464694807186285, \"component 1\": 2.002366229091437, \"variable\": \"row\", \"value\": \"475\", \"label\": 475}, {\"component 0\": -1.0353745936361713, \"component 1\": 0.14486509101295753, \"variable\": \"row\", \"value\": \"476\", \"label\": 476}, {\"component 0\": -1.0353745936361713, \"component 1\": 0.14486509101295753, \"variable\": \"row\", \"value\": \"477\", \"label\": 477}, {\"component 0\": 0.47345938288549566, \"component 1\": 0.8780143253958594, \"variable\": \"row\", \"value\": \"478\", \"label\": 478}, {\"component 0\": -1.0353745936361713, \"component 1\": 0.14486509101295753, \"variable\": \"row\", \"value\": \"479\", \"label\": 479}, {\"component 0\": -0.40631928135611683, \"component 1\": 0.043185566521927524, \"variable\": \"row\", \"value\": \"480\", \"label\": 480}, {\"component 0\": -0.40631928135611683, \"component 1\": 0.043185566521927524, \"variable\": \"row\", \"value\": \"481\", \"label\": 481}, {\"component 0\": -1.0353745936361713, \"component 1\": 0.14486509101295753, \"variable\": \"row\", \"value\": \"482\", \"label\": 482}, {\"component 0\": 0.47345938288549566, \"component 1\": 0.8780143253958594, \"variable\": \"row\", \"value\": \"483\", \"label\": 483}, {\"component 0\": 0.14457019151561318, \"component 1\": 0.06084690271322481, \"variable\": \"row\", \"value\": \"484\", \"label\": 484}, {\"component 0\": -1.0353745936361713, \"component 1\": 0.14486509101295753, \"variable\": \"row\", \"value\": \"485\", \"label\": 485}, {\"component 0\": -1.0353745936361713, \"component 1\": 0.14486509101295753, \"variable\": \"row\", \"value\": \"486\", \"label\": 486}, {\"component 0\": 0.47345938288549566, \"component 1\": 0.8780143253958594, \"variable\": \"row\", \"value\": \"487\", \"label\": 487}, {\"component 0\": -1.0353745936361713, \"component 1\": 0.14486509101295753, \"variable\": \"row\", \"value\": \"488\", \"label\": 488}, {\"component 0\": -0.40631928135611683, \"component 1\": 0.043185566521927524, \"variable\": \"row\", \"value\": \"489\", \"label\": 489}, {\"component 0\": -1.0353745936361713, \"component 1\": 0.14486509101295753, \"variable\": \"row\", \"value\": \"491\", \"label\": 491}, {\"component 0\": 0.14457019151561318, \"component 1\": 0.06084690271322481, \"variable\": \"row\", \"value\": \"492\", \"label\": 492}, {\"component 0\": 0.47345938288549566, \"component 1\": 0.8780143253958594, \"variable\": \"row\", \"value\": \"493\", \"label\": 493}, {\"component 0\": -1.0353745936361713, \"component 1\": 0.14486509101295753, \"variable\": \"row\", \"value\": \"494\", \"label\": 494}, {\"component 0\": -0.40631928135611683, \"component 1\": 0.043185566521927524, \"variable\": \"row\", \"value\": \"495\", \"label\": 495}, {\"component 0\": -0.40631928135611683, \"component 1\": 0.043185566521927524, \"variable\": \"row\", \"value\": \"496\", \"label\": 496}, {\"component 0\": 0.49740564854198227, \"component 1\": -0.4180752344894518, \"variable\": \"row\", \"value\": \"497\", \"label\": 497}, {\"component 0\": -1.0353745936361713, \"component 1\": 0.14486509101295753, \"variable\": \"row\", \"value\": \"498\", \"label\": 498}, {\"component 0\": 0.49740564854198227, \"component 1\": -0.4180752344894518, \"variable\": \"row\", \"value\": \"499\", \"label\": 499}, {\"component 0\": 0.49740564854198227, \"component 1\": -0.4180752344894518, \"variable\": \"row\", \"value\": \"500\", \"label\": 500}, {\"component 0\": 0.49740564854198227, \"component 1\": -0.4180752344894518, \"variable\": \"row\", \"value\": \"501\", \"label\": 501}, {\"component 0\": -0.053483824329747714, \"component 1\": -0.43573657068074906, \"variable\": \"row\", \"value\": \"502\", \"label\": 502}, {\"component 0\": 0.49740564854198227, \"component 1\": -0.4180752344894518, \"variable\": \"row\", \"value\": \"503\", \"label\": 503}, {\"component 0\": 0.49740564854198227, \"component 1\": -0.4180752344894518, \"variable\": \"row\", \"value\": \"505\", \"label\": 505}, {\"component 0\": 0.49740564854198227, \"component 1\": -0.4180752344894518, \"variable\": \"row\", \"value\": \"506\", \"label\": 506}, {\"component 0\": -0.053483824329747714, \"component 1\": -0.43573657068074906, \"variable\": \"row\", \"value\": \"507\", \"label\": 507}, {\"component 0\": 0.49740564854198227, \"component 1\": -0.4180752344894518, \"variable\": \"row\", \"value\": \"508\", \"label\": 508}, {\"component 0\": 0.49740564854198227, \"component 1\": -0.4180752344894518, \"variable\": \"row\", \"value\": \"509\", \"label\": 509}, {\"component 0\": 0.49740564854198227, \"component 1\": -0.4180752344894518, \"variable\": \"row\", \"value\": \"510\", \"label\": 510}, {\"component 0\": 0.49740564854198227, \"component 1\": -0.4180752344894518, \"variable\": \"row\", \"value\": \"511\", \"label\": 511}, {\"component 0\": -0.053483824329747714, \"component 1\": -0.43573657068074906, \"variable\": \"row\", \"value\": \"512\", \"label\": 512}, {\"component 0\": 0.49740564854198227, \"component 1\": -0.4180752344894518, \"variable\": \"row\", \"value\": \"513\", \"label\": 513}, {\"component 0\": 0.49740564854198227, \"component 1\": -0.4180752344894518, \"variable\": \"row\", \"value\": \"514\", \"label\": 514}, {\"component 0\": 0.49740564854198227, \"component 1\": -0.4180752344894518, \"variable\": \"row\", \"value\": \"515\", \"label\": 515}, {\"component 0\": 0.49740564854198227, \"component 1\": -0.4180752344894518, \"variable\": \"row\", \"value\": \"516\", \"label\": 516}, {\"component 0\": 0.49740564854198227, \"component 1\": -0.4180752344894518, \"variable\": \"row\", \"value\": \"517\", \"label\": 517}, {\"component 0\": 0.49740564854198227, \"component 1\": -0.4180752344894518, \"variable\": \"row\", \"value\": \"518\", \"label\": 518}, {\"component 0\": 0.49740564854198227, \"component 1\": -0.4180752344894518, \"variable\": \"row\", \"value\": \"519\", \"label\": 519}, {\"component 0\": 0.49740564854198227, \"component 1\": -0.4180752344894518, \"variable\": \"row\", \"value\": \"520\", \"label\": 520}, {\"component 0\": -0.13164966373807216, \"component 1\": -0.3163957099984218, \"variable\": \"row\", \"value\": \"521\", \"label\": 521}, {\"component 0\": 0.49740564854198227, \"component 1\": -0.4180752344894518, \"variable\": \"row\", \"value\": \"522\", \"label\": 522}, {\"component 0\": 0.49740564854198227, \"component 1\": -0.4180752344894518, \"variable\": \"row\", \"value\": \"523\", \"label\": 523}, {\"component 0\": -0.053483824329747714, \"component 1\": -0.43573657068074906, \"variable\": \"row\", \"value\": \"524\", \"label\": 524}, {\"component 0\": -1.0353745936361713, \"component 1\": 0.14486509101295753, \"variable\": \"row\", \"value\": \"526\", \"label\": 526}, {\"component 0\": 0.49740564854198227, \"component 1\": -0.4180752344894518, \"variable\": \"row\", \"value\": \"527\", \"label\": 527}, {\"component 0\": -0.053483824329747714, \"component 1\": -0.43573657068074906, \"variable\": \"row\", \"value\": \"528\", \"label\": 528}, {\"component 0\": 0.49740564854198227, \"component 1\": -0.4180752344894518, \"variable\": \"row\", \"value\": \"529\", \"label\": 529}, {\"component 0\": 0.49740564854198227, \"component 1\": -0.4180752344894518, \"variable\": \"row\", \"value\": \"530\", \"label\": 530}, {\"component 0\": -0.053483824329747714, \"component 1\": -0.43573657068074906, \"variable\": \"row\", \"value\": \"531\", \"label\": 531}, {\"component 0\": 0.49740564854198227, \"component 1\": -0.4180752344894518, \"variable\": \"row\", \"value\": \"532\", \"label\": 532}, {\"component 0\": 0.49740564854198227, \"component 1\": -0.4180752344894518, \"variable\": \"row\", \"value\": \"533\", \"label\": 533}, {\"component 0\": 0.49740564854198227, \"component 1\": -0.4180752344894518, \"variable\": \"row\", \"value\": \"534\", \"label\": 534}, {\"component 0\": 0.49740564854198227, \"component 1\": -0.4180752344894518, \"variable\": \"row\", \"value\": \"535\", \"label\": 535}, {\"component 0\": -0.053483824329747714, \"component 1\": -0.43573657068074906, \"variable\": \"row\", \"value\": \"536\", \"label\": 536}, {\"component 0\": 0.49740564854198227, \"component 1\": -0.4180752344894518, \"variable\": \"row\", \"value\": \"537\", \"label\": 537}, {\"component 0\": -0.053483824329747714, \"component 1\": -0.43573657068074906, \"variable\": \"row\", \"value\": \"538\", \"label\": 538}, {\"component 0\": 0.49740564854198227, \"component 1\": -0.4180752344894518, \"variable\": \"row\", \"value\": \"539\", \"label\": 539}, {\"component 0\": -0.053483824329747714, \"component 1\": -0.43573657068074906, \"variable\": \"row\", \"value\": \"540\", \"label\": 540}, {\"component 0\": -1.0353745936361713, \"component 1\": 0.14486509101295753, \"variable\": \"row\", \"value\": \"541\", \"label\": 541}, {\"component 0\": 0.49740564854198227, \"component 1\": -0.4180752344894518, \"variable\": \"row\", \"value\": \"542\", \"label\": 542}, {\"component 0\": -0.053483824329747714, \"component 1\": -0.43573657068074906, \"variable\": \"row\", \"value\": \"543\", \"label\": 543}, {\"component 0\": 0.49740564854198227, \"component 1\": -0.4180752344894518, \"variable\": \"row\", \"value\": \"544\", \"label\": 544}, {\"component 0\": 0.49740564854198227, \"component 1\": -0.4180752344894518, \"variable\": \"row\", \"value\": \"545\", \"label\": 545}, {\"component 0\": 0.49740564854198227, \"component 1\": -0.4180752344894518, \"variable\": \"row\", \"value\": \"546\", \"label\": 546}, {\"component 0\": 0.49740564854198227, \"component 1\": -0.4180752344894518, \"variable\": \"row\", \"value\": \"547\", \"label\": 547}, {\"component 0\": 0.49740564854198227, \"component 1\": -0.4180752344894518, \"variable\": \"row\", \"value\": \"548\", \"label\": 548}, {\"component 0\": 0.8262948399118647, \"component 1\": 0.3990921881931828, \"variable\": \"row\", \"value\": \"549\", \"label\": 549}, {\"component 0\": 0.49740564854198227, \"component 1\": -0.4180752344894518, \"variable\": \"row\", \"value\": \"550\", \"label\": 550}, {\"component 0\": 0.49740564854198227, \"component 1\": -0.4180752344894518, \"variable\": \"row\", \"value\": \"551\", \"label\": 551}, {\"component 0\": 0.49740564854198227, \"component 1\": -0.4180752344894518, \"variable\": \"row\", \"value\": \"552\", \"label\": 552}, {\"component 0\": -0.053483824329747714, \"component 1\": -0.43573657068074906, \"variable\": \"row\", \"value\": \"553\", \"label\": 553}, {\"component 0\": 0.49740564854198227, \"component 1\": -0.4180752344894518, \"variable\": \"row\", \"value\": \"554\", \"label\": 554}, {\"component 0\": 0.49740564854198227, \"component 1\": -0.4180752344894518, \"variable\": \"row\", \"value\": \"555\", \"label\": 555}, {\"component 0\": 0.49740564854198227, \"component 1\": -0.4180752344894518, \"variable\": \"row\", \"value\": \"556\", \"label\": 556}, {\"component 0\": 0.49740564854198227, \"component 1\": -0.4180752344894518, \"variable\": \"row\", \"value\": \"557\", \"label\": 557}, {\"component 0\": 0.49740564854198227, \"component 1\": -0.4180752344894518, \"variable\": \"row\", \"value\": \"558\", \"label\": 558}, {\"component 0\": 0.49740564854198227, \"component 1\": -0.4180752344894518, \"variable\": \"row\", \"value\": \"559\", \"label\": 559}, {\"component 0\": 0.49740564854198227, \"component 1\": -0.4180752344894518, \"variable\": \"row\", \"value\": \"560\", \"label\": 560}, {\"component 0\": 0.49740564854198227, \"component 1\": -0.4180752344894518, \"variable\": \"row\", \"value\": \"561\", \"label\": 561}, {\"component 0\": 0.49740564854198227, \"component 1\": -0.4180752344894518, \"variable\": \"row\", \"value\": \"562\", \"label\": 562}, {\"component 0\": 0.49740564854198227, \"component 1\": -0.4180752344894518, \"variable\": \"row\", \"value\": \"563\", \"label\": 563}, {\"component 0\": -0.053483824329747714, \"component 1\": -0.43573657068074906, \"variable\": \"row\", \"value\": \"564\", \"label\": 564}, {\"component 0\": 0.49740564854198227, \"component 1\": -0.4180752344894518, \"variable\": \"row\", \"value\": \"565\", \"label\": 565}, {\"component 0\": 0.49740564854198227, \"component 1\": -0.4180752344894518, \"variable\": \"row\", \"value\": \"566\", \"label\": 566}, {\"component 0\": 0.49740564854198227, \"component 1\": -0.4180752344894518, \"variable\": \"row\", \"value\": \"567\", \"label\": 567}, {\"component 0\": -0.053483824329747714, \"component 1\": -0.43573657068074906, \"variable\": \"row\", \"value\": \"568\", \"label\": 568}, {\"component 0\": 0.49740564854198227, \"component 1\": -0.4180752344894518, \"variable\": \"row\", \"value\": \"569\", \"label\": 569}, {\"component 0\": -0.053483824329747714, \"component 1\": -0.43573657068074906, \"variable\": \"row\", \"value\": \"570\", \"label\": 570}, {\"component 0\": -0.053483824329747714, \"component 1\": -0.43573657068074906, \"variable\": \"row\", \"value\": \"571\", \"label\": 571}, {\"component 0\": 0.49740564854198227, \"component 1\": -0.4180752344894518, \"variable\": \"row\", \"value\": \"572\", \"label\": 572}, {\"component 0\": -0.6825391366098023, \"component 1\": -0.3340570461897191, \"variable\": \"row\", \"value\": \"573\", \"label\": 573}, {\"component 0\": 0.49740564854198227, \"component 1\": -0.4180752344894518, \"variable\": \"row\", \"value\": \"574\", \"label\": 574}, {\"component 0\": 0.49740564854198227, \"component 1\": -0.4180752344894518, \"variable\": \"row\", \"value\": \"575\", \"label\": 575}, {\"component 0\": -0.053483824329747714, \"component 1\": -0.43573657068074906, \"variable\": \"row\", \"value\": \"576\", \"label\": 576}, {\"component 0\": 0.49740564854198227, \"component 1\": -0.4180752344894518, \"variable\": \"row\", \"value\": \"577\", \"label\": 577}, {\"component 0\": -0.053483824329747714, \"component 1\": -0.43573657068074906, \"variable\": \"row\", \"value\": \"578\", \"label\": 578}, {\"component 0\": -0.053483824329747714, \"component 1\": -0.43573657068074906, \"variable\": \"row\", \"value\": \"579\", \"label\": 579}, {\"component 0\": -0.6825391366098023, \"component 1\": -0.3340570461897191, \"variable\": \"row\", \"value\": \"580\", \"label\": 580}, {\"component 0\": 0.49740564854198227, \"component 1\": -0.4180752344894518, \"variable\": \"row\", \"value\": \"581\", \"label\": 581}, {\"component 0\": 0.49740564854198227, \"component 1\": -0.4180752344894518, \"variable\": \"row\", \"value\": \"582\", \"label\": 582}, {\"component 0\": 0.49740564854198227, \"component 1\": -0.4180752344894518, \"variable\": \"row\", \"value\": \"584\", \"label\": 584}, {\"component 0\": 0.49740564854198227, \"component 1\": -0.4180752344894518, \"variable\": \"row\", \"value\": \"585\", \"label\": 585}, {\"component 0\": 0.49740564854198227, \"component 1\": -0.4180752344894518, \"variable\": \"row\", \"value\": \"586\", \"label\": 586}, {\"component 0\": -0.053483824329747714, \"component 1\": -0.43573657068074906, \"variable\": \"row\", \"value\": \"587\", \"label\": 587}, {\"component 0\": 0.49740564854198227, \"component 1\": -0.4180752344894518, \"variable\": \"row\", \"value\": \"588\", \"label\": 588}, {\"component 0\": -0.053483824329747714, \"component 1\": -0.43573657068074906, \"variable\": \"row\", \"value\": \"589\", \"label\": 589}, {\"component 0\": 0.49740564854198227, \"component 1\": -0.4180752344894518, \"variable\": \"row\", \"value\": \"590\", \"label\": 590}, {\"component 0\": -1.0353745936361713, \"component 1\": 0.14486509101295753, \"variable\": \"row\", \"value\": \"591\", \"label\": 591}, {\"component 0\": -0.053483824329747714, \"component 1\": -0.43573657068074906, \"variable\": \"row\", \"value\": \"592\", \"label\": 592}, {\"component 0\": 0.49740564854198227, \"component 1\": -0.4180752344894518, \"variable\": \"row\", \"value\": \"593\", \"label\": 593}, {\"component 0\": 0.49740564854198227, \"component 1\": -0.4180752344894518, \"variable\": \"row\", \"value\": \"594\", \"label\": 594}, {\"component 0\": -0.40631928135611683, \"component 1\": 0.043185566521927524, \"variable\": \"row\", \"value\": \"595\", \"label\": 595}, {\"component 0\": 0.49740564854198227, \"component 1\": -0.4180752344894518, \"variable\": \"row\", \"value\": \"596\", \"label\": 596}, {\"component 0\": 0.49740564854198227, \"component 1\": -0.4180752344894518, \"variable\": \"row\", \"value\": \"597\", \"label\": 597}, {\"component 0\": 0.49740564854198227, \"component 1\": -0.4180752344894518, \"variable\": \"row\", \"value\": \"598\", \"label\": 598}, {\"component 0\": 0.49740564854198227, \"component 1\": -0.4180752344894518, \"variable\": \"row\", \"value\": \"599\", \"label\": 599}, {\"component 0\": 0.49740564854198227, \"component 1\": -0.4180752344894518, \"variable\": \"row\", \"value\": \"600\", \"label\": 600}, {\"component 0\": -0.053483824329747714, \"component 1\": -0.43573657068074906, \"variable\": \"row\", \"value\": \"601\", \"label\": 601}, {\"component 0\": 0.49740564854198227, \"component 1\": -0.4180752344894518, \"variable\": \"row\", \"value\": \"602\", \"label\": 602}, {\"component 0\": 0.49740564854198227, \"component 1\": -0.4180752344894518, \"variable\": \"row\", \"value\": \"603\", \"label\": 603}, {\"component 0\": 0.49740564854198227, \"component 1\": -0.4180752344894518, \"variable\": \"row\", \"value\": \"604\", \"label\": 604}, {\"component 0\": -0.053483824329747714, \"component 1\": -0.43573657068074906, \"variable\": \"row\", \"value\": \"605\", \"label\": 605}, {\"component 0\": -0.6825391366098023, \"component 1\": -0.3340570461897191, \"variable\": \"row\", \"value\": \"606\", \"label\": 606}, {\"component 0\": -0.053483824329747714, \"component 1\": -0.43573657068074906, \"variable\": \"row\", \"value\": \"607\", \"label\": 607}, {\"component 0\": 0.49740564854198227, \"component 1\": -0.4180752344894518, \"variable\": \"row\", \"value\": \"609\", \"label\": 609}, {\"component 0\": 0.49740564854198227, \"component 1\": -0.4180752344894518, \"variable\": \"row\", \"value\": \"610\", \"label\": 610}, {\"component 0\": 0.49740564854198227, \"component 1\": -0.4180752344894518, \"variable\": \"row\", \"value\": \"611\", \"label\": 611}, {\"component 0\": 0.49740564854198227, \"component 1\": -0.4180752344894518, \"variable\": \"row\", \"value\": \"612\", \"label\": 612}, {\"component 0\": 0.49740564854198227, \"component 1\": -0.4180752344894518, \"variable\": \"row\", \"value\": \"613\", \"label\": 613}, {\"component 0\": -0.053483824329747714, \"component 1\": -0.43573657068074906, \"variable\": \"row\", \"value\": \"614\", \"label\": 614}, {\"component 0\": 0.49740564854198227, \"component 1\": -0.4180752344894518, \"variable\": \"row\", \"value\": \"615\", \"label\": 615}, {\"component 0\": -1.0353745936361713, \"component 1\": 0.14486509101295753, \"variable\": \"row\", \"value\": \"616\", \"label\": 616}, {\"component 0\": 0.49740564854198227, \"component 1\": -0.4180752344894518, \"variable\": \"row\", \"value\": \"617\", \"label\": 617}, {\"component 0\": 0.49740564854198227, \"component 1\": -0.4180752344894518, \"variable\": \"row\", \"value\": \"618\", \"label\": 618}, {\"component 0\": 0.49740564854198227, \"component 1\": -0.4180752344894518, \"variable\": \"row\", \"value\": \"619\", \"label\": 619}, {\"component 0\": -0.053483824329747714, \"component 1\": -0.43573657068074906, \"variable\": \"row\", \"value\": \"620\", \"label\": 620}, {\"component 0\": 0.49740564854198227, \"component 1\": -0.4180752344894518, \"variable\": \"row\", \"value\": \"621\", \"label\": 621}, {\"component 0\": -0.6825391366098023, \"component 1\": -0.3340570461897191, \"variable\": \"row\", \"value\": \"624\", \"label\": 624}, {\"component 0\": -0.053483824329747714, \"component 1\": -0.43573657068074906, \"variable\": \"row\", \"value\": \"625\", \"label\": 625}, {\"component 0\": 0.49740564854198227, \"component 1\": -0.4180752344894518, \"variable\": \"row\", \"value\": \"626\", \"label\": 626}, {\"component 0\": 0.01936015259321311, \"component 1\": 1.607462280188493, \"variable\": \"row\", \"value\": \"627\", \"label\": 627}, {\"component 0\": -0.053483824329747714, \"component 1\": -0.43573657068074906, \"variable\": \"row\", \"value\": \"628\", \"label\": 628}, {\"component 0\": -0.053483824329747714, \"component 1\": -0.43573657068074906, \"variable\": \"row\", \"value\": \"629\", \"label\": 629}, {\"component 0\": -0.053483824329747714, \"component 1\": -0.43573657068074906, \"variable\": \"row\", \"value\": \"630\", \"label\": 630}, {\"component 0\": -0.053483824329747714, \"component 1\": -0.43573657068074906, \"variable\": \"row\", \"value\": \"631\", \"label\": 631}, {\"component 0\": -0.053483824329747714, \"component 1\": -0.43573657068074906, \"variable\": \"row\", \"value\": \"632\", \"label\": 632}, {\"component 0\": -0.13164966373807216, \"component 1\": -0.3163957099984218, \"variable\": \"row\", \"value\": \"633\", \"label\": 633}, {\"component 0\": 0.49740564854198227, \"component 1\": -0.4180752344894518, \"variable\": \"row\", \"value\": \"634\", \"label\": 634}, {\"component 0\": -0.053483824329747714, \"component 1\": -0.43573657068074906, \"variable\": \"row\", \"value\": \"635\", \"label\": 635}, {\"component 0\": -0.053483824329747714, \"component 1\": -0.43573657068074906, \"variable\": \"row\", \"value\": \"636\", \"label\": 636}, {\"component 0\": -0.053483824329747714, \"component 1\": -0.43573657068074906, \"variable\": \"row\", \"value\": \"637\", \"label\": 637}, {\"component 0\": 0.49740564854198227, \"component 1\": -0.4180752344894518, \"variable\": \"row\", \"value\": \"638\", \"label\": 638}, {\"component 0\": 0.49740564854198227, \"component 1\": -0.4180752344894518, \"variable\": \"row\", \"value\": \"639\", \"label\": 639}, {\"component 0\": -0.053483824329747714, \"component 1\": -0.43573657068074906, \"variable\": \"row\", \"value\": \"640\", \"label\": 640}, {\"component 0\": 0.49740564854198227, \"component 1\": -0.4180752344894518, \"variable\": \"row\", \"value\": \"641\", \"label\": 641}, {\"component 0\": 0.49740564854198227, \"component 1\": -0.4180752344894518, \"variable\": \"row\", \"value\": \"642\", \"label\": 642}, {\"component 0\": -0.6825391366098023, \"component 1\": -0.3340570461897191, \"variable\": \"row\", \"value\": \"643\", \"label\": 643}, {\"component 0\": 0.49740564854198227, \"component 1\": -0.4180752344894518, \"variable\": \"row\", \"value\": \"644\", \"label\": 644}, {\"component 0\": 0.49740564854198227, \"component 1\": -0.4180752344894518, \"variable\": \"row\", \"value\": \"645\", \"label\": 645}, {\"component 0\": 0.49740564854198227, \"component 1\": -0.4180752344894518, \"variable\": \"row\", \"value\": \"646\", \"label\": 646}, {\"component 0\": -0.053483824329747714, \"component 1\": -0.43573657068074906, \"variable\": \"row\", \"value\": \"647\", \"label\": 647}, {\"component 0\": -0.053483824329747714, \"component 1\": -0.43573657068074906, \"variable\": \"row\", \"value\": \"648\", \"label\": 648}, {\"component 0\": -1.0353745936361713, \"component 1\": 0.14486509101295753, \"variable\": \"row\", \"value\": \"649\", \"label\": 649}, {\"component 0\": 0.49740564854198227, \"component 1\": -0.4180752344894518, \"variable\": \"row\", \"value\": \"650\", \"label\": 650}, {\"component 0\": -0.053483824329747714, \"component 1\": -0.43573657068074906, \"variable\": \"row\", \"value\": \"651\", \"label\": 651}, {\"component 0\": -0.053483824329747714, \"component 1\": -0.43573657068074906, \"variable\": \"row\", \"value\": \"652\", \"label\": 652}, {\"component 0\": 0.49740564854198227, \"component 1\": -0.4180752344894518, \"variable\": \"row\", \"value\": \"653\", \"label\": 653}, {\"component 0\": -1.0353745936361713, \"component 1\": 0.14486509101295753, \"variable\": \"row\", \"value\": \"654\", \"label\": 654}, {\"component 0\": -0.053483824329747714, \"component 1\": -0.43573657068074906, \"variable\": \"row\", \"value\": \"655\", \"label\": 655}, {\"component 0\": -0.053483824329747714, \"component 1\": -0.43573657068074906, \"variable\": \"row\", \"value\": \"656\", \"label\": 656}, {\"component 0\": 0.49740564854198227, \"component 1\": -0.4180752344894518, \"variable\": \"row\", \"value\": \"657\", \"label\": 657}, {\"component 0\": -0.053483824329747714, \"component 1\": -0.43573657068074906, \"variable\": \"row\", \"value\": \"658\", \"label\": 658}, {\"component 0\": 0.49740564854198227, \"component 1\": -0.4180752344894518, \"variable\": \"row\", \"value\": \"659\", \"label\": 659}, {\"component 0\": 0.49740564854198227, \"component 1\": -0.4180752344894518, \"variable\": \"row\", \"value\": \"660\", \"label\": 660}, {\"component 0\": 0.8704157463751151, \"component 1\": 0.7062766692061258, \"variable\": \"row\", \"value\": \"661\", \"label\": 661}, {\"component 0\": -0.053483824329747714, \"component 1\": -0.43573657068074906, \"variable\": \"row\", \"value\": \"662\", \"label\": 662}, {\"component 0\": 0.49740564854198227, \"component 1\": -0.4180752344894518, \"variable\": \"row\", \"value\": \"663\", \"label\": 663}, {\"component 0\": -0.053483824329747714, \"component 1\": -0.43573657068074906, \"variable\": \"row\", \"value\": \"664\", \"label\": 664}, {\"component 0\": -0.053483824329747714, \"component 1\": -0.43573657068074906, \"variable\": \"row\", \"value\": \"665\", \"label\": 665}, {\"component 0\": -0.7064854022662889, \"component 1\": 0.9620325136955921, \"variable\": \"row\", \"value\": \"666\", \"label\": 666}, {\"component 0\": 0.49740564854198227, \"component 1\": -0.4180752344894518, \"variable\": \"row\", \"value\": \"667\", \"label\": 667}, {\"component 0\": -1.0353745936361713, \"component 1\": 0.14486509101295753, \"variable\": \"row\", \"value\": \"668\", \"label\": 668}, {\"component 0\": 0.49740564854198227, \"component 1\": -0.4180752344894518, \"variable\": \"row\", \"value\": \"669\", \"label\": 669}, {\"component 0\": 0.49740564854198227, \"component 1\": -0.4180752344894518, \"variable\": \"row\", \"value\": \"670\", \"label\": 670}, {\"component 0\": 0.49740564854198227, \"component 1\": -0.4180752344894518, \"variable\": \"row\", \"value\": \"672\", \"label\": 672}, {\"component 0\": 0.49740564854198227, \"component 1\": -0.4180752344894518, \"variable\": \"row\", \"value\": \"673\", \"label\": 673}, {\"component 0\": -0.053483824329747714, \"component 1\": -0.43573657068074906, \"variable\": \"row\", \"value\": \"674\", \"label\": 674}, {\"component 0\": 0.49740564854198227, \"component 1\": -0.4180752344894518, \"variable\": \"row\", \"value\": \"675\", \"label\": 675}, {\"component 0\": 0.49740564854198227, \"component 1\": -0.4180752344894518, \"variable\": \"row\", \"value\": \"676\", \"label\": 676}, {\"component 0\": 0.49740564854198227, \"component 1\": -0.4180752344894518, \"variable\": \"row\", \"value\": \"677\", \"label\": 677}, {\"component 0\": 0.49740564854198227, \"component 1\": -0.4180752344894518, \"variable\": \"row\", \"value\": \"678\", \"label\": 678}, {\"component 0\": 0.49740564854198227, \"component 1\": -0.4180752344894518, \"variable\": \"row\", \"value\": \"679\", \"label\": 679}, {\"component 0\": 0.49740564854198227, \"component 1\": -0.4180752344894518, \"variable\": \"row\", \"value\": \"680\", \"label\": 680}, {\"component 0\": -0.053483824329747714, \"component 1\": -0.43573657068074906, \"variable\": \"row\", \"value\": \"681\", \"label\": 681}, {\"component 0\": 0.49740564854198227, \"component 1\": -0.4180752344894518, \"variable\": \"row\", \"value\": \"682\", \"label\": 682}, {\"component 0\": 0.49740564854198227, \"component 1\": -0.4180752344894518, \"variable\": \"row\", \"value\": \"683\", \"label\": 683}, {\"component 0\": 0.49740564854198227, \"component 1\": -0.4180752344894518, \"variable\": \"row\", \"value\": \"684\", \"label\": 684}, {\"component 0\": 0.49740564854198227, \"component 1\": -0.4180752344894518, \"variable\": \"row\", \"value\": \"685\", \"label\": 685}, {\"component 0\": 0.49740564854198227, \"component 1\": -0.4180752344894518, \"variable\": \"row\", \"value\": \"686\", \"label\": 686}, {\"component 0\": -0.053483824329747714, \"component 1\": -0.43573657068074906, \"variable\": \"row\", \"value\": \"687\", \"label\": 687}, {\"component 0\": 0.49740564854198227, \"component 1\": -0.4180752344894518, \"variable\": \"row\", \"value\": \"688\", \"label\": 688}, {\"component 0\": -1.0353745936361713, \"component 1\": 0.14486509101295753, \"variable\": \"row\", \"value\": \"689\", \"label\": 689}, {\"component 0\": 0.49740564854198227, \"component 1\": -0.4180752344894518, \"variable\": \"row\", \"value\": \"690\", \"label\": 690}, {\"component 0\": 0.49740564854198227, \"component 1\": -0.4180752344894518, \"variable\": \"row\", \"value\": \"691\", \"label\": 691}, {\"component 0\": -0.40631928135611683, \"component 1\": 0.043185566521927524, \"variable\": \"row\", \"value\": \"692\", \"label\": 692}, {\"component 0\": 0.49740564854198227, \"component 1\": -0.4180752344894518, \"variable\": \"row\", \"value\": \"693\", \"label\": 693}, {\"component 0\": -0.053483824329747714, \"component 1\": -0.43573657068074906, \"variable\": \"row\", \"value\": \"694\", \"label\": 694}, {\"component 0\": 0.49740564854198227, \"component 1\": -0.4180752344894518, \"variable\": \"row\", \"value\": \"695\", \"label\": 695}, {\"component 0\": 0.49740564854198227, \"component 1\": -0.4180752344894518, \"variable\": \"row\", \"value\": \"696\", \"label\": 696}, {\"component 0\": 0.49740564854198227, \"component 1\": -0.4180752344894518, \"variable\": \"row\", \"value\": \"697\", \"label\": 697}, {\"component 0\": 0.49740564854198227, \"component 1\": -0.4180752344894518, \"variable\": \"row\", \"value\": \"698\", \"label\": 698}, {\"component 0\": 0.49740564854198227, \"component 1\": -0.4180752344894518, \"variable\": \"row\", \"value\": \"699\", \"label\": 699}, {\"component 0\": 0.49740564854198227, \"component 1\": -0.4180752344894518, \"variable\": \"row\", \"value\": \"700\", \"label\": 700}, {\"component 0\": 0.49740564854198227, \"component 1\": -0.4180752344894518, \"variable\": \"row\", \"value\": \"701\", \"label\": 701}, {\"component 0\": 0.49740564854198227, \"component 1\": -0.4180752344894518, \"variable\": \"row\", \"value\": \"702\", \"label\": 702}, {\"component 0\": -0.053483824329747714, \"component 1\": -0.43573657068074906, \"variable\": \"row\", \"value\": \"703\", \"label\": 703}, {\"component 0\": 0.49740564854198227, \"component 1\": -0.4180752344894518, \"variable\": \"row\", \"value\": \"704\", \"label\": 704}, {\"component 0\": 0.49740564854198227, \"component 1\": -0.4180752344894518, \"variable\": \"row\", \"value\": \"705\", \"label\": 705}, {\"component 0\": -0.053483824329747714, \"component 1\": -0.43573657068074906, \"variable\": \"row\", \"value\": \"707\", \"label\": 707}, {\"component 0\": -0.053483824329747714, \"component 1\": -0.43573657068074906, \"variable\": \"row\", \"value\": \"708\", \"label\": 708}, {\"component 0\": 0.49740564854198227, \"component 1\": -0.4180752344894518, \"variable\": \"row\", \"value\": \"709\", \"label\": 709}, {\"component 0\": 0.49740564854198227, \"component 1\": -0.4180752344894518, \"variable\": \"row\", \"value\": \"710\", \"label\": 710}, {\"component 0\": -0.053483824329747714, \"component 1\": -0.43573657068074906, \"variable\": \"row\", \"value\": \"711\", \"label\": 711}, {\"component 0\": 0.49740564854198227, \"component 1\": -0.4180752344894518, \"variable\": \"row\", \"value\": \"712\", \"label\": 712}, {\"component 0\": -0.40631928135611683, \"component 1\": 0.043185566521927524, \"variable\": \"row\", \"value\": \"713\", \"label\": 713}, {\"component 0\": 0.49740564854198227, \"component 1\": -0.4180752344894518, \"variable\": \"row\", \"value\": \"714\", \"label\": 714}, {\"component 0\": 0.49740564854198227, \"component 1\": -0.4180752344894518, \"variable\": \"row\", \"value\": \"715\", \"label\": 715}, {\"component 0\": -0.053483824329747714, \"component 1\": -0.43573657068074906, \"variable\": \"row\", \"value\": \"716\", \"label\": 716}, {\"component 0\": 0.49740564854198227, \"component 1\": -0.4180752344894518, \"variable\": \"row\", \"value\": \"717\", \"label\": 717}, {\"component 0\": -1.0353745936361713, \"component 1\": 0.14486509101295753, \"variable\": \"row\", \"value\": \"718\", \"label\": 718}, {\"component 0\": -0.053483824329747714, \"component 1\": -0.43573657068074906, \"variable\": \"row\", \"value\": \"719\", \"label\": 719}, {\"component 0\": 0.49740564854198227, \"component 1\": -0.4180752344894518, \"variable\": \"row\", \"value\": \"720\", \"label\": 720}, {\"component 0\": 0.49740564854198227, \"component 1\": -0.4180752344894518, \"variable\": \"row\", \"value\": \"721\", \"label\": 721}, {\"component 0\": -0.13164966373807216, \"component 1\": -0.3163957099984218, \"variable\": \"row\", \"value\": \"722\", \"label\": 722}, {\"component 0\": 0.49740564854198227, \"component 1\": -0.4180752344894518, \"variable\": \"row\", \"value\": \"723\", \"label\": 723}, {\"component 0\": 0.49740564854198227, \"component 1\": -0.4180752344894518, \"variable\": \"row\", \"value\": \"724\", \"label\": 724}, {\"component 0\": 0.49740564854198227, \"component 1\": -0.4180752344894518, \"variable\": \"row\", \"value\": \"725\", \"label\": 725}, {\"component 0\": 0.49740564854198227, \"component 1\": -0.4180752344894518, \"variable\": \"row\", \"value\": \"726\", \"label\": 726}, {\"component 0\": 0.49740564854198227, \"component 1\": -0.4180752344894518, \"variable\": \"row\", \"value\": \"727\", \"label\": 727}, {\"component 0\": 0.49740564854198227, \"component 1\": -0.4180752344894518, \"variable\": \"row\", \"value\": \"728\", \"label\": 728}, {\"component 0\": 0.49740564854198227, \"component 1\": -0.4180752344894518, \"variable\": \"row\", \"value\": \"729\", \"label\": 729}, {\"component 0\": 0.49740564854198227, \"component 1\": -0.4180752344894518, \"variable\": \"row\", \"value\": \"730\", \"label\": 730}, {\"component 0\": 0.49740564854198227, \"component 1\": -0.4180752344894518, \"variable\": \"row\", \"value\": \"731\", \"label\": 731}, {\"component 0\": -0.053483824329747714, \"component 1\": -0.43573657068074906, \"variable\": \"row\", \"value\": \"732\", \"label\": 732}, {\"component 0\": 0.49740564854198227, \"component 1\": -0.4180752344894518, \"variable\": \"row\", \"value\": \"733\", \"label\": 733}, {\"component 0\": 0.49740564854198227, \"component 1\": -0.4180752344894518, \"variable\": \"row\", \"value\": \"734\", \"label\": 734}, {\"component 0\": -0.053483824329747714, \"component 1\": -0.43573657068074906, \"variable\": \"row\", \"value\": \"735\", \"label\": 735}, {\"component 0\": 0.49740564854198227, \"component 1\": -0.4180752344894518, \"variable\": \"row\", \"value\": \"736\", \"label\": 736}, {\"component 0\": 0.49740564854198227, \"component 1\": -0.4180752344894518, \"variable\": \"row\", \"value\": \"737\", \"label\": 737}, {\"component 0\": 0.49740564854198227, \"component 1\": -0.4180752344894518, \"variable\": \"row\", \"value\": \"738\", \"label\": 738}, {\"component 0\": -0.053483824329747714, \"component 1\": -0.43573657068074906, \"variable\": \"row\", \"value\": \"739\", \"label\": 739}, {\"component 0\": 0.49740564854198227, \"component 1\": -0.4180752344894518, \"variable\": \"row\", \"value\": \"740\", \"label\": 740}, {\"component 0\": 0.49740564854198227, \"component 1\": -0.4180752344894518, \"variable\": \"row\", \"value\": \"741\", \"label\": 741}, {\"component 0\": -0.053483824329747714, \"component 1\": -0.43573657068074906, \"variable\": \"row\", \"value\": \"742\", \"label\": 742}, {\"component 0\": 0.49740564854198227, \"component 1\": -0.4180752344894518, \"variable\": \"row\", \"value\": \"743\", \"label\": 743}, {\"component 0\": -1.0353745936361713, \"component 1\": 0.14486509101295753, \"variable\": \"row\", \"value\": \"744\", \"label\": 744}, {\"component 0\": 0.49740564854198227, \"component 1\": -0.4180752344894518, \"variable\": \"row\", \"value\": \"745\", \"label\": 745}, {\"component 0\": -0.053483824329747714, \"component 1\": -0.43573657068074906, \"variable\": \"row\", \"value\": \"746\", \"label\": 746}, {\"component 0\": 0.49740564854198227, \"component 1\": -0.4180752344894518, \"variable\": \"row\", \"value\": \"748\", \"label\": 748}, {\"component 0\": -1.0353745936361713, \"component 1\": 0.14486509101295753, \"variable\": \"row\", \"value\": \"749\", \"label\": 749}, {\"component 0\": -0.053483824329747714, \"component 1\": -0.43573657068074906, \"variable\": \"row\", \"value\": \"750\", \"label\": 750}, {\"component 0\": -0.053483824329747714, \"component 1\": -0.43573657068074906, \"variable\": \"row\", \"value\": \"751\", \"label\": 751}, {\"component 0\": 0.49740564854198227, \"component 1\": -0.4180752344894518, \"variable\": \"row\", \"value\": \"752\", \"label\": 752}, {\"component 0\": 0.49740564854198227, \"component 1\": -0.4180752344894518, \"variable\": \"row\", \"value\": \"753\", \"label\": 753}, {\"component 0\": -0.053483824329747714, \"component 1\": -0.43573657068074906, \"variable\": \"row\", \"value\": \"754\", \"label\": 754}, {\"component 0\": 0.49740564854198227, \"component 1\": -0.4180752344894518, \"variable\": \"row\", \"value\": \"755\", \"label\": 755}, {\"component 0\": -0.13164966373807216, \"component 1\": -0.3163957099984218, \"variable\": \"row\", \"value\": \"756\", \"label\": 756}, {\"component 0\": -0.053483824329747714, \"component 1\": -0.43573657068074906, \"variable\": \"row\", \"value\": \"757\", \"label\": 757}, {\"component 0\": 0.49740564854198227, \"component 1\": -0.4180752344894518, \"variable\": \"row\", \"value\": \"758\", \"label\": 758}, {\"component 0\": -1.0353745936361713, \"component 1\": 0.14486509101295753, \"variable\": \"row\", \"value\": \"759\", \"label\": 759}, {\"component 0\": 0.49740564854198227, \"component 1\": -0.4180752344894518, \"variable\": \"row\", \"value\": \"760\", \"label\": 760}, {\"component 0\": 0.49740564854198227, \"component 1\": -0.4180752344894518, \"variable\": \"row\", \"value\": \"761\", \"label\": 761}, {\"component 0\": 0.49740564854198227, \"component 1\": -0.4180752344894518, \"variable\": \"row\", \"value\": \"762\", \"label\": 762}, {\"component 0\": 0.49740564854198227, \"component 1\": -0.4180752344894518, \"variable\": \"row\", \"value\": \"763\", \"label\": 763}, {\"component 0\": 0.49740564854198227, \"component 1\": -0.4180752344894518, \"variable\": \"row\", \"value\": \"764\", \"label\": 764}, {\"component 0\": 0.49740564854198227, \"component 1\": -0.4180752344894518, \"variable\": \"row\", \"value\": \"765\", \"label\": 765}, {\"component 0\": 0.49740564854198227, \"component 1\": -0.4180752344894518, \"variable\": \"row\", \"value\": \"766\", \"label\": 766}, {\"component 0\": 0.49740564854198227, \"component 1\": -0.4180752344894518, \"variable\": \"row\", \"value\": \"767\", \"label\": 767}, {\"component 0\": -0.053483824329747714, \"component 1\": -0.43573657068074906, \"variable\": \"row\", \"value\": \"768\", \"label\": 768}, {\"component 0\": 0.49740564854198227, \"component 1\": -0.4180752344894518, \"variable\": \"row\", \"value\": \"769\", \"label\": 769}, {\"component 0\": 0.49740564854198227, \"component 1\": -0.4180752344894518, \"variable\": \"row\", \"value\": \"770\", \"label\": 770}, {\"component 0\": 0.49740564854198227, \"component 1\": -0.4180752344894518, \"variable\": \"row\", \"value\": \"771\", \"label\": 771}, {\"component 0\": -0.053483824329747714, \"component 1\": -0.43573657068074906, \"variable\": \"row\", \"value\": \"772\", \"label\": 772}, {\"component 0\": 0.49740564854198227, \"component 1\": -0.4180752344894518, \"variable\": \"row\", \"value\": \"773\", \"label\": 773}, {\"component 0\": 0.49740564854198227, \"component 1\": -0.4180752344894518, \"variable\": \"row\", \"value\": \"774\", \"label\": 774}, {\"component 0\": 0.49740564854198227, \"component 1\": -0.4180752344894518, \"variable\": \"row\", \"value\": \"775\", \"label\": 775}, {\"component 0\": 0.49740564854198227, \"component 1\": -0.4180752344894518, \"variable\": \"row\", \"value\": \"776\", \"label\": 776}, {\"component 0\": -0.13164966373807216, \"component 1\": -0.3163957099984218, \"variable\": \"row\", \"value\": \"777\", \"label\": 777}, {\"component 0\": 0.49740564854198227, \"component 1\": -0.4180752344894518, \"variable\": \"row\", \"value\": \"778\", \"label\": 778}, {\"component 0\": 0.49740564854198227, \"component 1\": -0.4180752344894518, \"variable\": \"row\", \"value\": \"779\", \"label\": 779}, {\"component 0\": 0.49740564854198227, \"component 1\": -0.4180752344894518, \"variable\": \"row\", \"value\": \"780\", \"label\": 780}, {\"component 0\": -0.053483824329747714, \"component 1\": -0.43573657068074906, \"variable\": \"row\", \"value\": \"781\", \"label\": 781}, {\"component 0\": 0.49740564854198227, \"component 1\": -0.4180752344894518, \"variable\": \"row\", \"value\": \"782\", \"label\": 782}, {\"component 0\": 0.49740564854198227, \"component 1\": -0.4180752344894518, \"variable\": \"row\", \"value\": \"783\", \"label\": 783}, {\"component 0\": 0.49740564854198227, \"component 1\": -0.4180752344894518, \"variable\": \"row\", \"value\": \"784\", \"label\": 784}, {\"component 0\": 0.49740564854198227, \"component 1\": -0.4180752344894518, \"variable\": \"row\", \"value\": \"785\", \"label\": 785}, {\"component 0\": -0.6825391366098023, \"component 1\": -0.3340570461897191, \"variable\": \"row\", \"value\": \"786\", \"label\": 786}, {\"component 0\": -0.3536499452399197, \"component 1\": 0.48311037649291544, \"variable\": \"row\", \"value\": \"787\", \"label\": 787}, {\"component 0\": 0.49740564854198227, \"component 1\": -0.4180752344894518, \"variable\": \"row\", \"value\": \"788\", \"label\": 788}, {\"component 0\": 0.49740564854198227, \"component 1\": -0.4180752344894518, \"variable\": \"row\", \"value\": \"789\", \"label\": 789}, {\"component 0\": 0.49740564854198227, \"component 1\": -0.4180752344894518, \"variable\": \"row\", \"value\": \"790\", \"label\": 790}, {\"component 0\": -1.0353745936361713, \"component 1\": 0.14486509101295753, \"variable\": \"row\", \"value\": \"791\", \"label\": 791}, {\"component 0\": 0.49740564854198227, \"component 1\": -0.4180752344894518, \"variable\": \"row\", \"value\": \"792\", \"label\": 792}, {\"component 0\": 0.49740564854198227, \"component 1\": -0.4180752344894518, \"variable\": \"row\", \"value\": \"793\", \"label\": 793}, {\"component 0\": 0.49740564854198227, \"component 1\": -0.4180752344894518, \"variable\": \"row\", \"value\": \"795\", \"label\": 795}, {\"component 0\": 0.49740564854198227, \"component 1\": -0.4180752344894518, \"variable\": \"row\", \"value\": \"796\", \"label\": 796}, {\"component 0\": 0.49740564854198227, \"component 1\": -0.4180752344894518, \"variable\": \"row\", \"value\": \"797\", \"label\": 797}, {\"component 0\": 0.49740564854198227, \"component 1\": -0.4180752344894518, \"variable\": \"row\", \"value\": \"798\", \"label\": 798}, {\"component 0\": -0.053483824329747714, \"component 1\": -0.43573657068074906, \"variable\": \"row\", \"value\": \"799\", \"label\": 799}, {\"component 0\": 0.49740564854198227, \"component 1\": -0.4180752344894518, \"variable\": \"row\", \"value\": \"800\", \"label\": 800}, {\"component 0\": -0.4844851207644412, \"component 1\": 0.1625264272042548, \"variable\": \"row\", \"value\": \"801\", \"label\": 801}, {\"component 0\": 0.49740564854198227, \"component 1\": -0.4180752344894518, \"variable\": \"row\", \"value\": \"802\", \"label\": 802}, {\"component 0\": -0.053483824329747714, \"component 1\": -0.43573657068074906, \"variable\": \"row\", \"value\": \"803\", \"label\": 803}, {\"component 0\": 0.49740564854198227, \"component 1\": -0.4180752344894518, \"variable\": \"row\", \"value\": \"804\", \"label\": 804}, {\"component 0\": -0.053483824329747714, \"component 1\": -0.43573657068074906, \"variable\": \"row\", \"value\": \"805\", \"label\": 805}, {\"component 0\": -0.053483824329747714, \"component 1\": -0.43573657068074906, \"variable\": \"row\", \"value\": \"806\", \"label\": 806}, {\"component 0\": -1.0353745936361713, \"component 1\": 0.14486509101295753, \"variable\": \"row\", \"value\": \"807\", \"label\": 807}, {\"component 0\": 0.49740564854198227, \"component 1\": -0.4180752344894518, \"variable\": \"row\", \"value\": \"808\", \"label\": 808}, {\"component 0\": -0.053483824329747714, \"component 1\": -0.43573657068074906, \"variable\": \"row\", \"value\": \"809\", \"label\": 809}, {\"component 0\": 0.49740564854198227, \"component 1\": -0.4180752344894518, \"variable\": \"row\", \"value\": \"810\", \"label\": 810}, {\"component 0\": 0.49740564854198227, \"component 1\": -0.4180752344894518, \"variable\": \"row\", \"value\": \"811\", \"label\": 811}, {\"component 0\": -1.0353745936361713, \"component 1\": 0.14486509101295753, \"variable\": \"row\", \"value\": \"812\", \"label\": 812}, {\"component 0\": 0.49740564854198227, \"component 1\": -0.4180752344894518, \"variable\": \"row\", \"value\": \"813\", \"label\": 813}, {\"component 0\": -0.40631928135611683, \"component 1\": 0.043185566521927524, \"variable\": \"row\", \"value\": \"814\", \"label\": 814}, {\"component 0\": -0.053483824329747714, \"component 1\": -0.43573657068074906, \"variable\": \"row\", \"value\": \"815\", \"label\": 815}, {\"component 0\": -0.13164966373807216, \"component 1\": -0.3163957099984218, \"variable\": \"row\", \"value\": \"816\", \"label\": 816}, {\"component 0\": 0.49740564854198227, \"component 1\": -0.4180752344894518, \"variable\": \"row\", \"value\": \"817\", \"label\": 817}, {\"component 0\": 0.49740564854198227, \"component 1\": -0.4180752344894518, \"variable\": \"row\", \"value\": \"818\", \"label\": 818}, {\"component 0\": 0.49740564854198227, \"component 1\": -0.4180752344894518, \"variable\": \"row\", \"value\": \"819\", \"label\": 819}, {\"component 0\": 0.49740564854198227, \"component 1\": -0.4180752344894518, \"variable\": \"row\", \"value\": \"820\", \"label\": 820}, {\"component 0\": -0.053483824329747714, \"component 1\": -0.43573657068074906, \"variable\": \"row\", \"value\": \"821\", \"label\": 821}, {\"component 0\": -0.13164966373807216, \"component 1\": -0.3163957099984218, \"variable\": \"row\", \"value\": \"822\", \"label\": 822}, {\"component 0\": -1.0353745936361713, \"component 1\": 0.14486509101295753, \"variable\": \"row\", \"value\": \"823\", \"label\": 823}, {\"component 0\": 0.49740564854198227, \"component 1\": -0.4180752344894518, \"variable\": \"row\", \"value\": \"824\", \"label\": 824}, {\"component 0\": 0.49740564854198227, \"component 1\": -0.4180752344894518, \"variable\": \"row\", \"value\": \"825\", \"label\": 825}, {\"component 0\": 0.49740564854198227, \"component 1\": -0.4180752344894518, \"variable\": \"row\", \"value\": \"826\", \"label\": 826}, {\"component 0\": 0.49740564854198227, \"component 1\": -0.4180752344894518, \"variable\": \"row\", \"value\": \"827\", \"label\": 827}, {\"component 0\": 0.49740564854198227, \"component 1\": -0.4180752344894518, \"variable\": \"row\", \"value\": \"828\", \"label\": 828}, {\"component 0\": 0.49740564854198227, \"component 1\": -0.4180752344894518, \"variable\": \"row\", \"value\": \"829\", \"label\": 829}, {\"component 0\": 0.49740564854198227, \"component 1\": -0.4180752344894518, \"variable\": \"row\", \"value\": \"830\", \"label\": 830}, {\"component 0\": 0.49740564854198227, \"component 1\": -0.4180752344894518, \"variable\": \"row\", \"value\": \"831\", \"label\": 831}, {\"component 0\": 0.49740564854198227, \"component 1\": -0.4180752344894518, \"variable\": \"row\", \"value\": \"832\", \"label\": 832}, {\"component 0\": -0.053483824329747714, \"component 1\": -0.43573657068074906, \"variable\": \"row\", \"value\": \"833\", \"label\": 833}, {\"component 0\": 0.49740564854198227, \"component 1\": -0.4180752344894518, \"variable\": \"row\", \"value\": \"834\", \"label\": 834}, {\"component 0\": 0.49740564854198227, \"component 1\": -0.4180752344894518, \"variable\": \"row\", \"value\": \"835\", \"label\": 835}, {\"component 0\": 0.49740564854198227, \"component 1\": -0.4180752344894518, \"variable\": \"row\", \"value\": \"836\", \"label\": 836}, {\"component 0\": -0.053483824329747714, \"component 1\": -0.43573657068074906, \"variable\": \"row\", \"value\": \"837\", \"label\": 837}, {\"component 0\": 0.49740564854198227, \"component 1\": -0.4180752344894518, \"variable\": \"row\", \"value\": \"838\", \"label\": 838}, {\"component 0\": 0.49740564854198227, \"component 1\": -0.4180752344894518, \"variable\": \"row\", \"value\": \"839\", \"label\": 839}, {\"component 0\": 0.49740564854198227, \"component 1\": -0.4180752344894518, \"variable\": \"row\", \"value\": \"840\", \"label\": 840}, {\"component 0\": 0.49740564854198227, \"component 1\": -0.4180752344894518, \"variable\": \"row\", \"value\": \"841\", \"label\": 841}, {\"component 0\": 0.49740564854198227, \"component 1\": -0.4180752344894518, \"variable\": \"row\", \"value\": \"842\", \"label\": 842}, {\"component 0\": 0.49740564854198227, \"component 1\": -0.4180752344894518, \"variable\": \"row\", \"value\": \"843\", \"label\": 843}, {\"component 0\": 0.49740564854198227, \"component 1\": -0.4180752344894518, \"variable\": \"row\", \"value\": \"844\", \"label\": 844}, {\"component 0\": -0.053483824329747714, \"component 1\": -0.43573657068074906, \"variable\": \"row\", \"value\": \"845\", \"label\": 845}, {\"component 0\": 0.49740564854198227, \"component 1\": -0.4180752344894518, \"variable\": \"row\", \"value\": \"847\", \"label\": 847}, {\"component 0\": 0.49740564854198227, \"component 1\": -0.4180752344894518, \"variable\": \"row\", \"value\": \"848\", \"label\": 848}, {\"component 0\": -0.6825391366098023, \"component 1\": -0.3340570461897191, \"variable\": \"row\", \"value\": \"849\", \"label\": 849}, {\"component 0\": 0.49740564854198227, \"component 1\": -0.4180752344894518, \"variable\": \"row\", \"value\": \"850\", \"label\": 850}, {\"component 0\": -0.053483824329747714, \"component 1\": -0.43573657068074906, \"variable\": \"row\", \"value\": \"851\", \"label\": 851}, {\"component 0\": 0.49740564854198227, \"component 1\": -0.4180752344894518, \"variable\": \"row\", \"value\": \"852\", \"label\": 852}, {\"component 0\": 0.49740564854198227, \"component 1\": -0.4180752344894518, \"variable\": \"row\", \"value\": \"853\", \"label\": 853}, {\"component 0\": -0.40631928135611683, \"component 1\": 0.043185566521927524, \"variable\": \"row\", \"value\": \"854\", \"label\": 854}, {\"component 0\": 0.49740564854198227, \"component 1\": -0.4180752344894518, \"variable\": \"row\", \"value\": \"855\", \"label\": 855}, {\"component 0\": 0.49740564854198227, \"component 1\": -0.4180752344894518, \"variable\": \"row\", \"value\": \"856\", \"label\": 856}, {\"component 0\": 0.49740564854198227, \"component 1\": -0.4180752344894518, \"variable\": \"row\", \"value\": \"857\", \"label\": 857}, {\"component 0\": -0.053483824329747714, \"component 1\": -0.43573657068074906, \"variable\": \"row\", \"value\": \"858\", \"label\": 858}, {\"component 0\": -0.053483824329747714, \"component 1\": -0.43573657068074906, \"variable\": \"row\", \"value\": \"859\", \"label\": 859}, {\"component 0\": -0.053483824329747714, \"component 1\": -0.43573657068074906, \"variable\": \"row\", \"value\": \"860\", \"label\": 860}, {\"component 0\": 0.49740564854198227, \"component 1\": -0.4180752344894518, \"variable\": \"row\", \"value\": \"861\", \"label\": 861}], \"data-76c0c47bab94fc6104e476113afd2b27\": [{\"component 0\": 0.5050771396228501, \"component 1\": -0.07563288923758707, \"variable\": \"column\", \"value\": \"ATRX_0\", \"label\": \"ATRX_0\"}, {\"component 0\": -1.450060175046243, \"component 1\": 0.21713958523049434, \"variable\": \"column\", \"value\": \"ATRX_1\", \"label\": \"ATRX_1\"}, {\"component 0\": 0.52873296591404, \"component 1\": -0.6648709927768404, \"variable\": \"column\", \"value\": \"IDH1_0\", \"label\": \"IDH1_0\"}, {\"component 0\": -0.5678983707965586, \"component 1\": 0.7141206959454963, \"variable\": \"column\", \"value\": \"IDH1_1\", \"label\": \"IDH1_1\"}, {\"component 0\": 0.7093374045102281, \"component 1\": 0.021067851681985855, \"variable\": \"column\", \"value\": \"TP53_0\", \"label\": \"TP53_0\"}, {\"component 0\": -1.0028563305144598, \"component 1\": -0.029785583412461014, \"variable\": \"column\", \"value\": \"TP53_1\", \"label\": \"TP53_1\"}, {\"component 0\": -0.13507709872802728, \"component 1\": -0.3109220154088984, \"variable\": \"column\", \"value\": \"CIC_0\", \"label\": \"CIC_0\"}, {\"component 0\": 0.8871279727273235, \"component 1\": 2.0420013444422347, \"variable\": \"column\", \"value\": \"CIC_1\", \"label\": \"CIC_1\"}, {\"component 0\": -0.062107242409929056, \"component 1\": -0.1734331947074471, \"variable\": \"column\", \"value\": \"FUBP1_0\", \"label\": \"FUBP1_0\"}, {\"component 0\": 1.097227949242101, \"component 1\": 3.0639864398315773, \"variable\": \"column\", \"value\": \"FUBP1_1\", \"label\": \"FUBP1_1\"}]}}, {\"mode\": \"vega-lite\"});\n",
       "</script>"
      ],
      "text/plain": [
       "alt.LayerChart(...)"
      ]
     },
     "execution_count": 73,
     "metadata": {},
     "output_type": "execute_result"
    }
   ],
   "source": [
    "\n",
    "'''mca_ = prince.MCA( n_components=2) #, use_benzecri_rates=False, plotter='mpl')\n",
    "mc = mca_.fit(correlatedgenes)\n",
    "mca1 = mca_.transform(correlatedgenes)\n",
    "mc.plot_coordinates(X=correlatedgenes, ax=None)'''\n",
    "\n",
    "mc = prince.MCA(one_hot=False)\n",
    "mc = prince.MCA(n_components=2).fit(correlatedgenes)\n",
    "'''mc.plot(X=correlatedgenes, )'''\n",
    "mc.plot(correlatedgenes) # ax=ax)#(df[cols_list])\n",
    "\n"
   ]
  },
  {
   "cell_type": "code",
   "execution_count": 74,
   "metadata": {},
   "outputs": [
    {
     "name": "stdout",
     "output_type": "stream",
     "text": [
      "Eigenvalues: [0.38639976 0.33162974]\n",
      "Row coordinates:\n",
      "            0         1\n",
      "0    0.517580  1.185199\n",
      "1    0.473459  0.878014\n",
      "2   -1.035375  0.144865\n",
      "3   -1.035375  0.144865\n",
      "4   -1.035375  0.144865\n",
      "..        ...       ...\n",
      "857  0.497406 -0.418075\n",
      "858 -0.053484 -0.435737\n",
      "859 -0.053484 -0.435737\n",
      "860 -0.053484 -0.435737\n",
      "861  0.497406 -0.418075\n",
      "\n",
      "[840 rows x 2 columns]\n",
      "Column coordinates:\n",
      "                0         1\n",
      "ATRX_0   0.505077 -0.075633\n",
      "ATRX_1  -1.450060  0.217140\n",
      "IDH1_0   0.528733 -0.664871\n",
      "IDH1_1  -0.567898  0.714121\n",
      "TP53_0   0.709337  0.021068\n",
      "TP53_1  -1.002856 -0.029786\n",
      "CIC_0   -0.135077 -0.310922\n",
      "CIC_1    0.887128  2.042001\n",
      "FUBP1_0 -0.062107 -0.173433\n",
      "FUBP1_1  1.097228  3.063986\n"
     ]
    }
   ],
   "source": [
    "# Eigenvalues\n",
    "print(\"Eigenvalues:\", mc.eigenvalues_)\n",
    "\n",
    "\n",
    "\n",
    "# Row coordinates\n",
    "print(\"Row coordinates:\")\n",
    "print(mc.row_coordinates(correlatedgenes))\n",
    "\n",
    "\n",
    "# Column coordinates\n",
    "print(\"Column coordinates:\")\n",
    "print(mc.column_coordinates(correlatedgenes))"
   ]
  },
  {
   "cell_type": "code",
   "execution_count": 82,
   "metadata": {},
   "outputs": [
    {
     "data": {
      "text/html": [
       "<style type=\"text/css\">\n",
       "</style>\n",
       "<table id=\"T_6e4a4\">\n",
       "  <thead>\n",
       "    <tr>\n",
       "      <th class=\"blank level0\" >&nbsp;</th>\n",
       "      <th id=\"T_6e4a4_level0_col0\" class=\"col_heading level0 col0\" >0</th>\n",
       "      <th id=\"T_6e4a4_level0_col1\" class=\"col_heading level0 col1\" >1</th>\n",
       "    </tr>\n",
       "  </thead>\n",
       "  <tbody>\n",
       "    <tr>\n",
       "      <th id=\"T_6e4a4_level0_row0\" class=\"row_heading level0 row0\" >ATRX_0</th>\n",
       "      <td id=\"T_6e4a4_row0_col0\" class=\"data row0 col0\" >10%</td>\n",
       "      <td id=\"T_6e4a4_row0_col1\" class=\"data row0 col1\" >0%</td>\n",
       "    </tr>\n",
       "    <tr>\n",
       "      <th id=\"T_6e4a4_level0_row1\" class=\"row_heading level0 row1\" >ATRX_1</th>\n",
       "      <td id=\"T_6e4a4_row1_col0\" class=\"data row1 col0\" >28%</td>\n",
       "      <td id=\"T_6e4a4_row1_col1\" class=\"data row1 col1\" >1%</td>\n",
       "    </tr>\n",
       "    <tr>\n",
       "      <th id=\"T_6e4a4_level0_row2\" class=\"row_heading level0 row2\" >IDH1_0</th>\n",
       "      <td id=\"T_6e4a4_row2_col0\" class=\"data row2 col0\" >7%</td>\n",
       "      <td id=\"T_6e4a4_row2_col1\" class=\"data row2 col1\" >14%</td>\n",
       "    </tr>\n",
       "    <tr>\n",
       "      <th id=\"T_6e4a4_level0_row3\" class=\"row_heading level0 row3\" >IDH1_1</th>\n",
       "      <td id=\"T_6e4a4_row3_col0\" class=\"data row3 col0\" >8%</td>\n",
       "      <td id=\"T_6e4a4_row3_col1\" class=\"data row3 col1\" >15%</td>\n",
       "    </tr>\n",
       "    <tr>\n",
       "      <th id=\"T_6e4a4_level0_row4\" class=\"row_heading level0 row4\" >TP53_0</th>\n",
       "      <td id=\"T_6e4a4_row4_col0\" class=\"data row4 col0\" >15%</td>\n",
       "      <td id=\"T_6e4a4_row4_col1\" class=\"data row4 col1\" >0%</td>\n",
       "    </tr>\n",
       "    <tr>\n",
       "      <th id=\"T_6e4a4_level0_row5\" class=\"row_heading level0 row5\" >TP53_1</th>\n",
       "      <td id=\"T_6e4a4_row5_col0\" class=\"data row5 col0\" >22%</td>\n",
       "      <td id=\"T_6e4a4_row5_col1\" class=\"data row5 col1\" >0%</td>\n",
       "    </tr>\n",
       "    <tr>\n",
       "      <th id=\"T_6e4a4_level0_row6\" class=\"row_heading level0 row6\" >CIC_0</th>\n",
       "      <td id=\"T_6e4a4_row6_col0\" class=\"data row6 col0\" >1%</td>\n",
       "      <td id=\"T_6e4a4_row6_col1\" class=\"data row6 col1\" >5%</td>\n",
       "    </tr>\n",
       "    <tr>\n",
       "      <th id=\"T_6e4a4_level0_row7\" class=\"row_heading level0 row7\" >CIC_1</th>\n",
       "      <td id=\"T_6e4a4_row7_col0\" class=\"data row7 col0\" >5%</td>\n",
       "      <td id=\"T_6e4a4_row7_col1\" class=\"data row7 col1\" >33%</td>\n",
       "    </tr>\n",
       "    <tr>\n",
       "      <th id=\"T_6e4a4_level0_row8\" class=\"row_heading level0 row8\" >FUBP1_0</th>\n",
       "      <td id=\"T_6e4a4_row8_col0\" class=\"data row8 col0\" >0%</td>\n",
       "      <td id=\"T_6e4a4_row8_col1\" class=\"data row8 col1\" >2%</td>\n",
       "    </tr>\n",
       "    <tr>\n",
       "      <th id=\"T_6e4a4_level0_row9\" class=\"row_heading level0 row9\" >FUBP1_1</th>\n",
       "      <td id=\"T_6e4a4_row9_col0\" class=\"data row9 col0\" >3%</td>\n",
       "      <td id=\"T_6e4a4_row9_col1\" class=\"data row9 col1\" >30%</td>\n",
       "    </tr>\n",
       "  </tbody>\n",
       "</table>\n"
      ],
      "text/plain": [
       "<pandas.io.formats.style.Styler at 0x7fe42048f5e0>"
      ]
     },
     "execution_count": 82,
     "metadata": {},
     "output_type": "execute_result"
    }
   ],
   "source": [
    "mc.column_contributions_.style.format('{:.0%}')\n",
    "\n",
    "#TODO add to presentation"
   ]
  },
  {
   "cell_type": "code",
   "execution_count": 76,
   "metadata": {},
   "outputs": [
    {
     "data": {
      "text/html": [
       "<div>\n",
       "<style scoped>\n",
       "    .dataframe tbody tr th:only-of-type {\n",
       "        vertical-align: middle;\n",
       "    }\n",
       "\n",
       "    .dataframe tbody tr th {\n",
       "        vertical-align: top;\n",
       "    }\n",
       "\n",
       "    .dataframe thead th {\n",
       "        text-align: right;\n",
       "    }\n",
       "</style>\n",
       "<table border=\"1\" class=\"dataframe\">\n",
       "  <thead>\n",
       "    <tr style=\"text-align: right;\">\n",
       "      <th></th>\n",
       "      <th>0</th>\n",
       "      <th>1</th>\n",
       "    </tr>\n",
       "  </thead>\n",
       "  <tbody>\n",
       "    <tr>\n",
       "      <th>ATRX_0</th>\n",
       "      <td>0.732392</td>\n",
       "      <td>0.016423</td>\n",
       "    </tr>\n",
       "    <tr>\n",
       "      <th>ATRX_1</th>\n",
       "      <td>0.732392</td>\n",
       "      <td>0.016423</td>\n",
       "    </tr>\n",
       "    <tr>\n",
       "      <th>IDH1_0</th>\n",
       "      <td>0.300267</td>\n",
       "      <td>0.474798</td>\n",
       "    </tr>\n",
       "    <tr>\n",
       "      <th>IDH1_1</th>\n",
       "      <td>0.300267</td>\n",
       "      <td>0.474798</td>\n",
       "    </tr>\n",
       "    <tr>\n",
       "      <th>TP53_0</th>\n",
       "      <td>0.711364</td>\n",
       "      <td>0.000628</td>\n",
       "    </tr>\n",
       "  </tbody>\n",
       "</table>\n",
       "</div>"
      ],
      "text/plain": [
       "               0         1\n",
       "ATRX_0  0.732392  0.016423\n",
       "ATRX_1  0.732392  0.016423\n",
       "IDH1_0  0.300267  0.474798\n",
       "IDH1_1  0.300267  0.474798\n",
       "TP53_0  0.711364  0.000628"
      ]
     },
     "execution_count": 76,
     "metadata": {},
     "output_type": "execute_result"
    }
   ],
   "source": [
    "mc.column_cosine_similarities(correlatedgenes).head()\n",
    "#say this is a sanity check and that thigns were not very accurately projected on dimensions except for one "
   ]
  },
  {
   "cell_type": "code",
   "execution_count": 83,
   "metadata": {},
   "outputs": [],
   "source": [
    "allgenes=df. iloc [ :,3:-5 ]"
   ]
  },
  {
   "cell_type": "code",
   "execution_count": 78,
   "metadata": {},
   "outputs": [
    {
     "data": {
      "text/html": [
       "\n",
       "<style>\n",
       "  #altair-viz-4c6ae9a54c89484092137a01bd0de06d.vega-embed {\n",
       "    width: 100%;\n",
       "    display: flex;\n",
       "  }\n",
       "\n",
       "  #altair-viz-4c6ae9a54c89484092137a01bd0de06d.vega-embed details,\n",
       "  #altair-viz-4c6ae9a54c89484092137a01bd0de06d.vega-embed details summary {\n",
       "    position: relative;\n",
       "  }\n",
       "</style>\n",
       "<div id=\"altair-viz-4c6ae9a54c89484092137a01bd0de06d\"></div>\n",
       "<script type=\"text/javascript\">\n",
       "  var VEGA_DEBUG = (typeof VEGA_DEBUG == \"undefined\") ? {} : VEGA_DEBUG;\n",
       "  (function(spec, embedOpt){\n",
       "    let outputDiv = document.currentScript.previousElementSibling;\n",
       "    if (outputDiv.id !== \"altair-viz-4c6ae9a54c89484092137a01bd0de06d\") {\n",
       "      outputDiv = document.getElementById(\"altair-viz-4c6ae9a54c89484092137a01bd0de06d\");\n",
       "    }\n",
       "    const paths = {\n",
       "      \"vega\": \"https://cdn.jsdelivr.net/npm/vega@5?noext\",\n",
       "      \"vega-lib\": \"https://cdn.jsdelivr.net/npm/vega-lib?noext\",\n",
       "      \"vega-lite\": \"https://cdn.jsdelivr.net/npm/vega-lite@5.16.3?noext\",\n",
       "      \"vega-embed\": \"https://cdn.jsdelivr.net/npm/vega-embed@6?noext\",\n",
       "    };\n",
       "\n",
       "    function maybeLoadScript(lib, version) {\n",
       "      var key = `${lib.replace(\"-\", \"\")}_version`;\n",
       "      return (VEGA_DEBUG[key] == version) ?\n",
       "        Promise.resolve(paths[lib]) :\n",
       "        new Promise(function(resolve, reject) {\n",
       "          var s = document.createElement('script');\n",
       "          document.getElementsByTagName(\"head\")[0].appendChild(s);\n",
       "          s.async = true;\n",
       "          s.onload = () => {\n",
       "            VEGA_DEBUG[key] = version;\n",
       "            return resolve(paths[lib]);\n",
       "          };\n",
       "          s.onerror = () => reject(`Error loading script: ${paths[lib]}`);\n",
       "          s.src = paths[lib];\n",
       "        });\n",
       "    }\n",
       "\n",
       "    function showError(err) {\n",
       "      outputDiv.innerHTML = `<div class=\"error\" style=\"color:red;\">${err}</div>`;\n",
       "      throw err;\n",
       "    }\n",
       "\n",
       "    function displayChart(vegaEmbed) {\n",
       "      vegaEmbed(outputDiv, spec, embedOpt)\n",
       "        .catch(err => showError(`Javascript Error: ${err.message}<br>This usually means there's a typo in your chart specification. See the javascript console for the full traceback.`));\n",
       "    }\n",
       "\n",
       "    if(typeof define === \"function\" && define.amd) {\n",
       "      requirejs.config({paths});\n",
       "      require([\"vega-embed\"], displayChart, err => showError(`Error loading script: ${err.message}`));\n",
       "    } else {\n",
       "      maybeLoadScript(\"vega\", \"5\")\n",
       "        .then(() => maybeLoadScript(\"vega-lite\", \"5.16.3\"))\n",
       "        .then(() => maybeLoadScript(\"vega-embed\", \"6\"))\n",
       "        .catch(showError)\n",
       "        .then(() => displayChart(vegaEmbed));\n",
       "    }\n",
       "  })({\"config\": {\"view\": {\"continuousWidth\": 300, \"continuousHeight\": 300}}, \"layer\": [{\"data\": {\"name\": \"data-1c87be8c0123ce263d69fdafff9af98b\"}, \"mark\": {\"type\": \"circle\", \"size\": 50}, \"encoding\": {\"color\": {\"field\": \"variable\", \"type\": \"nominal\"}, \"tooltip\": [{\"field\": \"variable\", \"type\": \"nominal\"}, {\"field\": \"value\", \"type\": \"nominal\"}, {\"field\": \"component 0\", \"type\": \"quantitative\"}, {\"field\": \"component 1\", \"type\": \"quantitative\"}], \"x\": {\"axis\": {\"title\": \"component 0 \\u2014 12.04%\"}, \"field\": \"component 0\", \"scale\": {\"zero\": false}, \"type\": \"quantitative\"}, \"y\": {\"axis\": {\"title\": \"component 1 \\u2014 10.02%\"}, \"field\": \"component 1\", \"scale\": {\"zero\": false}, \"type\": \"quantitative\"}}, \"name\": \"view_10\"}, {\"data\": {\"name\": \"data-9dac96be03e32afd11a9881f5408c7af\"}, \"mark\": {\"type\": \"circle\", \"size\": 50}, \"encoding\": {\"color\": {\"field\": \"variable\", \"type\": \"nominal\"}, \"tooltip\": [{\"field\": \"variable\", \"type\": \"nominal\"}, {\"field\": \"value\", \"type\": \"nominal\"}, {\"field\": \"component 0\", \"type\": \"quantitative\"}, {\"field\": \"component 1\", \"type\": \"quantitative\"}], \"x\": {\"axis\": {\"title\": \"component 0 \\u2014 12.04%\"}, \"field\": \"component 0\", \"scale\": {\"zero\": false}, \"type\": \"quantitative\"}, \"y\": {\"axis\": {\"title\": \"component 1 \\u2014 10.02%\"}, \"field\": \"component 1\", \"scale\": {\"zero\": false}, \"type\": \"quantitative\"}}}], \"params\": [{\"name\": \"param_10\", \"select\": {\"type\": \"interval\", \"encodings\": [\"x\", \"y\"]}, \"bind\": \"scales\", \"views\": [\"view_10\"]}], \"$schema\": \"https://vega.github.io/schema/vega-lite/v5.16.3.json\", \"datasets\": {\"data-1c87be8c0123ce263d69fdafff9af98b\": [{\"component 0\": -0.1634323541464368, \"component 1\": 0.6625306488516427, \"variable\": \"row\", \"value\": \"0\", \"label\": 0}, {\"component 0\": -0.20576903603021868, \"component 1\": 0.3944524461056334, \"variable\": \"row\", \"value\": \"1\", \"label\": 1}, {\"component 0\": -0.4630210278148852, \"component 1\": -0.2917138458601804, \"variable\": \"row\", \"value\": \"2\", \"label\": 2}, {\"component 0\": -0.17859463933211636, \"component 1\": -0.11970547781248063, \"variable\": \"row\", \"value\": \"3\", \"label\": 3}, {\"component 0\": -0.4630210278148852, \"component 1\": -0.2917138458601804, \"variable\": \"row\", \"value\": \"4\", \"label\": 4}, {\"component 0\": -0.3241699938716206, \"component 1\": -0.11980424106327309, \"variable\": \"row\", \"value\": \"5\", \"label\": 5}, {\"component 0\": -0.26555303944854214, \"component 1\": -0.13997322837658008, \"variable\": \"row\", \"value\": \"6\", \"label\": 6}, {\"component 0\": -0.4630210278148852, \"component 1\": -0.2917138458601804, \"variable\": \"row\", \"value\": \"7\", \"label\": 7}, {\"component 0\": -0.4630210278148852, \"component 1\": -0.2917138458601804, \"variable\": \"row\", \"value\": \"8\", \"label\": 8}, {\"component 0\": 0.1202393188657086, \"component 1\": -0.014920086999715695, \"variable\": \"row\", \"value\": \"9\", \"label\": 9}, {\"component 0\": 0.1202393188657086, \"component 1\": -0.014920086999715695, \"variable\": \"row\", \"value\": \"10\", \"label\": 10}, {\"component 0\": -0.21390146518723882, \"component 1\": 0.9955301119472907, \"variable\": \"row\", \"value\": \"11\", \"label\": 11}, {\"component 0\": 0.623762819746216, \"component 1\": 0.05378008292697934, \"variable\": \"row\", \"value\": \"12\", \"label\": 12}, {\"component 0\": -0.4630210278148852, \"component 1\": -0.2917138458601804, \"variable\": \"row\", \"value\": \"13\", \"label\": 13}, {\"component 0\": 0.2434157577042303, \"component 1\": 0.5624761274593553, \"variable\": \"row\", \"value\": \"14\", \"label\": 14}, {\"component 0\": -0.3241699938716206, \"component 1\": -0.11980424106327309, \"variable\": \"row\", \"value\": \"15\", \"label\": 15}, {\"component 0\": -0.12670200550527771, \"component 1\": 0.031936376420327164, \"variable\": \"row\", \"value\": \"16\", \"label\": 16}, {\"component 0\": -0.08151601272560209, \"component 1\": 0.17768861938067176, \"variable\": \"row\", \"value\": \"17\", \"label\": 17}, {\"component 0\": -0.4630210278148852, \"component 1\": -0.2917138458601804, \"variable\": \"row\", \"value\": \"18\", \"label\": 18}, {\"component 0\": -0.4630210278148852, \"component 1\": -0.2917138458601804, \"variable\": \"row\", \"value\": \"19\", \"label\": 19}, {\"component 0\": -0.26555303944854214, \"component 1\": -0.13997322837658008, \"variable\": \"row\", \"value\": \"20\", \"label\": 20}, {\"component 0\": -0.4630210278148852, \"component 1\": -0.2917138458601804, \"variable\": \"row\", \"value\": \"21\", \"label\": 21}, {\"component 0\": -0.4630210278148852, \"component 1\": -0.2917138458601804, \"variable\": \"row\", \"value\": \"22\", \"label\": 22}, {\"component 0\": 0.026574277702119672, \"component 1\": -0.041077448836278424, \"variable\": \"row\", \"value\": \"23\", \"label\": 23}, {\"component 0\": 0.19139442240458715, \"component 1\": 0.07787326278621234, \"variable\": \"row\", \"value\": \"24\", \"label\": 24}, {\"component 0\": 0.2508463008681522, \"component 1\": 0.30710418432853315, \"variable\": \"row\", \"value\": \"25\", \"label\": 25}, {\"component 0\": -0.20576903603021868, \"component 1\": 0.3944524461056334, \"variable\": \"row\", \"value\": \"26\", \"label\": 26}, {\"component 0\": -0.12670200550527771, \"component 1\": 0.031936376420327164, \"variable\": \"row\", \"value\": \"27\", \"label\": 27}, {\"component 0\": -0.25797037028653785, \"component 1\": -0.00375778952294661, \"variable\": \"row\", \"value\": \"28\", \"label\": 28}, {\"component 0\": -0.04807585558819558, \"component 1\": -0.19001783425042693, \"variable\": \"row\", \"value\": \"29\", \"label\": 29}, {\"component 0\": 0.3308454183439329, \"component 1\": -0.09174660166868231, \"variable\": \"row\", \"value\": \"30\", \"label\": 30}, {\"component 0\": -0.26555303944854214, \"component 1\": -0.13997322837658008, \"variable\": \"row\", \"value\": \"31\", \"label\": 31}, {\"component 0\": 0.1654253116453842, \"component 1\": 0.1308321559606289, \"variable\": \"row\", \"value\": \"32\", \"label\": 32}, {\"component 0\": -0.24249938467137774, \"component 1\": 1.0250467185369494, \"variable\": \"row\", \"value\": \"33\", \"label\": 33}, {\"component 0\": -0.20576903603021868, \"component 1\": 0.3944524461056334, \"variable\": \"row\", \"value\": \"34\", \"label\": 34}, {\"component 0\": -0.20576903603021868, \"component 1\": 0.3944524461056334, \"variable\": \"row\", \"value\": \"35\", \"label\": 35}, {\"component 0\": -0.28768537745105327, \"component 1\": 0.8792944755766043, \"variable\": \"row\", \"value\": \"36\", \"label\": 36}, {\"component 0\": -0.25117553098085205, \"component 1\": 0.3944684495157118, \"variable\": \"row\", \"value\": \"37\", \"label\": 37}, {\"component 0\": -0.40078780280607257, \"component 1\": 0.8001942239757036, \"variable\": \"row\", \"value\": \"38\", \"label\": 38}, {\"component 0\": 0.1202393188657086, \"component 1\": -0.014920086999715695, \"variable\": \"row\", \"value\": \"39\", \"label\": 39}, {\"component 0\": -0.3241699938716206, \"component 1\": -0.11980424106327309, \"variable\": \"row\", \"value\": \"40\", \"label\": 40}, {\"component 0\": -0.20576903603021868, \"component 1\": 0.3944524461056334, \"variable\": \"row\", \"value\": \"42\", \"label\": 42}, {\"component 0\": 0.12659327756353564, \"component 1\": 0.5238680110534949, \"variable\": \"row\", \"value\": \"43\", \"label\": 43}, {\"component 0\": 0.6211029362801646, \"component 1\": 0.14096699094653764, \"variable\": \"row\", \"value\": \"44\", \"label\": 44}, {\"component 0\": 0.004837063448005538, \"component 1\": 0.3176259314366668, \"variable\": \"row\", \"value\": \"45\", \"label\": 45}, {\"component 0\": -0.28768537745105327, \"component 1\": 0.8792944755766043, \"variable\": \"row\", \"value\": \"46\", \"label\": 46}, {\"component 0\": -0.5874945532904594, \"component 1\": 0.07081822723520428, \"variable\": \"row\", \"value\": \"47\", \"label\": 47}, {\"component 0\": -0.12670200550527771, \"component 1\": 0.031936376420327164, \"variable\": \"row\", \"value\": \"48\", \"label\": 48}, {\"component 0\": 0.2513035732500788, \"component 1\": -0.08171893807333222, \"variable\": \"row\", \"value\": \"49\", \"label\": 49}, {\"component 0\": -0.26555303944854214, \"component 1\": -0.13997322837658008, \"variable\": \"row\", \"value\": \"50\", \"label\": 50}, {\"component 0\": -0.1706135511218523, \"component 1\": 0.48277298664339763, \"variable\": \"row\", \"value\": \"51\", \"label\": 51}, {\"component 0\": 0.05002305622768114, \"component 1\": 0.46337817439701134, \"variable\": \"row\", \"value\": \"52\", \"label\": 52}, {\"component 0\": -0.18297018081560684, \"component 1\": -0.16769278171468813, \"variable\": \"row\", \"value\": \"53\", \"label\": 53}, {\"component 0\": 0.1202393188657086, \"component 1\": -0.014920086999715695, \"variable\": \"row\", \"value\": \"54\", \"label\": 54}, {\"component 0\": -0.343456178106378, \"component 1\": 0.9427282738979794, \"variable\": \"row\", \"value\": \"55\", \"label\": 55}, {\"component 0\": -0.3241699938716206, \"component 1\": -0.11980424106327309, \"variable\": \"row\", \"value\": \"56\", \"label\": 56}, {\"component 0\": -0.3302425615057929, \"component 1\": 0.7569845192010181, \"variable\": \"row\", \"value\": \"57\", \"label\": 57}, {\"component 0\": -0.6096268912929704, \"component 1\": 1.090085931188389, \"variable\": \"row\", \"value\": \"58\", \"label\": 58}, {\"component 0\": -0.018611715077555935, \"component 1\": -0.18682969179662298, \"variable\": \"row\", \"value\": \"59\", \"label\": 59}, {\"component 0\": 0.1202393188657086, \"component 1\": -0.014920086999715695, \"variable\": \"row\", \"value\": \"60\", \"label\": 60}, {\"component 0\": -0.3352521764022742, \"component 1\": -0.17368115623794378, \"variable\": \"row\", \"value\": \"61\", \"label\": 61}, {\"component 0\": 0.17536536245365586, \"component 1\": 1.1156446121243455, \"variable\": \"row\", \"value\": \"62\", \"label\": 62}, {\"component 0\": -0.2497497428709949, \"component 1\": -0.21249882759840868, \"variable\": \"row\", \"value\": \"63\", \"label\": 63}, {\"component 0\": -0.38267955012684324, \"component 1\": -0.05764106236207154, \"variable\": \"row\", \"value\": \"64\", \"label\": 64}, {\"component 0\": -0.12318617739728323, \"component 1\": 0.36673289276752535, \"variable\": \"row\", \"value\": \"65\", \"label\": 65}, {\"component 0\": 0.555574713891892, \"component 1\": -0.13238809090573608, \"variable\": \"row\", \"value\": \"66\", \"label\": 66}, {\"component 0\": -0.20576903603021868, \"component 1\": 0.3944524461056334, \"variable\": \"row\", \"value\": \"67\", \"label\": 67}, {\"component 0\": -0.3804381691819498, \"component 1\": -0.3194333991982884, \"variable\": \"row\", \"value\": \"68\", \"label\": 68}, {\"component 0\": 0.8003865476161555, \"component 1\": -0.12151553124806219, \"variable\": \"row\", \"value\": \"69\", \"label\": 69}, {\"component 0\": 0.16174876247190198, \"component 1\": 0.6121885515912592, \"variable\": \"row\", \"value\": \"70\", \"label\": 70}, {\"component 0\": -0.16058304325054307, \"component 1\": 0.540204689065978, \"variable\": \"row\", \"value\": \"72\", \"label\": 72}, {\"component 0\": -0.4630210278148852, \"component 1\": -0.2917138458601804, \"variable\": \"row\", \"value\": \"73\", \"label\": 73}, {\"component 0\": -0.18297018081560684, \"component 1\": -0.16769278171468813, \"variable\": \"row\", \"value\": \"74\", \"label\": 74}, {\"component 0\": -0.18297018081560684, \"component 1\": -0.16769278171468813, \"variable\": \"row\", \"value\": \"75\", \"label\": 75}, {\"component 0\": -0.2843900515140166, \"component 1\": 1.3598592382942258, \"variable\": \"row\", \"value\": \"76\", \"label\": 76}, {\"component 0\": -0.26555303944854214, \"component 1\": -0.13997322837658008, \"variable\": \"row\", \"value\": \"77\", \"label\": 77}, {\"component 0\": -0.3804381691819498, \"component 1\": -0.3194333991982884, \"variable\": \"row\", \"value\": \"78\", \"label\": 78}, {\"component 0\": -0.13486461313758727, \"component 1\": -0.03303865677670042, \"variable\": \"row\", \"value\": \"79\", \"label\": 79}, {\"component 0\": 0.08500030559069364, \"component 1\": -0.128068591487534, \"variable\": \"row\", \"value\": \"80\", \"label\": 80}, {\"component 0\": -0.3302425615057929, \"component 1\": 0.7569845192010181, \"variable\": \"row\", \"value\": \"81\", \"label\": 81}, {\"component 0\": -0.2165302739121748, \"component 1\": 0.9720878253625326, \"variable\": \"row\", \"value\": \"82\", \"label\": 82}, {\"component 0\": -0.051133698622443435, \"component 1\": 0.44684964139347816, \"variable\": \"row\", \"value\": \"83\", \"label\": 83}, {\"component 0\": 0.3449686144136678, \"component 1\": -0.0555615762367695, \"variable\": \"row\", \"value\": \"84\", \"label\": 84}, {\"component 0\": -0.20576903603021868, \"component 1\": 0.3944524461056334, \"variable\": \"row\", \"value\": \"85\", \"label\": 85}, {\"component 0\": -0.26555303944854214, \"component 1\": -0.13997322837658008, \"variable\": \"row\", \"value\": \"86\", \"label\": 86}, {\"component 0\": 0.1202393188657086, \"component 1\": -0.014920086999715695, \"variable\": \"row\", \"value\": \"87\", \"label\": 87}, {\"component 0\": 0.14361726001377212, \"component 1\": -0.148237578800841, \"variable\": \"row\", \"value\": \"88\", \"label\": 88}, {\"component 0\": 0.026574277702119672, \"component 1\": -0.041077448836278424, \"variable\": \"row\", \"value\": \"89\", \"label\": 89}, {\"component 0\": -0.12670200550527771, \"component 1\": 0.031936376420327164, \"variable\": \"row\", \"value\": \"90\", \"label\": 90}, {\"component 0\": -0.12670200550527771, \"component 1\": 0.031936376420327164, \"variable\": \"row\", \"value\": \"91\", \"label\": 91}, {\"component 0\": -0.4630210278148852, \"component 1\": -0.2917138458601804, \"variable\": \"row\", \"value\": \"92\", \"label\": 92}, {\"component 0\": -0.26555303944854214, \"component 1\": -0.13997322837658008, \"variable\": \"row\", \"value\": \"93\", \"label\": 93}, {\"component 0\": -0.4630210278148852, \"component 1\": -0.2917138458601804, \"variable\": \"row\", \"value\": \"94\", \"label\": 94}, {\"component 0\": -0.09154652059691136, \"component 1\": 0.1202569169580914, \"variable\": \"row\", \"value\": \"95\", \"label\": 95}, {\"component 0\": -0.3804381691819498, \"component 1\": -0.3194333991982884, \"variable\": \"row\", \"value\": \"96\", \"label\": 96}, {\"component 0\": -0.4630210278148852, \"component 1\": -0.2917138458601804, \"variable\": \"row\", \"value\": \"97\", \"label\": 97}, {\"component 0\": -0.13562827888089515, \"component 1\": -0.1266691927466992, \"variable\": \"row\", \"value\": \"98\", \"label\": 98}, {\"component 0\": -0.20576903603021868, \"component 1\": 0.3944524461056334, \"variable\": \"row\", \"value\": \"99\", \"label\": 99}, {\"component 0\": -0.4630210278148852, \"component 1\": -0.2917138458601804, \"variable\": \"row\", \"value\": \"100\", \"label\": 100}, {\"component 0\": -0.3804381691819498, \"component 1\": -0.3194333991982884, \"variable\": \"row\", \"value\": \"101\", \"label\": 101}, {\"component 0\": -0.12670200550527771, \"component 1\": 0.031936376420327164, \"variable\": \"row\", \"value\": \"102\", \"label\": 102}, {\"component 0\": -0.39186592427600664, \"component 1\": -0.1989204960742523, \"variable\": \"row\", \"value\": \"103\", \"label\": 103}, {\"component 0\": -0.4178350350352096, \"component 1\": -0.14596160289983573, \"variable\": \"row\", \"value\": \"104\", \"label\": 104}, {\"component 0\": -0.21607970344389898, \"component 1\": -0.33857030928022325, \"variable\": \"row\", \"value\": \"105\", \"label\": 105}, {\"component 0\": -0.12670200550527771, \"component 1\": 0.031936376420327164, \"variable\": \"row\", \"value\": \"106\", \"label\": 106}, {\"component 0\": 0.17177927034321125, \"component 1\": 0.6696202540138394, \"variable\": \"row\", \"value\": \"107\", \"label\": 107}, {\"component 0\": -0.39186592427600664, \"component 1\": -0.1989204960742523, \"variable\": \"row\", \"value\": \"108\", \"label\": 108}, {\"component 0\": -0.3804381691819498, \"component 1\": -0.3194333991982884, \"variable\": \"row\", \"value\": \"109\", \"label\": 109}, {\"component 0\": -0.0932216647847995, \"component 1\": -0.06902791684031052, \"variable\": \"row\", \"value\": \"110\", \"label\": 110}, {\"component 0\": -0.42786554290651885, \"component 1\": -0.20339330532241612, \"variable\": \"row\", \"value\": \"111\", \"label\": 111}, {\"component 0\": 0.20566030808847657, \"component 1\": 0.16135194136818862, \"variable\": \"row\", \"value\": \"112\", \"label\": 112}, {\"component 0\": 0.3449686144136678, \"component 1\": -0.0555615762367695, \"variable\": \"row\", \"value\": \"113\", \"label\": 113}, {\"component 0\": -0.26555303944854214, \"component 1\": -0.13997322837658008, \"variable\": \"row\", \"value\": \"114\", \"label\": 114}, {\"component 0\": -0.16953465646384536, \"component 1\": -0.06740704577542835, \"variable\": \"row\", \"value\": \"115\", \"label\": 115}, {\"component 0\": -0.28768537745105327, \"component 1\": 0.8792944755766043, \"variable\": \"row\", \"value\": \"116\", \"label\": 116}, {\"component 0\": -0.4630210278148852, \"component 1\": -0.2917138458601804, \"variable\": \"row\", \"value\": \"117\", \"label\": 117}, {\"component 0\": 0.555574713891892, \"component 1\": -0.13238809090573608, \"variable\": \"row\", \"value\": \"118\", \"label\": 118}, {\"component 0\": 0.4605443164150206, \"component 1\": 0.19635436112515522, \"variable\": \"row\", \"value\": \"119\", \"label\": 119}, {\"component 0\": -0.28768537745105327, \"component 1\": 0.8792944755766043, \"variable\": \"row\", \"value\": \"120\", \"label\": 120}, {\"component 0\": -0.09970779377148005, \"component 1\": 1.010695941768393, \"variable\": \"row\", \"value\": \"121\", \"label\": 121}, {\"component 0\": -0.16058304325054307, \"component 1\": 0.540204689065978, \"variable\": \"row\", \"value\": \"122\", \"label\": 122}, {\"component 0\": -0.12670200550527771, \"component 1\": 0.031936376420327164, \"variable\": \"row\", \"value\": \"123\", \"label\": 123}, {\"component 0\": 0.20566030808847657, \"component 1\": 0.16135194136818862, \"variable\": \"row\", \"value\": \"124\", \"label\": 124}, {\"component 0\": 0.3449686144136678, \"component 1\": -0.0555615762367695, \"variable\": \"row\", \"value\": \"125\", \"label\": 125}, {\"component 0\": -0.4630210278148852, \"component 1\": -0.2917138458601804, \"variable\": \"row\", \"value\": \"126\", \"label\": 126}, {\"component 0\": -0.04354006093889056, \"component 1\": 0.43304455910141537, \"variable\": \"row\", \"value\": \"127\", \"label\": 127}, {\"component 0\": 0.20566030808847657, \"component 1\": 0.16135194136818862, \"variable\": \"row\", \"value\": \"128\", \"label\": 128}, {\"component 0\": -0.4630210278148852, \"component 1\": -0.2917138458601804, \"variable\": \"row\", \"value\": \"129\", \"label\": 129}, {\"component 0\": -0.4630210278148852, \"component 1\": -0.2917138458601804, \"variable\": \"row\", \"value\": \"130\", \"label\": 130}, {\"component 0\": -0.26555303944854214, \"component 1\": -0.13997322837658008, \"variable\": \"row\", \"value\": \"131\", \"label\": 131}, {\"component 0\": 0.1202393188657086, \"component 1\": -0.014920086999715695, \"variable\": \"row\", \"value\": \"132\", \"label\": 132}, {\"component 0\": -0.2165302739121748, \"component 1\": 0.9720878253625326, \"variable\": \"row\", \"value\": \"133\", \"label\": 133}, {\"component 0\": -0.4630210278148852, \"component 1\": -0.2917138458601804, \"variable\": \"row\", \"value\": \"134\", \"label\": 134}, {\"component 0\": -0.20576903603021868, \"component 1\": 0.3944524461056334, \"variable\": \"row\", \"value\": \"135\", \"label\": 135}, {\"component 0\": -0.4630210278148852, \"component 1\": -0.2917138458601804, \"variable\": \"row\", \"value\": \"136\", \"label\": 136}, {\"component 0\": -0.3241699938716206, \"component 1\": -0.11980424106327309, \"variable\": \"row\", \"value\": \"137\", \"label\": 137}, {\"component 0\": -0.42653641139431775, \"component 1\": 0.707384870779697, \"variable\": \"row\", \"value\": \"138\", \"label\": 138}, {\"component 0\": -0.25117553098085205, \"component 1\": 0.3944684495157118, \"variable\": \"row\", \"value\": \"139\", \"label\": 139}, {\"component 0\": -0.28768537745105327, \"component 1\": 0.8792944755766043, \"variable\": \"row\", \"value\": \"140\", \"label\": 140}, {\"component 0\": -0.18297018081560684, \"component 1\": -0.16769278171468813, \"variable\": \"row\", \"value\": \"141\", \"label\": 141}, {\"component 0\": -0.4630210278148852, \"component 1\": -0.2917138458601804, \"variable\": \"row\", \"value\": \"142\", \"label\": 142}, {\"component 0\": -0.20576903603021868, \"component 1\": 0.3944524461056334, \"variable\": \"row\", \"value\": \"143\", \"label\": 143}, {\"component 0\": -0.3804381691819498, \"component 1\": -0.3194333991982884, \"variable\": \"row\", \"value\": \"144\", \"label\": 144}, {\"component 0\": -0.32455956011540665, \"component 1\": -0.2801673191211172, \"variable\": \"row\", \"value\": \"145\", \"label\": 145}, {\"component 0\": -0.05228175450465197, \"component 1\": -0.06075821011480847, \"variable\": \"row\", \"value\": \"146\", \"label\": 146}, {\"component 0\": -0.4630210278148852, \"component 1\": -0.2917138458601804, \"variable\": \"row\", \"value\": \"147\", \"label\": 147}, {\"component 0\": -0.4630210278148852, \"component 1\": -0.2917138458601804, \"variable\": \"row\", \"value\": \"148\", \"label\": 148}, {\"component 0\": 0.20566030808847657, \"component 1\": 0.16135194136818862, \"variable\": \"row\", \"value\": \"149\", \"label\": 149}, {\"component 0\": -0.4630210278148852, \"component 1\": -0.2917138458601804, \"variable\": \"row\", \"value\": \"150\", \"label\": 150}, {\"component 0\": 0.019143734538197857, \"component 1\": 0.2142944942945436, \"variable\": \"row\", \"value\": \"151\", \"label\": 151}, {\"component 0\": -0.3302425615057929, \"component 1\": 0.7569845192010181, \"variable\": \"row\", \"value\": \"152\", \"label\": 152}, {\"component 0\": 0.14361726001377212, \"component 1\": -0.148237578800841, \"variable\": \"row\", \"value\": \"153\", \"label\": 153}, {\"component 0\": -0.4630210278148852, \"component 1\": -0.2917138458601804, \"variable\": \"row\", \"value\": \"154\", \"label\": 154}, {\"component 0\": -0.4630210278148852, \"component 1\": -0.2917138458601804, \"variable\": \"row\", \"value\": \"155\", \"label\": 155}, {\"component 0\": 0.3356332628549262, \"component 1\": -0.0811933407567757, \"variable\": \"row\", \"value\": \"156\", \"label\": 156}, {\"component 0\": -0.26555303944854214, \"component 1\": -0.13997322837658008, \"variable\": \"row\", \"value\": \"157\", \"label\": 157}, {\"component 0\": -0.4630210278148852, \"component 1\": -0.2917138458601804, \"variable\": \"row\", \"value\": \"158\", \"label\": 158}, {\"component 0\": 0.5603625584028854, \"component 1\": -0.1218348299938295, \"variable\": \"row\", \"value\": \"159\", \"label\": 159}, {\"component 0\": -0.44842617430437715, \"component 1\": 0.2625503564554213, \"variable\": \"row\", \"value\": \"160\", \"label\": 160}, {\"component 0\": 0.3449686144136678, \"component 1\": -0.0555615762367695, \"variable\": \"row\", \"value\": \"161\", \"label\": 161}, {\"component 0\": -0.24158713523868527, \"component 1\": -0.14752379440138108, \"variable\": \"row\", \"value\": \"162\", \"label\": 162}, {\"component 0\": -0.5874945532904594, \"component 1\": 0.07081822723520428, \"variable\": \"row\", \"value\": \"164\", \"label\": 164}, {\"component 0\": -0.26555303944854214, \"component 1\": -0.13997322837658008, \"variable\": \"row\", \"value\": \"165\", \"label\": 165}, {\"component 0\": -0.20576903603021868, \"component 1\": 0.3944524461056334, \"variable\": \"row\", \"value\": \"166\", \"label\": 166}, {\"component 0\": -0.12670200550527771, \"component 1\": 0.031936376420327164, \"variable\": \"row\", \"value\": \"167\", \"label\": 167}, {\"component 0\": -0.018611715077555935, \"component 1\": -0.18682969179662298, \"variable\": \"row\", \"value\": \"168\", \"label\": 168}, {\"component 0\": 0.4275514730466032, \"component 1\": -0.08328112957487754, \"variable\": \"row\", \"value\": \"169\", \"label\": 169}, {\"component 0\": -0.08151601272560209, \"component 1\": 0.17768861938067176, \"variable\": \"row\", \"value\": \"170\", \"label\": 170}, {\"component 0\": -0.21675077608313256, \"component 1\": 1.1178560717329555, \"variable\": \"row\", \"value\": \"171\", \"label\": 171}, {\"component 0\": -0.26555303944854214, \"component 1\": -0.13997322837658008, \"variable\": \"row\", \"value\": \"172\", \"label\": 172}, {\"component 0\": 0.03552696958605037, \"component 1\": 0.07052848941610912, \"variable\": \"row\", \"value\": \"173\", \"label\": 173}, {\"component 0\": -0.4630210278148852, \"component 1\": -0.2917138458601804, \"variable\": \"row\", \"value\": \"174\", \"label\": 174}, {\"component 0\": 0.31762377886540305, \"component 1\": 0.11199256653383048, \"variable\": \"row\", \"value\": \"175\", \"label\": 175}, {\"component 0\": -0.26555303944854214, \"component 1\": -0.13997322837658008, \"variable\": \"row\", \"value\": \"176\", \"label\": 176}, {\"component 0\": 0.19139442240458715, \"component 1\": 0.07787326278621234, \"variable\": \"row\", \"value\": \"177\", \"label\": 177}, {\"component 0\": -0.4630210278148852, \"component 1\": -0.2917138458601804, \"variable\": \"row\", \"value\": \"178\", \"label\": 178}, {\"component 0\": -0.26555303944854214, \"component 1\": -0.13997322837658008, \"variable\": \"row\", \"value\": \"179\", \"label\": 179}, {\"component 0\": -0.20576903603021868, \"component 1\": 0.3944524461056334, \"variable\": \"row\", \"value\": \"180\", \"label\": 180}, {\"component 0\": -0.20576903603021868, \"component 1\": 0.3944524461056334, \"variable\": \"row\", \"value\": \"181\", \"label\": 181}, {\"component 0\": 0.35745751490641925, \"component 1\": 0.009757554950020994, \"variable\": \"row\", \"value\": \"182\", \"label\": 182}, {\"component 0\": -0.4630210278148852, \"component 1\": -0.2917138458601804, \"variable\": \"row\", \"value\": \"183\", \"label\": 183}, {\"component 0\": 0.08869193848393979, \"component 1\": -0.03433687733673281, \"variable\": \"row\", \"value\": \"184\", \"label\": 184}, {\"component 0\": 0.555574713891892, \"component 1\": -0.13238809090573608, \"variable\": \"row\", \"value\": \"185\", \"label\": 185}, {\"component 0\": -0.4630210278148852, \"component 1\": -0.2917138458601804, \"variable\": \"row\", \"value\": \"186\", \"label\": 186}, {\"component 0\": -0.4630210278148852, \"component 1\": -0.2917138458601804, \"variable\": \"row\", \"value\": \"187\", \"label\": 187}, {\"component 0\": -0.046389371834784296, \"component 1\": 0.5553705188870801, \"variable\": \"row\", \"value\": \"188\", \"label\": 188}, {\"component 0\": -0.20576903603021868, \"component 1\": 0.3944524461056334, \"variable\": \"row\", \"value\": \"189\", \"label\": 189}, {\"component 0\": -0.3804381691819498, \"component 1\": -0.3194333991982884, \"variable\": \"row\", \"value\": \"190\", \"label\": 190}, {\"component 0\": -0.4630210278148852, \"component 1\": -0.2917138458601804, \"variable\": \"row\", \"value\": \"191\", \"label\": 191}, {\"component 0\": -0.12670200550527771, \"component 1\": 0.031936376420327164, \"variable\": \"row\", \"value\": \"192\", \"label\": 192}, {\"component 0\": -0.4630210278148852, \"component 1\": -0.2917138458601804, \"variable\": \"row\", \"value\": \"193\", \"label\": 193}, {\"component 0\": -0.4630210278148852, \"component 1\": -0.2917138458601804, \"variable\": \"row\", \"value\": \"194\", \"label\": 194}, {\"component 0\": -0.12318617739728323, \"component 1\": 0.36673289276752535, \"variable\": \"row\", \"value\": \"195\", \"label\": 195}, {\"component 0\": -0.5214206371951459, \"component 1\": -0.25172233412356365, \"variable\": \"row\", \"value\": \"196\", \"label\": 196}, {\"component 0\": 0.49307439343526105, \"component 1\": -0.05315448867290034, \"variable\": \"row\", \"value\": \"197\", \"label\": 197}, {\"component 0\": -0.12709157174906366, \"component 1\": -0.12842670163751688, \"variable\": \"row\", \"value\": \"198\", \"label\": 198}, {\"component 0\": -0.20576903603021868, \"component 1\": 0.3944524461056334, \"variable\": \"row\", \"value\": \"199\", \"label\": 199}, {\"component 0\": -0.12670200550527771, \"component 1\": 0.031936376420327164, \"variable\": \"row\", \"value\": \"200\", \"label\": 200}, {\"component 0\": -0.20576903603021868, \"component 1\": 0.3944524461056334, \"variable\": \"row\", \"value\": \"201\", \"label\": 201}, {\"component 0\": 0.12659327756353564, \"component 1\": 0.5238680110534949, \"variable\": \"row\", \"value\": \"202\", \"label\": 202}, {\"component 0\": -0.05554690196639913, \"component 1\": 0.12472972620625525, \"variable\": \"row\", \"value\": \"203\", \"label\": 203}, {\"component 0\": 0.28656900503340704, \"component 1\": -0.01557006450015273, \"variable\": \"row\", \"value\": \"204\", \"label\": 204}, {\"component 0\": -0.4630210278148852, \"component 1\": -0.2917138458601804, \"variable\": \"row\", \"value\": \"205\", \"label\": 205}, {\"component 0\": -0.3804381691819498, \"component 1\": -0.3194333991982884, \"variable\": \"row\", \"value\": \"206\", \"label\": 206}, {\"component 0\": -0.12670200550527771, \"component 1\": 0.031936376420327164, \"variable\": \"row\", \"value\": \"207\", \"label\": 207}, {\"component 0\": -0.4630210278148852, \"component 1\": -0.2917138458601804, \"variable\": \"row\", \"value\": \"209\", \"label\": 209}, {\"component 0\": -0.4630210278148852, \"component 1\": -0.2917138458601804, \"variable\": \"row\", \"value\": \"210\", \"label\": 210}, {\"component 0\": -0.11334654935057877, \"component 1\": -0.17680823130892998, \"variable\": \"row\", \"value\": \"211\", \"label\": 211}, {\"component 0\": 0.2824682939570367, \"component 1\": 0.02367202599606626, \"variable\": \"row\", \"value\": \"212\", \"label\": 212}, {\"component 0\": -0.32455956011540665, \"component 1\": -0.2801673191211172, \"variable\": \"row\", \"value\": \"213\", \"label\": 213}, {\"component 0\": -0.26555303944854214, \"component 1\": -0.13997322837658008, \"variable\": \"row\", \"value\": \"214\", \"label\": 214}, {\"component 0\": -0.12670200550527771, \"component 1\": 0.031936376420327164, \"variable\": \"row\", \"value\": \"215\", \"label\": 215}, {\"component 0\": -0.26555303944854214, \"component 1\": -0.13997322837658008, \"variable\": \"row\", \"value\": \"216\", \"label\": 216}, {\"component 0\": -0.4630210278148852, \"component 1\": -0.2917138458601804, \"variable\": \"row\", \"value\": \"217\", \"label\": 217}, {\"component 0\": -0.4630210278148852, \"component 1\": -0.2917138458601804, \"variable\": \"row\", \"value\": \"218\", \"label\": 218}, {\"component 0\": -0.20576903603021868, \"component 1\": 0.3944524461056334, \"variable\": \"row\", \"value\": \"219\", \"label\": 219}, {\"component 0\": -0.18510161488553845, \"component 1\": 0.07192788815694394, \"variable\": \"row\", \"value\": \"220\", \"label\": 220}, {\"component 0\": -0.3804381691819498, \"component 1\": -0.3194333991982884, \"variable\": \"row\", \"value\": \"221\", \"label\": 221}, {\"component 0\": 0.3449686144136678, \"component 1\": -0.0555615762367695, \"variable\": \"row\", \"value\": \"222\", \"label\": 222}, {\"component 0\": -0.4630210278148852, \"component 1\": -0.2917138458601804, \"variable\": \"row\", \"value\": \"223\", \"label\": 223}, {\"component 0\": -0.21602004607248568, \"component 1\": 0.48278899005347603, \"variable\": \"row\", \"value\": \"224\", \"label\": 224}, {\"component 0\": -0.4630210278148852, \"component 1\": -0.2917138458601804, \"variable\": \"row\", \"value\": \"225\", \"label\": 225}, {\"component 0\": -0.20576903603021868, \"component 1\": 0.3944524461056334, \"variable\": \"row\", \"value\": \"226\", \"label\": 226}, {\"component 0\": -0.4630210278148852, \"component 1\": -0.2917138458601804, \"variable\": \"row\", \"value\": \"227\", \"label\": 227}, {\"component 0\": -0.1946304047022082, \"component 1\": 0.890857005725746, \"variable\": \"row\", \"value\": \"228\", \"label\": 228}, {\"component 0\": -0.5214206371951459, \"component 1\": -0.25172233412356365, \"variable\": \"row\", \"value\": \"229\", \"label\": 229}, {\"component 0\": -0.12670200550527771, \"component 1\": 0.031936376420327164, \"variable\": \"row\", \"value\": \"230\", \"label\": 230}, {\"component 0\": -0.40323702439656156, \"component 1\": 0.24271182862203322, \"variable\": \"row\", \"value\": \"232\", \"label\": 232}, {\"component 0\": -0.26416864541047935, \"component 1\": 0.4344439578422502, \"variable\": \"row\", \"value\": \"233\", \"label\": 233}, {\"component 0\": -0.26555303944854214, \"component 1\": -0.13997322837658008, \"variable\": \"row\", \"value\": \"234\", \"label\": 234}, {\"component 0\": 0.15539480377407497, \"component 1\": 0.07340045353804853, \"variable\": \"row\", \"value\": \"235\", \"label\": 235}, {\"component 0\": -0.1346139324913401, \"component 1\": 0.4872457958915614, \"variable\": \"row\", \"value\": \"236\", \"label\": 236}, {\"component 0\": -0.4630210278148852, \"component 1\": -0.2917138458601804, \"variable\": \"row\", \"value\": \"237\", \"label\": 237}, {\"component 0\": -0.4630210278148852, \"component 1\": -0.2917138458601804, \"variable\": \"row\", \"value\": \"238\", \"label\": 238}, {\"component 0\": 0.1202393188657086, \"component 1\": -0.014920086999715695, \"variable\": \"row\", \"value\": \"239\", \"label\": 239}, {\"component 0\": -0.12670200550527771, \"component 1\": 0.031936376420327164, \"variable\": \"row\", \"value\": \"240\", \"label\": 240}, {\"component 0\": -0.4630210278148852, \"component 1\": -0.2917138458601804, \"variable\": \"row\", \"value\": \"241\", \"label\": 241}, {\"component 0\": -0.5214206371951459, \"component 1\": -0.25172233412356365, \"variable\": \"row\", \"value\": \"242\", \"label\": 242}, {\"component 0\": -0.4630210278148852, \"component 1\": -0.2917138458601804, \"variable\": \"row\", \"value\": \"243\", \"label\": 243}, {\"component 0\": -0.26555303944854214, \"component 1\": -0.13997322837658008, \"variable\": \"row\", \"value\": \"244\", \"label\": 244}, {\"component 0\": -0.4630210278148852, \"component 1\": -0.2917138458601804, \"variable\": \"row\", \"value\": \"245\", \"label\": 245}, {\"component 0\": -0.20576903603021868, \"component 1\": 0.3944524461056334, \"variable\": \"row\", \"value\": \"246\", \"label\": 246}, {\"component 0\": 0.7084683374244786, \"component 1\": -0.11942774242996032, \"variable\": \"row\", \"value\": \"247\", \"label\": 247}, {\"component 0\": 0.3449686144136678, \"component 1\": -0.0555615762367695, \"variable\": \"row\", \"value\": \"248\", \"label\": 248}, {\"component 0\": 0.10776215168953791, \"component 1\": 0.4175092169904879, \"variable\": \"row\", \"value\": \"249\", \"label\": 249}, {\"component 0\": 0.1475006260473246, \"component 1\": -0.20730219372036973, \"variable\": \"row\", \"value\": \"250\", \"label\": 250}, {\"component 0\": -0.4630210278148852, \"component 1\": -0.2917138458601804, \"variable\": \"row\", \"value\": \"251\", \"label\": 251}, {\"component 0\": -0.4630210278148852, \"component 1\": -0.2917138458601804, \"variable\": \"row\", \"value\": \"252\", \"label\": 252}, {\"component 0\": -0.25117553098085205, \"component 1\": 0.3944684495157118, \"variable\": \"row\", \"value\": \"253\", \"label\": 253}, {\"component 0\": -0.10290832249638902, \"component 1\": -0.11615474323900815, \"variable\": \"row\", \"value\": \"254\", \"label\": 254}, {\"component 0\": -0.42786554290651885, \"component 1\": -0.20339330532241612, \"variable\": \"row\", \"value\": \"255\", \"label\": 255}, {\"component 0\": 0.555574713891892, \"component 1\": -0.13238809090573608, \"variable\": \"row\", \"value\": \"257\", \"label\": 257}, {\"component 0\": -0.3804381691819498, \"component 1\": -0.3194333991982884, \"variable\": \"row\", \"value\": \"258\", \"label\": 258}, {\"component 0\": -0.4630210278148852, \"component 1\": -0.2917138458601804, \"variable\": \"row\", \"value\": \"259\", \"label\": 259}, {\"component 0\": 0.5756572520681964, \"component 1\": -0.0808740420110084, \"variable\": \"row\", \"value\": \"260\", \"label\": 260}, {\"component 0\": -0.26555303944854214, \"component 1\": -0.13997322837658008, \"variable\": \"row\", \"value\": \"261\", \"label\": 261}, {\"component 0\": 0.3449686144136678, \"component 1\": -0.0555615762367695, \"variable\": \"row\", \"value\": \"262\", \"label\": 262}, {\"component 0\": -0.3302425615057929, \"component 1\": 0.7569845192010181, \"variable\": \"row\", \"value\": \"263\", \"label\": 263}, {\"component 0\": 0.3449686144136678, \"component 1\": -0.0555615762367695, \"variable\": \"row\", \"value\": \"264\", \"label\": 264}, {\"component 0\": -0.15924245100129733, \"component 1\": 0.04114066194711217, \"variable\": \"row\", \"value\": \"265\", \"label\": 265}, {\"component 0\": -0.4630210278148852, \"component 1\": -0.2917138458601804, \"variable\": \"row\", \"value\": \"266\", \"label\": 266}, {\"component 0\": -0.4630210278148852, \"component 1\": -0.2917138458601804, \"variable\": \"row\", \"value\": \"267\", \"label\": 267}, {\"component 0\": -0.4630210278148852, \"component 1\": -0.2917138458601804, \"variable\": \"row\", \"value\": \"269\", \"label\": 269}, {\"component 0\": -0.08151601272560209, \"component 1\": 0.17768861938067176, \"variable\": \"row\", \"value\": \"270\", \"label\": 270}, {\"component 0\": -0.130658714221131, \"component 1\": -0.16229828091231888, \"variable\": \"row\", \"value\": \"271\", \"label\": 271}, {\"component 0\": -0.12670200550527771, \"component 1\": 0.031936376420327164, \"variable\": \"row\", \"value\": \"272\", \"label\": 272}, {\"component 0\": 0.1202393188657086, \"component 1\": -0.014920086999715695, \"variable\": \"row\", \"value\": \"273\", \"label\": 273}, {\"component 0\": -0.3804381691819498, \"component 1\": -0.3194333991982884, \"variable\": \"row\", \"value\": \"274\", \"label\": 274}, {\"component 0\": -0.4630210278148852, \"component 1\": -0.2917138458601804, \"variable\": \"row\", \"value\": \"275\", \"label\": 275}, {\"component 0\": -0.12709157174906366, \"component 1\": -0.12842670163751688, \"variable\": \"row\", \"value\": \"276\", \"label\": 276}, {\"component 0\": -0.4630210278148852, \"component 1\": -0.2917138458601804, \"variable\": \"row\", \"value\": \"277\", \"label\": 277}, {\"component 0\": 0.49307439343526105, \"component 1\": -0.05315448867290034, \"variable\": \"row\", \"value\": \"278\", \"label\": 278}, {\"component 0\": 2.9712089823857868e-05, \"component 1\": -0.05536370931243922, \"variable\": \"row\", \"value\": \"279\", \"label\": 279}, {\"component 0\": -0.4630210278148852, \"component 1\": -0.2917138458601804, \"variable\": \"row\", \"value\": \"280\", \"label\": 280}, {\"component 0\": -0.26555303944854214, \"component 1\": -0.13997322837658008, \"variable\": \"row\", \"value\": \"281\", \"label\": 281}, {\"component 0\": -0.4630210278148852, \"component 1\": -0.2917138458601804, \"variable\": \"row\", \"value\": \"282\", \"label\": 282}, {\"component 0\": -0.42786554290651885, \"component 1\": -0.20339330532241612, \"variable\": \"row\", \"value\": \"283\", \"label\": 283}, {\"component 0\": -0.20576903603021868, \"component 1\": 0.3944524461056334, \"variable\": \"row\", \"value\": \"284\", \"label\": 284}, {\"component 0\": -0.24197670148247133, \"component 1\": -0.3078868724592252, \"variable\": \"row\", \"value\": \"285\", \"label\": 285}, {\"component 0\": -0.4630210278148852, \"component 1\": -0.2917138458601804, \"variable\": \"row\", \"value\": \"286\", \"label\": 286}, {\"component 0\": -0.4630210278148852, \"component 1\": -0.2917138458601804, \"variable\": \"row\", \"value\": \"287\", \"label\": 287}, {\"component 0\": -0.3241699938716206, \"component 1\": -0.11980424106327309, \"variable\": \"row\", \"value\": \"288\", \"label\": 288}, {\"component 0\": -0.4630210278148852, \"component 1\": -0.2917138458601804, \"variable\": \"row\", \"value\": \"289\", \"label\": 289}, {\"component 0\": -0.4630210278148852, \"component 1\": -0.2917138458601804, \"variable\": \"row\", \"value\": \"290\", \"label\": 290}, {\"component 0\": -0.4630210278148852, \"component 1\": -0.2917138458601804, \"variable\": \"row\", \"value\": \"291\", \"label\": 291}, {\"component 0\": -0.3241699938716206, \"component 1\": -0.11980424106327309, \"variable\": \"row\", \"value\": \"292\", \"label\": 292}, {\"component 0\": -0.5214206371951459, \"component 1\": -0.25172233412356365, \"variable\": \"row\", \"value\": \"293\", \"label\": 293}, {\"component 0\": 0.2513035732500788, \"component 1\": -0.08171893807333222, \"variable\": \"row\", \"value\": \"294\", \"label\": 294}, {\"component 0\": -0.4630210278148852, \"component 1\": -0.2917138458601804, \"variable\": \"row\", \"value\": \"295\", \"label\": 295}, {\"component 0\": -0.4630210278148852, \"component 1\": -0.2917138458601804, \"variable\": \"row\", \"value\": \"296\", \"label\": 296}, {\"component 0\": -0.5214206371951459, \"component 1\": -0.25172233412356365, \"variable\": \"row\", \"value\": \"297\", \"label\": 297}, {\"component 0\": -0.4630210278148852, \"component 1\": -0.2917138458601804, \"variable\": \"row\", \"value\": \"298\", \"label\": 298}, {\"component 0\": -0.20576903603021868, \"component 1\": 0.3944524461056334, \"variable\": \"row\", \"value\": \"299\", \"label\": 299}, {\"component 0\": -0.5214206371951459, \"component 1\": -0.25172233412356365, \"variable\": \"row\", \"value\": \"300\", \"label\": 300}, {\"component 0\": -0.4630210278148852, \"component 1\": -0.2917138458601804, \"variable\": \"row\", \"value\": \"301\", \"label\": 301}, {\"component 0\": 0.1202393188657086, \"component 1\": -0.014920086999715695, \"variable\": \"row\", \"value\": \"302\", \"label\": 302}, {\"component 0\": -0.04411914687234229, \"component 1\": 0.0042168230822191245, \"variable\": \"row\", \"value\": \"303\", \"label\": 303}, {\"component 0\": 0.20566030808847657, \"component 1\": 0.16135194136818862, \"variable\": \"row\", \"value\": \"304\", \"label\": 304}, {\"component 0\": -0.12670200550527771, \"component 1\": 0.031936376420327164, \"variable\": \"row\", \"value\": \"305\", \"label\": 305}, {\"component 0\": -0.12670200550527771, \"component 1\": 0.031936376420327164, \"variable\": \"row\", \"value\": \"306\", \"label\": 306}, {\"component 0\": -0.26555303944854214, \"component 1\": -0.13997322837658008, \"variable\": \"row\", \"value\": \"307\", \"label\": 307}, {\"component 0\": -0.4630210278148852, \"component 1\": -0.2917138458601804, \"variable\": \"row\", \"value\": \"308\", \"label\": 308}, {\"component 0\": -0.21607970344389898, \"component 1\": -0.33857030928022325, \"variable\": \"row\", \"value\": \"309\", \"label\": 309}, {\"component 0\": 0.3449686144136678, \"component 1\": -0.0555615762367695, \"variable\": \"row\", \"value\": \"310\", \"label\": 310}, {\"component 0\": -0.03460471036172104, \"component 1\": -0.0891969041536175, \"variable\": \"row\", \"value\": \"311\", \"label\": 311}, {\"component 0\": -0.2165302739121748, \"component 1\": 0.9720878253625326, \"variable\": \"row\", \"value\": \"312\", \"label\": 312}, {\"component 0\": -0.4630210278148852, \"component 1\": -0.2917138458601804, \"variable\": \"row\", \"value\": \"313\", \"label\": 313}, {\"component 0\": -0.28768537745105327, \"component 1\": 0.8792944755766043, \"variable\": \"row\", \"value\": \"314\", \"label\": 314}, {\"component 0\": 0.3308454183439329, \"component 1\": -0.09174660166868231, \"variable\": \"row\", \"value\": \"315\", \"label\": 315}, {\"component 0\": -0.28768537745105327, \"component 1\": 0.8792944755766043, \"variable\": \"row\", \"value\": \"316\", \"label\": 316}, {\"component 0\": -0.4630210278148852, \"component 1\": -0.2917138458601804, \"variable\": \"row\", \"value\": \"317\", \"label\": 317}, {\"component 0\": -0.05554690196639913, \"component 1\": 0.12472972620625525, \"variable\": \"row\", \"value\": \"318\", \"label\": 318}, {\"component 0\": 0.27487465627348384, \"component 1\": 0.03747710828812906, \"variable\": \"row\", \"value\": \"319\", \"label\": 319}, {\"component 0\": -0.26555303944854214, \"component 1\": -0.13997322837658008, \"variable\": \"row\", \"value\": \"320\", \"label\": 320}, {\"component 0\": 0.2824682939570367, \"component 1\": 0.02367202599606626, \"variable\": \"row\", \"value\": \"321\", \"label\": 321}, {\"component 0\": -0.25117553098085205, \"component 1\": 0.3944684495157118, \"variable\": \"row\", \"value\": \"322\", \"label\": 322}, {\"component 0\": -0.4630210278148852, \"component 1\": -0.2917138458601804, \"variable\": \"row\", \"value\": \"323\", \"label\": 323}, {\"component 0\": -0.3241699938716206, \"component 1\": -0.11980424106327309, \"variable\": \"row\", \"value\": \"324\", \"label\": 324}, {\"component 0\": -0.12670200550527771, \"component 1\": 0.031936376420327164, \"variable\": \"row\", \"value\": \"325\", \"label\": 325}, {\"component 0\": -0.1346139324913401, \"component 1\": 0.4872457958915614, \"variable\": \"row\", \"value\": \"326\", \"label\": 326}, {\"component 0\": 0.3449686144136678, \"component 1\": -0.0555615762367695, \"variable\": \"row\", \"value\": \"327\", \"label\": 327}, {\"component 0\": -0.3302425615057929, \"component 1\": 0.7569845192010181, \"variable\": \"row\", \"value\": \"328\", \"label\": 328}, {\"component 0\": -0.3804381691819498, \"component 1\": -0.3194333991982884, \"variable\": \"row\", \"value\": \"329\", \"label\": 329}, {\"component 0\": 0.5462393623331505, \"component 1\": -0.15801985542574226, \"variable\": \"row\", \"value\": \"330\", \"label\": 330}, {\"component 0\": -0.20861834692611242, \"component 1\": 0.5167784058912981, \"variable\": \"row\", \"value\": \"331\", \"label\": 331}, {\"component 0\": -0.26555303944854214, \"component 1\": -0.13997322837658008, \"variable\": \"row\", \"value\": \"332\", \"label\": 332}, {\"component 0\": -0.12670200550527771, \"component 1\": 0.031936376420327164, \"variable\": \"row\", \"value\": \"333\", \"label\": 333}, {\"component 0\": -0.4630210278148852, \"component 1\": -0.2917138458601804, \"variable\": \"row\", \"value\": \"334\", \"label\": 334}, {\"component 0\": -0.20576903603021868, \"component 1\": 0.3944524461056334, \"variable\": \"row\", \"value\": \"335\", \"label\": 335}, {\"component 0\": 0.3760314111236085, \"component 1\": 0.054005641291662285, \"variable\": \"row\", \"value\": \"336\", \"label\": 336}, {\"component 0\": -0.4178350350352096, \"component 1\": -0.14596160289983573, \"variable\": \"row\", \"value\": \"337\", \"label\": 337}, {\"component 0\": -0.10332406435721415, \"component 1\": -0.10138111538079816, \"variable\": \"row\", \"value\": \"338\", \"label\": 338}, {\"component 0\": -0.12670200550527771, \"component 1\": 0.031936376420327164, \"variable\": \"row\", \"value\": \"339\", \"label\": 339}, {\"component 0\": -0.26555303944854214, \"component 1\": -0.13997322837658008, \"variable\": \"row\", \"value\": \"340\", \"label\": 340}, {\"component 0\": -0.1706135511218523, \"component 1\": 0.48277298664339763, \"variable\": \"row\", \"value\": \"342\", \"label\": 342}, {\"component 0\": -0.4630210278148852, \"component 1\": -0.2917138458601804, \"variable\": \"row\", \"value\": \"343\", \"label\": 343}, {\"component 0\": -0.4630210278148852, \"component 1\": -0.2917138458601804, \"variable\": \"row\", \"value\": \"344\", \"label\": 344}, {\"component 0\": -0.26555303944854214, \"component 1\": -0.13997322837658008, \"variable\": \"row\", \"value\": \"345\", \"label\": 345}, {\"component 0\": -0.28768537745105327, \"component 1\": 0.8792944755766043, \"variable\": \"row\", \"value\": \"346\", \"label\": 346}, {\"component 0\": -0.4630210278148852, \"component 1\": -0.2917138458601804, \"variable\": \"row\", \"value\": \"347\", \"label\": 347}, {\"component 0\": -0.36697291014695194, \"component 1\": 1.3875787916323339, \"variable\": \"row\", \"value\": \"348\", \"label\": 348}, {\"component 0\": -0.28768537745105327, \"component 1\": 0.8792944755766043, \"variable\": \"row\", \"value\": \"349\", \"label\": 349}, {\"component 0\": -0.28768537745105327, \"component 1\": 0.8792944755766043, \"variable\": \"row\", \"value\": \"350\", \"label\": 350}, {\"component 0\": 0.3449686144136678, \"component 1\": -0.0555615762367695, \"variable\": \"row\", \"value\": \"351\", \"label\": 351}, {\"component 0\": -0.05228175450465197, \"component 1\": -0.06075821011480847, \"variable\": \"row\", \"value\": \"352\", \"label\": 352}, {\"component 0\": 0.08500030559069364, \"component 1\": -0.128068591487534, \"variable\": \"row\", \"value\": \"353\", \"label\": 353}, {\"component 0\": -0.08151601272560209, \"component 1\": 0.17768861938067176, \"variable\": \"row\", \"value\": \"354\", \"label\": 354}, {\"component 0\": -0.1634323541464368, \"component 1\": 0.6625306488516427, \"variable\": \"row\", \"value\": \"355\", \"label\": 355}, {\"component 0\": -0.12318617739728323, \"component 1\": 0.36673289276752535, \"variable\": \"row\", \"value\": \"356\", \"label\": 356}, {\"component 0\": -0.4630210278148852, \"component 1\": -0.2917138458601804, \"variable\": \"row\", \"value\": \"357\", \"label\": 357}, {\"component 0\": -0.20576903603021868, \"component 1\": 0.3944524461056334, \"variable\": \"row\", \"value\": \"358\", \"label\": 358}, {\"component 0\": -0.20576903603021868, \"component 1\": 0.3944524461056334, \"variable\": \"row\", \"value\": \"359\", \"label\": 359}, {\"component 0\": 0.3308454183439329, \"component 1\": -0.09174660166868231, \"variable\": \"row\", \"value\": \"360\", \"label\": 360}, {\"component 0\": -0.28768537745105327, \"component 1\": 0.8792944755766043, \"variable\": \"row\", \"value\": \"361\", \"label\": 361}, {\"component 0\": -0.33309187240168664, \"component 1\": 0.8793104789866828, \"variable\": \"row\", \"value\": \"362\", \"label\": 362}, {\"component 0\": 0.1202393188657086, \"component 1\": -0.014920086999715695, \"variable\": \"row\", \"value\": \"363\", \"label\": 363}, {\"component 0\": -0.4630210278148852, \"component 1\": -0.2917138458601804, \"variable\": \"row\", \"value\": \"364\", \"label\": 364}, {\"component 0\": 1.0706800006872266, \"component 1\": 1.194170078050508, \"variable\": \"row\", \"value\": \"365\", \"label\": 365}, {\"component 0\": -0.18549118112932442, \"component 1\": -0.0884351899009001, \"variable\": \"row\", \"value\": \"366\", \"label\": 366}, {\"component 0\": -0.4630210278148852, \"component 1\": -0.2917138458601804, \"variable\": \"row\", \"value\": \"367\", \"label\": 367}, {\"component 0\": -0.32395264882880287, \"component 1\": -0.09998171663996333, \"variable\": \"row\", \"value\": \"368\", \"label\": 368}, {\"component 0\": -0.20576903603021868, \"component 1\": 0.3944524461056334, \"variable\": \"row\", \"value\": \"369\", \"label\": 369}, {\"component 0\": -0.4630210278148852, \"component 1\": -0.2917138458601804, \"variable\": \"row\", \"value\": \"370\", \"label\": 370}, {\"component 0\": -0.20576903603021868, \"component 1\": 0.3944524461056334, \"variable\": \"row\", \"value\": \"371\", \"label\": 371}, {\"component 0\": -0.25117553098085205, \"component 1\": 0.3944684495157118, \"variable\": \"row\", \"value\": \"372\", \"label\": 372}, {\"component 0\": 0.1202393188657086, \"component 1\": -0.014920086999715695, \"variable\": \"row\", \"value\": \"373\", \"label\": 373}, {\"component 0\": -0.26555303944854214, \"component 1\": -0.13997322837658008, \"variable\": \"row\", \"value\": \"374\", \"label\": 374}, {\"component 0\": -0.12542755834217667, \"component 1\": 0.6285252296037422, \"variable\": \"row\", \"value\": \"375\", \"label\": 375}, {\"component 0\": -0.26555303944854214, \"component 1\": -0.13997322837658008, \"variable\": \"row\", \"value\": \"376\", \"label\": 376}, {\"component 0\": -0.5277105498721358, \"component 1\": 0.6052439017174178, \"variable\": \"row\", \"value\": \"377\", \"label\": 377}, {\"component 0\": -0.05554690196639913, \"component 1\": 0.12472972620625525, \"variable\": \"row\", \"value\": \"378\", \"label\": 378}, {\"component 0\": -0.5158544519615257, \"component 1\": 1.1582374844128462, \"variable\": \"row\", \"value\": \"379\", \"label\": 379}, {\"component 0\": -0.2320726987280641, \"component 1\": -0.2409375216372178, \"variable\": \"row\", \"value\": \"380\", \"label\": 380}, {\"component 0\": -0.4630210278148852, \"component 1\": -0.2917138458601804, \"variable\": \"row\", \"value\": \"381\", \"label\": 381}, {\"component 0\": -0.18510161488553845, \"component 1\": 0.07192788815694394, \"variable\": \"row\", \"value\": \"382\", \"label\": 382}, {\"component 0\": -0.20576903603021868, \"component 1\": 0.3944524461056334, \"variable\": \"row\", \"value\": \"383\", \"label\": 383}, {\"component 0\": -0.28768537745105327, \"component 1\": 0.8792944755766043, \"variable\": \"row\", \"value\": \"384\", \"label\": 384}, {\"component 0\": -0.4630210278148852, \"component 1\": -0.2917138458601804, \"variable\": \"row\", \"value\": \"385\", \"label\": 385}, {\"component 0\": -0.4630210278148852, \"component 1\": -0.2917138458601804, \"variable\": \"row\", \"value\": \"386\", \"label\": 386}, {\"component 0\": 0.20566030808847657, \"component 1\": 0.16135194136818862, \"variable\": \"row\", \"value\": \"387\", \"label\": 387}, {\"component 0\": 0.2824682939570367, \"component 1\": 0.02367202599606626, \"variable\": \"row\", \"value\": \"388\", \"label\": 388}, {\"component 0\": -0.3439535527613824, \"component 1\": 0.679665317441589, \"variable\": \"row\", \"value\": \"389\", \"label\": 389}, {\"component 0\": -0.20576903603021868, \"component 1\": 0.3944524461056334, \"variable\": \"row\", \"value\": \"390\", \"label\": 390}, {\"component 0\": 0.5071975895049959, \"component 1\": -0.016969463240987533, \"variable\": \"row\", \"value\": \"391\", \"label\": 391}, {\"component 0\": 0.2824682939570367, \"component 1\": 0.02367202599606626, \"variable\": \"row\", \"value\": \"392\", \"label\": 392}, {\"component 0\": -0.05203107385840466, \"component 1\": 0.4595262425534534, \"variable\": \"row\", \"value\": \"393\", \"label\": 393}, {\"component 0\": -0.4630210278148852, \"component 1\": -0.2917138458601804, \"variable\": \"row\", \"value\": \"394\", \"label\": 394}, {\"component 0\": -0.4630210278148852, \"component 1\": -0.2917138458601804, \"variable\": \"row\", \"value\": \"395\", \"label\": 395}, {\"component 0\": -0.28768537745105327, \"component 1\": 0.8792944755766043, \"variable\": \"row\", \"value\": \"397\", \"label\": 397}, {\"component 0\": -0.05494693997031804, \"component 1\": -0.21679974304554672, \"variable\": \"row\", \"value\": \"398\", \"label\": 398}, {\"component 0\": -0.4630210278148852, \"component 1\": -0.2917138458601804, \"variable\": \"row\", \"value\": \"399\", \"label\": 399}, {\"component 0\": -0.2850565687261173, \"component 1\": 0.9027367621613627, \"variable\": \"row\", \"value\": \"400\", \"label\": 400}, {\"component 0\": -0.32395264882880287, \"component 1\": -0.09998171663996333, \"variable\": \"row\", \"value\": \"401\", \"label\": 401}, {\"component 0\": -0.4630210278148852, \"component 1\": -0.2917138458601804, \"variable\": \"row\", \"value\": \"402\", \"label\": 402}, {\"component 0\": -0.41215890292662755, \"component 1\": 1.2418265486719893, \"variable\": \"row\", \"value\": \"403\", \"label\": 403}, {\"component 0\": -0.06144436603612374, \"component 1\": -0.2861731139923785, \"variable\": \"row\", \"value\": \"404\", \"label\": 404}, {\"component 0\": -0.26555303944854214, \"component 1\": -0.13997322837658008, \"variable\": \"row\", \"value\": \"405\", \"label\": 405}, {\"component 0\": 0.20566030808847657, \"component 1\": 0.16135194136818862, \"variable\": \"row\", \"value\": \"406\", \"label\": 406}, {\"component 0\": -0.28768537745105327, \"component 1\": 0.8792944755766043, \"variable\": \"row\", \"value\": \"407\", \"label\": 407}, {\"component 0\": -0.4630210278148852, \"component 1\": -0.2917138458601804, \"variable\": \"row\", \"value\": \"408\", \"label\": 408}, {\"component 0\": 0.12659327756353564, \"component 1\": 0.5238680110534949, \"variable\": \"row\", \"value\": \"409\", \"label\": 409}, {\"component 0\": -0.07792992061515755, \"component 1\": 0.6237129774911778, \"variable\": \"row\", \"value\": \"410\", \"label\": 410}, {\"component 0\": -0.4630210278148852, \"component 1\": -0.2917138458601804, \"variable\": \"row\", \"value\": \"411\", \"label\": 411}, {\"component 0\": -0.26555303944854214, \"component 1\": -0.13997322837658008, \"variable\": \"row\", \"value\": \"412\", \"label\": 412}, {\"component 0\": -0.4630210278148852, \"component 1\": -0.2917138458601804, \"variable\": \"row\", \"value\": \"413\", \"label\": 413}, {\"component 0\": -0.3302425615057929, \"component 1\": 0.7569845192010181, \"variable\": \"row\", \"value\": \"414\", \"label\": 414}, {\"component 0\": -0.3095751403611127, \"component 1\": 0.4344599612523286, \"variable\": \"row\", \"value\": \"415\", \"label\": 415}, {\"component 0\": -0.20576903603021868, \"component 1\": 0.3944524461056334, \"variable\": \"row\", \"value\": \"416\", \"label\": 416}, {\"component 0\": 0.3901546071933434, \"component 1\": 0.09019066672357506, \"variable\": \"row\", \"value\": \"417\", \"label\": 417}, {\"component 0\": -0.4630210278148852, \"component 1\": -0.2917138458601804, \"variable\": \"row\", \"value\": \"418\", \"label\": 418}, {\"component 0\": -0.12670200550527771, \"component 1\": 0.031936376420327164, \"variable\": \"row\", \"value\": \"419\", \"label\": 419}, {\"component 0\": -0.12670200550527771, \"component 1\": 0.031936376420327164, \"variable\": \"row\", \"value\": \"420\", \"label\": 420}, {\"component 0\": -0.18570852617214215, \"component 1\": -0.10825771432420987, \"variable\": \"row\", \"value\": \"421\", \"label\": 421}, {\"component 0\": -0.4630210278148852, \"component 1\": -0.2917138458601804, \"variable\": \"row\", \"value\": \"422\", \"label\": 422}, {\"component 0\": 0.28167475052183555, \"component 1\": 0.14859365688268117, \"variable\": \"row\", \"value\": \"423\", \"label\": 423}, {\"component 0\": -0.4630210278148852, \"component 1\": -0.2917138458601804, \"variable\": \"row\", \"value\": \"424\", \"label\": 424}, {\"component 0\": -0.28768537745105327, \"component 1\": 0.8792944755766043, \"variable\": \"row\", \"value\": \"425\", \"label\": 425}, {\"component 0\": 0.19139442240458715, \"component 1\": 0.07787326278621234, \"variable\": \"row\", \"value\": \"426\", \"label\": 426}, {\"component 0\": -0.4630210278148852, \"component 1\": -0.2917138458601804, \"variable\": \"row\", \"value\": \"427\", \"label\": 427}, {\"component 0\": -0.3241699938716206, \"component 1\": -0.11980424106327309, \"variable\": \"row\", \"value\": \"428\", \"label\": 428}, {\"component 0\": -0.5874945532904594, \"component 1\": 0.07081822723520428, \"variable\": \"row\", \"value\": \"429\", \"label\": 429}, {\"component 0\": 0.555574713891892, \"component 1\": -0.13238809090573608, \"variable\": \"row\", \"value\": \"430\", \"label\": 430}, {\"component 0\": 0.3449686144136678, \"component 1\": -0.0555615762367695, \"variable\": \"row\", \"value\": \"431\", \"label\": 431}, {\"component 0\": -0.4630210278148852, \"component 1\": -0.2917138458601804, \"variable\": \"row\", \"value\": \"432\", \"label\": 432}, {\"component 0\": -0.4630210278148852, \"component 1\": -0.2917138458601804, \"variable\": \"row\", \"value\": \"433\", \"label\": 433}, {\"component 0\": -0.28768537745105327, \"component 1\": 0.8792944755766043, \"variable\": \"row\", \"value\": \"434\", \"label\": 434}, {\"component 0\": 0.20566030808847657, \"component 1\": 0.16135194136818862, \"variable\": \"row\", \"value\": \"435\", \"label\": 435}, {\"component 0\": -0.4630210278148852, \"component 1\": -0.2917138458601804, \"variable\": \"row\", \"value\": \"436\", \"label\": 436}, {\"component 0\": -0.12670200550527771, \"component 1\": 0.031936376420327164, \"variable\": \"row\", \"value\": \"437\", \"label\": 437}, {\"component 0\": 0.025179293056602475, \"component 1\": 0.4452287703285959, \"variable\": \"row\", \"value\": \"438\", \"label\": 438}, {\"component 0\": -0.28768537745105327, \"component 1\": 0.8792944755766043, \"variable\": \"row\", \"value\": \"439\", \"label\": 439}, {\"component 0\": -0.5874945532904594, \"component 1\": 0.07081822723520428, \"variable\": \"row\", \"value\": \"440\", \"label\": 440}, {\"component 0\": -0.12670200550527771, \"component 1\": 0.031936376420327164, \"variable\": \"row\", \"value\": \"441\", \"label\": 441}, {\"component 0\": -0.4630210278148852, \"component 1\": -0.2917138458601804, \"variable\": \"row\", \"value\": \"442\", \"label\": 442}, {\"component 0\": -0.26555303944854214, \"component 1\": -0.13997322837658008, \"variable\": \"row\", \"value\": \"443\", \"label\": 443}, {\"component 0\": -0.12545640235972522, \"component 1\": 0.9178865885723864, \"variable\": \"row\", \"value\": \"444\", \"label\": 444}, {\"component 0\": -0.20576903603021868, \"component 1\": 0.3944524461056334, \"variable\": \"row\", \"value\": \"445\", \"label\": 445}, {\"component 0\": -0.3804381691819498, \"component 1\": -0.3194333991982884, \"variable\": \"row\", \"value\": \"446\", \"label\": 446}, {\"component 0\": -0.16058304325054307, \"component 1\": 0.540204689065978, \"variable\": \"row\", \"value\": \"447\", \"label\": 447}, {\"component 0\": -0.3007920527235571, \"component 1\": -0.25312173286439843, \"variable\": \"row\", \"value\": \"448\", \"label\": 448}, {\"component 0\": -0.4630210278148852, \"component 1\": -0.2917138458601804, \"variable\": \"row\", \"value\": \"449\", \"label\": 449}, {\"component 0\": -0.5214206371951459, \"component 1\": -0.25172233412356365, \"variable\": \"row\", \"value\": \"450\", \"label\": 450}, {\"component 0\": 0.17177927034321125, \"component 1\": 0.6696202540138394, \"variable\": \"row\", \"value\": \"451\", \"label\": 451}, {\"component 0\": -0.05385072835257087, \"component 1\": -0.2999781962844413, \"variable\": \"row\", \"value\": \"452\", \"label\": 452}, {\"component 0\": -0.21725944342829476, \"component 1\": -0.2802198199913828, \"variable\": \"row\", \"value\": \"453\", \"label\": 453}, {\"component 0\": -0.20576903603021868, \"component 1\": 0.3944524461056334, \"variable\": \"row\", \"value\": \"454\", \"label\": 454}, {\"component 0\": -0.26555303944854214, \"component 1\": -0.13997322837658008, \"variable\": \"row\", \"value\": \"456\", \"label\": 456}, {\"component 0\": -0.26555303944854214, \"component 1\": -0.13997322837658008, \"variable\": \"row\", \"value\": \"457\", \"label\": 457}, {\"component 0\": 0.12659327756353564, \"component 1\": 0.5238680110534949, \"variable\": \"row\", \"value\": \"458\", \"label\": 458}, {\"component 0\": -0.20576903603021868, \"component 1\": 0.3944524461056334, \"variable\": \"row\", \"value\": \"459\", \"label\": 459}, {\"component 0\": 0.49307439343526105, \"component 1\": -0.05315448867290034, \"variable\": \"row\", \"value\": \"460\", \"label\": 460}, {\"component 0\": -0.018611715077555935, \"component 1\": -0.18682969179662298, \"variable\": \"row\", \"value\": \"461\", \"label\": 461}, {\"component 0\": 0.555574713891892, \"component 1\": -0.13238809090573608, \"variable\": \"row\", \"value\": \"462\", \"label\": 462}, {\"component 0\": -0.08151601272560209, \"component 1\": 0.17768861938067176, \"variable\": \"row\", \"value\": \"463\", \"label\": 463}, {\"component 0\": 0.1202393188657086, \"component 1\": -0.014920086999715695, \"variable\": \"row\", \"value\": \"464\", \"label\": 464}, {\"component 0\": -0.4630210278148852, \"component 1\": -0.2917138458601804, \"variable\": \"row\", \"value\": \"465\", \"label\": 465}, {\"component 0\": -0.5214206371951459, \"component 1\": -0.25172233412356365, \"variable\": \"row\", \"value\": \"466\", \"label\": 466}, {\"component 0\": -0.4630210278148852, \"component 1\": -0.2917138458601804, \"variable\": \"row\", \"value\": \"467\", \"label\": 467}, {\"component 0\": -0.24992992783529958, \"component 1\": 1.2804186616677713, \"variable\": \"row\", \"value\": \"468\", \"label\": 468}, {\"component 0\": -0.20576903603021868, \"component 1\": 0.3944524461056334, \"variable\": \"row\", \"value\": \"469\", \"label\": 469}, {\"component 0\": -0.4630210278148852, \"component 1\": -0.2917138458601804, \"variable\": \"row\", \"value\": \"470\", \"label\": 470}, {\"component 0\": -0.26555303944854214, \"component 1\": -0.13997322837658008, \"variable\": \"row\", \"value\": \"471\", \"label\": 471}, {\"component 0\": -0.4630210278148852, \"component 1\": -0.2917138458601804, \"variable\": \"row\", \"value\": \"472\", \"label\": 472}, {\"component 0\": -0.22036704666886664, \"component 1\": 0.005779014583764476, \"variable\": \"row\", \"value\": \"473\", \"label\": 473}, {\"component 0\": 0.1202393188657086, \"component 1\": -0.014920086999715695, \"variable\": \"row\", \"value\": \"474\", \"label\": 474}, {\"component 0\": -0.24249938467137774, \"component 1\": 1.0250467185369494, \"variable\": \"row\", \"value\": \"475\", \"label\": 475}, {\"component 0\": -0.4630210278148852, \"component 1\": -0.2917138458601804, \"variable\": \"row\", \"value\": \"476\", \"label\": 476}, {\"component 0\": -0.4630210278148852, \"component 1\": -0.2917138458601804, \"variable\": \"row\", \"value\": \"477\", \"label\": 477}, {\"component 0\": -0.16058304325054307, \"component 1\": 0.540204689065978, \"variable\": \"row\", \"value\": \"478\", \"label\": 478}, {\"component 0\": -0.4630210278148852, \"component 1\": -0.2917138458601804, \"variable\": \"row\", \"value\": \"479\", \"label\": 479}, {\"component 0\": -0.26555303944854214, \"component 1\": -0.13997322837658008, \"variable\": \"row\", \"value\": \"480\", \"label\": 480}, {\"component 0\": -0.26555303944854214, \"component 1\": -0.13997322837658008, \"variable\": \"row\", \"value\": \"481\", \"label\": 481}, {\"component 0\": -0.4630210278148852, \"component 1\": -0.2917138458601804, \"variable\": \"row\", \"value\": \"482\", \"label\": 482}, {\"component 0\": -0.1706135511218523, \"component 1\": 0.48277298664339763, \"variable\": \"row\", \"value\": \"483\", \"label\": 483}, {\"component 0\": -0.04411914687234229, \"component 1\": 0.0042168230822191245, \"variable\": \"row\", \"value\": \"484\", \"label\": 484}, {\"component 0\": -0.4630210278148852, \"component 1\": -0.2917138458601804, \"variable\": \"row\", \"value\": \"485\", \"label\": 485}, {\"component 0\": -0.4630210278148852, \"component 1\": -0.2917138458601804, \"variable\": \"row\", \"value\": \"486\", \"label\": 486}, {\"component 0\": -0.3302425615057929, \"component 1\": 0.7569845192010181, \"variable\": \"row\", \"value\": \"487\", \"label\": 487}, {\"component 0\": -0.4630210278148852, \"component 1\": -0.2917138458601804, \"variable\": \"row\", \"value\": \"488\", \"label\": 488}, {\"component 0\": -0.26555303944854214, \"component 1\": -0.13997322837658008, \"variable\": \"row\", \"value\": \"489\", \"label\": 489}, {\"component 0\": -0.4630210278148852, \"component 1\": -0.2917138458601804, \"variable\": \"row\", \"value\": \"491\", \"label\": 491}, {\"component 0\": -0.12670200550527771, \"component 1\": 0.031936376420327164, \"variable\": \"row\", \"value\": \"492\", \"label\": 492}, {\"component 0\": -0.26416864541047935, \"component 1\": 0.4344439578422502, \"variable\": \"row\", \"value\": \"493\", \"label\": 493}, {\"component 0\": -0.4630210278148852, \"component 1\": -0.2917138458601804, \"variable\": \"row\", \"value\": \"494\", \"label\": 494}, {\"component 0\": -0.26555303944854214, \"component 1\": -0.13997322837658008, \"variable\": \"row\", \"value\": \"495\", \"label\": 495}, {\"component 0\": -0.26555303944854214, \"component 1\": -0.13997322837658008, \"variable\": \"row\", \"value\": \"496\", \"label\": 496}, {\"component 0\": 0.555574713891892, \"component 1\": -0.13238809090573608, \"variable\": \"row\", \"value\": \"497\", \"label\": 497}, {\"component 0\": -0.4630210278148852, \"component 1\": -0.2917138458601804, \"variable\": \"row\", \"value\": \"498\", \"label\": 498}, {\"component 0\": 0.1202393188657086, \"component 1\": -0.014920086999715695, \"variable\": \"row\", \"value\": \"499\", \"label\": 499}, {\"component 0\": 0.19139442240458715, \"component 1\": 0.07787326278621234, \"variable\": \"row\", \"value\": \"500\", \"label\": 500}, {\"component 0\": 0.40200052188281143, \"component 1\": 0.0010467481172457649, \"variable\": \"row\", \"value\": \"501\", \"label\": 501}, {\"component 0\": 0.3304558521001468, \"component 1\": -0.2521096797265264, \"variable\": \"row\", \"value\": \"502\", \"label\": 502}, {\"component 0\": 0.1202393188657086, \"component 1\": -0.014920086999715695, \"variable\": \"row\", \"value\": \"503\", \"label\": 503}, {\"component 0\": 0.909430125580588, \"component 1\": -0.18711481792373286, \"variable\": \"row\", \"value\": \"505\", \"label\": 505}, {\"component 0\": 0.1202393188657086, \"component 1\": -0.014920086999715695, \"variable\": \"row\", \"value\": \"506\", \"label\": 506}, {\"component 0\": 0.4518791648569937, \"component 1\": -0.21597715516487914, \"variable\": \"row\", \"value\": \"507\", \"label\": 507}, {\"component 0\": 0.1202393188657086, \"component 1\": -0.014920086999715695, \"variable\": \"row\", \"value\": \"508\", \"label\": 508}, {\"component 0\": 0.3356332628549262, \"component 1\": -0.0811933407567757, \"variable\": \"row\", \"value\": \"509\", \"label\": 509}, {\"component 0\": 0.202822177498644, \"component 1\": -0.042639640337823755, \"variable\": \"row\", \"value\": \"510\", \"label\": 510}, {\"component 0\": 0.6381575725248274, \"component 1\": -0.16010764424384413, \"variable\": \"row\", \"value\": \"511\", \"label\": 511}, {\"component 0\": 0.47854343192876425, \"component 1\": -0.2371361104367215, \"variable\": \"row\", \"value\": \"512\", \"label\": 512}, {\"component 0\": 0.555574713891892, \"component 1\": -0.13238809090573608, \"variable\": \"row\", \"value\": \"513\", \"label\": 513}, {\"component 0\": 0.1202393188657086, \"component 1\": -0.014920086999715695, \"variable\": \"row\", \"value\": \"514\", \"label\": 514}, {\"component 0\": 0.7865230429787131, \"component 1\": -0.0816117666827735, \"variable\": \"row\", \"value\": \"515\", \"label\": 515}, {\"component 0\": 0.35745751490641925, \"component 1\": 0.009757554950020994, \"variable\": \"row\", \"value\": \"516\", \"label\": 516}, {\"component 0\": 0.3308454183439329, \"component 1\": -0.09174660166868231, \"variable\": \"row\", \"value\": \"517\", \"label\": 517}, {\"component 0\": 0.1202393188657086, \"component 1\": -0.014920086999715695, \"variable\": \"row\", \"value\": \"518\", \"label\": 518}, {\"component 0\": 0.2509277451766635, \"component 1\": 0.092014484600164, \"variable\": \"row\", \"value\": \"519\", \"label\": 519}, {\"component 0\": 0.6584998021334243, \"component 1\": -0.03250480535191498, \"variable\": \"row\", \"value\": \"520\", \"label\": 520}, {\"component 0\": -0.006073565961755853, \"component 1\": -0.0738673546973879, \"variable\": \"row\", \"value\": \"521\", \"label\": 521}, {\"component 0\": 0.3901546071933434, \"component 1\": 0.09019066672357506, \"variable\": \"row\", \"value\": \"522\", \"label\": 522}, {\"component 0\": 0.3308454183439329, \"component 1\": -0.09174660166868231, \"variable\": \"row\", \"value\": \"523\", \"label\": 523}, {\"component 0\": 0.24196822169133717, \"component 1\": -0.10735070259333843, \"variable\": \"row\", \"value\": \"524\", \"label\": 524}, {\"component 0\": -0.42786554290651885, \"component 1\": -0.20339330532241612, \"variable\": \"row\", \"value\": \"526\", \"label\": 526}, {\"component 0\": 0.3308454183439329, \"component 1\": -0.09174660166868231, \"variable\": \"row\", \"value\": \"527\", \"label\": 527}, {\"component 0\": -0.018611715077555935, \"component 1\": -0.18682969179662298, \"variable\": \"row\", \"value\": \"528\", \"label\": 528}, {\"component 0\": 0.484583380515747, \"component 1\": -0.026672805220862284, \"variable\": \"row\", \"value\": \"529\", \"label\": 529}, {\"component 0\": 0.36505115258997217, \"component 1\": -0.004047527342041796, \"variable\": \"row\", \"value\": \"530\", \"label\": 530}, {\"component 0\": 0.47854343192876425, \"component 1\": -0.2371361104367215, \"variable\": \"row\", \"value\": \"531\", \"label\": 531}, {\"component 0\": 0.1202393188657086, \"component 1\": -0.014920086999715695, \"variable\": \"row\", \"value\": \"532\", \"label\": 532}, {\"component 0\": 0.555574713891892, \"component 1\": -0.13238809090573608, \"variable\": \"row\", \"value\": \"533\", \"label\": 533}, {\"component 0\": 0.6111989335257573, \"component 1\": 0.07401764012453026, \"variable\": \"row\", \"value\": \"534\", \"label\": 534}, {\"component 0\": 0.1202393188657086, \"component 1\": -0.014920086999715695, \"variable\": \"row\", \"value\": \"535\", \"label\": 535}, {\"component 0\": -0.018611715077555935, \"component 1\": -0.18682969179662298, \"variable\": \"row\", \"value\": \"536\", \"label\": 536}, {\"component 0\": 0.3356332628549262, \"component 1\": -0.0811933407567757, \"variable\": \"row\", \"value\": \"537\", \"label\": 537}, {\"component 0\": 0.6383366574767069, \"component 1\": -0.2791531359996871, \"variable\": \"row\", \"value\": \"538\", \"label\": 538}, {\"component 0\": 0.1654253116453842, \"component 1\": 0.1308321559606289, \"variable\": \"row\", \"value\": \"539\", \"label\": 539}, {\"component 0\": 0.1967822289116615, \"component 1\": -0.253102945553683, \"variable\": \"row\", \"value\": \"540\", \"label\": 540}, {\"component 0\": -0.4630210278148852, \"component 1\": -0.2917138458601804, \"variable\": \"row\", \"value\": \"541\", \"label\": 541}, {\"component 0\": 0.1202393188657086, \"component 1\": -0.014920086999715695, \"variable\": \"row\", \"value\": \"542\", \"label\": 542}, {\"component 0\": 0.2631494879395468, \"component 1\": -0.1708628566796615, \"variable\": \"row\", \"value\": \"543\", \"label\": 543}, {\"component 0\": 0.4134282769768683, \"component 1\": -0.11946615500679036, \"variable\": \"row\", \"value\": \"544\", \"label\": 544}, {\"component 0\": 0.8066055811550175, \"component 1\": -0.030097717788045836, \"variable\": \"row\", \"value\": \"545\", \"label\": 545}, {\"component 0\": 0.6381575725248274, \"component 1\": -0.16010764424384413, \"variable\": \"row\", \"value\": \"546\", \"label\": 546}, {\"component 0\": 0.4987065765854818, \"component 1\": 0.009512220211050512, \"variable\": \"row\", \"value\": \"547\", \"label\": 547}, {\"component 0\": 0.3449686144136678, \"component 1\": -0.0555615762367695, \"variable\": \"row\", \"value\": \"548\", \"label\": 548}, {\"component 0\": 0.12375514697370307, \"component 1\": 0.3198764293474825, \"variable\": \"row\", \"value\": \"549\", \"label\": 549}, {\"component 0\": 0.3308454183439329, \"component 1\": -0.09174660166868231, \"variable\": \"row\", \"value\": \"550\", \"label\": 550}, {\"component 0\": 0.3308454183439329, \"component 1\": -0.09174660166868231, \"variable\": \"row\", \"value\": \"551\", \"label\": 551}, {\"component 0\": 0.3276542867367123, \"component 1\": 0.16942426895641086, \"variable\": \"row\", \"value\": \"552\", \"label\": 552}, {\"component 0\": 0.06397114355537949, \"component 1\": -0.21454924513473103, \"variable\": \"row\", \"value\": \"553\", \"label\": 553}, {\"component 0\": 0.2739772810375226, \"component 1\": 0.05015370944810429, \"variable\": \"row\", \"value\": \"554\", \"label\": 554}, {\"component 0\": 0.7913108874897066, \"component 1\": -0.07105850577086693, \"variable\": \"row\", \"value\": \"555\", \"label\": 555}, {\"component 0\": 0.3449686144136678, \"component 1\": -0.0555615762367695, \"variable\": \"row\", \"value\": \"556\", \"label\": 556}, {\"component 0\": 0.202822177498644, \"component 1\": -0.042639640337823755, \"variable\": \"row\", \"value\": \"557\", \"label\": 557}, {\"component 0\": 0.4161237179525463, \"component 1\": 0.03723177354915855, \"variable\": \"row\", \"value\": \"558\", \"label\": 558}, {\"component 0\": 0.14442256811838328, \"component 1\": -0.002648128601206987, \"variable\": \"row\", \"value\": \"559\", \"label\": 559}, {\"component 0\": 0.202822177498644, \"component 1\": -0.042639640337823755, \"variable\": \"row\", \"value\": \"560\", \"label\": 560}, {\"component 0\": 0.1202393188657086, \"component 1\": -0.014920086999715695, \"variable\": \"row\", \"value\": \"561\", \"label\": 561}, {\"component 0\": 0.71780368898322, \"component 1\": -0.09379597790995414, \"variable\": \"row\", \"value\": \"562\", \"label\": 562}, {\"component 0\": 0.2509277451766635, \"component 1\": 0.092014484600164, \"variable\": \"row\", \"value\": \"563\", \"label\": 563}, {\"component 0\": 0.14361726001377212, \"component 1\": -0.148237578800841, \"variable\": \"row\", \"value\": \"564\", \"label\": 564}, {\"component 0\": 0.3449686144136678, \"component 1\": -0.0555615762367695, \"variable\": \"row\", \"value\": \"565\", \"label\": 565}, {\"component 0\": 0.1202393188657086, \"component 1\": -0.014920086999715695, \"variable\": \"row\", \"value\": \"566\", \"label\": 566}, {\"component 0\": 0.1202393188657086, \"component 1\": -0.014920086999715695, \"variable\": \"row\", \"value\": \"567\", \"label\": 567}, {\"component 0\": -0.018611715077555935, \"component 1\": -0.18682969179662298, \"variable\": \"row\", \"value\": \"568\", \"label\": 568}, {\"component 0\": 0.499603951821443, \"component 1\": -0.0031643809489247526, \"variable\": \"row\", \"value\": \"569\", \"label\": 569}, {\"component 0\": -0.018611715077555935, \"component 1\": -0.18682969179662298, \"variable\": \"row\", \"value\": \"570\", \"label\": 570}, {\"component 0\": 0.19199438440066818, \"component 1\": -0.2636562064655896, \"variable\": \"row\", \"value\": \"571\", \"label\": 571}, {\"component 0\": 0.3308454183439329, \"component 1\": -0.09174660166868231, \"variable\": \"row\", \"value\": \"572\", \"label\": 572}, {\"component 0\": -0.21607970344389898, \"component 1\": -0.33857030928022325, \"variable\": \"row\", \"value\": \"573\", \"label\": 573}, {\"component 0\": 0.41315672026799155, \"component 1\": 0.13060659759594595, \"variable\": \"row\", \"value\": \"574\", \"label\": 574}, {\"component 0\": 0.1202393188657086, \"component 1\": -0.014920086999715695, \"variable\": \"row\", \"value\": \"575\", \"label\": 575}, {\"component 0\": -0.018611715077555935, \"component 1\": -0.18682969179662298, \"variable\": \"row\", \"value\": \"576\", \"label\": 576}, {\"component 0\": 0.3308454183439329, \"component 1\": -0.09174660166868231, \"variable\": \"row\", \"value\": \"577\", \"label\": 577}, {\"component 0\": 0.14361726001377212, \"component 1\": -0.148237578800841, \"variable\": \"row\", \"value\": \"578\", \"label\": 578}, {\"component 0\": 0.10915713633505507, \"component 1\": -0.06879700217438645, \"variable\": \"row\", \"value\": \"579\", \"label\": 579}, {\"component 0\": 0.3108957143439143, \"component 1\": -0.18834847135832297, \"variable\": \"row\", \"value\": \"580\", \"label\": 580}, {\"component 0\": 0.555574713891892, \"component 1\": -0.13238809090573608, \"variable\": \"row\", \"value\": \"581\", \"label\": 581}, {\"component 0\": 0.6584998021334243, \"component 1\": -0.03250480535191498, \"variable\": \"row\", \"value\": \"582\", \"label\": 582}, {\"component 0\": 0.202822177498644, \"component 1\": -0.042639640337823755, \"variable\": \"row\", \"value\": \"584\", \"label\": 584}, {\"component 0\": 0.1202393188657086, \"component 1\": -0.014920086999715695, \"variable\": \"row\", \"value\": \"585\", \"label\": 585}, {\"component 0\": 0.1202393188657086, \"component 1\": -0.014920086999715695, \"variable\": \"row\", \"value\": \"586\", \"label\": 586}, {\"component 0\": 0.1967822289116615, \"component 1\": -0.253102945553683, \"variable\": \"row\", \"value\": \"587\", \"label\": 587}, {\"component 0\": 0.3963736407322054, \"component 1\": 0.18160848018359146, \"variable\": \"row\", \"value\": \"588\", \"label\": 588}, {\"component 0\": 0.19199438440066818, \"component 1\": -0.2636562064655896, \"variable\": \"row\", \"value\": \"589\", \"label\": 589}, {\"component 0\": 0.49307439343526105, \"component 1\": -0.05315448867290034, \"variable\": \"row\", \"value\": \"590\", \"label\": 590}, {\"component 0\": -0.4178350350352096, \"component 1\": -0.14596160289983573, \"variable\": \"row\", \"value\": \"591\", \"label\": 591}, {\"component 0\": 0.4215115244596207, \"component 1\": -0.2937444347907368, \"variable\": \"row\", \"value\": \"592\", \"label\": 592}, {\"component 0\": 0.3449686144136678, \"component 1\": -0.0555615762367695, \"variable\": \"row\", \"value\": \"593\", \"label\": 593}, {\"component 0\": 0.202822177498644, \"component 1\": -0.042639640337823755, \"variable\": \"row\", \"value\": \"594\", \"label\": 594}, {\"component 0\": -0.26555303944854214, \"component 1\": -0.13997322837658008, \"variable\": \"row\", \"value\": \"595\", \"label\": 595}, {\"component 0\": 0.1202393188657086, \"component 1\": -0.014920086999715695, \"variable\": \"row\", \"value\": \"596\", \"label\": 596}, {\"component 0\": 0.35118764795252977, \"component 1\": 0.035856237223246865, \"variable\": \"row\", \"value\": \"597\", \"label\": 597}, {\"component 0\": 0.4134282769768683, \"component 1\": -0.11946615500679036, \"variable\": \"row\", \"value\": \"598\", \"label\": 598}, {\"component 0\": 0.3308454183439329, \"component 1\": -0.09174660166868231, \"variable\": \"row\", \"value\": \"599\", \"label\": 599}, {\"component 0\": 0.4834300821131463, \"component 1\": -0.044015049497706286, \"variable\": \"row\", \"value\": \"600\", \"label\": 600}, {\"component 0\": 0.3542233594919963, \"component 1\": -0.2250640934698076, \"variable\": \"row\", \"value\": \"601\", \"label\": 601}, {\"component 0\": 0.3449686144136678, \"component 1\": -0.0555615762367695, \"variable\": \"row\", \"value\": \"602\", \"label\": 602}, {\"component 0\": 0.3308454183439329, \"component 1\": -0.09174660166868231, \"variable\": \"row\", \"value\": \"603\", \"label\": 603}, {\"component 0\": 0.4134282769768683, \"component 1\": -0.11946615500679036, \"variable\": \"row\", \"value\": \"604\", \"label\": 604}, {\"component 0\": 0.3542233594919963, \"component 1\": -0.2250640934698076, \"variable\": \"row\", \"value\": \"605\", \"label\": 605}, {\"component 0\": -0.21607970344389898, \"component 1\": -0.33857030928022325, \"variable\": \"row\", \"value\": \"606\", \"label\": 606}, {\"component 0\": 0.3445790481698817, \"component 1\": -0.21592465429461355, \"variable\": \"row\", \"value\": \"607\", \"label\": 607}, {\"component 0\": 0.1202393188657086, \"component 1\": -0.014920086999715695, \"variable\": \"row\", \"value\": \"609\", \"label\": 609}, {\"component 0\": 0.3707887477632925, \"component 1\": 0.007127199780988531, \"variable\": \"row\", \"value\": \"610\", \"label\": 610}, {\"component 0\": 0.3449686144136678, \"component 1\": -0.0555615762367695, \"variable\": \"row\", \"value\": \"611\", \"label\": 611}, {\"component 0\": 0.49307439343526105, \"component 1\": -0.05315448867290034, \"variable\": \"row\", \"value\": \"612\", \"label\": 612}, {\"component 0\": 0.1202393188657086, \"component 1\": -0.014920086999715695, \"variable\": \"row\", \"value\": \"613\", \"label\": 613}, {\"component 0\": 0.4215115244596207, \"component 1\": -0.2937444347907368, \"variable\": \"row\", \"value\": \"614\", \"label\": 614}, {\"component 0\": 0.2587007865651872, \"component 1\": -0.003373560260652483, \"variable\": \"row\", \"value\": \"615\", \"label\": 615}, {\"component 0\": -0.16713662872804771, \"component 1\": -0.2395619853113061, \"variable\": \"row\", \"value\": \"616\", \"label\": 616}, {\"component 0\": 0.7240227225220821, \"component 1\": -0.002378164449937772, \"variable\": \"row\", \"value\": \"617\", \"label\": 617}, {\"component 0\": 0.2587007865651872, \"component 1\": -0.003373560260652483, \"variable\": \"row\", \"value\": \"618\", \"label\": 618}, {\"component 0\": 0.3308454183439329, \"component 1\": -0.09174660166868231, \"variable\": \"row\", \"value\": \"619\", \"label\": 619}, {\"component 0\": 0.27457724303360365, \"component 1\": -0.2913757598036977, \"variable\": \"row\", \"value\": \"620\", \"label\": 620}, {\"component 0\": 0.3901546071933434, \"component 1\": 0.09019066672357506, \"variable\": \"row\", \"value\": \"621\", \"label\": 621}, {\"component 0\": 0.0998872338192431, \"component 1\": -0.23490439983662123, \"variable\": \"row\", \"value\": \"624\", \"label\": 624}, {\"component 0\": 0.4425438132982521, \"component 1\": -0.24160891968488535, \"variable\": \"row\", \"value\": \"625\", \"label\": 625}, {\"component 0\": 0.1202393188657086, \"component 1\": -0.014920086999715695, \"variable\": \"row\", \"value\": \"626\", \"label\": 626}, {\"component 0\": 1.1411235194462228, \"component 1\": 1.1775298977779225, \"variable\": \"row\", \"value\": \"627\", \"label\": 627}, {\"component 0\": 0.1967822289116615, \"component 1\": -0.253102945553683, \"variable\": \"row\", \"value\": \"628\", \"label\": 628}, {\"component 0\": 0.27727268400928173, \"component 1\": -0.13467783124774874, \"variable\": \"row\", \"value\": \"629\", \"label\": 629}, {\"component 0\": -0.018611715077555935, \"component 1\": -0.18682969179662298, \"variable\": \"row\", \"value\": \"630\", \"label\": 630}, {\"component 0\": 0.4525743211695613, \"component 1\": -0.18417721726230496, \"variable\": \"row\", \"value\": \"631\", \"label\": 631}, {\"component 0\": 0.19199438440066818, \"component 1\": -0.2636562064655896, \"variable\": \"row\", \"value\": \"632\", \"label\": 632}, {\"component 0\": -0.006073565961755853, \"component 1\": -0.0738673546973879, \"variable\": \"row\", \"value\": \"633\", \"label\": 633}, {\"component 0\": 0.1202393188657086, \"component 1\": -0.014920086999715695, \"variable\": \"row\", \"value\": \"634\", \"label\": 634}, {\"component 0\": 0.20717872586909786, \"component 1\": -0.0416391467228502, \"variable\": \"row\", \"value\": \"635\", \"label\": 635}, {\"component 0\": 0.19199438440066818, \"component 1\": -0.2636562064655896, \"variable\": \"row\", \"value\": \"636\", \"label\": 636}, {\"component 0\": 0.4215115244596207, \"component 1\": -0.2937444347907368, \"variable\": \"row\", \"value\": \"637\", \"label\": 637}, {\"component 0\": 0.3449686144136678, \"component 1\": -0.0555615762367695, \"variable\": \"row\", \"value\": \"638\", \"label\": 638}, {\"component 0\": 0.1654253116453842, \"component 1\": 0.1308321559606289, \"variable\": \"row\", \"value\": \"639\", \"label\": 639}, {\"component 0\": 0.22714986930903455, \"component 1\": -0.17533566592782535, \"variable\": \"row\", \"value\": \"640\", \"label\": 640}, {\"component 0\": 0.3308454183439329, \"component 1\": -0.09174660166868231, \"variable\": \"row\", \"value\": \"641\", \"label\": 641}, {\"component 0\": 0.2824682939570367, \"component 1\": 0.02367202599606626, \"variable\": \"row\", \"value\": \"642\", \"label\": 642}, {\"component 0\": 0.2925031986564781, \"component 1\": -0.5093896310443579, \"variable\": \"row\", \"value\": \"643\", \"label\": 643}, {\"component 0\": 0.1202393188657086, \"component 1\": -0.014920086999715695, \"variable\": \"row\", \"value\": \"644\", \"label\": 644}, {\"component 0\": 0.19139442240458715, \"component 1\": 0.07787326278621234, \"variable\": \"row\", \"value\": \"645\", \"label\": 645}, {\"component 0\": 0.3449686144136678, \"component 1\": -0.0555615762367695, \"variable\": \"row\", \"value\": \"646\", \"label\": 646}, {\"component 0\": 0.19199438440066818, \"component 1\": -0.2636562064655896, \"variable\": \"row\", \"value\": \"647\", \"label\": 647}, {\"component 0\": 0.4215115244596207, \"component 1\": -0.2937444347907368, \"variable\": \"row\", \"value\": \"648\", \"label\": 648}, {\"component 0\": -0.4178350350352096, \"component 1\": -0.14596160289983573, \"variable\": \"row\", \"value\": \"649\", \"label\": 649}, {\"component 0\": 0.1654253116453842, \"component 1\": 0.1308321559606289, \"variable\": \"row\", \"value\": \"650\", \"label\": 650}, {\"component 0\": 0.21860648096315471, \"component 1\": -0.1621520498468863, \"variable\": \"row\", \"value\": \"651\", \"label\": 651}, {\"component 0\": 0.5380767547008406, \"component 1\": -0.22299488862276992, \"variable\": \"row\", \"value\": \"652\", \"label\": 652}, {\"component 0\": 0.3308454183439329, \"component 1\": -0.09174660166868231, \"variable\": \"row\", \"value\": \"653\", \"label\": 653}, {\"component 0\": -0.4630210278148852, \"component 1\": -0.2917138458601804, \"variable\": \"row\", \"value\": \"654\", \"label\": 654}, {\"component 0\": 0.25376196587152106, \"component 1\": -0.07383150930912209, \"variable\": \"row\", \"value\": \"655\", \"label\": 655}, {\"component 0\": 0.4899711870228213, \"component 1\": -0.3576490135607577, \"variable\": \"row\", \"value\": \"656\", \"label\": 656}, {\"component 0\": 0.5462393623331505, \"component 1\": -0.15801985542574226, \"variable\": \"row\", \"value\": \"657\", \"label\": 657}, {\"component 0\": -0.018611715077555935, \"component 1\": -0.18682969179662298, \"variable\": \"row\", \"value\": \"658\", \"label\": 658}, {\"component 0\": 0.1202393188657086, \"component 1\": -0.014920086999715695, \"variable\": \"row\", \"value\": \"659\", \"label\": 659}, {\"component 0\": 0.2961137379563391, \"component 1\": 0.23776672756050857, \"variable\": \"row\", \"value\": \"660\", \"label\": 660}, {\"component 0\": 0.47987740600991935, \"component 1\": 0.4438717520252511, \"variable\": \"row\", \"value\": \"661\", \"label\": 661}, {\"component 0\": -0.018611715077555935, \"component 1\": -0.18682969179662298, \"variable\": \"row\", \"value\": \"662\", \"label\": 662}, {\"component 0\": 0.19139442240458715, \"component 1\": 0.07787326278621234, \"variable\": \"row\", \"value\": \"663\", \"label\": 663}, {\"component 0\": 0.7147004825707804, \"component 1\": -0.3982905027978115, \"variable\": \"row\", \"value\": \"664\", \"label\": 664}, {\"component 0\": 0.21233661400926518, \"component 1\": -0.1360533675736604, \"variable\": \"row\", \"value\": \"665\", \"label\": 665}, {\"component 0\": -0.5420880583398261, \"component 1\": 0.07080222382512594, \"variable\": \"row\", \"value\": \"666\", \"label\": 666}, {\"component 0\": 0.555574713891892, \"component 1\": -0.13238809090573608, \"variable\": \"row\", \"value\": \"667\", \"label\": 667}, {\"component 0\": -0.23829173226692626, \"component 1\": -0.3323553350972342, \"variable\": \"row\", \"value\": \"668\", \"label\": 668}, {\"component 0\": 0.5642294969741396, \"component 1\": 0.03963886111302771, \"variable\": \"row\", \"value\": \"669\", \"label\": 669}, {\"component 0\": 0.3449686144136678, \"component 1\": -0.0555615762367695, \"variable\": \"row\", \"value\": \"670\", \"label\": 670}, {\"component 0\": 0.19139442240458715, \"component 1\": 0.07787326278621234, \"variable\": \"row\", \"value\": \"672\", \"label\": 672}, {\"component 0\": 0.6584998021334243, \"component 1\": -0.03250480535191498, \"variable\": \"row\", \"value\": \"673\", \"label\": 673}, {\"component 0\": 0.3817852067168098, \"component 1\": -0.1229384706399806, \"variable\": \"row\", \"value\": \"674\", \"label\": 674}, {\"component 0\": 0.1202393188657086, \"component 1\": -0.014920086999715695, \"variable\": \"row\", \"value\": \"675\", \"label\": 675}, {\"component 0\": 0.41118689603197484, \"component 1\": 0.14232618182942652, \"variable\": \"row\", \"value\": \"676\", \"label\": 676}, {\"component 0\": 0.5134166230438578, \"component 1\": 0.07444835021902883, \"variable\": \"row\", \"value\": \"677\", \"label\": 677}, {\"component 0\": 0.555574713891892, \"component 1\": -0.13238809090573608, \"variable\": \"row\", \"value\": \"678\", \"label\": 678}, {\"component 0\": 0.3308454183439329, \"component 1\": -0.09174660166868231, \"variable\": \"row\", \"value\": \"679\", \"label\": 679}, {\"component 0\": 0.1202393188657086, \"component 1\": -0.014920086999715695, \"variable\": \"row\", \"value\": \"680\", \"label\": 680}, {\"component 0\": -0.018611715077555935, \"component 1\": -0.18682969179662298, \"variable\": \"row\", \"value\": \"681\", \"label\": 681}, {\"component 0\": 0.555574713891892, \"component 1\": -0.13238809090573608, \"variable\": \"row\", \"value\": \"682\", \"label\": 682}, {\"component 0\": 0.3449686144136678, \"component 1\": -0.0555615762367695, \"variable\": \"row\", \"value\": \"683\", \"label\": 683}, {\"component 0\": 0.27487465627348384, \"component 1\": 0.03747710828812906, \"variable\": \"row\", \"value\": \"684\", \"label\": 684}, {\"component 0\": 0.32208284871554205, \"component 1\": 0.18480783438609202, \"variable\": \"row\", \"value\": \"685\", \"label\": 685}, {\"component 0\": 0.7865230429787131, \"component 1\": -0.0816117666827735, \"variable\": \"row\", \"value\": \"686\", \"label\": 686}, {\"component 0\": 0.19199438440066818, \"component 1\": -0.2636562064655896, \"variable\": \"row\", \"value\": \"687\", \"label\": 687}, {\"component 0\": 0.1654253116453842, \"component 1\": 0.1308321559606289, \"variable\": \"row\", \"value\": \"688\", \"label\": 688}, {\"component 0\": -0.4630210278148852, \"component 1\": -0.2917138458601804, \"variable\": \"row\", \"value\": \"689\", \"label\": 689}, {\"component 0\": 0.49307439343526105, \"component 1\": -0.05315448867290034, \"variable\": \"row\", \"value\": \"690\", \"label\": 690}, {\"component 0\": 0.1202393188657086, \"component 1\": -0.014920086999715695, \"variable\": \"row\", \"value\": \"691\", \"label\": 691}, {\"component 0\": -0.26555303944854214, \"component 1\": -0.13997322837658008, \"variable\": \"row\", \"value\": \"692\", \"label\": 692}, {\"component 0\": 0.3308454183439329, \"component 1\": -0.09174660166868231, \"variable\": \"row\", \"value\": \"693\", \"label\": 693}, {\"component 0\": 0.5551851476481059, \"component 1\": -0.2927511689635802, \"variable\": \"row\", \"value\": \"694\", \"label\": 694}, {\"component 0\": 0.1654253116453842, \"component 1\": 0.1308321559606289, \"variable\": \"row\", \"value\": \"695\", \"label\": 695}, {\"component 0\": 0.1202393188657086, \"component 1\": -0.014920086999715695, \"variable\": \"row\", \"value\": \"696\", \"label\": 696}, {\"component 0\": 0.3308454183439329, \"component 1\": -0.09174660166868231, \"variable\": \"row\", \"value\": \"697\", \"label\": 697}, {\"component 0\": 0.35362339749591526, \"component 1\": 0.11646537578199434, \"variable\": \"row\", \"value\": \"698\", \"label\": 698}, {\"component 0\": 0.1202393188657086, \"component 1\": -0.014920086999715695, \"variable\": \"row\", \"value\": \"699\", \"label\": 699}, {\"component 0\": 0.202822177498644, \"component 1\": -0.042639640337823755, \"variable\": \"row\", \"value\": \"700\", \"label\": 700}, {\"component 0\": 0.1202393188657086, \"component 1\": -0.014920086999715695, \"variable\": \"row\", \"value\": \"701\", \"label\": 701}, {\"component 0\": 0.1202393188657086, \"component 1\": -0.014920086999715695, \"variable\": \"row\", \"value\": \"702\", \"label\": 702}, {\"component 0\": 0.19199438440066818, \"component 1\": -0.2636562064655896, \"variable\": \"row\", \"value\": \"703\", \"label\": 703}, {\"component 0\": 0.19139442240458715, \"component 1\": 0.07787326278621234, \"variable\": \"row\", \"value\": \"704\", \"label\": 704}, {\"component 0\": 0.5821868104543784, \"component 1\": -0.030883934287032802, \"variable\": \"row\", \"value\": \"705\", \"label\": 705}, {\"component 0\": 0.19199438440066818, \"component 1\": -0.2636562064655896, \"variable\": \"row\", \"value\": \"707\", \"label\": 707}, {\"component 0\": 0.14361726001377212, \"component 1\": -0.148237578800841, \"variable\": \"row\", \"value\": \"708\", \"label\": 708}, {\"component 0\": 0.3308454183439329, \"component 1\": -0.09174660166868231, \"variable\": \"row\", \"value\": \"709\", \"label\": 709}, {\"component 0\": 0.3308454183439329, \"component 1\": -0.09174660166868231, \"variable\": \"row\", \"value\": \"710\", \"label\": 710}, {\"component 0\": 0.026574277702119672, \"component 1\": -0.041077448836278424, \"variable\": \"row\", \"value\": \"711\", \"label\": 711}, {\"component 0\": 0.3308454183439329, \"component 1\": -0.09174660166868231, \"variable\": \"row\", \"value\": \"712\", \"label\": 712}, {\"component 0\": -0.13486461313758727, \"component 1\": -0.03303865677670042, \"variable\": \"row\", \"value\": \"713\", \"label\": 713}, {\"component 0\": 0.40200052188281143, \"component 1\": 0.0010467481172457649, \"variable\": \"row\", \"value\": \"714\", \"label\": 714}, {\"component 0\": 0.19139442240458715, \"component 1\": 0.07787326278621234, \"variable\": \"row\", \"value\": \"715\", \"label\": 715}, {\"component 0\": 0.27457724303360365, \"component 1\": -0.2913757598036977, \"variable\": \"row\", \"value\": \"716\", \"label\": 716}, {\"component 0\": 0.1202393188657086, \"component 1\": -0.014920086999715695, \"variable\": \"row\", \"value\": \"717\", \"label\": 717}, {\"component 0\": -0.4630210278148852, \"component 1\": -0.2917138458601804, \"variable\": \"row\", \"value\": \"718\", \"label\": 718}, {\"component 0\": 0.5551851476481059, \"component 1\": -0.2927511689635802, \"variable\": \"row\", \"value\": \"719\", \"label\": 719}, {\"component 0\": 0.5196864899977474, \"component 1\": 0.04834966794580295, \"variable\": \"row\", \"value\": \"720\", \"label\": 720}, {\"component 0\": 0.3308454183439329, \"component 1\": -0.09174660166868231, \"variable\": \"row\", \"value\": \"721\", \"label\": 721}, {\"component 0\": 0.3581067255255489, \"component 1\": -0.2841287083893364, \"variable\": \"row\", \"value\": \"722\", \"label\": 722}, {\"component 0\": 0.3449686144136678, \"component 1\": -0.0555615762367695, \"variable\": \"row\", \"value\": \"723\", \"label\": 723}, {\"component 0\": 0.2824682939570367, \"component 1\": 0.02367202599606626, \"variable\": \"row\", \"value\": \"724\", \"label\": 724}, {\"component 0\": 0.1202393188657086, \"component 1\": -0.014920086999715695, \"variable\": \"row\", \"value\": \"725\", \"label\": 725}, {\"component 0\": 0.3449686144136678, \"component 1\": -0.0555615762367695, \"variable\": \"row\", \"value\": \"726\", \"label\": 726}, {\"component 0\": 0.3308454183439329, \"component 1\": -0.09174660166868231, \"variable\": \"row\", \"value\": \"727\", \"label\": 727}, {\"component 0\": 0.3308454183439329, \"component 1\": -0.09174660166868231, \"variable\": \"row\", \"value\": \"728\", \"label\": 728}, {\"component 0\": 0.202822177498644, \"component 1\": -0.042639640337823755, \"variable\": \"row\", \"value\": \"729\", \"label\": 729}, {\"component 0\": 0.5071975895049959, \"component 1\": -0.016969463240987533, \"variable\": \"row\", \"value\": \"730\", \"label\": 730}, {\"component 0\": 0.1202393188657086, \"component 1\": -0.014920086999715695, \"variable\": \"row\", \"value\": \"731\", \"label\": 731}, {\"component 0\": 0.46190967272830297, \"component 1\": -0.15854545274229875, \"variable\": \"row\", \"value\": \"732\", \"label\": 732}, {\"component 0\": 0.4978622379462543, \"component 1\": -0.042601227760993725, \"variable\": \"row\", \"value\": \"733\", \"label\": 733}, {\"component 0\": 0.1202393188657086, \"component 1\": -0.014920086999715695, \"variable\": \"row\", \"value\": \"734\", \"label\": 734}, {\"component 0\": 0.3445790481698817, \"component 1\": -0.21592465429461355, \"variable\": \"row\", \"value\": \"735\", \"label\": 735}, {\"component 0\": 0.1654253116453842, \"component 1\": 0.1308321559606289, \"variable\": \"row\", \"value\": \"736\", \"label\": 736}, {\"component 0\": 0.2509277451766635, \"component 1\": 0.092014484600164, \"variable\": \"row\", \"value\": \"737\", \"label\": 737}, {\"component 0\": 0.2824682939570367, \"component 1\": 0.02367202599606626, \"variable\": \"row\", \"value\": \"738\", \"label\": 738}, {\"component 0\": -0.018611715077555935, \"component 1\": -0.18682969179662298, \"variable\": \"row\", \"value\": \"739\", \"label\": 739}, {\"component 0\": 0.3449686144136678, \"component 1\": -0.0555615762367695, \"variable\": \"row\", \"value\": \"740\", \"label\": 740}, {\"component 0\": 0.1202393188657086, \"component 1\": -0.014920086999715695, \"variable\": \"row\", \"value\": \"741\", \"label\": 741}, {\"component 0\": 0.5851716885788174, \"component 1\": -0.17428776924684503, \"variable\": \"row\", \"value\": \"742\", \"label\": 742}, {\"component 0\": 0.1202393188657086, \"component 1\": -0.014920086999715695, \"variable\": \"row\", \"value\": \"743\", \"label\": 743}, {\"component 0\": -0.2524149283366611, \"component 1\": -0.368540360529147, \"variable\": \"row\", \"value\": \"744\", \"label\": 744}, {\"component 0\": 0.202822177498644, \"component 1\": -0.042639640337823755, \"variable\": \"row\", \"value\": \"745\", \"label\": 745}, {\"component 0\": 0.19199438440066818, \"component 1\": -0.2636562064655896, \"variable\": \"row\", \"value\": \"746\", \"label\": 746}, {\"component 0\": 0.1202393188657086, \"component 1\": -0.014920086999715695, \"variable\": \"row\", \"value\": \"748\", \"label\": 748}, {\"component 0\": -0.4630210278148852, \"component 1\": -0.2917138458601804, \"variable\": \"row\", \"value\": \"749\", \"label\": 749}, {\"component 0\": 0.1967822289116615, \"component 1\": -0.253102945553683, \"variable\": \"row\", \"value\": \"750\", \"label\": 750}, {\"component 0\": 0.33388643188301415, \"component 1\": -0.10943849141144027, \"variable\": \"row\", \"value\": \"751\", \"label\": 751}, {\"component 0\": 0.1202393188657086, \"component 1\": -0.014920086999715695, \"variable\": \"row\", \"value\": \"752\", \"label\": 752}, {\"component 0\": 0.1202393188657086, \"component 1\": -0.014920086999715695, \"variable\": \"row\", \"value\": \"753\", \"label\": 753}, {\"component 0\": 0.22714986930903455, \"component 1\": -0.17533566592782535, \"variable\": \"row\", \"value\": \"754\", \"label\": 754}, {\"component 0\": 0.555574713891892, \"component 1\": -0.13238809090573608, \"variable\": \"row\", \"value\": \"755\", \"label\": 755}, {\"component 0\": -0.0320426767209588, \"component 1\": -0.020908461522971378, \"variable\": \"row\", \"value\": \"756\", \"label\": 756}, {\"component 0\": -0.018611715077555935, \"component 1\": -0.18682969179662298, \"variable\": \"row\", \"value\": \"757\", \"label\": 757}, {\"component 0\": 0.3449686144136678, \"component 1\": -0.0555615762367695, \"variable\": \"row\", \"value\": \"758\", \"label\": 758}, {\"component 0\": -0.4630210278148852, \"component 1\": -0.2917138458601804, \"variable\": \"row\", \"value\": \"759\", \"label\": 759}, {\"component 0\": 0.6470720470393674, \"component 1\": 0.08800809777212112, \"variable\": \"row\", \"value\": \"760\", \"label\": 760}, {\"component 0\": 0.3449686144136678, \"component 1\": -0.0555615762367695, \"variable\": \"row\", \"value\": \"761\", \"label\": 761}, {\"component 0\": 0.1654253116453842, \"component 1\": 0.1308321559606289, \"variable\": \"row\", \"value\": \"762\", \"label\": 762}, {\"component 0\": 0.484583380515747, \"component 1\": -0.026672805220862284, \"variable\": \"row\", \"value\": \"763\", \"label\": 763}, {\"component 0\": 0.3449686144136678, \"component 1\": -0.0555615762367695, \"variable\": \"row\", \"value\": \"764\", \"label\": 764}, {\"component 0\": 0.6381575725248274, \"component 1\": -0.16010764424384413, \"variable\": \"row\", \"value\": \"765\", \"label\": 765}, {\"component 0\": 0.3308454183439329, \"component 1\": -0.09174660166868231, \"variable\": \"row\", \"value\": \"766\", \"label\": 766}, {\"component 0\": 0.27487465627348384, \"component 1\": 0.03747710828812906, \"variable\": \"row\", \"value\": \"767\", \"label\": 767}, {\"component 0\": 0.5899595330898109, \"component 1\": -0.16373450833493844, \"variable\": \"row\", \"value\": \"768\", \"label\": 768}, {\"component 0\": 0.27487465627348384, \"component 1\": 0.03747710828812906, \"variable\": \"row\", \"value\": \"769\", \"label\": 769}, {\"component 0\": 0.202822177498644, \"component 1\": -0.042639640337823755, \"variable\": \"row\", \"value\": \"770\", \"label\": 770}, {\"component 0\": 0.3449686144136678, \"component 1\": -0.0555615762367695, \"variable\": \"row\", \"value\": \"771\", \"label\": 771}, {\"component 0\": 0.2061175804704031, \"component 1\": -0.22747118103367678, \"variable\": \"row\", \"value\": \"772\", \"label\": 772}, {\"component 0\": 0.1202393188657086, \"component 1\": -0.014920086999715695, \"variable\": \"row\", \"value\": \"773\", \"label\": 773}, {\"component 0\": 0.4275514730466032, \"component 1\": -0.08328112957487754, \"variable\": \"row\", \"value\": \"774\", \"label\": 774}, {\"component 0\": 0.3901546071933434, \"component 1\": 0.09019066672357506, \"variable\": \"row\", \"value\": \"775\", \"label\": 775}, {\"component 0\": 0.4275514730466032, \"component 1\": -0.08328112957487754, \"variable\": \"row\", \"value\": \"776\", \"label\": 776}, {\"component 0\": 0.4406895841584843, \"component 1\": -0.3118482617274444, \"variable\": \"row\", \"value\": \"777\", \"label\": 777}, {\"component 0\": 0.1654253116453842, \"component 1\": 0.1308321559606289, \"variable\": \"row\", \"value\": \"778\", \"label\": 778}, {\"component 0\": 0.202822177498644, \"component 1\": -0.042639640337823755, \"variable\": \"row\", \"value\": \"779\", \"label\": 779}, {\"component 0\": 0.40200052188281143, \"component 1\": 0.0010467481172457649, \"variable\": \"row\", \"value\": \"780\", \"label\": 780}, {\"component 0\": -0.018611715077555935, \"component 1\": -0.18682969179662298, \"variable\": \"row\", \"value\": \"781\", \"label\": 781}, {\"component 0\": 0.1202393188657086, \"component 1\": -0.014920086999715695, \"variable\": \"row\", \"value\": \"782\", \"label\": 782}, {\"component 0\": 0.3308454183439329, \"component 1\": -0.09174660166868231, \"variable\": \"row\", \"value\": \"783\", \"label\": 783}, {\"component 0\": 0.555574713891892, \"component 1\": -0.13238809090573608, \"variable\": \"row\", \"value\": \"784\", \"label\": 784}, {\"component 0\": 0.1202393188657086, \"component 1\": -0.014920086999715695, \"variable\": \"row\", \"value\": \"785\", \"label\": 785}, {\"component 0\": -0.21607970344389898, \"component 1\": -0.33857030928022325, \"variable\": \"row\", \"value\": \"786\", \"label\": 786}, {\"component 0\": 1.3262831028147326, \"component 1\": 0.16552503003535485, \"variable\": \"row\", \"value\": \"787\", \"label\": 787}, {\"component 0\": 0.202822177498644, \"component 1\": -0.042639640337823755, \"variable\": \"row\", \"value\": \"788\", \"label\": 788}, {\"component 0\": 0.507613331365821, \"component 1\": -0.03174309109919756, \"variable\": \"row\", \"value\": \"789\", \"label\": 789}, {\"component 0\": 0.1202393188657086, \"component 1\": -0.014920086999715695, \"variable\": \"row\", \"value\": \"790\", \"label\": 790}, {\"component 0\": -0.39186592427600664, \"component 1\": -0.1989204960742523, \"variable\": \"row\", \"value\": \"791\", \"label\": 791}, {\"component 0\": 0.4161237179525463, \"component 1\": 0.03723177354915855, \"variable\": \"row\", \"value\": \"792\", \"label\": 792}, {\"component 0\": 0.2509277451766635, \"component 1\": 0.092014484600164, \"variable\": \"row\", \"value\": \"793\", \"label\": 793}, {\"component 0\": 0.5518897446763468, \"component 1\": -0.10791962826772715, \"variable\": \"row\", \"value\": \"795\", \"label\": 795}, {\"component 0\": 0.3308454183439329, \"component 1\": -0.09174660166868231, \"variable\": \"row\", \"value\": \"796\", \"label\": 796}, {\"component 0\": 0.202822177498644, \"component 1\": -0.042639640337823755, \"variable\": \"row\", \"value\": \"797\", \"label\": 797}, {\"component 0\": 0.2824682939570367, \"component 1\": 0.02367202599606626, \"variable\": \"row\", \"value\": \"798\", \"label\": 798}, {\"component 0\": -0.018611715077555935, \"component 1\": -0.18682969179662298, \"variable\": \"row\", \"value\": \"799\", \"label\": 799}, {\"component 0\": 0.2824682939570367, \"component 1\": 0.02367202599606626, \"variable\": \"row\", \"value\": \"800\", \"label\": 800}, {\"component 0\": -0.2530148903327421, \"component 1\": -0.027010891277345007, \"variable\": \"row\", \"value\": \"801\", \"label\": 801}, {\"component 0\": 0.3901546071933434, \"component 1\": 0.09019066672357506, \"variable\": \"row\", \"value\": \"802\", \"label\": 802}, {\"component 0\": 0.2061175804704031, \"component 1\": -0.22747118103367678, \"variable\": \"row\", \"value\": \"803\", \"label\": 803}, {\"component 0\": 0.4275514730466032, \"component 1\": -0.08328112957487754, \"variable\": \"row\", \"value\": \"804\", \"label\": 804}, {\"component 0\": 0.40738832838988576, \"component 1\": -0.32992946022264963, \"variable\": \"row\", \"value\": \"805\", \"label\": 805}, {\"component 0\": 0.19199438440066818, \"component 1\": -0.2636562064655896, \"variable\": \"row\", \"value\": \"806\", \"label\": 806}, {\"component 0\": -0.4630210278148852, \"component 1\": -0.2917138458601804, \"variable\": \"row\", \"value\": \"807\", \"label\": 807}, {\"component 0\": 0.1202393188657086, \"component 1\": -0.014920086999715695, \"variable\": \"row\", \"value\": \"808\", \"label\": 808}, {\"component 0\": 0.40738832838988576, \"component 1\": -0.32992946022264963, \"variable\": \"row\", \"value\": \"809\", \"label\": 809}, {\"component 0\": 0.15539480377407497, \"component 1\": 0.07340045353804853, \"variable\": \"row\", \"value\": \"810\", \"label\": 810}, {\"component 0\": 0.2824682939570367, \"component 1\": 0.02367202599606626, \"variable\": \"row\", \"value\": \"811\", \"label\": 811}, {\"component 0\": -0.30838569040710995, \"component 1\": -0.23931665057233564, \"variable\": \"row\", \"value\": \"812\", \"label\": 812}, {\"component 0\": 0.202822177498644, \"component 1\": -0.042639640337823755, \"variable\": \"row\", \"value\": \"813\", \"label\": 813}, {\"component 0\": -0.26555303944854214, \"component 1\": -0.13997322837658008, \"variable\": \"row\", \"value\": \"814\", \"label\": 814}, {\"component 0\": 0.18880325279344773, \"component 1\": -0.0024853358404964593, \"variable\": \"row\", \"value\": \"815\", \"label\": 815}, {\"component 0\": 0.34877137396680735, \"component 1\": -0.3097604729093426, \"variable\": \"row\", \"value\": \"816\", \"label\": 816}, {\"component 0\": 0.3356332628549262, \"component 1\": -0.0811933407567757, \"variable\": \"row\", \"value\": \"817\", \"label\": 817}, {\"component 0\": 0.1202393188657086, \"component 1\": -0.014920086999715695, \"variable\": \"row\", \"value\": \"818\", \"label\": 818}, {\"component 0\": 0.1654253116453842, \"component 1\": 0.1308321559606289, \"variable\": \"row\", \"value\": \"819\", \"label\": 819}, {\"component 0\": 0.24800817027831967, \"component 1\": 0.10311260262252081, \"variable\": \"row\", \"value\": \"820\", \"label\": 820}, {\"component 0\": -0.018611715077555935, \"component 1\": -0.18682969179662298, \"variable\": \"row\", \"value\": \"821\", \"label\": 821}, {\"component 0\": 0.3581067255255489, \"component 1\": -0.2841287083893364, \"variable\": \"row\", \"value\": \"822\", \"label\": 822}, {\"component 0\": -0.4630210278148852, \"component 1\": -0.2917138458601804, \"variable\": \"row\", \"value\": \"823\", \"label\": 823}, {\"component 0\": 0.2824682939570367, \"component 1\": 0.02367202599606626, \"variable\": \"row\", \"value\": \"824\", \"label\": 824}, {\"component 0\": 0.49307439343526105, \"component 1\": -0.05315448867290034, \"variable\": \"row\", \"value\": \"825\", \"label\": 825}, {\"component 0\": 0.1654253116453842, \"component 1\": 0.1308321559606289, \"variable\": \"row\", \"value\": \"826\", \"label\": 826}, {\"component 0\": 0.27487465627348384, \"component 1\": 0.03747710828812906, \"variable\": \"row\", \"value\": \"827\", \"label\": 827}, {\"component 0\": 0.555574713891892, \"component 1\": -0.13238809090573608, \"variable\": \"row\", \"value\": \"828\", \"label\": 828}, {\"component 0\": 0.555574713891892, \"component 1\": -0.13238809090573608, \"variable\": \"row\", \"value\": \"829\", \"label\": 829}, {\"component 0\": 0.1202393188657086, \"component 1\": -0.014920086999715695, \"variable\": \"row\", \"value\": \"830\", \"label\": 830}, {\"component 0\": 0.1654253116453842, \"component 1\": 0.1308321559606289, \"variable\": \"row\", \"value\": \"831\", \"label\": 831}, {\"component 0\": 0.555574713891892, \"component 1\": -0.13238809090573608, \"variable\": \"row\", \"value\": \"832\", \"label\": 832}, {\"component 0\": 0.27457724303360365, \"component 1\": -0.2913757598036977, \"variable\": \"row\", \"value\": \"833\", \"label\": 833}, {\"component 0\": 0.49307439343526105, \"component 1\": -0.05315448867290034, \"variable\": \"row\", \"value\": \"834\", \"label\": 834}, {\"component 0\": 0.1202393188657086, \"component 1\": -0.014920086999715695, \"variable\": \"row\", \"value\": \"835\", \"label\": 835}, {\"component 0\": 0.5468121442635012, \"component 1\": 0.14416634514903823, \"variable\": \"row\", \"value\": \"836\", \"label\": 836}, {\"component 0\": 0.19199438440066818, \"component 1\": -0.2636562064655896, \"variable\": \"row\", \"value\": \"837\", \"label\": 837}, {\"component 0\": 0.1202393188657086, \"component 1\": -0.014920086999715695, \"variable\": \"row\", \"value\": \"838\", \"label\": 838}, {\"component 0\": 0.555574713891892, \"component 1\": -0.13238809090573608, \"variable\": \"row\", \"value\": \"839\", \"label\": 839}, {\"component 0\": 0.1202393188657086, \"component 1\": -0.014920086999715695, \"variable\": \"row\", \"value\": \"840\", \"label\": 840}, {\"component 0\": 0.1202393188657086, \"component 1\": -0.014920086999715695, \"variable\": \"row\", \"value\": \"841\", \"label\": 841}, {\"component 0\": 0.1202393188657086, \"component 1\": -0.014920086999715695, \"variable\": \"row\", \"value\": \"842\", \"label\": 842}, {\"component 0\": 0.27487465627348384, \"component 1\": 0.03747710828812906, \"variable\": \"row\", \"value\": \"843\", \"label\": 843}, {\"component 0\": 0.1202393188657086, \"component 1\": -0.014920086999715695, \"variable\": \"row\", \"value\": \"844\", \"label\": 844}, {\"component 0\": 0.19199438440066818, \"component 1\": -0.2636562064655896, \"variable\": \"row\", \"value\": \"845\", \"label\": 845}, {\"component 0\": 0.202822177498644, \"component 1\": -0.042639640337823755, \"variable\": \"row\", \"value\": \"847\", \"label\": 847}, {\"component 0\": 0.555574713891892, \"component 1\": -0.13238809090573608, \"variable\": \"row\", \"value\": \"848\", \"label\": 848}, {\"component 0\": 0.5325526511221306, \"component 1\": -0.1574671427366791, \"variable\": \"row\", \"value\": \"849\", \"label\": 849}, {\"component 0\": 0.3308454183439329, \"component 1\": -0.09174660166868231, \"variable\": \"row\", \"value\": \"850\", \"label\": 850}, {\"component 0\": -0.018611715077555935, \"component 1\": -0.18682969179662298, \"variable\": \"row\", \"value\": \"851\", \"label\": 851}, {\"component 0\": 0.49307439343526105, \"component 1\": -0.05315448867290034, \"variable\": \"row\", \"value\": \"852\", \"label\": 852}, {\"component 0\": 0.2824682939570367, \"component 1\": 0.02367202599606626, \"variable\": \"row\", \"value\": \"853\", \"label\": 853}, {\"component 0\": -0.26555303944854214, \"component 1\": -0.13997322837658008, \"variable\": \"row\", \"value\": \"854\", \"label\": 854}, {\"component 0\": 0.3308454183439329, \"component 1\": -0.09174660166868231, \"variable\": \"row\", \"value\": \"855\", \"label\": 855}, {\"component 0\": 0.1202393188657086, \"component 1\": -0.014920086999715695, \"variable\": \"row\", \"value\": \"856\", \"label\": 856}, {\"component 0\": 0.3308454183439329, \"component 1\": -0.09174660166868231, \"variable\": \"row\", \"value\": \"857\", \"label\": 857}, {\"component 0\": 0.19199438440066818, \"component 1\": -0.2636562064655896, \"variable\": \"row\", \"value\": \"858\", \"label\": 858}, {\"component 0\": 0.19199438440066818, \"component 1\": -0.2636562064655896, \"variable\": \"row\", \"value\": \"859\", \"label\": 859}, {\"component 0\": 0.3245510803242726, \"component 1\": -0.13507025593144645, \"variable\": \"row\", \"value\": \"860\", \"label\": 860}, {\"component 0\": 0.1202393188657086, \"component 1\": -0.014920086999715695, \"variable\": \"row\", \"value\": \"861\", \"label\": 861}], \"data-9dac96be03e32afd11a9881f5408c7af\": [{\"component 0\": 0.8261013738121933, \"component 1\": -0.14303803687172312, \"variable\": \"column\", \"value\": \"IDH1_0\", \"label\": \"IDH1_0\"}, {\"component 0\": -0.887294068168653, \"component 1\": 0.1536334470103694, \"variable\": \"column\", \"value\": \"IDH1_1\", \"label\": \"IDH1_1\"}, {\"component 0\": 0.39912865646368256, \"component 1\": 0.45092716319417014, \"variable\": \"column\", \"value\": \"TP53_0\", \"label\": \"TP53_0\"}, {\"component 0\": -0.5642853418969308, \"component 1\": -0.6375177134814121, \"variable\": \"column\", \"value\": \"TP53_1\", \"label\": \"TP53_1\"}, {\"component 0\": 0.35394923990011407, \"component 1\": 0.24819246497991193, \"variable\": \"column\", \"value\": \"ATRX_0\", \"label\": \"ATRX_0\"}, {\"component 0\": -1.0161768500358124, \"component 1\": -0.712552560748779, \"variable\": \"column\", \"value\": \"ATRX_1\", \"label\": \"ATRX_1\"}, {\"component 0\": -0.24528704187798697, \"component 1\": 0.08165020048938322, \"variable\": \"column\", \"value\": \"PTEN_0\", \"label\": \"PTEN_0\"}, {\"component 0\": 1.2159974629270378, \"component 1\": -0.40477652583034696, \"variable\": \"column\", \"value\": \"PTEN_1\", \"label\": \"PTEN_1\"}, {\"component 0\": -0.20790372053077583, \"component 1\": 0.03430952043491906, \"variable\": \"column\", \"value\": \"EGFR_0\", \"label\": \"EGFR_0\"}, {\"component 0\": 1.3513741834500443, \"component 1\": -0.22301188282697113, \"variable\": \"column\", \"value\": \"EGFR_1\", \"label\": \"EGFR_1\"}, {\"component 0\": 0.07249414890831338, \"component 1\": -0.30330338210148766, \"variable\": \"column\", \"value\": \"CIC_0\", \"label\": \"CIC_0\"}, {\"component 0\": -0.47611022120865204, \"component 1\": 1.991965455423284, \"variable\": \"column\", \"value\": \"CIC_1\", \"label\": \"CIC_1\"}, {\"component 0\": -0.0668498652122397, \"component 1\": 0.020475726274059858, \"variable\": \"column\", \"value\": \"MUC16_0\", \"label\": \"MUC16_0\"}, {\"component 0\": 0.5061489794640983, \"component 1\": -0.155030498932166, \"variable\": \"column\", \"value\": \"MUC16_1\", \"label\": \"MUC16_1\"}, {\"component 0\": -0.02724653229877183, \"component 1\": -0.08019829186512813, \"variable\": \"column\", \"value\": \"PIK3CA_0\", \"label\": \"PIK3CA_0\"}, {\"component 0\": 0.28627520922134403, \"component 1\": 0.842631367952784, \"variable\": \"column\", \"value\": \"PIK3CA_1\", \"label\": \"PIK3CA_1\"}, {\"component 0\": -0.08978168985762199, \"component 1\": -0.01948948538859715, \"variable\": \"column\", \"value\": \"NF1_0\", \"label\": \"NF1_0\"}, {\"component 0\": 1.0358394964170397, \"component 1\": 0.2248563015729214, \"variable\": \"column\", \"value\": \"NF1_1\", \"label\": \"NF1_1\"}, {\"component 0\": -0.03173835130643299, \"component 1\": -0.037769185918977516, \"variable\": \"column\", \"value\": \"PIK3R1_0\", \"label\": \"PIK3R1_0\"}, {\"component 0\": 0.4619693356825244, \"component 1\": 0.5497514839317836, \"variable\": \"column\", \"value\": \"PIK3R1_1\", \"label\": \"PIK3R1_1\"}, {\"component 0\": 0.03044861966379747, \"component 1\": -0.16445223710058443, \"variable\": \"column\", \"value\": \"FUBP1_0\", \"label\": \"FUBP1_0\"}, {\"component 0\": -0.5379256140604269, \"component 1\": 2.9053228554436585, \"variable\": \"column\", \"value\": \"FUBP1_1\", \"label\": \"FUBP1_1\"}, {\"component 0\": -0.07116689664012628, \"component 1\": 0.01998137157681875, \"variable\": \"column\", \"value\": \"RB1_0\", \"label\": \"RB1_0\"}, {\"component 0\": 1.423337932802522, \"component 1\": -0.39962743153637714, \"variable\": \"column\", \"value\": \"RB1_1\", \"label\": \"RB1_1\"}, {\"component 0\": 0.039070155084192315, \"component 1\": -0.10383817404239887, \"variable\": \"column\", \"value\": \"NOTCH1_0\", \"label\": \"NOTCH1_0\"}, {\"component 0\": -0.8245859046716497, \"component 1\": 2.1915319890001035, \"variable\": \"column\", \"value\": \"NOTCH1_1\", \"label\": \"NOTCH1_1\"}, {\"component 0\": -0.008421232129330852, \"component 1\": -0.01930575221180946, \"variable\": \"column\", \"value\": \"BCOR_0\", \"label\": \"BCOR_0\"}, {\"component 0\": 0.23550411230645224, \"component 1\": 0.5398953463371474, \"variable\": \"column\", \"value\": \"BCOR_1\", \"label\": \"BCOR_1\"}, {\"component 0\": -0.030879996554634442, \"component 1\": -0.0023498608258685355, \"variable\": \"column\", \"value\": \"CSMD3_0\", \"label\": \"CSMD3_0\"}, {\"component 0\": 0.9298310073673084, \"component 1\": 0.07075692042337212, \"variable\": \"column\", \"value\": \"CSMD3_1\", \"label\": \"CSMD3_1\"}, {\"component 0\": 0.013024415863974792, \"component 1\": -0.008138766654322893, \"variable\": \"column\", \"value\": \"SMARCA4_0\", \"label\": \"SMARCA4_0\"}, {\"component 0\": -0.39217963323748406, \"component 1\": 0.24506730703572036, \"variable\": \"column\", \"value\": \"SMARCA4_1\", \"label\": \"SMARCA4_1\"}, {\"component 0\": -0.05150663014766252, \"component 1\": -0.010333609220292445, \"variable\": \"column\", \"value\": \"GRIN2A_0\", \"label\": \"GRIN2A_0\"}, {\"component 0\": 1.5509218633351551, \"component 1\": 0.311156455411024, \"variable\": \"column\", \"value\": \"GRIN2A_1\", \"label\": \"GRIN2A_1\"}, {\"component 0\": -0.01622844771787335, \"component 1\": -0.030558937447672282, \"variable\": \"column\", \"value\": \"IDH2_0\", \"label\": \"IDH2_0\"}, {\"component 0\": 0.5764626863262005, \"component 1\": 1.0855066041194963, \"variable\": \"column\", \"value\": \"IDH2_1\", \"label\": \"IDH2_1\"}, {\"component 0\": -0.02482844454291558, \"component 1\": -0.018538431280168702, \"variable\": \"column\", \"value\": \"FAT4_0\", \"label\": \"FAT4_0\"}, {\"component 0\": 0.8819495300679163, \"component 1\": 0.6585173198216513, \"variable\": \"column\", \"value\": \"FAT4_1\", \"label\": \"FAT4_1\"}, {\"component 0\": -0.02810062473770658, \"component 1\": -0.008688758633416428, \"variable\": \"column\", \"value\": \"PDGFRA_0\", \"label\": \"PDGFRA_0\"}, {\"component 0\": 1.044832319792909, \"component 1\": 0.3230638437333976, \"variable\": \"column\", \"value\": \"PDGFRA_1\", \"label\": \"PDGFRA_1\"}]}}, {\"mode\": \"vega-lite\"});\n",
       "</script>"
      ],
      "text/plain": [
       "alt.LayerChart(...)"
      ]
     },
     "execution_count": 78,
     "metadata": {},
     "output_type": "execute_result"
    }
   ],
   "source": [
    "#new mca \n",
    "mc2 = prince.MCA(one_hot=False)\n",
    "mc2 = prince.MCA(n_components=2).fit(allgenes)\n",
    "mc2.plot(allgenes) # ax=ax)#(df[cols_list])\n",
    "\n"
   ]
  },
  {
   "cell_type": "code",
   "execution_count": 79,
   "metadata": {},
   "outputs": [
    {
     "name": "stdout",
     "output_type": "stream",
     "text": [
      "Eigenvalues: [0.12035598 0.10021959]\n",
      "Row coordinates:\n",
      "            0         1\n",
      "0   -0.163432  0.662531\n",
      "1   -0.205769  0.394452\n",
      "2   -0.463021 -0.291714\n",
      "3   -0.178595 -0.119705\n",
      "4   -0.463021 -0.291714\n",
      "..        ...       ...\n",
      "857  0.330845 -0.091747\n",
      "858  0.191994 -0.263656\n",
      "859  0.191994 -0.263656\n",
      "860  0.324551 -0.135070\n",
      "861  0.120239 -0.014920\n",
      "\n",
      "[840 rows x 2 columns]\n",
      "Column coordinates:\n",
      "                  0         1\n",
      "IDH1_0     0.826101 -0.143038\n",
      "IDH1_1    -0.887294  0.153633\n",
      "TP53_0     0.399129  0.450927\n",
      "TP53_1    -0.564285 -0.637518\n",
      "ATRX_0     0.353949  0.248192\n",
      "ATRX_1    -1.016177 -0.712553\n",
      "PTEN_0    -0.245287  0.081650\n",
      "PTEN_1     1.215997 -0.404777\n",
      "EGFR_0    -0.207904  0.034310\n",
      "EGFR_1     1.351374 -0.223012\n",
      "CIC_0      0.072494 -0.303303\n",
      "CIC_1     -0.476110  1.991965\n",
      "MUC16_0   -0.066850  0.020476\n",
      "MUC16_1    0.506149 -0.155030\n",
      "PIK3CA_0  -0.027247 -0.080198\n",
      "PIK3CA_1   0.286275  0.842631\n",
      "NF1_0     -0.089782 -0.019489\n",
      "NF1_1      1.035839  0.224856\n",
      "PIK3R1_0  -0.031738 -0.037769\n",
      "PIK3R1_1   0.461969  0.549751\n",
      "FUBP1_0    0.030449 -0.164452\n",
      "FUBP1_1   -0.537926  2.905323\n",
      "RB1_0     -0.071167  0.019981\n",
      "RB1_1      1.423338 -0.399627\n",
      "NOTCH1_0   0.039070 -0.103838\n",
      "NOTCH1_1  -0.824586  2.191532\n",
      "BCOR_0    -0.008421 -0.019306\n",
      "BCOR_1     0.235504  0.539895\n",
      "CSMD3_0   -0.030880 -0.002350\n",
      "CSMD3_1    0.929831  0.070757\n",
      "SMARCA4_0  0.013024 -0.008139\n",
      "SMARCA4_1 -0.392180  0.245067\n",
      "GRIN2A_0  -0.051507 -0.010334\n",
      "GRIN2A_1   1.550922  0.311156\n",
      "IDH2_0    -0.016228 -0.030559\n",
      "IDH2_1     0.576463  1.085507\n",
      "FAT4_0    -0.024828 -0.018538\n",
      "FAT4_1     0.881950  0.658517\n",
      "PDGFRA_0  -0.028101 -0.008689\n",
      "PDGFRA_1   1.044832  0.323064\n"
     ]
    }
   ],
   "source": [
    "# Eigenvalues\n",
    "print(\"Eigenvalues:\", mc2.eigenvalues_)\n",
    "\n",
    "# Row coordinates\n",
    "print(\"Row coordinates:\")\n",
    "print(mc2.row_coordinates(allgenes))\n",
    "\n",
    "\n",
    "# Column coordinates\n",
    "print(\"Column coordinates:\")\n",
    "print(mc2.column_coordinates(allgenes))"
   ]
  },
  {
   "cell_type": "code",
   "execution_count": 81,
   "metadata": {},
   "outputs": [
    {
     "data": {
      "text/html": [
       "<style type=\"text/css\">\n",
       "</style>\n",
       "<table id=\"T_37aa1\">\n",
       "  <thead>\n",
       "    <tr>\n",
       "      <th class=\"blank level0\" >&nbsp;</th>\n",
       "      <th id=\"T_37aa1_level0_col0\" class=\"col_heading level0 col0\" >0</th>\n",
       "      <th id=\"T_37aa1_level0_col1\" class=\"col_heading level0 col1\" >1</th>\n",
       "    </tr>\n",
       "  </thead>\n",
       "  <tbody>\n",
       "    <tr>\n",
       "      <th id=\"T_37aa1_level0_row0\" class=\"row_heading level0 row0\" >IDH1_0</th>\n",
       "      <td id=\"T_37aa1_row0_col0\" class=\"data row0 col0\" >15%</td>\n",
       "      <td id=\"T_37aa1_row0_col1\" class=\"data row0 col1\" >1%</td>\n",
       "    </tr>\n",
       "    <tr>\n",
       "      <th id=\"T_37aa1_level0_row1\" class=\"row_heading level0 row1\" >IDH1_1</th>\n",
       "      <td id=\"T_37aa1_row1_col0\" class=\"data row1 col0\" >16%</td>\n",
       "      <td id=\"T_37aa1_row1_col1\" class=\"data row1 col1\" >1%</td>\n",
       "    </tr>\n",
       "    <tr>\n",
       "      <th id=\"T_37aa1_level0_row2\" class=\"row_heading level0 row2\" >TP53_0</th>\n",
       "      <td id=\"T_37aa1_row2_col0\" class=\"data row2 col0\" >4%</td>\n",
       "      <td id=\"T_37aa1_row2_col1\" class=\"data row2 col1\" >6%</td>\n",
       "    </tr>\n",
       "    <tr>\n",
       "      <th id=\"T_37aa1_level0_row3\" class=\"row_heading level0 row3\" >TP53_1</th>\n",
       "      <td id=\"T_37aa1_row3_col0\" class=\"data row3 col0\" >5%</td>\n",
       "      <td id=\"T_37aa1_row3_col1\" class=\"data row3 col1\" >8%</td>\n",
       "    </tr>\n",
       "    <tr>\n",
       "      <th id=\"T_37aa1_level0_row4\" class=\"row_heading level0 row4\" >ATRX_0</th>\n",
       "      <td id=\"T_37aa1_row4_col0\" class=\"data row4 col0\" >4%</td>\n",
       "      <td id=\"T_37aa1_row4_col1\" class=\"data row4 col1\" >2%</td>\n",
       "    </tr>\n",
       "    <tr>\n",
       "      <th id=\"T_37aa1_level0_row5\" class=\"row_heading level0 row5\" >ATRX_1</th>\n",
       "      <td id=\"T_37aa1_row5_col0\" class=\"data row5 col0\" >11%</td>\n",
       "      <td id=\"T_37aa1_row5_col1\" class=\"data row5 col1\" >7%</td>\n",
       "    </tr>\n",
       "    <tr>\n",
       "      <th id=\"T_37aa1_level0_row6\" class=\"row_heading level0 row6\" >PTEN_0</th>\n",
       "      <td id=\"T_37aa1_row6_col0\" class=\"data row6 col0\" >2%</td>\n",
       "      <td id=\"T_37aa1_row6_col1\" class=\"data row6 col1\" >0%</td>\n",
       "    </tr>\n",
       "    <tr>\n",
       "      <th id=\"T_37aa1_level0_row7\" class=\"row_heading level0 row7\" >PTEN_1</th>\n",
       "      <td id=\"T_37aa1_row7_col0\" class=\"data row7 col0\" >10%</td>\n",
       "      <td id=\"T_37aa1_row7_col1\" class=\"data row7 col1\" >1%</td>\n",
       "    </tr>\n",
       "    <tr>\n",
       "      <th id=\"T_37aa1_level0_row8\" class=\"row_heading level0 row8\" >EGFR_0</th>\n",
       "      <td id=\"T_37aa1_row8_col0\" class=\"data row8 col0\" >2%</td>\n",
       "      <td id=\"T_37aa1_row8_col1\" class=\"data row8 col1\" >0%</td>\n",
       "    </tr>\n",
       "    <tr>\n",
       "      <th id=\"T_37aa1_level0_row9\" class=\"row_heading level0 row9\" >EGFR_1</th>\n",
       "      <td id=\"T_37aa1_row9_col0\" class=\"data row9 col0\" >10%</td>\n",
       "      <td id=\"T_37aa1_row9_col1\" class=\"data row9 col1\" >0%</td>\n",
       "    </tr>\n",
       "    <tr>\n",
       "      <th id=\"T_37aa1_level0_row10\" class=\"row_heading level0 row10\" >CIC_0</th>\n",
       "      <td id=\"T_37aa1_row10_col0\" class=\"data row10 col0\" >0%</td>\n",
       "      <td id=\"T_37aa1_row10_col1\" class=\"data row10 col1\" >4%</td>\n",
       "    </tr>\n",
       "    <tr>\n",
       "      <th id=\"T_37aa1_level0_row11\" class=\"row_heading level0 row11\" >CIC_1</th>\n",
       "      <td id=\"T_37aa1_row11_col0\" class=\"data row11 col0\" >1%</td>\n",
       "      <td id=\"T_37aa1_row11_col1\" class=\"data row11 col1\" >26%</td>\n",
       "    </tr>\n",
       "    <tr>\n",
       "      <th id=\"T_37aa1_level0_row12\" class=\"row_heading level0 row12\" >MUC16_0</th>\n",
       "      <td id=\"T_37aa1_row12_col0\" class=\"data row12 col0\" >0%</td>\n",
       "      <td id=\"T_37aa1_row12_col1\" class=\"data row12 col1\" >0%</td>\n",
       "    </tr>\n",
       "    <tr>\n",
       "      <th id=\"T_37aa1_level0_row13\" class=\"row_heading level0 row13\" >MUC16_1</th>\n",
       "      <td id=\"T_37aa1_row13_col0\" class=\"data row13 col0\" >1%</td>\n",
       "      <td id=\"T_37aa1_row13_col1\" class=\"data row13 col1\" >0%</td>\n",
       "    </tr>\n",
       "    <tr>\n",
       "      <th id=\"T_37aa1_level0_row14\" class=\"row_heading level0 row14\" >PIK3CA_0</th>\n",
       "      <td id=\"T_37aa1_row14_col0\" class=\"data row14 col0\" >0%</td>\n",
       "      <td id=\"T_37aa1_row14_col1\" class=\"data row14 col1\" >0%</td>\n",
       "    </tr>\n",
       "    <tr>\n",
       "      <th id=\"T_37aa1_level0_row15\" class=\"row_heading level0 row15\" >PIK3CA_1</th>\n",
       "      <td id=\"T_37aa1_row15_col0\" class=\"data row15 col0\" >0%</td>\n",
       "      <td id=\"T_37aa1_row15_col1\" class=\"data row15 col1\" >3%</td>\n",
       "    </tr>\n",
       "    <tr>\n",
       "      <th id=\"T_37aa1_level0_row16\" class=\"row_heading level0 row16\" >NF1_0</th>\n",
       "      <td id=\"T_37aa1_row16_col0\" class=\"data row16 col0\" >0%</td>\n",
       "      <td id=\"T_37aa1_row16_col1\" class=\"data row16 col1\" >0%</td>\n",
       "    </tr>\n",
       "    <tr>\n",
       "      <th id=\"T_37aa1_level0_row17\" class=\"row_heading level0 row17\" >NF1_1</th>\n",
       "      <td id=\"T_37aa1_row17_col0\" class=\"data row17 col0\" >4%</td>\n",
       "      <td id=\"T_37aa1_row17_col1\" class=\"data row17 col1\" >0%</td>\n",
       "    </tr>\n",
       "    <tr>\n",
       "      <th id=\"T_37aa1_level0_row18\" class=\"row_heading level0 row18\" >PIK3R1_0</th>\n",
       "      <td id=\"T_37aa1_row18_col0\" class=\"data row18 col0\" >0%</td>\n",
       "      <td id=\"T_37aa1_row18_col1\" class=\"data row18 col1\" >0%</td>\n",
       "    </tr>\n",
       "    <tr>\n",
       "      <th id=\"T_37aa1_level0_row19\" class=\"row_heading level0 row19\" >PIK3R1_1</th>\n",
       "      <td id=\"T_37aa1_row19_col0\" class=\"data row19 col0\" >1%</td>\n",
       "      <td id=\"T_37aa1_row19_col1\" class=\"data row19 col1\" >1%</td>\n",
       "    </tr>\n",
       "    <tr>\n",
       "      <th id=\"T_37aa1_level0_row20\" class=\"row_heading level0 row20\" >FUBP1_0</th>\n",
       "      <td id=\"T_37aa1_row20_col0\" class=\"data row20 col0\" >0%</td>\n",
       "      <td id=\"T_37aa1_row20_col1\" class=\"data row20 col1\" >1%</td>\n",
       "    </tr>\n",
       "    <tr>\n",
       "      <th id=\"T_37aa1_level0_row21\" class=\"row_heading level0 row21\" >FUBP1_1</th>\n",
       "      <td id=\"T_37aa1_row21_col0\" class=\"data row21 col0\" >1%</td>\n",
       "      <td id=\"T_37aa1_row21_col1\" class=\"data row21 col1\" >23%</td>\n",
       "    </tr>\n",
       "    <tr>\n",
       "      <th id=\"T_37aa1_level0_row22\" class=\"row_heading level0 row22\" >RB1_0</th>\n",
       "      <td id=\"T_37aa1_row22_col0\" class=\"data row22 col0\" >0%</td>\n",
       "      <td id=\"T_37aa1_row22_col1\" class=\"data row22 col1\" >0%</td>\n",
       "    </tr>\n",
       "    <tr>\n",
       "      <th id=\"T_37aa1_level0_row23\" class=\"row_heading level0 row23\" >RB1_1</th>\n",
       "      <td id=\"T_37aa1_row23_col0\" class=\"data row23 col0\" >4%</td>\n",
       "      <td id=\"T_37aa1_row23_col1\" class=\"data row23 col1\" >0%</td>\n",
       "    </tr>\n",
       "    <tr>\n",
       "      <th id=\"T_37aa1_level0_row24\" class=\"row_heading level0 row24\" >NOTCH1_0</th>\n",
       "      <td id=\"T_37aa1_row24_col0\" class=\"data row24 col0\" >0%</td>\n",
       "      <td id=\"T_37aa1_row24_col1\" class=\"data row24 col1\" >1%</td>\n",
       "    </tr>\n",
       "    <tr>\n",
       "      <th id=\"T_37aa1_level0_row25\" class=\"row_heading level0 row25\" >NOTCH1_1</th>\n",
       "      <td id=\"T_37aa1_row25_col0\" class=\"data row25 col0\" >1%</td>\n",
       "      <td id=\"T_37aa1_row25_col1\" class=\"data row25 col1\" >11%</td>\n",
       "    </tr>\n",
       "    <tr>\n",
       "      <th id=\"T_37aa1_level0_row26\" class=\"row_heading level0 row26\" >BCOR_0</th>\n",
       "      <td id=\"T_37aa1_row26_col0\" class=\"data row26 col0\" >0%</td>\n",
       "      <td id=\"T_37aa1_row26_col1\" class=\"data row26 col1\" >0%</td>\n",
       "    </tr>\n",
       "    <tr>\n",
       "      <th id=\"T_37aa1_level0_row27\" class=\"row_heading level0 row27\" >BCOR_1</th>\n",
       "      <td id=\"T_37aa1_row27_col0\" class=\"data row27 col0\" >0%</td>\n",
       "      <td id=\"T_37aa1_row27_col1\" class=\"data row27 col1\" >1%</td>\n",
       "    </tr>\n",
       "    <tr>\n",
       "      <th id=\"T_37aa1_level0_row28\" class=\"row_heading level0 row28\" >CSMD3_0</th>\n",
       "      <td id=\"T_37aa1_row28_col0\" class=\"data row28 col0\" >0%</td>\n",
       "      <td id=\"T_37aa1_row28_col1\" class=\"data row28 col1\" >0%</td>\n",
       "    </tr>\n",
       "    <tr>\n",
       "      <th id=\"T_37aa1_level0_row29\" class=\"row_heading level0 row29\" >CSMD3_1</th>\n",
       "      <td id=\"T_37aa1_row29_col0\" class=\"data row29 col0\" >1%</td>\n",
       "      <td id=\"T_37aa1_row29_col1\" class=\"data row29 col1\" >0%</td>\n",
       "    </tr>\n",
       "    <tr>\n",
       "      <th id=\"T_37aa1_level0_row30\" class=\"row_heading level0 row30\" >SMARCA4_0</th>\n",
       "      <td id=\"T_37aa1_row30_col0\" class=\"data row30 col0\" >0%</td>\n",
       "      <td id=\"T_37aa1_row30_col1\" class=\"data row30 col1\" >0%</td>\n",
       "    </tr>\n",
       "    <tr>\n",
       "      <th id=\"T_37aa1_level0_row31\" class=\"row_heading level0 row31\" >SMARCA4_1</th>\n",
       "      <td id=\"T_37aa1_row31_col0\" class=\"data row31 col0\" >0%</td>\n",
       "      <td id=\"T_37aa1_row31_col1\" class=\"data row31 col1\" >0%</td>\n",
       "    </tr>\n",
       "    <tr>\n",
       "      <th id=\"T_37aa1_level0_row32\" class=\"row_heading level0 row32\" >GRIN2A_0</th>\n",
       "      <td id=\"T_37aa1_row32_col0\" class=\"data row32 col0\" >0%</td>\n",
       "      <td id=\"T_37aa1_row32_col1\" class=\"data row32 col1\" >0%</td>\n",
       "    </tr>\n",
       "    <tr>\n",
       "      <th id=\"T_37aa1_level0_row33\" class=\"row_heading level0 row33\" >GRIN2A_1</th>\n",
       "      <td id=\"T_37aa1_row33_col0\" class=\"data row33 col0\" >3%</td>\n",
       "      <td id=\"T_37aa1_row33_col1\" class=\"data row33 col1\" >0%</td>\n",
       "    </tr>\n",
       "    <tr>\n",
       "      <th id=\"T_37aa1_level0_row34\" class=\"row_heading level0 row34\" >IDH2_0</th>\n",
       "      <td id=\"T_37aa1_row34_col0\" class=\"data row34 col0\" >0%</td>\n",
       "      <td id=\"T_37aa1_row34_col1\" class=\"data row34 col1\" >0%</td>\n",
       "    </tr>\n",
       "    <tr>\n",
       "      <th id=\"T_37aa1_level0_row35\" class=\"row_heading level0 row35\" >IDH2_1</th>\n",
       "      <td id=\"T_37aa1_row35_col0\" class=\"data row35 col0\" >0%</td>\n",
       "      <td id=\"T_37aa1_row35_col1\" class=\"data row35 col1\" >2%</td>\n",
       "    </tr>\n",
       "    <tr>\n",
       "      <th id=\"T_37aa1_level0_row36\" class=\"row_heading level0 row36\" >FAT4_0</th>\n",
       "      <td id=\"T_37aa1_row36_col0\" class=\"data row36 col0\" >0%</td>\n",
       "      <td id=\"T_37aa1_row36_col1\" class=\"data row36 col1\" >0%</td>\n",
       "    </tr>\n",
       "    <tr>\n",
       "      <th id=\"T_37aa1_level0_row37\" class=\"row_heading level0 row37\" >FAT4_1</th>\n",
       "      <td id=\"T_37aa1_row37_col0\" class=\"data row37 col0\" >1%</td>\n",
       "      <td id=\"T_37aa1_row37_col1\" class=\"data row37 col1\" >1%</td>\n",
       "    </tr>\n",
       "    <tr>\n",
       "      <th id=\"T_37aa1_level0_row38\" class=\"row_heading level0 row38\" >PDGFRA_0</th>\n",
       "      <td id=\"T_37aa1_row38_col0\" class=\"data row38 col0\" >0%</td>\n",
       "      <td id=\"T_37aa1_row38_col1\" class=\"data row38 col1\" >0%</td>\n",
       "    </tr>\n",
       "    <tr>\n",
       "      <th id=\"T_37aa1_level0_row39\" class=\"row_heading level0 row39\" >PDGFRA_1</th>\n",
       "      <td id=\"T_37aa1_row39_col0\" class=\"data row39 col0\" >1%</td>\n",
       "      <td id=\"T_37aa1_row39_col1\" class=\"data row39 col1\" >0%</td>\n",
       "    </tr>\n",
       "  </tbody>\n",
       "</table>\n"
      ],
      "text/plain": [
       "<pandas.io.formats.style.Styler at 0x7fe42048f2e0>"
      ]
     },
     "execution_count": 81,
     "metadata": {},
     "output_type": "execute_result"
    }
   ],
   "source": [
    "mc2.column_contributions_.style.format('{:.0%}')"
   ]
  },
  {
   "cell_type": "markdown",
   "metadata": {},
   "source": [
    "We will explain that we had initially hypothesized to use PCA because of the high dimensionality of the dataset. \n",
    "However, upon inspecting feature correlations (which we DID NOT DO WELL) and determining that we cannot establish a complete lack of linear correlation (bc of MENTION CORRELATIONS AND PAPER BACKED UP EVIDENCE) between features, we decided not to perform feature scaling. "
   ]
  },
  {
   "cell_type": "markdown",
   "metadata": {},
   "source": [
    "Yes, PCA can be applied even if there are many binary columns in your dataset. PCA operates on the correlation structure of the data, and it can be applied regardless of the type of data (binary, categorical, numerical, etc.). However, whether it's effective or advisable to use PCA with binary data depends on the specific characteristics of your dataset and your objectives.\n",
    "\n",
    "When applying PCA to binary data, it's essential to consider a few points:\n",
    "\n",
    "### Sparsity and Interpretation:\n",
    "- **Sparsity:** Binary data often leads to sparse matrices, which might affect the effectiveness of PCA.\n",
    "- **Interpretation:** Interpretability might be reduced as the principal components become linear combinations of binary variables.\n",
    "\n",
    "### Variance Explained:\n",
    "- **Explained Variance:** With binary data, the variance might not be well captured by principal components compared to continuous variables.\n",
    "\n",
    "### Dimensionality Reduction:\n",
    "- **Reducing Dimensionality:** Despite the above challenges, PCA might still help in reducing dimensionality and might be beneficial if the binary variables are highly correlated.\n",
    "\n",
    "### Alternative Methods:\n",
    "- **Alternative Techniques:** For binary data, alternative dimensionality reduction techniques like factor analysis or non-linear methods might be more suitable.\n",
    "\n",
    "### Sparse PCA:\n",
    "- **Sparse PCA:** There's also Sparse PCA, which is designed to handle sparse data more effectively by encouraging sparsity in the loadings.\n",
    "\n",
    "Before applying PCA to binary data, consider the trade-offs and whether it aligns with your objectives, especially in terms of interpretability, explained variance, and the underlying structure of your data. Additionally, try different techniques and assess their effectiveness based on your specific use case and dataset characteristics."
   ]
  },
  {
   "cell_type": "markdown",
   "metadata": {},
   "source": [
    "## Model Selection"
   ]
  },
  {
   "cell_type": "code",
   "execution_count": 213,
   "metadata": {},
   "outputs": [],
   "source": [
    "#dremove most commonly mutated gene from dataframe before fitting model, otherwise string error\n",
    "df = df.iloc[:, :-16]"
   ]
  },
  {
   "cell_type": "code",
   "execution_count": 214,
   "metadata": {},
   "outputs": [
    {
     "data": {
      "text/plain": [
       "0    488\n",
       "1    352\n",
       "Name: Grade, dtype: int64"
      ]
     },
     "execution_count": 214,
     "metadata": {},
     "output_type": "execute_result"
    }
   ],
   "source": [
    "# Define label and features\n",
    "X = df.drop(columns=['Grade'])\n",
    "y = df['Grade']\n",
    "y.value_counts()\n",
    "\n",
    "#lgg 57%"
   ]
  },
  {
   "cell_type": "code",
   "execution_count": 215,
   "metadata": {},
   "outputs": [],
   "source": [
    "# Split data into train and test sets\n",
    "X_train, X_test, y_train, y_test = train_test_split(X, y, test_size=0.3, shuffle=True)"
   ]
  },
  {
   "cell_type": "code",
   "execution_count": 243,
   "metadata": {},
   "outputs": [],
   "source": [
    "# Creating a list of potential models: \n",
    "models = []\n",
    "model1 = LogisticRegression()\n",
    "models.append(model1)\n",
    "model2 = svm.SVC()\n",
    "models.append(model2)\n",
    "model3 = tree.DecisionTreeClassifier()\n",
    "models.append(model3)\n",
    "model4 = RandomForestClassifier()\n",
    "models.append(model4)\n",
    "model5 = AdaBoostClassifier()\n",
    "models.append(model5)\n",
    "\n",
    "\n",
    "#QUESTION: Why are we not setting hyperparameters here? like number of estimators for random forest, adaboost, learning rate, regularization strength for SVM and LR? \n",
    "#TODO: explain in report, we first trained several models andbased on the best ones we investigated which best params "
   ]
  },
  {
   "cell_type": "code",
   "execution_count": 245,
   "metadata": {},
   "outputs": [
    {
     "name": "stdout",
     "output_type": "stream",
     "text": [
      "Gender: [1 0]\n",
      "Age: [33.96       41.86       53.4        62.61       60.21       78.02\n",
      " 42.01       63.15       46.91       25.64       57.08       34.07\n",
      " 65.11       31.51       17.74       20.32       79.34       43.61\n",
      " 49.51       85.61       34.38       60.72       60.13       37.65\n",
      " 48.58       30.44       55.13       33.02       42.09       65.86\n",
      " 33.21       76.16       24.76       38.07       40.53       55.42\n",
      " 68.92       35.17       35.12       59.03       62.6        29.13\n",
      " 82.04       40.82       57.3        64.29       65.1        78.72\n",
      " 38.22       40.88       51.09       32.43       48.91       55.73\n",
      " 26.32       58.15       55.11       70.16       31.56       47.73\n",
      " 58.4        31.99       21.79       75.35       62.55       27.16\n",
      " 69.58       51.63       72.46       54.87       61.13       54.59\n",
      " 41.32       35.25       65.08       20.76       44.25       64.39\n",
      " 39.8        81.87       72.53       25.11       34.52       69.7\n",
      " 61.06       48.36       37.78       43.86       28.68       39.17\n",
      " 73.29       56.28       24.43       30.09       38.84       27.68\n",
      " 36.97       49.81       41.03       40.29       43.39       42.47\n",
      " 59.7        29.36       58.43       25.21       63.18       48.95\n",
      " 35.19       53.69       54.66       58.02       30.72       14.42\n",
      " 49.02       66.74       46.5        21.67       53.24       72.95\n",
      " 22.02       69.64       63.33       63.55       74.98       63.02\n",
      " 34.84       43.06       34.3        67.9        53.37       68.93\n",
      " 51.56       72.27       27.79       56.81       53.78       58.38\n",
      " 51.85       29.54       77.97       82.32       50.35       36.21\n",
      " 53.02       60.67       28.22       75.94       54.21       38.8\n",
      " 22.82       39.77       56.31       52.69       28.32       36.18\n",
      " 39.1        53.11       36.16       65.06       39.83       26.14\n",
      " 74.03       25.87       53.54       38.89       48.68       81.09\n",
      " 50.87313023 40.68       42.87       59.84       67.09       71.7\n",
      " 54.48       33.65       47.61       38.91       41.61       41.49\n",
      " 51.72       79.11       47.19       39.43       38.56       62.45\n",
      " 73.53       60.75       31.02       27.85       47.36       47.47\n",
      " 47.24       52.16       55.24       62.42       72.16       43.44\n",
      " 39.36       49.82       39.16       24.4        35.18       75.92\n",
      " 51.75       73.36       61.5        40.8        35.99       59.85\n",
      " 41.89       69.26       20.84       76.47       63.84       64.57\n",
      " 45.34       56.02       66.44       58.04       67.41       74.86\n",
      " 71.19       56.87       44.18       52.43       27.45       34.44\n",
      " 29.41       31.03       69.61       39.87       26.12       38.63\n",
      " 69.14       73.68       60.33       51.96       29.22       45.92\n",
      " 52.44       56.42       52.59       61.48       34.36       47.96\n",
      " 25.27       32.78       38.35       54.4        63.69       47.25\n",
      " 63.86       61.14       60.82       60.99       40.13       36.83\n",
      " 23.47       51.55       65.85       49.85       40.89       60.18\n",
      " 39.48       60.37       37.44       43.99       47.14       33.15\n",
      " 54.95       57.31       51.9        28.53       48.44       75.47\n",
      " 68.35       31.95       74.56       72.78       81.46       40.85\n",
      " 32.21       74.39       49.96       73.28       65.05       30.9\n",
      " 50.47       47.62       63.47       52.41       74.23       29.09\n",
      " 26.57       40.57       83.31       57.76       65.99       36.6\n",
      " 42.39       30.24       57.05       69.34       60.34       38.24\n",
      " 46.24       66.84       48.22       37.08       41.56       49.72\n",
      " 29.82       51.33       31.42       66.88       57.39       27.84\n",
      " 43.53       39.01       64.53       70.01       55.84       48.54\n",
      " 45.62       34.65       48.67       60.98       64.14       64.\n",
      " 44.62       58.55       47.59       57.85       56.47       77.32\n",
      " 55.99       59.75       81.84       78.74       60.94       37.25\n",
      " 66.08       41.18       52.53       58.01       63.07       78.25\n",
      " 44.65       28.07       66.58       68.79       57.79       44.63\n",
      " 30.31       45.37       21.73       24.65       54.9        53.71\n",
      " 23.96       32.45       75.73       38.3        33.28       76.65\n",
      " 74.15       51.25       71.86       52.65       50.64       44.56\n",
      " 57.86       44.37       22.56       38.04       59.58       51.45\n",
      " 30.69       27.61       51.14       23.3        30.35       30.81\n",
      " 76.2        66.93       71.62       24.23       30.95       27.88\n",
      " 41.7        54.93       72.83       31.29       67.51       40.73\n",
      " 48.85       26.26       49.88       49.92       40.99       59.81\n",
      " 62.25       46.3        40.02       52.45       63.53       47.34\n",
      " 54.81       81.59       24.14       61.84       45.63       41.19\n",
      " 30.76       35.65       68.02       63.22       58.9        88.57\n",
      " 77.89       65.18       26.47       48.5        51.47       31.75\n",
      " 56.68       52.67       32.33       55.59       54.61       69.18\n",
      " 36.85       78.26       54.62       49.76       40.14       66.3\n",
      " 70.44       30.42       58.73       67.33       52.74       74.81\n",
      " 59.6        63.72       20.21       74.16       73.9        38.53\n",
      " 50.9        59.99       62.64       61.31       65.39       73.66\n",
      " 45.71       30.38       30.97       64.82       25.68       34.12\n",
      " 25.22       66.37       49.43       49.62       35.1        66.52\n",
      " 65.53       32.54       36.3        38.38       68.61       71.41\n",
      " 70.27       62.56       73.01       52.63       54.55       33.53\n",
      " 69.32       53.5        36.13       29.58       66.22       61.87\n",
      " 38.02       62.77       74.47       60.32       51.24       58.39\n",
      " 47.45       22.84       33.91       48.21       62.52       64.05\n",
      " 29.64       54.49       33.16       47.83       43.71       46.61\n",
      " 52.66       29.93       61.1        58.13       80.17       23.36\n",
      " 69.22       43.91       50.16       63.24       35.52       67.59\n",
      " 37.14       63.91       66.01       48.94       52.17       62.11\n",
      " 60.71       19.15       35.89       44.57       33.11       58.62\n",
      " 49.48       58.46       47.81       70.67       59.72       39.69\n",
      " 63.32       61.78       75.52       62.83       36.61       43.67\n",
      " 51.99       53.64       48.99       61.19       59.54       56.51\n",
      " 76.24       55.57       89.29       43.77       83.64       45.81\n",
      " 25.59       33.27      ]\n",
      "IDH1: [1 0]\n",
      "TP53: [1 0]\n",
      "ATRX: [1 0]\n",
      "PTEN: [0 1]\n",
      "EGFR: [0 1]\n",
      "CIC: [0 1]\n",
      "MUC16: [0 1]\n",
      "PIK3CA: [0 1]\n"
     ]
    }
   ],
   "source": [
    "for column in X_train.columns:\n",
    "    print(f\"{column}: {X_train[column].unique()}\")"
   ]
  },
  {
   "cell_type": "code",
   "execution_count": 250,
   "metadata": {},
   "outputs": [
    {
     "name": "stdout",
     "output_type": "stream",
     "text": [
      "LogisticRegression()\n",
      "Accuracy of LogisticRegression() is 0.8611111111111112\n",
      "Recall (sensitivity) of LogisticRegression() is 0.912621359223301\n"
     ]
    },
    {
     "data": {
      "image/png": "[encoded data removed]",
      "text/plain": [
       "<Figure size 432x288 with 2 Axes>"
      ]
     },
     "metadata": {
      "needs_background": "light"
     },
     "output_type": "display_data"
    },
    {
     "name": "stdout",
     "output_type": "stream",
     "text": [
      "ROC AUC score of LogisticRegression() is 0.8690623574639995\n"
     ]
    },
    {
     "data": {
      "image/png": "[encoded data removed]",
      "text/plain": [
       "<Figure size 360x360 with 1 Axes>"
      ]
     },
     "metadata": {
      "needs_background": "light"
     },
     "output_type": "display_data"
    },
    {
     "name": "stdout",
     "output_type": "stream",
     "text": [
      "-------------------------------------------------------\n",
      "SVC()\n",
      "Accuracy of SVC() is 0.7658730158730159\n",
      "Recall (sensitivity) of SVC() is 0.6699029126213593\n"
     ]
    },
    {
     "data": {
      "image/png": "[encoded data removed]",
      "text/plain": [
       "<Figure size 432x288 with 2 Axes>"
      ]
     },
     "metadata": {
      "needs_background": "light"
     },
     "output_type": "display_data"
    },
    {
     "name": "stdout",
     "output_type": "stream",
     "text": [
      "ROC AUC score of SVC() is 0.7510588388610153\n"
     ]
    },
    {
     "data": {
      "image/png": "[encoded data removed]",
      "text/plain": [
       "<Figure size 360x360 with 1 Axes>"
      ]
     },
     "metadata": {
      "needs_background": "light"
     },
     "output_type": "display_data"
    },
    {
     "name": "stdout",
     "output_type": "stream",
     "text": [
      "-------------------------------------------------------\n",
      "DecisionTreeClassifier()\n",
      "Accuracy of DecisionTreeClassifier() is 0.7738095238095238\n",
      "Recall (sensitivity) of DecisionTreeClassifier() is 0.7475728155339806\n"
     ]
    },
    {
     "data": {
      "image/png": "[encoded data removed]",
      "text/plain": [
       "<Figure size 432x288 with 2 Axes>"
      ]
     },
     "metadata": {
      "needs_background": "light"
     },
     "output_type": "display_data"
    },
    {
     "name": "stdout",
     "output_type": "stream",
     "text": [
      "ROC AUC score of DecisionTreeClassifier() is 0.7697595621294064\n"
     ]
    },
    {
     "data": {
      "image/png": "[encoded data removed]",
      "text/plain": [
       "<Figure size 360x360 with 1 Axes>"
      ]
     },
     "metadata": {
      "needs_background": "light"
     },
     "output_type": "display_data"
    },
    {
     "name": "stdout",
     "output_type": "stream",
     "text": [
      "-------------------------------------------------------\n",
      "RandomForestClassifier()\n",
      "Accuracy of RandomForestClassifier() is 0.8253968253968254\n",
      "Recall (sensitivity) of RandomForestClassifier() is 0.8155339805825242\n"
     ]
    },
    {
     "data": {
      "image/png": "[encoded data removed]",
      "text/plain": [
       "<Figure size 432x288 with 2 Axes>"
      ]
     },
     "metadata": {
      "needs_background": "light"
     },
     "output_type": "display_data"
    },
    {
     "name": "stdout",
     "output_type": "stream",
     "text": [
      "ROC AUC score of RandomForestClassifier() is 0.8238743728415977\n"
     ]
    },
    {
     "data": {
      "image/png": "[encoded data removed]",
      "text/plain": [
       "<Figure size 360x360 with 1 Axes>"
      ]
     },
     "metadata": {
      "needs_background": "light"
     },
     "output_type": "display_data"
    },
    {
     "name": "stdout",
     "output_type": "stream",
     "text": [
      "-------------------------------------------------------\n",
      "AdaBoostClassifier()\n",
      "Accuracy of AdaBoostClassifier() is 0.8571428571428571\n",
      "Recall (sensitivity) of AdaBoostClassifier() is 0.9223300970873787\n"
     ]
    },
    {
     "data": {
      "image/png": "[encoded data removed]",
      "text/plain": [
       "<Figure size 432x288 with 2 Axes>"
      ]
     },
     "metadata": {
      "needs_background": "light"
     },
     "output_type": "display_data"
    },
    {
     "name": "stdout",
     "output_type": "stream",
     "text": [
      "ROC AUC score of AdaBoostClassifier() is 0.8672053170000652\n"
     ]
    },
    {
     "data": {
      "image/png": "[encoded data removed]",
      "text/plain": [
       "<Figure size 360x360 with 1 Axes>"
      ]
     },
     "metadata": {
      "needs_background": "light"
     },
     "output_type": "display_data"
    },
    {
     "name": "stdout",
     "output_type": "stream",
     "text": [
      "-------------------------------------------------------\n"
     ]
    }
   ],
   "source": [
    "# Creating dict for storing model's accuracy \n",
    "dict = {}\n",
    "# Model evaluation with accuracy, cm, f1, roc scores\n",
    "for model in models:\n",
    "    print(model)\n",
    "    model.fit(X_train, y_train)\n",
    "    y_pred = model.predict(X_test)\n",
    "\n",
    "    accuracy = accuracy_score(y_test, y_pred)\n",
    "    recall = recall_score(y_test, y_pred)\n",
    "    # Add key-value pair to the dictionary\n",
    "    dict[model] = round(recall, 2)\n",
    "    print(f\"Accuracy of {model} is {accuracy}\")\n",
    "    print(f'Recall (sensitivity) of {model} is {recall}')\n",
    "\n",
    "    cm = confusion_matrix(y_test, y_pred, labels = model.classes_)\n",
    "    disp = ConfusionMatrixDisplay(confusion_matrix = cm, display_labels = model.classes_)\n",
    "    disp.plot()\n",
    "    plt.show()\n",
    "\n",
    "    roc_auc = roc_auc_score(y_test, y_pred)\n",
    "    print(f\"ROC AUC score of {model} is {roc_auc}\")\n",
    "\n",
    "    # Compute ROC curve and AUC\n",
    "    fpr, tpr, thresholds = roc_curve(y_test, y_pred)\n",
    "    roc_auc = auc(fpr, tpr)\n",
    "\n",
    "    # Plot ROC curve\n",
    "    plt.figure(figsize=(5, 5))\n",
    "    plt.plot(fpr, tpr, color='darkorange', lw=2, label='ROC curve (area = {:.2f})'.format(roc_auc))\n",
    "    plt.plot([0, 1], [0, 1], color='navy', lw=2, linestyle='--')\n",
    "    plt.xlabel('False Positive Rate (FPR)')\n",
    "    plt.ylabel('True Positive Rate (TPR)')\n",
    "    plt.title(f'ROC Curve for {model}')\n",
    "    plt.legend(loc='lower right')\n",
    "    plt.show()\n",
    "    print(\"-------------------------------------------------------\")\n",
    "\n",
    "\n",
    "   #TODO: possibly compute f1 score and compare with paper to show we did better"
   ]
  },
  {
   "cell_type": "code",
   "execution_count": 255,
   "metadata": {},
   "outputs": [
    {
     "name": "stdout",
     "output_type": "stream",
     "text": [
      "the two models with best recall are {AdaBoostClassifier(): 0.92, LogisticRegression(): 0.91}\n"
     ]
    }
   ],
   "source": [
    "# Getting first two models with the best accuracy\n",
    "sorted_dict = OrderedDict(sorted(dict.items(), key = itemgetter(1), reverse = True))\n",
    "first2pairs = {k: sorted_dict[k] for k in list(sorted_dict)[:2]}\n",
    "print(f'the two models with best recall are {first2pairs}')\n",
    "\n",
    "#first two models with best recall \n",
    "sorted_dict_recall =OrderedDict(sorted(dict.items(), key = itemgetter(1), reverse = True))"
   ]
  },
  {
   "cell_type": "code",
   "execution_count": 251,
   "metadata": {},
   "outputs": [],
   "source": [
    "#TODO: in report, mention that we picked recall because imbalanced y. However, we also used accuracy (cell above) as a metrics because we wanted to compare with paper, and show we have better accuracy. \n",
    "\n"
   ]
  },
  {
   "cell_type": "code",
   "execution_count": 256,
   "metadata": {},
   "outputs": [
    {
     "data": {
      "text/plain": [
       "[LogisticRegression(), AdaBoostClassifier()]"
      ]
     },
     "execution_count": 256,
     "metadata": {},
     "output_type": "execute_result"
    }
   ],
   "source": [
    "# Removing models from models list that didnt performe well\n",
    "keys = first2pairs.keys()\n",
    "models = [model for model in models if model in keys]\n",
    "models"
   ]
  },
  {
   "cell_type": "code",
   "execution_count": 221,
   "metadata": {},
   "outputs": [
    {
     "name": "stdout",
     "output_type": "stream",
     "text": [
      "\n",
      "                Accuracy of LogisticRegression() for 5 splits is 0.84528 \n",
      "            \n",
      "\n",
      "                Accuracy of RandomForestClassifier() for 5 splits is 0.82141 \n",
      "            \n",
      "                ---------------------------------------------------------------\n",
      "\n",
      "                Accuracy of LogisticRegression() for 10 splits is 0.84687 \n",
      "            \n",
      "\n",
      "                Accuracy of RandomForestClassifier() for 10 splits is 0.81292 \n",
      "            \n",
      "                ---------------------------------------------------------------\n"
     ]
    }
   ],
   "source": [
    "#cross validation (ACCURACY, keeping for paper comparison)\n",
    "splits = [5, 10] #trying 5 and 10 folds\n",
    "for i in splits:\n",
    "    kf = KFold(n_splits = i, shuffle = True, random_state = 42)\n",
    "    for model in models:\n",
    "        accuracy = cross_val_score(model, X_train, y_train, cv=kf, scoring='accuracy')\n",
    "        # f1 = cross_val_score(model, X_train, y_train, cv=kf, scoring='f1')\n",
    "        # roc_auc = cross_val_score(model, X_train, y_train,cv=kf, scoring='roc_auc')\n",
    "        # recall = cross_val_score(model, X_train, y_train, cv = kf, scoring = 'recall')\n",
    "        print(f'''\n",
    "                Accuracy of {model} for {i} splits is {round(accuracy.mean(), 5)} \n",
    "            ''')\n",
    "    print(\"                ---------------------------------------------------------------\")\n",
    "\n",
    "\n",
    "#dict: model + splits: accuracy for EVERY model OR everything in one dictionary"
   ]
  },
  {
   "cell_type": "code",
   "execution_count": null,
   "metadata": {},
   "outputs": [],
   "source": [
    "#5 folds is best , TODO: decide if AUC-ROC/ recall/ accuracy /f1 scores based on our dataset\n",
    "\n",
    "\n",
    "# USE DATA FROM DICT BELOW TO DEFINE K_SPLITS"
   ]
  },
  {
   "cell_type": "code",
   "execution_count": 222,
   "metadata": {},
   "outputs": [],
   "source": [
    "kf = KFold(n_splits=5, shuffle=True, random_state=42)"
   ]
  },
  {
   "cell_type": "code",
   "execution_count": 223,
   "metadata": {},
   "outputs": [
    {
     "name": "stdout",
     "output_type": "stream",
     "text": [
      "Best parameters: {'C': 0.0001, 'penalty': 'none', 'solver': 'saga'}\n",
      "Best cross-validation score: 0.8571780385339707\n"
     ]
    }
   ],
   "source": [
    "# GridSearchCV for logistic regression\n",
    "\n",
    "param_grid = [    \n",
    "    {'penalty' : ['l1', 'l2', 'elasticnet', 'none'],\n",
    "    #'C' : [0.001,0.01,0.1,1,10,100,1000], #this is not granular enough TODO: MENTION IN REPORT \n",
    "    'C': np.logspace(-4, 4, 20), #more granular params bc evenly dsitributed in logspace\n",
    "    'solver' : ['lbfgs', 'newton-cg', 'liblinear', 'sag', 'saga']\n",
    "    }\n",
    "]\n",
    "\n",
    "grid_search = GridSearchCV(estimator = models[0],\n",
    "                           param_grid = param_grid,\n",
    "                           scoring = 'accuracy',\n",
    "                           cv = kf).fit(X_train, y_train)\n",
    "\n",
    "# Get the best estimator\n",
    "best_model = grid_search.best_estimator_\n",
    "\n",
    "print(f\"Best parameters: {grid_search.best_params_}\")\n",
    "print(f\"Best cross-validation score: {grid_search.best_score_}\")"
   ]
  },
  {
   "cell_type": "code",
   "execution_count": 224,
   "metadata": {},
   "outputs": [
    {
     "data": {
      "image/png": "[encoded data removed]",
      "text/plain": [
       "<Figure size 432x288 with 2 Axes>"
      ]
     },
     "metadata": {
      "needs_background": "light"
     },
     "output_type": "display_data"
    },
    {
     "data": {
      "image/png": "[encoded data removed]",
      "text/plain": [
       "<Figure size 360x360 with 1 Axes>"
      ]
     },
     "metadata": {
      "needs_background": "light"
     },
     "output_type": "display_data"
    },
    {
     "name": "stdout",
     "output_type": "stream",
     "text": [
      "Accuracy of new LogisticRegression is 0.873015873015873\n"
     ]
    }
   ],
   "source": [
    "# y_pred with the best parameters from GridSearchCV\n",
    "y_pred_g = best_model.predict(X_test)\n",
    "\n",
    "\n",
    "accuracy_g = accuracy_score(y_test, y_pred_g)\n",
    "cm = confusion_matrix(y_test, y_pred_g, labels = models[0].classes_)\n",
    "disp = ConfusionMatrixDisplay(confusion_matrix = cm, display_labels = models[0].classes_)\n",
    "disp.plot()\n",
    "plt.show()\n",
    "\n",
    "# Compute ROC curve and AUC\n",
    "fpr, tpr, thresholds = roc_curve(y_test, y_pred_g)\n",
    "roc_auc = auc(fpr, tpr)\n",
    "\n",
    "# Plot ROC curve\n",
    "plt.figure(figsize=(5, 5))\n",
    "plt.plot(fpr, tpr, color='darkorange', lw=2, label='ROC curve (area = {:.2f})'.format(roc_auc))\n",
    "plt.plot([0, 1], [0, 1], color='navy', lw=2, linestyle='--')\n",
    "plt.xlabel('False Positive Rate (FPR)')\n",
    "plt.ylabel('True Positive Rate (TPR)')\n",
    "plt.title(f'ROC Curve for {models[0]}')\n",
    "plt.legend(loc='lower right')\n",
    "plt.show()\n",
    "print(f\"Accuracy of new LogisticRegression is {accuracy_g}\")"
   ]
  },
  {
   "cell_type": "code",
   "execution_count": 229,
   "metadata": {},
   "outputs": [
    {
     "name": "stdout",
     "output_type": "stream",
     "text": [
      "Previous accuracy of LogisticRegression is 0.8611111111111112\n",
      "Accuracy improved after gridsearch\n",
      "GridSearch accuracy is 0.873015873015873\n"
     ]
    }
   ],
   "source": [
    "y_pred = models[0].predict(X_test)\n",
    "prev_accuracy = accuracy_score(y_test, y_pred)\n",
    "print(f\"Previous accuracy of LogisticRegression is {prev_accuracy}\")\n",
    "\n",
    "if accuracy_g > prev_accuracy:\n",
    "    print(\"Accuracy improved after gridsearch\")\n",
    "    print(f'GridSearch accuracy is {accuracy_g}')\n",
    "else: \n",
    "    print(\"Accuracy did not improve after gridsearch\")"
   ]
  },
  {
   "cell_type": "code",
   "execution_count": 230,
   "metadata": {},
   "outputs": [
    {
     "name": "stdout",
     "output_type": "stream",
     "text": [
      "Best parameters: {'solver': 'saga', 'penalty': 'none', 'C': 29.763514416313132}\n",
      "Best cross-validation score: 0.8571780385339707\n"
     ]
    }
   ],
   "source": [
    "#Randomsearch for logistic regression, TODO: write in report why we think we should do both types of searches \n",
    "\n",
    "param_grid = [    \n",
    "    {'penalty' : ['l1', 'l2', 'elasticnet', 'none'],\n",
    "    #'C' : [0.001,0.01,0.1,1,10,100,1000], #this is not granular enough TODO: MENTION IN REPORT \n",
    "    'C': np.logspace(-4, 4, 20), #more granular params bc evenly dsitributed in logspace\n",
    "    'solver' : ['lbfgs', 'newton-cg', 'liblinear', 'sag', 'saga']\n",
    "    }\n",
    "]\n",
    "\n",
    "randomized_search = RandomizedSearchCV(estimator = models[0],\n",
    "                           param_distributions = param_grid,\n",
    "                           scoring = 'accuracy',\n",
    "                           cv = kf).fit(X_train, y_train)\n",
    "\n",
    "# Get the best estimator\n",
    "best_model_rs = randomized_search.best_estimator_\n",
    "\n",
    "print(f\"Best parameters: {randomized_search.best_params_}\")\n",
    "print(f\"Best cross-validation score: {randomized_search.best_score_}\")"
   ]
  },
  {
   "cell_type": "code",
   "execution_count": 231,
   "metadata": {},
   "outputs": [
    {
     "data": {
      "image/png": "[encoded data removed]",
      "text/plain": [
       "<Figure size 432x288 with 2 Axes>"
      ]
     },
     "metadata": {
      "needs_background": "light"
     },
     "output_type": "display_data"
    },
    {
     "data": {
      "image/png": "[encoded data removed]",
      "text/plain": [
       "<Figure size 360x360 with 1 Axes>"
      ]
     },
     "metadata": {
      "needs_background": "light"
     },
     "output_type": "display_data"
    },
    {
     "name": "stdout",
     "output_type": "stream",
     "text": [
      "Accuracy of new LogisticRegression is 0.873015873015873\n"
     ]
    }
   ],
   "source": [
    "#now use best parameters from random search to predict y_pred\n",
    "\n",
    "y_pred_rs = best_model_rs.predict(X_test)\n",
    "\n",
    "\n",
    "accuracy_rs = accuracy_score(y_test, y_pred_rs)\n",
    "cm_rs = confusion_matrix(y_test, y_pred_rs, labels = models[0].classes_) \n",
    "disp = ConfusionMatrixDisplay(confusion_matrix = cm_rs, display_labels = models[0].classes_)\n",
    "disp.plot()\n",
    "plt.show()\n",
    "\n",
    "# Compute ROC curve and AUC\n",
    "fpr, tpr, thresholds = roc_curve(y_test, y_pred_rs)\n",
    "roc_auc = auc(fpr, tpr)\n",
    "\n",
    "# Plot ROC curve\n",
    "plt.figure(figsize=(5, 5))\n",
    "plt.plot(fpr, tpr, color='darkorange', lw=2, label='ROC curve (area = {:.2f})'.format(roc_auc))\n",
    "plt.plot([0, 1], [0, 1], color='navy', lw=2, linestyle='--')\n",
    "plt.xlabel('False Positive Rate (FPR)')\n",
    "plt.ylabel('True Positive Rate (TPR)')\n",
    "plt.title(f'ROC Curve for {models[0]}')\n",
    "plt.legend(loc='lower right')\n",
    "plt.show()\n",
    "print(f\"Accuracy of new LogisticRegression is {accuracy_rs}\")"
   ]
  },
  {
   "cell_type": "code",
   "execution_count": 232,
   "metadata": {},
   "outputs": [
    {
     "name": "stdout",
     "output_type": "stream",
     "text": [
      "Previous accuracy of LogisticRegression is 0.8611111111111112\n",
      "Accuracy improved after Random Search\n",
      "Grid Search accuracy is 0.873015873015873\n",
      "Random Search accuracy is 0.873015873015873\n"
     ]
    }
   ],
   "source": [
    "y_pred = models[0].predict(X_test)\n",
    "prev_accuracy = accuracy_score(y_test, y_pred)\n",
    "print(f\"Previous accuracy of LogisticRegression is {prev_accuracy}\")\n",
    "\n",
    "if accuracy_rs > prev_accuracy:\n",
    "    print(\"Accuracy improved after Random Search\")\n",
    "    print(f'Grid Search accuracy is {accuracy_g}')\n",
    "    print(f'Random Search accuracy is {accuracy_rs}')\n",
    "else: \n",
    "    print(\"Accuracy did not improve after Random Search\")"
   ]
  },
  {
   "cell_type": "code",
   "execution_count": 257,
   "metadata": {},
   "outputs": [],
   "source": [
    "#random search and gridsearch find the same accuracy for logistic regression, in both cases its better than paper. \n"
   ]
  },
  {
   "cell_type": "code",
   "execution_count": 259,
   "metadata": {},
   "outputs": [
    {
     "name": "stdout",
     "output_type": "stream",
     "text": [
      "\n",
      "                recall of LogisticRegression() for 5 splits is 0.88211 \n",
      "            \n",
      "\n",
      "                recall of AdaBoostClassifier() for 5 splits is 0.86093 \n",
      "            \n",
      "                ---------------------------------------------------------------\n",
      "\n",
      "                recall of LogisticRegression() for 10 splits is 0.89002 \n",
      "            \n",
      "\n",
      "                recall of AdaBoostClassifier() for 10 splits is 0.86539 \n",
      "            \n",
      "                ---------------------------------------------------------------\n"
     ]
    }
   ],
   "source": [
    "#using recall for gridsearch and randomsearch for logistic regression. we used accuracy above for paper comparison, but we think best metrics is still recall. \n",
    "#cross validation (ACCURACY, keeping for paper comparison)\n",
    "\n",
    "\n",
    "#cross validation, recall \n",
    "splits = [5, 10] #trying 5 and 10 folds\n",
    "for i in splits:\n",
    "    kf = KFold(n_splits = i, shuffle = True, random_state = 42)\n",
    "    for model in models:\n",
    "        recall = cross_val_score(model, X_train, y_train, cv=kf, scoring='recall')\n",
    "        # f1 = cross_val_score(model, X_train, y_train, cv=kf, scoring='f1')\n",
    "        # roc_auc = cross_val_score(model, X_train, y_train,cv=kf, scoring='roc_auc')\n",
    "        # recall = cross_val_score(model, X_train, y_train, cv = kf, scoring = 'recall')\n",
    "        print(f'''\n",
    "                recall of {model} for {i} splits is {round(recall.mean(), 5)} \n",
    "            ''')\n",
    "    print(\"                ---------------------------------------------------------------\")\n",
    "\n",
    "\n",
    "#dict: model + splits: accuracy for EVERY model OR everything in one dictionary"
   ]
  },
  {
   "cell_type": "markdown",
   "metadata": {},
   "source": [
    "________________________________________________________________________________________________________________________"
   ]
  },
  {
   "cell_type": "markdown",
   "metadata": {},
   "source": [
    "1. kfold cross validation (5,10)\n",
    "\n",
    "\n",
    "2. use diff grid search hyperparameters to determine which best between randomforestclassifier and logistic regression \n",
    "\n",
    "3. kfold cross validation "
   ]
  },
  {
   "cell_type": "code",
   "execution_count": 260,
   "metadata": {},
   "outputs": [
    {
     "name": "stdout",
     "output_type": "stream",
     "text": [
      "Best parameters: {'C': 0.012742749857031334, 'penalty': 'l1', 'solver': 'liblinear'}\n",
      "Best cross-validation score: 0.9317301753163824\n"
     ]
    }
   ],
   "source": [
    "kf = KFold(n_splits=10, shuffle=True, random_state=42) #for recall, 10 splits is better. 5 was better for accuracy\n",
    "# GridSearchCV for logistic regression\n",
    "\n",
    "param_grid = [    \n",
    "    {'penalty' : ['l1', 'l2', 'elasticnet', 'none'],\n",
    "    #'C' : [0.001,0.01,0.1,1,10,100,1000], #this is not granular enough TODO: MENTION IN REPORT \n",
    "    'C': np.logspace(-4, 4, 20), #more granular params bc evenly dsitributed in logspace\n",
    "    'solver' : ['lbfgs', 'newton-cg', 'liblinear', 'sag', 'saga']\n",
    "    }\n",
    "]\n",
    "\n",
    "grid_search = GridSearchCV(estimator = models[0],\n",
    "                           param_grid = param_grid,\n",
    "                           scoring = 'recall',\n",
    "                           cv = kf).fit(X_train, y_train)\n",
    "\n",
    "# Get the best estimator\n",
    "best_model = grid_search.best_estimator_\n",
    "\n",
    "print(f\"Best parameters: {grid_search.best_params_}\")\n",
    "print(f\"Best cross-validation score: {grid_search.best_score_}\")"
   ]
  },
  {
   "cell_type": "code",
   "execution_count": 264,
   "metadata": {},
   "outputs": [
    {
     "data": {
      "image/png": "[encoded data removed]",
      "text/plain": [
       "<Figure size 432x288 with 2 Axes>"
      ]
     },
     "metadata": {
      "needs_background": "light"
     },
     "output_type": "display_data"
    },
    {
     "data": {
      "image/png": "[encoded data removed]",
      "text/plain": [
       "<Figure size 360x360 with 1 Axes>"
      ]
     },
     "metadata": {
      "needs_background": "light"
     },
     "output_type": "display_data"
    },
    {
     "name": "stdout",
     "output_type": "stream",
     "text": [
      "Recall of LogisticRegression after Grid Search is 0.941747572815534\n",
      "Before Grid Search, LogisticRegression Recall was  0.91\n"
     ]
    }
   ],
   "source": [
    "# y_pred with the best recall parameters from GridSearchCV\n",
    "y_pred_g = best_model.predict(X_test)\n",
    "\n",
    "\n",
    "recall_grid = recall_score(y_test, y_pred_g)\n",
    "cm = confusion_matrix(y_test, y_pred_g, labels = models[0].classes_)\n",
    "disp = ConfusionMatrixDisplay(confusion_matrix = cm, display_labels = models[0].classes_)\n",
    "disp.plot()\n",
    "plt.show()\n",
    "\n",
    "# Compute ROC curve and AUC\n",
    "fpr, tpr, thresholds = roc_curve(y_test, y_pred_g)\n",
    "roc_auc = auc(fpr, tpr)\n",
    "\n",
    "# Plot ROC curve\n",
    "plt.figure(figsize=(5, 5))\n",
    "plt.plot(fpr, tpr, color='darkorange', lw=2, label='ROC curve (area = {:.2f})'.format(roc_auc))\n",
    "plt.plot([0, 1], [0, 1], color='navy', lw=2, linestyle='--')\n",
    "plt.xlabel('False Positive Rate (FPR)')\n",
    "plt.ylabel('True Positive Rate (TPR)')\n",
    "plt.title(f'ROC Curve for {models[0]}')\n",
    "plt.legend(loc='lower right')\n",
    "plt.show()\n",
    "print(f\"Recall of LogisticRegression after Grid Search is {recall_grid}\")\n",
    "print(f'Before Grid Search, LogisticRegression Recall was  0.91') #todo index 0.91 from dict with logregr recall value, don't write it"
   ]
  },
  {
   "cell_type": "markdown",
   "metadata": {},
   "source": [
    "# TODO: \n",
    "- random search for logistic regression, recall -> see if it improves recall of 0.94 found with grid search \n",
    "- grid search and random search for adaboost: \n",
    " 1. for accuracy  (for model comparision)\n",
    " 2. for recall"
   ]
  },
  {
   "cell_type": "code",
   "execution_count": null,
   "metadata": {},
   "outputs": [
    {
     "ename": "SyntaxError",
     "evalue": "closing parenthesis '}' does not match opening parenthesis '[' on line 5 (3938984704.py, line 7)",
     "output_type": "error",
     "traceback": [
      "\u001b[0;36m  Input \u001b[0;32mIn [97]\u001b[0;36m\u001b[0m\n\u001b[0;31m    }\u001b[0m\n\u001b[0m    ^\u001b[0m\n\u001b[0;31mSyntaxError\u001b[0m\u001b[0;31m:\u001b[0m closing parenthesis '}' does not match opening parenthesis '[' on line 5\n"
     ]
    }
   ],
   "source": [
    "\n",
    "\n",
    "#TODO: if adaboost stays the best after dimensionality reduction, need to change this cell to do gridsearch for adaboost, not randomforest\n",
    "\n",
    "# FIRST recalculate crossvalidation : 1. with accuracy, 2. with recall\n",
    "param_grid = [    \n",
    "\n",
    "    }\n",
    "]\n",
    "\n",
    "grid_search = GridSearchCV(estimator=model1,#chjange model\n",
    "                           param_grid=param_grid,\n",
    "                           scoring='accuracy',\n",
    "                           cv=5).fit(X_train, y_train)\n",
    "\n",
    "print(f\"Best parameters: {grid_search.best_params_}\")\n",
    "print(f\"Best cross-validation score: {grid_search.best_score_}\")\n"
   ]
  },
  {
   "cell_type": "code",
   "execution_count": null,
   "metadata": {},
   "outputs": [],
   "source": [
    "#randomsearch for second best model (randomforest or adaboost)"
   ]
  },
  {
   "cell_type": "code",
   "execution_count": null,
   "metadata": {},
   "outputs": [],
   "source": [
    "#pick which best bewten rf and lr after hyperparametter turning"
   ]
  },
  {
   "cell_type": "code",
   "execution_count": null,
   "metadata": {},
   "outputs": [],
   "source": [
    "#when found best params plt smth like this \n",
    "\n",
    "\n",
    "#Scatter plot for the actual training values\n",
    "scatter = go.Scatter(x = x_train.values.flatten(), y=y_train.values.flatten(), mode='markers', name='Actual')\n",
    "#line plot for the predicted training values\n",
    "line = go.Scatter(x = x_train.values.flatten(), y=y_pred.values.flatten(), mode='lines', name='Predicted')\n",
    "layout = go.Layout(title='Actual vs Predicted, train set', xaxis=dict(title='population'), yaxis=dict(title='profit'))\n",
    "data = [scatter, line]\n",
    "figtr = go.Figure(data=data, layout=layout)\n",
    "figtr.show()\n",
    "\n",
    "\n",
    "#predict new values based on the test set\n",
    "\n",
    "\n",
    "#scatter for  y test values\n",
    "scatter = go.Scatter(x = x_test.values.flatten(), y=y_test.values.flatten(), mode='markers', name='Actual')\n",
    "#line for predicted y values \n",
    "line = go.Scatter(x = x_test.values.flatten(), y=new_y.values.flatten(), mode='lines', name='Predicted')\n",
    "layout = go.Layout(title='Actual vs Predicted, test set', xaxis=dict(title='population'), yaxis=dict(title='profit'))\n",
    "data = [scatter, line]\n",
    "figte = go.Figure(data=data, layout=layout)\n",
    "figte.show()\n"
   ]
  },
  {
   "cell_type": "markdown",
   "metadata": {},
   "source": [
    "# Points to discuss\n",
    "\n",
    "**EDA**\n",
    "\n",
    "- check if shared things between na in age before just going w mean refill. are they actually outliers?\n",
    "\n",
    "**Correlation matrix**\n",
    "\n",
    "- look into who doesnt have mutations in idh1 and 2 -> is each of them related to a different glioma grade? \n",
    "\n",
    "- look at correlations of high values between themselves: are they more correlated to one specific form of glioma? we expect more associated with GBM based on literature \n",
    "\n",
    "**PCA**\n",
    "\n",
    "- most correlated components in corr matrix are linked to GBM mostly, so can we still do PCA? can we cluster them?\n",
    "\n",
    "**GRID SEARCH**\n",
    "\n",
    "- random search outperforms grid search so try both. \n",
    "\n",
    "\n",
    "**Relevant notes on genes**\n",
    "\n",
    "- p53: tumor suppressor gene, Dna damage and repair! mutations in p53 are associated with many cancers, including gliomas esp GBM\n",
    "\n",
    "- grin2a: less involved in DNA repair, so mutation here is less bad \n",
    "\n",
    "- look at corrs between ATRX and p53, and are tehy linked to one specific kind of glioma more than others? \n",
    "\n",
    "- if highly correlated, check if they dont just exist in same place in dna\n",
    "\n",
    "- atrx is chromosome x and p53 is chromosome 17, so they are not just in same place in dna -> can claim causation? \n",
    "\n",
    "\n"
   ]
  },
  {
   "cell_type": "code",
   "execution_count": null,
   "metadata": {},
   "outputs": [
    {
     "data": {
      "text/plain": [
       "<AxesSubplot:>"
      ]
     },
     "execution_count": 91,
     "metadata": {},
     "output_type": "execute_result"
    },
    {
     "data": {
      "image/png": "[encoded data removed]",
      "text/plain": [
       "<Figure size 1152x432 with 2 Axes>"
      ]
     },
     "metadata": {
      "needs_background": "light"
     },
     "output_type": "display_data"
    }
   ],
   "source": [
    "# Plotting only genes that showed correlation among them, for better visualization\n",
    "correlated_genes = ['ATRX', 'IDH1', 'TP53', 'CIC', 'FUBP1']\n",
    "plt.figure(figsize=(16, 6))\n",
    "corr2 = df[correlated_genes].corr()\n",
    "\n",
    "# Getting the Upper Triangle of the co-relation matrix\n",
    "matrix2 = np.triu(corr2)\n",
    "\n",
    "\n",
    "sns.heatmap(corr2, annot=True, mask=matrix2, vmin=-1, vmax=1, linewidths=.5, cmap='BrBG')"
   ]
  },
  {
   "cell_type": "markdown",
   "metadata": {},
   "source": [
    "ATRX and IDH1 : 0.45\n",
    "\n",
    "ATRX and TP53 : 0.55\n",
    "\n",
    "IDH1 and TP53 : 0.34\n",
    "\n",
    "CIC and FUBP1 : 0.44\n",
    "\n",
    "CIC and IDH1 : 0.32 \n",
    "\n",
    "All of these genes are fundamental in cancer development, they are involved in tasks such as cell division regulation, transcriptional repression, tumor growth interruption under unfavorable conditions (e.g. tumors), DNA structure modification. \n",
    "\n",
    "It is reasonable to expect that these genes would be most correlated to higher grades glioma. \n",
    "Need to determine whether this can be taken as enough evidence to \"cluster\" them and do PCA.\n"
   ]
  },
  {
   "cell_type": "code",
   "execution_count": null,
   "metadata": {},
   "outputs": [
    {
     "data": {
      "text/plain": [
       "<AxesSubplot:>"
      ]
     },
     "execution_count": 92,
     "metadata": {},
     "output_type": "execute_result"
    },
    {
     "data": {
      "image/png": "[encoded data removed]",
      "text/plain": [
       "<Figure size 1152x432 with 2 Axes>"
      ]
     },
     "metadata": {
      "needs_background": "light"
     },
     "output_type": "display_data"
    }
   ],
   "source": [
    "# Plotting selected genes correlation with glioma grade \n",
    "plt.figure(figsize=(16, 6))\n",
    "corr_genesglioma = correlated_genes = ['ATRX', 'IDH1', 'TP53', 'CIC', 'FUBP1' , 'Grade']\n",
    "corr3 = df[corr_genesglioma].corr()\n",
    "\n",
    "# Getting the Upper Triangle of the co-relation matrix\n",
    "matrix3 = np.triu(corr3)\n",
    "\n",
    "\n",
    "sns.heatmap(corr3, annot=True, mask=matrix3, vmin=-1, vmax=1, linewidths=.5, cmap='BrBG')\n",
    "\n",
    "#stronger correlation means that if the genes are mutated, the grade is more likely to be GBM. This is because we assigned 1 to mutation and 1 to GBM."
   ]
  },
  {
   "cell_type": "markdown",
   "metadata": {},
   "source": []
  },
  {
   "cell_type": "code",
   "execution_count": null,
   "metadata": {},
   "outputs": [],
   "source": [
    "#compare w open source results and see if your accuracy is better\n",
    "#dont divide mutations in 0 and 1\n",
    "#threshold of each gene expression"
   ]
  },
  {
   "cell_type": "markdown",
   "metadata": {},
   "source": [
    "we thought accuracy wouldnt be the best metrics, so we chose recall (sensitivity): the cost of misclassifying a GBM as a \"simpler\" LGG is very high, we really care about false negatives. A false negative here, since GBM is 1 and LGG is 0, is a classification of LGG which in reality should have been classified as GBM. \n",
    "\n",
    "AUC-ROC comparing classification ability between models. \n",
    "\n",
    "\n",
    "\n",
    "TODO: mention why didnt pick PCA (We think every feature is important)\n",
    "\n",
    "TODO: ASk ossnat if we should use PCA\n",
    "\n",
    "TODO: try random search as well as grid search https://www.kdnuggets.com/2022/10/hyperparameter-tuning-grid-search-random-search-python.html"
   ]
  }
 ],
 "metadata": {
  "kernelspec": {
   "display_name": "base",
   "language": "python",
   "name": "python3"
  },
  "language_info": {
   "codemirror_mode": {
    "name": "ipython",
    "version": 3
   },
   "file_extension": ".py",
   "mimetype": "text/x-python",
   "name": "python",
   "nbconvert_exporter": "python",
   "pygments_lexer": "ipython3",
   "version": "3.9.12"
  }
 },
 "nbformat": 4,
 "nbformat_minor": 2
}
