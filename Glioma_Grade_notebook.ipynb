{
 "cells": [
  {
   "cell_type": "markdown",
   "metadata": {},
   "source": [
    "# Glioma Grade Classification Task \n",
    "\n",
    "This notebook aims at properly classifying the two different grades of CNS glial cells cancer: low-grade gliomas (LGG) and high-grade gliomas (HGG). While the former is slowly progressing and usually does not require treatment, the latter is incredibly aggressive and frequently metastatizes. Thus, correct classification is pivotal to ensure each patient receives adequate care for their specific glioma type.\n",
    "\n",
    " The employed dataset is taken from the TCGA (the Cancer Genome Atlas) Program, which provides the 20 most frequently mutated genes in glioma patients, as well as several clinical features. \n",
    "\n",
    "In what follows, we will carry out:\n",
    "- Exploratory data analysis and data preprocessing;\n",
    "- Categorical dimensionality reduction;\n",
    "- Model selection out of a range of possible classifiers; \n",
    "- Improve the classifiers' performance through hyperparameter tuning."
   ]
  },
  {
   "cell_type": "code",
   "execution_count": 17,
   "metadata": {},
   "outputs": [],
   "source": [
    "# necessary import statements\n",
    "import warnings\n",
    "warnings.filterwarnings('ignore')\n",
    "import pandas as pd\n",
    "import seaborn as sns\n",
    "import matplotlib.pyplot as plt\n",
    "import numpy as np\n",
    "import plotly.graph_objs as go\n",
    "from collections import OrderedDict\n",
    "from operator import itemgetter\n",
    "from plotly.subplots import make_subplots\n",
    "from sklearn import svm, tree \n",
    "from sklearn.model_selection import train_test_split, GridSearchCV, RandomizedSearchCV , cross_val_score, StratifiedKFold\n",
    "from sklearn.metrics import accuracy_score, confusion_matrix, roc_auc_score, ConfusionMatrixDisplay, roc_curve, auc, recall_score\n",
    "from sklearn.ensemble import RandomForestClassifier, AdaBoostClassifier\n",
    "from sklearn.linear_model import LogisticRegression\n",
    "import prince\n",
    "import mca"
   ]
  },
  {
   "cell_type": "markdown",
   "metadata": {},
   "source": [
    "First, let us visualize the raw dataset. \n",
    "\n",
    "Immediately, we notice that the only type of High Grade Glioma is Glioblastoma Multiforme (GBMs), which is considered a grade IV astrocytoma. Further, the dataset does not distinguish between primary GBMs (arising de novo) and secondary GBMs (evolving from lower grades); thus, drawing molecular conclusions on the differences between the two will not be straightforward. Interestingly, this dataset classifies grade III gliomas as low-grade, which is in conflict with World Health Organization glioma grade classifications. \n",
    "For more insight on these remarks, please make sure to visit the explanations available in the project's [README](https://github.com/irenebernardi/Glioma-Grading-Classification/blob/main/README.md)."
   ]
  },
  {
   "cell_type": "code",
   "execution_count": 28,
   "metadata": {},
   "outputs": [
    {
     "data": {
      "text/html": [
       "<div>\n",
       "<style scoped>\n",
       "    .dataframe tbody tr th:only-of-type {\n",
       "        vertical-align: middle;\n",
       "    }\n",
       "\n",
       "    .dataframe tbody tr th {\n",
       "        vertical-align: top;\n",
       "    }\n",
       "\n",
       "    .dataframe thead th {\n",
       "        text-align: right;\n",
       "    }\n",
       "</style>\n",
       "<table border=\"1\" class=\"dataframe\">\n",
       "  <thead>\n",
       "    <tr style=\"text-align: right;\">\n",
       "      <th></th>\n",
       "      <th>Grade</th>\n",
       "      <th>Project</th>\n",
       "      <th>Case_ID</th>\n",
       "      <th>Gender</th>\n",
       "      <th>Age_at_diagnosis</th>\n",
       "      <th>Primary_Diagnosis</th>\n",
       "      <th>Race</th>\n",
       "      <th>IDH1</th>\n",
       "      <th>TP53</th>\n",
       "      <th>ATRX</th>\n",
       "      <th>...</th>\n",
       "      <th>FUBP1</th>\n",
       "      <th>RB1</th>\n",
       "      <th>NOTCH1</th>\n",
       "      <th>BCOR</th>\n",
       "      <th>CSMD3</th>\n",
       "      <th>SMARCA4</th>\n",
       "      <th>GRIN2A</th>\n",
       "      <th>IDH2</th>\n",
       "      <th>FAT4</th>\n",
       "      <th>PDGFRA</th>\n",
       "    </tr>\n",
       "  </thead>\n",
       "  <tbody>\n",
       "    <tr>\n",
       "      <th>0</th>\n",
       "      <td>LGG</td>\n",
       "      <td>TCGA-LGG</td>\n",
       "      <td>TCGA-DU-8164</td>\n",
       "      <td>Male</td>\n",
       "      <td>51 years 108 days</td>\n",
       "      <td>Oligodendroglioma, NOS</td>\n",
       "      <td>white</td>\n",
       "      <td>MUTATED</td>\n",
       "      <td>NOT_MUTATED</td>\n",
       "      <td>NOT_MUTATED</td>\n",
       "      <td>...</td>\n",
       "      <td>MUTATED</td>\n",
       "      <td>NOT_MUTATED</td>\n",
       "      <td>NOT_MUTATED</td>\n",
       "      <td>NOT_MUTATED</td>\n",
       "      <td>NOT_MUTATED</td>\n",
       "      <td>NOT_MUTATED</td>\n",
       "      <td>NOT_MUTATED</td>\n",
       "      <td>NOT_MUTATED</td>\n",
       "      <td>NOT_MUTATED</td>\n",
       "      <td>NOT_MUTATED</td>\n",
       "    </tr>\n",
       "    <tr>\n",
       "      <th>1</th>\n",
       "      <td>LGG</td>\n",
       "      <td>TCGA-LGG</td>\n",
       "      <td>TCGA-QH-A6CY</td>\n",
       "      <td>Male</td>\n",
       "      <td>38 years 261 days</td>\n",
       "      <td>Mixed glioma</td>\n",
       "      <td>white</td>\n",
       "      <td>MUTATED</td>\n",
       "      <td>NOT_MUTATED</td>\n",
       "      <td>NOT_MUTATED</td>\n",
       "      <td>...</td>\n",
       "      <td>NOT_MUTATED</td>\n",
       "      <td>NOT_MUTATED</td>\n",
       "      <td>NOT_MUTATED</td>\n",
       "      <td>NOT_MUTATED</td>\n",
       "      <td>NOT_MUTATED</td>\n",
       "      <td>NOT_MUTATED</td>\n",
       "      <td>NOT_MUTATED</td>\n",
       "      <td>NOT_MUTATED</td>\n",
       "      <td>NOT_MUTATED</td>\n",
       "      <td>NOT_MUTATED</td>\n",
       "    </tr>\n",
       "    <tr>\n",
       "      <th>2</th>\n",
       "      <td>LGG</td>\n",
       "      <td>TCGA-LGG</td>\n",
       "      <td>TCGA-HW-A5KM</td>\n",
       "      <td>Male</td>\n",
       "      <td>35 years 62 days</td>\n",
       "      <td>Astrocytoma, NOS</td>\n",
       "      <td>white</td>\n",
       "      <td>MUTATED</td>\n",
       "      <td>MUTATED</td>\n",
       "      <td>MUTATED</td>\n",
       "      <td>...</td>\n",
       "      <td>NOT_MUTATED</td>\n",
       "      <td>NOT_MUTATED</td>\n",
       "      <td>NOT_MUTATED</td>\n",
       "      <td>NOT_MUTATED</td>\n",
       "      <td>NOT_MUTATED</td>\n",
       "      <td>NOT_MUTATED</td>\n",
       "      <td>NOT_MUTATED</td>\n",
       "      <td>NOT_MUTATED</td>\n",
       "      <td>NOT_MUTATED</td>\n",
       "      <td>NOT_MUTATED</td>\n",
       "    </tr>\n",
       "    <tr>\n",
       "      <th>3</th>\n",
       "      <td>LGG</td>\n",
       "      <td>TCGA-LGG</td>\n",
       "      <td>TCGA-E1-A7YE</td>\n",
       "      <td>Female</td>\n",
       "      <td>32 years 283 days</td>\n",
       "      <td>Astrocytoma, anaplastic</td>\n",
       "      <td>white</td>\n",
       "      <td>MUTATED</td>\n",
       "      <td>MUTATED</td>\n",
       "      <td>MUTATED</td>\n",
       "      <td>...</td>\n",
       "      <td>NOT_MUTATED</td>\n",
       "      <td>NOT_MUTATED</td>\n",
       "      <td>NOT_MUTATED</td>\n",
       "      <td>NOT_MUTATED</td>\n",
       "      <td>NOT_MUTATED</td>\n",
       "      <td>NOT_MUTATED</td>\n",
       "      <td>NOT_MUTATED</td>\n",
       "      <td>NOT_MUTATED</td>\n",
       "      <td>MUTATED</td>\n",
       "      <td>NOT_MUTATED</td>\n",
       "    </tr>\n",
       "    <tr>\n",
       "      <th>4</th>\n",
       "      <td>LGG</td>\n",
       "      <td>TCGA-LGG</td>\n",
       "      <td>TCGA-S9-A6WG</td>\n",
       "      <td>Male</td>\n",
       "      <td>31 years 187 days</td>\n",
       "      <td>Astrocytoma, anaplastic</td>\n",
       "      <td>white</td>\n",
       "      <td>MUTATED</td>\n",
       "      <td>MUTATED</td>\n",
       "      <td>MUTATED</td>\n",
       "      <td>...</td>\n",
       "      <td>NOT_MUTATED</td>\n",
       "      <td>NOT_MUTATED</td>\n",
       "      <td>NOT_MUTATED</td>\n",
       "      <td>NOT_MUTATED</td>\n",
       "      <td>NOT_MUTATED</td>\n",
       "      <td>NOT_MUTATED</td>\n",
       "      <td>NOT_MUTATED</td>\n",
       "      <td>NOT_MUTATED</td>\n",
       "      <td>NOT_MUTATED</td>\n",
       "      <td>NOT_MUTATED</td>\n",
       "    </tr>\n",
       "    <tr>\n",
       "      <th>...</th>\n",
       "      <td>...</td>\n",
       "      <td>...</td>\n",
       "      <td>...</td>\n",
       "      <td>...</td>\n",
       "      <td>...</td>\n",
       "      <td>...</td>\n",
       "      <td>...</td>\n",
       "      <td>...</td>\n",
       "      <td>...</td>\n",
       "      <td>...</td>\n",
       "      <td>...</td>\n",
       "      <td>...</td>\n",
       "      <td>...</td>\n",
       "      <td>...</td>\n",
       "      <td>...</td>\n",
       "      <td>...</td>\n",
       "      <td>...</td>\n",
       "      <td>...</td>\n",
       "      <td>...</td>\n",
       "      <td>...</td>\n",
       "      <td>...</td>\n",
       "    </tr>\n",
       "    <tr>\n",
       "      <th>857</th>\n",
       "      <td>GBM</td>\n",
       "      <td>TCGA-GBM</td>\n",
       "      <td>TCGA-19-5959</td>\n",
       "      <td>Female</td>\n",
       "      <td>77 years 325 days</td>\n",
       "      <td>Glioblastoma</td>\n",
       "      <td>white</td>\n",
       "      <td>NOT_MUTATED</td>\n",
       "      <td>NOT_MUTATED</td>\n",
       "      <td>NOT_MUTATED</td>\n",
       "      <td>...</td>\n",
       "      <td>NOT_MUTATED</td>\n",
       "      <td>NOT_MUTATED</td>\n",
       "      <td>NOT_MUTATED</td>\n",
       "      <td>NOT_MUTATED</td>\n",
       "      <td>NOT_MUTATED</td>\n",
       "      <td>NOT_MUTATED</td>\n",
       "      <td>NOT_MUTATED</td>\n",
       "      <td>NOT_MUTATED</td>\n",
       "      <td>NOT_MUTATED</td>\n",
       "      <td>NOT_MUTATED</td>\n",
       "    </tr>\n",
       "    <tr>\n",
       "      <th>858</th>\n",
       "      <td>GBM</td>\n",
       "      <td>TCGA-GBM</td>\n",
       "      <td>TCGA-16-0846</td>\n",
       "      <td>Male</td>\n",
       "      <td>85 years 65 days</td>\n",
       "      <td>Glioblastoma</td>\n",
       "      <td>white</td>\n",
       "      <td>NOT_MUTATED</td>\n",
       "      <td>MUTATED</td>\n",
       "      <td>NOT_MUTATED</td>\n",
       "      <td>...</td>\n",
       "      <td>NOT_MUTATED</td>\n",
       "      <td>NOT_MUTATED</td>\n",
       "      <td>NOT_MUTATED</td>\n",
       "      <td>NOT_MUTATED</td>\n",
       "      <td>NOT_MUTATED</td>\n",
       "      <td>NOT_MUTATED</td>\n",
       "      <td>NOT_MUTATED</td>\n",
       "      <td>NOT_MUTATED</td>\n",
       "      <td>NOT_MUTATED</td>\n",
       "      <td>NOT_MUTATED</td>\n",
       "    </tr>\n",
       "    <tr>\n",
       "      <th>859</th>\n",
       "      <td>GBM</td>\n",
       "      <td>TCGA-GBM</td>\n",
       "      <td>TCGA-28-1746</td>\n",
       "      <td>Female</td>\n",
       "      <td>77 years 178 days</td>\n",
       "      <td>Glioblastoma</td>\n",
       "      <td>white</td>\n",
       "      <td>NOT_MUTATED</td>\n",
       "      <td>MUTATED</td>\n",
       "      <td>NOT_MUTATED</td>\n",
       "      <td>...</td>\n",
       "      <td>NOT_MUTATED</td>\n",
       "      <td>NOT_MUTATED</td>\n",
       "      <td>NOT_MUTATED</td>\n",
       "      <td>NOT_MUTATED</td>\n",
       "      <td>NOT_MUTATED</td>\n",
       "      <td>NOT_MUTATED</td>\n",
       "      <td>NOT_MUTATED</td>\n",
       "      <td>NOT_MUTATED</td>\n",
       "      <td>NOT_MUTATED</td>\n",
       "      <td>NOT_MUTATED</td>\n",
       "    </tr>\n",
       "    <tr>\n",
       "      <th>860</th>\n",
       "      <td>GBM</td>\n",
       "      <td>TCGA-GBM</td>\n",
       "      <td>TCGA-32-2491</td>\n",
       "      <td>Male</td>\n",
       "      <td>63 years 121 days</td>\n",
       "      <td>Glioblastoma</td>\n",
       "      <td>white</td>\n",
       "      <td>NOT_MUTATED</td>\n",
       "      <td>MUTATED</td>\n",
       "      <td>NOT_MUTATED</td>\n",
       "      <td>...</td>\n",
       "      <td>NOT_MUTATED</td>\n",
       "      <td>MUTATED</td>\n",
       "      <td>NOT_MUTATED</td>\n",
       "      <td>NOT_MUTATED</td>\n",
       "      <td>NOT_MUTATED</td>\n",
       "      <td>NOT_MUTATED</td>\n",
       "      <td>NOT_MUTATED</td>\n",
       "      <td>NOT_MUTATED</td>\n",
       "      <td>NOT_MUTATED</td>\n",
       "      <td>NOT_MUTATED</td>\n",
       "    </tr>\n",
       "    <tr>\n",
       "      <th>861</th>\n",
       "      <td>GBM</td>\n",
       "      <td>TCGA-GBM</td>\n",
       "      <td>TCGA-06-2557</td>\n",
       "      <td>Male</td>\n",
       "      <td>76 years 221 days</td>\n",
       "      <td>Glioblastoma</td>\n",
       "      <td>black or african american</td>\n",
       "      <td>NOT_MUTATED</td>\n",
       "      <td>NOT_MUTATED</td>\n",
       "      <td>NOT_MUTATED</td>\n",
       "      <td>...</td>\n",
       "      <td>NOT_MUTATED</td>\n",
       "      <td>NOT_MUTATED</td>\n",
       "      <td>NOT_MUTATED</td>\n",
       "      <td>NOT_MUTATED</td>\n",
       "      <td>NOT_MUTATED</td>\n",
       "      <td>NOT_MUTATED</td>\n",
       "      <td>NOT_MUTATED</td>\n",
       "      <td>NOT_MUTATED</td>\n",
       "      <td>NOT_MUTATED</td>\n",
       "      <td>NOT_MUTATED</td>\n",
       "    </tr>\n",
       "  </tbody>\n",
       "</table>\n",
       "<p>862 rows × 27 columns</p>\n",
       "</div>"
      ],
      "text/plain": [
       "    Grade   Project       Case_ID  Gender   Age_at_diagnosis  \\\n",
       "0     LGG  TCGA-LGG  TCGA-DU-8164    Male  51 years 108 days   \n",
       "1     LGG  TCGA-LGG  TCGA-QH-A6CY    Male  38 years 261 days   \n",
       "2     LGG  TCGA-LGG  TCGA-HW-A5KM    Male   35 years 62 days   \n",
       "3     LGG  TCGA-LGG  TCGA-E1-A7YE  Female  32 years 283 days   \n",
       "4     LGG  TCGA-LGG  TCGA-S9-A6WG    Male  31 years 187 days   \n",
       "..    ...       ...           ...     ...                ...   \n",
       "857   GBM  TCGA-GBM  TCGA-19-5959  Female  77 years 325 days   \n",
       "858   GBM  TCGA-GBM  TCGA-16-0846    Male   85 years 65 days   \n",
       "859   GBM  TCGA-GBM  TCGA-28-1746  Female  77 years 178 days   \n",
       "860   GBM  TCGA-GBM  TCGA-32-2491    Male  63 years 121 days   \n",
       "861   GBM  TCGA-GBM  TCGA-06-2557    Male  76 years 221 days   \n",
       "\n",
       "           Primary_Diagnosis                       Race         IDH1  \\\n",
       "0     Oligodendroglioma, NOS                      white      MUTATED   \n",
       "1               Mixed glioma                      white      MUTATED   \n",
       "2           Astrocytoma, NOS                      white      MUTATED   \n",
       "3    Astrocytoma, anaplastic                      white      MUTATED   \n",
       "4    Astrocytoma, anaplastic                      white      MUTATED   \n",
       "..                       ...                        ...          ...   \n",
       "857             Glioblastoma                      white  NOT_MUTATED   \n",
       "858             Glioblastoma                      white  NOT_MUTATED   \n",
       "859             Glioblastoma                      white  NOT_MUTATED   \n",
       "860             Glioblastoma                      white  NOT_MUTATED   \n",
       "861             Glioblastoma  black or african american  NOT_MUTATED   \n",
       "\n",
       "            TP53         ATRX  ...        FUBP1          RB1       NOTCH1  \\\n",
       "0    NOT_MUTATED  NOT_MUTATED  ...      MUTATED  NOT_MUTATED  NOT_MUTATED   \n",
       "1    NOT_MUTATED  NOT_MUTATED  ...  NOT_MUTATED  NOT_MUTATED  NOT_MUTATED   \n",
       "2        MUTATED      MUTATED  ...  NOT_MUTATED  NOT_MUTATED  NOT_MUTATED   \n",
       "3        MUTATED      MUTATED  ...  NOT_MUTATED  NOT_MUTATED  NOT_MUTATED   \n",
       "4        MUTATED      MUTATED  ...  NOT_MUTATED  NOT_MUTATED  NOT_MUTATED   \n",
       "..           ...          ...  ...          ...          ...          ...   \n",
       "857  NOT_MUTATED  NOT_MUTATED  ...  NOT_MUTATED  NOT_MUTATED  NOT_MUTATED   \n",
       "858      MUTATED  NOT_MUTATED  ...  NOT_MUTATED  NOT_MUTATED  NOT_MUTATED   \n",
       "859      MUTATED  NOT_MUTATED  ...  NOT_MUTATED  NOT_MUTATED  NOT_MUTATED   \n",
       "860      MUTATED  NOT_MUTATED  ...  NOT_MUTATED      MUTATED  NOT_MUTATED   \n",
       "861  NOT_MUTATED  NOT_MUTATED  ...  NOT_MUTATED  NOT_MUTATED  NOT_MUTATED   \n",
       "\n",
       "            BCOR        CSMD3      SMARCA4       GRIN2A         IDH2  \\\n",
       "0    NOT_MUTATED  NOT_MUTATED  NOT_MUTATED  NOT_MUTATED  NOT_MUTATED   \n",
       "1    NOT_MUTATED  NOT_MUTATED  NOT_MUTATED  NOT_MUTATED  NOT_MUTATED   \n",
       "2    NOT_MUTATED  NOT_MUTATED  NOT_MUTATED  NOT_MUTATED  NOT_MUTATED   \n",
       "3    NOT_MUTATED  NOT_MUTATED  NOT_MUTATED  NOT_MUTATED  NOT_MUTATED   \n",
       "4    NOT_MUTATED  NOT_MUTATED  NOT_MUTATED  NOT_MUTATED  NOT_MUTATED   \n",
       "..           ...          ...          ...          ...          ...   \n",
       "857  NOT_MUTATED  NOT_MUTATED  NOT_MUTATED  NOT_MUTATED  NOT_MUTATED   \n",
       "858  NOT_MUTATED  NOT_MUTATED  NOT_MUTATED  NOT_MUTATED  NOT_MUTATED   \n",
       "859  NOT_MUTATED  NOT_MUTATED  NOT_MUTATED  NOT_MUTATED  NOT_MUTATED   \n",
       "860  NOT_MUTATED  NOT_MUTATED  NOT_MUTATED  NOT_MUTATED  NOT_MUTATED   \n",
       "861  NOT_MUTATED  NOT_MUTATED  NOT_MUTATED  NOT_MUTATED  NOT_MUTATED   \n",
       "\n",
       "            FAT4       PDGFRA  \n",
       "0    NOT_MUTATED  NOT_MUTATED  \n",
       "1    NOT_MUTATED  NOT_MUTATED  \n",
       "2    NOT_MUTATED  NOT_MUTATED  \n",
       "3        MUTATED  NOT_MUTATED  \n",
       "4    NOT_MUTATED  NOT_MUTATED  \n",
       "..           ...          ...  \n",
       "857  NOT_MUTATED  NOT_MUTATED  \n",
       "858  NOT_MUTATED  NOT_MUTATED  \n",
       "859  NOT_MUTATED  NOT_MUTATED  \n",
       "860  NOT_MUTATED  NOT_MUTATED  \n",
       "861  NOT_MUTATED  NOT_MUTATED  \n",
       "\n",
       "[862 rows x 27 columns]"
      ]
     },
     "execution_count": 28,
     "metadata": {},
     "output_type": "execute_result"
    }
   ],
   "source": [
    "df = pd.read_csv('TCGA_GBM_LGG_Mutations_all.csv')\n",
    "df"
   ]
  },
  {
   "cell_type": "markdown",
   "metadata": {},
   "source": [
    "## Data preprocessing"
   ]
  },
  {
   "cell_type": "markdown",
   "metadata": {},
   "source": [
    "Below, we identify unique values and remove non-reported values. Further:\n",
    "    \n",
    "- We assign:\n",
    "  - A value of 1 to mutated genes;\n",
    "  - A value of 0 to non-mutated genes;\n",
    "  - A value of 1 to the very aggressive Glioblastoma Multiforme ('GBM');\n",
    "  - A value of 0 to the milder Low-grade Gliomas ('LGG');\n",
    "  - A value of 1 for females;\n",
    "  - A value of 0 for males.\n",
    "\n",
    "- We discard the 'Case_ID', 'Project,' and 'Primary_Diagnosis' columns. The reasoning is that: \n",
    "  - The 'Case_ID' is just each patient's ID;\n",
    "  - The 'Project' and the 'Primary_Diagnosis' essentially match with the 'Grade' column.They indicate whether a person comes from the Glioblastoma Multiforme cohort or from the Low Grade Gliomas Cohort.\n",
    "\n",
    "- We one-hot encode the race feature. Please note that this was the only one-hot encoded feature, whereas every gene was simply given a value of 0 or 1. This was done in an effort to not excessively increase dimensionality.\n",
    "\n",
    "- We turn all non numerical values in the 'Age_at_diagnosis' column into numerical values. For example, '51 years 108 days'\tbecomes 51.295890. As the age boxplot does not show outliers, we can impute the missing age values with the mean and median values. Finally, we normalize age values. "
   ]
  },
  {
   "cell_type": "code",
   "execution_count": 29,
   "metadata": {},
   "outputs": [
    {
     "name": "stdout",
     "output_type": "stream",
     "text": [
      "for column Grade unique values are: ['LGG' 'GBM']\n",
      "for column Project unique values are: ['TCGA-LGG' 'TCGA-GBM']\n",
      "for column Case_ID unique values are: ['TCGA-DU-8164' 'TCGA-QH-A6CY' 'TCGA-HW-A5KM' 'TCGA-E1-A7YE'\n",
      " 'TCGA-S9-A6WG' 'TCGA-DB-A4X9' 'TCGA-P5-A5F4' 'TCGA-FG-A4MY'\n",
      " 'TCGA-HT-A5R5' 'TCGA-DU-A76K' 'TCGA-QH-A6CV' 'TCGA-FG-5962'\n",
      " 'TCGA-DU-6402' 'TCGA-DB-A75M' 'TCGA-DB-A4XG' 'TCGA-DU-5851'\n",
      " 'TCGA-DB-A4XH' 'TCGA-HT-7874' 'TCGA-DH-A66D' 'TCGA-DU-5871'\n",
      " 'TCGA-FG-A60J' 'TCGA-E1-A7Z3' 'TCGA-DU-7011' 'TCGA-VW-A8FI'\n",
      " 'TCGA-DU-A7TB' 'TCGA-HT-7856' 'TCGA-TQ-A7RU' 'TCGA-HW-7486'\n",
      " 'TCGA-DU-6399' 'TCGA-DU-A7TA' 'TCGA-HT-A5RA' 'TCGA-DB-5280'\n",
      " 'TCGA-DU-6405' 'TCGA-S9-A7J1' 'TCGA-S9-A7J2' 'TCGA-HW-7495'\n",
      " 'TCGA-FG-A710' 'TCGA-P5-A5ET' 'TCGA-DU-7300' 'TCGA-DU-A5TY'\n",
      " 'TCGA-VM-A8CH' 'TCGA-R8-A6YH' 'TCGA-S9-A6WE' 'TCGA-HT-7681'\n",
      " 'TCGA-KT-A7W1' 'TCGA-FG-5964' 'TCGA-S9-A6TX' 'TCGA-P5-A5F2'\n",
      " 'TCGA-DU-5874' 'TCGA-DU-A5TT' 'TCGA-CS-5396' 'TCGA-DU-7302'\n",
      " 'TCGA-S9-A6TW' 'TCGA-RY-A845' 'TCGA-HT-A61A' 'TCGA-DU-7018'\n",
      " 'TCGA-HW-7489' 'TCGA-R8-A6ML' 'TCGA-DH-5144' 'TCGA-DU-7013'\n",
      " 'TCGA-CS-4941' 'TCGA-WY-A85E' 'TCGA-DH-A7UR' 'TCGA-HT-7689'\n",
      " 'TCGA-S9-A7R7' 'TCGA-HT-A619' 'TCGA-DU-7012' 'TCGA-S9-A6UB'\n",
      " 'TCGA-DB-5281' 'TCGA-QH-A6CX' 'TCGA-E1-5318' 'TCGA-CS-6290'\n",
      " 'TCGA-S9-A6U2' 'TCGA-HT-A74J' 'TCGA-WY-A859' 'TCGA-HT-A5RB'\n",
      " 'TCGA-DU-8168' 'TCGA-QH-A6X3' 'TCGA-DU-5853' 'TCGA-CS-6667'\n",
      " 'TCGA-S9-A89V' 'TCGA-HT-8012' 'TCGA-S9-A7IY' 'TCGA-TQ-A7RS'\n",
      " 'TCGA-QH-A6XC' 'TCGA-CS-6668' 'TCGA-DB-5277' 'TCGA-CS-6186'\n",
      " 'TCGA-HT-A4DS' 'TCGA-DU-8165' 'TCGA-HT-7605' 'TCGA-DU-6410'\n",
      " 'TCGA-RY-A83Z' 'TCGA-HW-8321' 'TCGA-S9-A7QW' 'TCGA-S9-A6WL'\n",
      " 'TCGA-DU-A5TW' 'TCGA-HW-A5KL' 'TCGA-WY-A85A' 'TCGA-P5-A72Z'\n",
      " 'TCGA-DU-8163' 'TCGA-DB-5275' 'TCGA-FG-8187' 'TCGA-P5-A5EU'\n",
      " 'TCGA-HT-7478' 'TCGA-QH-A65S' 'TCGA-HT-7881' 'TCGA-TQ-A7RO'\n",
      " 'TCGA-FG-8188' 'TCGA-FG-8182' 'TCGA-HT-A5R7' 'TCGA-DB-5276'\n",
      " 'TCGA-HT-8113' 'TCGA-S9-A7R2' 'TCGA-HT-7483' 'TCGA-S9-A7IS'\n",
      " 'TCGA-QH-A6X4' 'TCGA-DU-A5TP' 'TCGA-FG-6692' 'TCGA-HT-A74H'\n",
      " 'TCGA-DU-A6S2' 'TCGA-DU-6394' 'TCGA-R8-A6MO' 'TCGA-S9-A7IQ'\n",
      " 'TCGA-FG-8189' 'TCGA-FG-A70Z' 'TCGA-HT-7474' 'TCGA-HT-8010'\n",
      " 'TCGA-P5-A72U' 'TCGA-HT-8018' 'TCGA-HW-8320' 'TCGA-DU-6542'\n",
      " 'TCGA-E1-A7YN' 'TCGA-CS-5394' 'TCGA-FG-A4MX' 'TCGA-S9-A6WH'\n",
      " 'TCGA-WY-A85B' 'TCGA-S9-A7IZ' 'TCGA-S9-A7QZ' 'TCGA-DB-A75L'\n",
      " 'TCGA-E1-A7YO' 'TCGA-P5-A5EZ' 'TCGA-S9-A7R8' 'TCGA-E1-A7YY'\n",
      " 'TCGA-HT-7604' 'TCGA-E1-5304' 'TCGA-S9-A89Z' 'TCGA-E1-5307'\n",
      " 'TCGA-FG-A711' 'TCGA-TM-A84R' 'TCGA-HW-7490' 'TCGA-HT-8564'\n",
      " 'TCGA-HT-7875' 'TCGA-DH-5140' 'TCGA-WY-A85D' 'TCGA-TQ-A7RK'\n",
      " 'TCGA-FG-6688' 'TCGA-HT-7479' 'TCGA-DU-8167' 'TCGA-E1-A7YM'\n",
      " 'TCGA-QH-A6CW' 'TCGA-DU-8162' 'TCGA-P5-A5EV' 'TCGA-DB-A64Q'\n",
      " 'TCGA-DU-A5TR' 'TCGA-TM-A7CF' 'TCGA-FG-A6IZ' 'TCGA-HT-7687'\n",
      " 'TCGA-TM-A84J' 'TCGA-HT-A61C' 'TCGA-DU-A76R' 'TCGA-HT-7481'\n",
      " 'TCGA-DB-A4XB' 'TCGA-FG-A87N' 'TCGA-S9-A7J0' 'TCGA-CS-5397'\n",
      " 'TCGA-WY-A85C' 'TCGA-CS-6188' 'TCGA-HT-7690' 'TCGA-TQ-A7RN'\n",
      " 'TCGA-FG-A6J1' 'TCGA-TM-A7C5' 'TCGA-DU-5854' 'TCGA-TM-A84T'\n",
      " 'TCGA-DH-A669' 'TCGA-FG-A4MW' 'TCGA-E1-5302' 'TCGA-HT-7603'\n",
      " 'TCGA-S9-A6WP' 'TCGA-HT-A4DV' 'TCGA-DB-5270' 'TCGA-E1-A7YW'\n",
      " 'TCGA-DU-7009' 'TCGA-HT-8108' 'TCGA-DU-7306' 'TCGA-DB-A64P'\n",
      " 'TCGA-HT-7688' 'TCGA-VM-A8CD' 'TCGA-DB-A64X' 'TCGA-HT-7877'\n",
      " 'TCGA-DH-A66F' 'TCGA-P5-A77W' 'TCGA-HT-A5R9' 'TCGA-E1-A7YS'\n",
      " 'TCGA-TM-A7C3' 'TCGA-DU-A6S7' 'TCGA-TQ-A7RJ' 'TCGA-RY-A843'\n",
      " 'TCGA-RY-A840' 'TCGA-DU-6395' 'TCGA-FG-8191' 'TCGA-HT-7606'\n",
      " 'TCGA-HT-7857' 'TCGA-DU-7015' 'TCGA-HT-7609' 'TCGA-S9-A6WI'\n",
      " 'TCGA-S9-A6TZ' 'TCGA-FG-6691' 'TCGA-DU-6401' 'TCGA-DB-5278'\n",
      " 'TCGA-HT-8109' 'TCGA-FG-A4MT' 'TCGA-DU-7292' 'TCGA-CS-4943'\n",
      " 'TCGA-VV-A829' 'TCGA-FN-7833' 'TCGA-HT-7695' 'TCGA-DB-A4XC'\n",
      " 'TCGA-CS-5390' 'TCGA-HT-7855' 'TCGA-DU-A6S6' 'TCGA-VM-A8CB'\n",
      " 'TCGA-FG-A713' 'TCGA-DH-A7US' 'TCGA-WH-A86K' 'TCGA-DU-6403'\n",
      " 'TCGA-DU-5870' 'TCGA-P5-A736' 'TCGA-P5-A72X' 'TCGA-HT-8011'\n",
      " 'TCGA-CS-6670' 'TCGA-HT-8114' 'TCGA-FG-6690' 'TCGA-DU-6408'\n",
      " 'TCGA-IK-7675' 'TCGA-TM-A84I' 'TCGA-DB-A64U' 'TCGA-DU-5847'\n",
      " 'TCGA-E1-A7YJ' 'TCGA-DB-A4XA' 'TCGA-DU-5852' 'TCGA-TM-A7CA'\n",
      " 'TCGA-DU-6407' 'TCGA-HW-A5KJ' 'TCGA-TM-A84H' 'TCGA-HT-7472'\n",
      " 'TCGA-VV-A86M' 'TCGA-DU-A7TD' 'TCGA-S9-A7QX' 'TCGA-E1-A7YI'\n",
      " 'TCGA-HT-7860' 'TCGA-P5-A780' 'TCGA-E1-A7YQ' 'TCGA-S9-A6U5'\n",
      " 'TCGA-HT-8107' 'TCGA-CS-4942' 'TCGA-S9-A6U9' 'TCGA-HT-7686'\n",
      " 'TCGA-DB-A75P' 'TCGA-P5-A5EW' 'TCGA-HT-7607' 'TCGA-DU-7309'\n",
      " 'TCGA-P5-A737' 'TCGA-S9-A6WM' 'TCGA-FG-7636' 'TCGA-E1-5322'\n",
      " 'TCGA-TQ-A7RF' 'TCGA-DU-7010' 'TCGA-QH-A6CS' 'TCGA-HT-7476'\n",
      " 'TCGA-HT-7884' 'TCGA-DU-A7TC' 'TCGA-CS-6666' 'TCGA-HT-7610'\n",
      " 'TCGA-FG-A60K' 'TCGA-S9-A6U8' 'TCGA-HT-8563' 'TCGA-TQ-A7RH'\n",
      " 'TCGA-S9-A6U1' 'TCGA-DU-7301' 'TCGA-FG-6689' 'TCGA-HT-8013'\n",
      " 'TCGA-HT-A616' 'TCGA-DU-7008' 'TCGA-E1-A7YD' 'TCGA-E1-A7YK'\n",
      " 'TCGA-TM-A84Q' 'TCGA-WY-A858' 'TCGA-F6-A8O4' 'TCGA-R8-A6MK'\n",
      " 'TCGA-VM-A8CF' 'TCGA-FG-5965' 'TCGA-HT-7854' 'TCGA-RY-A847'\n",
      " 'TCGA-DU-5849' 'TCGA-FG-7637' 'TCGA-QH-A65R' 'TCGA-S9-A7R3'\n",
      " 'TCGA-P5-A735' 'TCGA-HT-A618' 'TCGA-E1-A7Z2' 'TCGA-TQ-A7RM'\n",
      " 'TCGA-HT-7694' 'TCGA-VM-A8C8' 'TCGA-HT-7616' 'TCGA-CS-5395'\n",
      " 'TCGA-S9-A7J3' 'TCGA-E1-5303' 'TCGA-CS-4944' 'TCGA-HT-7882'\n",
      " 'TCGA-DH-A7UT' 'TCGA-DB-A64O' 'TCGA-VW-A7QS' 'TCGA-QH-A870'\n",
      " 'TCGA-DU-A5TS' 'TCGA-P5-A731' 'TCGA-KT-A74X' 'TCGA-FG-A4MU'\n",
      " 'TCGA-E1-5311' 'TCGA-HT-7902' 'TCGA-DU-7290' 'TCGA-DB-5274'\n",
      " 'TCGA-FG-A60L' 'TCGA-P5-A781' 'TCGA-DB-A4XD' 'TCGA-DU-6393'\n",
      " 'TCGA-S9-A6U0' 'TCGA-DU-7298' 'TCGA-DU-7299' 'TCGA-DU-A7TG'\n",
      " 'TCGA-FG-A6J3' 'TCGA-DB-5279' 'TCGA-QH-A6X5' 'TCGA-CS-4938'\n",
      " 'TCGA-DU-5872' 'TCGA-DU-7007' 'TCGA-P5-A77X' 'TCGA-DU-7304'\n",
      " 'TCGA-DU-A6S3' 'TCGA-QH-A86X' 'TCGA-E1-5319' 'TCGA-HT-A5RC'\n",
      " 'TCGA-HT-8106' 'TCGA-S9-A6UA' 'TCGA-TM-A84S' 'TCGA-HT-7620'\n",
      " 'TCGA-DU-A7T6' 'TCGA-HT-7611' 'TCGA-DU-A6S8' 'TCGA-QH-A65V'\n",
      " 'TCGA-TM-A84B' 'TCGA-QH-A6CZ' 'TCGA-TM-A84G' 'TCGA-DU-8161'\n",
      " 'TCGA-HT-7477' 'TCGA-DU-6392' 'TCGA-CS-5393' 'TCGA-S9-A6WO'\n",
      " 'TCGA-S9-A7R4' 'TCGA-RY-A83X' 'TCGA-HT-7693' 'TCGA-HT-7467'\n",
      " 'TCGA-FG-8186' 'TCGA-HW-A5KK' 'TCGA-DB-A75O' 'TCGA-DB-A64W'\n",
      " 'TCGA-DB-A4XF' 'TCGA-FG-7638' 'TCGA-HT-A74K' 'TCGA-HT-8105'\n",
      " 'TCGA-S9-A6U6' 'TCGA-FG-A70Y' 'TCGA-F6-A8O3' 'TCGA-QH-A65Z'\n",
      " 'TCGA-DU-6397' 'TCGA-S9-A6TS' 'TCGA-DH-5142' 'TCGA-P5-A730'\n",
      " 'TCGA-TM-A84C' 'TCGA-TM-A84M' 'TCGA-TM-A84O' 'TCGA-S9-A7IX'\n",
      " 'TCGA-DU-A76L' 'TCGA-QH-A6X8' 'TCGA-HW-8319' 'TCGA-DB-A4XE'\n",
      " 'TCGA-VM-A8C9' 'TCGA-HT-7677' 'TCGA-DH-A7UU' 'TCGA-E1-A7Z6'\n",
      " 'TCGA-P5-A5F0' 'TCGA-DU-7019' 'TCGA-HT-7879' 'TCGA-DB-A64L'\n",
      " 'TCGA-HT-7469' 'TCGA-TM-A84F' 'TCGA-S9-A6TY' 'TCGA-RY-A83Y'\n",
      " 'TCGA-E1-A7YH' 'TCGA-DH-5141' 'TCGA-HT-A615' 'TCGA-HT-7676'\n",
      " 'TCGA-HT-7873' 'TCGA-HT-7473' 'TCGA-DU-6400' 'TCGA-HW-8322'\n",
      " 'TCGA-HT-7480' 'TCGA-DU-7006' 'TCGA-P5-A72W' 'TCGA-S9-A7R1'\n",
      " 'TCGA-HT-7684' 'TCGA-E1-A7YV' 'TCGA-P5-A5F1' 'TCGA-S9-A6WN'\n",
      " 'TCGA-DU-A7T8' 'TCGA-HW-7487' 'TCGA-DU-A7TJ' 'TCGA-DU-5855'\n",
      " 'TCGA-S9-A6TV' 'TCGA-DH-A66B' 'TCGA-HT-8104' 'TCGA-FG-A87Q'\n",
      " 'TCGA-P5-A733' 'TCGA-E1-A7Z4' 'TCGA-EZ-7264' 'TCGA-S9-A7QY'\n",
      " 'TCGA-DU-6396' 'TCGA-W9-A837' 'TCGA-FG-7641' 'TCGA-HT-7471'\n",
      " 'TCGA-HT-7470' 'TCGA-QH-A6CU' 'TCGA-HT-7485' 'TCGA-TQ-A7RW'\n",
      " 'TCGA-HT-7608' 'TCGA-R8-A73M' 'TCGA-HT-A74O' 'TCGA-HT-7468'\n",
      " 'TCGA-HT-7880' 'TCGA-HT-7858' 'TCGA-HT-A614' 'TCGA-HW-7491'\n",
      " 'TCGA-FG-5963' 'TCGA-DH-A7UV' 'TCGA-TQ-A7RG' 'TCGA-VM-A8CA'\n",
      " 'TCGA-HT-A61B' 'TCGA-E1-A7YU' 'TCGA-QH-A65X' 'TCGA-VM-A8CE'\n",
      " 'TCGA-TQ-A7RP' 'TCGA-E1-A7YL' 'TCGA-DU-8158' 'TCGA-HT-7692'\n",
      " 'TCGA-FG-7643' 'TCGA-DB-5273' 'TCGA-TQ-A7RV' 'TCGA-DU-A5TU'\n",
      " 'TCGA-DB-A75K' 'TCGA-TQ-A7RI' 'TCGA-FG-8185' 'TCGA-HT-8111'\n",
      " 'TCGA-TQ-A7RR' 'TCGA-TQ-A8XE' 'TCGA-HT-A617' 'TCGA-DB-A64V'\n",
      " 'TCGA-DU-8166' 'TCGA-TM-A7C4' 'TCGA-FG-7634' 'TCGA-QH-A6XA'\n",
      " 'TCGA-HT-7602' 'TCGA-S9-A6TU' 'TCGA-DH-A66G' 'TCGA-TQ-A7RQ'\n",
      " 'TCGA-HT-A74L' 'TCGA-HT-7475' 'TCGA-QH-A6X9' 'TCGA-IK-8125'\n",
      " 'TCGA-S9-A6WQ' 'TCGA-DH-5143' 'TCGA-DB-A64R' 'TCGA-DB-A64S'\n",
      " 'TCGA-P5-A5EX' 'TCGA-DU-7294' 'TCGA-E1-5305' 'TCGA-CS-6665'\n",
      " 'TCGA-HT-7601' 'TCGA-HT-8110' 'TCGA-TM-A84L' 'TCGA-14-1450'\n",
      " 'TCGA-12-0819' 'TCGA-32-1991' 'TCGA-76-6660' 'TCGA-76-6285'\n",
      " 'TCGA-74-6575' 'TCGA-81-5911' 'TCGA-28-5220' 'TCGA-06-0876'\n",
      " 'TCGA-14-0787' 'TCGA-06-0939' 'TCGA-06-0152' 'TCGA-32-1982'\n",
      " 'TCGA-32-2634' 'TCGA-76-4927' 'TCGA-19-5950' 'TCGA-06-1804'\n",
      " 'TCGA-19-2631' 'TCGA-12-3649' 'TCGA-14-1829' 'TCGA-27-1833'\n",
      " 'TCGA-76-6282' 'TCGA-06-6388' 'TCGA-32-1979' 'TCGA-32-5222'\n",
      " 'TCGA-02-0033' 'TCGA-14-1034' 'TCGA-12-0818' 'TCGA-27-1837'\n",
      " 'TCGA-12-0618' 'TCGA-28-2513' 'TCGA-06-5408' 'TCGA-76-6662'\n",
      " 'TCGA-12-3648' 'TCGA-81-5910' 'TCGA-15-0742' 'TCGA-06-5415'\n",
      " 'TCGA-12-1088' 'TCGA-19-A60I' 'TCGA-12-1092' 'TCGA-19-1790'\n",
      " 'TCGA-14-0812' 'TCGA-16-1460' 'TCGA-28-5204' 'TCGA-41-3915'\n",
      " 'TCGA-14-1451' 'TCGA-06-1084' 'TCGA-06-0125' 'TCGA-76-6656'\n",
      " 'TCGA-14-2554' 'TCGA-06-A7TK' 'TCGA-41-2571' 'TCGA-76-6661'\n",
      " 'TCGA-28-6450' 'TCGA-28-2509' 'TCGA-14-0862' 'TCGA-32-2632'\n",
      " 'TCGA-19-2624' 'TCGA-06-0686' 'TCGA-06-0750' 'TCGA-14-3476'\n",
      " 'TCGA-06-0209' 'TCGA-06-0132' 'TCGA-12-0656' 'TCGA-26-1799'\n",
      " 'TCGA-14-0871' 'TCGA-12-0657' 'TCGA-19-1786' 'TCGA-06-6390'\n",
      " 'TCGA-28-5219' 'TCGA-14-1455' 'TCGA-41-2575' 'TCGA-28-5216'\n",
      " 'TCGA-26-A7UX' 'TCGA-06-A5U0' 'TCGA-32-1980' 'TCGA-19-4068'\n",
      " 'TCGA-06-0744' 'TCGA-76-4935' 'TCGA-26-5133' 'TCGA-41-5651'\n",
      " 'TCGA-19-1787' 'TCGA-28-1745' 'TCGA-28-5213' 'TCGA-74-6577'\n",
      " 'TCGA-32-2638' 'TCGA-19-1791' 'TCGA-06-6693' 'TCGA-06-1087'\n",
      " 'TCGA-76-4928' 'TCGA-32-4210' 'TCGA-06-5412' 'TCGA-06-5417'\n",
      " 'TCGA-28-1752' 'TCGA-06-0747' 'TCGA-06-0169' 'TCGA-26-1442'\n",
      " 'TCGA-28-2499' 'TCGA-27-2518' 'TCGA-06-0216' 'TCGA-28-1750'\n",
      " 'TCGA-06-0137' 'TCGA-06-0184' 'TCGA-19-2620' 'TCGA-41-2573'\n",
      " 'TCGA-27-2524' 'TCGA-06-0190' 'TCGA-12-0773' 'TCGA-06-2563'\n",
      " 'TCGA-74-6573' 'TCGA-06-0185' 'TCGA-06-0140' 'TCGA-27-2528'\n",
      " 'TCGA-41-4097' 'TCGA-14-1823' 'TCGA-12-0619' 'TCGA-06-0219'\n",
      " 'TCGA-14-1456' 'TCGA-06-0192' 'TCGA-02-2486' 'TCGA-16-0861'\n",
      " 'TCGA-06-0875' 'TCGA-06-0879' 'TCGA-74-6581' 'TCGA-74-6578'\n",
      " 'TCGA-14-1396' 'TCGA-06-0195' 'TCGA-28-5218' 'TCGA-06-5416'\n",
      " 'TCGA-19-2623' 'TCGA-02-0003' 'TCGA-06-0189' 'TCGA-76-6286'\n",
      " 'TCGA-12-1597' 'TCGA-14-1453' 'TCGA-19-5960' 'TCGA-76-4929'\n",
      " 'TCGA-76-4925' 'TCGA-12-1600' 'TCGA-19-1789' 'TCGA-12-5301'\n",
      " 'TCGA-12-1598' 'TCGA-02-2470' 'TCGA-19-1385' 'TCGA-06-5858'\n",
      " 'TCGA-06-1806' 'TCGA-12-0688' 'TCGA-12-3652' 'TCGA-14-0813'\n",
      " 'TCGA-32-1970' 'TCGA-06-2570' 'TCGA-27-2527' 'TCGA-14-0740'\n",
      " 'TCGA-02-0055' 'TCGA-06-5418' 'TCGA-06-6701' 'TCGA-19-1390'\n",
      " 'TCGA-06-1800' 'TCGA-32-4213' 'TCGA-06-6694' 'TCGA-06-0122'\n",
      " 'TCGA-12-3651' 'TCGA-19-0957' 'TCGA-14-0817' 'TCGA-19-5958'\n",
      " 'TCGA-19-2625' 'TCGA-14-1825' 'TCGA-27-2521' 'TCGA-OX-A56R'\n",
      " 'TCGA-16-0849' 'TCGA-76-6657' 'TCGA-06-0158' 'TCGA-28-2501'\n",
      " 'TCGA-76-6280' 'TCGA-28-1747' 'TCGA-06-2559' 'TCGA-06-0878'\n",
      " 'TCGA-06-0166' 'TCGA-28-5208' 'TCGA-28-1749' 'TCGA-19-1387'\n",
      " 'TCGA-12-0615' 'TCGA-27-1830' 'TCGA-06-2561' 'TCGA-14-0786'\n",
      " 'TCGA-06-A5U1' 'TCGA-19-5951' 'TCGA-76-6191' 'TCGA-19-4065'\n",
      " 'TCGA-RR-A6KA' 'TCGA-06-0221' 'TCGA-28-2502' 'TCGA-06-5859'\n",
      " 'TCGA-06-6389' 'TCGA-32-2495' 'TCGA-06-0743' 'TCGA-12-0821'\n",
      " 'TCGA-28-1755' 'TCGA-32-4211' 'TCGA-06-2562' 'TCGA-32-4209'\n",
      " 'TCGA-41-3393' 'TCGA-76-4932' 'TCGA-12-0826' 'TCGA-27-2519'\n",
      " 'TCGA-RR-A6KB' 'TCGA-27-1831' 'TCGA-28-2510' 'TCGA-06-0644'\n",
      " 'TCGA-06-2569' 'TCGA-32-1977' 'TCGA-06-0187' 'TCGA-26-5136'\n",
      " 'TCGA-06-0882' 'TCGA-16-0850' 'TCGA-32-1976' 'TCGA-06-0877'\n",
      " 'TCGA-4W-AA9R' 'TCGA-06-2564' 'TCGA-19-1788' 'TCGA-12-0707'\n",
      " 'TCGA-06-0214' 'TCGA-14-0781' 'TCGA-4W-AA9T' 'TCGA-06-5856'\n",
      " 'TCGA-41-6646' 'TCGA-06-0145' 'TCGA-26-1439' 'TCGA-12-1093'\n",
      " 'TCGA-14-0736' 'TCGA-06-0745' 'TCGA-14-0789' 'TCGA-26-6173'\n",
      " 'TCGA-27-1838' 'TCGA-76-6663' 'TCGA-32-2494' 'TCGA-06-2567'\n",
      " 'TCGA-41-2572' 'TCGA-12-0775' 'TCGA-41-3392' 'TCGA-14-3477'\n",
      " 'TCGA-06-A6S1' 'TCGA-12-0692' 'TCGA-14-1795' 'TCGA-19-1386'\n",
      " 'TCGA-19-A6J5' 'TCGA-06-6699' 'TCGA-16-0848' 'TCGA-74-6584'\n",
      " 'TCGA-12-0820' 'TCGA-14-4157' 'TCGA-06-0130' 'TCGA-02-2485'\n",
      " 'TCGA-12-5299' 'TCGA-12-3646' 'TCGA-06-2558' 'TCGA-06-2565'\n",
      " 'TCGA-06-6391' 'TCGA-06-0238' 'TCGA-76-4926' 'TCGA-06-A7TL'\n",
      " 'TCGA-14-0790' 'TCGA-12-0616' 'TCGA-02-0047' 'TCGA-19-5955'\n",
      " 'TCGA-14-1827' 'TCGA-06-0157' 'TCGA-06-0168' 'TCGA-26-5135'\n",
      " 'TCGA-06-6698' 'TCGA-26-5134' 'TCGA-12-5295' 'TCGA-06-0154'\n",
      " 'TCGA-12-0691' 'TCGA-12-1602' 'TCGA-12-0670' 'TCGA-28-1757'\n",
      " 'TCGA-12-0829' 'TCGA-06-0749' 'TCGA-06-5413' 'TCGA-06-0646'\n",
      " 'TCGA-26-6174' 'TCGA-12-0662' 'TCGA-28-2514' 'TCGA-06-0650'\n",
      " 'TCGA-76-4931' 'TCGA-06-0649' 'TCGA-06-0241' 'TCGA-19-5956'\n",
      " 'TCGA-06-0173' 'TCGA-02-2466' 'TCGA-06-6697' 'TCGA-06-0129'\n",
      " 'TCGA-06-6695' 'TCGA-15-1446' 'TCGA-16-1048' 'TCGA-27-2526'\n",
      " 'TCGA-76-6192' 'TCGA-27-2523' 'TCGA-06-0119' 'TCGA-27-1835'\n",
      " 'TCGA-4W-AA9S' 'TCGA-19-2629' 'TCGA-RR-A6KC' 'TCGA-06-0237'\n",
      " 'TCGA-06-0211' 'TCGA-76-6283' 'TCGA-06-0188' 'TCGA-32-4208'\n",
      " 'TCGA-06-5414' 'TCGA-12-3644' 'TCGA-87-5896' 'TCGA-06-5410'\n",
      " 'TCGA-14-1821' 'TCGA-06-0126' 'TCGA-12-0827' 'TCGA-06-0210'\n",
      " 'TCGA-06-0213' 'TCGA-14-1037' 'TCGA-06-0645' 'TCGA-06-0171'\n",
      " 'TCGA-19-5954' 'TCGA-27-1836' 'TCGA-19-2621' 'TCGA-02-2483'\n",
      " 'TCGA-32-1986' 'TCGA-12-1599' 'TCGA-06-A6S0' 'TCGA-14-0865'\n",
      " 'TCGA-16-1045' 'TCGA-28-5209' 'TCGA-19-A6J4' 'TCGA-19-5947'\n",
      " 'TCGA-06-0155' 'TCGA-76-6664' 'TCGA-06-0124' 'TCGA-06-0151'\n",
      " 'TCGA-26-5139' 'TCGA-76-4934' 'TCGA-06-0141' 'TCGA-06-0881'\n",
      " 'TCGA-12-3653' 'TCGA-28-1751' 'TCGA-06-0648' 'TCGA-06-0174'\n",
      " 'TCGA-19-1389' 'TCGA-28-1753' 'TCGA-76-6193' 'TCGA-12-3650'\n",
      " 'TCGA-14-1395' 'TCGA-32-2616' 'TCGA-06-5411' 'TCGA-28-5215'\n",
      " 'TCGA-19-5953' 'TCGA-14-1043' 'TCGA-06-0128' 'TCGA-12-1089'\n",
      " 'TCGA-27-1834' 'TCGA-19-5959' 'TCGA-16-0846' 'TCGA-28-1746'\n",
      " 'TCGA-32-2491' 'TCGA-06-2557']\n",
      "for column Gender unique values are: ['Male' 'Female' '--']\n",
      "for column Age_at_diagnosis unique values are: ['51 years 108 days' '38 years 261 days' '35 years 62 days'\n",
      " '32 years 283 days' '31 years 187 days' '33 years 78 days'\n",
      " '35 years 68 days' '44 years 239 days' '33 years 350 days' '87 years'\n",
      " '51 years 328 days' '54 years 95 days' '52 years 214 days'\n",
      " '47 years 123 days' '34 years 132 days' '40 years 192 days'\n",
      " '53 years 352 days' '41 years 70 days' '43 years 161 days'\n",
      " '37 years 159 days' '47 years 173 days' '31 years 8 days'\n",
      " '25 years 191 days' '66 years 305 days' '56 years 250 days'\n",
      " '35 years 362 days' '51 years 363 days' '37 years 32 days'\n",
      " '54 years 183 days' '32 years 76 days' '65 years 28 days'\n",
      " '43 years 131 days' '51 years 59 days' '43 years 221 days'\n",
      " '25 years 214 days' '45 years 24 days' '50 years 153 days'\n",
      " '27 years 166 days' '53 years 252 days' '46 years 144 days'\n",
      " '24 years 239 days' '--' '34 years 70 days' '29 years 198 days'\n",
      " '45 years 124 days' '62 years 90 days' '46 years 224 days'\n",
      " '36 years 247 days' '62 years 202 days' '70 years 159 days'\n",
      " '53 years 41 days' '48 years 124 days' '40 years 69 days'\n",
      " '40 years 7 days' '20 years 359 days' '57 years 200 days'\n",
      " '38 years 322 days' '52 years 192 days' '56 years 104 days'\n",
      " '59 years 275 days' '67 years 107 days' '48 years 346 days'\n",
      " '59 years 254 days' '58 years 147 days' '27 years 247 days'\n",
      " '51 years 230 days' '74 years 11 days' '52 years 230 days'\n",
      " '61 years 62 days' '66 years 146 days' '42 years 32 days'\n",
      " '31 years 344 days' '48 years 268 days' '33 years 340 days'\n",
      " '34 years 213 days' '24 years 54 days' '55 years 48 days'\n",
      " '27 years 323 days' '29 years 32 days' '39 years 131 days'\n",
      " '70 years 3 days' '30 years 338 days' '39 years 178 days'\n",
      " '25 years 41 days' '48 years 160 days' '57 years 17 days'\n",
      " '34 years 307 days' '58 years 137 days' '55 years 208 days'\n",
      " '60 years 49 days' '38 years 13 days' '56 years 113 days'\n",
      " '54 years 180 days' '31 years 152 days' '54 years 146 days'\n",
      " '52 years 241 days' '33 years 54 days' '42 years 173 days'\n",
      " '20 years 75 days' '64 years 106 days' '29 years 232 days'\n",
      " '36 years 222 days' '31 years 362 days' '36 years 67 days'\n",
      " '32 years 173 days' '38 years 292 days' '29 years 298 days'\n",
      " '41 years 76 days' '35 years 189 days' '33 years 39 days'\n",
      " '32 years 50 days' '49 years 276 days' '69 years 217 days'\n",
      " '14 years 154 days' '33 years 349 days' '47 years 92 days'\n",
      " '33 years 58 days' '63 years 364 days' '62 years 205 days'\n",
      " '37 years 83 days' '53 years 183 days' '53 years 74 days'\n",
      " '45 years 76 days' '33 years 331 days' '53 years 359 days'\n",
      " '52 years 156 days' '64 years 304 days' '71 years 70 days'\n",
      " '40 years 300 days' '36 years 354 days' '25 years 249 days'\n",
      " '63 years 170 days' '40 years 310 days' '47 years 215 days'\n",
      " '73 years 241 days' '24 years 51 days' '48 years 342 days'\n",
      " '41 years 325 days' '36 years 189 days' '45 years 334 days'\n",
      " '44 years 204 days' '27 years 6 days' '50 years 181 days'\n",
      " '42 years 141 days' '40 years 248 days' '62 years 192 days'\n",
      " '33 years 195 days' '46 years 42 days' '41 years 117 days'\n",
      " '47 years 333 days' '56 years 159 days' '38 years 64 days'\n",
      " '60 years 64 days' '29 years 150 days' '59 years 196 days'\n",
      " '44 years 66 days' '69 years 60 days' '63 years 253 days'\n",
      " '43 years 142 days' '61 years 316 days' '39 years 66 days'\n",
      " '31 years 315 days' '51 years 164 days' '41 years 203 days'\n",
      " '60 years 360 days' '74 years 158 days' '63 years 81 days'\n",
      " '66 years 170 days' '51 years 312 days' '39 years 62 days'\n",
      " '38 years 111 days' '37 years 92 days' '30 years 32 days'\n",
      " '54 years 143 days' '36 years 357 days' '48 years 197 days'\n",
      " '29 years 81 days' '32 years 135 days' '44 years 35 days'\n",
      " '30 years 329 days' '57 years 287 days' '19 years 55 days'\n",
      " '70 years 242 days' '63 years 67 days' '41 years 255 days'\n",
      " '29 years 291 days' '42 years 318 days' '51 years 172 days'\n",
      " '38 years 25 days' '28 years 344 days' '32 years 166 days'\n",
      " '26 years 43 days' '67 years 329 days' '40 years 326 days'\n",
      " '59 years 295 days' '58 years 16 days' '56 years 171 days'\n",
      " '20 years 276 days' '49 years 296 days' '37 years 31 days'\n",
      " '48 years 243 days' '71 years 227 days' '43 years 316 days'\n",
      " '27 years 309 days' '25 years 78 days' '30 years 126 days'\n",
      " '47 years 335 days' '31 years 262 days' '30 years 295 days'\n",
      " '30 years 276 days' '24 years 146 days' '41 years 66 days'\n",
      " '34 years 189 days' '56 years 155 days' '39 years 348 days'\n",
      " '23 years 3 days' '31 years 273 days' '17 years 271 days'\n",
      " '64 years 110 days' '27 years 221 days' '69 years 64 days'\n",
      " '37 years 51 days' '44 years 92 days' '25 years 97 days'\n",
      " '29 years 235 days' '26 years 209 days' '47 years 294 days'\n",
      " '39 years 252 days' '35 years 26 days' '33 years 287 days'\n",
      " '74 years 204 days' '50 years 167 days' '65 years 314 days'\n",
      " '60 years 116 days' '34 years 346 days' '44 years 229 days'\n",
      " '21 years 243 days' '55 years 87 days' '43 years 361 days'\n",
      " '36 years 49 days' '70 years 100 days' '23 years 352 days'\n",
      " '43 years 195 days' '30 years 264 days' '38 years 140 days'\n",
      " '34 years 188 days' '55 years 92 days' '30 years 238 days'\n",
      " '61 years 68 days' '44 years 344 days' '35 years 238 days'\n",
      " '68 years 129 days' '44 years 206 days' '38 years 89 days'\n",
      " '36 years 304 days' '52 years 32 days' '36 years 183 days'\n",
      " '33 years 176 days' '60 years 119 days' '44 years 90 days'\n",
      " '58 years 157 days' '33 years 364 days' '62 years 235 days'\n",
      " '44 years 226 days' '36 years 311 days' '29 years 132 days'\n",
      " '25 years 282 days' '20 years 307 days' '61 years 305 days'\n",
      " '41 years 222 days' '47 years 224 days' '59 years 212 days'\n",
      " '48 years 311 days' '38 years 24 days' '27 years 58 days'\n",
      " '58 years 15 days' '26 years 118 days' '44 years 209 days'\n",
      " '32 years 196 days' '22 years 305 days' '25 years 316 days'\n",
      " '34 years 27 days' '24 years 278 days' '30 years 348 days'\n",
      " '39 years 280 days' '22 years 236 days' '53 years 286 days'\n",
      " '30 years 355 days' '37 years 239 days' '36 years 73 days'\n",
      " '41 years 314 days' '57 years 201 days' '52 years 243 days'\n",
      " '31 years 346 days' '32 years 167 days' '44 years 131 days'\n",
      " '40 years 106 days' '44 years 263 days' '39 years 5 days'\n",
      " '62 years 93 days' '45 years 296 days' '48 years 131 days'\n",
      " '49 years 187 days' '38 years 194 days' '28 years 115 days'\n",
      " '38 years 273 days' '37 years 81 days' '41 years 179 days'\n",
      " '60 years 15 days' '50 years 232 days' '75 years 292 days'\n",
      " '43 years 143 days' '52 years 63 days' '38 years 333 days'\n",
      " '66 years 344 days' '30 years 57 days' '59 years 262 days'\n",
      " '35 years 37 days' '38 years 203 days' '42 years 310 days'\n",
      " '59 years 166 days' '26 years 94 days' '58 years 266 days'\n",
      " '31 years 10 days' '30 years 161 days' '45 years 231 days'\n",
      " '37 years 166 days' '34 years 162 days' '34 years 339 days'\n",
      " '32 years 53 days' '66 years 176 days' '46 years 89 days'\n",
      " '38 years 326 days' '33 years 213 days' '40 years 61 days'\n",
      " '52 years 145 days' '59 years 359 days' '58 years 55 days'\n",
      " '43 years 281 days' '33 years 192 days' '55 years 40 days'\n",
      " '43 years 226 days' '60 years 123 days' '33 years 332 days'\n",
      " '48 years 80 days' '70 years 205 days' '53 years 197 days'\n",
      " '66 years 136 days' '36 years 275 days' '40 years 49 days'\n",
      " '73 years 103 days' '36 years 165 days' '74 years 56 days'\n",
      " '43 years 145 days' '40 years 323 days' '38 years 128 days'\n",
      " '54 years 291 days' '63 years 54 days' '62 years 303 days'\n",
      " '35 years 53 days' '39 years 174 days' '29 years 341 days'\n",
      " '46 years 333 days' '46 years 110 days' '51 years 329 days'\n",
      " '54 years 221 days' '42 years 91 days' '64 years 108 days'\n",
      " '29 years 220 days' '65 years 195 days' '41 years 91 days'\n",
      " '31 years 206 days' '58 years 5 days' '54 years 318 days'\n",
      " '28 years 26 days' '20 years 116 days' '34 years 160 days'\n",
      " '54 years 198 days' '45 years 259 days' '48 years 325 days'\n",
      " '29 years 86 days' '22 years 8 days' '32 years 161 days'\n",
      " '40 years 50 days' '61 years 47 days' '57 years 276 days'\n",
      " '54 years 100 days' '56 years 317 days' '34 years 139 days'\n",
      " '27 years 289 days' '37 years 149 days' '43 years 332 days'\n",
      " '41 years 10 days' '33 years 104 days' '39 years 35 days'\n",
      " '31 years 300 days' '67 years 219 days' '30 years 140 days'\n",
      " '48 years 212 days' '50 years 302 days' '45 years 34 days'\n",
      " '47 years 299 days' '32 years 158 days' '26 years 171 days'\n",
      " '29 years 213 days' '28 years 79 days' '66 years 16 days'\n",
      " '39 years 304 days' '33 years 238 days' '60 years 75 days'\n",
      " '35 years 65 days' '35 years 45 days' '58 years 168 days'\n",
      " '26 years 50 days' '30 years 113 days' '38 years 82 days'\n",
      " '35 years 325 days' '39 years 291 days' '55 years 306 days'\n",
      " '49 years 337 days' '50 years 59 days' '52 years 163 days'\n",
      " '51 years 121 days' '61 years 285 days' '52 years 149 days'\n",
      " '35 years 66 days' '47 years 266 days' '35 years 70 days'\n",
      " '31 years 105 days' '31 years 35 days' '37 years 50 days'\n",
      " '37 years 97 days' '42 years 249 days' '32 years 116 days'\n",
      " '61 years 22 days' '48 years 78 days' '34 years 42 days'\n",
      " '30 years 252 days' '30 years 86 days' '28 years 195 days'\n",
      " '47 years 226 days' '35 years 91 days' '23 years 171 days'\n",
      " '49 years 264 days' '36 years 78 days' '54 years 268 days'\n",
      " '22 years 300 days' '42 years 5 days' '28 years 213 days'\n",
      " '25 years 232 days' '66 years 3 days' '46 years 181 days'\n",
      " '57 years 310 days' '43 years 22 days' '49 years 309 days'\n",
      " '33 years 99 days' '27 years 306 days' '62 years 166 days'\n",
      " '55 years 153 days' '37 years 285 days' '37 years 107 days'\n",
      " '32 years 122 days' '38 years 143 days' '42 years 289 days'\n",
      " '47 years 165 days' '54 years 227 days' '29 years 49 days'\n",
      " '39 years 359 days' '28 years 249 days' '23 years 108 days'\n",
      " '21 years 276 days' '38 years 229 days' '49 years 302 days'\n",
      " '38 years 308 days' '22 years 205 days' '67 years 215 days'\n",
      " '73 years 329 days' '62 years 100 days' '57 years 314 days'\n",
      " '30 years 334 days' '24 years 181 days' '20 years 84 days'\n",
      " '41 years 116 days' '53 years 258 days' '34 years 237 days'\n",
      " '51 years 350 days' '57 years 364 days' '31 years 176 days'\n",
      " '57 years 141 days' '49 years 263 days' '60 years 106 days'\n",
      " '73 years 250 days' '64 years 298 days' '73 years 164 days'\n",
      " '33 years 239 days' '67 years 151 days' '72 years 74 days'\n",
      " '69 years 124 days' '79 years 39 days' '68 years 7 days'\n",
      " '76 years 5 days' '82 years 14 days' '58 years 9 days'\n",
      " '52 years 251 days' '81 years 217 days' '74 years 172 days'\n",
      " '76 years 87 days' '57 years 110 days' '67 years 121 days'\n",
      " '63 years 313 days' '64 years 143 days' '69 years 50 days'\n",
      " '66 years 28 days' '54 years 347 days' '60 years 114 days'\n",
      " '45 years 230 days' '36 years 219 days' '49 years 174 days'\n",
      " '69 years 219 days' '54 years 340 days' '58 years 327 days'\n",
      " '61 years 183 days' '64 years 191 days' '65 years 309 days'\n",
      " '60 years 298 days' '53 years 309 days' '39 years 193 days'\n",
      " '58 years 227 days' '56 years 172 days' '65 years 344 days'\n",
      " '36 years 59 days' '72 years 192 days' '48 years 348 days'\n",
      " '39 years 157 days' '54 years 176 days' '63 years 333 days'\n",
      " '66 years 159 days' '52 years 97 days' '89 years 105 days'\n",
      " '54 years 242 days' '60 years 262 days' '77 years 116 days'\n",
      " '60 years 264 days' '80 years 61 days' '51 years 264 days'\n",
      " '53 years 145 days' '43 years 313 days' '74 years 144 days'\n",
      " '76 years 118 days' '49 years 228 days' '48 years 333 days'\n",
      " '68 years 334 days' '74 years 359 days' '69 years 211 days'\n",
      " '64 years 192 days' '58 years 144 days' '47 years 88 days'\n",
      " '61 years 282 days' '75 years 194 days' '52 years 246 days'\n",
      " '47 years 199 days' '21 years 288 days' '72 years 169 days'\n",
      " '68 years 108 days' '67 years' '52 years 238 days' '59 years 11 days'\n",
      " '59 years 149 days' '48 years 362 days' '76 years 58 days'\n",
      " '72 years 193 days' '51 years 113 days' '67 years 187 days'\n",
      " '82 years 115 days' '64 years 209 days' '75 years 265 days'\n",
      " '85 years 221 days' '73 years 105 days' '78 years 273 days'\n",
      " '45 years 136 days' '42 years 225 days' '53 years 299 days'\n",
      " '68 years 290 days' '43 years 245 days' '59 years 289 days'\n",
      " '52 years 137 days' '61 years 244 days' '40 years 207 days'\n",
      " '63 years 263 days' '63 years 307 days' '70 years 98 days'\n",
      " '59 years 362 days' '56 years 101 days' '62 years 190 days'\n",
      " '24 years 83 days' '72 years 345 days' '67 years 161 days'\n",
      " '54 years 200 days' '86 years 155 days' '62 years 222 days'\n",
      " '63 years 97 days' '58 years 200 days' '60 years 5 days'\n",
      " '67 years 17 days' '23 years 310 days' '58 years 59 days'\n",
      " '64 years 18 days' '65 years 37 days' '61 years 32 days'\n",
      " '52 years 161 days' '77 years 139 days' '58 years 280 days'\n",
      " '78 years 264 days' '63 years 122 days' '63 years 86 days'\n",
      " '23 years 133 days' '65 years 94 days' '50 years 79 days'\n",
      " '55 years 209 days' '60 years 258 days' '62 years 220 days'\n",
      " '69 years 95 days' '56 years 187 days' '76 years 72 days'\n",
      " '76 years 252 days' '86 years 8 days' '69 years 80 days'\n",
      " '59 years 219 days' '75 years 337 days' '57 years 202 days'\n",
      " '69 years 257 days' '45 years 226 days' '47 years 130 days'\n",
      " '74 years 57 days' '78 years 93 days' '59 years 64 days'\n",
      " '21 years 266 days' '81 years 34 days' '70 years 60 days'\n",
      " '62 years 153 days' '75 years 191 days' '60 years 136 days'\n",
      " '63 years 53 days' '61 years 52 days' '47 years 71 days'\n",
      " '76 years 150 days' '84 years 287 days' '77 years 153 days'\n",
      " '48 years 182 days' '69 years 223 days' '56 years 12 days'\n",
      " '76 years 171 days' '70 years 117 days' '34 years 267 days'\n",
      " '68 years 341 days' '54 years 216 days' '74 years 313 days'\n",
      " '73 years 193 days' '57 years 112 days' '44 years 230 days'\n",
      " '83 years 265 days' '74 years 291 days' '51 years 275 days'\n",
      " '52 years 60 days' '73 years 102 days' '81 years 307 days'\n",
      " '78 years 94 days' '57 years 312 days' '53 years 147 days'\n",
      " '50 years 330 days' '78 years 56 days' '76 years 236 days'\n",
      " '57 years 118 days' '36 years 108 days' '72 years 284 days'\n",
      " '31 years 11 days' '65 years 66 days' '63 years 201 days'\n",
      " '49 years 351 days' '59 years 311 days' '69 years 232 days'\n",
      " '62 years 304 days' '52 years 270 days' '56 years 294 days'\n",
      " '81 years 168 days' '40 years 293 days' '81 years 319 days'\n",
      " '50 years 171 days' '38 years 8 days' '48 years 183 days'\n",
      " '51 years 86 days' '66 years 341 days' '71 years 315 days'\n",
      " '24 years 156 days' '63 years 195 days' '69 years 116 days'\n",
      " '78 years 7 days' '30 years 155 days' '52 years 288 days'\n",
      " '65 years 57 days' '78 years 271 days' '61 years 37 days'\n",
      " '50 years 173 days' '39 years 57 days' '66 years 81 days'\n",
      " '49 years 6 days' '54 years 78 days' '58 years 48 days' '73 years 4 days'\n",
      " '53 years 303 days' '63 years 292 days' '66 years 191 days'\n",
      " '49 years 322 days' '59 years 335 days' '54 years 327 days'\n",
      " '57 years 274 days' '59 years 157 days' '44 years 55 days'\n",
      " '58 years 14 days' '65 years 18 days' '67 years 34 days'\n",
      " '75 years 172 days' '88 years 209 days' '53 years 85 days'\n",
      " '75 years 126 days' '66 years 269 days' '51 years 51 days'\n",
      " '40 years 360 days' '58 years 6 days' '57 years 29 days'\n",
      " '55 years 144 days' '40 years 268 days' '40 years 206 days'\n",
      " '54 years 89 days' '53 years 136 days' '56 years 9 days'\n",
      " '59 years 306 days' '75 years 118 days' '59 years 10 days'\n",
      " '44 years 135 days' '46 years 236 days' '68 years 248 days'\n",
      " '30 years 340 days' '36 years 302 days' '78 years 270 days'\n",
      " '83 years 235 days' '51 years 201 days' '63 years 118 days'\n",
      " '59 years 227 days' '53 years 233 days' '74 years 83 days'\n",
      " '60 years 246 days' '54 years 295 days' '63 years 9 days'\n",
      " '58 years 308 days' '60 years 274 days' '71 years 257 days'\n",
      " '75 years 78 days' '50 years 309 days' '67 years 6 days'\n",
      " '60 years 358 days' '65 years 143 days' '51 years 90 days'\n",
      " '45 years 301 days' '39 years 316 days' '70 years 245 days'\n",
      " '73 years 133 days' '65 years 360 days' '72 years 251 days'\n",
      " '61 years 177 days' '65 years 22 days' '30 years 327 days'\n",
      " '64 years 50 days' '55 years 267 days' '79 years 123 days'\n",
      " '74 years 294 days' '63 years 24 days' '81 years 21 days'\n",
      " '53 years 86 days' '69 years 343 days' '60 years 342 days'\n",
      " '55 years 214 days' '75 years 342 days' '47 years 349 days'\n",
      " '71 years 148 days' '25 years 82 days' '61 years 247 days'\n",
      " '47 years 302 days' '50 years 129 days' '72 years 97 days'\n",
      " '31 years 7 days' '86 years 216 days' '38 years 214 days'\n",
      " '72 years 302 days' '55 years 46 days' '66 years 320 days'\n",
      " '55 years 361 days' '72 years 57 days' '33 years 7 days'\n",
      " '83 years 114 days' '43 years 259 days' '68 years 224 days'\n",
      " '79 years 183 days' '67 years 326 days' '49 years 298 days'\n",
      " '66 years 256 days' '68 years 221 days' '47 years 52 days'\n",
      " '61 years 218 days' '49 years 157 days' '67 years 120 days'\n",
      " '32 years 268 days' '65 years 41 days' '66 years 213 days'\n",
      " '62 years 281 days' '50 years 16 days' '34 years 111 days'\n",
      " '61 years 11 days' '77 years 353 days' '54 years 101 days'\n",
      " '51 years 32 days' '53 years 8 days' '78 years 253 days'\n",
      " '46 years 337 days' '52 years 244 days' '48 years 249 days'\n",
      " '51 years 205 days' '62 years 41 days' '58 years 20 days'\n",
      " '61 years 112 days' '66 years 111 days' '64 years 43 days'\n",
      " '56 years 114 days' '77 years 325 days' '85 years 65 days'\n",
      " '77 years 178 days' '63 years 121 days' '76 years 221 days']\n",
      "for column Primary_Diagnosis unique values are: ['Oligodendroglioma, NOS' 'Mixed glioma' 'Astrocytoma, NOS'\n",
      " 'Astrocytoma, anaplastic' 'Oligodendroglioma, anaplastic' '--'\n",
      " 'Glioblastoma']\n",
      "for column Race unique values are: ['white' 'asian' 'black or african american' '--' 'not reported'\n",
      " 'american indian or alaska native']\n",
      "for column IDH1 unique values are: ['MUTATED' 'NOT_MUTATED']\n",
      "for column TP53 unique values are: ['NOT_MUTATED' 'MUTATED']\n",
      "for column ATRX unique values are: ['NOT_MUTATED' 'MUTATED']\n",
      "for column PTEN unique values are: ['NOT_MUTATED' 'MUTATED']\n",
      "for column EGFR unique values are: ['NOT_MUTATED' 'MUTATED']\n",
      "for column CIC unique values are: ['NOT_MUTATED' 'MUTATED']\n",
      "for column MUC16 unique values are: ['NOT_MUTATED' 'MUTATED']\n",
      "for column PIK3CA unique values are: ['MUTATED' 'NOT_MUTATED']\n",
      "for column NF1 unique values are: ['NOT_MUTATED' 'MUTATED']\n",
      "for column PIK3R1 unique values are: ['NOT_MUTATED' 'MUTATED']\n",
      "for column FUBP1 unique values are: ['MUTATED' 'NOT_MUTATED']\n",
      "for column RB1 unique values are: ['NOT_MUTATED' 'MUTATED']\n",
      "for column NOTCH1 unique values are: ['NOT_MUTATED' 'MUTATED']\n",
      "for column BCOR unique values are: ['NOT_MUTATED' 'MUTATED']\n",
      "for column CSMD3 unique values are: ['NOT_MUTATED' 'MUTATED']\n",
      "for column SMARCA4 unique values are: ['NOT_MUTATED' 'MUTATED']\n",
      "for column GRIN2A unique values are: ['NOT_MUTATED' 'MUTATED']\n",
      "for column IDH2 unique values are: ['NOT_MUTATED' 'MUTATED']\n",
      "for column FAT4 unique values are: ['NOT_MUTATED' 'MUTATED']\n",
      "for column PDGFRA unique values are: ['NOT_MUTATED' 'MUTATED']\n"
     ]
    }
   ],
   "source": [
    "for i in df.columns:\n",
    "    print(f'for column {i} unique values are: {df[i].unique()}')"
   ]
  },
  {
   "cell_type": "code",
   "execution_count": 30,
   "metadata": {},
   "outputs": [],
   "source": [
    "# Replacing categorical variables with binary\n",
    "df.replace({'MUTATED': 1, 'NOT_MUTATED': 0, 'Female': 1, 'Male': 0, 'LGG': 0, 'GBM': 1}, inplace=True)"
   ]
  },
  {
   "cell_type": "code",
   "execution_count": 31,
   "metadata": {},
   "outputs": [],
   "source": [
    "# Removing rows with not identified variables\n",
    "df = df[ (df['Gender'] != '--') & (df['Race'] != 'not reported')]"
   ]
  },
  {
   "cell_type": "code",
   "execution_count": 32,
   "metadata": {},
   "outputs": [],
   "source": [
    "# Dropping unnessecary columns\n",
    "df.drop(columns=(['Case_ID', 'Project', 'Primary_Diagnosis']), inplace=True)"
   ]
  },
  {
   "cell_type": "code",
   "execution_count": 33,
   "metadata": {},
   "outputs": [
    {
     "data": {
      "text/html": [
       "<div>\n",
       "<style scoped>\n",
       "    .dataframe tbody tr th:only-of-type {\n",
       "        vertical-align: middle;\n",
       "    }\n",
       "\n",
       "    .dataframe tbody tr th {\n",
       "        vertical-align: top;\n",
       "    }\n",
       "\n",
       "    .dataframe thead th {\n",
       "        text-align: right;\n",
       "    }\n",
       "</style>\n",
       "<table border=\"1\" class=\"dataframe\">\n",
       "  <thead>\n",
       "    <tr style=\"text-align: right;\">\n",
       "      <th></th>\n",
       "      <th>Grade</th>\n",
       "      <th>Gender</th>\n",
       "      <th>Age_at_diagnosis</th>\n",
       "      <th>IDH1</th>\n",
       "      <th>TP53</th>\n",
       "      <th>ATRX</th>\n",
       "      <th>PTEN</th>\n",
       "      <th>EGFR</th>\n",
       "      <th>CIC</th>\n",
       "      <th>MUC16</th>\n",
       "      <th>...</th>\n",
       "      <th>CSMD3</th>\n",
       "      <th>SMARCA4</th>\n",
       "      <th>GRIN2A</th>\n",
       "      <th>IDH2</th>\n",
       "      <th>FAT4</th>\n",
       "      <th>PDGFRA</th>\n",
       "      <th>Race_american indian or alaska native</th>\n",
       "      <th>Race_asian</th>\n",
       "      <th>Race_black or african american</th>\n",
       "      <th>Race_white</th>\n",
       "    </tr>\n",
       "  </thead>\n",
       "  <tbody>\n",
       "    <tr>\n",
       "      <th>0</th>\n",
       "      <td>0</td>\n",
       "      <td>0</td>\n",
       "      <td>51 years 108 days</td>\n",
       "      <td>1</td>\n",
       "      <td>0</td>\n",
       "      <td>0</td>\n",
       "      <td>0</td>\n",
       "      <td>0</td>\n",
       "      <td>0</td>\n",
       "      <td>0</td>\n",
       "      <td>...</td>\n",
       "      <td>0</td>\n",
       "      <td>0</td>\n",
       "      <td>0</td>\n",
       "      <td>0</td>\n",
       "      <td>0</td>\n",
       "      <td>0</td>\n",
       "      <td>0</td>\n",
       "      <td>0</td>\n",
       "      <td>0</td>\n",
       "      <td>1</td>\n",
       "    </tr>\n",
       "    <tr>\n",
       "      <th>1</th>\n",
       "      <td>0</td>\n",
       "      <td>0</td>\n",
       "      <td>38 years 261 days</td>\n",
       "      <td>1</td>\n",
       "      <td>0</td>\n",
       "      <td>0</td>\n",
       "      <td>0</td>\n",
       "      <td>0</td>\n",
       "      <td>1</td>\n",
       "      <td>0</td>\n",
       "      <td>...</td>\n",
       "      <td>0</td>\n",
       "      <td>0</td>\n",
       "      <td>0</td>\n",
       "      <td>0</td>\n",
       "      <td>0</td>\n",
       "      <td>0</td>\n",
       "      <td>0</td>\n",
       "      <td>0</td>\n",
       "      <td>0</td>\n",
       "      <td>1</td>\n",
       "    </tr>\n",
       "    <tr>\n",
       "      <th>2</th>\n",
       "      <td>0</td>\n",
       "      <td>0</td>\n",
       "      <td>35 years 62 days</td>\n",
       "      <td>1</td>\n",
       "      <td>1</td>\n",
       "      <td>1</td>\n",
       "      <td>0</td>\n",
       "      <td>0</td>\n",
       "      <td>0</td>\n",
       "      <td>0</td>\n",
       "      <td>...</td>\n",
       "      <td>0</td>\n",
       "      <td>0</td>\n",
       "      <td>0</td>\n",
       "      <td>0</td>\n",
       "      <td>0</td>\n",
       "      <td>0</td>\n",
       "      <td>0</td>\n",
       "      <td>0</td>\n",
       "      <td>0</td>\n",
       "      <td>1</td>\n",
       "    </tr>\n",
       "    <tr>\n",
       "      <th>3</th>\n",
       "      <td>0</td>\n",
       "      <td>1</td>\n",
       "      <td>32 years 283 days</td>\n",
       "      <td>1</td>\n",
       "      <td>1</td>\n",
       "      <td>1</td>\n",
       "      <td>0</td>\n",
       "      <td>0</td>\n",
       "      <td>0</td>\n",
       "      <td>1</td>\n",
       "      <td>...</td>\n",
       "      <td>0</td>\n",
       "      <td>0</td>\n",
       "      <td>0</td>\n",
       "      <td>0</td>\n",
       "      <td>1</td>\n",
       "      <td>0</td>\n",
       "      <td>0</td>\n",
       "      <td>0</td>\n",
       "      <td>0</td>\n",
       "      <td>1</td>\n",
       "    </tr>\n",
       "    <tr>\n",
       "      <th>4</th>\n",
       "      <td>0</td>\n",
       "      <td>0</td>\n",
       "      <td>31 years 187 days</td>\n",
       "      <td>1</td>\n",
       "      <td>1</td>\n",
       "      <td>1</td>\n",
       "      <td>0</td>\n",
       "      <td>0</td>\n",
       "      <td>0</td>\n",
       "      <td>0</td>\n",
       "      <td>...</td>\n",
       "      <td>0</td>\n",
       "      <td>0</td>\n",
       "      <td>0</td>\n",
       "      <td>0</td>\n",
       "      <td>0</td>\n",
       "      <td>0</td>\n",
       "      <td>0</td>\n",
       "      <td>0</td>\n",
       "      <td>0</td>\n",
       "      <td>1</td>\n",
       "    </tr>\n",
       "    <tr>\n",
       "      <th>...</th>\n",
       "      <td>...</td>\n",
       "      <td>...</td>\n",
       "      <td>...</td>\n",
       "      <td>...</td>\n",
       "      <td>...</td>\n",
       "      <td>...</td>\n",
       "      <td>...</td>\n",
       "      <td>...</td>\n",
       "      <td>...</td>\n",
       "      <td>...</td>\n",
       "      <td>...</td>\n",
       "      <td>...</td>\n",
       "      <td>...</td>\n",
       "      <td>...</td>\n",
       "      <td>...</td>\n",
       "      <td>...</td>\n",
       "      <td>...</td>\n",
       "      <td>...</td>\n",
       "      <td>...</td>\n",
       "      <td>...</td>\n",
       "      <td>...</td>\n",
       "    </tr>\n",
       "    <tr>\n",
       "      <th>857</th>\n",
       "      <td>1</td>\n",
       "      <td>1</td>\n",
       "      <td>77 years 325 days</td>\n",
       "      <td>0</td>\n",
       "      <td>0</td>\n",
       "      <td>0</td>\n",
       "      <td>1</td>\n",
       "      <td>0</td>\n",
       "      <td>0</td>\n",
       "      <td>0</td>\n",
       "      <td>...</td>\n",
       "      <td>0</td>\n",
       "      <td>0</td>\n",
       "      <td>0</td>\n",
       "      <td>0</td>\n",
       "      <td>0</td>\n",
       "      <td>0</td>\n",
       "      <td>0</td>\n",
       "      <td>0</td>\n",
       "      <td>0</td>\n",
       "      <td>1</td>\n",
       "    </tr>\n",
       "    <tr>\n",
       "      <th>858</th>\n",
       "      <td>1</td>\n",
       "      <td>0</td>\n",
       "      <td>85 years 65 days</td>\n",
       "      <td>0</td>\n",
       "      <td>1</td>\n",
       "      <td>0</td>\n",
       "      <td>1</td>\n",
       "      <td>0</td>\n",
       "      <td>0</td>\n",
       "      <td>0</td>\n",
       "      <td>...</td>\n",
       "      <td>0</td>\n",
       "      <td>0</td>\n",
       "      <td>0</td>\n",
       "      <td>0</td>\n",
       "      <td>0</td>\n",
       "      <td>0</td>\n",
       "      <td>0</td>\n",
       "      <td>0</td>\n",
       "      <td>0</td>\n",
       "      <td>1</td>\n",
       "    </tr>\n",
       "    <tr>\n",
       "      <th>859</th>\n",
       "      <td>1</td>\n",
       "      <td>1</td>\n",
       "      <td>77 years 178 days</td>\n",
       "      <td>0</td>\n",
       "      <td>1</td>\n",
       "      <td>0</td>\n",
       "      <td>1</td>\n",
       "      <td>0</td>\n",
       "      <td>0</td>\n",
       "      <td>0</td>\n",
       "      <td>...</td>\n",
       "      <td>0</td>\n",
       "      <td>0</td>\n",
       "      <td>0</td>\n",
       "      <td>0</td>\n",
       "      <td>0</td>\n",
       "      <td>0</td>\n",
       "      <td>0</td>\n",
       "      <td>0</td>\n",
       "      <td>0</td>\n",
       "      <td>1</td>\n",
       "    </tr>\n",
       "    <tr>\n",
       "      <th>860</th>\n",
       "      <td>1</td>\n",
       "      <td>0</td>\n",
       "      <td>63 years 121 days</td>\n",
       "      <td>0</td>\n",
       "      <td>1</td>\n",
       "      <td>0</td>\n",
       "      <td>0</td>\n",
       "      <td>0</td>\n",
       "      <td>0</td>\n",
       "      <td>1</td>\n",
       "      <td>...</td>\n",
       "      <td>0</td>\n",
       "      <td>0</td>\n",
       "      <td>0</td>\n",
       "      <td>0</td>\n",
       "      <td>0</td>\n",
       "      <td>0</td>\n",
       "      <td>0</td>\n",
       "      <td>0</td>\n",
       "      <td>0</td>\n",
       "      <td>1</td>\n",
       "    </tr>\n",
       "    <tr>\n",
       "      <th>861</th>\n",
       "      <td>1</td>\n",
       "      <td>0</td>\n",
       "      <td>76 years 221 days</td>\n",
       "      <td>0</td>\n",
       "      <td>0</td>\n",
       "      <td>0</td>\n",
       "      <td>0</td>\n",
       "      <td>0</td>\n",
       "      <td>0</td>\n",
       "      <td>0</td>\n",
       "      <td>...</td>\n",
       "      <td>0</td>\n",
       "      <td>0</td>\n",
       "      <td>0</td>\n",
       "      <td>0</td>\n",
       "      <td>0</td>\n",
       "      <td>0</td>\n",
       "      <td>0</td>\n",
       "      <td>0</td>\n",
       "      <td>1</td>\n",
       "      <td>0</td>\n",
       "    </tr>\n",
       "  </tbody>\n",
       "</table>\n",
       "<p>840 rows × 27 columns</p>\n",
       "</div>"
      ],
      "text/plain": [
       "     Grade Gender   Age_at_diagnosis  IDH1  TP53  ATRX  PTEN  EGFR  CIC  \\\n",
       "0        0      0  51 years 108 days     1     0     0     0     0    0   \n",
       "1        0      0  38 years 261 days     1     0     0     0     0    1   \n",
       "2        0      0   35 years 62 days     1     1     1     0     0    0   \n",
       "3        0      1  32 years 283 days     1     1     1     0     0    0   \n",
       "4        0      0  31 years 187 days     1     1     1     0     0    0   \n",
       "..     ...    ...                ...   ...   ...   ...   ...   ...  ...   \n",
       "857      1      1  77 years 325 days     0     0     0     1     0    0   \n",
       "858      1      0   85 years 65 days     0     1     0     1     0    0   \n",
       "859      1      1  77 years 178 days     0     1     0     1     0    0   \n",
       "860      1      0  63 years 121 days     0     1     0     0     0    0   \n",
       "861      1      0  76 years 221 days     0     0     0     0     0    0   \n",
       "\n",
       "     MUC16  ...  CSMD3  SMARCA4  GRIN2A  IDH2  FAT4  PDGFRA  \\\n",
       "0        0  ...      0        0       0     0     0       0   \n",
       "1        0  ...      0        0       0     0     0       0   \n",
       "2        0  ...      0        0       0     0     0       0   \n",
       "3        1  ...      0        0       0     0     1       0   \n",
       "4        0  ...      0        0       0     0     0       0   \n",
       "..     ...  ...    ...      ...     ...   ...   ...     ...   \n",
       "857      0  ...      0        0       0     0     0       0   \n",
       "858      0  ...      0        0       0     0     0       0   \n",
       "859      0  ...      0        0       0     0     0       0   \n",
       "860      1  ...      0        0       0     0     0       0   \n",
       "861      0  ...      0        0       0     0     0       0   \n",
       "\n",
       "     Race_american indian or alaska native  Race_asian  \\\n",
       "0                                        0           0   \n",
       "1                                        0           0   \n",
       "2                                        0           0   \n",
       "3                                        0           0   \n",
       "4                                        0           0   \n",
       "..                                     ...         ...   \n",
       "857                                      0           0   \n",
       "858                                      0           0   \n",
       "859                                      0           0   \n",
       "860                                      0           0   \n",
       "861                                      0           0   \n",
       "\n",
       "     Race_black or african american  Race_white  \n",
       "0                                 0           1  \n",
       "1                                 0           1  \n",
       "2                                 0           1  \n",
       "3                                 0           1  \n",
       "4                                 0           1  \n",
       "..                              ...         ...  \n",
       "857                               0           1  \n",
       "858                               0           1  \n",
       "859                               0           1  \n",
       "860                               0           1  \n",
       "861                               1           0  \n",
       "\n",
       "[840 rows x 27 columns]"
      ]
     },
     "execution_count": 33,
     "metadata": {},
     "output_type": "execute_result"
    }
   ],
   "source": [
    "# One hot encoding for race column\n",
    "df = pd.concat([df, pd.get_dummies(df['Race'], prefix='Race')], axis=1)\n",
    "df.drop(columns=['Race'], inplace=True)\n",
    "df"
   ]
  },
  {
   "cell_type": "code",
   "execution_count": 34,
   "metadata": {},
   "outputs": [
    {
     "data": {
      "text/html": [
       "<div>\n",
       "<style scoped>\n",
       "    .dataframe tbody tr th:only-of-type {\n",
       "        vertical-align: middle;\n",
       "    }\n",
       "\n",
       "    .dataframe tbody tr th {\n",
       "        vertical-align: top;\n",
       "    }\n",
       "\n",
       "    .dataframe thead th {\n",
       "        text-align: right;\n",
       "    }\n",
       "</style>\n",
       "<table border=\"1\" class=\"dataframe\">\n",
       "  <thead>\n",
       "    <tr style=\"text-align: right;\">\n",
       "      <th></th>\n",
       "      <th>Grade</th>\n",
       "      <th>Gender</th>\n",
       "      <th>Age_at_diagnosis</th>\n",
       "      <th>IDH1</th>\n",
       "      <th>TP53</th>\n",
       "      <th>ATRX</th>\n",
       "      <th>PTEN</th>\n",
       "      <th>EGFR</th>\n",
       "      <th>CIC</th>\n",
       "      <th>MUC16</th>\n",
       "      <th>...</th>\n",
       "      <th>CSMD3</th>\n",
       "      <th>SMARCA4</th>\n",
       "      <th>GRIN2A</th>\n",
       "      <th>IDH2</th>\n",
       "      <th>FAT4</th>\n",
       "      <th>PDGFRA</th>\n",
       "      <th>Race_american indian or alaska native</th>\n",
       "      <th>Race_asian</th>\n",
       "      <th>Race_black or african american</th>\n",
       "      <th>Race_white</th>\n",
       "    </tr>\n",
       "  </thead>\n",
       "  <tbody>\n",
       "    <tr>\n",
       "      <th>0</th>\n",
       "      <td>0</td>\n",
       "      <td>0</td>\n",
       "      <td>51.295890</td>\n",
       "      <td>1</td>\n",
       "      <td>0</td>\n",
       "      <td>0</td>\n",
       "      <td>0</td>\n",
       "      <td>0</td>\n",
       "      <td>0</td>\n",
       "      <td>0</td>\n",
       "      <td>...</td>\n",
       "      <td>0</td>\n",
       "      <td>0</td>\n",
       "      <td>0</td>\n",
       "      <td>0</td>\n",
       "      <td>0</td>\n",
       "      <td>0</td>\n",
       "      <td>0</td>\n",
       "      <td>0</td>\n",
       "      <td>0</td>\n",
       "      <td>1</td>\n",
       "    </tr>\n",
       "    <tr>\n",
       "      <th>1</th>\n",
       "      <td>0</td>\n",
       "      <td>0</td>\n",
       "      <td>38.715068</td>\n",
       "      <td>1</td>\n",
       "      <td>0</td>\n",
       "      <td>0</td>\n",
       "      <td>0</td>\n",
       "      <td>0</td>\n",
       "      <td>1</td>\n",
       "      <td>0</td>\n",
       "      <td>...</td>\n",
       "      <td>0</td>\n",
       "      <td>0</td>\n",
       "      <td>0</td>\n",
       "      <td>0</td>\n",
       "      <td>0</td>\n",
       "      <td>0</td>\n",
       "      <td>0</td>\n",
       "      <td>0</td>\n",
       "      <td>0</td>\n",
       "      <td>1</td>\n",
       "    </tr>\n",
       "    <tr>\n",
       "      <th>2</th>\n",
       "      <td>0</td>\n",
       "      <td>0</td>\n",
       "      <td>35.169863</td>\n",
       "      <td>1</td>\n",
       "      <td>1</td>\n",
       "      <td>1</td>\n",
       "      <td>0</td>\n",
       "      <td>0</td>\n",
       "      <td>0</td>\n",
       "      <td>0</td>\n",
       "      <td>...</td>\n",
       "      <td>0</td>\n",
       "      <td>0</td>\n",
       "      <td>0</td>\n",
       "      <td>0</td>\n",
       "      <td>0</td>\n",
       "      <td>0</td>\n",
       "      <td>0</td>\n",
       "      <td>0</td>\n",
       "      <td>0</td>\n",
       "      <td>1</td>\n",
       "    </tr>\n",
       "    <tr>\n",
       "      <th>3</th>\n",
       "      <td>0</td>\n",
       "      <td>1</td>\n",
       "      <td>32.775342</td>\n",
       "      <td>1</td>\n",
       "      <td>1</td>\n",
       "      <td>1</td>\n",
       "      <td>0</td>\n",
       "      <td>0</td>\n",
       "      <td>0</td>\n",
       "      <td>1</td>\n",
       "      <td>...</td>\n",
       "      <td>0</td>\n",
       "      <td>0</td>\n",
       "      <td>0</td>\n",
       "      <td>0</td>\n",
       "      <td>1</td>\n",
       "      <td>0</td>\n",
       "      <td>0</td>\n",
       "      <td>0</td>\n",
       "      <td>0</td>\n",
       "      <td>1</td>\n",
       "    </tr>\n",
       "    <tr>\n",
       "      <th>4</th>\n",
       "      <td>0</td>\n",
       "      <td>0</td>\n",
       "      <td>31.512329</td>\n",
       "      <td>1</td>\n",
       "      <td>1</td>\n",
       "      <td>1</td>\n",
       "      <td>0</td>\n",
       "      <td>0</td>\n",
       "      <td>0</td>\n",
       "      <td>0</td>\n",
       "      <td>...</td>\n",
       "      <td>0</td>\n",
       "      <td>0</td>\n",
       "      <td>0</td>\n",
       "      <td>0</td>\n",
       "      <td>0</td>\n",
       "      <td>0</td>\n",
       "      <td>0</td>\n",
       "      <td>0</td>\n",
       "      <td>0</td>\n",
       "      <td>1</td>\n",
       "    </tr>\n",
       "    <tr>\n",
       "      <th>...</th>\n",
       "      <td>...</td>\n",
       "      <td>...</td>\n",
       "      <td>...</td>\n",
       "      <td>...</td>\n",
       "      <td>...</td>\n",
       "      <td>...</td>\n",
       "      <td>...</td>\n",
       "      <td>...</td>\n",
       "      <td>...</td>\n",
       "      <td>...</td>\n",
       "      <td>...</td>\n",
       "      <td>...</td>\n",
       "      <td>...</td>\n",
       "      <td>...</td>\n",
       "      <td>...</td>\n",
       "      <td>...</td>\n",
       "      <td>...</td>\n",
       "      <td>...</td>\n",
       "      <td>...</td>\n",
       "      <td>...</td>\n",
       "      <td>...</td>\n",
       "    </tr>\n",
       "    <tr>\n",
       "      <th>857</th>\n",
       "      <td>1</td>\n",
       "      <td>1</td>\n",
       "      <td>77.890411</td>\n",
       "      <td>0</td>\n",
       "      <td>0</td>\n",
       "      <td>0</td>\n",
       "      <td>1</td>\n",
       "      <td>0</td>\n",
       "      <td>0</td>\n",
       "      <td>0</td>\n",
       "      <td>...</td>\n",
       "      <td>0</td>\n",
       "      <td>0</td>\n",
       "      <td>0</td>\n",
       "      <td>0</td>\n",
       "      <td>0</td>\n",
       "      <td>0</td>\n",
       "      <td>0</td>\n",
       "      <td>0</td>\n",
       "      <td>0</td>\n",
       "      <td>1</td>\n",
       "    </tr>\n",
       "    <tr>\n",
       "      <th>858</th>\n",
       "      <td>1</td>\n",
       "      <td>0</td>\n",
       "      <td>85.178082</td>\n",
       "      <td>0</td>\n",
       "      <td>1</td>\n",
       "      <td>0</td>\n",
       "      <td>1</td>\n",
       "      <td>0</td>\n",
       "      <td>0</td>\n",
       "      <td>0</td>\n",
       "      <td>...</td>\n",
       "      <td>0</td>\n",
       "      <td>0</td>\n",
       "      <td>0</td>\n",
       "      <td>0</td>\n",
       "      <td>0</td>\n",
       "      <td>0</td>\n",
       "      <td>0</td>\n",
       "      <td>0</td>\n",
       "      <td>0</td>\n",
       "      <td>1</td>\n",
       "    </tr>\n",
       "    <tr>\n",
       "      <th>859</th>\n",
       "      <td>1</td>\n",
       "      <td>1</td>\n",
       "      <td>77.487671</td>\n",
       "      <td>0</td>\n",
       "      <td>1</td>\n",
       "      <td>0</td>\n",
       "      <td>1</td>\n",
       "      <td>0</td>\n",
       "      <td>0</td>\n",
       "      <td>0</td>\n",
       "      <td>...</td>\n",
       "      <td>0</td>\n",
       "      <td>0</td>\n",
       "      <td>0</td>\n",
       "      <td>0</td>\n",
       "      <td>0</td>\n",
       "      <td>0</td>\n",
       "      <td>0</td>\n",
       "      <td>0</td>\n",
       "      <td>0</td>\n",
       "      <td>1</td>\n",
       "    </tr>\n",
       "    <tr>\n",
       "      <th>860</th>\n",
       "      <td>1</td>\n",
       "      <td>0</td>\n",
       "      <td>63.331507</td>\n",
       "      <td>0</td>\n",
       "      <td>1</td>\n",
       "      <td>0</td>\n",
       "      <td>0</td>\n",
       "      <td>0</td>\n",
       "      <td>0</td>\n",
       "      <td>1</td>\n",
       "      <td>...</td>\n",
       "      <td>0</td>\n",
       "      <td>0</td>\n",
       "      <td>0</td>\n",
       "      <td>0</td>\n",
       "      <td>0</td>\n",
       "      <td>0</td>\n",
       "      <td>0</td>\n",
       "      <td>0</td>\n",
       "      <td>0</td>\n",
       "      <td>1</td>\n",
       "    </tr>\n",
       "    <tr>\n",
       "      <th>861</th>\n",
       "      <td>1</td>\n",
       "      <td>0</td>\n",
       "      <td>76.605479</td>\n",
       "      <td>0</td>\n",
       "      <td>0</td>\n",
       "      <td>0</td>\n",
       "      <td>0</td>\n",
       "      <td>0</td>\n",
       "      <td>0</td>\n",
       "      <td>0</td>\n",
       "      <td>...</td>\n",
       "      <td>0</td>\n",
       "      <td>0</td>\n",
       "      <td>0</td>\n",
       "      <td>0</td>\n",
       "      <td>0</td>\n",
       "      <td>0</td>\n",
       "      <td>0</td>\n",
       "      <td>0</td>\n",
       "      <td>1</td>\n",
       "      <td>0</td>\n",
       "    </tr>\n",
       "  </tbody>\n",
       "</table>\n",
       "<p>840 rows × 27 columns</p>\n",
       "</div>"
      ],
      "text/plain": [
       "     Grade Gender  Age_at_diagnosis  IDH1  TP53  ATRX  PTEN  EGFR  CIC  MUC16  \\\n",
       "0        0      0         51.295890     1     0     0     0     0    0      0   \n",
       "1        0      0         38.715068     1     0     0     0     0    1      0   \n",
       "2        0      0         35.169863     1     1     1     0     0    0      0   \n",
       "3        0      1         32.775342     1     1     1     0     0    0      1   \n",
       "4        0      0         31.512329     1     1     1     0     0    0      0   \n",
       "..     ...    ...               ...   ...   ...   ...   ...   ...  ...    ...   \n",
       "857      1      1         77.890411     0     0     0     1     0    0      0   \n",
       "858      1      0         85.178082     0     1     0     1     0    0      0   \n",
       "859      1      1         77.487671     0     1     0     1     0    0      0   \n",
       "860      1      0         63.331507     0     1     0     0     0    0      1   \n",
       "861      1      0         76.605479     0     0     0     0     0    0      0   \n",
       "\n",
       "     ...  CSMD3  SMARCA4  GRIN2A  IDH2  FAT4  PDGFRA  \\\n",
       "0    ...      0        0       0     0     0       0   \n",
       "1    ...      0        0       0     0     0       0   \n",
       "2    ...      0        0       0     0     0       0   \n",
       "3    ...      0        0       0     0     1       0   \n",
       "4    ...      0        0       0     0     0       0   \n",
       "..   ...    ...      ...     ...   ...   ...     ...   \n",
       "857  ...      0        0       0     0     0       0   \n",
       "858  ...      0        0       0     0     0       0   \n",
       "859  ...      0        0       0     0     0       0   \n",
       "860  ...      0        0       0     0     0       0   \n",
       "861  ...      0        0       0     0     0       0   \n",
       "\n",
       "     Race_american indian or alaska native  Race_asian  \\\n",
       "0                                        0           0   \n",
       "1                                        0           0   \n",
       "2                                        0           0   \n",
       "3                                        0           0   \n",
       "4                                        0           0   \n",
       "..                                     ...         ...   \n",
       "857                                      0           0   \n",
       "858                                      0           0   \n",
       "859                                      0           0   \n",
       "860                                      0           0   \n",
       "861                                      0           0   \n",
       "\n",
       "     Race_black or african american  Race_white  \n",
       "0                                 0           1  \n",
       "1                                 0           1  \n",
       "2                                 0           1  \n",
       "3                                 0           1  \n",
       "4                                 0           1  \n",
       "..                              ...         ...  \n",
       "857                               0           1  \n",
       "858                               0           1  \n",
       "859                               0           1  \n",
       "860                               0           1  \n",
       "861                               1           0  \n",
       "\n",
       "[840 rows x 27 columns]"
      ]
     },
     "execution_count": 34,
     "metadata": {},
     "output_type": "execute_result"
    }
   ],
   "source": [
    "# Converting column 'Age_at_diagnosis' to numerical data\n",
    "years = df['Age_at_diagnosis'].str.split(' ', expand=True)\n",
    "years.drop(columns=[1, 3], inplace=True) # Dropping unnecessary columns (with words years and days)\n",
    "years[0] = pd.to_numeric(years[0], errors='coerce') # Converting years to numerical data\n",
    "years[2] = pd.to_numeric(years[2], errors='coerce') # Converting days to numerical data\n",
    "years[0] = years[0] + years[2] / 365 # Corrected this line\n",
    "df['Age_at_diagnosis'] = years[0]\n",
    "df"
   ]
  },
  {
   "cell_type": "code",
   "execution_count": 36,
   "metadata": {},
   "outputs": [
    {
     "data": {
      "text/html": [
       "<div>\n",
       "<style scoped>\n",
       "    .dataframe tbody tr th:only-of-type {\n",
       "        vertical-align: middle;\n",
       "    }\n",
       "\n",
       "    .dataframe tbody tr th {\n",
       "        vertical-align: top;\n",
       "    }\n",
       "\n",
       "    .dataframe thead th {\n",
       "        text-align: right;\n",
       "    }\n",
       "</style>\n",
       "<table border=\"1\" class=\"dataframe\">\n",
       "  <thead>\n",
       "    <tr style=\"text-align: right;\">\n",
       "      <th></th>\n",
       "      <th>Grade</th>\n",
       "      <th>Age</th>\n",
       "      <th>IDH1</th>\n",
       "      <th>TP53</th>\n",
       "      <th>ATRX</th>\n",
       "      <th>PTEN</th>\n",
       "      <th>EGFR</th>\n",
       "      <th>CIC</th>\n",
       "      <th>MUC16</th>\n",
       "      <th>PIK3CA</th>\n",
       "      <th>...</th>\n",
       "      <th>CSMD3</th>\n",
       "      <th>SMARCA4</th>\n",
       "      <th>GRIN2A</th>\n",
       "      <th>IDH2</th>\n",
       "      <th>FAT4</th>\n",
       "      <th>PDGFRA</th>\n",
       "      <th>Race_american indian or alaska native</th>\n",
       "      <th>Race_asian</th>\n",
       "      <th>Race_black or african american</th>\n",
       "      <th>Race_white</th>\n",
       "    </tr>\n",
       "  </thead>\n",
       "  <tbody>\n",
       "    <tr>\n",
       "      <th>count</th>\n",
       "      <td>840.000000</td>\n",
       "      <td>840.000000</td>\n",
       "      <td>840.000000</td>\n",
       "      <td>840.000000</td>\n",
       "      <td>840.000000</td>\n",
       "      <td>840.000000</td>\n",
       "      <td>840.000000</td>\n",
       "      <td>840.000000</td>\n",
       "      <td>840.000000</td>\n",
       "      <td>840.000000</td>\n",
       "      <td>...</td>\n",
       "      <td>840.000000</td>\n",
       "      <td>840.000000</td>\n",
       "      <td>840.000000</td>\n",
       "      <td>840.000000</td>\n",
       "      <td>840.000000</td>\n",
       "      <td>840.000000</td>\n",
       "      <td>840.000000</td>\n",
       "      <td>840.000000</td>\n",
       "      <td>840.000000</td>\n",
       "      <td>840.000000</td>\n",
       "    </tr>\n",
       "    <tr>\n",
       "      <th>mean</th>\n",
       "      <td>0.419048</td>\n",
       "      <td>50.873102</td>\n",
       "      <td>0.482143</td>\n",
       "      <td>0.414286</td>\n",
       "      <td>0.258333</td>\n",
       "      <td>0.167857</td>\n",
       "      <td>0.133333</td>\n",
       "      <td>0.132143</td>\n",
       "      <td>0.116667</td>\n",
       "      <td>0.086905</td>\n",
       "      <td>...</td>\n",
       "      <td>0.032143</td>\n",
       "      <td>0.032143</td>\n",
       "      <td>0.032143</td>\n",
       "      <td>0.027381</td>\n",
       "      <td>0.027381</td>\n",
       "      <td>0.026190</td>\n",
       "      <td>0.001190</td>\n",
       "      <td>0.016667</td>\n",
       "      <td>0.070238</td>\n",
       "      <td>0.911905</td>\n",
       "    </tr>\n",
       "    <tr>\n",
       "      <th>std</th>\n",
       "      <td>0.493697</td>\n",
       "      <td>15.633599</td>\n",
       "      <td>0.499979</td>\n",
       "      <td>0.492892</td>\n",
       "      <td>0.437979</td>\n",
       "      <td>0.373962</td>\n",
       "      <td>0.340137</td>\n",
       "      <td>0.338848</td>\n",
       "      <td>0.321214</td>\n",
       "      <td>0.281863</td>\n",
       "      <td>...</td>\n",
       "      <td>0.176484</td>\n",
       "      <td>0.176484</td>\n",
       "      <td>0.176484</td>\n",
       "      <td>0.163288</td>\n",
       "      <td>0.163288</td>\n",
       "      <td>0.159797</td>\n",
       "      <td>0.034503</td>\n",
       "      <td>0.128095</td>\n",
       "      <td>0.255700</td>\n",
       "      <td>0.283602</td>\n",
       "    </tr>\n",
       "    <tr>\n",
       "      <th>min</th>\n",
       "      <td>0.000000</td>\n",
       "      <td>14.421918</td>\n",
       "      <td>0.000000</td>\n",
       "      <td>0.000000</td>\n",
       "      <td>0.000000</td>\n",
       "      <td>0.000000</td>\n",
       "      <td>0.000000</td>\n",
       "      <td>0.000000</td>\n",
       "      <td>0.000000</td>\n",
       "      <td>0.000000</td>\n",
       "      <td>...</td>\n",
       "      <td>0.000000</td>\n",
       "      <td>0.000000</td>\n",
       "      <td>0.000000</td>\n",
       "      <td>0.000000</td>\n",
       "      <td>0.000000</td>\n",
       "      <td>0.000000</td>\n",
       "      <td>0.000000</td>\n",
       "      <td>0.000000</td>\n",
       "      <td>0.000000</td>\n",
       "      <td>0.000000</td>\n",
       "    </tr>\n",
       "    <tr>\n",
       "      <th>25%</th>\n",
       "      <td>0.000000</td>\n",
       "      <td>38.058219</td>\n",
       "      <td>0.000000</td>\n",
       "      <td>0.000000</td>\n",
       "      <td>0.000000</td>\n",
       "      <td>0.000000</td>\n",
       "      <td>0.000000</td>\n",
       "      <td>0.000000</td>\n",
       "      <td>0.000000</td>\n",
       "      <td>0.000000</td>\n",
       "      <td>...</td>\n",
       "      <td>0.000000</td>\n",
       "      <td>0.000000</td>\n",
       "      <td>0.000000</td>\n",
       "      <td>0.000000</td>\n",
       "      <td>0.000000</td>\n",
       "      <td>0.000000</td>\n",
       "      <td>0.000000</td>\n",
       "      <td>0.000000</td>\n",
       "      <td>0.000000</td>\n",
       "      <td>1.000000</td>\n",
       "    </tr>\n",
       "    <tr>\n",
       "      <th>50%</th>\n",
       "      <td>0.000000</td>\n",
       "      <td>51.390411</td>\n",
       "      <td>0.000000</td>\n",
       "      <td>0.000000</td>\n",
       "      <td>0.000000</td>\n",
       "      <td>0.000000</td>\n",
       "      <td>0.000000</td>\n",
       "      <td>0.000000</td>\n",
       "      <td>0.000000</td>\n",
       "      <td>0.000000</td>\n",
       "      <td>...</td>\n",
       "      <td>0.000000</td>\n",
       "      <td>0.000000</td>\n",
       "      <td>0.000000</td>\n",
       "      <td>0.000000</td>\n",
       "      <td>0.000000</td>\n",
       "      <td>0.000000</td>\n",
       "      <td>0.000000</td>\n",
       "      <td>0.000000</td>\n",
       "      <td>0.000000</td>\n",
       "      <td>1.000000</td>\n",
       "    </tr>\n",
       "    <tr>\n",
       "      <th>75%</th>\n",
       "      <td>1.000000</td>\n",
       "      <td>62.617123</td>\n",
       "      <td>1.000000</td>\n",
       "      <td>1.000000</td>\n",
       "      <td>1.000000</td>\n",
       "      <td>0.000000</td>\n",
       "      <td>0.000000</td>\n",
       "      <td>0.000000</td>\n",
       "      <td>0.000000</td>\n",
       "      <td>0.000000</td>\n",
       "      <td>...</td>\n",
       "      <td>0.000000</td>\n",
       "      <td>0.000000</td>\n",
       "      <td>0.000000</td>\n",
       "      <td>0.000000</td>\n",
       "      <td>0.000000</td>\n",
       "      <td>0.000000</td>\n",
       "      <td>0.000000</td>\n",
       "      <td>0.000000</td>\n",
       "      <td>0.000000</td>\n",
       "      <td>1.000000</td>\n",
       "    </tr>\n",
       "    <tr>\n",
       "      <th>max</th>\n",
       "      <td>1.000000</td>\n",
       "      <td>89.287671</td>\n",
       "      <td>1.000000</td>\n",
       "      <td>1.000000</td>\n",
       "      <td>1.000000</td>\n",
       "      <td>1.000000</td>\n",
       "      <td>1.000000</td>\n",
       "      <td>1.000000</td>\n",
       "      <td>1.000000</td>\n",
       "      <td>1.000000</td>\n",
       "      <td>...</td>\n",
       "      <td>1.000000</td>\n",
       "      <td>1.000000</td>\n",
       "      <td>1.000000</td>\n",
       "      <td>1.000000</td>\n",
       "      <td>1.000000</td>\n",
       "      <td>1.000000</td>\n",
       "      <td>1.000000</td>\n",
       "      <td>1.000000</td>\n",
       "      <td>1.000000</td>\n",
       "      <td>1.000000</td>\n",
       "    </tr>\n",
       "  </tbody>\n",
       "</table>\n",
       "<p>8 rows × 26 columns</p>\n",
       "</div>"
      ],
      "text/plain": [
       "            Grade         Age        IDH1        TP53        ATRX        PTEN  \\\n",
       "count  840.000000  840.000000  840.000000  840.000000  840.000000  840.000000   \n",
       "mean     0.419048   50.873102    0.482143    0.414286    0.258333    0.167857   \n",
       "std      0.493697   15.633599    0.499979    0.492892    0.437979    0.373962   \n",
       "min      0.000000   14.421918    0.000000    0.000000    0.000000    0.000000   \n",
       "25%      0.000000   38.058219    0.000000    0.000000    0.000000    0.000000   \n",
       "50%      0.000000   51.390411    0.000000    0.000000    0.000000    0.000000   \n",
       "75%      1.000000   62.617123    1.000000    1.000000    1.000000    0.000000   \n",
       "max      1.000000   89.287671    1.000000    1.000000    1.000000    1.000000   \n",
       "\n",
       "             EGFR         CIC       MUC16      PIK3CA  ...       CSMD3  \\\n",
       "count  840.000000  840.000000  840.000000  840.000000  ...  840.000000   \n",
       "mean     0.133333    0.132143    0.116667    0.086905  ...    0.032143   \n",
       "std      0.340137    0.338848    0.321214    0.281863  ...    0.176484   \n",
       "min      0.000000    0.000000    0.000000    0.000000  ...    0.000000   \n",
       "25%      0.000000    0.000000    0.000000    0.000000  ...    0.000000   \n",
       "50%      0.000000    0.000000    0.000000    0.000000  ...    0.000000   \n",
       "75%      0.000000    0.000000    0.000000    0.000000  ...    0.000000   \n",
       "max      1.000000    1.000000    1.000000    1.000000  ...    1.000000   \n",
       "\n",
       "          SMARCA4      GRIN2A        IDH2        FAT4      PDGFRA  \\\n",
       "count  840.000000  840.000000  840.000000  840.000000  840.000000   \n",
       "mean     0.032143    0.032143    0.027381    0.027381    0.026190   \n",
       "std      0.176484    0.176484    0.163288    0.163288    0.159797   \n",
       "min      0.000000    0.000000    0.000000    0.000000    0.000000   \n",
       "25%      0.000000    0.000000    0.000000    0.000000    0.000000   \n",
       "50%      0.000000    0.000000    0.000000    0.000000    0.000000   \n",
       "75%      0.000000    0.000000    0.000000    0.000000    0.000000   \n",
       "max      1.000000    1.000000    1.000000    1.000000    1.000000   \n",
       "\n",
       "       Race_american indian or alaska native  Race_asian  \\\n",
       "count                             840.000000  840.000000   \n",
       "mean                                0.001190    0.016667   \n",
       "std                                 0.034503    0.128095   \n",
       "min                                 0.000000    0.000000   \n",
       "25%                                 0.000000    0.000000   \n",
       "50%                                 0.000000    0.000000   \n",
       "75%                                 0.000000    0.000000   \n",
       "max                                 1.000000    1.000000   \n",
       "\n",
       "       Race_black or african american  Race_white  \n",
       "count                      840.000000  840.000000  \n",
       "mean                         0.070238    0.911905  \n",
       "std                          0.255700    0.283602  \n",
       "min                          0.000000    0.000000  \n",
       "25%                          0.000000    1.000000  \n",
       "50%                          0.000000    1.000000  \n",
       "75%                          0.000000    1.000000  \n",
       "max                          1.000000    1.000000  \n",
       "\n",
       "[8 rows x 26 columns]"
      ]
     },
     "execution_count": 36,
     "metadata": {},
     "output_type": "execute_result"
    }
   ],
   "source": [
    "# Imputing missing age values w mean and not median bc boxplot shows no outliers\n",
    "df.rename(columns={'Age_at_diagnosis': 'Age'}, inplace=True)\n",
    "df['Age'].fillna(df['Age'].mean(), inplace=True)\n",
    "df.describe()"
   ]
  },
  {
   "cell_type": "code",
   "execution_count": 64,
   "metadata": {},
   "outputs": [
    {
     "ename": "TypeError",
     "evalue": "'str' object is not callable",
     "output_type": "error",
     "traceback": [
      "\u001b[0;31m---------------------------------------------------------------------------\u001b[0m",
      "\u001b[0;31mTypeError\u001b[0m                                 Traceback (most recent call last)",
      "Input \u001b[0;32mIn [64]\u001b[0m, in \u001b[0;36m<cell line: 3>\u001b[0;34m()\u001b[0m\n\u001b[1;32m      1\u001b[0m \u001b[38;5;66;03m# Distribution of age to see if there are any outliers\u001b[39;00m\n\u001b[1;32m      2\u001b[0m sns\u001b[38;5;241m.\u001b[39mboxplot(data\u001b[38;5;241m=\u001b[39mdf, x\u001b[38;5;241m=\u001b[39m\u001b[38;5;124m'\u001b[39m\u001b[38;5;124mAge\u001b[39m\u001b[38;5;124m'\u001b[39m)\n\u001b[0;32m----> 3\u001b[0m \u001b[43mplt\u001b[49m\u001b[38;5;241;43m.\u001b[39;49m\u001b[43mtitle\u001b[49m\u001b[43m(\u001b[49m\u001b[38;5;124;43m'\u001b[39;49m\u001b[38;5;124;43mAge Distribution\u001b[39;49m\u001b[38;5;124;43m'\u001b[39;49m\u001b[43m)\u001b[49m\n",
      "\u001b[0;31mTypeError\u001b[0m: 'str' object is not callable"
     ]
    },
    {
     "data": {
      "image/png": "[encoded data removed]",
      "text/plain": [
       "<Figure size 432x288 with 1 Axes>"
      ]
     },
     "metadata": {
      "needs_background": "light"
     },
     "output_type": "display_data"
    }
   ],
   "source": [
    "# Distribution of age to see if there are any outliers\n",
    "sns.boxplot(data=df, x='Age')\n",
    "plt.title('Normalized Age Distribution')"
   ]
  },
  {
   "cell_type": "code",
   "execution_count": 38,
   "metadata": {},
   "outputs": [
    {
     "data": {
      "text/html": [
       "<div>\n",
       "<style scoped>\n",
       "    .dataframe tbody tr th:only-of-type {\n",
       "        vertical-align: middle;\n",
       "    }\n",
       "\n",
       "    .dataframe tbody tr th {\n",
       "        vertical-align: top;\n",
       "    }\n",
       "\n",
       "    .dataframe thead th {\n",
       "        text-align: right;\n",
       "    }\n",
       "</style>\n",
       "<table border=\"1\" class=\"dataframe\">\n",
       "  <thead>\n",
       "    <tr style=\"text-align: right;\">\n",
       "      <th></th>\n",
       "      <th>Grade</th>\n",
       "      <th>Gender</th>\n",
       "      <th>Age</th>\n",
       "      <th>IDH1</th>\n",
       "      <th>TP53</th>\n",
       "      <th>ATRX</th>\n",
       "      <th>PTEN</th>\n",
       "      <th>EGFR</th>\n",
       "      <th>CIC</th>\n",
       "      <th>MUC16</th>\n",
       "      <th>...</th>\n",
       "      <th>CSMD3</th>\n",
       "      <th>SMARCA4</th>\n",
       "      <th>GRIN2A</th>\n",
       "      <th>IDH2</th>\n",
       "      <th>FAT4</th>\n",
       "      <th>PDGFRA</th>\n",
       "      <th>Race_american indian or alaska native</th>\n",
       "      <th>Race_asian</th>\n",
       "      <th>Race_black or african american</th>\n",
       "      <th>Race_white</th>\n",
       "    </tr>\n",
       "  </thead>\n",
       "  <tbody>\n",
       "    <tr>\n",
       "      <th>0</th>\n",
       "      <td>0</td>\n",
       "      <td>0</td>\n",
       "      <td>0.027044</td>\n",
       "      <td>1</td>\n",
       "      <td>0</td>\n",
       "      <td>0</td>\n",
       "      <td>0</td>\n",
       "      <td>0</td>\n",
       "      <td>0</td>\n",
       "      <td>0</td>\n",
       "      <td>...</td>\n",
       "      <td>0</td>\n",
       "      <td>0</td>\n",
       "      <td>0</td>\n",
       "      <td>0</td>\n",
       "      <td>0</td>\n",
       "      <td>0</td>\n",
       "      <td>0</td>\n",
       "      <td>0</td>\n",
       "      <td>0</td>\n",
       "      <td>1</td>\n",
       "    </tr>\n",
       "    <tr>\n",
       "      <th>1</th>\n",
       "      <td>0</td>\n",
       "      <td>0</td>\n",
       "      <td>-0.777686</td>\n",
       "      <td>1</td>\n",
       "      <td>0</td>\n",
       "      <td>0</td>\n",
       "      <td>0</td>\n",
       "      <td>0</td>\n",
       "      <td>1</td>\n",
       "      <td>0</td>\n",
       "      <td>...</td>\n",
       "      <td>0</td>\n",
       "      <td>0</td>\n",
       "      <td>0</td>\n",
       "      <td>0</td>\n",
       "      <td>0</td>\n",
       "      <td>0</td>\n",
       "      <td>0</td>\n",
       "      <td>0</td>\n",
       "      <td>0</td>\n",
       "      <td>1</td>\n",
       "    </tr>\n",
       "    <tr>\n",
       "      <th>2</th>\n",
       "      <td>0</td>\n",
       "      <td>0</td>\n",
       "      <td>-1.004455</td>\n",
       "      <td>1</td>\n",
       "      <td>1</td>\n",
       "      <td>1</td>\n",
       "      <td>0</td>\n",
       "      <td>0</td>\n",
       "      <td>0</td>\n",
       "      <td>0</td>\n",
       "      <td>...</td>\n",
       "      <td>0</td>\n",
       "      <td>0</td>\n",
       "      <td>0</td>\n",
       "      <td>0</td>\n",
       "      <td>0</td>\n",
       "      <td>0</td>\n",
       "      <td>0</td>\n",
       "      <td>0</td>\n",
       "      <td>0</td>\n",
       "      <td>1</td>\n",
       "    </tr>\n",
       "    <tr>\n",
       "      <th>3</th>\n",
       "      <td>0</td>\n",
       "      <td>1</td>\n",
       "      <td>-1.157620</td>\n",
       "      <td>1</td>\n",
       "      <td>1</td>\n",
       "      <td>1</td>\n",
       "      <td>0</td>\n",
       "      <td>0</td>\n",
       "      <td>0</td>\n",
       "      <td>1</td>\n",
       "      <td>...</td>\n",
       "      <td>0</td>\n",
       "      <td>0</td>\n",
       "      <td>0</td>\n",
       "      <td>0</td>\n",
       "      <td>1</td>\n",
       "      <td>0</td>\n",
       "      <td>0</td>\n",
       "      <td>0</td>\n",
       "      <td>0</td>\n",
       "      <td>1</td>\n",
       "    </tr>\n",
       "    <tr>\n",
       "      <th>4</th>\n",
       "      <td>0</td>\n",
       "      <td>0</td>\n",
       "      <td>-1.238408</td>\n",
       "      <td>1</td>\n",
       "      <td>1</td>\n",
       "      <td>1</td>\n",
       "      <td>0</td>\n",
       "      <td>0</td>\n",
       "      <td>0</td>\n",
       "      <td>0</td>\n",
       "      <td>...</td>\n",
       "      <td>0</td>\n",
       "      <td>0</td>\n",
       "      <td>0</td>\n",
       "      <td>0</td>\n",
       "      <td>0</td>\n",
       "      <td>0</td>\n",
       "      <td>0</td>\n",
       "      <td>0</td>\n",
       "      <td>0</td>\n",
       "      <td>1</td>\n",
       "    </tr>\n",
       "    <tr>\n",
       "      <th>...</th>\n",
       "      <td>...</td>\n",
       "      <td>...</td>\n",
       "      <td>...</td>\n",
       "      <td>...</td>\n",
       "      <td>...</td>\n",
       "      <td>...</td>\n",
       "      <td>...</td>\n",
       "      <td>...</td>\n",
       "      <td>...</td>\n",
       "      <td>...</td>\n",
       "      <td>...</td>\n",
       "      <td>...</td>\n",
       "      <td>...</td>\n",
       "      <td>...</td>\n",
       "      <td>...</td>\n",
       "      <td>...</td>\n",
       "      <td>...</td>\n",
       "      <td>...</td>\n",
       "      <td>...</td>\n",
       "      <td>...</td>\n",
       "      <td>...</td>\n",
       "    </tr>\n",
       "    <tr>\n",
       "      <th>857</th>\n",
       "      <td>1</td>\n",
       "      <td>1</td>\n",
       "      <td>1.728157</td>\n",
       "      <td>0</td>\n",
       "      <td>0</td>\n",
       "      <td>0</td>\n",
       "      <td>1</td>\n",
       "      <td>0</td>\n",
       "      <td>0</td>\n",
       "      <td>0</td>\n",
       "      <td>...</td>\n",
       "      <td>0</td>\n",
       "      <td>0</td>\n",
       "      <td>0</td>\n",
       "      <td>0</td>\n",
       "      <td>0</td>\n",
       "      <td>0</td>\n",
       "      <td>0</td>\n",
       "      <td>0</td>\n",
       "      <td>0</td>\n",
       "      <td>1</td>\n",
       "    </tr>\n",
       "    <tr>\n",
       "      <th>858</th>\n",
       "      <td>1</td>\n",
       "      <td>0</td>\n",
       "      <td>2.194311</td>\n",
       "      <td>0</td>\n",
       "      <td>1</td>\n",
       "      <td>0</td>\n",
       "      <td>1</td>\n",
       "      <td>0</td>\n",
       "      <td>0</td>\n",
       "      <td>0</td>\n",
       "      <td>...</td>\n",
       "      <td>0</td>\n",
       "      <td>0</td>\n",
       "      <td>0</td>\n",
       "      <td>0</td>\n",
       "      <td>0</td>\n",
       "      <td>0</td>\n",
       "      <td>0</td>\n",
       "      <td>0</td>\n",
       "      <td>0</td>\n",
       "      <td>1</td>\n",
       "    </tr>\n",
       "    <tr>\n",
       "      <th>859</th>\n",
       "      <td>1</td>\n",
       "      <td>1</td>\n",
       "      <td>1.702396</td>\n",
       "      <td>0</td>\n",
       "      <td>1</td>\n",
       "      <td>0</td>\n",
       "      <td>1</td>\n",
       "      <td>0</td>\n",
       "      <td>0</td>\n",
       "      <td>0</td>\n",
       "      <td>...</td>\n",
       "      <td>0</td>\n",
       "      <td>0</td>\n",
       "      <td>0</td>\n",
       "      <td>0</td>\n",
       "      <td>0</td>\n",
       "      <td>0</td>\n",
       "      <td>0</td>\n",
       "      <td>0</td>\n",
       "      <td>0</td>\n",
       "      <td>1</td>\n",
       "    </tr>\n",
       "    <tr>\n",
       "      <th>860</th>\n",
       "      <td>1</td>\n",
       "      <td>0</td>\n",
       "      <td>0.796899</td>\n",
       "      <td>0</td>\n",
       "      <td>1</td>\n",
       "      <td>0</td>\n",
       "      <td>0</td>\n",
       "      <td>0</td>\n",
       "      <td>0</td>\n",
       "      <td>1</td>\n",
       "      <td>...</td>\n",
       "      <td>0</td>\n",
       "      <td>0</td>\n",
       "      <td>0</td>\n",
       "      <td>0</td>\n",
       "      <td>0</td>\n",
       "      <td>0</td>\n",
       "      <td>0</td>\n",
       "      <td>0</td>\n",
       "      <td>0</td>\n",
       "      <td>1</td>\n",
       "    </tr>\n",
       "    <tr>\n",
       "      <th>861</th>\n",
       "      <td>1</td>\n",
       "      <td>0</td>\n",
       "      <td>1.645966</td>\n",
       "      <td>0</td>\n",
       "      <td>0</td>\n",
       "      <td>0</td>\n",
       "      <td>0</td>\n",
       "      <td>0</td>\n",
       "      <td>0</td>\n",
       "      <td>0</td>\n",
       "      <td>...</td>\n",
       "      <td>0</td>\n",
       "      <td>0</td>\n",
       "      <td>0</td>\n",
       "      <td>0</td>\n",
       "      <td>0</td>\n",
       "      <td>0</td>\n",
       "      <td>0</td>\n",
       "      <td>0</td>\n",
       "      <td>1</td>\n",
       "      <td>0</td>\n",
       "    </tr>\n",
       "  </tbody>\n",
       "</table>\n",
       "<p>840 rows × 27 columns</p>\n",
       "</div>"
      ],
      "text/plain": [
       "     Grade Gender       Age  IDH1  TP53  ATRX  PTEN  EGFR  CIC  MUC16  ...  \\\n",
       "0        0      0  0.027044     1     0     0     0     0    0      0  ...   \n",
       "1        0      0 -0.777686     1     0     0     0     0    1      0  ...   \n",
       "2        0      0 -1.004455     1     1     1     0     0    0      0  ...   \n",
       "3        0      1 -1.157620     1     1     1     0     0    0      1  ...   \n",
       "4        0      0 -1.238408     1     1     1     0     0    0      0  ...   \n",
       "..     ...    ...       ...   ...   ...   ...   ...   ...  ...    ...  ...   \n",
       "857      1      1  1.728157     0     0     0     1     0    0      0  ...   \n",
       "858      1      0  2.194311     0     1     0     1     0    0      0  ...   \n",
       "859      1      1  1.702396     0     1     0     1     0    0      0  ...   \n",
       "860      1      0  0.796899     0     1     0     0     0    0      1  ...   \n",
       "861      1      0  1.645966     0     0     0     0     0    0      0  ...   \n",
       "\n",
       "     CSMD3  SMARCA4  GRIN2A  IDH2  FAT4  PDGFRA  \\\n",
       "0        0        0       0     0     0       0   \n",
       "1        0        0       0     0     0       0   \n",
       "2        0        0       0     0     0       0   \n",
       "3        0        0       0     0     1       0   \n",
       "4        0        0       0     0     0       0   \n",
       "..     ...      ...     ...   ...   ...     ...   \n",
       "857      0        0       0     0     0       0   \n",
       "858      0        0       0     0     0       0   \n",
       "859      0        0       0     0     0       0   \n",
       "860      0        0       0     0     0       0   \n",
       "861      0        0       0     0     0       0   \n",
       "\n",
       "     Race_american indian or alaska native  Race_asian  \\\n",
       "0                                        0           0   \n",
       "1                                        0           0   \n",
       "2                                        0           0   \n",
       "3                                        0           0   \n",
       "4                                        0           0   \n",
       "..                                     ...         ...   \n",
       "857                                      0           0   \n",
       "858                                      0           0   \n",
       "859                                      0           0   \n",
       "860                                      0           0   \n",
       "861                                      0           0   \n",
       "\n",
       "     Race_black or african american  Race_white  \n",
       "0                                 0           1  \n",
       "1                                 0           1  \n",
       "2                                 0           1  \n",
       "3                                 0           1  \n",
       "4                                 0           1  \n",
       "..                              ...         ...  \n",
       "857                               0           1  \n",
       "858                               0           1  \n",
       "859                               0           1  \n",
       "860                               0           1  \n",
       "861                               1           0  \n",
       "\n",
       "[840 rows x 27 columns]"
      ]
     },
     "execution_count": 38,
     "metadata": {},
     "output_type": "execute_result"
    }
   ],
   "source": [
    "# Normalizing age\n",
    "df['Age'] = (df['Age'] - df['Age'].mean()) / df['Age'].std()\n",
    "df"
   ]
  },
  {
   "cell_type": "code",
   "execution_count": 39,
   "metadata": {},
   "outputs": [
    {
     "data": {
      "text/html": [
       "<div>\n",
       "<style scoped>\n",
       "    .dataframe tbody tr th:only-of-type {\n",
       "        vertical-align: middle;\n",
       "    }\n",
       "\n",
       "    .dataframe tbody tr th {\n",
       "        vertical-align: top;\n",
       "    }\n",
       "\n",
       "    .dataframe thead th {\n",
       "        text-align: right;\n",
       "    }\n",
       "</style>\n",
       "<table border=\"1\" class=\"dataframe\">\n",
       "  <thead>\n",
       "    <tr style=\"text-align: right;\">\n",
       "      <th></th>\n",
       "      <th>Grade</th>\n",
       "      <th>Age</th>\n",
       "      <th>IDH1</th>\n",
       "      <th>TP53</th>\n",
       "      <th>ATRX</th>\n",
       "      <th>PTEN</th>\n",
       "      <th>EGFR</th>\n",
       "      <th>CIC</th>\n",
       "      <th>MUC16</th>\n",
       "      <th>PIK3CA</th>\n",
       "      <th>...</th>\n",
       "      <th>CSMD3</th>\n",
       "      <th>SMARCA4</th>\n",
       "      <th>GRIN2A</th>\n",
       "      <th>IDH2</th>\n",
       "      <th>FAT4</th>\n",
       "      <th>PDGFRA</th>\n",
       "      <th>Race_american indian or alaska native</th>\n",
       "      <th>Race_asian</th>\n",
       "      <th>Race_black or african american</th>\n",
       "      <th>Race_white</th>\n",
       "    </tr>\n",
       "  </thead>\n",
       "  <tbody>\n",
       "    <tr>\n",
       "      <th>count</th>\n",
       "      <td>840.000000</td>\n",
       "      <td>8.400000e+02</td>\n",
       "      <td>840.000000</td>\n",
       "      <td>840.000000</td>\n",
       "      <td>840.000000</td>\n",
       "      <td>840.000000</td>\n",
       "      <td>840.000000</td>\n",
       "      <td>840.000000</td>\n",
       "      <td>840.000000</td>\n",
       "      <td>840.000000</td>\n",
       "      <td>...</td>\n",
       "      <td>840.000000</td>\n",
       "      <td>840.000000</td>\n",
       "      <td>840.000000</td>\n",
       "      <td>840.000000</td>\n",
       "      <td>840.000000</td>\n",
       "      <td>840.000000</td>\n",
       "      <td>840.000000</td>\n",
       "      <td>840.000000</td>\n",
       "      <td>840.000000</td>\n",
       "      <td>840.000000</td>\n",
       "    </tr>\n",
       "    <tr>\n",
       "      <th>mean</th>\n",
       "      <td>0.419048</td>\n",
       "      <td>3.279387e-15</td>\n",
       "      <td>0.482143</td>\n",
       "      <td>0.414286</td>\n",
       "      <td>0.258333</td>\n",
       "      <td>0.167857</td>\n",
       "      <td>0.133333</td>\n",
       "      <td>0.132143</td>\n",
       "      <td>0.116667</td>\n",
       "      <td>0.086905</td>\n",
       "      <td>...</td>\n",
       "      <td>0.032143</td>\n",
       "      <td>0.032143</td>\n",
       "      <td>0.032143</td>\n",
       "      <td>0.027381</td>\n",
       "      <td>0.027381</td>\n",
       "      <td>0.026190</td>\n",
       "      <td>0.001190</td>\n",
       "      <td>0.016667</td>\n",
       "      <td>0.070238</td>\n",
       "      <td>0.911905</td>\n",
       "    </tr>\n",
       "    <tr>\n",
       "      <th>std</th>\n",
       "      <td>0.493697</td>\n",
       "      <td>1.000000e+00</td>\n",
       "      <td>0.499979</td>\n",
       "      <td>0.492892</td>\n",
       "      <td>0.437979</td>\n",
       "      <td>0.373962</td>\n",
       "      <td>0.340137</td>\n",
       "      <td>0.338848</td>\n",
       "      <td>0.321214</td>\n",
       "      <td>0.281863</td>\n",
       "      <td>...</td>\n",
       "      <td>0.176484</td>\n",
       "      <td>0.176484</td>\n",
       "      <td>0.176484</td>\n",
       "      <td>0.163288</td>\n",
       "      <td>0.163288</td>\n",
       "      <td>0.159797</td>\n",
       "      <td>0.034503</td>\n",
       "      <td>0.128095</td>\n",
       "      <td>0.255700</td>\n",
       "      <td>0.283602</td>\n",
       "    </tr>\n",
       "    <tr>\n",
       "      <th>min</th>\n",
       "      <td>0.000000</td>\n",
       "      <td>-2.331593e+00</td>\n",
       "      <td>0.000000</td>\n",
       "      <td>0.000000</td>\n",
       "      <td>0.000000</td>\n",
       "      <td>0.000000</td>\n",
       "      <td>0.000000</td>\n",
       "      <td>0.000000</td>\n",
       "      <td>0.000000</td>\n",
       "      <td>0.000000</td>\n",
       "      <td>...</td>\n",
       "      <td>0.000000</td>\n",
       "      <td>0.000000</td>\n",
       "      <td>0.000000</td>\n",
       "      <td>0.000000</td>\n",
       "      <td>0.000000</td>\n",
       "      <td>0.000000</td>\n",
       "      <td>0.000000</td>\n",
       "      <td>0.000000</td>\n",
       "      <td>0.000000</td>\n",
       "      <td>0.000000</td>\n",
       "    </tr>\n",
       "    <tr>\n",
       "      <th>25%</th>\n",
       "      <td>0.000000</td>\n",
       "      <td>-8.197014e-01</td>\n",
       "      <td>0.000000</td>\n",
       "      <td>0.000000</td>\n",
       "      <td>0.000000</td>\n",
       "      <td>0.000000</td>\n",
       "      <td>0.000000</td>\n",
       "      <td>0.000000</td>\n",
       "      <td>0.000000</td>\n",
       "      <td>0.000000</td>\n",
       "      <td>...</td>\n",
       "      <td>0.000000</td>\n",
       "      <td>0.000000</td>\n",
       "      <td>0.000000</td>\n",
       "      <td>0.000000</td>\n",
       "      <td>0.000000</td>\n",
       "      <td>0.000000</td>\n",
       "      <td>0.000000</td>\n",
       "      <td>0.000000</td>\n",
       "      <td>0.000000</td>\n",
       "      <td>1.000000</td>\n",
       "    </tr>\n",
       "    <tr>\n",
       "      <th>50%</th>\n",
       "      <td>0.000000</td>\n",
       "      <td>3.308957e-02</td>\n",
       "      <td>0.000000</td>\n",
       "      <td>0.000000</td>\n",
       "      <td>0.000000</td>\n",
       "      <td>0.000000</td>\n",
       "      <td>0.000000</td>\n",
       "      <td>0.000000</td>\n",
       "      <td>0.000000</td>\n",
       "      <td>0.000000</td>\n",
       "      <td>...</td>\n",
       "      <td>0.000000</td>\n",
       "      <td>0.000000</td>\n",
       "      <td>0.000000</td>\n",
       "      <td>0.000000</td>\n",
       "      <td>0.000000</td>\n",
       "      <td>0.000000</td>\n",
       "      <td>0.000000</td>\n",
       "      <td>0.000000</td>\n",
       "      <td>0.000000</td>\n",
       "      <td>1.000000</td>\n",
       "    </tr>\n",
       "    <tr>\n",
       "      <th>75%</th>\n",
       "      <td>1.000000</td>\n",
       "      <td>7.512040e-01</td>\n",
       "      <td>1.000000</td>\n",
       "      <td>1.000000</td>\n",
       "      <td>1.000000</td>\n",
       "      <td>0.000000</td>\n",
       "      <td>0.000000</td>\n",
       "      <td>0.000000</td>\n",
       "      <td>0.000000</td>\n",
       "      <td>0.000000</td>\n",
       "      <td>...</td>\n",
       "      <td>0.000000</td>\n",
       "      <td>0.000000</td>\n",
       "      <td>0.000000</td>\n",
       "      <td>0.000000</td>\n",
       "      <td>0.000000</td>\n",
       "      <td>0.000000</td>\n",
       "      <td>0.000000</td>\n",
       "      <td>0.000000</td>\n",
       "      <td>0.000000</td>\n",
       "      <td>1.000000</td>\n",
       "    </tr>\n",
       "    <tr>\n",
       "      <th>max</th>\n",
       "      <td>1.000000</td>\n",
       "      <td>2.457180e+00</td>\n",
       "      <td>1.000000</td>\n",
       "      <td>1.000000</td>\n",
       "      <td>1.000000</td>\n",
       "      <td>1.000000</td>\n",
       "      <td>1.000000</td>\n",
       "      <td>1.000000</td>\n",
       "      <td>1.000000</td>\n",
       "      <td>1.000000</td>\n",
       "      <td>...</td>\n",
       "      <td>1.000000</td>\n",
       "      <td>1.000000</td>\n",
       "      <td>1.000000</td>\n",
       "      <td>1.000000</td>\n",
       "      <td>1.000000</td>\n",
       "      <td>1.000000</td>\n",
       "      <td>1.000000</td>\n",
       "      <td>1.000000</td>\n",
       "      <td>1.000000</td>\n",
       "      <td>1.000000</td>\n",
       "    </tr>\n",
       "  </tbody>\n",
       "</table>\n",
       "<p>8 rows × 26 columns</p>\n",
       "</div>"
      ],
      "text/plain": [
       "            Grade           Age        IDH1        TP53        ATRX  \\\n",
       "count  840.000000  8.400000e+02  840.000000  840.000000  840.000000   \n",
       "mean     0.419048  3.279387e-15    0.482143    0.414286    0.258333   \n",
       "std      0.493697  1.000000e+00    0.499979    0.492892    0.437979   \n",
       "min      0.000000 -2.331593e+00    0.000000    0.000000    0.000000   \n",
       "25%      0.000000 -8.197014e-01    0.000000    0.000000    0.000000   \n",
       "50%      0.000000  3.308957e-02    0.000000    0.000000    0.000000   \n",
       "75%      1.000000  7.512040e-01    1.000000    1.000000    1.000000   \n",
       "max      1.000000  2.457180e+00    1.000000    1.000000    1.000000   \n",
       "\n",
       "             PTEN        EGFR         CIC       MUC16      PIK3CA  ...  \\\n",
       "count  840.000000  840.000000  840.000000  840.000000  840.000000  ...   \n",
       "mean     0.167857    0.133333    0.132143    0.116667    0.086905  ...   \n",
       "std      0.373962    0.340137    0.338848    0.321214    0.281863  ...   \n",
       "min      0.000000    0.000000    0.000000    0.000000    0.000000  ...   \n",
       "25%      0.000000    0.000000    0.000000    0.000000    0.000000  ...   \n",
       "50%      0.000000    0.000000    0.000000    0.000000    0.000000  ...   \n",
       "75%      0.000000    0.000000    0.000000    0.000000    0.000000  ...   \n",
       "max      1.000000    1.000000    1.000000    1.000000    1.000000  ...   \n",
       "\n",
       "            CSMD3     SMARCA4      GRIN2A        IDH2        FAT4      PDGFRA  \\\n",
       "count  840.000000  840.000000  840.000000  840.000000  840.000000  840.000000   \n",
       "mean     0.032143    0.032143    0.032143    0.027381    0.027381    0.026190   \n",
       "std      0.176484    0.176484    0.176484    0.163288    0.163288    0.159797   \n",
       "min      0.000000    0.000000    0.000000    0.000000    0.000000    0.000000   \n",
       "25%      0.000000    0.000000    0.000000    0.000000    0.000000    0.000000   \n",
       "50%      0.000000    0.000000    0.000000    0.000000    0.000000    0.000000   \n",
       "75%      0.000000    0.000000    0.000000    0.000000    0.000000    0.000000   \n",
       "max      1.000000    1.000000    1.000000    1.000000    1.000000    1.000000   \n",
       "\n",
       "       Race_american indian or alaska native  Race_asian  \\\n",
       "count                             840.000000  840.000000   \n",
       "mean                                0.001190    0.016667   \n",
       "std                                 0.034503    0.128095   \n",
       "min                                 0.000000    0.000000   \n",
       "25%                                 0.000000    0.000000   \n",
       "50%                                 0.000000    0.000000   \n",
       "75%                                 0.000000    0.000000   \n",
       "max                                 1.000000    1.000000   \n",
       "\n",
       "       Race_black or african american  Race_white  \n",
       "count                      840.000000  840.000000  \n",
       "mean                         0.070238    0.911905  \n",
       "std                          0.255700    0.283602  \n",
       "min                          0.000000    0.000000  \n",
       "25%                          0.000000    1.000000  \n",
       "50%                          0.000000    1.000000  \n",
       "75%                          0.000000    1.000000  \n",
       "max                          1.000000    1.000000  \n",
       "\n",
       "[8 rows x 26 columns]"
      ]
     },
     "execution_count": 39,
     "metadata": {},
     "output_type": "execute_result"
    }
   ],
   "source": [
    "# Descriptive statistics\n",
    "df.describe()"
   ]
  },
  {
   "cell_type": "markdown",
   "metadata": {},
   "source": [
    "# Data visualization "
   ]
  },
  {
   "cell_type": "markdown",
   "metadata": {},
   "source": [
    "### Clinical Features"
   ]
  },
  {
   "cell_type": "markdown",
   "metadata": {},
   "source": [
    "Below, we visualize data and inspect: \n",
    "- How gender distributes by age for the current dataset;\n",
    "- The prevalence of gliomas by gender.\n",
    "\n",
    "Notably, there are more men in the dataset than women, but age is relatively similarly distributed across genders."
   ]
  },
  {
   "cell_type": "code",
   "execution_count": 61,
   "metadata": {},
   "outputs": [
    {
     "data": {
      "image/png": "[encoded data removed]",
      "text/plain": [
       "<Figure size 720x360 with 1 Axes>"
      ]
     },
     "metadata": {
      "needs_background": "light"
     },
     "output_type": "display_data"
    },
    {
     "data": {
      "text/plain": [
       "0    489\n",
       "1    351\n",
       "Name: Gender, dtype: int64"
      ]
     },
     "execution_count": 61,
     "metadata": {},
     "output_type": "execute_result"
    }
   ],
   "source": [
    "# Checking age distribution by gender\n",
    "plt.figure(figsize=(10, 5))\n",
    "sns.histplot(x='Age', data=df, hue='Gender', palette={0: 'blue', 1: 'pink'}, hue_order=[0, 1], multiple='stack', bins=20, kde=True)\n",
    "plt.title('Age Distribution by gender')\n",
    "plt.legend(title='Gender', labels=['Women', 'Men'])\n",
    "plt.show()\n",
    "\n",
    "# Counting the number of each gender in the dataset\n",
    "df['Gender'].value_counts()"
   ]
  },
  {
   "cell_type": "markdown",
   "metadata": {},
   "source": [
    "Notably, the cell below shows that our data is in full accordance with current glioma literature. Specifically: \n",
    "- Men are more affected than women; \n",
    "- This gender imbalance is more prominent for high-grades gliomas. As a reminder, high-grade GBMs is given a value of 1, whereas the LGGs are given a value of 0."
   ]
  },
  {
   "cell_type": "code",
   "execution_count": 46,
   "metadata": {},
   "outputs": [
    {
     "data": {
      "image/png": "[encoded data removed]",
      "text/plain": [
       "<Figure size 432x288 with 1 Axes>"
      ]
     },
     "metadata": {
      "needs_background": "light"
     },
     "output_type": "display_data"
    }
   ],
   "source": [
    "# Checking distribution of glioma by gender, color coding data based on gender\n",
    "sns.countplot(data = df, x = 'Grade', hue='Gender', palette={0: 'blue', 1: 'pink'})\n",
    "plt.xlabel('Grade')\n",
    "plt.ylabel('Count')\n",
    "plt.title('Distribution of Glioma by Gender')\n",
    "plt.legend(title='Gender', labels=['Men', 'Women'])\n",
    "\n",
    "plt.show()"
   ]
  },
  {
   "cell_type": "markdown",
   "metadata": {},
   "source": [
    "### Genetic Features"
   ]
  },
  {
   "cell_type": "markdown",
   "metadata": {},
   "source": [
    "Now, we index the dataset to only visualize the 20 genetic features, specifically: \n",
    "- their mutation frequence; \n",
    "- the mutation distribution for each gene.\n",
    "\n",
    "Both tables point to mutations on the IDH1 gene being extremely common. This is not surprising, as this gene is perhaps the most related to glioma formation in LGGs and secondary HGGs. Indeed, the IDH1 gene is termed the “trunk” (or initiating) event in the genesis of IDH-mutant gliomas.\n",
    "\n",
    "The other mutation patterns (such as the prevalent mutations on TPRX and ATRX genes) are coherent with the latest literature on glial cells tumorogenesis, despite the dataset not providing information as to whether a GBM is primary or secondary. To dive into glioma molecular bases and garner further insight on these tables, as well as the function of each gene in this dataset, please visit our [README](https://github.com/irenebernardi/Glioma-Grading-Classification/blob/main/README.md)."
   ]
  },
  {
   "cell_type": "code",
   "execution_count": 15,
   "metadata": {},
   "outputs": [
    {
     "data": {
      "image/png": "[encoded data removed]",
      "text/plain": [
       "<Figure size 720x360 with 1 Axes>"
      ]
     },
     "metadata": {
      "needs_background": "light"
     },
     "output_type": "display_data"
    }
   ],
   "source": [
    "# Distribution of most commonly mutated genes in the dataset \n",
    "df['Most_commonly_mutated_gene'] = df.iloc[:, 3:-5].idxmax(axis=1)\n",
    "plt.figure(figsize=(10, 5))\n",
    "\n",
    "sns.countplot(data=df, y='Most_commonly_mutated_gene', palette='Set2')\n",
    "plt.xlabel('Count')\n",
    "plt.ylabel('Gene')\n",
    "plt.title('Distribution of most commonly mutated genes')\n",
    "plt.show()"
   ]
  },
  {
   "cell_type": "code",
   "execution_count": 69,
   "metadata": {},
   "outputs": [
    {
     "data": {
      "application/vnd.plotly.v1+json": {
       "config": {
        "plotlyServerURL": "https://plot.ly"
       },
       "data": [
        {
         "name": "Column IDH1",
         "type": "bar",
         "x": [
          "Non-mutated",
          "Mutated"
         ],
         "xaxis": "x",
         "y": [
          435,
          405
         ],
         "yaxis": "y"
        },
        {
         "name": "Column TP53",
         "type": "bar",
         "x": [
          "Non-mutated",
          "Mutated"
         ],
         "xaxis": "x2",
         "y": [
          492,
          348
         ],
         "yaxis": "y2"
        },
        {
         "name": "Column ATRX",
         "type": "bar",
         "x": [
          "Non-mutated",
          "Mutated"
         ],
         "xaxis": "x3",
         "y": [
          623,
          217
         ],
         "yaxis": "y3"
        },
        {
         "name": "Column PTEN",
         "type": "bar",
         "x": [
          "Non-mutated",
          "Mutated"
         ],
         "xaxis": "x4",
         "y": [
          699,
          141
         ],
         "yaxis": "y4"
        },
        {
         "name": "Column EGFR",
         "type": "bar",
         "x": [
          "Non-mutated",
          "Mutated"
         ],
         "xaxis": "x5",
         "y": [
          728,
          112
         ],
         "yaxis": "y5"
        },
        {
         "name": "Column CIC",
         "type": "bar",
         "x": [
          "Non-mutated",
          "Mutated"
         ],
         "xaxis": "x6",
         "y": [
          729,
          111
         ],
         "yaxis": "y6"
        },
        {
         "name": "Column MUC16",
         "type": "bar",
         "x": [
          "Non-mutated",
          "Mutated"
         ],
         "xaxis": "x7",
         "y": [
          742,
          98
         ],
         "yaxis": "y7"
        },
        {
         "name": "Column PIK3CA",
         "type": "bar",
         "x": [
          "Non-mutated",
          "Mutated"
         ],
         "xaxis": "x8",
         "y": [
          767,
          73
         ],
         "yaxis": "y8"
        },
        {
         "name": "Column NF1",
         "type": "bar",
         "x": [
          "Non-mutated",
          "Mutated"
         ],
         "xaxis": "x9",
         "y": [
          773,
          67
         ],
         "yaxis": "y9"
        },
        {
         "name": "Column PIK3R1",
         "type": "bar",
         "x": [
          "Non-mutated",
          "Mutated"
         ],
         "xaxis": "x10",
         "y": [
          786,
          54
         ],
         "yaxis": "y10"
        },
        {
         "name": "Column FUBP1",
         "type": "bar",
         "x": [
          "Non-mutated",
          "Mutated"
         ],
         "xaxis": "x11",
         "y": [
          795,
          45
         ],
         "yaxis": "y11"
        },
        {
         "name": "Column RB1",
         "type": "bar",
         "x": [
          "Non-mutated",
          "Mutated"
         ],
         "xaxis": "x12",
         "y": [
          800,
          40
         ],
         "yaxis": "y12"
        },
        {
         "name": "Column NOTCH1",
         "type": "bar",
         "x": [
          "Non-mutated",
          "Mutated"
         ],
         "xaxis": "x13",
         "y": [
          802,
          38
         ],
         "yaxis": "y13"
        },
        {
         "name": "Column BCOR",
         "type": "bar",
         "x": [
          "Non-mutated",
          "Mutated"
         ],
         "xaxis": "x14",
         "y": [
          811,
          29
         ],
         "yaxis": "y14"
        },
        {
         "name": "Column CSMD3",
         "type": "bar",
         "x": [
          "Non-mutated",
          "Mutated"
         ],
         "xaxis": "x15",
         "y": [
          813,
          27
         ],
         "yaxis": "y15"
        },
        {
         "name": "Column SMARCA4",
         "type": "bar",
         "x": [
          "Non-mutated",
          "Mutated"
         ],
         "xaxis": "x16",
         "y": [
          813,
          27
         ],
         "yaxis": "y16"
        },
        {
         "name": "Column GRIN2A",
         "type": "bar",
         "x": [
          "Non-mutated",
          "Mutated"
         ],
         "xaxis": "x17",
         "y": [
          813,
          27
         ],
         "yaxis": "y17"
        },
        {
         "name": "Column IDH2",
         "type": "bar",
         "x": [
          "Non-mutated",
          "Mutated"
         ],
         "xaxis": "x18",
         "y": [
          817,
          23
         ],
         "yaxis": "y18"
        },
        {
         "name": "Column FAT4",
         "type": "bar",
         "x": [
          "Non-mutated",
          "Mutated"
         ],
         "xaxis": "x19",
         "y": [
          817,
          23
         ],
         "yaxis": "y19"
        },
        {
         "name": "Column PDGFRA",
         "type": "bar",
         "x": [
          "Non-mutated",
          "Mutated"
         ],
         "xaxis": "x20",
         "y": [
          818,
          22
         ],
         "yaxis": "y20"
        }
       ],
       "layout": {
        "height": 1200,
        "template": {
         "data": {
          "bar": [
           {
            "error_x": {
             "color": "#2a3f5f"
            },
            "error_y": {
             "color": "#2a3f5f"
            },
            "marker": {
             "line": {
              "color": "#E5ECF6",
              "width": 0.5
             },
             "pattern": {
              "fillmode": "overlay",
              "size": 10,
              "solidity": 0.2
             }
            },
            "type": "bar"
           }
          ],
          "barpolar": [
           {
            "marker": {
             "line": {
              "color": "#E5ECF6",
              "width": 0.5
             },
             "pattern": {
              "fillmode": "overlay",
              "size": 10,
              "solidity": 0.2
             }
            },
            "type": "barpolar"
           }
          ],
          "carpet": [
           {
            "aaxis": {
             "endlinecolor": "#2a3f5f",
             "gridcolor": "white",
             "linecolor": "white",
             "minorgridcolor": "white",
             "startlinecolor": "#2a3f5f"
            },
            "baxis": {
             "endlinecolor": "#2a3f5f",
             "gridcolor": "white",
             "linecolor": "white",
             "minorgridcolor": "white",
             "startlinecolor": "#2a3f5f"
            },
            "type": "carpet"
           }
          ],
          "choropleth": [
           {
            "colorbar": {
             "outlinewidth": 0,
             "ticks": ""
            },
            "type": "choropleth"
           }
          ],
          "contour": [
           {
            "colorbar": {
             "outlinewidth": 0,
             "ticks": ""
            },
            "colorscale": [
             [
              0,
              "#0d0887"
             ],
             [
              0.1111111111111111,
              "#46039f"
             ],
             [
              0.2222222222222222,
              "#7201a8"
             ],
             [
              0.3333333333333333,
              "#9c179e"
             ],
             [
              0.4444444444444444,
              "#bd3786"
             ],
             [
              0.5555555555555556,
              "#d8576b"
             ],
             [
              0.6666666666666666,
              "#ed7953"
             ],
             [
              0.7777777777777778,
              "#fb9f3a"
             ],
             [
              0.8888888888888888,
              "#fdca26"
             ],
             [
              1,
              "#f0f921"
             ]
            ],
            "type": "contour"
           }
          ],
          "contourcarpet": [
           {
            "colorbar": {
             "outlinewidth": 0,
             "ticks": ""
            },
            "type": "contourcarpet"
           }
          ],
          "heatmap": [
           {
            "colorbar": {
             "outlinewidth": 0,
             "ticks": ""
            },
            "colorscale": [
             [
              0,
              "#0d0887"
             ],
             [
              0.1111111111111111,
              "#46039f"
             ],
             [
              0.2222222222222222,
              "#7201a8"
             ],
             [
              0.3333333333333333,
              "#9c179e"
             ],
             [
              0.4444444444444444,
              "#bd3786"
             ],
             [
              0.5555555555555556,
              "#d8576b"
             ],
             [
              0.6666666666666666,
              "#ed7953"
             ],
             [
              0.7777777777777778,
              "#fb9f3a"
             ],
             [
              0.8888888888888888,
              "#fdca26"
             ],
             [
              1,
              "#f0f921"
             ]
            ],
            "type": "heatmap"
           }
          ],
          "heatmapgl": [
           {
            "colorbar": {
             "outlinewidth": 0,
             "ticks": ""
            },
            "colorscale": [
             [
              0,
              "#0d0887"
             ],
             [
              0.1111111111111111,
              "#46039f"
             ],
             [
              0.2222222222222222,
              "#7201a8"
             ],
             [
              0.3333333333333333,
              "#9c179e"
             ],
             [
              0.4444444444444444,
              "#bd3786"
             ],
             [
              0.5555555555555556,
              "#d8576b"
             ],
             [
              0.6666666666666666,
              "#ed7953"
             ],
             [
              0.7777777777777778,
              "#fb9f3a"
             ],
             [
              0.8888888888888888,
              "#fdca26"
             ],
             [
              1,
              "#f0f921"
             ]
            ],
            "type": "heatmapgl"
           }
          ],
          "histogram": [
           {
            "marker": {
             "pattern": {
              "fillmode": "overlay",
              "size": 10,
              "solidity": 0.2
             }
            },
            "type": "histogram"
           }
          ],
          "histogram2d": [
           {
            "colorbar": {
             "outlinewidth": 0,
             "ticks": ""
            },
            "colorscale": [
             [
              0,
              "#0d0887"
             ],
             [
              0.1111111111111111,
              "#46039f"
             ],
             [
              0.2222222222222222,
              "#7201a8"
             ],
             [
              0.3333333333333333,
              "#9c179e"
             ],
             [
              0.4444444444444444,
              "#bd3786"
             ],
             [
              0.5555555555555556,
              "#d8576b"
             ],
             [
              0.6666666666666666,
              "#ed7953"
             ],
             [
              0.7777777777777778,
              "#fb9f3a"
             ],
             [
              0.8888888888888888,
              "#fdca26"
             ],
             [
              1,
              "#f0f921"
             ]
            ],
            "type": "histogram2d"
           }
          ],
          "histogram2dcontour": [
           {
            "colorbar": {
             "outlinewidth": 0,
             "ticks": ""
            },
            "colorscale": [
             [
              0,
              "#0d0887"
             ],
             [
              0.1111111111111111,
              "#46039f"
             ],
             [
              0.2222222222222222,
              "#7201a8"
             ],
             [
              0.3333333333333333,
              "#9c179e"
             ],
             [
              0.4444444444444444,
              "#bd3786"
             ],
             [
              0.5555555555555556,
              "#d8576b"
             ],
             [
              0.6666666666666666,
              "#ed7953"
             ],
             [
              0.7777777777777778,
              "#fb9f3a"
             ],
             [
              0.8888888888888888,
              "#fdca26"
             ],
             [
              1,
              "#f0f921"
             ]
            ],
            "type": "histogram2dcontour"
           }
          ],
          "mesh3d": [
           {
            "colorbar": {
             "outlinewidth": 0,
             "ticks": ""
            },
            "type": "mesh3d"
           }
          ],
          "parcoords": [
           {
            "line": {
             "colorbar": {
              "outlinewidth": 0,
              "ticks": ""
             }
            },
            "type": "parcoords"
           }
          ],
          "pie": [
           {
            "automargin": true,
            "type": "pie"
           }
          ],
          "scatter": [
           {
            "marker": {
             "colorbar": {
              "outlinewidth": 0,
              "ticks": ""
             }
            },
            "type": "scatter"
           }
          ],
          "scatter3d": [
           {
            "line": {
             "colorbar": {
              "outlinewidth": 0,
              "ticks": ""
             }
            },
            "marker": {
             "colorbar": {
              "outlinewidth": 0,
              "ticks": ""
             }
            },
            "type": "scatter3d"
           }
          ],
          "scattercarpet": [
           {
            "marker": {
             "colorbar": {
              "outlinewidth": 0,
              "ticks": ""
             }
            },
            "type": "scattercarpet"
           }
          ],
          "scattergeo": [
           {
            "marker": {
             "colorbar": {
              "outlinewidth": 0,
              "ticks": ""
             }
            },
            "type": "scattergeo"
           }
          ],
          "scattergl": [
           {
            "marker": {
             "colorbar": {
              "outlinewidth": 0,
              "ticks": ""
             }
            },
            "type": "scattergl"
           }
          ],
          "scattermapbox": [
           {
            "marker": {
             "colorbar": {
              "outlinewidth": 0,
              "ticks": ""
             }
            },
            "type": "scattermapbox"
           }
          ],
          "scatterpolar": [
           {
            "marker": {
             "colorbar": {
              "outlinewidth": 0,
              "ticks": ""
             }
            },
            "type": "scatterpolar"
           }
          ],
          "scatterpolargl": [
           {
            "marker": {
             "colorbar": {
              "outlinewidth": 0,
              "ticks": ""
             }
            },
            "type": "scatterpolargl"
           }
          ],
          "scatterternary": [
           {
            "marker": {
             "colorbar": {
              "outlinewidth": 0,
              "ticks": ""
             }
            },
            "type": "scatterternary"
           }
          ],
          "surface": [
           {
            "colorbar": {
             "outlinewidth": 0,
             "ticks": ""
            },
            "colorscale": [
             [
              0,
              "#0d0887"
             ],
             [
              0.1111111111111111,
              "#46039f"
             ],
             [
              0.2222222222222222,
              "#7201a8"
             ],
             [
              0.3333333333333333,
              "#9c179e"
             ],
             [
              0.4444444444444444,
              "#bd3786"
             ],
             [
              0.5555555555555556,
              "#d8576b"
             ],
             [
              0.6666666666666666,
              "#ed7953"
             ],
             [
              0.7777777777777778,
              "#fb9f3a"
             ],
             [
              0.8888888888888888,
              "#fdca26"
             ],
             [
              1,
              "#f0f921"
             ]
            ],
            "type": "surface"
           }
          ],
          "table": [
           {
            "cells": {
             "fill": {
              "color": "#EBF0F8"
             },
             "line": {
              "color": "white"
             }
            },
            "header": {
             "fill": {
              "color": "#C8D4E3"
             },
             "line": {
              "color": "white"
             }
            },
            "type": "table"
           }
          ]
         },
         "layout": {
          "annotationdefaults": {
           "arrowcolor": "#2a3f5f",
           "arrowhead": 0,
           "arrowwidth": 1
          },
          "autotypenumbers": "strict",
          "coloraxis": {
           "colorbar": {
            "outlinewidth": 0,
            "ticks": ""
           }
          },
          "colorscale": {
           "diverging": [
            [
             0,
             "#8e0152"
            ],
            [
             0.1,
             "#c51b7d"
            ],
            [
             0.2,
             "#de77ae"
            ],
            [
             0.3,
             "#f1b6da"
            ],
            [
             0.4,
             "#fde0ef"
            ],
            [
             0.5,
             "#f7f7f7"
            ],
            [
             0.6,
             "#e6f5d0"
            ],
            [
             0.7,
             "#b8e186"
            ],
            [
             0.8,
             "#7fbc41"
            ],
            [
             0.9,
             "#4d9221"
            ],
            [
             1,
             "#276419"
            ]
           ],
           "sequential": [
            [
             0,
             "#0d0887"
            ],
            [
             0.1111111111111111,
             "#46039f"
            ],
            [
             0.2222222222222222,
             "#7201a8"
            ],
            [
             0.3333333333333333,
             "#9c179e"
            ],
            [
             0.4444444444444444,
             "#bd3786"
            ],
            [
             0.5555555555555556,
             "#d8576b"
            ],
            [
             0.6666666666666666,
             "#ed7953"
            ],
            [
             0.7777777777777778,
             "#fb9f3a"
            ],
            [
             0.8888888888888888,
             "#fdca26"
            ],
            [
             1,
             "#f0f921"
            ]
           ],
           "sequentialminus": [
            [
             0,
             "#0d0887"
            ],
            [
             0.1111111111111111,
             "#46039f"
            ],
            [
             0.2222222222222222,
             "#7201a8"
            ],
            [
             0.3333333333333333,
             "#9c179e"
            ],
            [
             0.4444444444444444,
             "#bd3786"
            ],
            [
             0.5555555555555556,
             "#d8576b"
            ],
            [
             0.6666666666666666,
             "#ed7953"
            ],
            [
             0.7777777777777778,
             "#fb9f3a"
            ],
            [
             0.8888888888888888,
             "#fdca26"
            ],
            [
             1,
             "#f0f921"
            ]
           ]
          },
          "colorway": [
           "#636efa",
           "#EF553B",
           "#00cc96",
           "#ab63fa",
           "#FFA15A",
           "#19d3f3",
           "#FF6692",
           "#B6E880",
           "#FF97FF",
           "#FECB52"
          ],
          "font": {
           "color": "#2a3f5f"
          },
          "geo": {
           "bgcolor": "white",
           "lakecolor": "white",
           "landcolor": "#E5ECF6",
           "showlakes": true,
           "showland": true,
           "subunitcolor": "white"
          },
          "hoverlabel": {
           "align": "left"
          },
          "hovermode": "closest",
          "mapbox": {
           "style": "light"
          },
          "paper_bgcolor": "white",
          "plot_bgcolor": "#E5ECF6",
          "polar": {
           "angularaxis": {
            "gridcolor": "white",
            "linecolor": "white",
            "ticks": ""
           },
           "bgcolor": "#E5ECF6",
           "radialaxis": {
            "gridcolor": "white",
            "linecolor": "white",
            "ticks": ""
           }
          },
          "scene": {
           "xaxis": {
            "backgroundcolor": "#E5ECF6",
            "gridcolor": "white",
            "gridwidth": 2,
            "linecolor": "white",
            "showbackground": true,
            "ticks": "",
            "zerolinecolor": "white"
           },
           "yaxis": {
            "backgroundcolor": "#E5ECF6",
            "gridcolor": "white",
            "gridwidth": 2,
            "linecolor": "white",
            "showbackground": true,
            "ticks": "",
            "zerolinecolor": "white"
           },
           "zaxis": {
            "backgroundcolor": "#E5ECF6",
            "gridcolor": "white",
            "gridwidth": 2,
            "linecolor": "white",
            "showbackground": true,
            "ticks": "",
            "zerolinecolor": "white"
           }
          },
          "shapedefaults": {
           "line": {
            "color": "#2a3f5f"
           }
          },
          "ternary": {
           "aaxis": {
            "gridcolor": "white",
            "linecolor": "white",
            "ticks": ""
           },
           "baxis": {
            "gridcolor": "white",
            "linecolor": "white",
            "ticks": ""
           },
           "bgcolor": "#E5ECF6",
           "caxis": {
            "gridcolor": "white",
            "linecolor": "white",
            "ticks": ""
           }
          },
          "title": {
           "x": 0.05
          },
          "xaxis": {
           "automargin": true,
           "gridcolor": "white",
           "linecolor": "white",
           "ticks": "",
           "title": {
            "standoff": 15
           },
           "zerolinecolor": "white",
           "zerolinewidth": 2
          },
          "yaxis": {
           "automargin": true,
           "gridcolor": "white",
           "linecolor": "white",
           "ticks": "",
           "title": {
            "standoff": 15
           },
           "zerolinecolor": "white",
           "zerolinewidth": 2
          }
         }
        },
        "title": {
         "text": "Mutation Distribution for Each of the 20 Most Commonly Mutated Genes"
        },
        "width": 1000,
        "xaxis": {
         "anchor": "y",
         "domain": [
          0,
          0.2125
         ],
         "title": {
          "text": "IDH1"
         }
        },
        "xaxis10": {
         "anchor": "y10",
         "domain": [
          0.2625,
          0.475
         ],
         "title": {
          "text": "PIK3R1"
         }
        },
        "xaxis11": {
         "anchor": "y11",
         "domain": [
          0.525,
          0.7375
         ],
         "title": {
          "text": "FUBP1"
         }
        },
        "xaxis12": {
         "anchor": "y12",
         "domain": [
          0.7875,
          1
         ],
         "title": {
          "text": "RB1"
         }
        },
        "xaxis13": {
         "anchor": "y13",
         "domain": [
          0,
          0.2125
         ],
         "title": {
          "text": "NOTCH1"
         }
        },
        "xaxis14": {
         "anchor": "y14",
         "domain": [
          0.2625,
          0.475
         ],
         "title": {
          "text": "BCOR"
         }
        },
        "xaxis15": {
         "anchor": "y15",
         "domain": [
          0.525,
          0.7375
         ],
         "title": {
          "text": "CSMD3"
         }
        },
        "xaxis16": {
         "anchor": "y16",
         "domain": [
          0.7875,
          1
         ],
         "title": {
          "text": "SMARCA4"
         }
        },
        "xaxis17": {
         "anchor": "y17",
         "domain": [
          0,
          0.2125
         ],
         "title": {
          "text": "GRIN2A"
         }
        },
        "xaxis18": {
         "anchor": "y18",
         "domain": [
          0.2625,
          0.475
         ],
         "title": {
          "text": "IDH2"
         }
        },
        "xaxis19": {
         "anchor": "y19",
         "domain": [
          0.525,
          0.7375
         ],
         "title": {
          "text": "FAT4"
         }
        },
        "xaxis2": {
         "anchor": "y2",
         "domain": [
          0.2625,
          0.475
         ],
         "title": {
          "text": "TP53"
         }
        },
        "xaxis20": {
         "anchor": "y20",
         "domain": [
          0.7875,
          1
         ],
         "title": {
          "text": "PDGFRA"
         }
        },
        "xaxis3": {
         "anchor": "y3",
         "domain": [
          0.525,
          0.7375
         ],
         "title": {
          "text": "ATRX"
         }
        },
        "xaxis4": {
         "anchor": "y4",
         "domain": [
          0.7875,
          1
         ],
         "title": {
          "text": "PTEN"
         }
        },
        "xaxis5": {
         "anchor": "y5",
         "domain": [
          0,
          0.2125
         ],
         "title": {
          "text": "EGFR"
         }
        },
        "xaxis6": {
         "anchor": "y6",
         "domain": [
          0.2625,
          0.475
         ],
         "title": {
          "text": "CIC"
         }
        },
        "xaxis7": {
         "anchor": "y7",
         "domain": [
          0.525,
          0.7375
         ],
         "title": {
          "text": "MUC16"
         }
        },
        "xaxis8": {
         "anchor": "y8",
         "domain": [
          0.7875,
          1
         ],
         "title": {
          "text": "PIK3CA"
         }
        },
        "xaxis9": {
         "anchor": "y9",
         "domain": [
          0,
          0.2125
         ],
         "title": {
          "text": "NF1"
         }
        },
        "yaxis": {
         "anchor": "x",
         "domain": [
          0.848,
          1
         ]
        },
        "yaxis10": {
         "anchor": "x10",
         "domain": [
          0.424,
          0.576
         ]
        },
        "yaxis11": {
         "anchor": "x11",
         "domain": [
          0.424,
          0.576
         ]
        },
        "yaxis12": {
         "anchor": "x12",
         "domain": [
          0.424,
          0.576
         ]
        },
        "yaxis13": {
         "anchor": "x13",
         "domain": [
          0.212,
          0.364
         ]
        },
        "yaxis14": {
         "anchor": "x14",
         "domain": [
          0.212,
          0.364
         ]
        },
        "yaxis15": {
         "anchor": "x15",
         "domain": [
          0.212,
          0.364
         ]
        },
        "yaxis16": {
         "anchor": "x16",
         "domain": [
          0.212,
          0.364
         ]
        },
        "yaxis17": {
         "anchor": "x17",
         "domain": [
          0,
          0.152
         ]
        },
        "yaxis18": {
         "anchor": "x18",
         "domain": [
          0,
          0.152
         ]
        },
        "yaxis19": {
         "anchor": "x19",
         "domain": [
          0,
          0.152
         ]
        },
        "yaxis2": {
         "anchor": "x2",
         "domain": [
          0.848,
          1
         ]
        },
        "yaxis20": {
         "anchor": "x20",
         "domain": [
          0,
          0.152
         ]
        },
        "yaxis3": {
         "anchor": "x3",
         "domain": [
          0.848,
          1
         ]
        },
        "yaxis4": {
         "anchor": "x4",
         "domain": [
          0.848,
          1
         ]
        },
        "yaxis5": {
         "anchor": "x5",
         "domain": [
          0.6359999999999999,
          0.7879999999999999
         ]
        },
        "yaxis6": {
         "anchor": "x6",
         "domain": [
          0.6359999999999999,
          0.7879999999999999
         ]
        },
        "yaxis7": {
         "anchor": "x7",
         "domain": [
          0.6359999999999999,
          0.7879999999999999
         ]
        },
        "yaxis8": {
         "anchor": "x8",
         "domain": [
          0.6359999999999999,
          0.7879999999999999
         ]
        },
        "yaxis9": {
         "anchor": "x9",
         "domain": [
          0.424,
          0.576
         ]
        }
       }
      }
     },
     "metadata": {},
     "output_type": "display_data"
    }
   ],
   "source": [
    "#mutation distribution for each gene\n",
    "fig = make_subplots(rows=5, cols=4)\n",
    "\n",
    "# Loop through columns 3 to 22 (indexing from 0 to 19)\n",
    "column_names = []  # List to store column names for legend\n",
    "\n",
    "for i, column in enumerate(df.iloc[:, 3:23].columns, start=1):\n",
    "    row_num = (i - 1) // 4 + 1  # Calculate row number\n",
    "    col_num = (i - 1) % 4 + 1   # Calculate column number\n",
    "\n",
    "    value_counts = df[column].value_counts()\n",
    "\n",
    "    # Map the index to the desired labels\n",
    "    x_labels = value_counts.index.map({0: 'Non-mutated', 1: 'Mutated'})\n",
    "\n",
    "    fig.add_trace(\n",
    "        go.Bar(x=x_labels, y=value_counts.values),\n",
    "        row=row_num, col=col_num\n",
    "    )\n",
    "    \n",
    "    column_names.append(f'Column {column}')  # Store column names for legend\n",
    "\n",
    "    fig.update_xaxes(title_text=f'{column}', row=row_num, col=col_num)  \n",
    "\n",
    "# Update layout for all subplots\n",
    "fig.update_layout(title='Mutation Distribution for Each of the 20 Most Commonly Mutated Genes', width = 1000, height = 1200)\n",
    "fig.for_each_trace(lambda trace: trace.update(name=column_names.pop(0)))  # Update trace names using stored column names\n",
    "fig.show()"
   ]
  },
  {
   "cell_type": "markdown",
   "metadata": {},
   "source": [
    "### Correlation Matrices"
   ]
  },
  {
   "cell_type": "markdown",
   "metadata": {},
   "source": [
    "This section investigates correlation values for all genetic features, in an effort to understand how closely the dataset aligns with the latest glioma scientific literature. "
   ]
  },
  {
   "cell_type": "code",
   "execution_count": 68,
   "metadata": {},
   "outputs": [
    {
     "ename": "TypeError",
     "evalue": "'str' object is not callable",
     "output_type": "error",
     "traceback": [
      "\u001b[0;31m---------------------------------------------------------------------------\u001b[0m",
      "\u001b[0;31mTypeError\u001b[0m                                 Traceback (most recent call last)",
      "Input \u001b[0;32mIn [68]\u001b[0m, in \u001b[0;36m<cell line: 10>\u001b[0;34m()\u001b[0m\n\u001b[1;32m      8\u001b[0m \u001b[38;5;66;03m# Using the upper triangle matrix as mask \u001b[39;00m\n\u001b[1;32m      9\u001b[0m sns\u001b[38;5;241m.\u001b[39mheatmap(corr, annot\u001b[38;5;241m=\u001b[39m\u001b[38;5;28;01mTrue\u001b[39;00m, mask\u001b[38;5;241m=\u001b[39mmatrix, vmin\u001b[38;5;241m=\u001b[39m\u001b[38;5;241m-\u001b[39m\u001b[38;5;241m1\u001b[39m, vmax\u001b[38;5;241m=\u001b[39m\u001b[38;5;241m1\u001b[39m, linewidths\u001b[38;5;241m=\u001b[39m\u001b[38;5;241m.5\u001b[39m, cmap\u001b[38;5;241m=\u001b[39m\u001b[38;5;124m'\u001b[39m\u001b[38;5;124mBrBG\u001b[39m\u001b[38;5;124m'\u001b[39m)\n\u001b[0;32m---> 10\u001b[0m \u001b[43mplt\u001b[49m\u001b[38;5;241;43m.\u001b[39;49m\u001b[43mtitle\u001b[49m\u001b[43m(\u001b[49m\u001b[38;5;124;43m\"\u001b[39;49m\u001b[38;5;124;43mCorrelation values among 20 most commonly mutated genes\u001b[39;49m\u001b[38;5;124;43m\"\u001b[39;49m\u001b[43m)\u001b[49m\n",
      "\u001b[0;31mTypeError\u001b[0m: 'str' object is not callable"
     ]
    },
    {
     "data": {
      "image/png": "[encoded data removed]",
      "text/plain": [
       "<Figure size 1152x432 with 2 Axes>"
      ]
     },
     "metadata": {
      "needs_background": "light"
     },
     "output_type": "display_data"
    }
   ],
   "source": [
    "# Visualization of correlation between variables\n",
    "plt.figure(figsize=(16, 6))\n",
    "corr = df.iloc[:, 3 : 23].corr()\n",
    "\n",
    "# Getting the Upper Triangle of the co-relation matrix\n",
    "matrix = np.triu(corr)\n",
    "\n",
    "# Using the upper triangle matrix as mask \n",
    "sns.heatmap(corr, annot=True, mask=matrix, vmin=-1, vmax=1, linewidths=.5, cmap='BrBG')\n",
    "plt.title(\"Correlation values among 20 most commonly mutated genes\")"
   ]
  },
  {
   "cell_type": "markdown",
   "metadata": {},
   "source": [
    "todo: comment on mutually exclusivityv of idh1 and 2 and corr matrix"
   ]
  },
  {
   "cell_type": "code",
   "execution_count": 18,
   "metadata": {},
   "outputs": [
    {
     "data": {
      "text/plain": [
       "<AxesSubplot:>"
      ]
     },
     "execution_count": 18,
     "metadata": {},
     "output_type": "execute_result"
    },
    {
     "data": {
      "image/png": "[encoded data removed]",
      "text/plain": [
       "<Figure size 1152x432 with 2 Axes>"
      ]
     },
     "metadata": {
      "needs_background": "light"
     },
     "output_type": "display_data"
    }
   ],
   "source": [
    "# Plotting only genes that showed correlation among them, for better visualization\n",
    "correlated_genes = ['ATRX', 'IDH1', 'TP53', 'CIC', 'FUBP1']\n",
    "plt.figure(figsize=(16, 6))\n",
    "corr2 = df[correlated_genes].corr()\n",
    "\n",
    "# Getting the Upper Triangle of the co-relation matrix\n",
    "matrix2 = np.triu(corr2)\n",
    "\n",
    "\n",
    "sns.heatmap(corr2, annot=True, mask=matrix2, vmin=-1, vmax=1, linewidths=.5, cmap='BrBG')"
   ]
  },
  {
   "cell_type": "code",
   "execution_count": 19,
   "metadata": {},
   "outputs": [
    {
     "data": {
      "text/plain": [
       "<AxesSubplot:>"
      ]
     },
     "execution_count": 19,
     "metadata": {},
     "output_type": "execute_result"
    },
    {
     "data": {
      "image/png": "[encoded data removed]",
      "text/plain": [
       "<Figure size 1152x432 with 2 Axes>"
      ]
     },
     "metadata": {
      "needs_background": "light"
     },
     "output_type": "display_data"
    }
   ],
   "source": [
    "# Plotting selected genes correlation with glioma grade \n",
    "plt.figure(figsize=(16, 6))\n",
    "corr_genesglioma = correlated_genes = ['ATRX', 'IDH1', 'TP53', 'CIC', 'FUBP1' , 'Grade']\n",
    "corr3 = df[corr_genesglioma].corr()\n",
    "\n",
    "# Getting the Upper Triangle of the co-relation matrix\n",
    "matrix3 = np.triu(corr3)\n",
    "\n",
    "\n",
    "sns.heatmap(corr3, annot=True, mask=matrix3, vmin=-1, vmax=1, linewidths=.5, cmap='BrBG')\n",
    "\n",
    "#stronger correlation means that if the genes are mutated, the grade is more likely to be GBM. This is because we assigned 1 to mutation and 1 to GBM."
   ]
  },
  {
   "cell_type": "code",
   "execution_count": 20,
   "metadata": {},
   "outputs": [
    {
     "data": {
      "text/plain": [
       "array([[-0.16343589,  0.66250877],\n",
       "       [-0.20577044,  0.39444523],\n",
       "       [-0.46302074, -0.29171713],\n",
       "       ...,\n",
       "       [ 0.19199489, -0.26365784],\n",
       "       [ 0.3245496 , -0.13505724],\n",
       "       [ 0.12023918, -0.01492263]])"
      ]
     },
     "execution_count": 20,
     "metadata": {},
     "output_type": "execute_result"
    }
   ],
   "source": [
    "# MCA analysis on genes\n",
    "genes = df.iloc[:, 3:-5]\n",
    "mca = prince.MCA(one_hot=False)\n",
    "mca = prince.MCA(n_components=2).fit(genes)\n",
    "#mca.plot(genes)\n",
    "x_mca = mca.transform(genes)\n",
    "x_mca = x_mca.to_numpy()\n",
    "x_mca"
   ]
  },
  {
   "cell_type": "code",
   "execution_count": 37,
   "metadata": {},
   "outputs": [
    {
     "data": {
      "application/vnd.plotly.v1+json": {
       "config": {
        "plotlyServerURL": "https://plot.ly"
       },
       "data": [
        {
         "marker": {
          "color": [
           0,
           0,
           0,
           0,
           0,
           0,
           0,
           0,
           0,
           0,
           0,
           0,
           0,
           0,
           0,
           0,
           0,
           0,
           0,
           0,
           0,
           0,
           0,
           0,
           0,
           0,
           0,
           0,
           0,
           0,
           0,
           0,
           0,
           0,
           0,
           0,
           0,
           0,
           0,
           0,
           0,
           0,
           0,
           0,
           0,
           0,
           0,
           0,
           0,
           0,
           0,
           0,
           0,
           0,
           0,
           0,
           0,
           0,
           0,
           0,
           0,
           0,
           0,
           0,
           0,
           0,
           0,
           0,
           0,
           0,
           0,
           0,
           0,
           0,
           0,
           0,
           0,
           0,
           0,
           0,
           0,
           0,
           0,
           0,
           0,
           0,
           0,
           0,
           0,
           0,
           0,
           0,
           0,
           0,
           0,
           0,
           0,
           0,
           0,
           0,
           0,
           0,
           0,
           0,
           0,
           0,
           0,
           0,
           0,
           0,
           0,
           0,
           0,
           0,
           0,
           0,
           0,
           0,
           0,
           0,
           0,
           0,
           0,
           0,
           0,
           0,
           0,
           0,
           0,
           0,
           0,
           0,
           0,
           0,
           0,
           0,
           0,
           0,
           0,
           0,
           0,
           0,
           0,
           0,
           0,
           0,
           0,
           0,
           0,
           0,
           0,
           0,
           0,
           0,
           0,
           0,
           0,
           0,
           0,
           0,
           0,
           0,
           0,
           0,
           0,
           0,
           0,
           0,
           0,
           0,
           0,
           0,
           0,
           0,
           0,
           0,
           0,
           0,
           0,
           0,
           0,
           0,
           0,
           0,
           0,
           0,
           0,
           0,
           0,
           0,
           0,
           0,
           0,
           0,
           0,
           0,
           0,
           0,
           0,
           0,
           0,
           0,
           0,
           0,
           0,
           0,
           0,
           0,
           0,
           0,
           0,
           0,
           0,
           0,
           0,
           0,
           0,
           0,
           0,
           0,
           0,
           0,
           0,
           0,
           0,
           0,
           0,
           0,
           0,
           0,
           0,
           0,
           0,
           0,
           0,
           0,
           0,
           0,
           0,
           0,
           0,
           0,
           0,
           0,
           0,
           0,
           0,
           0,
           0,
           0,
           0,
           0,
           0,
           0,
           0,
           0,
           0,
           0,
           0,
           0,
           0,
           0,
           0,
           0,
           0,
           0,
           0,
           0,
           0,
           0,
           0,
           0,
           0,
           0,
           0,
           0,
           0,
           0,
           0,
           0,
           0,
           0,
           0,
           0,
           0,
           0,
           0,
           0,
           0,
           0,
           0,
           0,
           0,
           0,
           0,
           0,
           0,
           0,
           0,
           0,
           0,
           0,
           0,
           0,
           0,
           0,
           0,
           0,
           0,
           0,
           0,
           0,
           0,
           0,
           0,
           0,
           0,
           0,
           0,
           0,
           0,
           0,
           0,
           0,
           0,
           0,
           0,
           0,
           0,
           0,
           0,
           0,
           0,
           0,
           0,
           0,
           0,
           0,
           0,
           0,
           0,
           0,
           0,
           0,
           0,
           0,
           0,
           0,
           0,
           0,
           0,
           0,
           0,
           0,
           0,
           0,
           0,
           0,
           0,
           0,
           0,
           0,
           0,
           0,
           0,
           0,
           0,
           0,
           0,
           0,
           0,
           0,
           0,
           0,
           0,
           0,
           0,
           0,
           0,
           0,
           0,
           0,
           0,
           0,
           0,
           0,
           0,
           0,
           0,
           0,
           0,
           0,
           0,
           0,
           0,
           0,
           0,
           0,
           0,
           0,
           0,
           0,
           0,
           0,
           0,
           0,
           0,
           0,
           0,
           0,
           0,
           0,
           0,
           0,
           0,
           0,
           0,
           0,
           0,
           0,
           0,
           0,
           0,
           0,
           0,
           0,
           0,
           0,
           0,
           0,
           0,
           0,
           0,
           0,
           0,
           0,
           0,
           0,
           0,
           0,
           0,
           0,
           0,
           0,
           0,
           0,
           0,
           0,
           0,
           0,
           0,
           0,
           0,
           0,
           0,
           0,
           0,
           0,
           0,
           0,
           0,
           0,
           0,
           0,
           0,
           0,
           0,
           0,
           0,
           0,
           0,
           0,
           0,
           0,
           0,
           0,
           0,
           0,
           0,
           0,
           0,
           0,
           0,
           0,
           0,
           0,
           0,
           0,
           1,
           1,
           1,
           1,
           1,
           1,
           1,
           1,
           1,
           1,
           1,
           1,
           1,
           1,
           1,
           1,
           1,
           1,
           1,
           1,
           1,
           1,
           1,
           1,
           1,
           1,
           1,
           1,
           1,
           1,
           1,
           1,
           1,
           1,
           1,
           1,
           1,
           1,
           1,
           1,
           1,
           1,
           1,
           1,
           1,
           1,
           1,
           1,
           1,
           1,
           1,
           1,
           1,
           1,
           1,
           1,
           1,
           1,
           1,
           1,
           1,
           1,
           1,
           1,
           1,
           1,
           1,
           1,
           1,
           1,
           1,
           1,
           1,
           1,
           1,
           1,
           1,
           1,
           1,
           1,
           1,
           1,
           1,
           1,
           1,
           1,
           1,
           1,
           1,
           1,
           1,
           1,
           1,
           1,
           1,
           1,
           1,
           1,
           1,
           1,
           1,
           1,
           1,
           1,
           1,
           1,
           1,
           1,
           1,
           1,
           1,
           1,
           1,
           1,
           1,
           1,
           1,
           1,
           1,
           1,
           1,
           1,
           1,
           1,
           1,
           1,
           1,
           1,
           1,
           1,
           1,
           1,
           1,
           1,
           1,
           1,
           1,
           1,
           1,
           1,
           1,
           1,
           1,
           1,
           1,
           1,
           1,
           1,
           1,
           1,
           1,
           1,
           1,
           1,
           1,
           1,
           1,
           1,
           1,
           1,
           1,
           1,
           1,
           1,
           1,
           1,
           1,
           1,
           1,
           1,
           1,
           1,
           1,
           1,
           1,
           1,
           1,
           1,
           1,
           1,
           1,
           1,
           1,
           1,
           1,
           1,
           1,
           1,
           1,
           1,
           1,
           1,
           1,
           1,
           1,
           1,
           1,
           1,
           1,
           1,
           1,
           1,
           1,
           1,
           1,
           1,
           1,
           1,
           1,
           1,
           1,
           1,
           1,
           1,
           1,
           1,
           1,
           1,
           1,
           1,
           1,
           1,
           1,
           1,
           1,
           1,
           1,
           1,
           1,
           1,
           1,
           1,
           1,
           1,
           1,
           1,
           1,
           1,
           1,
           1,
           1,
           1,
           1,
           1,
           1,
           1,
           1,
           1,
           1,
           1,
           1,
           1,
           1,
           1,
           1,
           1,
           1,
           1,
           1,
           1,
           1,
           1,
           1,
           1,
           1,
           1,
           1,
           1,
           1,
           1,
           1,
           1,
           1,
           1,
           1,
           1,
           1,
           1,
           1,
           1,
           1,
           1,
           1,
           1,
           1,
           1,
           1,
           1,
           1,
           1,
           1,
           1,
           1,
           1,
           1,
           1,
           1,
           1,
           1,
           1,
           1,
           1,
           1,
           1,
           1,
           1,
           1,
           1,
           1,
           1,
           1,
           1,
           1,
           1,
           1,
           1,
           1,
           1,
           1,
           1,
           1,
           1,
           1,
           1,
           1,
           1,
           1,
           1,
           1,
           1,
           1,
           1,
           1,
           1,
           1,
           1,
           1,
           1,
           1,
           1,
           1,
           1,
           1,
           1,
           1,
           1,
           1,
           1,
           1,
           1,
           1,
           1
          ],
          "colorscale": [
           [
            0,
            "rgb(12,51,131)"
           ],
           [
            0.25,
            "rgb(10,136,186)"
           ],
           [
            0.5,
            "rgb(242,211,56)"
           ],
           [
            0.75,
            "rgb(242,143,56)"
           ],
           [
            1,
            "rgb(217,30,30)"
           ]
          ],
          "size": 10
         },
         "mode": "markers",
         "type": "scatter",
         "x": [
          -0.16343588953042162,
          -0.20577044029978636,
          -0.46302074386409187,
          -0.17859723913718947,
          -0.46302074386409187,
          -0.32417014729010396,
          -0.2655533540166506,
          -0.46302074386409187,
          -0.46302074386409187,
          0.12023917734674339,
          0.12023917734674339,
          -0.213898659910106,
          0.6237580952297188,
          -0.46302074386409187,
          0.2434265684239126,
          -0.32417014729010396,
          -0.1267027574426627,
          -0.0815197609088993,
          -0.46302074386409187,
          -0.46302074386409187,
          -0.2655533540166506,
          -0.46302074386409187,
          -0.46302074386409187,
          0.02657157730651902,
          0.19139521689165517,
          0.25084975596344283,
          -0.20577044029978636,
          -0.1267027574426627,
          -0.2579641438467301,
          -0.04806930607479929,
          0.3308454862814507,
          -0.2655533540166506,
          0.16542217388050684,
          -0.24250357238754522,
          -0.20577044029978636,
          -0.20577044029978636,
          -0.2876865689213086,
          -0.2511700131316576,
          -0.400780698782256,
          0.12023917734674339,
          -0.32417014729010396,
          -0.20577044029978636,
          0.12659907657255579,
          0.6210975613663943,
          0.00483586863492091,
          -0.2876865689213086,
          -0.5874879995530867,
          -0.1267027574426627,
          0.2513024844304905,
          -0.2655533540166506,
          -0.17061610245866357,
          0.050018865168684326,
          -0.18297143309970004,
          0.12023917734674339,
          -0.34345616764941767,
          -0.32417014729010396,
          -0.33023769598878117,
          -0.6096212144577448,
          -0.018611419227244422,
          0.12023917734674339,
          -0.3352558264133778,
          0.17536849221607348,
          -0.24975327868210126,
          -0.38268340948920565,
          -0.12318851938283569,
          0.5555763934054222,
          -0.20577044029978636,
          -0.38043882294714126,
          0.8003853790056011,
          0.16175341441367855,
          -0.1605874437660229,
          -0.46302074386409187,
          -0.18297143309970004,
          -0.18297143309970004,
          -0.2843889071595894,
          -0.2655533540166506,
          -0.38043882294714126,
          -0.13486780975161058,
          0.08499885218253019,
          -0.33023769598878117,
          -0.21653052937639689,
          -0.05113252487923731,
          0.3449700844707151,
          -0.20577044029978636,
          -0.2655533540166506,
          0.12023917734674339,
          0.1436156454559837,
          0.02657157730651902,
          -0.1267027574426627,
          -0.1267027574426627,
          -0.46302074386409187,
          -0.2655533540166506,
          -0.46302074386409187,
          -0.09154841960153995,
          -0.38043882294714126,
          -0.46302074386409187,
          -0.13562968069509784,
          -0.20577044029978636,
          -0.46302074386409187,
          -0.38043882294714126,
          -0.1267027574426627,
          -0.3918647043191801,
          -0.4178377473303284,
          -0.2160788090746859,
          -0.1267027574426627,
          0.1717820731063192,
          -0.3918647043191801,
          -0.38043882294714126,
          -0.0932256669281882,
          -0.4278664060229691,
          0.20566675942967932,
          0.3449700844707151,
          -0.2655533540166506,
          -0.16953223186955493,
          -0.2876865689213086,
          -0.46302074386409187,
          0.5555763934054222,
          0.46054391968543057,
          -0.2876865689213086,
          -0.09970303752504003,
          -0.1605874437660229,
          -0.1267027574426627,
          0.20566675942967932,
          0.3449700844707151,
          -0.46302074386409187,
          -0.04354337561655818,
          0.20566675942967932,
          -0.46302074386409187,
          -0.46302074386409187,
          -0.2655533540166506,
          0.12023917734674339,
          -0.21653052937639689,
          -0.46302074386409187,
          -0.20577044029978636,
          -0.46302074386409187,
          -0.32417014729010396,
          -0.4265371654952965,
          -0.2511700131316576,
          -0.2876865689213086,
          -0.18297143309970004,
          -0.46302074386409187,
          -0.20577044029978636,
          -0.38043882294714126,
          -0.3245575853353565,
          -0.05228588883466001,
          -0.46302074386409187,
          -0.46302074386409187,
          0.20566675942967932,
          -0.46302074386409187,
          0.019148389766988825,
          -0.33023769598878117,
          0.1436156454559837,
          -0.46302074386409187,
          -0.46302074386409187,
          0.3356352785773886,
          -0.2655533540166506,
          -0.46302074386409187,
          0.5603661857013603,
          -0.4484220779000454,
          0.3449700844707151,
          -0.24158822637315347,
          -0.5874879995530867,
          -0.2655533540166506,
          -0.20577044029978636,
          -0.1267027574426627,
          -0.018611419227244422,
          0.4275520053876657,
          -0.0815197609088993,
          -0.21674710567450475,
          -0.2655533540166506,
          0.035524307240565434,
          -0.46302074386409187,
          0.3176205798710944,
          -0.2655533540166506,
          0.19139521689165517,
          -0.46302074386409187,
          -0.2655533540166506,
          -0.20577044029978636,
          -0.20577044029978636,
          0.35745901368424304,
          -0.46302074386409187,
          0.0886933437879825,
          0.5555763934054222,
          -0.46302074386409187,
          -0.46302074386409187,
          -0.04639182138095691,
          -0.20577044029978636,
          -0.38043882294714126,
          -0.46302074386409187,
          -0.1267027574426627,
          -0.46302074386409187,
          -0.46302074386409187,
          -0.12318851938283569,
          -0.5214222120584918,
          0.49307255096467884,
          -0.12709019548791525,
          -0.20577044029978636,
          -0.1267027574426627,
          -0.20577044029978636,
          0.12659907657255579,
          -0.055546717897750925,
          0.28656861627631514,
          -0.46302074386409187,
          -0.38043882294714126,
          -0.1267027574426627,
          -0.46302074386409187,
          -0.46302074386409187,
          -0.1133485132763433,
          0.2824662420299716,
          -0.3245575853353565,
          -0.2655533540166506,
          -0.1267027574426627,
          -0.2655533540166506,
          -0.46302074386409187,
          -0.46302074386409187,
          -0.20577044029978636,
          -0.1851042256370626,
          -0.38043882294714126,
          0.3449700844707151,
          -0.46302074386409187,
          -0.21601567529053486,
          -0.46302074386409187,
          -0.20577044029978636,
          -0.46302074386409187,
          -0.19462298322444455,
          -0.5214222120584918,
          -0.1267027574426627,
          -0.4032378301472276,
          -0.26417190849418626,
          -0.2655533540166506,
          0.15539351518786618,
          -0.13461440075487457,
          -0.46302074386409187,
          -0.46302074386409187,
          0.12023917734674339,
          -0.1267027574426627,
          -0.46302074386409187,
          -0.5214222120584918,
          -0.46302074386409187,
          -0.2655533540166506,
          -0.46302074386409187,
          -0.20577044029978636,
          0.7084686521953241,
          0.3449700844707151,
          0.10775596097908015,
          0.14750269462327353,
          -0.46302074386409187,
          -0.46302074386409187,
          -0.2511700131316576,
          -0.10290974276536455,
          -0.4278664060229691,
          0.5555763934054222,
          -0.38043882294714126,
          -0.46302074386409187,
          0.5756544718816294,
          -0.2655533540166506,
          0.3449700844707151,
          -0.33023769598878117,
          0.3449700844707151,
          -0.15924297663061607,
          -0.46302074386409187,
          -0.46302074386409187,
          -0.46302074386409187,
          -0.0815197609088993,
          -0.13065122699174997,
          -0.1267027574426627,
          0.12023917734674339,
          -0.38043882294714126,
          -0.46302074386409187,
          -0.12709019548791525,
          -0.46302074386409187,
          0.49307255096467884,
          0.00003431727329006578,
          -0.46302074386409187,
          -0.2655533540166506,
          -0.46302074386409187,
          -0.4278664060229691,
          -0.20577044029978636,
          -0.24197566441840596,
          -0.46302074386409187,
          -0.46302074386409187,
          -0.32417014729010396,
          -0.46302074386409187,
          -0.46302074386409187,
          -0.46302074386409187,
          -0.32417014729010396,
          -0.5214222120584918,
          0.2513024844304905,
          -0.46302074386409187,
          -0.46302074386409187,
          -0.5214222120584918,
          -0.46302074386409187,
          -0.20577044029978636,
          -0.5214222120584918,
          -0.46302074386409187,
          0.12023917734674339,
          -0.04412083652571208,
          0.20566675942967932,
          -0.1267027574426627,
          -0.1267027574426627,
          -0.2655533540166506,
          -0.46302074386409187,
          -0.2160788090746859,
          0.3449700844707151,
          -0.0346088736547348,
          -0.21653052937639689,
          -0.46302074386409187,
          -0.2876865689213086,
          0.3308454862814507,
          -0.2876865689213086,
          -0.46302074386409187,
          -0.055546717897750925,
          0.27487709276729244,
          -0.2655533540166506,
          0.2824662420299716,
          -0.2511700131316576,
          -0.46302074386409187,
          -0.32417014729010396,
          -0.1267027574426627,
          -0.13461440075487457,
          0.3449700844707151,
          -0.33023769598878117,
          -0.38043882294714126,
          0.5462415875120961,
          -0.20861888606418505,
          -0.2655533540166506,
          -0.1267027574426627,
          -0.46302074386409187,
          -0.20577044029978636,
          0.37602848281521417,
          -0.4178377473303284,
          -0.10332628933342251,
          -0.1267027574426627,
          -0.2655533540166506,
          -0.17061610245866357,
          -0.46302074386409187,
          -0.46302074386409187,
          -0.2655533540166506,
          -0.2876865689213086,
          -0.46302074386409187,
          -0.36697082807654,
          -0.2876865689213086,
          -0.2876865689213086,
          0.3449700844707151,
          -0.05228588883466001,
          0.08499885218253019,
          -0.0815197609088993,
          -0.16343588953042162,
          -0.12318851938283569,
          -0.46302074386409187,
          -0.20577044029978636,
          -0.20577044029978636,
          0.3308454862814507,
          -0.2876865689213086,
          -0.33308614175317985,
          0.12023917734674339,
          -0.46302074386409187,
          1.0706793914039028,
          -0.18549166368231515,
          -0.46302074386409187,
          -0.32395482221105054,
          -0.20577044029978636,
          -0.46302074386409187,
          -0.20577044029978636,
          -0.2511700131316576,
          0.12023917734674339,
          -0.2655533540166506,
          -0.12543310592490012,
          -0.2655533540166506,
          -0.5277050858362224,
          -0.055546717897750925,
          -0.5158500833431687,
          -0.2320762635021761,
          -0.46302074386409187,
          -0.1851042256370626,
          -0.20577044029978636,
          -0.2876865689213086,
          -0.46302074386409187,
          -0.46302074386409187,
          0.20566675942967932,
          0.2824662420299716,
          -0.3439552445783459,
          -0.20577044029978636,
          0.5071971491539432,
          0.2824662420299716,
          -0.05203247983792389,
          -0.46302074386409187,
          -0.46302074386409187,
          -0.2876865689213086,
          -0.05494704508194339,
          -0.46302074386409187,
          -0.2850546994550177,
          -0.32395482221105054,
          -0.46302074386409187,
          -0.4121538246103035,
          -0.06144089365413685,
          -0.2655533540166506,
          0.20566675942967932,
          -0.2876865689213086,
          -0.46302074386409187,
          0.12659907657255579,
          -0.07793334179914502,
          -0.46302074386409187,
          -0.2655533540166506,
          -0.46302074386409187,
          -0.33023769598878117,
          -0.3095714813260575,
          -0.20577044029978636,
          0.39015308100447854,
          -0.46302074386409187,
          -0.1267027574426627,
          -0.1267027574426627,
          -0.18570698876136865,
          -0.46302074386409187,
          0.2816743047438076,
          -0.46302074386409187,
          -0.2876865689213086,
          0.19139521689165517,
          -0.46302074386409187,
          -0.32417014729010396,
          -0.5874879995530867,
          0.5555763934054222,
          0.3449700844707151,
          -0.46302074386409187,
          -0.46302074386409187,
          -0.2876865689213086,
          0.20566675942967932,
          -0.46302074386409187,
          -0.1267027574426627,
          0.025174040062129487,
          -0.2876865689213086,
          -0.5874879995530867,
          -0.1267027574426627,
          -0.46302074386409187,
          -0.2655533540166506,
          -0.12545950423808053,
          -0.20577044029978636,
          -0.38043882294714126,
          -0.1605874437660229,
          -0.30079367918086375,
          -0.46302074386409187,
          -0.5214222120584918,
          0.1717820731063192,
          -0.05385174439145772,
          -0.21726009708826208,
          -0.20577044029978636,
          -0.2655533540166506,
          -0.2655533540166506,
          0.12659907657255579,
          -0.20577044029978636,
          0.49307255096467884,
          -0.018611419227244422,
          0.5555763934054222,
          -0.0815197609088993,
          0.12023917734674339,
          -0.46302074386409187,
          -0.5214222120584918,
          -0.46302074386409187,
          -0.24992675992707544,
          -0.20577044029978636,
          -0.46302074386409187,
          -0.2655533540166506,
          -0.46302074386409187,
          -0.2203703574828872,
          0.12023917734674339,
          -0.24250357238754522,
          -0.46302074386409187,
          -0.46302074386409187,
          -0.1605874437660229,
          -0.46302074386409187,
          -0.2655533540166506,
          -0.2655533540166506,
          -0.46302074386409187,
          -0.17061610245866357,
          -0.04412083652571208,
          -0.46302074386409187,
          -0.46302074386409187,
          -0.33023769598878117,
          -0.46302074386409187,
          -0.2655533540166506,
          -0.46302074386409187,
          -0.1267027574426627,
          -0.26417190849418626,
          -0.46302074386409187,
          -0.2655533540166506,
          -0.2655533540166506,
          0.5555763934054222,
          -0.46302074386409187,
          0.12023917734674339,
          0.19139521689165517,
          0.4020015258263625,
          0.33045804823619807,
          0.12023917734674339,
          0.9094356531648028,
          0.12023917734674339,
          0.45188013467255717,
          0.12023917734674339,
          0.3356352785773886,
          0.202821098263694,
          0.6381583143223729,
          0.47854703048301983,
          0.5555763934054222,
          0.12023917734674339,
          0.786520873767338,
          0.35745901368424304,
          0.3308454862814507,
          0.12023917734674339,
          0.2509247216117834,
          0.6584964857495814,
          -0.006072172955786156,
          0.39015308100447854,
          0.3308454862814507,
          0.24196767853716422,
          -0.4278664060229691,
          0.3308454862814507,
          -0.018611419227244422,
          0.4845834467433131,
          0.3650481629469222,
          0.47854703048301983,
          0.12023917734674339,
          0.5555763934054222,
          0.6111981604501644,
          0.12023917734674339,
          -0.018611419227244422,
          0.3356352785773886,
          0.6383354713000238,
          0.16542217388050684,
          0.1967846820034008,
          -0.46302074386409187,
          0.12023917734674339,
          0.2631509292523746,
          0.4134274071984013,
          0.8065989522435453,
          0.6381583143223729,
          0.49870804493257753,
          0.3449700844707151,
          0.12375341540657042,
          0.3308454862814507,
          0.3308454862814507,
          0.32764923856373507,
          0.06397050168970618,
          0.2739771378086059,
          0.7913106660632762,
          0.3449700844707151,
          0.202821098263694,
          0.4161261240156269,
          0.1444196300692941,
          0.202821098263694,
          0.12023917734674339,
          0.7178034580886504,
          0.2509247216117834,
          0.1436156454559837,
          0.3449700844707151,
          0.12023917734674339,
          0.12023917734674339,
          -0.018611419227244422,
          0.49960799989126414,
          -0.018611419227244422,
          0.1919948897074627,
          0.3308454862814507,
          -0.2160788090746859,
          0.41315178629501165,
          0.12023917734674339,
          -0.018611419227244422,
          0.3308454862814507,
          0.1436156454559837,
          0.10915349822346959,
          0.31089956230487314,
          0.5555763934054222,
          0.6584964857495814,
          0.202821098263694,
          0.12023917734674339,
          0.12023917734674339,
          0.1967846820034008,
          0.3963666542424227,
          0.1919948897074627,
          0.49307255096467884,
          -0.4178377473303284,
          0.4215155891273723,
          0.3449700844707151,
          0.202821098263694,
          -0.2655533540166506,
          0.12023917734674339,
          0.3511836577086592,
          0.4134274071984013,
          0.3308454862814507,
          0.48343324299945045,
          0.35422195439069093,
          0.3449700844707151,
          0.3308454862814507,
          0.4134274071984013,
          0.35422195439069093,
          -0.2160788090746859,
          0.34458264642546244,
          0.12023917734674339,
          0.3707896164185114,
          0.3449700844707151,
          0.49307255096467884,
          0.12023917734674339,
          0.4215155891273723,
          0.25870233587547875,
          -0.1671337971952087,
          0.7240170313265947,
          0.25870233587547875,
          0.3308454862814507,
          0.2745768106244134,
          0.39015308100447854,
          0.09988621607040467,
          0.4425453287792307,
          0.12023917734674339,
          1.141123959786038,
          0.1967846820034008,
          0.27727552744163886,
          -0.018611419227244422,
          0.4525739874718715,
          0.1919948897074627,
          -0.006072172955786156,
          0.12023917734674339,
          0.20718253573821638,
          0.1919948897074627,
          0.4215155891273723,
          0.3449700844707151,
          0.16542217388050684,
          0.2271492275485855,
          0.3308454862814507,
          0.2824662420299716,
          0.29250552200761726,
          0.12023917734674339,
          0.19139521689165517,
          0.3449700844707151,
          0.1919948897074627,
          0.4215155891273723,
          -0.4178377473303284,
          0.16542217388050684,
          0.21860841711025525,
          0.5380765352031479,
          0.3308454862814507,
          -0.46302074386409187,
          0.253762754951378,
          0.48997291185505865,
          0.5462415875120961,
          -0.018611419227244422,
          0.12023917734674339,
          0.29610771814554687,
          0.47987383802184413,
          -0.018611419227244422,
          0.19139521689165517,
          0.71470381897903,
          0.2123330611346714,
          -0.5420884267212155,
          0.5555763934054222,
          -0.2382898367401205,
          0.5642285905095906,
          0.3449700844707151,
          0.19139521689165517,
          0.6584964857495814,
          0.3817871429691345,
          0.12023917734674339,
          0.41118282065633693,
          0.5134107223918873,
          0.5555763934054222,
          0.3308454862814507,
          0.12023917734674339,
          -0.018611419227244422,
          0.5555763934054222,
          0.3449700844707151,
          0.27487709276729244,
          0.3220807611566952,
          0.786520873767338,
          0.1919948897074627,
          0.16542217388050684,
          -0.46302074386409187,
          0.49307255096467884,
          0.12023917734674339,
          -0.2655533540166506,
          0.3308454862814507,
          0.5551889553601697,
          0.16542217388050684,
          0.12023917734674339,
          0.3308454862814507,
          0.3536222815748834,
          0.12023917734674339,
          0.202821098263694,
          0.12023917734674339,
          0.12023917734674339,
          0.1919948897074627,
          0.19139521689165517,
          0.5821899208082147,
          0.1919948897074627,
          0.1436156454559837,
          0.3308454862814507,
          0.3308454862814507,
          0.02657157730651902,
          0.3308454862814507,
          -0.13486780975161058,
          0.4020015258263625,
          0.19139521689165517,
          0.2745768106244134,
          0.12023917734674339,
          -0.46302074386409187,
          0.5551889553601697,
          0.5196860783674713,
          0.3308454862814507,
          0.3581090035579809,
          0.3449700844707151,
          0.2824662420299716,
          0.12023917734674339,
          0.3449700844707151,
          0.3308454862814507,
          0.3308454862814507,
          0.202821098263694,
          0.5071971491539432,
          0.12023917734674339,
          0.46190879336519786,
          0.4978623432606169,
          0.12023917734674339,
          0.34458264642546244,
          0.16542217388050684,
          0.2509247216117834,
          0.2824662420299716,
          -0.018611419227244422,
          0.3449700844707151,
          0.12023917734674339,
          0.5851664347526067,
          0.12023917734674339,
          -0.25241443492938487,
          0.202821098263694,
          0.1919948897074627,
          0.12023917734674339,
          -0.46302074386409187,
          0.1967846820034008,
          0.33388440534744124,
          0.12023917734674339,
          0.12023917734674339,
          0.2271492275485855,
          0.5555763934054222,
          -0.0320452159669345,
          -0.018611419227244422,
          0.3449700844707151,
          -0.46302074386409187,
          0.6470706043775426,
          0.3449700844707151,
          0.16542217388050684,
          0.4845834467433131,
          0.3449700844707151,
          0.6381583143223729,
          0.3308454862814507,
          0.27487709276729244,
          0.5899562270485448,
          0.27487709276729244,
          0.202821098263694,
          0.3449700844707151,
          0.20611948789672702,
          0.12023917734674339,
          0.4275520053876657,
          0.39015308100447854,
          0.4275520053876657,
          0.4406909244749315,
          0.16542217388050684,
          0.202821098263694,
          0.4020015258263625,
          -0.018611419227244422,
          0.12023917734674339,
          0.3308454862814507,
          0.5555763934054222,
          0.12023917734674339,
          -0.2160788090746859,
          1.3262829490788453,
          0.202821098263694,
          0.5076136957220012,
          0.12023917734674339,
          -0.3918647043191801,
          0.4161261240156269,
          0.2509247216117834,
          0.5518905657271367,
          0.3308454862814507,
          0.202821098263694,
          0.2824662420299716,
          -0.018611419227244422,
          0.2824662420299716,
          -0.2530141077451923,
          0.39015308100447854,
          0.20611948789672702,
          0.4275520053876657,
          0.40739099093810793,
          0.1919948897074627,
          -0.46302074386409187,
          0.12023917734674339,
          0.40739099093810793,
          0.15539351518786618,
          0.2824662420299716,
          -0.3083828284435428,
          0.202821098263694,
          -0.2655533540166506,
          0.1887986419897471,
          0.34877419766465445,
          0.3356352785773886,
          0.12023917734674339,
          0.16542217388050684,
          0.24800409479745752,
          -0.018611419227244422,
          0.3581090035579809,
          -0.46302074386409187,
          0.2824662420299716,
          0.49307255096467884,
          0.16542217388050684,
          0.27487709276729244,
          0.5555763934054222,
          0.5555763934054222,
          0.12023917734674339,
          0.16542217388050684,
          0.5555763934054222,
          0.2745768106244134,
          0.49307255096467884,
          0.12023917734674339,
          0.5468116682806669,
          0.1919948897074627,
          0.12023917734674339,
          0.5555763934054222,
          0.12023917734674339,
          0.12023917734674339,
          0.12023917734674339,
          0.27487709276729244,
          0.12023917734674339,
          0.1919948897074627,
          0.202821098263694,
          0.5555763934054222,
          0.5325496904831164,
          0.3308454862814507,
          -0.018611419227244422,
          0.49307255096467884,
          0.2824662420299716,
          -0.2655533540166506,
          0.3308454862814507,
          0.12023917734674339,
          0.3308454862814507,
          0.1919948897074627,
          0.1919948897074627,
          0.3245495994541149,
          0.12023917734674339
         ],
         "y": [
          0.6625087697589993,
          0.39444523225386846,
          -0.2917171278804768,
          -0.11969414295976216,
          -0.2917171278804768,
          -0.11980756672400684,
          -0.13997806289801856,
          -0.2917171278804768,
          -0.2917171278804768,
          -0.01492263228590782,
          -0.01492263228590782,
          0.9955745721720319,
          0.05373706813658177,
          -0.2917171278804768,
          0.5625218929797641,
          -0.11980756672400684,
          0.031931498258451416,
          0.177678722135434,
          -0.2917171278804768,
          -0.2917171278804768,
          -0.13997806289801856,
          -0.2917171278804768,
          -0.2917171278804768,
          -0.04108496956539522,
          0.0779037530148913,
          0.30712608874297165,
          0.39444523225386846,
          0.031931498258451416,
          -0.0037169806789922617,
          -0.18997121426747704,
          -0.091748281851265,
          -0.13997806289801856,
          0.1308245915910748,
          1.0250225037544163,
          0.39444523225386846,
          0.39444523225386846,
          0.8792752798774337,
          0.394487228998833,
          0.8002341007667274,
          -0.01492263228590782,
          -0.11980756672400684,
          0.39444523225386846,
          0.523892598861406,
          0.140948628025257,
          0.31761958268851126,
          0.8792752798774337,
          0.07083860285990476,
          0.031931498258451416,
          -0.08172738573872641,
          -0.13997806289801856,
          0.48278736859413174,
          0.4633668065654939,
          -0.16767951589255622,
          -0.01492263228590782,
          0.9427500545138008,
          -0.11980756672400684,
          0.75700096299425,
          1.0900919456353573,
          -0.18683219344237778,
          -0.01492263228590782,
          -0.1736713569980319,
          1.1156206990994244,
          -0.2125205282605614,
          -0.057627767663230973,
          0.36674377925933077,
          -0.13239069802459622,
          0.39444523225386846,
          -0.31941858087501457,
          -0.12150485364574035,
          0.6122347352016693,
          0.5401924561308512,
          -0.2917171278804768,
          -0.16767951589255622,
          -0.16767951589255622,
          1.3598767815002604,
          -0.13997806289801856,
          -0.31941858087501457,
          -0.03308001028356533,
          -0.12807439989497257,
          0.75700096299425,
          0.9721016651782328,
          0.44680643646084306,
          -0.05556504845923902,
          0.39444523225386846,
          -0.13997806289801856,
          -0.01492263228590782,
          -0.14824489606898422,
          -0.04108496956539522,
          0.031931498258451416,
          0.031931498258451416,
          -0.2917171278804768,
          -0.13997806289801856,
          -0.2917171278804768,
          0.12027363459871467,
          -0.31941858087501457,
          -0.2917171278804768,
          -0.1266598296257981,
          0.39444523225386846,
          -0.2917171278804768,
          -0.31941858087501457,
          0.031931498258451416,
          -0.19889074257967765,
          -0.14596990400349422,
          -0.33857125842483615,
          0.031931498258451416,
          0.6696398227383887,
          -0.19889074257967765,
          -0.31941858087501457,
          -0.06904111411649339,
          -0.20337499154021355,
          0.16137886486598899,
          -0.05556504845923902,
          -0.13997806289801856,
          -0.06744636251703229,
          0.8792752798774337,
          -0.2917171278804768,
          -0.13239069802459622,
          0.196346869202047,
          0.8792752798774337,
          1.010730959296591,
          0.5401924561308512,
          0.031931498258451416,
          0.16137886486598899,
          -0.05556504845923902,
          -0.2917171278804768,
          0.433032529627262,
          0.16137886486598899,
          -0.2917171278804768,
          -0.2917171278804768,
          -0.13997806289801856,
          -0.01492263228590782,
          0.9721016651782328,
          -0.2917171278804768,
          0.39444523225386846,
          -0.2917171278804768,
          -0.11980756672400684,
          0.7073657187209639,
          0.394487228998833,
          0.8792752798774337,
          -0.16767951589255622,
          -0.2917171278804768,
          0.39444523225386846,
          -0.31941858087501457,
          -0.28017206430777436,
          -0.06078146327810299,
          -0.2917171278804768,
          -0.2917171278804768,
          0.16137886486598899,
          -0.2917171278804768,
          0.21431083467139733,
          0.75700096299425,
          -0.14824489606898422,
          -0.2917171278804768,
          -0.2917171278804768,
          -0.08119344941824647,
          -0.13997806289801856,
          -0.2917171278804768,
          -0.12183586559157766,
          0.262579535484931,
          -0.05556504845923902,
          -0.14750901971854455,
          0.07083860285990476,
          -0.13997806289801856,
          0.39444523225386846,
          0.031931498258451416,
          -0.18683219344237778,
          -0.08326650145377672,
          0.177678722135434,
          1.11789088580018,
          -0.13997806289801856,
          0.07051879563184496,
          -0.2917171278804768,
          0.11200680142774898,
          -0.13997806289801856,
          0.0779037530148913,
          -0.2917171278804768,
          -0.13997806289801856,
          0.39444523225386846,
          0.39444523225386846,
          0.009737118926529044,
          -0.2917171278804768,
          -0.03433931887388722,
          -0.13239069802459622,
          -0.2917171278804768,
          -0.2917171278804768,
          0.5553488432554102,
          0.39444523225386846,
          -0.31941858087501457,
          -0.2917171278804768,
          0.031931498258451416,
          -0.2917171278804768,
          -0.2917171278804768,
          0.36674377925933077,
          -0.2517152602379088,
          -0.05316098447787144,
          -0.12843299932531607,
          0.39444523225386846,
          0.031931498258451416,
          0.39444523225386846,
          0.523892598861406,
          0.12475788355925056,
          -0.015563180816671022,
          -0.2917171278804768,
          -0.31941858087501457,
          0.031931498258451416,
          -0.2917171278804768,
          -0.2917171278804768,
          -0.1768018448208077,
          0.02366466508748573,
          -0.28017206430777436,
          -0.13997806289801856,
          0.031931498258451416,
          -0.13997806289801856,
          -0.2917171278804768,
          -0.2917171278804768,
          0.39444523225386846,
          0.07193336590101941,
          -0.31941858087501457,
          -0.05556504845923902,
          -0.2917171278804768,
          0.48282936533909626,
          -0.2917171278804768,
          0.39444523225386846,
          -0.2917171278804768,
          0.8908623401951009,
          -0.2517152602379088,
          0.031931498258451416,
          0.2427061672714102,
          0.4344470998964365,
          -0.13997806289801856,
          0.07341950405435543,
          0.4872716175546677,
          -0.2917171278804768,
          -0.2917171278804768,
          -0.01492263228590782,
          0.031931498258451416,
          -0.2917171278804768,
          -0.2517152602379088,
          -0.2917171278804768,
          -0.13997806289801856,
          -0.2917171278804768,
          0.39444523225386846,
          -0.11943180161021008,
          -0.05556504845923902,
          0.4175102318668442,
          -0.2073041134416973,
          -0.2917171278804768,
          -0.2917171278804768,
          0.394487228998833,
          -0.11613258467728572,
          -0.20337499154021355,
          -0.13239069802459622,
          -0.31941858087501457,
          -0.2917171278804768,
          -0.08086243747240913,
          -0.13997806289801856,
          -0.05556504845923902,
          0.75700096299425,
          -0.05556504845923902,
          0.04119045874304383,
          -0.2917171278804768,
          -0.2917171278804768,
          -0.2917171278804768,
          0.177678722135434,
          -0.16226976127293935,
          0.031931498258451416,
          -0.01492263228590782,
          -0.31941858087501457,
          -0.2917171278804768,
          -0.12843299932531607,
          -0.2917171278804768,
          -0.05316098447787144,
          -0.05537170865848612,
          -0.2917171278804768,
          -0.13997806289801856,
          -0.2917171278804768,
          -0.20337499154021355,
          0.39444523225386846,
          -0.3078735173023121,
          -0.2917171278804768,
          -0.2917171278804768,
          -0.11980756672400684,
          -0.2917171278804768,
          -0.2917171278804768,
          -0.2917171278804768,
          -0.11980756672400684,
          -0.2517152602379088,
          -0.08172738573872641,
          -0.2917171278804768,
          -0.2917171278804768,
          -0.2517152602379088,
          -0.2917171278804768,
          0.39444523225386846,
          -0.2517152602379088,
          -0.2917171278804768,
          -0.01492263228590782,
          0.004230045263913728,
          0.16137886486598899,
          0.031931498258451416,
          0.031931498258451416,
          -0.13997806289801856,
          -0.2917171278804768,
          -0.33857125842483615,
          -0.05556504845923902,
          -0.08921161029050509,
          0.9721016651782328,
          -0.2917171278804768,
          0.8792752798774337,
          -0.091748281851265,
          0.8792752798774337,
          -0.2917171278804768,
          0.12475788355925056,
          0.03743857192106674,
          -0.13997806289801856,
          0.02366466508748573,
          0.394487228998833,
          -0.2917171278804768,
          -0.11980756672400684,
          0.031931498258451416,
          0.4872716175546677,
          -0.05556504845923902,
          0.75700096299425,
          -0.31941858087501457,
          -0.15801909898360364,
          0.5167615458820167,
          -0.13997806289801856,
          0.031931498258451416,
          -0.2917171278804768,
          0.39444523225386846,
          0.053998942025717554,
          -0.14596990400349422,
          -0.10139076552462499,
          0.031931498258451416,
          -0.13997806289801856,
          0.48278736859413174,
          -0.2917171278804768,
          -0.2917171278804768,
          -0.13997806289801856,
          0.8792752798774337,
          -0.2917171278804768,
          1.3875782344947978,
          0.8792752798774337,
          0.8792752798774337,
          -0.05556504845923902,
          -0.06078146327810299,
          -0.12807439989497257,
          0.177678722135434,
          0.6625087697589993,
          0.36674377925933077,
          -0.2917171278804768,
          0.39444523225386846,
          0.39444523225386846,
          -0.091748281851265,
          0.8792752798774337,
          0.8793172766223983,
          -0.01492263228590782,
          -0.2917171278804768,
          1.1941372163038142,
          -0.08843113168274806,
          -0.2917171278804768,
          -0.09997619525545055,
          0.39444523225386846,
          -0.2917171278804768,
          0.39444523225386846,
          0.394487228998833,
          -0.01492263228590782,
          -0.13997806289801856,
          0.6285345924711144,
          -0.13997806289801856,
          0.6052618980117919,
          0.12475788355925056,
          1.1582635858016086,
          -0.24095067527296338,
          -0.2917171278804768,
          0.07193336590101941,
          0.39444523225386846,
          0.8792752798774337,
          -0.2917171278804768,
          -0.2917171278804768,
          0.16137886486598899,
          0.02366466508748573,
          0.6796642657264261,
          0.39444523225386846,
          -0.016977751085845465,
          0.02366466508748573,
          0.4595701645601299,
          -0.2917171278804768,
          -0.2917171278804768,
          0.8792752798774337,
          -0.2168037124633757,
          -0.2917171278804768,
          0.9027481868712328,
          -0.09997619525545055,
          -0.2917171278804768,
          1.2418310106178154,
          -0.28621005421786155,
          -0.13997806289801856,
          0.16137886486598899,
          0.8792752798774337,
          -0.2917171278804768,
          0.523892598861406,
          0.6236595984964699,
          -0.2917171278804768,
          -0.13997806289801856,
          -0.2917171278804768,
          0.75700096299425,
          0.434489096641401,
          0.39444523225386846,
          0.09018217541774357,
          -0.2917171278804768,
          0.031931498258451416,
          0.031931498258451416,
          -0.10826250315130434,
          -0.2917171278804768,
          0.1485813695348053,
          -0.2917171278804768,
          0.8792752798774337,
          0.0779037530148913,
          -0.2917171278804768,
          -0.11980756672400684,
          0.07083860285990476,
          -0.13239069802459622,
          -0.05556504845923902,
          -0.2917171278804768,
          -0.2917171278804768,
          0.8792752798774337,
          0.16137886486598899,
          -0.2917171278804768,
          0.031931498258451416,
          0.4452116848613819,
          0.8792752798774337,
          0.07083860285990476,
          0.031931498258451416,
          -0.2917171278804768,
          -0.13997806289801856,
          0.9178625772508273,
          0.39444523225386846,
          -0.31941858087501457,
          0.5401924561308512,
          -0.2531298305070832,
          -0.2917171278804768,
          -0.2517152602379088,
          0.6696398227383887,
          -0.29998396105144254,
          -0.2802006411055708,
          0.39444523225386846,
          -0.13997806289801856,
          -0.13997806289801856,
          0.523892598861406,
          0.39444523225386846,
          -0.05316098447787144,
          -0.18683219344237778,
          -0.13239069802459622,
          0.177678722135434,
          -0.01492263228590782,
          -0.2917171278804768,
          -0.2517152602379088,
          -0.2917171278804768,
          1.280418307991209,
          0.39444523225386846,
          -0.2917171278804768,
          -0.13997806289801856,
          -0.2917171278804768,
          0.005769160978964018,
          -0.01492263228590782,
          1.0250225037544163,
          -0.2917171278804768,
          -0.2917171278804768,
          0.5401924561308512,
          -0.2917171278804768,
          -0.13997806289801856,
          -0.13997806289801856,
          -0.2917171278804768,
          0.48278736859413174,
          0.004230045263913728,
          -0.2917171278804768,
          -0.2917171278804768,
          0.75700096299425,
          -0.2917171278804768,
          -0.13997806289801856,
          -0.2917171278804768,
          0.031931498258451416,
          0.4344470998964365,
          -0.2917171278804768,
          -0.13997806289801856,
          -0.13997806289801856,
          -0.13239069802459622,
          -0.2917171278804768,
          -0.01492263228590782,
          0.0779037530148913,
          0.001078103449534124,
          -0.2521127794350324,
          -0.01492263228590782,
          -0.18711645158423235,
          -0.01492263228590782,
          -0.2159581228408029,
          -0.01492263228590782,
          -0.08119344941824647,
          -0.04262408528044552,
          -0.16009215101913388,
          -0.23710227483927446,
          -0.13239069802459622,
          -0.01492263228590782,
          -0.08162424541708274,
          0.009737118926529044,
          -0.091748281851265,
          -0.01492263228590782,
          0.09197542032854539,
          -0.032500048846263264,
          -0.073835311967567,
          0.09018217541774357,
          -0.091748281851265,
          -0.10735578669773387,
          -0.20337499154021355,
          -0.091748281851265,
          -0.18683219344237778,
          -0.026623349545003568,
          -0.0040367879070519665,
          -0.23710227483927446,
          -0.01492263228590782,
          -0.13239069802459622,
          0.07402578599590834,
          -0.01492263228590782,
          -0.18683219344237778,
          -0.08119344941824647,
          -0.27916220753256016,
          0.1308245915910748,
          -0.2531030105747164,
          -0.2917171278804768,
          -0.01492263228590782,
          -0.17083145770693584,
          -0.1194497348458027,
          -0.030095984864895682,
          -0.16009215101913388,
          0.009559883847022391,
          -0.05556504845923902,
          0.3198896487149715,
          -0.091748281851265,
          -0.091748281851265,
          0.16941188896446835,
          -0.21453364643691547,
          0.05020230002035358,
          -0.0710694129840642,
          -0.05556504845923902,
          -0.04262408528044552,
          0.03726133684156009,
          -0.002622217637877523,
          -0.04262408528044552,
          -0.01492263228590782,
          -0.09380340065120264,
          0.09197542032854539,
          -0.14824489606898422,
          -0.05556504845923902,
          -0.01492263228590782,
          -0.01492263228590782,
          -0.18683219344237778,
          -0.0032038442522644567,
          -0.18683219344237778,
          -0.2636578430077349,
          -0.091748281851265,
          -0.33857125842483615,
          0.13056271770193892,
          -0.01492263228590782,
          -0.18683219344237778,
          -0.091748281851265,
          -0.14824489606898422,
          -0.06878642255993292,
          -0.1883289582307831,
          -0.13239069802459622,
          -0.032500048846263264,
          -0.04262408528044552,
          -0.01492263228590782,
          -0.01492263228590782,
          -0.2531030105747164,
          0.18159104419858824,
          -0.2636578430077349,
          -0.05316098447787144,
          -0.14596990400349422,
          -0.29374542674804766,
          -0.05556504845923902,
          -0.04262408528044552,
          -0.13997806289801856,
          -0.01492263228590782,
          0.03584382032160563,
          -0.1194497348458027,
          -0.091748281851265,
          -0.044019984886536516,
          -0.22507054563434137,
          -0.05556504845923902,
          -0.091748281851265,
          -0.1194497348458027,
          -0.22507054563434137,
          -0.33857125842483615,
          -0.2159295460430065,
          -0.01492263228590782,
          0.007148686922016779,
          -0.05556504845923902,
          -0.05316098447787144,
          -0.01492263228590782,
          -0.29374542674804766,
          -0.003377568713205317,
          -0.2395331587530089,
          -0.0023945318703579837,
          -0.003377568713205317,
          -0.091748281851265,
          -0.29135929600227267,
          0.09018217541774357,
          -0.2348590287451811,
          -0.24158652379981033,
          -0.01492263228590782,
          1.1775350175814856,
          -0.2531030105747164,
          -0.1346482243149099,
          -0.18683219344237778,
          -0.184181436263091,
          -0.2636578430077349,
          -0.073835311967567,
          -0.01492263228590782,
          -0.04164460393460411,
          -0.2636578430077349,
          -0.29374542674804766,
          -0.05556504845923902,
          0.1308245915910748,
          -0.1753157066674717,
          -0.091748281851265,
          0.02366466508748573,
          -0.5093691781170696,
          -0.01492263228590782,
          0.0779037530148913,
          -0.05556504845923902,
          -0.2636578430077349,
          -0.29374542674804766,
          -0.14596990400349422,
          0.1308245915910748,
          -0.1621724422299409,
          -0.22303060752562043,
          -0.091748281851265,
          -0.2917171278804768,
          -0.07383030588967765,
          -0.3576301131346113,
          -0.15801909898360364,
          -0.18683219344237778,
          -0.01492263228590782,
          0.23772264420552802,
          0.44384821837981364,
          -0.18683219344237778,
          0.0779037530148913,
          -0.39827252930794255,
          -0.13606574083486433,
          0.07079660611494029,
          -0.13239069802459622,
          -0.3323595440538081,
          0.039665400822927674,
          -0.05556504845923902,
          0.0779037530148913,
          -0.032500048846263264,
          -0.12295450246049713,
          -0.01492263228590782,
          0.1423410783659808,
          0.07443111769499919,
          -0.13239069802459622,
          -0.091748281851265,
          -0.01492263228590782,
          -0.18683219344237778,
          -0.13239069802459622,
          -0.05556504845923902,
          0.03743857192106674,
          0.1848018056293445,
          -0.08162424541708274,
          -0.2636578430077349,
          0.1308245915910748,
          -0.2917171278804768,
          -0.05316098447787144,
          -0.01492263228590782,
          -0.13997806289801856,
          -0.091748281851265,
          -0.29275519560836366,
          0.1308245915910748,
          -0.01492263228590782,
          -0.091748281851265,
          0.1164910503882849,
          -0.01492263228590782,
          -0.04262408528044552,
          -0.01492263228590782,
          -0.01492263228590782,
          -0.2636578430077349,
          0.0779037530148913,
          -0.030905297246802153,
          -0.2636578430077349,
          -0.14824489606898422,
          -0.091748281851265,
          -0.091748281851265,
          -0.04108496956539522,
          -0.091748281851265,
          -0.03308001028356533,
          0.001078103449534124,
          0.0779037530148913,
          -0.29135929600227267,
          -0.01492263228590782,
          -0.2917171278804768,
          -0.29275519560836366,
          0.048324416299922596,
          -0.091748281851265,
          -0.2841297630070545,
          -0.05556504845923902,
          0.02366466508748573,
          -0.01492263228590782,
          -0.05556504845923902,
          -0.091748281851265,
          -0.091748281851265,
          -0.04262408528044552,
          -0.016977751085845465,
          -0.01492263228590782,
          -0.15855303530408357,
          -0.04260615204485291,
          -0.01492263228590782,
          -0.2159295460430065,
          0.1308245915910748,
          0.09197542032854539,
          0.02366466508748573,
          -0.18683219344237778,
          -0.05556504845923902,
          -0.01492263228590782,
          -0.17430409302682792,
          -0.01492263228590782,
          -0.3685427774458341,
          -0.04262408528044552,
          -0.2636578430077349,
          -0.01492263228590782,
          -0.2917171278804768,
          -0.2531030105747164,
          -0.10942883873326413,
          -0.01492263228590782,
          -0.01492263228590782,
          -0.1753157066674717,
          -0.13239069802459622,
          -0.020914473391383546,
          -0.18683219344237778,
          -0.05556504845923902,
          -0.2917171278804768,
          0.08802778944907355,
          -0.05556504845923902,
          0.1308245915910748,
          -0.026623349545003568,
          -0.05556504845923902,
          -0.16009215101913388,
          -0.091748281851265,
          0.03743857192106674,
          -0.1637492605938094,
          0.03743857192106674,
          -0.04262408528044552,
          -0.05556504845923902,
          -0.22747460961570898,
          -0.01492263228590782,
          -0.08326650145377672,
          0.09018217541774357,
          -0.08326650145377672,
          -0.31183121600159225,
          0.1308245915910748,
          -0.04262408528044552,
          0.001078103449534124,
          -0.18683219344237778,
          -0.01492263228590782,
          -0.091748281851265,
          -0.13239069802459622,
          -0.01492263228590782,
          -0.33857125842483615,
          0.16548659538085272,
          -0.04262408528044552,
          -0.031719570238506224,
          -0.01492263228590782,
          -0.19889074257967765,
          0.03726133684156009,
          0.09197542032854539,
          -0.10790467127310019,
          -0.091748281851265,
          -0.04262408528044552,
          0.02366466508748573,
          -0.18683219344237778,
          0.02366466508748573,
          -0.02698118142320772,
          0.09018217541774357,
          -0.22747460961570898,
          -0.08326650145377672,
          -0.3299286601400736,
          -0.2636578430077349,
          -0.2917171278804768,
          -0.01492263228590782,
          -0.3299286601400736,
          0.07341950405435543,
          0.02366466508748573,
          -0.23935592367350225,
          -0.04262408528044552,
          -0.13997806289801856,
          -0.002497672192001669,
          -0.30975816396606193,
          -0.08119344941824647,
          -0.01492263228590782,
          0.1308245915910748,
          0.10312313859653703,
          -0.18683219344237778,
          -0.2841297630070545,
          -0.2917171278804768,
          0.02366466508748573,
          -0.05316098447787144,
          0.1308245915910748,
          0.03743857192106674,
          -0.13239069802459622,
          -0.13239069802459622,
          -0.01492263228590782,
          0.1308245915910748,
          -0.13239069802459622,
          -0.29135929600227267,
          -0.05316098447787144,
          -0.01492263228590782,
          0.14415938945601328,
          -0.2636578430077349,
          -0.01492263228590782,
          -0.13239069802459622,
          -0.01492263228590782,
          -0.01492263228590782,
          -0.01492263228590782,
          0.03743857192106674,
          -0.01492263228590782,
          -0.2636578430077349,
          -0.04262408528044552,
          -0.13239069802459622,
          -0.15744413631662202,
          -0.091748281851265,
          -0.18683219344237778,
          -0.05316098447787144,
          0.02366466508748573,
          -0.13997806289801856,
          -0.091748281851265,
          -0.01492263228590782,
          -0.091748281851265,
          -0.2636578430077349,
          -0.2636578430077349,
          -0.13505723969227157,
          -0.01492263228590782
         ]
        }
       ],
       "layout": {
        "height": 1000,
        "template": {
         "data": {
          "bar": [
           {
            "error_x": {
             "color": "#2a3f5f"
            },
            "error_y": {
             "color": "#2a3f5f"
            },
            "marker": {
             "line": {
              "color": "#E5ECF6",
              "width": 0.5
             },
             "pattern": {
              "fillmode": "overlay",
              "size": 10,
              "solidity": 0.2
             }
            },
            "type": "bar"
           }
          ],
          "barpolar": [
           {
            "marker": {
             "line": {
              "color": "#E5ECF6",
              "width": 0.5
             },
             "pattern": {
              "fillmode": "overlay",
              "size": 10,
              "solidity": 0.2
             }
            },
            "type": "barpolar"
           }
          ],
          "carpet": [
           {
            "aaxis": {
             "endlinecolor": "#2a3f5f",
             "gridcolor": "white",
             "linecolor": "white",
             "minorgridcolor": "white",
             "startlinecolor": "#2a3f5f"
            },
            "baxis": {
             "endlinecolor": "#2a3f5f",
             "gridcolor": "white",
             "linecolor": "white",
             "minorgridcolor": "white",
             "startlinecolor": "#2a3f5f"
            },
            "type": "carpet"
           }
          ],
          "choropleth": [
           {
            "colorbar": {
             "outlinewidth": 0,
             "ticks": ""
            },
            "type": "choropleth"
           }
          ],
          "contour": [
           {
            "colorbar": {
             "outlinewidth": 0,
             "ticks": ""
            },
            "colorscale": [
             [
              0,
              "#0d0887"
             ],
             [
              0.1111111111111111,
              "#46039f"
             ],
             [
              0.2222222222222222,
              "#7201a8"
             ],
             [
              0.3333333333333333,
              "#9c179e"
             ],
             [
              0.4444444444444444,
              "#bd3786"
             ],
             [
              0.5555555555555556,
              "#d8576b"
             ],
             [
              0.6666666666666666,
              "#ed7953"
             ],
             [
              0.7777777777777778,
              "#fb9f3a"
             ],
             [
              0.8888888888888888,
              "#fdca26"
             ],
             [
              1,
              "#f0f921"
             ]
            ],
            "type": "contour"
           }
          ],
          "contourcarpet": [
           {
            "colorbar": {
             "outlinewidth": 0,
             "ticks": ""
            },
            "type": "contourcarpet"
           }
          ],
          "heatmap": [
           {
            "colorbar": {
             "outlinewidth": 0,
             "ticks": ""
            },
            "colorscale": [
             [
              0,
              "#0d0887"
             ],
             [
              0.1111111111111111,
              "#46039f"
             ],
             [
              0.2222222222222222,
              "#7201a8"
             ],
             [
              0.3333333333333333,
              "#9c179e"
             ],
             [
              0.4444444444444444,
              "#bd3786"
             ],
             [
              0.5555555555555556,
              "#d8576b"
             ],
             [
              0.6666666666666666,
              "#ed7953"
             ],
             [
              0.7777777777777778,
              "#fb9f3a"
             ],
             [
              0.8888888888888888,
              "#fdca26"
             ],
             [
              1,
              "#f0f921"
             ]
            ],
            "type": "heatmap"
           }
          ],
          "heatmapgl": [
           {
            "colorbar": {
             "outlinewidth": 0,
             "ticks": ""
            },
            "colorscale": [
             [
              0,
              "#0d0887"
             ],
             [
              0.1111111111111111,
              "#46039f"
             ],
             [
              0.2222222222222222,
              "#7201a8"
             ],
             [
              0.3333333333333333,
              "#9c179e"
             ],
             [
              0.4444444444444444,
              "#bd3786"
             ],
             [
              0.5555555555555556,
              "#d8576b"
             ],
             [
              0.6666666666666666,
              "#ed7953"
             ],
             [
              0.7777777777777778,
              "#fb9f3a"
             ],
             [
              0.8888888888888888,
              "#fdca26"
             ],
             [
              1,
              "#f0f921"
             ]
            ],
            "type": "heatmapgl"
           }
          ],
          "histogram": [
           {
            "marker": {
             "pattern": {
              "fillmode": "overlay",
              "size": 10,
              "solidity": 0.2
             }
            },
            "type": "histogram"
           }
          ],
          "histogram2d": [
           {
            "colorbar": {
             "outlinewidth": 0,
             "ticks": ""
            },
            "colorscale": [
             [
              0,
              "#0d0887"
             ],
             [
              0.1111111111111111,
              "#46039f"
             ],
             [
              0.2222222222222222,
              "#7201a8"
             ],
             [
              0.3333333333333333,
              "#9c179e"
             ],
             [
              0.4444444444444444,
              "#bd3786"
             ],
             [
              0.5555555555555556,
              "#d8576b"
             ],
             [
              0.6666666666666666,
              "#ed7953"
             ],
             [
              0.7777777777777778,
              "#fb9f3a"
             ],
             [
              0.8888888888888888,
              "#fdca26"
             ],
             [
              1,
              "#f0f921"
             ]
            ],
            "type": "histogram2d"
           }
          ],
          "histogram2dcontour": [
           {
            "colorbar": {
             "outlinewidth": 0,
             "ticks": ""
            },
            "colorscale": [
             [
              0,
              "#0d0887"
             ],
             [
              0.1111111111111111,
              "#46039f"
             ],
             [
              0.2222222222222222,
              "#7201a8"
             ],
             [
              0.3333333333333333,
              "#9c179e"
             ],
             [
              0.4444444444444444,
              "#bd3786"
             ],
             [
              0.5555555555555556,
              "#d8576b"
             ],
             [
              0.6666666666666666,
              "#ed7953"
             ],
             [
              0.7777777777777778,
              "#fb9f3a"
             ],
             [
              0.8888888888888888,
              "#fdca26"
             ],
             [
              1,
              "#f0f921"
             ]
            ],
            "type": "histogram2dcontour"
           }
          ],
          "mesh3d": [
           {
            "colorbar": {
             "outlinewidth": 0,
             "ticks": ""
            },
            "type": "mesh3d"
           }
          ],
          "parcoords": [
           {
            "line": {
             "colorbar": {
              "outlinewidth": 0,
              "ticks": ""
             }
            },
            "type": "parcoords"
           }
          ],
          "pie": [
           {
            "automargin": true,
            "type": "pie"
           }
          ],
          "scatter": [
           {
            "marker": {
             "colorbar": {
              "outlinewidth": 0,
              "ticks": ""
             }
            },
            "type": "scatter"
           }
          ],
          "scatter3d": [
           {
            "line": {
             "colorbar": {
              "outlinewidth": 0,
              "ticks": ""
             }
            },
            "marker": {
             "colorbar": {
              "outlinewidth": 0,
              "ticks": ""
             }
            },
            "type": "scatter3d"
           }
          ],
          "scattercarpet": [
           {
            "marker": {
             "colorbar": {
              "outlinewidth": 0,
              "ticks": ""
             }
            },
            "type": "scattercarpet"
           }
          ],
          "scattergeo": [
           {
            "marker": {
             "colorbar": {
              "outlinewidth": 0,
              "ticks": ""
             }
            },
            "type": "scattergeo"
           }
          ],
          "scattergl": [
           {
            "marker": {
             "colorbar": {
              "outlinewidth": 0,
              "ticks": ""
             }
            },
            "type": "scattergl"
           }
          ],
          "scattermapbox": [
           {
            "marker": {
             "colorbar": {
              "outlinewidth": 0,
              "ticks": ""
             }
            },
            "type": "scattermapbox"
           }
          ],
          "scatterpolar": [
           {
            "marker": {
             "colorbar": {
              "outlinewidth": 0,
              "ticks": ""
             }
            },
            "type": "scatterpolar"
           }
          ],
          "scatterpolargl": [
           {
            "marker": {
             "colorbar": {
              "outlinewidth": 0,
              "ticks": ""
             }
            },
            "type": "scatterpolargl"
           }
          ],
          "scatterternary": [
           {
            "marker": {
             "colorbar": {
              "outlinewidth": 0,
              "ticks": ""
             }
            },
            "type": "scatterternary"
           }
          ],
          "surface": [
           {
            "colorbar": {
             "outlinewidth": 0,
             "ticks": ""
            },
            "colorscale": [
             [
              0,
              "#0d0887"
             ],
             [
              0.1111111111111111,
              "#46039f"
             ],
             [
              0.2222222222222222,
              "#7201a8"
             ],
             [
              0.3333333333333333,
              "#9c179e"
             ],
             [
              0.4444444444444444,
              "#bd3786"
             ],
             [
              0.5555555555555556,
              "#d8576b"
             ],
             [
              0.6666666666666666,
              "#ed7953"
             ],
             [
              0.7777777777777778,
              "#fb9f3a"
             ],
             [
              0.8888888888888888,
              "#fdca26"
             ],
             [
              1,
              "#f0f921"
             ]
            ],
            "type": "surface"
           }
          ],
          "table": [
           {
            "cells": {
             "fill": {
              "color": "#EBF0F8"
             },
             "line": {
              "color": "white"
             }
            },
            "header": {
             "fill": {
              "color": "#C8D4E3"
             },
             "line": {
              "color": "white"
             }
            },
            "type": "table"
           }
          ]
         },
         "layout": {
          "annotationdefaults": {
           "arrowcolor": "#2a3f5f",
           "arrowhead": 0,
           "arrowwidth": 1
          },
          "autotypenumbers": "strict",
          "coloraxis": {
           "colorbar": {
            "outlinewidth": 0,
            "ticks": ""
           }
          },
          "colorscale": {
           "diverging": [
            [
             0,
             "#8e0152"
            ],
            [
             0.1,
             "#c51b7d"
            ],
            [
             0.2,
             "#de77ae"
            ],
            [
             0.3,
             "#f1b6da"
            ],
            [
             0.4,
             "#fde0ef"
            ],
            [
             0.5,
             "#f7f7f7"
            ],
            [
             0.6,
             "#e6f5d0"
            ],
            [
             0.7,
             "#b8e186"
            ],
            [
             0.8,
             "#7fbc41"
            ],
            [
             0.9,
             "#4d9221"
            ],
            [
             1,
             "#276419"
            ]
           ],
           "sequential": [
            [
             0,
             "#0d0887"
            ],
            [
             0.1111111111111111,
             "#46039f"
            ],
            [
             0.2222222222222222,
             "#7201a8"
            ],
            [
             0.3333333333333333,
             "#9c179e"
            ],
            [
             0.4444444444444444,
             "#bd3786"
            ],
            [
             0.5555555555555556,
             "#d8576b"
            ],
            [
             0.6666666666666666,
             "#ed7953"
            ],
            [
             0.7777777777777778,
             "#fb9f3a"
            ],
            [
             0.8888888888888888,
             "#fdca26"
            ],
            [
             1,
             "#f0f921"
            ]
           ],
           "sequentialminus": [
            [
             0,
             "#0d0887"
            ],
            [
             0.1111111111111111,
             "#46039f"
            ],
            [
             0.2222222222222222,
             "#7201a8"
            ],
            [
             0.3333333333333333,
             "#9c179e"
            ],
            [
             0.4444444444444444,
             "#bd3786"
            ],
            [
             0.5555555555555556,
             "#d8576b"
            ],
            [
             0.6666666666666666,
             "#ed7953"
            ],
            [
             0.7777777777777778,
             "#fb9f3a"
            ],
            [
             0.8888888888888888,
             "#fdca26"
            ],
            [
             1,
             "#f0f921"
            ]
           ]
          },
          "colorway": [
           "#636efa",
           "#EF553B",
           "#00cc96",
           "#ab63fa",
           "#FFA15A",
           "#19d3f3",
           "#FF6692",
           "#B6E880",
           "#FF97FF",
           "#FECB52"
          ],
          "font": {
           "color": "#2a3f5f"
          },
          "geo": {
           "bgcolor": "white",
           "lakecolor": "white",
           "landcolor": "#E5ECF6",
           "showlakes": true,
           "showland": true,
           "subunitcolor": "white"
          },
          "hoverlabel": {
           "align": "left"
          },
          "hovermode": "closest",
          "mapbox": {
           "style": "light"
          },
          "paper_bgcolor": "white",
          "plot_bgcolor": "#E5ECF6",
          "polar": {
           "angularaxis": {
            "gridcolor": "white",
            "linecolor": "white",
            "ticks": ""
           },
           "bgcolor": "#E5ECF6",
           "radialaxis": {
            "gridcolor": "white",
            "linecolor": "white",
            "ticks": ""
           }
          },
          "scene": {
           "xaxis": {
            "backgroundcolor": "#E5ECF6",
            "gridcolor": "white",
            "gridwidth": 2,
            "linecolor": "white",
            "showbackground": true,
            "ticks": "",
            "zerolinecolor": "white"
           },
           "yaxis": {
            "backgroundcolor": "#E5ECF6",
            "gridcolor": "white",
            "gridwidth": 2,
            "linecolor": "white",
            "showbackground": true,
            "ticks": "",
            "zerolinecolor": "white"
           },
           "zaxis": {
            "backgroundcolor": "#E5ECF6",
            "gridcolor": "white",
            "gridwidth": 2,
            "linecolor": "white",
            "showbackground": true,
            "ticks": "",
            "zerolinecolor": "white"
           }
          },
          "shapedefaults": {
           "line": {
            "color": "#2a3f5f"
           }
          },
          "ternary": {
           "aaxis": {
            "gridcolor": "white",
            "linecolor": "white",
            "ticks": ""
           },
           "baxis": {
            "gridcolor": "white",
            "linecolor": "white",
            "ticks": ""
           },
           "bgcolor": "#E5ECF6",
           "caxis": {
            "gridcolor": "white",
            "linecolor": "white",
            "ticks": ""
           }
          },
          "title": {
           "x": 0.05
          },
          "xaxis": {
           "automargin": true,
           "gridcolor": "white",
           "linecolor": "white",
           "ticks": "",
           "title": {
            "standoff": 15
           },
           "zerolinecolor": "white",
           "zerolinewidth": 2
          },
          "yaxis": {
           "automargin": true,
           "gridcolor": "white",
           "linecolor": "white",
           "ticks": "",
           "title": {
            "standoff": 15
           },
           "zerolinecolor": "white",
           "zerolinewidth": 2
          }
         }
        },
        "title": {
         "text": "Scatter plot of principal components"
        },
        "width": 1000,
        "xaxis": {
         "title": {
          "text": "First principal component"
         }
        },
        "yaxis": {
         "title": {
          "text": "Second Principal Component"
         }
        }
       }
      }
     },
     "metadata": {},
     "output_type": "display_data"
    }
   ],
   "source": [
    "# Create a Scatter plot\n",
    "fig = go.Figure(data=go.Scatter(x=x_mca[:, 0], y=x_mca[:, 1], mode='markers',\n",
    "                                marker=dict(size=10, color=df['Grade'], colorscale='Portland')))\n",
    "\n",
    "# Update layout\n",
    "fig.update_layout(title='Scatter plot of principal components',\n",
    "                   xaxis_title='First principal component',\n",
    "                   yaxis_title='Second Principal Component',\n",
    "                   width=1000,\n",
    "                   height=1000)\n",
    "\n",
    "fig.show()"
   ]
  },
  {
   "cell_type": "code",
   "execution_count": 35,
   "metadata": {},
   "outputs": [],
   "source": [
    "import mca\n",
    "import pandas as pd\n",
    "\n",
    "# Assuming df is your DataFrame\n",
    "# df should be a DataFrame where each column is a categorical variable\n",
    "# and each row represents an observation\n",
    "\n",
    "# Perform MCA\n",
    "mca_ben = mca.MCA(genes)\n",
    "\n",
    "# The eigenvalues (variances) can be accessed with\n",
    "eigenvalues = mca_ben.L\n",
    "\n",
    "# To get the explained variance\n",
    "explained_variance = mca_ben.expl_var()"
   ]
  },
  {
   "cell_type": "code",
   "execution_count": 34,
   "metadata": {},
   "outputs": [
    {
     "data": {
      "application/vnd.plotly.v1+json": {
       "config": {
        "plotlyServerURL": "https://plot.ly"
       },
       "data": [
        {
         "type": "scatter",
         "x": [
          1,
          2,
          3,
          4,
          5,
          6,
          7,
          8,
          9,
          10,
          11,
          12,
          13,
          14,
          15,
          16,
          17,
          18,
          19,
          20
         ],
         "y": [
          0.15058009646823792,
          0.10493215673149127,
          0.07234271256802513,
          0.07123334688914061,
          0.06939314648603145,
          0.054905753300833776,
          0.04691795579088705,
          0.04261650247383999,
          0.03669327191588569,
          0.03550064831566428,
          0.03239532503218691,
          0.025129384871792386,
          0.02256082637041911,
          0.020587047303003266,
          0.016036802169800312,
          0.013019797010337803,
          0.0062504778117306575,
          0.0022053838693501444,
          0.000748997998629694,
          0
         ]
        }
       ],
       "layout": {
        "template": {
         "data": {
          "bar": [
           {
            "error_x": {
             "color": "#2a3f5f"
            },
            "error_y": {
             "color": "#2a3f5f"
            },
            "marker": {
             "line": {
              "color": "#E5ECF6",
              "width": 0.5
             },
             "pattern": {
              "fillmode": "overlay",
              "size": 10,
              "solidity": 0.2
             }
            },
            "type": "bar"
           }
          ],
          "barpolar": [
           {
            "marker": {
             "line": {
              "color": "#E5ECF6",
              "width": 0.5
             },
             "pattern": {
              "fillmode": "overlay",
              "size": 10,
              "solidity": 0.2
             }
            },
            "type": "barpolar"
           }
          ],
          "carpet": [
           {
            "aaxis": {
             "endlinecolor": "#2a3f5f",
             "gridcolor": "white",
             "linecolor": "white",
             "minorgridcolor": "white",
             "startlinecolor": "#2a3f5f"
            },
            "baxis": {
             "endlinecolor": "#2a3f5f",
             "gridcolor": "white",
             "linecolor": "white",
             "minorgridcolor": "white",
             "startlinecolor": "#2a3f5f"
            },
            "type": "carpet"
           }
          ],
          "choropleth": [
           {
            "colorbar": {
             "outlinewidth": 0,
             "ticks": ""
            },
            "type": "choropleth"
           }
          ],
          "contour": [
           {
            "colorbar": {
             "outlinewidth": 0,
             "ticks": ""
            },
            "colorscale": [
             [
              0,
              "#0d0887"
             ],
             [
              0.1111111111111111,
              "#46039f"
             ],
             [
              0.2222222222222222,
              "#7201a8"
             ],
             [
              0.3333333333333333,
              "#9c179e"
             ],
             [
              0.4444444444444444,
              "#bd3786"
             ],
             [
              0.5555555555555556,
              "#d8576b"
             ],
             [
              0.6666666666666666,
              "#ed7953"
             ],
             [
              0.7777777777777778,
              "#fb9f3a"
             ],
             [
              0.8888888888888888,
              "#fdca26"
             ],
             [
              1,
              "#f0f921"
             ]
            ],
            "type": "contour"
           }
          ],
          "contourcarpet": [
           {
            "colorbar": {
             "outlinewidth": 0,
             "ticks": ""
            },
            "type": "contourcarpet"
           }
          ],
          "heatmap": [
           {
            "colorbar": {
             "outlinewidth": 0,
             "ticks": ""
            },
            "colorscale": [
             [
              0,
              "#0d0887"
             ],
             [
              0.1111111111111111,
              "#46039f"
             ],
             [
              0.2222222222222222,
              "#7201a8"
             ],
             [
              0.3333333333333333,
              "#9c179e"
             ],
             [
              0.4444444444444444,
              "#bd3786"
             ],
             [
              0.5555555555555556,
              "#d8576b"
             ],
             [
              0.6666666666666666,
              "#ed7953"
             ],
             [
              0.7777777777777778,
              "#fb9f3a"
             ],
             [
              0.8888888888888888,
              "#fdca26"
             ],
             [
              1,
              "#f0f921"
             ]
            ],
            "type": "heatmap"
           }
          ],
          "heatmapgl": [
           {
            "colorbar": {
             "outlinewidth": 0,
             "ticks": ""
            },
            "colorscale": [
             [
              0,
              "#0d0887"
             ],
             [
              0.1111111111111111,
              "#46039f"
             ],
             [
              0.2222222222222222,
              "#7201a8"
             ],
             [
              0.3333333333333333,
              "#9c179e"
             ],
             [
              0.4444444444444444,
              "#bd3786"
             ],
             [
              0.5555555555555556,
              "#d8576b"
             ],
             [
              0.6666666666666666,
              "#ed7953"
             ],
             [
              0.7777777777777778,
              "#fb9f3a"
             ],
             [
              0.8888888888888888,
              "#fdca26"
             ],
             [
              1,
              "#f0f921"
             ]
            ],
            "type": "heatmapgl"
           }
          ],
          "histogram": [
           {
            "marker": {
             "pattern": {
              "fillmode": "overlay",
              "size": 10,
              "solidity": 0.2
             }
            },
            "type": "histogram"
           }
          ],
          "histogram2d": [
           {
            "colorbar": {
             "outlinewidth": 0,
             "ticks": ""
            },
            "colorscale": [
             [
              0,
              "#0d0887"
             ],
             [
              0.1111111111111111,
              "#46039f"
             ],
             [
              0.2222222222222222,
              "#7201a8"
             ],
             [
              0.3333333333333333,
              "#9c179e"
             ],
             [
              0.4444444444444444,
              "#bd3786"
             ],
             [
              0.5555555555555556,
              "#d8576b"
             ],
             [
              0.6666666666666666,
              "#ed7953"
             ],
             [
              0.7777777777777778,
              "#fb9f3a"
             ],
             [
              0.8888888888888888,
              "#fdca26"
             ],
             [
              1,
              "#f0f921"
             ]
            ],
            "type": "histogram2d"
           }
          ],
          "histogram2dcontour": [
           {
            "colorbar": {
             "outlinewidth": 0,
             "ticks": ""
            },
            "colorscale": [
             [
              0,
              "#0d0887"
             ],
             [
              0.1111111111111111,
              "#46039f"
             ],
             [
              0.2222222222222222,
              "#7201a8"
             ],
             [
              0.3333333333333333,
              "#9c179e"
             ],
             [
              0.4444444444444444,
              "#bd3786"
             ],
             [
              0.5555555555555556,
              "#d8576b"
             ],
             [
              0.6666666666666666,
              "#ed7953"
             ],
             [
              0.7777777777777778,
              "#fb9f3a"
             ],
             [
              0.8888888888888888,
              "#fdca26"
             ],
             [
              1,
              "#f0f921"
             ]
            ],
            "type": "histogram2dcontour"
           }
          ],
          "mesh3d": [
           {
            "colorbar": {
             "outlinewidth": 0,
             "ticks": ""
            },
            "type": "mesh3d"
           }
          ],
          "parcoords": [
           {
            "line": {
             "colorbar": {
              "outlinewidth": 0,
              "ticks": ""
             }
            },
            "type": "parcoords"
           }
          ],
          "pie": [
           {
            "automargin": true,
            "type": "pie"
           }
          ],
          "scatter": [
           {
            "marker": {
             "colorbar": {
              "outlinewidth": 0,
              "ticks": ""
             }
            },
            "type": "scatter"
           }
          ],
          "scatter3d": [
           {
            "line": {
             "colorbar": {
              "outlinewidth": 0,
              "ticks": ""
             }
            },
            "marker": {
             "colorbar": {
              "outlinewidth": 0,
              "ticks": ""
             }
            },
            "type": "scatter3d"
           }
          ],
          "scattercarpet": [
           {
            "marker": {
             "colorbar": {
              "outlinewidth": 0,
              "ticks": ""
             }
            },
            "type": "scattercarpet"
           }
          ],
          "scattergeo": [
           {
            "marker": {
             "colorbar": {
              "outlinewidth": 0,
              "ticks": ""
             }
            },
            "type": "scattergeo"
           }
          ],
          "scattergl": [
           {
            "marker": {
             "colorbar": {
              "outlinewidth": 0,
              "ticks": ""
             }
            },
            "type": "scattergl"
           }
          ],
          "scattermapbox": [
           {
            "marker": {
             "colorbar": {
              "outlinewidth": 0,
              "ticks": ""
             }
            },
            "type": "scattermapbox"
           }
          ],
          "scatterpolar": [
           {
            "marker": {
             "colorbar": {
              "outlinewidth": 0,
              "ticks": ""
             }
            },
            "type": "scatterpolar"
           }
          ],
          "scatterpolargl": [
           {
            "marker": {
             "colorbar": {
              "outlinewidth": 0,
              "ticks": ""
             }
            },
            "type": "scatterpolargl"
           }
          ],
          "scatterternary": [
           {
            "marker": {
             "colorbar": {
              "outlinewidth": 0,
              "ticks": ""
             }
            },
            "type": "scatterternary"
           }
          ],
          "surface": [
           {
            "colorbar": {
             "outlinewidth": 0,
             "ticks": ""
            },
            "colorscale": [
             [
              0,
              "#0d0887"
             ],
             [
              0.1111111111111111,
              "#46039f"
             ],
             [
              0.2222222222222222,
              "#7201a8"
             ],
             [
              0.3333333333333333,
              "#9c179e"
             ],
             [
              0.4444444444444444,
              "#bd3786"
             ],
             [
              0.5555555555555556,
              "#d8576b"
             ],
             [
              0.6666666666666666,
              "#ed7953"
             ],
             [
              0.7777777777777778,
              "#fb9f3a"
             ],
             [
              0.8888888888888888,
              "#fdca26"
             ],
             [
              1,
              "#f0f921"
             ]
            ],
            "type": "surface"
           }
          ],
          "table": [
           {
            "cells": {
             "fill": {
              "color": "#EBF0F8"
             },
             "line": {
              "color": "white"
             }
            },
            "header": {
             "fill": {
              "color": "#C8D4E3"
             },
             "line": {
              "color": "white"
             }
            },
            "type": "table"
           }
          ]
         },
         "layout": {
          "annotationdefaults": {
           "arrowcolor": "#2a3f5f",
           "arrowhead": 0,
           "arrowwidth": 1
          },
          "autotypenumbers": "strict",
          "coloraxis": {
           "colorbar": {
            "outlinewidth": 0,
            "ticks": ""
           }
          },
          "colorscale": {
           "diverging": [
            [
             0,
             "#8e0152"
            ],
            [
             0.1,
             "#c51b7d"
            ],
            [
             0.2,
             "#de77ae"
            ],
            [
             0.3,
             "#f1b6da"
            ],
            [
             0.4,
             "#fde0ef"
            ],
            [
             0.5,
             "#f7f7f7"
            ],
            [
             0.6,
             "#e6f5d0"
            ],
            [
             0.7,
             "#b8e186"
            ],
            [
             0.8,
             "#7fbc41"
            ],
            [
             0.9,
             "#4d9221"
            ],
            [
             1,
             "#276419"
            ]
           ],
           "sequential": [
            [
             0,
             "#0d0887"
            ],
            [
             0.1111111111111111,
             "#46039f"
            ],
            [
             0.2222222222222222,
             "#7201a8"
            ],
            [
             0.3333333333333333,
             "#9c179e"
            ],
            [
             0.4444444444444444,
             "#bd3786"
            ],
            [
             0.5555555555555556,
             "#d8576b"
            ],
            [
             0.6666666666666666,
             "#ed7953"
            ],
            [
             0.7777777777777778,
             "#fb9f3a"
            ],
            [
             0.8888888888888888,
             "#fdca26"
            ],
            [
             1,
             "#f0f921"
            ]
           ],
           "sequentialminus": [
            [
             0,
             "#0d0887"
            ],
            [
             0.1111111111111111,
             "#46039f"
            ],
            [
             0.2222222222222222,
             "#7201a8"
            ],
            [
             0.3333333333333333,
             "#9c179e"
            ],
            [
             0.4444444444444444,
             "#bd3786"
            ],
            [
             0.5555555555555556,
             "#d8576b"
            ],
            [
             0.6666666666666666,
             "#ed7953"
            ],
            [
             0.7777777777777778,
             "#fb9f3a"
            ],
            [
             0.8888888888888888,
             "#fdca26"
            ],
            [
             1,
             "#f0f921"
            ]
           ]
          },
          "colorway": [
           "#636efa",
           "#EF553B",
           "#00cc96",
           "#ab63fa",
           "#FFA15A",
           "#19d3f3",
           "#FF6692",
           "#B6E880",
           "#FF97FF",
           "#FECB52"
          ],
          "font": {
           "color": "#2a3f5f"
          },
          "geo": {
           "bgcolor": "white",
           "lakecolor": "white",
           "landcolor": "#E5ECF6",
           "showlakes": true,
           "showland": true,
           "subunitcolor": "white"
          },
          "hoverlabel": {
           "align": "left"
          },
          "hovermode": "closest",
          "mapbox": {
           "style": "light"
          },
          "paper_bgcolor": "white",
          "plot_bgcolor": "#E5ECF6",
          "polar": {
           "angularaxis": {
            "gridcolor": "white",
            "linecolor": "white",
            "ticks": ""
           },
           "bgcolor": "#E5ECF6",
           "radialaxis": {
            "gridcolor": "white",
            "linecolor": "white",
            "ticks": ""
           }
          },
          "scene": {
           "xaxis": {
            "backgroundcolor": "#E5ECF6",
            "gridcolor": "white",
            "gridwidth": 2,
            "linecolor": "white",
            "showbackground": true,
            "ticks": "",
            "zerolinecolor": "white"
           },
           "yaxis": {
            "backgroundcolor": "#E5ECF6",
            "gridcolor": "white",
            "gridwidth": 2,
            "linecolor": "white",
            "showbackground": true,
            "ticks": "",
            "zerolinecolor": "white"
           },
           "zaxis": {
            "backgroundcolor": "#E5ECF6",
            "gridcolor": "white",
            "gridwidth": 2,
            "linecolor": "white",
            "showbackground": true,
            "ticks": "",
            "zerolinecolor": "white"
           }
          },
          "shapedefaults": {
           "line": {
            "color": "#2a3f5f"
           }
          },
          "ternary": {
           "aaxis": {
            "gridcolor": "white",
            "linecolor": "white",
            "ticks": ""
           },
           "baxis": {
            "gridcolor": "white",
            "linecolor": "white",
            "ticks": ""
           },
           "bgcolor": "#E5ECF6",
           "caxis": {
            "gridcolor": "white",
            "linecolor": "white",
            "ticks": ""
           }
          },
          "title": {
           "x": 0.05
          },
          "xaxis": {
           "automargin": true,
           "gridcolor": "white",
           "linecolor": "white",
           "ticks": "",
           "title": {
            "standoff": 15
           },
           "zerolinecolor": "white",
           "zerolinewidth": 2
          },
          "yaxis": {
           "automargin": true,
           "gridcolor": "white",
           "linecolor": "white",
           "ticks": "",
           "title": {
            "standoff": 15
           },
           "zerolinecolor": "white",
           "zerolinewidth": 2
          }
         }
        },
        "title": {
         "text": "Explained Variance by Component"
        },
        "xaxis": {
         "dtick": 1,
         "title": {
          "text": "Component"
         }
        },
        "yaxis": {
         "title": {
          "text": "Explained Variance"
         }
        }
       }
      }
     },
     "metadata": {},
     "output_type": "display_data"
    }
   ],
   "source": [
    "import plotly.graph_objects as go\n",
    "\n",
    "# Create a Scatter plot\n",
    "fig = go.Figure(data=go.Scatter(x=list(range(1, len(explained_variance)+1)), y=explained_variance))\n",
    "\n",
    "# Update layout\n",
    "fig.update_layout(title='Explained Variance by Component',\n",
    "                   xaxis_title='Component',\n",
    "                   yaxis_title='Explained Variance',\n",
    "                   xaxis = dict(\n",
    "                       dtick = 1  # sets the tick step to 1\n",
    "                   ))\n",
    "\n",
    "fig.show()"
   ]
  },
  {
   "cell_type": "code",
   "execution_count": 28,
   "metadata": {},
   "outputs": [
    {
     "data": {
      "text/plain": [
       "array([0.1505801 , 0.10493216, 0.07234271, 0.07123335, 0.06939315,\n",
       "       0.05490575, 0.04691796, 0.0426165 , 0.03669327, 0.03550065,\n",
       "       0.03239533, 0.02512938, 0.02256083, 0.02058705, 0.0160368 ,\n",
       "       0.0130198 , 0.00625048, 0.00220538, 0.000749  , 0.        ])"
      ]
     },
     "execution_count": 28,
     "metadata": {},
     "output_type": "execute_result"
    }
   ],
   "source": [
    "explained_variance"
   ]
  },
  {
   "cell_type": "code",
   "execution_count": 23,
   "metadata": {},
   "outputs": [
    {
     "name": "stdout",
     "output_type": "stream",
     "text": [
      "Eigenvalues: [0.12035598 0.10021959]\n",
      "Row coordinates:\n",
      "            0         1\n",
      "0   -0.163440  0.662508\n",
      "1   -0.205765  0.394452\n",
      "2   -0.463020 -0.291714\n",
      "3   -0.178605 -0.119715\n",
      "4   -0.463020 -0.291714\n",
      "..        ...       ...\n",
      "857  0.330846 -0.091743\n",
      "858  0.191994 -0.263653\n",
      "859  0.191994 -0.263653\n",
      "860  0.324532 -0.135100\n",
      "861  0.120239 -0.014923\n",
      "\n",
      "[840 rows x 2 columns]\n",
      "Column coordinates:\n",
      "                  0         1\n",
      "IDH1_0     0.826098 -0.143039\n",
      "IDH1_1    -0.887291  0.153634\n",
      "TP53_0     0.399130  0.450928\n",
      "TP53_1    -0.564287 -0.637519\n",
      "ATRX_0     0.353948  0.248187\n",
      "ATRX_1    -1.016173 -0.712538\n",
      "PTEN_0    -0.245287  0.081643\n",
      "PTEN_1     1.215999 -0.404743\n",
      "EGFR_0    -0.207909  0.034304\n",
      "EGFR_1     1.351410 -0.222974\n",
      "CIC_0      0.072492 -0.303305\n",
      "CIC_1     -0.476093  1.991977\n",
      "MUC16_0   -0.066846  0.020475\n",
      "MUC16_1    0.506119 -0.155029\n",
      "PIK3CA_0  -0.027239 -0.080189\n",
      "PIK3CA_1   0.286200  0.842537\n",
      "NF1_0     -0.089779 -0.019483\n",
      "NF1_1      1.035812  0.224780\n",
      "PIK3R1_0  -0.031737 -0.037779\n",
      "PIK3R1_1   0.461950  0.549896\n",
      "FUBP1_0    0.030448 -0.164451\n",
      "FUBP1_1   -0.537906  2.905304\n",
      "RB1_0     -0.071166  0.019984\n",
      "RB1_1      1.423329 -0.399689\n",
      "NOTCH1_0   0.039071 -0.103841\n",
      "NOTCH1_1  -0.824607  2.191592\n",
      "BCOR_0    -0.008422 -0.019310\n",
      "BCOR_1     0.235532  0.540016\n",
      "CSMD3_0   -0.030881 -0.002352\n",
      "CSMD3_1    0.929875  0.070811\n",
      "SMARCA4_0  0.013025 -0.008140\n",
      "SMARCA4_1 -0.392201  0.245097\n",
      "GRIN2A_0  -0.051508 -0.010336\n",
      "GRIN2A_1   1.550959  0.311219\n",
      "IDH2_0    -0.016229 -0.030563\n",
      "IDH2_1     0.576486  1.085639\n",
      "FAT4_0    -0.024828 -0.018533\n",
      "FAT4_1     0.881924  0.658308\n",
      "PDGFRA_0  -0.028101 -0.008687\n",
      "PDGFRA_1   1.044864  0.323003\n"
     ]
    }
   ],
   "source": [
    "# Eigenvalues\n",
    "print(\"Eigenvalues:\", mca.eigenvalues_)\n",
    "\n",
    "# Row coordinates\n",
    "print(\"Row coordinates:\")\n",
    "print(mca.row_coordinates(genes))\n",
    "\n",
    "# Column coordinates\n",
    "print(\"Column coordinates:\")\n",
    "print(mca.column_coordinates(genes))"
   ]
  },
  {
   "cell_type": "code",
   "execution_count": 24,
   "metadata": {},
   "outputs": [
    {
     "data": {
      "text/html": [
       "<style type=\"text/css\">\n",
       "</style>\n",
       "<table id=\"T_0da5f\">\n",
       "  <thead>\n",
       "    <tr>\n",
       "      <th class=\"blank level0\" >&nbsp;</th>\n",
       "      <th id=\"T_0da5f_level0_col0\" class=\"col_heading level0 col0\" >0</th>\n",
       "      <th id=\"T_0da5f_level0_col1\" class=\"col_heading level0 col1\" >1</th>\n",
       "    </tr>\n",
       "  </thead>\n",
       "  <tbody>\n",
       "    <tr>\n",
       "      <th id=\"T_0da5f_level0_row0\" class=\"row_heading level0 row0\" >IDH1_0</th>\n",
       "      <td id=\"T_0da5f_row0_col0\" class=\"data row0 col0\" >15%</td>\n",
       "      <td id=\"T_0da5f_row0_col1\" class=\"data row0 col1\" >1%</td>\n",
       "    </tr>\n",
       "    <tr>\n",
       "      <th id=\"T_0da5f_level0_row1\" class=\"row_heading level0 row1\" >IDH1_1</th>\n",
       "      <td id=\"T_0da5f_row1_col0\" class=\"data row1 col0\" >16%</td>\n",
       "      <td id=\"T_0da5f_row1_col1\" class=\"data row1 col1\" >1%</td>\n",
       "    </tr>\n",
       "    <tr>\n",
       "      <th id=\"T_0da5f_level0_row2\" class=\"row_heading level0 row2\" >TP53_0</th>\n",
       "      <td id=\"T_0da5f_row2_col0\" class=\"data row2 col0\" >4%</td>\n",
       "      <td id=\"T_0da5f_row2_col1\" class=\"data row2 col1\" >6%</td>\n",
       "    </tr>\n",
       "    <tr>\n",
       "      <th id=\"T_0da5f_level0_row3\" class=\"row_heading level0 row3\" >TP53_1</th>\n",
       "      <td id=\"T_0da5f_row3_col0\" class=\"data row3 col0\" >5%</td>\n",
       "      <td id=\"T_0da5f_row3_col1\" class=\"data row3 col1\" >8%</td>\n",
       "    </tr>\n",
       "    <tr>\n",
       "      <th id=\"T_0da5f_level0_row4\" class=\"row_heading level0 row4\" >ATRX_0</th>\n",
       "      <td id=\"T_0da5f_row4_col0\" class=\"data row4 col0\" >4%</td>\n",
       "      <td id=\"T_0da5f_row4_col1\" class=\"data row4 col1\" >2%</td>\n",
       "    </tr>\n",
       "    <tr>\n",
       "      <th id=\"T_0da5f_level0_row5\" class=\"row_heading level0 row5\" >ATRX_1</th>\n",
       "      <td id=\"T_0da5f_row5_col0\" class=\"data row5 col0\" >11%</td>\n",
       "      <td id=\"T_0da5f_row5_col1\" class=\"data row5 col1\" >7%</td>\n",
       "    </tr>\n",
       "    <tr>\n",
       "      <th id=\"T_0da5f_level0_row6\" class=\"row_heading level0 row6\" >PTEN_0</th>\n",
       "      <td id=\"T_0da5f_row6_col0\" class=\"data row6 col0\" >2%</td>\n",
       "      <td id=\"T_0da5f_row6_col1\" class=\"data row6 col1\" >0%</td>\n",
       "    </tr>\n",
       "    <tr>\n",
       "      <th id=\"T_0da5f_level0_row7\" class=\"row_heading level0 row7\" >PTEN_1</th>\n",
       "      <td id=\"T_0da5f_row7_col0\" class=\"data row7 col0\" >10%</td>\n",
       "      <td id=\"T_0da5f_row7_col1\" class=\"data row7 col1\" >1%</td>\n",
       "    </tr>\n",
       "    <tr>\n",
       "      <th id=\"T_0da5f_level0_row8\" class=\"row_heading level0 row8\" >EGFR_0</th>\n",
       "      <td id=\"T_0da5f_row8_col0\" class=\"data row8 col0\" >2%</td>\n",
       "      <td id=\"T_0da5f_row8_col1\" class=\"data row8 col1\" >0%</td>\n",
       "    </tr>\n",
       "    <tr>\n",
       "      <th id=\"T_0da5f_level0_row9\" class=\"row_heading level0 row9\" >EGFR_1</th>\n",
       "      <td id=\"T_0da5f_row9_col0\" class=\"data row9 col0\" >10%</td>\n",
       "      <td id=\"T_0da5f_row9_col1\" class=\"data row9 col1\" >0%</td>\n",
       "    </tr>\n",
       "    <tr>\n",
       "      <th id=\"T_0da5f_level0_row10\" class=\"row_heading level0 row10\" >CIC_0</th>\n",
       "      <td id=\"T_0da5f_row10_col0\" class=\"data row10 col0\" >0%</td>\n",
       "      <td id=\"T_0da5f_row10_col1\" class=\"data row10 col1\" >4%</td>\n",
       "    </tr>\n",
       "    <tr>\n",
       "      <th id=\"T_0da5f_level0_row11\" class=\"row_heading level0 row11\" >CIC_1</th>\n",
       "      <td id=\"T_0da5f_row11_col0\" class=\"data row11 col0\" >1%</td>\n",
       "      <td id=\"T_0da5f_row11_col1\" class=\"data row11 col1\" >26%</td>\n",
       "    </tr>\n",
       "    <tr>\n",
       "      <th id=\"T_0da5f_level0_row12\" class=\"row_heading level0 row12\" >MUC16_0</th>\n",
       "      <td id=\"T_0da5f_row12_col0\" class=\"data row12 col0\" >0%</td>\n",
       "      <td id=\"T_0da5f_row12_col1\" class=\"data row12 col1\" >0%</td>\n",
       "    </tr>\n",
       "    <tr>\n",
       "      <th id=\"T_0da5f_level0_row13\" class=\"row_heading level0 row13\" >MUC16_1</th>\n",
       "      <td id=\"T_0da5f_row13_col0\" class=\"data row13 col0\" >1%</td>\n",
       "      <td id=\"T_0da5f_row13_col1\" class=\"data row13 col1\" >0%</td>\n",
       "    </tr>\n",
       "    <tr>\n",
       "      <th id=\"T_0da5f_level0_row14\" class=\"row_heading level0 row14\" >PIK3CA_0</th>\n",
       "      <td id=\"T_0da5f_row14_col0\" class=\"data row14 col0\" >0%</td>\n",
       "      <td id=\"T_0da5f_row14_col1\" class=\"data row14 col1\" >0%</td>\n",
       "    </tr>\n",
       "    <tr>\n",
       "      <th id=\"T_0da5f_level0_row15\" class=\"row_heading level0 row15\" >PIK3CA_1</th>\n",
       "      <td id=\"T_0da5f_row15_col0\" class=\"data row15 col0\" >0%</td>\n",
       "      <td id=\"T_0da5f_row15_col1\" class=\"data row15 col1\" >3%</td>\n",
       "    </tr>\n",
       "    <tr>\n",
       "      <th id=\"T_0da5f_level0_row16\" class=\"row_heading level0 row16\" >NF1_0</th>\n",
       "      <td id=\"T_0da5f_row16_col0\" class=\"data row16 col0\" >0%</td>\n",
       "      <td id=\"T_0da5f_row16_col1\" class=\"data row16 col1\" >0%</td>\n",
       "    </tr>\n",
       "    <tr>\n",
       "      <th id=\"T_0da5f_level0_row17\" class=\"row_heading level0 row17\" >NF1_1</th>\n",
       "      <td id=\"T_0da5f_row17_col0\" class=\"data row17 col0\" >4%</td>\n",
       "      <td id=\"T_0da5f_row17_col1\" class=\"data row17 col1\" >0%</td>\n",
       "    </tr>\n",
       "    <tr>\n",
       "      <th id=\"T_0da5f_level0_row18\" class=\"row_heading level0 row18\" >PIK3R1_0</th>\n",
       "      <td id=\"T_0da5f_row18_col0\" class=\"data row18 col0\" >0%</td>\n",
       "      <td id=\"T_0da5f_row18_col1\" class=\"data row18 col1\" >0%</td>\n",
       "    </tr>\n",
       "    <tr>\n",
       "      <th id=\"T_0da5f_level0_row19\" class=\"row_heading level0 row19\" >PIK3R1_1</th>\n",
       "      <td id=\"T_0da5f_row19_col0\" class=\"data row19 col0\" >1%</td>\n",
       "      <td id=\"T_0da5f_row19_col1\" class=\"data row19 col1\" >1%</td>\n",
       "    </tr>\n",
       "    <tr>\n",
       "      <th id=\"T_0da5f_level0_row20\" class=\"row_heading level0 row20\" >FUBP1_0</th>\n",
       "      <td id=\"T_0da5f_row20_col0\" class=\"data row20 col0\" >0%</td>\n",
       "      <td id=\"T_0da5f_row20_col1\" class=\"data row20 col1\" >1%</td>\n",
       "    </tr>\n",
       "    <tr>\n",
       "      <th id=\"T_0da5f_level0_row21\" class=\"row_heading level0 row21\" >FUBP1_1</th>\n",
       "      <td id=\"T_0da5f_row21_col0\" class=\"data row21 col0\" >1%</td>\n",
       "      <td id=\"T_0da5f_row21_col1\" class=\"data row21 col1\" >23%</td>\n",
       "    </tr>\n",
       "    <tr>\n",
       "      <th id=\"T_0da5f_level0_row22\" class=\"row_heading level0 row22\" >RB1_0</th>\n",
       "      <td id=\"T_0da5f_row22_col0\" class=\"data row22 col0\" >0%</td>\n",
       "      <td id=\"T_0da5f_row22_col1\" class=\"data row22 col1\" >0%</td>\n",
       "    </tr>\n",
       "    <tr>\n",
       "      <th id=\"T_0da5f_level0_row23\" class=\"row_heading level0 row23\" >RB1_1</th>\n",
       "      <td id=\"T_0da5f_row23_col0\" class=\"data row23 col0\" >4%</td>\n",
       "      <td id=\"T_0da5f_row23_col1\" class=\"data row23 col1\" >0%</td>\n",
       "    </tr>\n",
       "    <tr>\n",
       "      <th id=\"T_0da5f_level0_row24\" class=\"row_heading level0 row24\" >NOTCH1_0</th>\n",
       "      <td id=\"T_0da5f_row24_col0\" class=\"data row24 col0\" >0%</td>\n",
       "      <td id=\"T_0da5f_row24_col1\" class=\"data row24 col1\" >1%</td>\n",
       "    </tr>\n",
       "    <tr>\n",
       "      <th id=\"T_0da5f_level0_row25\" class=\"row_heading level0 row25\" >NOTCH1_1</th>\n",
       "      <td id=\"T_0da5f_row25_col0\" class=\"data row25 col0\" >1%</td>\n",
       "      <td id=\"T_0da5f_row25_col1\" class=\"data row25 col1\" >11%</td>\n",
       "    </tr>\n",
       "    <tr>\n",
       "      <th id=\"T_0da5f_level0_row26\" class=\"row_heading level0 row26\" >BCOR_0</th>\n",
       "      <td id=\"T_0da5f_row26_col0\" class=\"data row26 col0\" >0%</td>\n",
       "      <td id=\"T_0da5f_row26_col1\" class=\"data row26 col1\" >0%</td>\n",
       "    </tr>\n",
       "    <tr>\n",
       "      <th id=\"T_0da5f_level0_row27\" class=\"row_heading level0 row27\" >BCOR_1</th>\n",
       "      <td id=\"T_0da5f_row27_col0\" class=\"data row27 col0\" >0%</td>\n",
       "      <td id=\"T_0da5f_row27_col1\" class=\"data row27 col1\" >1%</td>\n",
       "    </tr>\n",
       "    <tr>\n",
       "      <th id=\"T_0da5f_level0_row28\" class=\"row_heading level0 row28\" >CSMD3_0</th>\n",
       "      <td id=\"T_0da5f_row28_col0\" class=\"data row28 col0\" >0%</td>\n",
       "      <td id=\"T_0da5f_row28_col1\" class=\"data row28 col1\" >0%</td>\n",
       "    </tr>\n",
       "    <tr>\n",
       "      <th id=\"T_0da5f_level0_row29\" class=\"row_heading level0 row29\" >CSMD3_1</th>\n",
       "      <td id=\"T_0da5f_row29_col0\" class=\"data row29 col0\" >1%</td>\n",
       "      <td id=\"T_0da5f_row29_col1\" class=\"data row29 col1\" >0%</td>\n",
       "    </tr>\n",
       "    <tr>\n",
       "      <th id=\"T_0da5f_level0_row30\" class=\"row_heading level0 row30\" >SMARCA4_0</th>\n",
       "      <td id=\"T_0da5f_row30_col0\" class=\"data row30 col0\" >0%</td>\n",
       "      <td id=\"T_0da5f_row30_col1\" class=\"data row30 col1\" >0%</td>\n",
       "    </tr>\n",
       "    <tr>\n",
       "      <th id=\"T_0da5f_level0_row31\" class=\"row_heading level0 row31\" >SMARCA4_1</th>\n",
       "      <td id=\"T_0da5f_row31_col0\" class=\"data row31 col0\" >0%</td>\n",
       "      <td id=\"T_0da5f_row31_col1\" class=\"data row31 col1\" >0%</td>\n",
       "    </tr>\n",
       "    <tr>\n",
       "      <th id=\"T_0da5f_level0_row32\" class=\"row_heading level0 row32\" >GRIN2A_0</th>\n",
       "      <td id=\"T_0da5f_row32_col0\" class=\"data row32 col0\" >0%</td>\n",
       "      <td id=\"T_0da5f_row32_col1\" class=\"data row32 col1\" >0%</td>\n",
       "    </tr>\n",
       "    <tr>\n",
       "      <th id=\"T_0da5f_level0_row33\" class=\"row_heading level0 row33\" >GRIN2A_1</th>\n",
       "      <td id=\"T_0da5f_row33_col0\" class=\"data row33 col0\" >3%</td>\n",
       "      <td id=\"T_0da5f_row33_col1\" class=\"data row33 col1\" >0%</td>\n",
       "    </tr>\n",
       "    <tr>\n",
       "      <th id=\"T_0da5f_level0_row34\" class=\"row_heading level0 row34\" >IDH2_0</th>\n",
       "      <td id=\"T_0da5f_row34_col0\" class=\"data row34 col0\" >0%</td>\n",
       "      <td id=\"T_0da5f_row34_col1\" class=\"data row34 col1\" >0%</td>\n",
       "    </tr>\n",
       "    <tr>\n",
       "      <th id=\"T_0da5f_level0_row35\" class=\"row_heading level0 row35\" >IDH2_1</th>\n",
       "      <td id=\"T_0da5f_row35_col0\" class=\"data row35 col0\" >0%</td>\n",
       "      <td id=\"T_0da5f_row35_col1\" class=\"data row35 col1\" >2%</td>\n",
       "    </tr>\n",
       "    <tr>\n",
       "      <th id=\"T_0da5f_level0_row36\" class=\"row_heading level0 row36\" >FAT4_0</th>\n",
       "      <td id=\"T_0da5f_row36_col0\" class=\"data row36 col0\" >0%</td>\n",
       "      <td id=\"T_0da5f_row36_col1\" class=\"data row36 col1\" >0%</td>\n",
       "    </tr>\n",
       "    <tr>\n",
       "      <th id=\"T_0da5f_level0_row37\" class=\"row_heading level0 row37\" >FAT4_1</th>\n",
       "      <td id=\"T_0da5f_row37_col0\" class=\"data row37 col0\" >1%</td>\n",
       "      <td id=\"T_0da5f_row37_col1\" class=\"data row37 col1\" >1%</td>\n",
       "    </tr>\n",
       "    <tr>\n",
       "      <th id=\"T_0da5f_level0_row38\" class=\"row_heading level0 row38\" >PDGFRA_0</th>\n",
       "      <td id=\"T_0da5f_row38_col0\" class=\"data row38 col0\" >0%</td>\n",
       "      <td id=\"T_0da5f_row38_col1\" class=\"data row38 col1\" >0%</td>\n",
       "    </tr>\n",
       "    <tr>\n",
       "      <th id=\"T_0da5f_level0_row39\" class=\"row_heading level0 row39\" >PDGFRA_1</th>\n",
       "      <td id=\"T_0da5f_row39_col0\" class=\"data row39 col0\" >1%</td>\n",
       "      <td id=\"T_0da5f_row39_col1\" class=\"data row39 col1\" >0%</td>\n",
       "    </tr>\n",
       "  </tbody>\n",
       "</table>\n"
      ],
      "text/plain": [
       "<pandas.io.formats.style.Styler at 0x7f9fe101b2b0>"
      ]
     },
     "execution_count": 24,
     "metadata": {},
     "output_type": "execute_result"
    }
   ],
   "source": [
    "# Explained variance by each column\n",
    "mca.column_contributions_.style.format('{:.0%}')"
   ]
  },
  {
   "cell_type": "markdown",
   "metadata": {},
   "source": [
    "## Model Selection"
   ]
  },
  {
   "cell_type": "code",
   "execution_count": 25,
   "metadata": {},
   "outputs": [],
   "source": [
    "# Remove column 'most commonly mutated genes' from dataframe before fitting model, otherwise string error\n",
    "df = df.iloc[:, :-16]"
   ]
  },
  {
   "cell_type": "code",
   "execution_count": 26,
   "metadata": {},
   "outputs": [
    {
     "data": {
      "text/plain": [
       "0    488\n",
       "1    352\n",
       "Name: Grade, dtype: int64"
      ]
     },
     "execution_count": 26,
     "metadata": {},
     "output_type": "execute_result"
    }
   ],
   "source": [
    "# Define label and features\n",
    "X = df.drop(columns=['Grade'])\n",
    "y = df['Grade']\n",
    "y.value_counts()"
   ]
  },
  {
   "cell_type": "code",
   "execution_count": 27,
   "metadata": {},
   "outputs": [],
   "source": [
    "# Split data into train and test sets\n",
    "X_train, X_test, y_train, y_test = train_test_split(X, y, test_size=0.3, shuffle=True)"
   ]
  },
  {
   "cell_type": "code",
   "execution_count": 28,
   "metadata": {},
   "outputs": [],
   "source": [
    "# Creating a list of potential models: \n",
    "models = []\n",
    "model1 = LogisticRegression()\n",
    "models.append(model1)\n",
    "model2 = tree.DecisionTreeClassifier()\n",
    "models.append(model2)\n",
    "model3 = RandomForestClassifier()\n",
    "models.append(model3)\n",
    "model4 = AdaBoostClassifier()\n",
    "models.append(model4)"
   ]
  },
  {
   "cell_type": "code",
   "execution_count": 29,
   "metadata": {},
   "outputs": [
    {
     "name": "stdout",
     "output_type": "stream",
     "text": [
      "LogisticRegression()\n",
      "Accuracy of LogisticRegression() is 0.8611111111111112\n",
      "Recall (sensitivity) of LogisticRegression() is 0.9181818181818182\n"
     ]
    },
    {
     "data": {
      "image/png": "[encoded data removed]",
      "text/plain": [
       "<Figure size 432x288 with 2 Axes>"
      ]
     },
     "metadata": {
      "needs_background": "light"
     },
     "output_type": "display_data"
    },
    {
     "name": "stdout",
     "output_type": "stream",
     "text": [
      "ROC AUC score of LogisticRegression() is 0.8675416133162613\n"
     ]
    },
    {
     "data": {
      "image/png": "[encoded data removed]",
      "text/plain": [
       "<Figure size 360x360 with 1 Axes>"
      ]
     },
     "metadata": {
      "needs_background": "light"
     },
     "output_type": "display_data"
    },
    {
     "name": "stdout",
     "output_type": "stream",
     "text": [
      "-------------------------------------------------------\n",
      "DecisionTreeClassifier()\n",
      "Accuracy of DecisionTreeClassifier() is 0.7817460317460317\n",
      "Recall (sensitivity) of DecisionTreeClassifier() is 0.7272727272727273\n"
     ]
    },
    {
     "data": {
      "image/png": "[encoded data removed]",
      "text/plain": [
       "<Figure size 432x288 with 2 Axes>"
      ]
     },
     "metadata": {
      "needs_background": "light"
     },
     "output_type": "display_data"
    },
    {
     "name": "stdout",
     "output_type": "stream",
     "text": [
      "ROC AUC score of DecisionTreeClassifier() is 0.7756081946222791\n"
     ]
    },
    {
     "data": {
      "image/png": "[encoded data removed]",
      "text/plain": [
       "<Figure size 360x360 with 1 Axes>"
      ]
     },
     "metadata": {
      "needs_background": "light"
     },
     "output_type": "display_data"
    },
    {
     "name": "stdout",
     "output_type": "stream",
     "text": [
      "-------------------------------------------------------\n",
      "RandomForestClassifier()\n",
      "Accuracy of RandomForestClassifier() is 0.8174603174603174\n",
      "Recall (sensitivity) of RandomForestClassifier() is 0.8090909090909091\n"
     ]
    },
    {
     "data": {
      "image/png": "[encoded data removed]",
      "text/plain": [
       "<Figure size 432x288 with 2 Axes>"
      ]
     },
     "metadata": {
      "needs_background": "light"
     },
     "output_type": "display_data"
    },
    {
     "name": "stdout",
     "output_type": "stream",
     "text": [
      "ROC AUC score of RandomForestClassifier() is 0.81651728553137\n"
     ]
    },
    {
     "data": {
      "image/png": "[encoded data removed]",
      "text/plain": [
       "<Figure size 360x360 with 1 Axes>"
      ]
     },
     "metadata": {
      "needs_background": "light"
     },
     "output_type": "display_data"
    },
    {
     "name": "stdout",
     "output_type": "stream",
     "text": [
      "-------------------------------------------------------\n",
      "AdaBoostClassifier()\n",
      "Accuracy of AdaBoostClassifier() is 0.8571428571428571\n",
      "Recall (sensitivity) of AdaBoostClassifier() is 0.8909090909090909\n"
     ]
    },
    {
     "data": {
      "image/png": "[encoded data removed]",
      "text/plain": [
       "<Figure size 432x288 with 2 Axes>"
      ]
     },
     "metadata": {
      "needs_background": "light"
     },
     "output_type": "display_data"
    },
    {
     "name": "stdout",
     "output_type": "stream",
     "text": [
      "ROC AUC score of AdaBoostClassifier() is 0.8609475032010243\n"
     ]
    },
    {
     "data": {
      "image/png": "[encoded data removed]",
      "text/plain": [
       "<Figure size 360x360 with 1 Axes>"
      ]
     },
     "metadata": {
      "needs_background": "light"
     },
     "output_type": "display_data"
    },
    {
     "name": "stdout",
     "output_type": "stream",
     "text": [
      "-------------------------------------------------------\n"
     ]
    }
   ],
   "source": [
    "dict = {} # Creating dict for storing model's accuracy \n",
    "\n",
    "# Model evaluation with accuracy, cm, f1, roc scores\n",
    "for model in models:\n",
    "    print(model)\n",
    "    model.fit(X_train, y_train)\n",
    "    y_pred = model.predict(X_test)\n",
    "\n",
    "    accuracy = accuracy_score(y_test, y_pred)\n",
    "    recall = recall_score(y_test, y_pred)\n",
    "    \n",
    "    dict[model] = round(recall, 2) # Add key-value pair to the dictionary\n",
    "    print(f\"Accuracy of {model} is {accuracy}\")\n",
    "    print(f'Recall (sensitivity) of {model} is {recall}')\n",
    "\n",
    "    cm = confusion_matrix(y_test, y_pred, labels = model.classes_)\n",
    "    disp = ConfusionMatrixDisplay(confusion_matrix = cm, display_labels = model.classes_)\n",
    "    disp.plot()\n",
    "    plt.show()\n",
    "\n",
    "    roc_auc = roc_auc_score(y_test, y_pred)\n",
    "    print(f\"ROC AUC score of {model} is {roc_auc}\")\n",
    "\n",
    "    # Compute ROC curve and AUC\n",
    "    fpr, tpr, thresholds = roc_curve(y_test, y_pred)\n",
    "    roc_auc = auc(fpr, tpr)\n",
    "\n",
    "    # Plot ROC curve\n",
    "    plt.figure(figsize=(5, 5))\n",
    "    plt.plot(fpr, tpr, color='darkorange', lw=2, label='ROC curve (area = {:.2f})'.format(roc_auc))\n",
    "    plt.plot([0, 1], [0, 1], color='navy', lw=2, linestyle='--')\n",
    "    plt.xlabel('False Positive Rate (FPR)')\n",
    "    plt.ylabel('True Positive Rate (TPR)')\n",
    "    plt.title(f'ROC Curve for {model}')\n",
    "    plt.legend(loc='lower right')\n",
    "    plt.show()\n",
    "    print(\"-------------------------------------------------------\")"
   ]
  },
  {
   "cell_type": "code",
   "execution_count": 30,
   "metadata": {},
   "outputs": [
    {
     "name": "stdout",
     "output_type": "stream",
     "text": [
      "The two models with best recall are {LogisticRegression(): 0.92, AdaBoostClassifier(): 0.89}\n"
     ]
    }
   ],
   "source": [
    "# Getting first two models with the best recall\n",
    "sorted_dict = OrderedDict(sorted(dict.items(), key = itemgetter(1), reverse = True))\n",
    "first2pairs = {k: sorted_dict[k] for k in list(sorted_dict)[:2]}\n",
    "print(f'The two models with best recall are {first2pairs}')"
   ]
  },
  {
   "cell_type": "code",
   "execution_count": 31,
   "metadata": {},
   "outputs": [
    {
     "data": {
      "text/plain": [
       "[LogisticRegression(), AdaBoostClassifier()]"
      ]
     },
     "execution_count": 31,
     "metadata": {},
     "output_type": "execute_result"
    }
   ],
   "source": [
    "# Removing models from models list that didnt performe well\n",
    "keys = first2pairs.keys()\n",
    "models = [model for model in models if model in keys]\n",
    "models"
   ]
  },
  {
   "cell_type": "markdown",
   "metadata": {},
   "source": [
    "## Cross validation for both models, accuracy and recall"
   ]
  },
  {
   "cell_type": "code",
   "execution_count": 32,
   "metadata": {},
   "outputs": [
    {
     "name": "stdout",
     "output_type": "stream",
     "text": [
      "\n",
      "                Accuracy of LogisticRegression() for 5 splits is 0.84863 \n",
      "                Recall of LogisticRegression() for 5 splits is 0.88861 \n",
      "            \n",
      "\n",
      "                Accuracy of AdaBoostClassifier() for 5 splits is 0.81456 \n",
      "                Recall of AdaBoostClassifier() for 5 splits is 0.83946 \n",
      "            \n",
      "                ---------------------------------------------------------------\n",
      "\n",
      "                Accuracy of LogisticRegression() for 10 splits is 0.84369 \n",
      "                Recall of LogisticRegression() for 10 splits is 0.88467 \n",
      "            \n",
      "\n",
      "                Accuracy of AdaBoostClassifier() for 10 splits is 0.84182 \n",
      "                Recall of AdaBoostClassifier() for 10 splits is 0.84267 \n",
      "            \n",
      "                ---------------------------------------------------------------\n"
     ]
    }
   ],
   "source": [
    "# Cross validation (ACCURACY, keeping for paper comparison)\n",
    "splits = [5, 10] # Trying 5 and 10 folds\n",
    "dict_cv_accuracy = {} # Creating dict for storing model's accuracy\n",
    "dict_cv_recall = {} # Creating dict for storing model's recall\n",
    "for i in splits:\n",
    "    kf = StratifiedKFold(n_splits = i, shuffle = True) # random_state = 42)\n",
    "    for model in models:\n",
    "        name = '{}_{}'.format(model, i)\n",
    "        accuracy = cross_val_score(model, X_train, y_train, cv=kf, scoring='accuracy').mean()\n",
    "        dict_cv_accuracy[name] = accuracy\n",
    "        recall = cross_val_score(model, X_train, y_train, cv=kf, scoring='recall').mean()\n",
    "        dict_cv_recall[name] = recall\n",
    "        print(f'''\n",
    "                Accuracy of {model} for {i} splits is {round(accuracy.mean(), 5)} \n",
    "                Recall of {model} for {i} splits is {round(recall.mean(), 5)} \n",
    "            ''')\n",
    "    print(\"                ---------------------------------------------------------------\")"
   ]
  },
  {
   "cell_type": "code",
   "execution_count": 33,
   "metadata": {},
   "outputs": [
    {
     "data": {
      "text/plain": [
       "OrderedDict([('LogisticRegression()_5', 0.8486310299869622),\n",
       "             ('LogisticRegression()_10', 0.843687901811806),\n",
       "             ('AdaBoostClassifier()_10', 0.8418176504967855),\n",
       "             ('AdaBoostClassifier()_5', 0.8145588874402433)])"
      ]
     },
     "execution_count": 33,
     "metadata": {},
     "output_type": "execute_result"
    }
   ],
   "source": [
    "# Getting first two models with the best accuracy\n",
    "sorted_dict_cv = OrderedDict(sorted(dict_cv_accuracy.items(), key = itemgetter(1), reverse = True))\n",
    "sorted_dict_cv"
   ]
  },
  {
   "cell_type": "code",
   "execution_count": 34,
   "metadata": {},
   "outputs": [
    {
     "data": {
      "text/plain": [
       "OrderedDict([('LogisticRegression()_5', 0.8886054421768709),\n",
       "             ('LogisticRegression()_10', 0.8846666666666667),\n",
       "             ('AdaBoostClassifier()_10', 0.8426666666666666),\n",
       "             ('AdaBoostClassifier()_5', 0.8394557823129251)])"
      ]
     },
     "execution_count": 34,
     "metadata": {},
     "output_type": "execute_result"
    }
   ],
   "source": [
    "# Getting first two models with the best recall\n",
    "sorted_dict_cv = OrderedDict(sorted(dict_cv_recall.items(), key = itemgetter(1), reverse = True))\n",
    "sorted_dict_cv"
   ]
  },
  {
   "cell_type": "markdown",
   "metadata": {},
   "source": [
    "# Logistic regression"
   ]
  },
  {
   "cell_type": "markdown",
   "metadata": {},
   "source": [
    "## GridSearch for Logistic Regression, accuracy"
   ]
  },
  {
   "cell_type": "code",
   "execution_count": 35,
   "metadata": {},
   "outputs": [],
   "source": [
    "kf_10 = StratifiedKFold(n_splits = 10, shuffle=True, random_state=42)\n",
    "kf_5 = StratifiedKFold(n_splits = 10, shuffle=True, random_state=42)"
   ]
  },
  {
   "cell_type": "code",
   "execution_count": 36,
   "metadata": {},
   "outputs": [
    {
     "name": "stdout",
     "output_type": "stream",
     "text": [
      "Best parameters: {'C': 0.0001, 'penalty': 'none', 'solver': 'lbfgs'}\n",
      "Best cross-validation score: 0.8485973115137349\n"
     ]
    }
   ],
   "source": [
    "# GridSearchCV for logistic regression\n",
    "\n",
    "param_grid = {'penalty' : ['l1', 'l2', 'elasticnet', 'none'],\n",
    "    'C': np.logspace(-4, 4, 20), #more granular params bc evenly dsitributed in logspace\n",
    "    'solver' : ['lbfgs', 'newton-cg', 'liblinear', 'sag', 'saga']\n",
    "    }\n",
    "\n",
    "grid_search = GridSearchCV(estimator = models[0],\n",
    "                           param_grid = param_grid,\n",
    "                           scoring = 'accuracy',\n",
    "                           cv = kf_10).fit(X_train, y_train)\n",
    "\n",
    "# Get the best estimator\n",
    "best_model = grid_search.best_estimator_\n",
    "\n",
    "print(f\"Best parameters: {grid_search.best_params_}\")\n",
    "print(f\"Best cross-validation score: {grid_search.best_score_}\")"
   ]
  },
  {
   "cell_type": "code",
   "execution_count": 37,
   "metadata": {},
   "outputs": [
    {
     "name": "stdout",
     "output_type": "stream",
     "text": [
      "Previous accuracy of LogisticRegression is 0.8611111111111112\n",
      "Accuracy did not improve after gridsearch\n"
     ]
    }
   ],
   "source": [
    "# y_pred with the best parameters from GridSearchCV\n",
    "y_pred_accuracy = best_model.predict(X_test)\n",
    "\n",
    "accuracy_gs = accuracy_score(y_test, y_pred_accuracy)\n",
    "y_pred = models[0].predict(X_test)\n",
    "prev_accuracy = accuracy_score(y_test, y_pred)\n",
    "print(f\"Previous accuracy of LogisticRegression is {prev_accuracy}\")\n",
    "\n",
    "if accuracy_gs > prev_accuracy:\n",
    "    print(\"Accuracy improved after GridSearch\")\n",
    "    print(f'GridSearch accuracy is {accuracy_gs}')\n",
    "else: \n",
    "    print(\"Accuracy did not improve after gridsearch\")"
   ]
  },
  {
   "cell_type": "markdown",
   "metadata": {},
   "source": [
    "## RandomSearch for Logistic Regression, accuracy"
   ]
  },
  {
   "cell_type": "code",
   "execution_count": 38,
   "metadata": {},
   "outputs": [
    {
     "name": "stdout",
     "output_type": "stream",
     "text": [
      "Best parameters: {'solver': 'lbfgs', 'penalty': 'none', 'C': 1.623776739188721}\n",
      "Best cross-validation score: 0.8485973115137349\n"
     ]
    }
   ],
   "source": [
    "#Randomsearch for logistic regression\n",
    "\n",
    "param_grid = [    \n",
    "    {'penalty' : ['l1', 'l2', 'elasticnet', 'none'],\n",
    "    'C': np.logspace(-4, 4, 20),\n",
    "    'solver' : ['lbfgs', 'newton-cg', 'liblinear', 'sag', 'saga']\n",
    "    }\n",
    "]\n",
    "\n",
    "randomized_search = RandomizedSearchCV(estimator = models[0],\n",
    "                           param_distributions = param_grid,\n",
    "                           scoring = 'accuracy',\n",
    "                           cv = kf_10).fit(X_train, y_train)\n",
    "\n",
    "# Get the best estimator\n",
    "best_model_rs = randomized_search.best_estimator_\n",
    "\n",
    "print(f\"Best parameters: {randomized_search.best_params_}\")\n",
    "print(f\"Best cross-validation score: {randomized_search.best_score_}\")"
   ]
  },
  {
   "cell_type": "code",
   "execution_count": 39,
   "metadata": {},
   "outputs": [
    {
     "name": "stdout",
     "output_type": "stream",
     "text": [
      "Previous accuracy of LogisticRegression is 0.8611111111111112\n",
      "Accuracy did not improve after Random Search\n"
     ]
    }
   ],
   "source": [
    "y_pred_accuracy_rs = best_model_rs.predict(X_test)\n",
    "accuracy_rs = accuracy_score(y_test, y_pred_accuracy_rs)\n",
    "\n",
    "y_pred = models[0].predict(X_test)\n",
    "prev_accuracy = accuracy_score(y_test, y_pred)\n",
    "print(f\"Previous accuracy of LogisticRegression is {prev_accuracy}\")\n",
    "\n",
    "if accuracy_rs > prev_accuracy:\n",
    "    print(\"Accuracy improved after Random Search\")\n",
    "    print(f'Random Search accuracy is {accuracy_rs}')\n",
    "else: \n",
    "    print(\"Accuracy did not improve after Random Search\")"
   ]
  },
  {
   "cell_type": "markdown",
   "metadata": {},
   "source": [
    "________________________________________________________________________________________________________________________"
   ]
  },
  {
   "cell_type": "markdown",
   "metadata": {},
   "source": [
    "## GridSearch for logistic regression, recall"
   ]
  },
  {
   "cell_type": "code",
   "execution_count": 40,
   "metadata": {},
   "outputs": [
    {
     "name": "stdout",
     "output_type": "stream",
     "text": [
      "Best parameters: {'C': 0.03359818286283781, 'penalty': 'l1', 'solver': 'liblinear'}\n",
      "Best cross-validation score: 0.9215\n"
     ]
    }
   ],
   "source": [
    "# GridSearchCV for logistic regression\n",
    "\n",
    "param_grid = [    \n",
    "    {'penalty' : ['l1', 'l2', 'elasticnet', 'none'],\n",
    "    'C': np.logspace(-4, 4, 20), #more granular params bc evenly dsitributed in logspace\n",
    "    'solver' : ['lbfgs', 'newton-cg', 'liblinear', 'sag', 'saga']\n",
    "    }\n",
    "]\n",
    "\n",
    "grid_search = GridSearchCV(estimator = models[0],\n",
    "                           param_grid = param_grid,\n",
    "                           scoring = 'recall',\n",
    "                           cv = kf_10).fit(X_train, y_train)\n",
    "\n",
    "# Get the best estimator\n",
    "best_model = grid_search.best_estimator_\n",
    "\n",
    "print(f\"Best parameters: {grid_search.best_params_}\")\n",
    "print(f\"Best cross-validation score: {grid_search.best_score_}\")"
   ]
  },
  {
   "cell_type": "code",
   "execution_count": 41,
   "metadata": {},
   "outputs": [
    {
     "data": {
      "image/png": "[encoded data removed]",
      "text/plain": [
       "<Figure size 432x288 with 2 Axes>"
      ]
     },
     "metadata": {
      "needs_background": "light"
     },
     "output_type": "display_data"
    },
    {
     "data": {
      "image/png": "[encoded data removed]",
      "text/plain": [
       "<Figure size 360x360 with 1 Axes>"
      ]
     },
     "metadata": {
      "needs_background": "light"
     },
     "output_type": "display_data"
    },
    {
     "name": "stdout",
     "output_type": "stream",
     "text": [
      "Recall of new LogisticRegression is 0.9636363636363636\n"
     ]
    }
   ],
   "source": [
    "# y_pred with the best recall parameters from GridSearchCV\n",
    "y_pred_recall = best_model.predict(X_test)\n",
    "\n",
    "recall_gs = recall_score(y_test, y_pred_recall)\n",
    "cm = confusion_matrix(y_test, y_pred_recall, labels = models[0].classes_)\n",
    "disp = ConfusionMatrixDisplay(confusion_matrix = cm, display_labels = models[0].classes_)\n",
    "disp.plot()\n",
    "plt.show()\n",
    "\n",
    "# Compute ROC curve and AUC\n",
    "fpr, tpr, thresholds = roc_curve(y_test, y_pred_recall)\n",
    "roc_auc = auc(fpr, tpr)\n",
    "\n",
    "# Plot ROC curve\n",
    "plt.figure(figsize=(5, 5))\n",
    "plt.plot(fpr, tpr, color='darkorange', lw=2, label='ROC curve (area = {:.2f})'.format(roc_auc))\n",
    "plt.plot([0, 1], [0, 1], color='navy', lw=2, linestyle='--')\n",
    "plt.xlabel('False Positive Rate (FPR)')\n",
    "plt.ylabel('True Positive Rate (TPR)')\n",
    "plt.title(f'ROC Curve for {models[0]}')\n",
    "plt.legend(loc='lower right')\n",
    "plt.show()\n",
    "print(f\"Recall of new LogisticRegression is {recall_gs}\")"
   ]
  },
  {
   "cell_type": "code",
   "execution_count": 42,
   "metadata": {},
   "outputs": [
    {
     "name": "stdout",
     "output_type": "stream",
     "text": [
      "Previous recall of LogisticRegression is 0.9181818181818182\n",
      "Recall improved after GridSearch\n",
      "Random Search recall is 0.9636363636363636\n"
     ]
    }
   ],
   "source": [
    "y_pred = models[0].predict(X_test)\n",
    "prev_accuracy = recall_score(y_test, y_pred)\n",
    "print(f\"Previous recall of LogisticRegression is {prev_accuracy}\")\n",
    "\n",
    "if recall_gs > prev_accuracy:\n",
    "    print(\"Recall improved after GridSearch\")\n",
    "    print(f'Random Search recall is {recall_gs}')\n",
    "else: \n",
    "    print(\"Recall did not improve after Random Search\")"
   ]
  },
  {
   "cell_type": "markdown",
   "metadata": {},
   "source": [
    "## RandomSearch for Logistic Regression, recall"
   ]
  },
  {
   "cell_type": "code",
   "execution_count": 43,
   "metadata": {},
   "outputs": [
    {
     "name": "stdout",
     "output_type": "stream",
     "text": [
      "Best parameters: {'solver': 'saga', 'penalty': 'none', 'C': 10000.0}\n",
      "Best cross-validation score: 0.8888333333333334\n"
     ]
    }
   ],
   "source": [
    "#Randomsearch for logistic regression\n",
    "\n",
    "param_grid = [    \n",
    "    {'penalty' : ['l1', 'l2', 'elasticnet', 'none'],\n",
    "    'C': np.logspace(-4, 4, 20),\n",
    "    'solver' : ['lbfgs', 'newton-cg', 'liblinear', 'sag', 'saga']\n",
    "    }\n",
    "]\n",
    "\n",
    "randomized_search = RandomizedSearchCV(estimator = models[0],\n",
    "                           param_distributions = param_grid,\n",
    "                           scoring = 'recall',\n",
    "                           cv = kf_10).fit(X_train, y_train)\n",
    "\n",
    "# Get the best estimator\n",
    "best_model_rs = randomized_search.best_estimator_\n",
    "\n",
    "print(f\"Best parameters: {randomized_search.best_params_}\")\n",
    "print(f\"Best cross-validation score: {randomized_search.best_score_}\")"
   ]
  },
  {
   "cell_type": "code",
   "execution_count": 44,
   "metadata": {},
   "outputs": [
    {
     "data": {
      "image/png": "[encoded data removed]",
      "text/plain": [
       "<Figure size 432x288 with 2 Axes>"
      ]
     },
     "metadata": {
      "needs_background": "light"
     },
     "output_type": "display_data"
    },
    {
     "data": {
      "image/png": "[encoded data removed]",
      "text/plain": [
       "<Figure size 360x360 with 1 Axes>"
      ]
     },
     "metadata": {
      "needs_background": "light"
     },
     "output_type": "display_data"
    },
    {
     "name": "stdout",
     "output_type": "stream",
     "text": [
      "Accuracy of new LogisticRegression is 0.8531746031746031\n"
     ]
    }
   ],
   "source": [
    "#now use best parameters from random search to predict y_pred\n",
    "\n",
    "y_pred_recall_rs = best_model_rs.predict(X_test)\n",
    "\n",
    "recall_rs = accuracy_score(y_test, y_pred_recall_rs)\n",
    "cm_rs = confusion_matrix(y_test, y_pred_recall_rs, labels = models[0].classes_) \n",
    "disp = ConfusionMatrixDisplay(confusion_matrix = cm_rs, display_labels = models[0].classes_)\n",
    "disp.plot()\n",
    "plt.show()\n",
    "\n",
    "# Compute ROC curve and AUC\n",
    "fpr, tpr, thresholds = roc_curve(y_test, y_pred_recall_rs)\n",
    "roc_auc = auc(fpr, tpr)\n",
    "\n",
    "# Plot ROC curve\n",
    "plt.figure(figsize=(5, 5))\n",
    "plt.plot(fpr, tpr, color='darkorange', lw=2, label='ROC curve (area = {:.2f})'.format(roc_auc))\n",
    "plt.plot([0, 1], [0, 1], color='navy', lw=2, linestyle='--')\n",
    "plt.xlabel('False Positive Rate (FPR)')\n",
    "plt.ylabel('True Positive Rate (TPR)')\n",
    "plt.title(f'ROC Curve for {models[0]}')\n",
    "plt.legend(loc='lower right')\n",
    "plt.show()\n",
    "print(f\"Accuracy of new LogisticRegression is {recall_rs}\")"
   ]
  },
  {
   "cell_type": "code",
   "execution_count": 45,
   "metadata": {},
   "outputs": [
    {
     "name": "stdout",
     "output_type": "stream",
     "text": [
      "Previous recall of LogisticRegression is 0.8611111111111112\n",
      "Recall did not improve after Random Search\n"
     ]
    }
   ],
   "source": [
    "y_pred = models[0].predict(X_test)\n",
    "prev_accuracy = accuracy_score(y_test, y_pred)\n",
    "print(f\"Previous recall of LogisticRegression is {prev_accuracy}\")\n",
    "\n",
    "if recall_rs > prev_accuracy:\n",
    "    print(\"Recall improved after Random Search\")\n",
    "    print(f'Random Search recall is {recall_rs}')\n",
    "else: \n",
    "    print(\"Recall did not improve after Random Search\")"
   ]
  },
  {
   "cell_type": "markdown",
   "metadata": {},
   "source": [
    "# AdaBoost"
   ]
  },
  {
   "cell_type": "markdown",
   "metadata": {},
   "source": [
    "## GridSearch for AdaBoost, recall"
   ]
  },
  {
   "cell_type": "code",
   "execution_count": 46,
   "metadata": {},
   "outputs": [
    {
     "name": "stdout",
     "output_type": "stream",
     "text": [
      "Best parameters: {'algorithm': 'SAMME', 'learning_rate': 0.1, 'n_estimators': 50}\n",
      "Best cross-validation score: 0.9215\n"
     ]
    }
   ],
   "source": [
    "# GridSearchCV for SVM\n",
    "\n",
    "param_grid = {\n",
    "    'n_estimators': [50, 100, 200],\n",
    "    'learning_rate': [0.1, 0.5, 1.0],\n",
    "    'algorithm': ['SAMME', 'SAMME.R']\n",
    "}\n",
    "\n",
    "grid_search = GridSearchCV(estimator = models[1],\n",
    "                           param_grid = param_grid,\n",
    "                           scoring = 'recall',\n",
    "                           cv = kf_10).fit(X_train, y_train)\n",
    "\n",
    "# Get the best estimator\n",
    "best_model = grid_search.best_estimator_\n",
    "\n",
    "print(f\"Best parameters: {grid_search.best_params_}\")\n",
    "print(f\"Best cross-validation score: {grid_search.best_score_}\")"
   ]
  },
  {
   "cell_type": "code",
   "execution_count": 47,
   "metadata": {},
   "outputs": [
    {
     "data": {
      "image/png": "[encoded data removed]",
      "text/plain": [
       "<Figure size 432x288 with 2 Axes>"
      ]
     },
     "metadata": {
      "needs_background": "light"
     },
     "output_type": "display_data"
    },
    {
     "data": {
      "image/png": "[encoded data removed]",
      "text/plain": [
       "<Figure size 360x360 with 1 Axes>"
      ]
     },
     "metadata": {
      "needs_background": "light"
     },
     "output_type": "display_data"
    },
    {
     "name": "stdout",
     "output_type": "stream",
     "text": [
      "Recall of new AdaBoostClassifier() is 0.9636363636363636\n"
     ]
    }
   ],
   "source": [
    "# y_pred with the best recall parameters from GridSearchCV\n",
    "y_pred_recall = best_model.predict(X_test)\n",
    "\n",
    "recall_gs = recall_score(y_test, y_pred_recall)\n",
    "cm = confusion_matrix(y_test, y_pred_recall, labels = models[1].classes_)\n",
    "disp = ConfusionMatrixDisplay(confusion_matrix = cm, display_labels = models[1].classes_)\n",
    "disp.plot()\n",
    "plt.show()\n",
    "\n",
    "# Compute ROC curve and AUC\n",
    "fpr, tpr, thresholds = roc_curve(y_test, y_pred_recall)\n",
    "roc_auc = auc(fpr, tpr)\n",
    "\n",
    "# Plot ROC curve\n",
    "plt.figure(figsize=(5, 5))\n",
    "plt.plot(fpr, tpr, color='darkorange', lw=2, label='ROC curve (area = {:.2f})'.format(roc_auc))\n",
    "plt.plot([0, 1], [0, 1], color='navy', lw=2, linestyle='--')\n",
    "plt.xlabel('False Positive Rate (FPR)')\n",
    "plt.ylabel('True Positive Rate (TPR)')\n",
    "plt.title(f'ROC Curve for {models[1]}')\n",
    "plt.legend(loc='lower right')\n",
    "plt.show()\n",
    "print(f\"Recall of new {models[1]} is {recall_gs}\")"
   ]
  },
  {
   "cell_type": "code",
   "execution_count": 48,
   "metadata": {},
   "outputs": [
    {
     "name": "stdout",
     "output_type": "stream",
     "text": [
      "Previous recall of AdaBoostClassifier() is 0.8909090909090909\n",
      "Recall improved after GridSearch\n",
      "Random Search recall is 0.9636363636363636\n"
     ]
    }
   ],
   "source": [
    "y_pred = models[1].predict(X_test)\n",
    "prev_accuracy = recall_score(y_test, y_pred)\n",
    "print(f\"Previous recall of {models[1]} is {prev_accuracy}\")\n",
    "\n",
    "if recall_gs > prev_accuracy:\n",
    "    print(\"Recall improved after GridSearch\")\n",
    "    print(f'Random Search recall is {recall_gs}')\n",
    "else: \n",
    "    print(\"Recall did not improve after Random Search\")"
   ]
  },
  {
   "cell_type": "markdown",
   "metadata": {},
   "source": [
    "## RandomSearch for AdaBoost, recall"
   ]
  },
  {
   "cell_type": "code",
   "execution_count": 49,
   "metadata": {},
   "outputs": [
    {
     "name": "stdout",
     "output_type": "stream",
     "text": [
      "Best parameters: {'n_estimators': 50, 'learning_rate': 0.1, 'algorithm': 'SAMME'}\n",
      "Best cross-validation score: 0.9215\n"
     ]
    }
   ],
   "source": [
    "# RandomSearch for SVM\n",
    "\n",
    "param_grid = {\n",
    "    'n_estimators': [50, 100, 200],\n",
    "    'learning_rate': [0.1, 0.5, 1.0],\n",
    "    'algorithm': ['SAMME', 'SAMME.R']\n",
    "}\n",
    "\n",
    "grid_search = RandomizedSearchCV(estimator = models[1],\n",
    "                           param_distributions = param_grid,\n",
    "                           scoring = 'recall',\n",
    "                           cv = kf_10).fit(X_train, y_train)\n",
    "\n",
    "# Get the best estimator\n",
    "best_model = grid_search.best_estimator_\n",
    "\n",
    "print(f\"Best parameters: {grid_search.best_params_}\")\n",
    "print(f\"Best cross-validation score: {grid_search.best_score_}\")"
   ]
  },
  {
   "cell_type": "code",
   "execution_count": 50,
   "metadata": {},
   "outputs": [
    {
     "data": {
      "image/png": "[encoded data removed]",
      "text/plain": [
       "<Figure size 432x288 with 2 Axes>"
      ]
     },
     "metadata": {
      "needs_background": "light"
     },
     "output_type": "display_data"
    },
    {
     "data": {
      "image/png": "[encoded data removed]",
      "text/plain": [
       "<Figure size 360x360 with 1 Axes>"
      ]
     },
     "metadata": {
      "needs_background": "light"
     },
     "output_type": "display_data"
    },
    {
     "name": "stdout",
     "output_type": "stream",
     "text": [
      "Recall of new AdaBoostClassifier() is 0.9\n"
     ]
    }
   ],
   "source": [
    "#now use best parameters from random search to predict y_pred\n",
    "\n",
    "y_pred_recall_rs = best_model_rs.predict(X_test)\n",
    "\n",
    "recall_rs = recall_score(y_test, y_pred_recall_rs)\n",
    "cm_rs = confusion_matrix(y_test, y_pred_recall_rs, labels = models[1].classes_) \n",
    "disp = ConfusionMatrixDisplay(confusion_matrix = cm_rs, display_labels = models[1].classes_)\n",
    "disp.plot()\n",
    "plt.show()\n",
    "\n",
    "# Compute ROC curve and AUC\n",
    "fpr, tpr, thresholds = roc_curve(y_test, y_pred_recall_rs)\n",
    "roc_auc = auc(fpr, tpr)\n",
    "\n",
    "# Plot ROC curve\n",
    "plt.figure(figsize=(5, 5))\n",
    "plt.plot(fpr, tpr, color='darkorange', lw=2, label='ROC curve (area = {:.2f})'.format(roc_auc))\n",
    "plt.plot([0, 1], [0, 1], color='navy', lw=2, linestyle='--')\n",
    "plt.xlabel('False Positive Rate (FPR)')\n",
    "plt.ylabel('True Positive Rate (TPR)')\n",
    "plt.title(f'ROC Curve for {models[1]}')\n",
    "plt.legend(loc='lower right')\n",
    "plt.show()\n",
    "print(f\"Recall of new {models[1]} is {recall_rs}\")"
   ]
  },
  {
   "cell_type": "code",
   "execution_count": 51,
   "metadata": {},
   "outputs": [
    {
     "name": "stdout",
     "output_type": "stream",
     "text": [
      "Previous recall of AdaBoostClassifier() is 0.8909090909090909\n",
      "Recall did not improve after Random Search\n"
     ]
    }
   ],
   "source": [
    "y_pred = models[0].predict(X_test)\n",
    "prev_recall = recall_score(y_test, y_pred)\n",
    "print(f\"Previous recall of {models[1]} is {prev_accuracy}\")\n",
    "\n",
    "if recall_rs > prev_recall:\n",
    "    print(\"Recall improved after Random Search\")\n",
    "    print(f'Random Search accuracy is {recall_rs}')\n",
    "else: \n",
    "    print(\"Recall did not improve after Random Search\")"
   ]
  },
  {
   "cell_type": "code",
   "execution_count": 52,
   "metadata": {},
   "outputs": [],
   "source": [
    "#TODO PUSH TO GITHUB \n",
    "\n",
    "#TODO use class labels not 0 1\n",
    "\n",
    "\n",
    "#out of a pool fo results, some of the accuracies turned out beter than the paper. "
   ]
  }
 ],
 "metadata": {
  "kernelspec": {
   "display_name": "base",
   "language": "python",
   "name": "python3"
  },
  "language_info": {
   "codemirror_mode": {
    "name": "ipython",
    "version": 3
   },
   "file_extension": ".py",
   "mimetype": "text/x-python",
   "name": "python",
   "nbconvert_exporter": "python",
   "pygments_lexer": "ipython3",
   "version": "3.9.12"
  }
 },
 "nbformat": 4,
 "nbformat_minor": 2
}
