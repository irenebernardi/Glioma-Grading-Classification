{
 "cells": [
  {
   "cell_type": "code",
   "execution_count": 67,
   "metadata": {},
   "outputs": [],
   "source": [
    "import pandas as pd\n",
    "import seaborn as sns\n",
    "import matplotlib.pyplot as plt\n",
    "import numpy as np\n",
    "import plotly.graph_objs as go\n",
    "from plotly.subplots import make_subplots\n",
    "from sklearn.model_selection import train_test_split\n",
    "from sklearn.metrics import accuracy_score, confusion_matrix, roc_auc_score, ConfusionMatrixDisplay, roc_curve, auc\n",
    "from sklearn.model_selection import KFold\n",
    "from sklearn.ensemble import RandomForestClassifier\n",
    "from sklearn.linear_model import LogisticRegression\n",
    "from sklearn import svm, tree \n",
    "from sklearn.model_selection import GridSearchCV, cross_val_score\n",
    "from collections import OrderedDict\n",
    "from operator import itemgetter\n",
    "from sklearn.naive_bayes import GaussianNB"
   ]
  },
  {
   "cell_type": "code",
   "execution_count": 68,
   "metadata": {},
   "outputs": [],
   "source": [
    "import warnings\n",
    "warnings.filterwarnings( 'ignore' )"
   ]
  },
  {
   "cell_type": "code",
   "execution_count": 69,
   "metadata": {},
   "outputs": [
    {
     "data": {
      "text/html": [
       "<div>\n",
       "<style scoped>\n",
       "    .dataframe tbody tr th:only-of-type {\n",
       "        vertical-align: middle;\n",
       "    }\n",
       "\n",
       "    .dataframe tbody tr th {\n",
       "        vertical-align: top;\n",
       "    }\n",
       "\n",
       "    .dataframe thead th {\n",
       "        text-align: right;\n",
       "    }\n",
       "</style>\n",
       "<table border=\"1\" class=\"dataframe\">\n",
       "  <thead>\n",
       "    <tr style=\"text-align: right;\">\n",
       "      <th></th>\n",
       "      <th>Grade</th>\n",
       "      <th>Project</th>\n",
       "      <th>Case_ID</th>\n",
       "      <th>Gender</th>\n",
       "      <th>Age_at_diagnosis</th>\n",
       "      <th>Primary_Diagnosis</th>\n",
       "      <th>Race</th>\n",
       "      <th>IDH1</th>\n",
       "      <th>TP53</th>\n",
       "      <th>ATRX</th>\n",
       "      <th>...</th>\n",
       "      <th>FUBP1</th>\n",
       "      <th>RB1</th>\n",
       "      <th>NOTCH1</th>\n",
       "      <th>BCOR</th>\n",
       "      <th>CSMD3</th>\n",
       "      <th>SMARCA4</th>\n",
       "      <th>GRIN2A</th>\n",
       "      <th>IDH2</th>\n",
       "      <th>FAT4</th>\n",
       "      <th>PDGFRA</th>\n",
       "    </tr>\n",
       "  </thead>\n",
       "  <tbody>\n",
       "    <tr>\n",
       "      <th>0</th>\n",
       "      <td>LGG</td>\n",
       "      <td>TCGA-LGG</td>\n",
       "      <td>TCGA-DU-8164</td>\n",
       "      <td>Male</td>\n",
       "      <td>51 years 108 days</td>\n",
       "      <td>Oligodendroglioma, NOS</td>\n",
       "      <td>white</td>\n",
       "      <td>MUTATED</td>\n",
       "      <td>NOT_MUTATED</td>\n",
       "      <td>NOT_MUTATED</td>\n",
       "      <td>...</td>\n",
       "      <td>MUTATED</td>\n",
       "      <td>NOT_MUTATED</td>\n",
       "      <td>NOT_MUTATED</td>\n",
       "      <td>NOT_MUTATED</td>\n",
       "      <td>NOT_MUTATED</td>\n",
       "      <td>NOT_MUTATED</td>\n",
       "      <td>NOT_MUTATED</td>\n",
       "      <td>NOT_MUTATED</td>\n",
       "      <td>NOT_MUTATED</td>\n",
       "      <td>NOT_MUTATED</td>\n",
       "    </tr>\n",
       "    <tr>\n",
       "      <th>1</th>\n",
       "      <td>LGG</td>\n",
       "      <td>TCGA-LGG</td>\n",
       "      <td>TCGA-QH-A6CY</td>\n",
       "      <td>Male</td>\n",
       "      <td>38 years 261 days</td>\n",
       "      <td>Mixed glioma</td>\n",
       "      <td>white</td>\n",
       "      <td>MUTATED</td>\n",
       "      <td>NOT_MUTATED</td>\n",
       "      <td>NOT_MUTATED</td>\n",
       "      <td>...</td>\n",
       "      <td>NOT_MUTATED</td>\n",
       "      <td>NOT_MUTATED</td>\n",
       "      <td>NOT_MUTATED</td>\n",
       "      <td>NOT_MUTATED</td>\n",
       "      <td>NOT_MUTATED</td>\n",
       "      <td>NOT_MUTATED</td>\n",
       "      <td>NOT_MUTATED</td>\n",
       "      <td>NOT_MUTATED</td>\n",
       "      <td>NOT_MUTATED</td>\n",
       "      <td>NOT_MUTATED</td>\n",
       "    </tr>\n",
       "    <tr>\n",
       "      <th>2</th>\n",
       "      <td>LGG</td>\n",
       "      <td>TCGA-LGG</td>\n",
       "      <td>TCGA-HW-A5KM</td>\n",
       "      <td>Male</td>\n",
       "      <td>35 years 62 days</td>\n",
       "      <td>Astrocytoma, NOS</td>\n",
       "      <td>white</td>\n",
       "      <td>MUTATED</td>\n",
       "      <td>MUTATED</td>\n",
       "      <td>MUTATED</td>\n",
       "      <td>...</td>\n",
       "      <td>NOT_MUTATED</td>\n",
       "      <td>NOT_MUTATED</td>\n",
       "      <td>NOT_MUTATED</td>\n",
       "      <td>NOT_MUTATED</td>\n",
       "      <td>NOT_MUTATED</td>\n",
       "      <td>NOT_MUTATED</td>\n",
       "      <td>NOT_MUTATED</td>\n",
       "      <td>NOT_MUTATED</td>\n",
       "      <td>NOT_MUTATED</td>\n",
       "      <td>NOT_MUTATED</td>\n",
       "    </tr>\n",
       "    <tr>\n",
       "      <th>3</th>\n",
       "      <td>LGG</td>\n",
       "      <td>TCGA-LGG</td>\n",
       "      <td>TCGA-E1-A7YE</td>\n",
       "      <td>Female</td>\n",
       "      <td>32 years 283 days</td>\n",
       "      <td>Astrocytoma, anaplastic</td>\n",
       "      <td>white</td>\n",
       "      <td>MUTATED</td>\n",
       "      <td>MUTATED</td>\n",
       "      <td>MUTATED</td>\n",
       "      <td>...</td>\n",
       "      <td>NOT_MUTATED</td>\n",
       "      <td>NOT_MUTATED</td>\n",
       "      <td>NOT_MUTATED</td>\n",
       "      <td>NOT_MUTATED</td>\n",
       "      <td>NOT_MUTATED</td>\n",
       "      <td>NOT_MUTATED</td>\n",
       "      <td>NOT_MUTATED</td>\n",
       "      <td>NOT_MUTATED</td>\n",
       "      <td>MUTATED</td>\n",
       "      <td>NOT_MUTATED</td>\n",
       "    </tr>\n",
       "    <tr>\n",
       "      <th>4</th>\n",
       "      <td>LGG</td>\n",
       "      <td>TCGA-LGG</td>\n",
       "      <td>TCGA-S9-A6WG</td>\n",
       "      <td>Male</td>\n",
       "      <td>31 years 187 days</td>\n",
       "      <td>Astrocytoma, anaplastic</td>\n",
       "      <td>white</td>\n",
       "      <td>MUTATED</td>\n",
       "      <td>MUTATED</td>\n",
       "      <td>MUTATED</td>\n",
       "      <td>...</td>\n",
       "      <td>NOT_MUTATED</td>\n",
       "      <td>NOT_MUTATED</td>\n",
       "      <td>NOT_MUTATED</td>\n",
       "      <td>NOT_MUTATED</td>\n",
       "      <td>NOT_MUTATED</td>\n",
       "      <td>NOT_MUTATED</td>\n",
       "      <td>NOT_MUTATED</td>\n",
       "      <td>NOT_MUTATED</td>\n",
       "      <td>NOT_MUTATED</td>\n",
       "      <td>NOT_MUTATED</td>\n",
       "    </tr>\n",
       "    <tr>\n",
       "      <th>...</th>\n",
       "      <td>...</td>\n",
       "      <td>...</td>\n",
       "      <td>...</td>\n",
       "      <td>...</td>\n",
       "      <td>...</td>\n",
       "      <td>...</td>\n",
       "      <td>...</td>\n",
       "      <td>...</td>\n",
       "      <td>...</td>\n",
       "      <td>...</td>\n",
       "      <td>...</td>\n",
       "      <td>...</td>\n",
       "      <td>...</td>\n",
       "      <td>...</td>\n",
       "      <td>...</td>\n",
       "      <td>...</td>\n",
       "      <td>...</td>\n",
       "      <td>...</td>\n",
       "      <td>...</td>\n",
       "      <td>...</td>\n",
       "      <td>...</td>\n",
       "    </tr>\n",
       "    <tr>\n",
       "      <th>857</th>\n",
       "      <td>GBM</td>\n",
       "      <td>TCGA-GBM</td>\n",
       "      <td>TCGA-19-5959</td>\n",
       "      <td>Female</td>\n",
       "      <td>77 years 325 days</td>\n",
       "      <td>Glioblastoma</td>\n",
       "      <td>white</td>\n",
       "      <td>NOT_MUTATED</td>\n",
       "      <td>NOT_MUTATED</td>\n",
       "      <td>NOT_MUTATED</td>\n",
       "      <td>...</td>\n",
       "      <td>NOT_MUTATED</td>\n",
       "      <td>NOT_MUTATED</td>\n",
       "      <td>NOT_MUTATED</td>\n",
       "      <td>NOT_MUTATED</td>\n",
       "      <td>NOT_MUTATED</td>\n",
       "      <td>NOT_MUTATED</td>\n",
       "      <td>NOT_MUTATED</td>\n",
       "      <td>NOT_MUTATED</td>\n",
       "      <td>NOT_MUTATED</td>\n",
       "      <td>NOT_MUTATED</td>\n",
       "    </tr>\n",
       "    <tr>\n",
       "      <th>858</th>\n",
       "      <td>GBM</td>\n",
       "      <td>TCGA-GBM</td>\n",
       "      <td>TCGA-16-0846</td>\n",
       "      <td>Male</td>\n",
       "      <td>85 years 65 days</td>\n",
       "      <td>Glioblastoma</td>\n",
       "      <td>white</td>\n",
       "      <td>NOT_MUTATED</td>\n",
       "      <td>MUTATED</td>\n",
       "      <td>NOT_MUTATED</td>\n",
       "      <td>...</td>\n",
       "      <td>NOT_MUTATED</td>\n",
       "      <td>NOT_MUTATED</td>\n",
       "      <td>NOT_MUTATED</td>\n",
       "      <td>NOT_MUTATED</td>\n",
       "      <td>NOT_MUTATED</td>\n",
       "      <td>NOT_MUTATED</td>\n",
       "      <td>NOT_MUTATED</td>\n",
       "      <td>NOT_MUTATED</td>\n",
       "      <td>NOT_MUTATED</td>\n",
       "      <td>NOT_MUTATED</td>\n",
       "    </tr>\n",
       "    <tr>\n",
       "      <th>859</th>\n",
       "      <td>GBM</td>\n",
       "      <td>TCGA-GBM</td>\n",
       "      <td>TCGA-28-1746</td>\n",
       "      <td>Female</td>\n",
       "      <td>77 years 178 days</td>\n",
       "      <td>Glioblastoma</td>\n",
       "      <td>white</td>\n",
       "      <td>NOT_MUTATED</td>\n",
       "      <td>MUTATED</td>\n",
       "      <td>NOT_MUTATED</td>\n",
       "      <td>...</td>\n",
       "      <td>NOT_MUTATED</td>\n",
       "      <td>NOT_MUTATED</td>\n",
       "      <td>NOT_MUTATED</td>\n",
       "      <td>NOT_MUTATED</td>\n",
       "      <td>NOT_MUTATED</td>\n",
       "      <td>NOT_MUTATED</td>\n",
       "      <td>NOT_MUTATED</td>\n",
       "      <td>NOT_MUTATED</td>\n",
       "      <td>NOT_MUTATED</td>\n",
       "      <td>NOT_MUTATED</td>\n",
       "    </tr>\n",
       "    <tr>\n",
       "      <th>860</th>\n",
       "      <td>GBM</td>\n",
       "      <td>TCGA-GBM</td>\n",
       "      <td>TCGA-32-2491</td>\n",
       "      <td>Male</td>\n",
       "      <td>63 years 121 days</td>\n",
       "      <td>Glioblastoma</td>\n",
       "      <td>white</td>\n",
       "      <td>NOT_MUTATED</td>\n",
       "      <td>MUTATED</td>\n",
       "      <td>NOT_MUTATED</td>\n",
       "      <td>...</td>\n",
       "      <td>NOT_MUTATED</td>\n",
       "      <td>MUTATED</td>\n",
       "      <td>NOT_MUTATED</td>\n",
       "      <td>NOT_MUTATED</td>\n",
       "      <td>NOT_MUTATED</td>\n",
       "      <td>NOT_MUTATED</td>\n",
       "      <td>NOT_MUTATED</td>\n",
       "      <td>NOT_MUTATED</td>\n",
       "      <td>NOT_MUTATED</td>\n",
       "      <td>NOT_MUTATED</td>\n",
       "    </tr>\n",
       "    <tr>\n",
       "      <th>861</th>\n",
       "      <td>GBM</td>\n",
       "      <td>TCGA-GBM</td>\n",
       "      <td>TCGA-06-2557</td>\n",
       "      <td>Male</td>\n",
       "      <td>76 years 221 days</td>\n",
       "      <td>Glioblastoma</td>\n",
       "      <td>black or african american</td>\n",
       "      <td>NOT_MUTATED</td>\n",
       "      <td>NOT_MUTATED</td>\n",
       "      <td>NOT_MUTATED</td>\n",
       "      <td>...</td>\n",
       "      <td>NOT_MUTATED</td>\n",
       "      <td>NOT_MUTATED</td>\n",
       "      <td>NOT_MUTATED</td>\n",
       "      <td>NOT_MUTATED</td>\n",
       "      <td>NOT_MUTATED</td>\n",
       "      <td>NOT_MUTATED</td>\n",
       "      <td>NOT_MUTATED</td>\n",
       "      <td>NOT_MUTATED</td>\n",
       "      <td>NOT_MUTATED</td>\n",
       "      <td>NOT_MUTATED</td>\n",
       "    </tr>\n",
       "  </tbody>\n",
       "</table>\n",
       "<p>862 rows × 27 columns</p>\n",
       "</div>"
      ],
      "text/plain": [
       "    Grade   Project       Case_ID  Gender   Age_at_diagnosis  \\\n",
       "0     LGG  TCGA-LGG  TCGA-DU-8164    Male  51 years 108 days   \n",
       "1     LGG  TCGA-LGG  TCGA-QH-A6CY    Male  38 years 261 days   \n",
       "2     LGG  TCGA-LGG  TCGA-HW-A5KM    Male   35 years 62 days   \n",
       "3     LGG  TCGA-LGG  TCGA-E1-A7YE  Female  32 years 283 days   \n",
       "4     LGG  TCGA-LGG  TCGA-S9-A6WG    Male  31 years 187 days   \n",
       "..    ...       ...           ...     ...                ...   \n",
       "857   GBM  TCGA-GBM  TCGA-19-5959  Female  77 years 325 days   \n",
       "858   GBM  TCGA-GBM  TCGA-16-0846    Male   85 years 65 days   \n",
       "859   GBM  TCGA-GBM  TCGA-28-1746  Female  77 years 178 days   \n",
       "860   GBM  TCGA-GBM  TCGA-32-2491    Male  63 years 121 days   \n",
       "861   GBM  TCGA-GBM  TCGA-06-2557    Male  76 years 221 days   \n",
       "\n",
       "           Primary_Diagnosis                       Race         IDH1  \\\n",
       "0     Oligodendroglioma, NOS                      white      MUTATED   \n",
       "1               Mixed glioma                      white      MUTATED   \n",
       "2           Astrocytoma, NOS                      white      MUTATED   \n",
       "3    Astrocytoma, anaplastic                      white      MUTATED   \n",
       "4    Astrocytoma, anaplastic                      white      MUTATED   \n",
       "..                       ...                        ...          ...   \n",
       "857             Glioblastoma                      white  NOT_MUTATED   \n",
       "858             Glioblastoma                      white  NOT_MUTATED   \n",
       "859             Glioblastoma                      white  NOT_MUTATED   \n",
       "860             Glioblastoma                      white  NOT_MUTATED   \n",
       "861             Glioblastoma  black or african american  NOT_MUTATED   \n",
       "\n",
       "            TP53         ATRX  ...        FUBP1          RB1       NOTCH1  \\\n",
       "0    NOT_MUTATED  NOT_MUTATED  ...      MUTATED  NOT_MUTATED  NOT_MUTATED   \n",
       "1    NOT_MUTATED  NOT_MUTATED  ...  NOT_MUTATED  NOT_MUTATED  NOT_MUTATED   \n",
       "2        MUTATED      MUTATED  ...  NOT_MUTATED  NOT_MUTATED  NOT_MUTATED   \n",
       "3        MUTATED      MUTATED  ...  NOT_MUTATED  NOT_MUTATED  NOT_MUTATED   \n",
       "4        MUTATED      MUTATED  ...  NOT_MUTATED  NOT_MUTATED  NOT_MUTATED   \n",
       "..           ...          ...  ...          ...          ...          ...   \n",
       "857  NOT_MUTATED  NOT_MUTATED  ...  NOT_MUTATED  NOT_MUTATED  NOT_MUTATED   \n",
       "858      MUTATED  NOT_MUTATED  ...  NOT_MUTATED  NOT_MUTATED  NOT_MUTATED   \n",
       "859      MUTATED  NOT_MUTATED  ...  NOT_MUTATED  NOT_MUTATED  NOT_MUTATED   \n",
       "860      MUTATED  NOT_MUTATED  ...  NOT_MUTATED      MUTATED  NOT_MUTATED   \n",
       "861  NOT_MUTATED  NOT_MUTATED  ...  NOT_MUTATED  NOT_MUTATED  NOT_MUTATED   \n",
       "\n",
       "            BCOR        CSMD3      SMARCA4       GRIN2A         IDH2  \\\n",
       "0    NOT_MUTATED  NOT_MUTATED  NOT_MUTATED  NOT_MUTATED  NOT_MUTATED   \n",
       "1    NOT_MUTATED  NOT_MUTATED  NOT_MUTATED  NOT_MUTATED  NOT_MUTATED   \n",
       "2    NOT_MUTATED  NOT_MUTATED  NOT_MUTATED  NOT_MUTATED  NOT_MUTATED   \n",
       "3    NOT_MUTATED  NOT_MUTATED  NOT_MUTATED  NOT_MUTATED  NOT_MUTATED   \n",
       "4    NOT_MUTATED  NOT_MUTATED  NOT_MUTATED  NOT_MUTATED  NOT_MUTATED   \n",
       "..           ...          ...          ...          ...          ...   \n",
       "857  NOT_MUTATED  NOT_MUTATED  NOT_MUTATED  NOT_MUTATED  NOT_MUTATED   \n",
       "858  NOT_MUTATED  NOT_MUTATED  NOT_MUTATED  NOT_MUTATED  NOT_MUTATED   \n",
       "859  NOT_MUTATED  NOT_MUTATED  NOT_MUTATED  NOT_MUTATED  NOT_MUTATED   \n",
       "860  NOT_MUTATED  NOT_MUTATED  NOT_MUTATED  NOT_MUTATED  NOT_MUTATED   \n",
       "861  NOT_MUTATED  NOT_MUTATED  NOT_MUTATED  NOT_MUTATED  NOT_MUTATED   \n",
       "\n",
       "            FAT4       PDGFRA  \n",
       "0    NOT_MUTATED  NOT_MUTATED  \n",
       "1    NOT_MUTATED  NOT_MUTATED  \n",
       "2    NOT_MUTATED  NOT_MUTATED  \n",
       "3        MUTATED  NOT_MUTATED  \n",
       "4    NOT_MUTATED  NOT_MUTATED  \n",
       "..           ...          ...  \n",
       "857  NOT_MUTATED  NOT_MUTATED  \n",
       "858  NOT_MUTATED  NOT_MUTATED  \n",
       "859  NOT_MUTATED  NOT_MUTATED  \n",
       "860  NOT_MUTATED  NOT_MUTATED  \n",
       "861  NOT_MUTATED  NOT_MUTATED  \n",
       "\n",
       "[862 rows x 27 columns]"
      ]
     },
     "execution_count": 69,
     "metadata": {},
     "output_type": "execute_result"
    }
   ],
   "source": [
    "df = pd.read_csv('/Users/irenebernardi/Desktop/ML /Glioma-Grading-Classification/TCGA_GBM_LGG_Mutations_all.csv')\n",
    "df\n"
   ]
  },
  {
   "cell_type": "code",
   "execution_count": null,
   "metadata": {},
   "outputs": [],
   "source": []
  },
  {
   "cell_type": "markdown",
   "metadata": {},
   "source": [
    "## Data preprocessing"
   ]
  },
  {
   "cell_type": "code",
   "execution_count": 70,
   "metadata": {},
   "outputs": [
    {
     "name": "stdout",
     "output_type": "stream",
     "text": [
      "['LGG' 'GBM']\n",
      "['TCGA-LGG' 'TCGA-GBM']\n",
      "['TCGA-DU-8164' 'TCGA-QH-A6CY' 'TCGA-HW-A5KM' 'TCGA-E1-A7YE'\n",
      " 'TCGA-S9-A6WG' 'TCGA-DB-A4X9' 'TCGA-P5-A5F4' 'TCGA-FG-A4MY'\n",
      " 'TCGA-HT-A5R5' 'TCGA-DU-A76K' 'TCGA-QH-A6CV' 'TCGA-FG-5962'\n",
      " 'TCGA-DU-6402' 'TCGA-DB-A75M' 'TCGA-DB-A4XG' 'TCGA-DU-5851'\n",
      " 'TCGA-DB-A4XH' 'TCGA-HT-7874' 'TCGA-DH-A66D' 'TCGA-DU-5871'\n",
      " 'TCGA-FG-A60J' 'TCGA-E1-A7Z3' 'TCGA-DU-7011' 'TCGA-VW-A8FI'\n",
      " 'TCGA-DU-A7TB' 'TCGA-HT-7856' 'TCGA-TQ-A7RU' 'TCGA-HW-7486'\n",
      " 'TCGA-DU-6399' 'TCGA-DU-A7TA' 'TCGA-HT-A5RA' 'TCGA-DB-5280'\n",
      " 'TCGA-DU-6405' 'TCGA-S9-A7J1' 'TCGA-S9-A7J2' 'TCGA-HW-7495'\n",
      " 'TCGA-FG-A710' 'TCGA-P5-A5ET' 'TCGA-DU-7300' 'TCGA-DU-A5TY'\n",
      " 'TCGA-VM-A8CH' 'TCGA-R8-A6YH' 'TCGA-S9-A6WE' 'TCGA-HT-7681'\n",
      " 'TCGA-KT-A7W1' 'TCGA-FG-5964' 'TCGA-S9-A6TX' 'TCGA-P5-A5F2'\n",
      " 'TCGA-DU-5874' 'TCGA-DU-A5TT' 'TCGA-CS-5396' 'TCGA-DU-7302'\n",
      " 'TCGA-S9-A6TW' 'TCGA-RY-A845' 'TCGA-HT-A61A' 'TCGA-DU-7018'\n",
      " 'TCGA-HW-7489' 'TCGA-R8-A6ML' 'TCGA-DH-5144' 'TCGA-DU-7013'\n",
      " 'TCGA-CS-4941' 'TCGA-WY-A85E' 'TCGA-DH-A7UR' 'TCGA-HT-7689'\n",
      " 'TCGA-S9-A7R7' 'TCGA-HT-A619' 'TCGA-DU-7012' 'TCGA-S9-A6UB'\n",
      " 'TCGA-DB-5281' 'TCGA-QH-A6CX' 'TCGA-E1-5318' 'TCGA-CS-6290'\n",
      " 'TCGA-S9-A6U2' 'TCGA-HT-A74J' 'TCGA-WY-A859' 'TCGA-HT-A5RB'\n",
      " 'TCGA-DU-8168' 'TCGA-QH-A6X3' 'TCGA-DU-5853' 'TCGA-CS-6667'\n",
      " 'TCGA-S9-A89V' 'TCGA-HT-8012' 'TCGA-S9-A7IY' 'TCGA-TQ-A7RS'\n",
      " 'TCGA-QH-A6XC' 'TCGA-CS-6668' 'TCGA-DB-5277' 'TCGA-CS-6186'\n",
      " 'TCGA-HT-A4DS' 'TCGA-DU-8165' 'TCGA-HT-7605' 'TCGA-DU-6410'\n",
      " 'TCGA-RY-A83Z' 'TCGA-HW-8321' 'TCGA-S9-A7QW' 'TCGA-S9-A6WL'\n",
      " 'TCGA-DU-A5TW' 'TCGA-HW-A5KL' 'TCGA-WY-A85A' 'TCGA-P5-A72Z'\n",
      " 'TCGA-DU-8163' 'TCGA-DB-5275' 'TCGA-FG-8187' 'TCGA-P5-A5EU'\n",
      " 'TCGA-HT-7478' 'TCGA-QH-A65S' 'TCGA-HT-7881' 'TCGA-TQ-A7RO'\n",
      " 'TCGA-FG-8188' 'TCGA-FG-8182' 'TCGA-HT-A5R7' 'TCGA-DB-5276'\n",
      " 'TCGA-HT-8113' 'TCGA-S9-A7R2' 'TCGA-HT-7483' 'TCGA-S9-A7IS'\n",
      " 'TCGA-QH-A6X4' 'TCGA-DU-A5TP' 'TCGA-FG-6692' 'TCGA-HT-A74H'\n",
      " 'TCGA-DU-A6S2' 'TCGA-DU-6394' 'TCGA-R8-A6MO' 'TCGA-S9-A7IQ'\n",
      " 'TCGA-FG-8189' 'TCGA-FG-A70Z' 'TCGA-HT-7474' 'TCGA-HT-8010'\n",
      " 'TCGA-P5-A72U' 'TCGA-HT-8018' 'TCGA-HW-8320' 'TCGA-DU-6542'\n",
      " 'TCGA-E1-A7YN' 'TCGA-CS-5394' 'TCGA-FG-A4MX' 'TCGA-S9-A6WH'\n",
      " 'TCGA-WY-A85B' 'TCGA-S9-A7IZ' 'TCGA-S9-A7QZ' 'TCGA-DB-A75L'\n",
      " 'TCGA-E1-A7YO' 'TCGA-P5-A5EZ' 'TCGA-S9-A7R8' 'TCGA-E1-A7YY'\n",
      " 'TCGA-HT-7604' 'TCGA-E1-5304' 'TCGA-S9-A89Z' 'TCGA-E1-5307'\n",
      " 'TCGA-FG-A711' 'TCGA-TM-A84R' 'TCGA-HW-7490' 'TCGA-HT-8564'\n",
      " 'TCGA-HT-7875' 'TCGA-DH-5140' 'TCGA-WY-A85D' 'TCGA-TQ-A7RK'\n",
      " 'TCGA-FG-6688' 'TCGA-HT-7479' 'TCGA-DU-8167' 'TCGA-E1-A7YM'\n",
      " 'TCGA-QH-A6CW' 'TCGA-DU-8162' 'TCGA-P5-A5EV' 'TCGA-DB-A64Q'\n",
      " 'TCGA-DU-A5TR' 'TCGA-TM-A7CF' 'TCGA-FG-A6IZ' 'TCGA-HT-7687'\n",
      " 'TCGA-TM-A84J' 'TCGA-HT-A61C' 'TCGA-DU-A76R' 'TCGA-HT-7481'\n",
      " 'TCGA-DB-A4XB' 'TCGA-FG-A87N' 'TCGA-S9-A7J0' 'TCGA-CS-5397'\n",
      " 'TCGA-WY-A85C' 'TCGA-CS-6188' 'TCGA-HT-7690' 'TCGA-TQ-A7RN'\n",
      " 'TCGA-FG-A6J1' 'TCGA-TM-A7C5' 'TCGA-DU-5854' 'TCGA-TM-A84T'\n",
      " 'TCGA-DH-A669' 'TCGA-FG-A4MW' 'TCGA-E1-5302' 'TCGA-HT-7603'\n",
      " 'TCGA-S9-A6WP' 'TCGA-HT-A4DV' 'TCGA-DB-5270' 'TCGA-E1-A7YW'\n",
      " 'TCGA-DU-7009' 'TCGA-HT-8108' 'TCGA-DU-7306' 'TCGA-DB-A64P'\n",
      " 'TCGA-HT-7688' 'TCGA-VM-A8CD' 'TCGA-DB-A64X' 'TCGA-HT-7877'\n",
      " 'TCGA-DH-A66F' 'TCGA-P5-A77W' 'TCGA-HT-A5R9' 'TCGA-E1-A7YS'\n",
      " 'TCGA-TM-A7C3' 'TCGA-DU-A6S7' 'TCGA-TQ-A7RJ' 'TCGA-RY-A843'\n",
      " 'TCGA-RY-A840' 'TCGA-DU-6395' 'TCGA-FG-8191' 'TCGA-HT-7606'\n",
      " 'TCGA-HT-7857' 'TCGA-DU-7015' 'TCGA-HT-7609' 'TCGA-S9-A6WI'\n",
      " 'TCGA-S9-A6TZ' 'TCGA-FG-6691' 'TCGA-DU-6401' 'TCGA-DB-5278'\n",
      " 'TCGA-HT-8109' 'TCGA-FG-A4MT' 'TCGA-DU-7292' 'TCGA-CS-4943'\n",
      " 'TCGA-VV-A829' 'TCGA-FN-7833' 'TCGA-HT-7695' 'TCGA-DB-A4XC'\n",
      " 'TCGA-CS-5390' 'TCGA-HT-7855' 'TCGA-DU-A6S6' 'TCGA-VM-A8CB'\n",
      " 'TCGA-FG-A713' 'TCGA-DH-A7US' 'TCGA-WH-A86K' 'TCGA-DU-6403'\n",
      " 'TCGA-DU-5870' 'TCGA-P5-A736' 'TCGA-P5-A72X' 'TCGA-HT-8011'\n",
      " 'TCGA-CS-6670' 'TCGA-HT-8114' 'TCGA-FG-6690' 'TCGA-DU-6408'\n",
      " 'TCGA-IK-7675' 'TCGA-TM-A84I' 'TCGA-DB-A64U' 'TCGA-DU-5847'\n",
      " 'TCGA-E1-A7YJ' 'TCGA-DB-A4XA' 'TCGA-DU-5852' 'TCGA-TM-A7CA'\n",
      " 'TCGA-DU-6407' 'TCGA-HW-A5KJ' 'TCGA-TM-A84H' 'TCGA-HT-7472'\n",
      " 'TCGA-VV-A86M' 'TCGA-DU-A7TD' 'TCGA-S9-A7QX' 'TCGA-E1-A7YI'\n",
      " 'TCGA-HT-7860' 'TCGA-P5-A780' 'TCGA-E1-A7YQ' 'TCGA-S9-A6U5'\n",
      " 'TCGA-HT-8107' 'TCGA-CS-4942' 'TCGA-S9-A6U9' 'TCGA-HT-7686'\n",
      " 'TCGA-DB-A75P' 'TCGA-P5-A5EW' 'TCGA-HT-7607' 'TCGA-DU-7309'\n",
      " 'TCGA-P5-A737' 'TCGA-S9-A6WM' 'TCGA-FG-7636' 'TCGA-E1-5322'\n",
      " 'TCGA-TQ-A7RF' 'TCGA-DU-7010' 'TCGA-QH-A6CS' 'TCGA-HT-7476'\n",
      " 'TCGA-HT-7884' 'TCGA-DU-A7TC' 'TCGA-CS-6666' 'TCGA-HT-7610'\n",
      " 'TCGA-FG-A60K' 'TCGA-S9-A6U8' 'TCGA-HT-8563' 'TCGA-TQ-A7RH'\n",
      " 'TCGA-S9-A6U1' 'TCGA-DU-7301' 'TCGA-FG-6689' 'TCGA-HT-8013'\n",
      " 'TCGA-HT-A616' 'TCGA-DU-7008' 'TCGA-E1-A7YD' 'TCGA-E1-A7YK'\n",
      " 'TCGA-TM-A84Q' 'TCGA-WY-A858' 'TCGA-F6-A8O4' 'TCGA-R8-A6MK'\n",
      " 'TCGA-VM-A8CF' 'TCGA-FG-5965' 'TCGA-HT-7854' 'TCGA-RY-A847'\n",
      " 'TCGA-DU-5849' 'TCGA-FG-7637' 'TCGA-QH-A65R' 'TCGA-S9-A7R3'\n",
      " 'TCGA-P5-A735' 'TCGA-HT-A618' 'TCGA-E1-A7Z2' 'TCGA-TQ-A7RM'\n",
      " 'TCGA-HT-7694' 'TCGA-VM-A8C8' 'TCGA-HT-7616' 'TCGA-CS-5395'\n",
      " 'TCGA-S9-A7J3' 'TCGA-E1-5303' 'TCGA-CS-4944' 'TCGA-HT-7882'\n",
      " 'TCGA-DH-A7UT' 'TCGA-DB-A64O' 'TCGA-VW-A7QS' 'TCGA-QH-A870'\n",
      " 'TCGA-DU-A5TS' 'TCGA-P5-A731' 'TCGA-KT-A74X' 'TCGA-FG-A4MU'\n",
      " 'TCGA-E1-5311' 'TCGA-HT-7902' 'TCGA-DU-7290' 'TCGA-DB-5274'\n",
      " 'TCGA-FG-A60L' 'TCGA-P5-A781' 'TCGA-DB-A4XD' 'TCGA-DU-6393'\n",
      " 'TCGA-S9-A6U0' 'TCGA-DU-7298' 'TCGA-DU-7299' 'TCGA-DU-A7TG'\n",
      " 'TCGA-FG-A6J3' 'TCGA-DB-5279' 'TCGA-QH-A6X5' 'TCGA-CS-4938'\n",
      " 'TCGA-DU-5872' 'TCGA-DU-7007' 'TCGA-P5-A77X' 'TCGA-DU-7304'\n",
      " 'TCGA-DU-A6S3' 'TCGA-QH-A86X' 'TCGA-E1-5319' 'TCGA-HT-A5RC'\n",
      " 'TCGA-HT-8106' 'TCGA-S9-A6UA' 'TCGA-TM-A84S' 'TCGA-HT-7620'\n",
      " 'TCGA-DU-A7T6' 'TCGA-HT-7611' 'TCGA-DU-A6S8' 'TCGA-QH-A65V'\n",
      " 'TCGA-TM-A84B' 'TCGA-QH-A6CZ' 'TCGA-TM-A84G' 'TCGA-DU-8161'\n",
      " 'TCGA-HT-7477' 'TCGA-DU-6392' 'TCGA-CS-5393' 'TCGA-S9-A6WO'\n",
      " 'TCGA-S9-A7R4' 'TCGA-RY-A83X' 'TCGA-HT-7693' 'TCGA-HT-7467'\n",
      " 'TCGA-FG-8186' 'TCGA-HW-A5KK' 'TCGA-DB-A75O' 'TCGA-DB-A64W'\n",
      " 'TCGA-DB-A4XF' 'TCGA-FG-7638' 'TCGA-HT-A74K' 'TCGA-HT-8105'\n",
      " 'TCGA-S9-A6U6' 'TCGA-FG-A70Y' 'TCGA-F6-A8O3' 'TCGA-QH-A65Z'\n",
      " 'TCGA-DU-6397' 'TCGA-S9-A6TS' 'TCGA-DH-5142' 'TCGA-P5-A730'\n",
      " 'TCGA-TM-A84C' 'TCGA-TM-A84M' 'TCGA-TM-A84O' 'TCGA-S9-A7IX'\n",
      " 'TCGA-DU-A76L' 'TCGA-QH-A6X8' 'TCGA-HW-8319' 'TCGA-DB-A4XE'\n",
      " 'TCGA-VM-A8C9' 'TCGA-HT-7677' 'TCGA-DH-A7UU' 'TCGA-E1-A7Z6'\n",
      " 'TCGA-P5-A5F0' 'TCGA-DU-7019' 'TCGA-HT-7879' 'TCGA-DB-A64L'\n",
      " 'TCGA-HT-7469' 'TCGA-TM-A84F' 'TCGA-S9-A6TY' 'TCGA-RY-A83Y'\n",
      " 'TCGA-E1-A7YH' 'TCGA-DH-5141' 'TCGA-HT-A615' 'TCGA-HT-7676'\n",
      " 'TCGA-HT-7873' 'TCGA-HT-7473' 'TCGA-DU-6400' 'TCGA-HW-8322'\n",
      " 'TCGA-HT-7480' 'TCGA-DU-7006' 'TCGA-P5-A72W' 'TCGA-S9-A7R1'\n",
      " 'TCGA-HT-7684' 'TCGA-E1-A7YV' 'TCGA-P5-A5F1' 'TCGA-S9-A6WN'\n",
      " 'TCGA-DU-A7T8' 'TCGA-HW-7487' 'TCGA-DU-A7TJ' 'TCGA-DU-5855'\n",
      " 'TCGA-S9-A6TV' 'TCGA-DH-A66B' 'TCGA-HT-8104' 'TCGA-FG-A87Q'\n",
      " 'TCGA-P5-A733' 'TCGA-E1-A7Z4' 'TCGA-EZ-7264' 'TCGA-S9-A7QY'\n",
      " 'TCGA-DU-6396' 'TCGA-W9-A837' 'TCGA-FG-7641' 'TCGA-HT-7471'\n",
      " 'TCGA-HT-7470' 'TCGA-QH-A6CU' 'TCGA-HT-7485' 'TCGA-TQ-A7RW'\n",
      " 'TCGA-HT-7608' 'TCGA-R8-A73M' 'TCGA-HT-A74O' 'TCGA-HT-7468'\n",
      " 'TCGA-HT-7880' 'TCGA-HT-7858' 'TCGA-HT-A614' 'TCGA-HW-7491'\n",
      " 'TCGA-FG-5963' 'TCGA-DH-A7UV' 'TCGA-TQ-A7RG' 'TCGA-VM-A8CA'\n",
      " 'TCGA-HT-A61B' 'TCGA-E1-A7YU' 'TCGA-QH-A65X' 'TCGA-VM-A8CE'\n",
      " 'TCGA-TQ-A7RP' 'TCGA-E1-A7YL' 'TCGA-DU-8158' 'TCGA-HT-7692'\n",
      " 'TCGA-FG-7643' 'TCGA-DB-5273' 'TCGA-TQ-A7RV' 'TCGA-DU-A5TU'\n",
      " 'TCGA-DB-A75K' 'TCGA-TQ-A7RI' 'TCGA-FG-8185' 'TCGA-HT-8111'\n",
      " 'TCGA-TQ-A7RR' 'TCGA-TQ-A8XE' 'TCGA-HT-A617' 'TCGA-DB-A64V'\n",
      " 'TCGA-DU-8166' 'TCGA-TM-A7C4' 'TCGA-FG-7634' 'TCGA-QH-A6XA'\n",
      " 'TCGA-HT-7602' 'TCGA-S9-A6TU' 'TCGA-DH-A66G' 'TCGA-TQ-A7RQ'\n",
      " 'TCGA-HT-A74L' 'TCGA-HT-7475' 'TCGA-QH-A6X9' 'TCGA-IK-8125'\n",
      " 'TCGA-S9-A6WQ' 'TCGA-DH-5143' 'TCGA-DB-A64R' 'TCGA-DB-A64S'\n",
      " 'TCGA-P5-A5EX' 'TCGA-DU-7294' 'TCGA-E1-5305' 'TCGA-CS-6665'\n",
      " 'TCGA-HT-7601' 'TCGA-HT-8110' 'TCGA-TM-A84L' 'TCGA-14-1450'\n",
      " 'TCGA-12-0819' 'TCGA-32-1991' 'TCGA-76-6660' 'TCGA-76-6285'\n",
      " 'TCGA-74-6575' 'TCGA-81-5911' 'TCGA-28-5220' 'TCGA-06-0876'\n",
      " 'TCGA-14-0787' 'TCGA-06-0939' 'TCGA-06-0152' 'TCGA-32-1982'\n",
      " 'TCGA-32-2634' 'TCGA-76-4927' 'TCGA-19-5950' 'TCGA-06-1804'\n",
      " 'TCGA-19-2631' 'TCGA-12-3649' 'TCGA-14-1829' 'TCGA-27-1833'\n",
      " 'TCGA-76-6282' 'TCGA-06-6388' 'TCGA-32-1979' 'TCGA-32-5222'\n",
      " 'TCGA-02-0033' 'TCGA-14-1034' 'TCGA-12-0818' 'TCGA-27-1837'\n",
      " 'TCGA-12-0618' 'TCGA-28-2513' 'TCGA-06-5408' 'TCGA-76-6662'\n",
      " 'TCGA-12-3648' 'TCGA-81-5910' 'TCGA-15-0742' 'TCGA-06-5415'\n",
      " 'TCGA-12-1088' 'TCGA-19-A60I' 'TCGA-12-1092' 'TCGA-19-1790'\n",
      " 'TCGA-14-0812' 'TCGA-16-1460' 'TCGA-28-5204' 'TCGA-41-3915'\n",
      " 'TCGA-14-1451' 'TCGA-06-1084' 'TCGA-06-0125' 'TCGA-76-6656'\n",
      " 'TCGA-14-2554' 'TCGA-06-A7TK' 'TCGA-41-2571' 'TCGA-76-6661'\n",
      " 'TCGA-28-6450' 'TCGA-28-2509' 'TCGA-14-0862' 'TCGA-32-2632'\n",
      " 'TCGA-19-2624' 'TCGA-06-0686' 'TCGA-06-0750' 'TCGA-14-3476'\n",
      " 'TCGA-06-0209' 'TCGA-06-0132' 'TCGA-12-0656' 'TCGA-26-1799'\n",
      " 'TCGA-14-0871' 'TCGA-12-0657' 'TCGA-19-1786' 'TCGA-06-6390'\n",
      " 'TCGA-28-5219' 'TCGA-14-1455' 'TCGA-41-2575' 'TCGA-28-5216'\n",
      " 'TCGA-26-A7UX' 'TCGA-06-A5U0' 'TCGA-32-1980' 'TCGA-19-4068'\n",
      " 'TCGA-06-0744' 'TCGA-76-4935' 'TCGA-26-5133' 'TCGA-41-5651'\n",
      " 'TCGA-19-1787' 'TCGA-28-1745' 'TCGA-28-5213' 'TCGA-74-6577'\n",
      " 'TCGA-32-2638' 'TCGA-19-1791' 'TCGA-06-6693' 'TCGA-06-1087'\n",
      " 'TCGA-76-4928' 'TCGA-32-4210' 'TCGA-06-5412' 'TCGA-06-5417'\n",
      " 'TCGA-28-1752' 'TCGA-06-0747' 'TCGA-06-0169' 'TCGA-26-1442'\n",
      " 'TCGA-28-2499' 'TCGA-27-2518' 'TCGA-06-0216' 'TCGA-28-1750'\n",
      " 'TCGA-06-0137' 'TCGA-06-0184' 'TCGA-19-2620' 'TCGA-41-2573'\n",
      " 'TCGA-27-2524' 'TCGA-06-0190' 'TCGA-12-0773' 'TCGA-06-2563'\n",
      " 'TCGA-74-6573' 'TCGA-06-0185' 'TCGA-06-0140' 'TCGA-27-2528'\n",
      " 'TCGA-41-4097' 'TCGA-14-1823' 'TCGA-12-0619' 'TCGA-06-0219'\n",
      " 'TCGA-14-1456' 'TCGA-06-0192' 'TCGA-02-2486' 'TCGA-16-0861'\n",
      " 'TCGA-06-0875' 'TCGA-06-0879' 'TCGA-74-6581' 'TCGA-74-6578'\n",
      " 'TCGA-14-1396' 'TCGA-06-0195' 'TCGA-28-5218' 'TCGA-06-5416'\n",
      " 'TCGA-19-2623' 'TCGA-02-0003' 'TCGA-06-0189' 'TCGA-76-6286'\n",
      " 'TCGA-12-1597' 'TCGA-14-1453' 'TCGA-19-5960' 'TCGA-76-4929'\n",
      " 'TCGA-76-4925' 'TCGA-12-1600' 'TCGA-19-1789' 'TCGA-12-5301'\n",
      " 'TCGA-12-1598' 'TCGA-02-2470' 'TCGA-19-1385' 'TCGA-06-5858'\n",
      " 'TCGA-06-1806' 'TCGA-12-0688' 'TCGA-12-3652' 'TCGA-14-0813'\n",
      " 'TCGA-32-1970' 'TCGA-06-2570' 'TCGA-27-2527' 'TCGA-14-0740'\n",
      " 'TCGA-02-0055' 'TCGA-06-5418' 'TCGA-06-6701' 'TCGA-19-1390'\n",
      " 'TCGA-06-1800' 'TCGA-32-4213' 'TCGA-06-6694' 'TCGA-06-0122'\n",
      " 'TCGA-12-3651' 'TCGA-19-0957' 'TCGA-14-0817' 'TCGA-19-5958'\n",
      " 'TCGA-19-2625' 'TCGA-14-1825' 'TCGA-27-2521' 'TCGA-OX-A56R'\n",
      " 'TCGA-16-0849' 'TCGA-76-6657' 'TCGA-06-0158' 'TCGA-28-2501'\n",
      " 'TCGA-76-6280' 'TCGA-28-1747' 'TCGA-06-2559' 'TCGA-06-0878'\n",
      " 'TCGA-06-0166' 'TCGA-28-5208' 'TCGA-28-1749' 'TCGA-19-1387'\n",
      " 'TCGA-12-0615' 'TCGA-27-1830' 'TCGA-06-2561' 'TCGA-14-0786'\n",
      " 'TCGA-06-A5U1' 'TCGA-19-5951' 'TCGA-76-6191' 'TCGA-19-4065'\n",
      " 'TCGA-RR-A6KA' 'TCGA-06-0221' 'TCGA-28-2502' 'TCGA-06-5859'\n",
      " 'TCGA-06-6389' 'TCGA-32-2495' 'TCGA-06-0743' 'TCGA-12-0821'\n",
      " 'TCGA-28-1755' 'TCGA-32-4211' 'TCGA-06-2562' 'TCGA-32-4209'\n",
      " 'TCGA-41-3393' 'TCGA-76-4932' 'TCGA-12-0826' 'TCGA-27-2519'\n",
      " 'TCGA-RR-A6KB' 'TCGA-27-1831' 'TCGA-28-2510' 'TCGA-06-0644'\n",
      " 'TCGA-06-2569' 'TCGA-32-1977' 'TCGA-06-0187' 'TCGA-26-5136'\n",
      " 'TCGA-06-0882' 'TCGA-16-0850' 'TCGA-32-1976' 'TCGA-06-0877'\n",
      " 'TCGA-4W-AA9R' 'TCGA-06-2564' 'TCGA-19-1788' 'TCGA-12-0707'\n",
      " 'TCGA-06-0214' 'TCGA-14-0781' 'TCGA-4W-AA9T' 'TCGA-06-5856'\n",
      " 'TCGA-41-6646' 'TCGA-06-0145' 'TCGA-26-1439' 'TCGA-12-1093'\n",
      " 'TCGA-14-0736' 'TCGA-06-0745' 'TCGA-14-0789' 'TCGA-26-6173'\n",
      " 'TCGA-27-1838' 'TCGA-76-6663' 'TCGA-32-2494' 'TCGA-06-2567'\n",
      " 'TCGA-41-2572' 'TCGA-12-0775' 'TCGA-41-3392' 'TCGA-14-3477'\n",
      " 'TCGA-06-A6S1' 'TCGA-12-0692' 'TCGA-14-1795' 'TCGA-19-1386'\n",
      " 'TCGA-19-A6J5' 'TCGA-06-6699' 'TCGA-16-0848' 'TCGA-74-6584'\n",
      " 'TCGA-12-0820' 'TCGA-14-4157' 'TCGA-06-0130' 'TCGA-02-2485'\n",
      " 'TCGA-12-5299' 'TCGA-12-3646' 'TCGA-06-2558' 'TCGA-06-2565'\n",
      " 'TCGA-06-6391' 'TCGA-06-0238' 'TCGA-76-4926' 'TCGA-06-A7TL'\n",
      " 'TCGA-14-0790' 'TCGA-12-0616' 'TCGA-02-0047' 'TCGA-19-5955'\n",
      " 'TCGA-14-1827' 'TCGA-06-0157' 'TCGA-06-0168' 'TCGA-26-5135'\n",
      " 'TCGA-06-6698' 'TCGA-26-5134' 'TCGA-12-5295' 'TCGA-06-0154'\n",
      " 'TCGA-12-0691' 'TCGA-12-1602' 'TCGA-12-0670' 'TCGA-28-1757'\n",
      " 'TCGA-12-0829' 'TCGA-06-0749' 'TCGA-06-5413' 'TCGA-06-0646'\n",
      " 'TCGA-26-6174' 'TCGA-12-0662' 'TCGA-28-2514' 'TCGA-06-0650'\n",
      " 'TCGA-76-4931' 'TCGA-06-0649' 'TCGA-06-0241' 'TCGA-19-5956'\n",
      " 'TCGA-06-0173' 'TCGA-02-2466' 'TCGA-06-6697' 'TCGA-06-0129'\n",
      " 'TCGA-06-6695' 'TCGA-15-1446' 'TCGA-16-1048' 'TCGA-27-2526'\n",
      " 'TCGA-76-6192' 'TCGA-27-2523' 'TCGA-06-0119' 'TCGA-27-1835'\n",
      " 'TCGA-4W-AA9S' 'TCGA-19-2629' 'TCGA-RR-A6KC' 'TCGA-06-0237'\n",
      " 'TCGA-06-0211' 'TCGA-76-6283' 'TCGA-06-0188' 'TCGA-32-4208'\n",
      " 'TCGA-06-5414' 'TCGA-12-3644' 'TCGA-87-5896' 'TCGA-06-5410'\n",
      " 'TCGA-14-1821' 'TCGA-06-0126' 'TCGA-12-0827' 'TCGA-06-0210'\n",
      " 'TCGA-06-0213' 'TCGA-14-1037' 'TCGA-06-0645' 'TCGA-06-0171'\n",
      " 'TCGA-19-5954' 'TCGA-27-1836' 'TCGA-19-2621' 'TCGA-02-2483'\n",
      " 'TCGA-32-1986' 'TCGA-12-1599' 'TCGA-06-A6S0' 'TCGA-14-0865'\n",
      " 'TCGA-16-1045' 'TCGA-28-5209' 'TCGA-19-A6J4' 'TCGA-19-5947'\n",
      " 'TCGA-06-0155' 'TCGA-76-6664' 'TCGA-06-0124' 'TCGA-06-0151'\n",
      " 'TCGA-26-5139' 'TCGA-76-4934' 'TCGA-06-0141' 'TCGA-06-0881'\n",
      " 'TCGA-12-3653' 'TCGA-28-1751' 'TCGA-06-0648' 'TCGA-06-0174'\n",
      " 'TCGA-19-1389' 'TCGA-28-1753' 'TCGA-76-6193' 'TCGA-12-3650'\n",
      " 'TCGA-14-1395' 'TCGA-32-2616' 'TCGA-06-5411' 'TCGA-28-5215'\n",
      " 'TCGA-19-5953' 'TCGA-14-1043' 'TCGA-06-0128' 'TCGA-12-1089'\n",
      " 'TCGA-27-1834' 'TCGA-19-5959' 'TCGA-16-0846' 'TCGA-28-1746'\n",
      " 'TCGA-32-2491' 'TCGA-06-2557']\n",
      "['Male' 'Female' '--']\n",
      "['51 years 108 days' '38 years 261 days' '35 years 62 days'\n",
      " '32 years 283 days' '31 years 187 days' '33 years 78 days'\n",
      " '35 years 68 days' '44 years 239 days' '33 years 350 days' '87 years'\n",
      " '51 years 328 days' '54 years 95 days' '52 years 214 days'\n",
      " '47 years 123 days' '34 years 132 days' '40 years 192 days'\n",
      " '53 years 352 days' '41 years 70 days' '43 years 161 days'\n",
      " '37 years 159 days' '47 years 173 days' '31 years 8 days'\n",
      " '25 years 191 days' '66 years 305 days' '56 years 250 days'\n",
      " '35 years 362 days' '51 years 363 days' '37 years 32 days'\n",
      " '54 years 183 days' '32 years 76 days' '65 years 28 days'\n",
      " '43 years 131 days' '51 years 59 days' '43 years 221 days'\n",
      " '25 years 214 days' '45 years 24 days' '50 years 153 days'\n",
      " '27 years 166 days' '53 years 252 days' '46 years 144 days'\n",
      " '24 years 239 days' '--' '34 years 70 days' '29 years 198 days'\n",
      " '45 years 124 days' '62 years 90 days' '46 years 224 days'\n",
      " '36 years 247 days' '62 years 202 days' '70 years 159 days'\n",
      " '53 years 41 days' '48 years 124 days' '40 years 69 days'\n",
      " '40 years 7 days' '20 years 359 days' '57 years 200 days'\n",
      " '38 years 322 days' '52 years 192 days' '56 years 104 days'\n",
      " '59 years 275 days' '67 years 107 days' '48 years 346 days'\n",
      " '59 years 254 days' '58 years 147 days' '27 years 247 days'\n",
      " '51 years 230 days' '74 years 11 days' '52 years 230 days'\n",
      " '61 years 62 days' '66 years 146 days' '42 years 32 days'\n",
      " '31 years 344 days' '48 years 268 days' '33 years 340 days'\n",
      " '34 years 213 days' '24 years 54 days' '55 years 48 days'\n",
      " '27 years 323 days' '29 years 32 days' '39 years 131 days'\n",
      " '70 years 3 days' '30 years 338 days' '39 years 178 days'\n",
      " '25 years 41 days' '48 years 160 days' '57 years 17 days'\n",
      " '34 years 307 days' '58 years 137 days' '55 years 208 days'\n",
      " '60 years 49 days' '38 years 13 days' '56 years 113 days'\n",
      " '54 years 180 days' '31 years 152 days' '54 years 146 days'\n",
      " '52 years 241 days' '33 years 54 days' '42 years 173 days'\n",
      " '20 years 75 days' '64 years 106 days' '29 years 232 days'\n",
      " '36 years 222 days' '31 years 362 days' '36 years 67 days'\n",
      " '32 years 173 days' '38 years 292 days' '29 years 298 days'\n",
      " '41 years 76 days' '35 years 189 days' '33 years 39 days'\n",
      " '32 years 50 days' '49 years 276 days' '69 years 217 days'\n",
      " '14 years 154 days' '33 years 349 days' '47 years 92 days'\n",
      " '33 years 58 days' '63 years 364 days' '62 years 205 days'\n",
      " '37 years 83 days' '53 years 183 days' '53 years 74 days'\n",
      " '45 years 76 days' '33 years 331 days' '53 years 359 days'\n",
      " '52 years 156 days' '64 years 304 days' '71 years 70 days'\n",
      " '40 years 300 days' '36 years 354 days' '25 years 249 days'\n",
      " '63 years 170 days' '40 years 310 days' '47 years 215 days'\n",
      " '73 years 241 days' '24 years 51 days' '48 years 342 days'\n",
      " '41 years 325 days' '36 years 189 days' '45 years 334 days'\n",
      " '44 years 204 days' '27 years 6 days' '50 years 181 days'\n",
      " '42 years 141 days' '40 years 248 days' '62 years 192 days'\n",
      " '33 years 195 days' '46 years 42 days' '41 years 117 days'\n",
      " '47 years 333 days' '56 years 159 days' '38 years 64 days'\n",
      " '60 years 64 days' '29 years 150 days' '59 years 196 days'\n",
      " '44 years 66 days' '69 years 60 days' '63 years 253 days'\n",
      " '43 years 142 days' '61 years 316 days' '39 years 66 days'\n",
      " '31 years 315 days' '51 years 164 days' '41 years 203 days'\n",
      " '60 years 360 days' '74 years 158 days' '63 years 81 days'\n",
      " '66 years 170 days' '51 years 312 days' '39 years 62 days'\n",
      " '38 years 111 days' '37 years 92 days' '30 years 32 days'\n",
      " '54 years 143 days' '36 years 357 days' '48 years 197 days'\n",
      " '29 years 81 days' '32 years 135 days' '44 years 35 days'\n",
      " '30 years 329 days' '57 years 287 days' '19 years 55 days'\n",
      " '70 years 242 days' '63 years 67 days' '41 years 255 days'\n",
      " '29 years 291 days' '42 years 318 days' '51 years 172 days'\n",
      " '38 years 25 days' '28 years 344 days' '32 years 166 days'\n",
      " '26 years 43 days' '67 years 329 days' '40 years 326 days'\n",
      " '59 years 295 days' '58 years 16 days' '56 years 171 days'\n",
      " '20 years 276 days' '49 years 296 days' '37 years 31 days'\n",
      " '48 years 243 days' '71 years 227 days' '43 years 316 days'\n",
      " '27 years 309 days' '25 years 78 days' '30 years 126 days'\n",
      " '47 years 335 days' '31 years 262 days' '30 years 295 days'\n",
      " '30 years 276 days' '24 years 146 days' '41 years 66 days'\n",
      " '34 years 189 days' '56 years 155 days' '39 years 348 days'\n",
      " '23 years 3 days' '31 years 273 days' '17 years 271 days'\n",
      " '64 years 110 days' '27 years 221 days' '69 years 64 days'\n",
      " '37 years 51 days' '44 years 92 days' '25 years 97 days'\n",
      " '29 years 235 days' '26 years 209 days' '47 years 294 days'\n",
      " '39 years 252 days' '35 years 26 days' '33 years 287 days'\n",
      " '74 years 204 days' '50 years 167 days' '65 years 314 days'\n",
      " '60 years 116 days' '34 years 346 days' '44 years 229 days'\n",
      " '21 years 243 days' '55 years 87 days' '43 years 361 days'\n",
      " '36 years 49 days' '70 years 100 days' '23 years 352 days'\n",
      " '43 years 195 days' '30 years 264 days' '38 years 140 days'\n",
      " '34 years 188 days' '55 years 92 days' '30 years 238 days'\n",
      " '61 years 68 days' '44 years 344 days' '35 years 238 days'\n",
      " '68 years 129 days' '44 years 206 days' '38 years 89 days'\n",
      " '36 years 304 days' '52 years 32 days' '36 years 183 days'\n",
      " '33 years 176 days' '60 years 119 days' '44 years 90 days'\n",
      " '58 years 157 days' '33 years 364 days' '62 years 235 days'\n",
      " '44 years 226 days' '36 years 311 days' '29 years 132 days'\n",
      " '25 years 282 days' '20 years 307 days' '61 years 305 days'\n",
      " '41 years 222 days' '47 years 224 days' '59 years 212 days'\n",
      " '48 years 311 days' '38 years 24 days' '27 years 58 days'\n",
      " '58 years 15 days' '26 years 118 days' '44 years 209 days'\n",
      " '32 years 196 days' '22 years 305 days' '25 years 316 days'\n",
      " '34 years 27 days' '24 years 278 days' '30 years 348 days'\n",
      " '39 years 280 days' '22 years 236 days' '53 years 286 days'\n",
      " '30 years 355 days' '37 years 239 days' '36 years 73 days'\n",
      " '41 years 314 days' '57 years 201 days' '52 years 243 days'\n",
      " '31 years 346 days' '32 years 167 days' '44 years 131 days'\n",
      " '40 years 106 days' '44 years 263 days' '39 years 5 days'\n",
      " '62 years 93 days' '45 years 296 days' '48 years 131 days'\n",
      " '49 years 187 days' '38 years 194 days' '28 years 115 days'\n",
      " '38 years 273 days' '37 years 81 days' '41 years 179 days'\n",
      " '60 years 15 days' '50 years 232 days' '75 years 292 days'\n",
      " '43 years 143 days' '52 years 63 days' '38 years 333 days'\n",
      " '66 years 344 days' '30 years 57 days' '59 years 262 days'\n",
      " '35 years 37 days' '38 years 203 days' '42 years 310 days'\n",
      " '59 years 166 days' '26 years 94 days' '58 years 266 days'\n",
      " '31 years 10 days' '30 years 161 days' '45 years 231 days'\n",
      " '37 years 166 days' '34 years 162 days' '34 years 339 days'\n",
      " '32 years 53 days' '66 years 176 days' '46 years 89 days'\n",
      " '38 years 326 days' '33 years 213 days' '40 years 61 days'\n",
      " '52 years 145 days' '59 years 359 days' '58 years 55 days'\n",
      " '43 years 281 days' '33 years 192 days' '55 years 40 days'\n",
      " '43 years 226 days' '60 years 123 days' '33 years 332 days'\n",
      " '48 years 80 days' '70 years 205 days' '53 years 197 days'\n",
      " '66 years 136 days' '36 years 275 days' '40 years 49 days'\n",
      " '73 years 103 days' '36 years 165 days' '74 years 56 days'\n",
      " '43 years 145 days' '40 years 323 days' '38 years 128 days'\n",
      " '54 years 291 days' '63 years 54 days' '62 years 303 days'\n",
      " '35 years 53 days' '39 years 174 days' '29 years 341 days'\n",
      " '46 years 333 days' '46 years 110 days' '51 years 329 days'\n",
      " '54 years 221 days' '42 years 91 days' '64 years 108 days'\n",
      " '29 years 220 days' '65 years 195 days' '41 years 91 days'\n",
      " '31 years 206 days' '58 years 5 days' '54 years 318 days'\n",
      " '28 years 26 days' '20 years 116 days' '34 years 160 days'\n",
      " '54 years 198 days' '45 years 259 days' '48 years 325 days'\n",
      " '29 years 86 days' '22 years 8 days' '32 years 161 days'\n",
      " '40 years 50 days' '61 years 47 days' '57 years 276 days'\n",
      " '54 years 100 days' '56 years 317 days' '34 years 139 days'\n",
      " '27 years 289 days' '37 years 149 days' '43 years 332 days'\n",
      " '41 years 10 days' '33 years 104 days' '39 years 35 days'\n",
      " '31 years 300 days' '67 years 219 days' '30 years 140 days'\n",
      " '48 years 212 days' '50 years 302 days' '45 years 34 days'\n",
      " '47 years 299 days' '32 years 158 days' '26 years 171 days'\n",
      " '29 years 213 days' '28 years 79 days' '66 years 16 days'\n",
      " '39 years 304 days' '33 years 238 days' '60 years 75 days'\n",
      " '35 years 65 days' '35 years 45 days' '58 years 168 days'\n",
      " '26 years 50 days' '30 years 113 days' '38 years 82 days'\n",
      " '35 years 325 days' '39 years 291 days' '55 years 306 days'\n",
      " '49 years 337 days' '50 years 59 days' '52 years 163 days'\n",
      " '51 years 121 days' '61 years 285 days' '52 years 149 days'\n",
      " '35 years 66 days' '47 years 266 days' '35 years 70 days'\n",
      " '31 years 105 days' '31 years 35 days' '37 years 50 days'\n",
      " '37 years 97 days' '42 years 249 days' '32 years 116 days'\n",
      " '61 years 22 days' '48 years 78 days' '34 years 42 days'\n",
      " '30 years 252 days' '30 years 86 days' '28 years 195 days'\n",
      " '47 years 226 days' '35 years 91 days' '23 years 171 days'\n",
      " '49 years 264 days' '36 years 78 days' '54 years 268 days'\n",
      " '22 years 300 days' '42 years 5 days' '28 years 213 days'\n",
      " '25 years 232 days' '66 years 3 days' '46 years 181 days'\n",
      " '57 years 310 days' '43 years 22 days' '49 years 309 days'\n",
      " '33 years 99 days' '27 years 306 days' '62 years 166 days'\n",
      " '55 years 153 days' '37 years 285 days' '37 years 107 days'\n",
      " '32 years 122 days' '38 years 143 days' '42 years 289 days'\n",
      " '47 years 165 days' '54 years 227 days' '29 years 49 days'\n",
      " '39 years 359 days' '28 years 249 days' '23 years 108 days'\n",
      " '21 years 276 days' '38 years 229 days' '49 years 302 days'\n",
      " '38 years 308 days' '22 years 205 days' '67 years 215 days'\n",
      " '73 years 329 days' '62 years 100 days' '57 years 314 days'\n",
      " '30 years 334 days' '24 years 181 days' '20 years 84 days'\n",
      " '41 years 116 days' '53 years 258 days' '34 years 237 days'\n",
      " '51 years 350 days' '57 years 364 days' '31 years 176 days'\n",
      " '57 years 141 days' '49 years 263 days' '60 years 106 days'\n",
      " '73 years 250 days' '64 years 298 days' '73 years 164 days'\n",
      " '33 years 239 days' '67 years 151 days' '72 years 74 days'\n",
      " '69 years 124 days' '79 years 39 days' '68 years 7 days'\n",
      " '76 years 5 days' '82 years 14 days' '58 years 9 days'\n",
      " '52 years 251 days' '81 years 217 days' '74 years 172 days'\n",
      " '76 years 87 days' '57 years 110 days' '67 years 121 days'\n",
      " '63 years 313 days' '64 years 143 days' '69 years 50 days'\n",
      " '66 years 28 days' '54 years 347 days' '60 years 114 days'\n",
      " '45 years 230 days' '36 years 219 days' '49 years 174 days'\n",
      " '69 years 219 days' '54 years 340 days' '58 years 327 days'\n",
      " '61 years 183 days' '64 years 191 days' '65 years 309 days'\n",
      " '60 years 298 days' '53 years 309 days' '39 years 193 days'\n",
      " '58 years 227 days' '56 years 172 days' '65 years 344 days'\n",
      " '36 years 59 days' '72 years 192 days' '48 years 348 days'\n",
      " '39 years 157 days' '54 years 176 days' '63 years 333 days'\n",
      " '66 years 159 days' '52 years 97 days' '89 years 105 days'\n",
      " '54 years 242 days' '60 years 262 days' '77 years 116 days'\n",
      " '60 years 264 days' '80 years 61 days' '51 years 264 days'\n",
      " '53 years 145 days' '43 years 313 days' '74 years 144 days'\n",
      " '76 years 118 days' '49 years 228 days' '48 years 333 days'\n",
      " '68 years 334 days' '74 years 359 days' '69 years 211 days'\n",
      " '64 years 192 days' '58 years 144 days' '47 years 88 days'\n",
      " '61 years 282 days' '75 years 194 days' '52 years 246 days'\n",
      " '47 years 199 days' '21 years 288 days' '72 years 169 days'\n",
      " '68 years 108 days' '67 years' '52 years 238 days' '59 years 11 days'\n",
      " '59 years 149 days' '48 years 362 days' '76 years 58 days'\n",
      " '72 years 193 days' '51 years 113 days' '67 years 187 days'\n",
      " '82 years 115 days' '64 years 209 days' '75 years 265 days'\n",
      " '85 years 221 days' '73 years 105 days' '78 years 273 days'\n",
      " '45 years 136 days' '42 years 225 days' '53 years 299 days'\n",
      " '68 years 290 days' '43 years 245 days' '59 years 289 days'\n",
      " '52 years 137 days' '61 years 244 days' '40 years 207 days'\n",
      " '63 years 263 days' '63 years 307 days' '70 years 98 days'\n",
      " '59 years 362 days' '56 years 101 days' '62 years 190 days'\n",
      " '24 years 83 days' '72 years 345 days' '67 years 161 days'\n",
      " '54 years 200 days' '86 years 155 days' '62 years 222 days'\n",
      " '63 years 97 days' '58 years 200 days' '60 years 5 days'\n",
      " '67 years 17 days' '23 years 310 days' '58 years 59 days'\n",
      " '64 years 18 days' '65 years 37 days' '61 years 32 days'\n",
      " '52 years 161 days' '77 years 139 days' '58 years 280 days'\n",
      " '78 years 264 days' '63 years 122 days' '63 years 86 days'\n",
      " '23 years 133 days' '65 years 94 days' '50 years 79 days'\n",
      " '55 years 209 days' '60 years 258 days' '62 years 220 days'\n",
      " '69 years 95 days' '56 years 187 days' '76 years 72 days'\n",
      " '76 years 252 days' '86 years 8 days' '69 years 80 days'\n",
      " '59 years 219 days' '75 years 337 days' '57 years 202 days'\n",
      " '69 years 257 days' '45 years 226 days' '47 years 130 days'\n",
      " '74 years 57 days' '78 years 93 days' '59 years 64 days'\n",
      " '21 years 266 days' '81 years 34 days' '70 years 60 days'\n",
      " '62 years 153 days' '75 years 191 days' '60 years 136 days'\n",
      " '63 years 53 days' '61 years 52 days' '47 years 71 days'\n",
      " '76 years 150 days' '84 years 287 days' '77 years 153 days'\n",
      " '48 years 182 days' '69 years 223 days' '56 years 12 days'\n",
      " '76 years 171 days' '70 years 117 days' '34 years 267 days'\n",
      " '68 years 341 days' '54 years 216 days' '74 years 313 days'\n",
      " '73 years 193 days' '57 years 112 days' '44 years 230 days'\n",
      " '83 years 265 days' '74 years 291 days' '51 years 275 days'\n",
      " '52 years 60 days' '73 years 102 days' '81 years 307 days'\n",
      " '78 years 94 days' '57 years 312 days' '53 years 147 days'\n",
      " '50 years 330 days' '78 years 56 days' '76 years 236 days'\n",
      " '57 years 118 days' '36 years 108 days' '72 years 284 days'\n",
      " '31 years 11 days' '65 years 66 days' '63 years 201 days'\n",
      " '49 years 351 days' '59 years 311 days' '69 years 232 days'\n",
      " '62 years 304 days' '52 years 270 days' '56 years 294 days'\n",
      " '81 years 168 days' '40 years 293 days' '81 years 319 days'\n",
      " '50 years 171 days' '38 years 8 days' '48 years 183 days'\n",
      " '51 years 86 days' '66 years 341 days' '71 years 315 days'\n",
      " '24 years 156 days' '63 years 195 days' '69 years 116 days'\n",
      " '78 years 7 days' '30 years 155 days' '52 years 288 days'\n",
      " '65 years 57 days' '78 years 271 days' '61 years 37 days'\n",
      " '50 years 173 days' '39 years 57 days' '66 years 81 days'\n",
      " '49 years 6 days' '54 years 78 days' '58 years 48 days' '73 years 4 days'\n",
      " '53 years 303 days' '63 years 292 days' '66 years 191 days'\n",
      " '49 years 322 days' '59 years 335 days' '54 years 327 days'\n",
      " '57 years 274 days' '59 years 157 days' '44 years 55 days'\n",
      " '58 years 14 days' '65 years 18 days' '67 years 34 days'\n",
      " '75 years 172 days' '88 years 209 days' '53 years 85 days'\n",
      " '75 years 126 days' '66 years 269 days' '51 years 51 days'\n",
      " '40 years 360 days' '58 years 6 days' '57 years 29 days'\n",
      " '55 years 144 days' '40 years 268 days' '40 years 206 days'\n",
      " '54 years 89 days' '53 years 136 days' '56 years 9 days'\n",
      " '59 years 306 days' '75 years 118 days' '59 years 10 days'\n",
      " '44 years 135 days' '46 years 236 days' '68 years 248 days'\n",
      " '30 years 340 days' '36 years 302 days' '78 years 270 days'\n",
      " '83 years 235 days' '51 years 201 days' '63 years 118 days'\n",
      " '59 years 227 days' '53 years 233 days' '74 years 83 days'\n",
      " '60 years 246 days' '54 years 295 days' '63 years 9 days'\n",
      " '58 years 308 days' '60 years 274 days' '71 years 257 days'\n",
      " '75 years 78 days' '50 years 309 days' '67 years 6 days'\n",
      " '60 years 358 days' '65 years 143 days' '51 years 90 days'\n",
      " '45 years 301 days' '39 years 316 days' '70 years 245 days'\n",
      " '73 years 133 days' '65 years 360 days' '72 years 251 days'\n",
      " '61 years 177 days' '65 years 22 days' '30 years 327 days'\n",
      " '64 years 50 days' '55 years 267 days' '79 years 123 days'\n",
      " '74 years 294 days' '63 years 24 days' '81 years 21 days'\n",
      " '53 years 86 days' '69 years 343 days' '60 years 342 days'\n",
      " '55 years 214 days' '75 years 342 days' '47 years 349 days'\n",
      " '71 years 148 days' '25 years 82 days' '61 years 247 days'\n",
      " '47 years 302 days' '50 years 129 days' '72 years 97 days'\n",
      " '31 years 7 days' '86 years 216 days' '38 years 214 days'\n",
      " '72 years 302 days' '55 years 46 days' '66 years 320 days'\n",
      " '55 years 361 days' '72 years 57 days' '33 years 7 days'\n",
      " '83 years 114 days' '43 years 259 days' '68 years 224 days'\n",
      " '79 years 183 days' '67 years 326 days' '49 years 298 days'\n",
      " '66 years 256 days' '68 years 221 days' '47 years 52 days'\n",
      " '61 years 218 days' '49 years 157 days' '67 years 120 days'\n",
      " '32 years 268 days' '65 years 41 days' '66 years 213 days'\n",
      " '62 years 281 days' '50 years 16 days' '34 years 111 days'\n",
      " '61 years 11 days' '77 years 353 days' '54 years 101 days'\n",
      " '51 years 32 days' '53 years 8 days' '78 years 253 days'\n",
      " '46 years 337 days' '52 years 244 days' '48 years 249 days'\n",
      " '51 years 205 days' '62 years 41 days' '58 years 20 days'\n",
      " '61 years 112 days' '66 years 111 days' '64 years 43 days'\n",
      " '56 years 114 days' '77 years 325 days' '85 years 65 days'\n",
      " '77 years 178 days' '63 years 121 days' '76 years 221 days']\n",
      "['Oligodendroglioma, NOS' 'Mixed glioma' 'Astrocytoma, NOS'\n",
      " 'Astrocytoma, anaplastic' 'Oligodendroglioma, anaplastic' '--'\n",
      " 'Glioblastoma']\n",
      "['white' 'asian' 'black or african american' '--' 'not reported'\n",
      " 'american indian or alaska native']\n",
      "['MUTATED' 'NOT_MUTATED']\n",
      "['NOT_MUTATED' 'MUTATED']\n",
      "['NOT_MUTATED' 'MUTATED']\n",
      "['NOT_MUTATED' 'MUTATED']\n",
      "['NOT_MUTATED' 'MUTATED']\n",
      "['NOT_MUTATED' 'MUTATED']\n",
      "['NOT_MUTATED' 'MUTATED']\n",
      "['MUTATED' 'NOT_MUTATED']\n",
      "['NOT_MUTATED' 'MUTATED']\n",
      "['NOT_MUTATED' 'MUTATED']\n",
      "['MUTATED' 'NOT_MUTATED']\n",
      "['NOT_MUTATED' 'MUTATED']\n",
      "['NOT_MUTATED' 'MUTATED']\n",
      "['NOT_MUTATED' 'MUTATED']\n",
      "['NOT_MUTATED' 'MUTATED']\n",
      "['NOT_MUTATED' 'MUTATED']\n",
      "['NOT_MUTATED' 'MUTATED']\n",
      "['NOT_MUTATED' 'MUTATED']\n",
      "['NOT_MUTATED' 'MUTATED']\n",
      "['NOT_MUTATED' 'MUTATED']\n"
     ]
    }
   ],
   "source": [
    "for i in df.columns:\n",
    "    print(df[i].unique())"
   ]
  },
  {
   "cell_type": "code",
   "execution_count": 71,
   "metadata": {},
   "outputs": [],
   "source": [
    "# Replacing categorical variables with binary\n",
    "df.replace({'MUTATED': 1, 'NOT_MUTATED': 0, 'Female': 1, 'Male': 0, 'LGG': 0, 'GBM': 1}, inplace=True)"
   ]
  },
  {
   "cell_type": "code",
   "execution_count": 72,
   "metadata": {},
   "outputs": [],
   "source": [
    "# Removing rows with not identified variables\n",
    "df = df[ (df['Gender'] != '--') & (df['Race'] != 'not reported')]"
   ]
  },
  {
   "cell_type": "code",
   "execution_count": 73,
   "metadata": {},
   "outputs": [],
   "source": [
    "# Dropping unnessecary columns\n",
    "df.drop(columns=(['Case_ID', 'Project', 'Primary_Diagnosis']), inplace=True)"
   ]
  },
  {
   "cell_type": "code",
   "execution_count": 74,
   "metadata": {},
   "outputs": [
    {
     "data": {
      "text/html": [
       "<div>\n",
       "<style scoped>\n",
       "    .dataframe tbody tr th:only-of-type {\n",
       "        vertical-align: middle;\n",
       "    }\n",
       "\n",
       "    .dataframe tbody tr th {\n",
       "        vertical-align: top;\n",
       "    }\n",
       "\n",
       "    .dataframe thead th {\n",
       "        text-align: right;\n",
       "    }\n",
       "</style>\n",
       "<table border=\"1\" class=\"dataframe\">\n",
       "  <thead>\n",
       "    <tr style=\"text-align: right;\">\n",
       "      <th></th>\n",
       "      <th>Grade</th>\n",
       "      <th>Gender</th>\n",
       "      <th>Age_at_diagnosis</th>\n",
       "      <th>IDH1</th>\n",
       "      <th>TP53</th>\n",
       "      <th>ATRX</th>\n",
       "      <th>PTEN</th>\n",
       "      <th>EGFR</th>\n",
       "      <th>CIC</th>\n",
       "      <th>MUC16</th>\n",
       "      <th>...</th>\n",
       "      <th>CSMD3</th>\n",
       "      <th>SMARCA4</th>\n",
       "      <th>GRIN2A</th>\n",
       "      <th>IDH2</th>\n",
       "      <th>FAT4</th>\n",
       "      <th>PDGFRA</th>\n",
       "      <th>Race_american indian or alaska native</th>\n",
       "      <th>Race_asian</th>\n",
       "      <th>Race_black or african american</th>\n",
       "      <th>Race_white</th>\n",
       "    </tr>\n",
       "  </thead>\n",
       "  <tbody>\n",
       "    <tr>\n",
       "      <th>0</th>\n",
       "      <td>0</td>\n",
       "      <td>0</td>\n",
       "      <td>51 years 108 days</td>\n",
       "      <td>1</td>\n",
       "      <td>0</td>\n",
       "      <td>0</td>\n",
       "      <td>0</td>\n",
       "      <td>0</td>\n",
       "      <td>0</td>\n",
       "      <td>0</td>\n",
       "      <td>...</td>\n",
       "      <td>0</td>\n",
       "      <td>0</td>\n",
       "      <td>0</td>\n",
       "      <td>0</td>\n",
       "      <td>0</td>\n",
       "      <td>0</td>\n",
       "      <td>0</td>\n",
       "      <td>0</td>\n",
       "      <td>0</td>\n",
       "      <td>1</td>\n",
       "    </tr>\n",
       "    <tr>\n",
       "      <th>1</th>\n",
       "      <td>0</td>\n",
       "      <td>0</td>\n",
       "      <td>38 years 261 days</td>\n",
       "      <td>1</td>\n",
       "      <td>0</td>\n",
       "      <td>0</td>\n",
       "      <td>0</td>\n",
       "      <td>0</td>\n",
       "      <td>1</td>\n",
       "      <td>0</td>\n",
       "      <td>...</td>\n",
       "      <td>0</td>\n",
       "      <td>0</td>\n",
       "      <td>0</td>\n",
       "      <td>0</td>\n",
       "      <td>0</td>\n",
       "      <td>0</td>\n",
       "      <td>0</td>\n",
       "      <td>0</td>\n",
       "      <td>0</td>\n",
       "      <td>1</td>\n",
       "    </tr>\n",
       "    <tr>\n",
       "      <th>2</th>\n",
       "      <td>0</td>\n",
       "      <td>0</td>\n",
       "      <td>35 years 62 days</td>\n",
       "      <td>1</td>\n",
       "      <td>1</td>\n",
       "      <td>1</td>\n",
       "      <td>0</td>\n",
       "      <td>0</td>\n",
       "      <td>0</td>\n",
       "      <td>0</td>\n",
       "      <td>...</td>\n",
       "      <td>0</td>\n",
       "      <td>0</td>\n",
       "      <td>0</td>\n",
       "      <td>0</td>\n",
       "      <td>0</td>\n",
       "      <td>0</td>\n",
       "      <td>0</td>\n",
       "      <td>0</td>\n",
       "      <td>0</td>\n",
       "      <td>1</td>\n",
       "    </tr>\n",
       "    <tr>\n",
       "      <th>3</th>\n",
       "      <td>0</td>\n",
       "      <td>1</td>\n",
       "      <td>32 years 283 days</td>\n",
       "      <td>1</td>\n",
       "      <td>1</td>\n",
       "      <td>1</td>\n",
       "      <td>0</td>\n",
       "      <td>0</td>\n",
       "      <td>0</td>\n",
       "      <td>1</td>\n",
       "      <td>...</td>\n",
       "      <td>0</td>\n",
       "      <td>0</td>\n",
       "      <td>0</td>\n",
       "      <td>0</td>\n",
       "      <td>1</td>\n",
       "      <td>0</td>\n",
       "      <td>0</td>\n",
       "      <td>0</td>\n",
       "      <td>0</td>\n",
       "      <td>1</td>\n",
       "    </tr>\n",
       "    <tr>\n",
       "      <th>4</th>\n",
       "      <td>0</td>\n",
       "      <td>0</td>\n",
       "      <td>31 years 187 days</td>\n",
       "      <td>1</td>\n",
       "      <td>1</td>\n",
       "      <td>1</td>\n",
       "      <td>0</td>\n",
       "      <td>0</td>\n",
       "      <td>0</td>\n",
       "      <td>0</td>\n",
       "      <td>...</td>\n",
       "      <td>0</td>\n",
       "      <td>0</td>\n",
       "      <td>0</td>\n",
       "      <td>0</td>\n",
       "      <td>0</td>\n",
       "      <td>0</td>\n",
       "      <td>0</td>\n",
       "      <td>0</td>\n",
       "      <td>0</td>\n",
       "      <td>1</td>\n",
       "    </tr>\n",
       "    <tr>\n",
       "      <th>...</th>\n",
       "      <td>...</td>\n",
       "      <td>...</td>\n",
       "      <td>...</td>\n",
       "      <td>...</td>\n",
       "      <td>...</td>\n",
       "      <td>...</td>\n",
       "      <td>...</td>\n",
       "      <td>...</td>\n",
       "      <td>...</td>\n",
       "      <td>...</td>\n",
       "      <td>...</td>\n",
       "      <td>...</td>\n",
       "      <td>...</td>\n",
       "      <td>...</td>\n",
       "      <td>...</td>\n",
       "      <td>...</td>\n",
       "      <td>...</td>\n",
       "      <td>...</td>\n",
       "      <td>...</td>\n",
       "      <td>...</td>\n",
       "      <td>...</td>\n",
       "    </tr>\n",
       "    <tr>\n",
       "      <th>857</th>\n",
       "      <td>1</td>\n",
       "      <td>1</td>\n",
       "      <td>77 years 325 days</td>\n",
       "      <td>0</td>\n",
       "      <td>0</td>\n",
       "      <td>0</td>\n",
       "      <td>1</td>\n",
       "      <td>0</td>\n",
       "      <td>0</td>\n",
       "      <td>0</td>\n",
       "      <td>...</td>\n",
       "      <td>0</td>\n",
       "      <td>0</td>\n",
       "      <td>0</td>\n",
       "      <td>0</td>\n",
       "      <td>0</td>\n",
       "      <td>0</td>\n",
       "      <td>0</td>\n",
       "      <td>0</td>\n",
       "      <td>0</td>\n",
       "      <td>1</td>\n",
       "    </tr>\n",
       "    <tr>\n",
       "      <th>858</th>\n",
       "      <td>1</td>\n",
       "      <td>0</td>\n",
       "      <td>85 years 65 days</td>\n",
       "      <td>0</td>\n",
       "      <td>1</td>\n",
       "      <td>0</td>\n",
       "      <td>1</td>\n",
       "      <td>0</td>\n",
       "      <td>0</td>\n",
       "      <td>0</td>\n",
       "      <td>...</td>\n",
       "      <td>0</td>\n",
       "      <td>0</td>\n",
       "      <td>0</td>\n",
       "      <td>0</td>\n",
       "      <td>0</td>\n",
       "      <td>0</td>\n",
       "      <td>0</td>\n",
       "      <td>0</td>\n",
       "      <td>0</td>\n",
       "      <td>1</td>\n",
       "    </tr>\n",
       "    <tr>\n",
       "      <th>859</th>\n",
       "      <td>1</td>\n",
       "      <td>1</td>\n",
       "      <td>77 years 178 days</td>\n",
       "      <td>0</td>\n",
       "      <td>1</td>\n",
       "      <td>0</td>\n",
       "      <td>1</td>\n",
       "      <td>0</td>\n",
       "      <td>0</td>\n",
       "      <td>0</td>\n",
       "      <td>...</td>\n",
       "      <td>0</td>\n",
       "      <td>0</td>\n",
       "      <td>0</td>\n",
       "      <td>0</td>\n",
       "      <td>0</td>\n",
       "      <td>0</td>\n",
       "      <td>0</td>\n",
       "      <td>0</td>\n",
       "      <td>0</td>\n",
       "      <td>1</td>\n",
       "    </tr>\n",
       "    <tr>\n",
       "      <th>860</th>\n",
       "      <td>1</td>\n",
       "      <td>0</td>\n",
       "      <td>63 years 121 days</td>\n",
       "      <td>0</td>\n",
       "      <td>1</td>\n",
       "      <td>0</td>\n",
       "      <td>0</td>\n",
       "      <td>0</td>\n",
       "      <td>0</td>\n",
       "      <td>1</td>\n",
       "      <td>...</td>\n",
       "      <td>0</td>\n",
       "      <td>0</td>\n",
       "      <td>0</td>\n",
       "      <td>0</td>\n",
       "      <td>0</td>\n",
       "      <td>0</td>\n",
       "      <td>0</td>\n",
       "      <td>0</td>\n",
       "      <td>0</td>\n",
       "      <td>1</td>\n",
       "    </tr>\n",
       "    <tr>\n",
       "      <th>861</th>\n",
       "      <td>1</td>\n",
       "      <td>0</td>\n",
       "      <td>76 years 221 days</td>\n",
       "      <td>0</td>\n",
       "      <td>0</td>\n",
       "      <td>0</td>\n",
       "      <td>0</td>\n",
       "      <td>0</td>\n",
       "      <td>0</td>\n",
       "      <td>0</td>\n",
       "      <td>...</td>\n",
       "      <td>0</td>\n",
       "      <td>0</td>\n",
       "      <td>0</td>\n",
       "      <td>0</td>\n",
       "      <td>0</td>\n",
       "      <td>0</td>\n",
       "      <td>0</td>\n",
       "      <td>0</td>\n",
       "      <td>1</td>\n",
       "      <td>0</td>\n",
       "    </tr>\n",
       "  </tbody>\n",
       "</table>\n",
       "<p>840 rows × 27 columns</p>\n",
       "</div>"
      ],
      "text/plain": [
       "     Grade Gender   Age_at_diagnosis  IDH1  TP53  ATRX  PTEN  EGFR  CIC  \\\n",
       "0        0      0  51 years 108 days     1     0     0     0     0    0   \n",
       "1        0      0  38 years 261 days     1     0     0     0     0    1   \n",
       "2        0      0   35 years 62 days     1     1     1     0     0    0   \n",
       "3        0      1  32 years 283 days     1     1     1     0     0    0   \n",
       "4        0      0  31 years 187 days     1     1     1     0     0    0   \n",
       "..     ...    ...                ...   ...   ...   ...   ...   ...  ...   \n",
       "857      1      1  77 years 325 days     0     0     0     1     0    0   \n",
       "858      1      0   85 years 65 days     0     1     0     1     0    0   \n",
       "859      1      1  77 years 178 days     0     1     0     1     0    0   \n",
       "860      1      0  63 years 121 days     0     1     0     0     0    0   \n",
       "861      1      0  76 years 221 days     0     0     0     0     0    0   \n",
       "\n",
       "     MUC16  ...  CSMD3  SMARCA4  GRIN2A  IDH2  FAT4  PDGFRA  \\\n",
       "0        0  ...      0        0       0     0     0       0   \n",
       "1        0  ...      0        0       0     0     0       0   \n",
       "2        0  ...      0        0       0     0     0       0   \n",
       "3        1  ...      0        0       0     0     1       0   \n",
       "4        0  ...      0        0       0     0     0       0   \n",
       "..     ...  ...    ...      ...     ...   ...   ...     ...   \n",
       "857      0  ...      0        0       0     0     0       0   \n",
       "858      0  ...      0        0       0     0     0       0   \n",
       "859      0  ...      0        0       0     0     0       0   \n",
       "860      1  ...      0        0       0     0     0       0   \n",
       "861      0  ...      0        0       0     0     0       0   \n",
       "\n",
       "     Race_american indian or alaska native  Race_asian  \\\n",
       "0                                        0           0   \n",
       "1                                        0           0   \n",
       "2                                        0           0   \n",
       "3                                        0           0   \n",
       "4                                        0           0   \n",
       "..                                     ...         ...   \n",
       "857                                      0           0   \n",
       "858                                      0           0   \n",
       "859                                      0           0   \n",
       "860                                      0           0   \n",
       "861                                      0           0   \n",
       "\n",
       "     Race_black or african american  Race_white  \n",
       "0                                 0           1  \n",
       "1                                 0           1  \n",
       "2                                 0           1  \n",
       "3                                 0           1  \n",
       "4                                 0           1  \n",
       "..                              ...         ...  \n",
       "857                               0           1  \n",
       "858                               0           1  \n",
       "859                               0           1  \n",
       "860                               0           1  \n",
       "861                               1           0  \n",
       "\n",
       "[840 rows x 27 columns]"
      ]
     },
     "execution_count": 74,
     "metadata": {},
     "output_type": "execute_result"
    }
   ],
   "source": [
    "# One hot encoding for race column\n",
    "df = pd.concat([df, pd.get_dummies(df['Race'], prefix='Race')], axis=1)\n",
    "df.drop(columns=['Race'], inplace=True)\n",
    "df"
   ]
  },
  {
   "cell_type": "code",
   "execution_count": 75,
   "metadata": {},
   "outputs": [],
   "source": [
    "# Converting column 'Age_at_diagnosis' to numerical data\n",
    "data = []\n",
    "years = pd.DataFrame(data)"
   ]
  },
  {
   "cell_type": "code",
   "execution_count": 76,
   "metadata": {},
   "outputs": [
    {
     "data": {
      "text/html": [
       "<div>\n",
       "<style scoped>\n",
       "    .dataframe tbody tr th:only-of-type {\n",
       "        vertical-align: middle;\n",
       "    }\n",
       "\n",
       "    .dataframe tbody tr th {\n",
       "        vertical-align: top;\n",
       "    }\n",
       "\n",
       "    .dataframe thead th {\n",
       "        text-align: right;\n",
       "    }\n",
       "</style>\n",
       "<table border=\"1\" class=\"dataframe\">\n",
       "  <thead>\n",
       "    <tr style=\"text-align: right;\">\n",
       "      <th></th>\n",
       "      <th>Grade</th>\n",
       "      <th>Gender</th>\n",
       "      <th>Age_at_diagnosis</th>\n",
       "      <th>IDH1</th>\n",
       "      <th>TP53</th>\n",
       "      <th>ATRX</th>\n",
       "      <th>PTEN</th>\n",
       "      <th>EGFR</th>\n",
       "      <th>CIC</th>\n",
       "      <th>MUC16</th>\n",
       "      <th>...</th>\n",
       "      <th>CSMD3</th>\n",
       "      <th>SMARCA4</th>\n",
       "      <th>GRIN2A</th>\n",
       "      <th>IDH2</th>\n",
       "      <th>FAT4</th>\n",
       "      <th>PDGFRA</th>\n",
       "      <th>Race_american indian or alaska native</th>\n",
       "      <th>Race_asian</th>\n",
       "      <th>Race_black or african american</th>\n",
       "      <th>Race_white</th>\n",
       "    </tr>\n",
       "  </thead>\n",
       "  <tbody>\n",
       "    <tr>\n",
       "      <th>0</th>\n",
       "      <td>0</td>\n",
       "      <td>0</td>\n",
       "      <td>51.30</td>\n",
       "      <td>1</td>\n",
       "      <td>0</td>\n",
       "      <td>0</td>\n",
       "      <td>0</td>\n",
       "      <td>0</td>\n",
       "      <td>0</td>\n",
       "      <td>0</td>\n",
       "      <td>...</td>\n",
       "      <td>0</td>\n",
       "      <td>0</td>\n",
       "      <td>0</td>\n",
       "      <td>0</td>\n",
       "      <td>0</td>\n",
       "      <td>0</td>\n",
       "      <td>0</td>\n",
       "      <td>0</td>\n",
       "      <td>0</td>\n",
       "      <td>1</td>\n",
       "    </tr>\n",
       "    <tr>\n",
       "      <th>1</th>\n",
       "      <td>0</td>\n",
       "      <td>0</td>\n",
       "      <td>38.72</td>\n",
       "      <td>1</td>\n",
       "      <td>0</td>\n",
       "      <td>0</td>\n",
       "      <td>0</td>\n",
       "      <td>0</td>\n",
       "      <td>1</td>\n",
       "      <td>0</td>\n",
       "      <td>...</td>\n",
       "      <td>0</td>\n",
       "      <td>0</td>\n",
       "      <td>0</td>\n",
       "      <td>0</td>\n",
       "      <td>0</td>\n",
       "      <td>0</td>\n",
       "      <td>0</td>\n",
       "      <td>0</td>\n",
       "      <td>0</td>\n",
       "      <td>1</td>\n",
       "    </tr>\n",
       "    <tr>\n",
       "      <th>2</th>\n",
       "      <td>0</td>\n",
       "      <td>0</td>\n",
       "      <td>35.17</td>\n",
       "      <td>1</td>\n",
       "      <td>1</td>\n",
       "      <td>1</td>\n",
       "      <td>0</td>\n",
       "      <td>0</td>\n",
       "      <td>0</td>\n",
       "      <td>0</td>\n",
       "      <td>...</td>\n",
       "      <td>0</td>\n",
       "      <td>0</td>\n",
       "      <td>0</td>\n",
       "      <td>0</td>\n",
       "      <td>0</td>\n",
       "      <td>0</td>\n",
       "      <td>0</td>\n",
       "      <td>0</td>\n",
       "      <td>0</td>\n",
       "      <td>1</td>\n",
       "    </tr>\n",
       "    <tr>\n",
       "      <th>3</th>\n",
       "      <td>0</td>\n",
       "      <td>1</td>\n",
       "      <td>32.78</td>\n",
       "      <td>1</td>\n",
       "      <td>1</td>\n",
       "      <td>1</td>\n",
       "      <td>0</td>\n",
       "      <td>0</td>\n",
       "      <td>0</td>\n",
       "      <td>1</td>\n",
       "      <td>...</td>\n",
       "      <td>0</td>\n",
       "      <td>0</td>\n",
       "      <td>0</td>\n",
       "      <td>0</td>\n",
       "      <td>1</td>\n",
       "      <td>0</td>\n",
       "      <td>0</td>\n",
       "      <td>0</td>\n",
       "      <td>0</td>\n",
       "      <td>1</td>\n",
       "    </tr>\n",
       "    <tr>\n",
       "      <th>4</th>\n",
       "      <td>0</td>\n",
       "      <td>0</td>\n",
       "      <td>31.51</td>\n",
       "      <td>1</td>\n",
       "      <td>1</td>\n",
       "      <td>1</td>\n",
       "      <td>0</td>\n",
       "      <td>0</td>\n",
       "      <td>0</td>\n",
       "      <td>0</td>\n",
       "      <td>...</td>\n",
       "      <td>0</td>\n",
       "      <td>0</td>\n",
       "      <td>0</td>\n",
       "      <td>0</td>\n",
       "      <td>0</td>\n",
       "      <td>0</td>\n",
       "      <td>0</td>\n",
       "      <td>0</td>\n",
       "      <td>0</td>\n",
       "      <td>1</td>\n",
       "    </tr>\n",
       "    <tr>\n",
       "      <th>...</th>\n",
       "      <td>...</td>\n",
       "      <td>...</td>\n",
       "      <td>...</td>\n",
       "      <td>...</td>\n",
       "      <td>...</td>\n",
       "      <td>...</td>\n",
       "      <td>...</td>\n",
       "      <td>...</td>\n",
       "      <td>...</td>\n",
       "      <td>...</td>\n",
       "      <td>...</td>\n",
       "      <td>...</td>\n",
       "      <td>...</td>\n",
       "      <td>...</td>\n",
       "      <td>...</td>\n",
       "      <td>...</td>\n",
       "      <td>...</td>\n",
       "      <td>...</td>\n",
       "      <td>...</td>\n",
       "      <td>...</td>\n",
       "      <td>...</td>\n",
       "    </tr>\n",
       "    <tr>\n",
       "      <th>857</th>\n",
       "      <td>1</td>\n",
       "      <td>1</td>\n",
       "      <td>77.89</td>\n",
       "      <td>0</td>\n",
       "      <td>0</td>\n",
       "      <td>0</td>\n",
       "      <td>1</td>\n",
       "      <td>0</td>\n",
       "      <td>0</td>\n",
       "      <td>0</td>\n",
       "      <td>...</td>\n",
       "      <td>0</td>\n",
       "      <td>0</td>\n",
       "      <td>0</td>\n",
       "      <td>0</td>\n",
       "      <td>0</td>\n",
       "      <td>0</td>\n",
       "      <td>0</td>\n",
       "      <td>0</td>\n",
       "      <td>0</td>\n",
       "      <td>1</td>\n",
       "    </tr>\n",
       "    <tr>\n",
       "      <th>858</th>\n",
       "      <td>1</td>\n",
       "      <td>0</td>\n",
       "      <td>85.18</td>\n",
       "      <td>0</td>\n",
       "      <td>1</td>\n",
       "      <td>0</td>\n",
       "      <td>1</td>\n",
       "      <td>0</td>\n",
       "      <td>0</td>\n",
       "      <td>0</td>\n",
       "      <td>...</td>\n",
       "      <td>0</td>\n",
       "      <td>0</td>\n",
       "      <td>0</td>\n",
       "      <td>0</td>\n",
       "      <td>0</td>\n",
       "      <td>0</td>\n",
       "      <td>0</td>\n",
       "      <td>0</td>\n",
       "      <td>0</td>\n",
       "      <td>1</td>\n",
       "    </tr>\n",
       "    <tr>\n",
       "      <th>859</th>\n",
       "      <td>1</td>\n",
       "      <td>1</td>\n",
       "      <td>77.49</td>\n",
       "      <td>0</td>\n",
       "      <td>1</td>\n",
       "      <td>0</td>\n",
       "      <td>1</td>\n",
       "      <td>0</td>\n",
       "      <td>0</td>\n",
       "      <td>0</td>\n",
       "      <td>...</td>\n",
       "      <td>0</td>\n",
       "      <td>0</td>\n",
       "      <td>0</td>\n",
       "      <td>0</td>\n",
       "      <td>0</td>\n",
       "      <td>0</td>\n",
       "      <td>0</td>\n",
       "      <td>0</td>\n",
       "      <td>0</td>\n",
       "      <td>1</td>\n",
       "    </tr>\n",
       "    <tr>\n",
       "      <th>860</th>\n",
       "      <td>1</td>\n",
       "      <td>0</td>\n",
       "      <td>63.33</td>\n",
       "      <td>0</td>\n",
       "      <td>1</td>\n",
       "      <td>0</td>\n",
       "      <td>0</td>\n",
       "      <td>0</td>\n",
       "      <td>0</td>\n",
       "      <td>1</td>\n",
       "      <td>...</td>\n",
       "      <td>0</td>\n",
       "      <td>0</td>\n",
       "      <td>0</td>\n",
       "      <td>0</td>\n",
       "      <td>0</td>\n",
       "      <td>0</td>\n",
       "      <td>0</td>\n",
       "      <td>0</td>\n",
       "      <td>0</td>\n",
       "      <td>1</td>\n",
       "    </tr>\n",
       "    <tr>\n",
       "      <th>861</th>\n",
       "      <td>1</td>\n",
       "      <td>0</td>\n",
       "      <td>76.61</td>\n",
       "      <td>0</td>\n",
       "      <td>0</td>\n",
       "      <td>0</td>\n",
       "      <td>0</td>\n",
       "      <td>0</td>\n",
       "      <td>0</td>\n",
       "      <td>0</td>\n",
       "      <td>...</td>\n",
       "      <td>0</td>\n",
       "      <td>0</td>\n",
       "      <td>0</td>\n",
       "      <td>0</td>\n",
       "      <td>0</td>\n",
       "      <td>0</td>\n",
       "      <td>0</td>\n",
       "      <td>0</td>\n",
       "      <td>1</td>\n",
       "      <td>0</td>\n",
       "    </tr>\n",
       "  </tbody>\n",
       "</table>\n",
       "<p>840 rows × 27 columns</p>\n",
       "</div>"
      ],
      "text/plain": [
       "     Grade Gender  Age_at_diagnosis  IDH1  TP53  ATRX  PTEN  EGFR  CIC  MUC16  \\\n",
       "0        0      0             51.30     1     0     0     0     0    0      0   \n",
       "1        0      0             38.72     1     0     0     0     0    1      0   \n",
       "2        0      0             35.17     1     1     1     0     0    0      0   \n",
       "3        0      1             32.78     1     1     1     0     0    0      1   \n",
       "4        0      0             31.51     1     1     1     0     0    0      0   \n",
       "..     ...    ...               ...   ...   ...   ...   ...   ...  ...    ...   \n",
       "857      1      1             77.89     0     0     0     1     0    0      0   \n",
       "858      1      0             85.18     0     1     0     1     0    0      0   \n",
       "859      1      1             77.49     0     1     0     1     0    0      0   \n",
       "860      1      0             63.33     0     1     0     0     0    0      1   \n",
       "861      1      0             76.61     0     0     0     0     0    0      0   \n",
       "\n",
       "     ...  CSMD3  SMARCA4  GRIN2A  IDH2  FAT4  PDGFRA  \\\n",
       "0    ...      0        0       0     0     0       0   \n",
       "1    ...      0        0       0     0     0       0   \n",
       "2    ...      0        0       0     0     0       0   \n",
       "3    ...      0        0       0     0     1       0   \n",
       "4    ...      0        0       0     0     0       0   \n",
       "..   ...    ...      ...     ...   ...   ...     ...   \n",
       "857  ...      0        0       0     0     0       0   \n",
       "858  ...      0        0       0     0     0       0   \n",
       "859  ...      0        0       0     0     0       0   \n",
       "860  ...      0        0       0     0     0       0   \n",
       "861  ...      0        0       0     0     0       0   \n",
       "\n",
       "     Race_american indian or alaska native  Race_asian  \\\n",
       "0                                        0           0   \n",
       "1                                        0           0   \n",
       "2                                        0           0   \n",
       "3                                        0           0   \n",
       "4                                        0           0   \n",
       "..                                     ...         ...   \n",
       "857                                      0           0   \n",
       "858                                      0           0   \n",
       "859                                      0           0   \n",
       "860                                      0           0   \n",
       "861                                      0           0   \n",
       "\n",
       "     Race_black or african american  Race_white  \n",
       "0                                 0           1  \n",
       "1                                 0           1  \n",
       "2                                 0           1  \n",
       "3                                 0           1  \n",
       "4                                 0           1  \n",
       "..                              ...         ...  \n",
       "857                               0           1  \n",
       "858                               0           1  \n",
       "859                               0           1  \n",
       "860                               0           1  \n",
       "861                               1           0  \n",
       "\n",
       "[840 rows x 27 columns]"
      ]
     },
     "execution_count": 76,
     "metadata": {},
     "output_type": "execute_result"
    }
   ],
   "source": [
    "# Creating new dataframe where Age column is split by ' ', unnecessary columns are deleted, years and days are added together\n",
    "years = df['Age_at_diagnosis'].str.split(' ', expand=True)\n",
    "years.drop(columns=[1, 3], inplace=True)\n",
    "years[2] = pd.to_numeric(years[2], errors='coerce')\n",
    "years[0] = pd.to_numeric(years[0], errors='coerce')\n",
    "years[2] = round(years[2] / 365, 2)\n",
    "years[0] = years[0] + years[2]\n",
    "# Old column is replaced with a new one\n",
    "df['Age_at_diagnosis'] = years[0]\n",
    "df"
   ]
  },
  {
   "cell_type": "code",
   "execution_count": 77,
   "metadata": {},
   "outputs": [
    {
     "data": {
      "text/html": [
       "<div>\n",
       "<style scoped>\n",
       "    .dataframe tbody tr th:only-of-type {\n",
       "        vertical-align: middle;\n",
       "    }\n",
       "\n",
       "    .dataframe tbody tr th {\n",
       "        vertical-align: top;\n",
       "    }\n",
       "\n",
       "    .dataframe thead th {\n",
       "        text-align: right;\n",
       "    }\n",
       "</style>\n",
       "<table border=\"1\" class=\"dataframe\">\n",
       "  <thead>\n",
       "    <tr style=\"text-align: right;\">\n",
       "      <th></th>\n",
       "      <th>Grade</th>\n",
       "      <th>Age</th>\n",
       "      <th>IDH1</th>\n",
       "      <th>TP53</th>\n",
       "      <th>ATRX</th>\n",
       "      <th>PTEN</th>\n",
       "      <th>EGFR</th>\n",
       "      <th>CIC</th>\n",
       "      <th>MUC16</th>\n",
       "      <th>PIK3CA</th>\n",
       "      <th>...</th>\n",
       "      <th>CSMD3</th>\n",
       "      <th>SMARCA4</th>\n",
       "      <th>GRIN2A</th>\n",
       "      <th>IDH2</th>\n",
       "      <th>FAT4</th>\n",
       "      <th>PDGFRA</th>\n",
       "      <th>Race_american indian or alaska native</th>\n",
       "      <th>Race_asian</th>\n",
       "      <th>Race_black or african american</th>\n",
       "      <th>Race_white</th>\n",
       "    </tr>\n",
       "  </thead>\n",
       "  <tbody>\n",
       "    <tr>\n",
       "      <th>count</th>\n",
       "      <td>840.000000</td>\n",
       "      <td>840.000000</td>\n",
       "      <td>840.000000</td>\n",
       "      <td>840.000000</td>\n",
       "      <td>840.000000</td>\n",
       "      <td>840.000000</td>\n",
       "      <td>840.000000</td>\n",
       "      <td>840.000000</td>\n",
       "      <td>840.000000</td>\n",
       "      <td>840.000000</td>\n",
       "      <td>...</td>\n",
       "      <td>840.000000</td>\n",
       "      <td>840.000000</td>\n",
       "      <td>840.000000</td>\n",
       "      <td>840.000000</td>\n",
       "      <td>840.000000</td>\n",
       "      <td>840.000000</td>\n",
       "      <td>840.000000</td>\n",
       "      <td>840.000000</td>\n",
       "      <td>840.000000</td>\n",
       "      <td>840.000000</td>\n",
       "    </tr>\n",
       "    <tr>\n",
       "      <th>mean</th>\n",
       "      <td>0.419048</td>\n",
       "      <td>50.873130</td>\n",
       "      <td>0.482143</td>\n",
       "      <td>0.414286</td>\n",
       "      <td>0.258333</td>\n",
       "      <td>0.167857</td>\n",
       "      <td>0.133333</td>\n",
       "      <td>0.132143</td>\n",
       "      <td>0.116667</td>\n",
       "      <td>0.086905</td>\n",
       "      <td>...</td>\n",
       "      <td>0.032143</td>\n",
       "      <td>0.032143</td>\n",
       "      <td>0.032143</td>\n",
       "      <td>0.027381</td>\n",
       "      <td>0.027381</td>\n",
       "      <td>0.026190</td>\n",
       "      <td>0.001190</td>\n",
       "      <td>0.016667</td>\n",
       "      <td>0.070238</td>\n",
       "      <td>0.911905</td>\n",
       "    </tr>\n",
       "    <tr>\n",
       "      <th>std</th>\n",
       "      <td>0.493697</td>\n",
       "      <td>15.633549</td>\n",
       "      <td>0.499979</td>\n",
       "      <td>0.492892</td>\n",
       "      <td>0.437979</td>\n",
       "      <td>0.373962</td>\n",
       "      <td>0.340137</td>\n",
       "      <td>0.338848</td>\n",
       "      <td>0.321214</td>\n",
       "      <td>0.281863</td>\n",
       "      <td>...</td>\n",
       "      <td>0.176484</td>\n",
       "      <td>0.176484</td>\n",
       "      <td>0.176484</td>\n",
       "      <td>0.163288</td>\n",
       "      <td>0.163288</td>\n",
       "      <td>0.159797</td>\n",
       "      <td>0.034503</td>\n",
       "      <td>0.128095</td>\n",
       "      <td>0.255700</td>\n",
       "      <td>0.283602</td>\n",
       "    </tr>\n",
       "    <tr>\n",
       "      <th>min</th>\n",
       "      <td>0.000000</td>\n",
       "      <td>14.420000</td>\n",
       "      <td>0.000000</td>\n",
       "      <td>0.000000</td>\n",
       "      <td>0.000000</td>\n",
       "      <td>0.000000</td>\n",
       "      <td>0.000000</td>\n",
       "      <td>0.000000</td>\n",
       "      <td>0.000000</td>\n",
       "      <td>0.000000</td>\n",
       "      <td>...</td>\n",
       "      <td>0.000000</td>\n",
       "      <td>0.000000</td>\n",
       "      <td>0.000000</td>\n",
       "      <td>0.000000</td>\n",
       "      <td>0.000000</td>\n",
       "      <td>0.000000</td>\n",
       "      <td>0.000000</td>\n",
       "      <td>0.000000</td>\n",
       "      <td>0.000000</td>\n",
       "      <td>0.000000</td>\n",
       "    </tr>\n",
       "    <tr>\n",
       "      <th>25%</th>\n",
       "      <td>0.000000</td>\n",
       "      <td>38.062500</td>\n",
       "      <td>0.000000</td>\n",
       "      <td>0.000000</td>\n",
       "      <td>0.000000</td>\n",
       "      <td>0.000000</td>\n",
       "      <td>0.000000</td>\n",
       "      <td>0.000000</td>\n",
       "      <td>0.000000</td>\n",
       "      <td>0.000000</td>\n",
       "      <td>...</td>\n",
       "      <td>0.000000</td>\n",
       "      <td>0.000000</td>\n",
       "      <td>0.000000</td>\n",
       "      <td>0.000000</td>\n",
       "      <td>0.000000</td>\n",
       "      <td>0.000000</td>\n",
       "      <td>0.000000</td>\n",
       "      <td>0.000000</td>\n",
       "      <td>0.000000</td>\n",
       "      <td>1.000000</td>\n",
       "    </tr>\n",
       "    <tr>\n",
       "      <th>50%</th>\n",
       "      <td>0.000000</td>\n",
       "      <td>51.390000</td>\n",
       "      <td>0.000000</td>\n",
       "      <td>0.000000</td>\n",
       "      <td>0.000000</td>\n",
       "      <td>0.000000</td>\n",
       "      <td>0.000000</td>\n",
       "      <td>0.000000</td>\n",
       "      <td>0.000000</td>\n",
       "      <td>0.000000</td>\n",
       "      <td>...</td>\n",
       "      <td>0.000000</td>\n",
       "      <td>0.000000</td>\n",
       "      <td>0.000000</td>\n",
       "      <td>0.000000</td>\n",
       "      <td>0.000000</td>\n",
       "      <td>0.000000</td>\n",
       "      <td>0.000000</td>\n",
       "      <td>0.000000</td>\n",
       "      <td>0.000000</td>\n",
       "      <td>1.000000</td>\n",
       "    </tr>\n",
       "    <tr>\n",
       "      <th>75%</th>\n",
       "      <td>1.000000</td>\n",
       "      <td>62.617500</td>\n",
       "      <td>1.000000</td>\n",
       "      <td>1.000000</td>\n",
       "      <td>1.000000</td>\n",
       "      <td>0.000000</td>\n",
       "      <td>0.000000</td>\n",
       "      <td>0.000000</td>\n",
       "      <td>0.000000</td>\n",
       "      <td>0.000000</td>\n",
       "      <td>...</td>\n",
       "      <td>0.000000</td>\n",
       "      <td>0.000000</td>\n",
       "      <td>0.000000</td>\n",
       "      <td>0.000000</td>\n",
       "      <td>0.000000</td>\n",
       "      <td>0.000000</td>\n",
       "      <td>0.000000</td>\n",
       "      <td>0.000000</td>\n",
       "      <td>0.000000</td>\n",
       "      <td>1.000000</td>\n",
       "    </tr>\n",
       "    <tr>\n",
       "      <th>max</th>\n",
       "      <td>1.000000</td>\n",
       "      <td>89.290000</td>\n",
       "      <td>1.000000</td>\n",
       "      <td>1.000000</td>\n",
       "      <td>1.000000</td>\n",
       "      <td>1.000000</td>\n",
       "      <td>1.000000</td>\n",
       "      <td>1.000000</td>\n",
       "      <td>1.000000</td>\n",
       "      <td>1.000000</td>\n",
       "      <td>...</td>\n",
       "      <td>1.000000</td>\n",
       "      <td>1.000000</td>\n",
       "      <td>1.000000</td>\n",
       "      <td>1.000000</td>\n",
       "      <td>1.000000</td>\n",
       "      <td>1.000000</td>\n",
       "      <td>1.000000</td>\n",
       "      <td>1.000000</td>\n",
       "      <td>1.000000</td>\n",
       "      <td>1.000000</td>\n",
       "    </tr>\n",
       "  </tbody>\n",
       "</table>\n",
       "<p>8 rows × 26 columns</p>\n",
       "</div>"
      ],
      "text/plain": [
       "            Grade         Age        IDH1        TP53        ATRX        PTEN  \\\n",
       "count  840.000000  840.000000  840.000000  840.000000  840.000000  840.000000   \n",
       "mean     0.419048   50.873130    0.482143    0.414286    0.258333    0.167857   \n",
       "std      0.493697   15.633549    0.499979    0.492892    0.437979    0.373962   \n",
       "min      0.000000   14.420000    0.000000    0.000000    0.000000    0.000000   \n",
       "25%      0.000000   38.062500    0.000000    0.000000    0.000000    0.000000   \n",
       "50%      0.000000   51.390000    0.000000    0.000000    0.000000    0.000000   \n",
       "75%      1.000000   62.617500    1.000000    1.000000    1.000000    0.000000   \n",
       "max      1.000000   89.290000    1.000000    1.000000    1.000000    1.000000   \n",
       "\n",
       "             EGFR         CIC       MUC16      PIK3CA  ...       CSMD3  \\\n",
       "count  840.000000  840.000000  840.000000  840.000000  ...  840.000000   \n",
       "mean     0.133333    0.132143    0.116667    0.086905  ...    0.032143   \n",
       "std      0.340137    0.338848    0.321214    0.281863  ...    0.176484   \n",
       "min      0.000000    0.000000    0.000000    0.000000  ...    0.000000   \n",
       "25%      0.000000    0.000000    0.000000    0.000000  ...    0.000000   \n",
       "50%      0.000000    0.000000    0.000000    0.000000  ...    0.000000   \n",
       "75%      0.000000    0.000000    0.000000    0.000000  ...    0.000000   \n",
       "max      1.000000    1.000000    1.000000    1.000000  ...    1.000000   \n",
       "\n",
       "          SMARCA4      GRIN2A        IDH2        FAT4      PDGFRA  \\\n",
       "count  840.000000  840.000000  840.000000  840.000000  840.000000   \n",
       "mean     0.032143    0.032143    0.027381    0.027381    0.026190   \n",
       "std      0.176484    0.176484    0.163288    0.163288    0.159797   \n",
       "min      0.000000    0.000000    0.000000    0.000000    0.000000   \n",
       "25%      0.000000    0.000000    0.000000    0.000000    0.000000   \n",
       "50%      0.000000    0.000000    0.000000    0.000000    0.000000   \n",
       "75%      0.000000    0.000000    0.000000    0.000000    0.000000   \n",
       "max      1.000000    1.000000    1.000000    1.000000    1.000000   \n",
       "\n",
       "       Race_american indian or alaska native  Race_asian  \\\n",
       "count                             840.000000  840.000000   \n",
       "mean                                0.001190    0.016667   \n",
       "std                                 0.034503    0.128095   \n",
       "min                                 0.000000    0.000000   \n",
       "25%                                 0.000000    0.000000   \n",
       "50%                                 0.000000    0.000000   \n",
       "75%                                 0.000000    0.000000   \n",
       "max                                 1.000000    1.000000   \n",
       "\n",
       "       Race_black or african american  Race_white  \n",
       "count                      840.000000  840.000000  \n",
       "mean                         0.070238    0.911905  \n",
       "std                          0.255700    0.283602  \n",
       "min                          0.000000    0.000000  \n",
       "25%                          0.000000    1.000000  \n",
       "50%                          0.000000    1.000000  \n",
       "75%                          0.000000    1.000000  \n",
       "max                          1.000000    1.000000  \n",
       "\n",
       "[8 rows x 26 columns]"
      ]
     },
     "execution_count": 77,
     "metadata": {},
     "output_type": "execute_result"
    }
   ],
   "source": [
    "# Imputing missing age values w mean and not median bc boxplot shows no outliers\n",
    "df.rename(columns={'Age_at_diagnosis': 'Age'}, inplace=True)\n",
    "df['Age'].fillna(df['Age'].mean(), inplace=True)\n",
    "df.describe()"
   ]
  },
  {
   "cell_type": "code",
   "execution_count": 78,
   "metadata": {},
   "outputs": [
    {
     "data": {
      "text/html": [
       "<div>\n",
       "<style scoped>\n",
       "    .dataframe tbody tr th:only-of-type {\n",
       "        vertical-align: middle;\n",
       "    }\n",
       "\n",
       "    .dataframe tbody tr th {\n",
       "        vertical-align: top;\n",
       "    }\n",
       "\n",
       "    .dataframe thead th {\n",
       "        text-align: right;\n",
       "    }\n",
       "</style>\n",
       "<table border=\"1\" class=\"dataframe\">\n",
       "  <thead>\n",
       "    <tr style=\"text-align: right;\">\n",
       "      <th></th>\n",
       "      <th>Grade</th>\n",
       "      <th>Gender</th>\n",
       "      <th>Age</th>\n",
       "      <th>IDH1</th>\n",
       "      <th>TP53</th>\n",
       "      <th>ATRX</th>\n",
       "      <th>PTEN</th>\n",
       "      <th>EGFR</th>\n",
       "      <th>CIC</th>\n",
       "      <th>MUC16</th>\n",
       "      <th>...</th>\n",
       "      <th>CSMD3</th>\n",
       "      <th>SMARCA4</th>\n",
       "      <th>GRIN2A</th>\n",
       "      <th>IDH2</th>\n",
       "      <th>FAT4</th>\n",
       "      <th>PDGFRA</th>\n",
       "      <th>Race_american indian or alaska native</th>\n",
       "      <th>Race_asian</th>\n",
       "      <th>Race_black or african american</th>\n",
       "      <th>Race_white</th>\n",
       "    </tr>\n",
       "  </thead>\n",
       "  <tbody>\n",
       "    <tr>\n",
       "      <th>0</th>\n",
       "      <td>0</td>\n",
       "      <td>0</td>\n",
       "      <td>0.027305</td>\n",
       "      <td>1</td>\n",
       "      <td>0</td>\n",
       "      <td>0</td>\n",
       "      <td>0</td>\n",
       "      <td>0</td>\n",
       "      <td>0</td>\n",
       "      <td>0</td>\n",
       "      <td>...</td>\n",
       "      <td>0</td>\n",
       "      <td>0</td>\n",
       "      <td>0</td>\n",
       "      <td>0</td>\n",
       "      <td>0</td>\n",
       "      <td>0</td>\n",
       "      <td>0</td>\n",
       "      <td>0</td>\n",
       "      <td>0</td>\n",
       "      <td>1</td>\n",
       "    </tr>\n",
       "    <tr>\n",
       "      <th>1</th>\n",
       "      <td>0</td>\n",
       "      <td>0</td>\n",
       "      <td>-0.777375</td>\n",
       "      <td>1</td>\n",
       "      <td>0</td>\n",
       "      <td>0</td>\n",
       "      <td>0</td>\n",
       "      <td>0</td>\n",
       "      <td>1</td>\n",
       "      <td>0</td>\n",
       "      <td>...</td>\n",
       "      <td>0</td>\n",
       "      <td>0</td>\n",
       "      <td>0</td>\n",
       "      <td>0</td>\n",
       "      <td>0</td>\n",
       "      <td>0</td>\n",
       "      <td>0</td>\n",
       "      <td>0</td>\n",
       "      <td>0</td>\n",
       "      <td>1</td>\n",
       "    </tr>\n",
       "    <tr>\n",
       "      <th>2</th>\n",
       "      <td>0</td>\n",
       "      <td>0</td>\n",
       "      <td>-1.004451</td>\n",
       "      <td>1</td>\n",
       "      <td>1</td>\n",
       "      <td>1</td>\n",
       "      <td>0</td>\n",
       "      <td>0</td>\n",
       "      <td>0</td>\n",
       "      <td>0</td>\n",
       "      <td>...</td>\n",
       "      <td>0</td>\n",
       "      <td>0</td>\n",
       "      <td>0</td>\n",
       "      <td>0</td>\n",
       "      <td>0</td>\n",
       "      <td>0</td>\n",
       "      <td>0</td>\n",
       "      <td>0</td>\n",
       "      <td>0</td>\n",
       "      <td>1</td>\n",
       "    </tr>\n",
       "    <tr>\n",
       "      <th>3</th>\n",
       "      <td>0</td>\n",
       "      <td>1</td>\n",
       "      <td>-1.157327</td>\n",
       "      <td>1</td>\n",
       "      <td>1</td>\n",
       "      <td>1</td>\n",
       "      <td>0</td>\n",
       "      <td>0</td>\n",
       "      <td>0</td>\n",
       "      <td>1</td>\n",
       "      <td>...</td>\n",
       "      <td>0</td>\n",
       "      <td>0</td>\n",
       "      <td>0</td>\n",
       "      <td>0</td>\n",
       "      <td>1</td>\n",
       "      <td>0</td>\n",
       "      <td>0</td>\n",
       "      <td>0</td>\n",
       "      <td>0</td>\n",
       "      <td>1</td>\n",
       "    </tr>\n",
       "    <tr>\n",
       "      <th>4</th>\n",
       "      <td>0</td>\n",
       "      <td>0</td>\n",
       "      <td>-1.238563</td>\n",
       "      <td>1</td>\n",
       "      <td>1</td>\n",
       "      <td>1</td>\n",
       "      <td>0</td>\n",
       "      <td>0</td>\n",
       "      <td>0</td>\n",
       "      <td>0</td>\n",
       "      <td>...</td>\n",
       "      <td>0</td>\n",
       "      <td>0</td>\n",
       "      <td>0</td>\n",
       "      <td>0</td>\n",
       "      <td>0</td>\n",
       "      <td>0</td>\n",
       "      <td>0</td>\n",
       "      <td>0</td>\n",
       "      <td>0</td>\n",
       "      <td>1</td>\n",
       "    </tr>\n",
       "    <tr>\n",
       "      <th>...</th>\n",
       "      <td>...</td>\n",
       "      <td>...</td>\n",
       "      <td>...</td>\n",
       "      <td>...</td>\n",
       "      <td>...</td>\n",
       "      <td>...</td>\n",
       "      <td>...</td>\n",
       "      <td>...</td>\n",
       "      <td>...</td>\n",
       "      <td>...</td>\n",
       "      <td>...</td>\n",
       "      <td>...</td>\n",
       "      <td>...</td>\n",
       "      <td>...</td>\n",
       "      <td>...</td>\n",
       "      <td>...</td>\n",
       "      <td>...</td>\n",
       "      <td>...</td>\n",
       "      <td>...</td>\n",
       "      <td>...</td>\n",
       "      <td>...</td>\n",
       "    </tr>\n",
       "    <tr>\n",
       "      <th>857</th>\n",
       "      <td>1</td>\n",
       "      <td>1</td>\n",
       "      <td>1.728134</td>\n",
       "      <td>0</td>\n",
       "      <td>0</td>\n",
       "      <td>0</td>\n",
       "      <td>1</td>\n",
       "      <td>0</td>\n",
       "      <td>0</td>\n",
       "      <td>0</td>\n",
       "      <td>...</td>\n",
       "      <td>0</td>\n",
       "      <td>0</td>\n",
       "      <td>0</td>\n",
       "      <td>0</td>\n",
       "      <td>0</td>\n",
       "      <td>0</td>\n",
       "      <td>0</td>\n",
       "      <td>0</td>\n",
       "      <td>0</td>\n",
       "      <td>1</td>\n",
       "    </tr>\n",
       "    <tr>\n",
       "      <th>858</th>\n",
       "      <td>1</td>\n",
       "      <td>0</td>\n",
       "      <td>2.194439</td>\n",
       "      <td>0</td>\n",
       "      <td>1</td>\n",
       "      <td>0</td>\n",
       "      <td>1</td>\n",
       "      <td>0</td>\n",
       "      <td>0</td>\n",
       "      <td>0</td>\n",
       "      <td>...</td>\n",
       "      <td>0</td>\n",
       "      <td>0</td>\n",
       "      <td>0</td>\n",
       "      <td>0</td>\n",
       "      <td>0</td>\n",
       "      <td>0</td>\n",
       "      <td>0</td>\n",
       "      <td>0</td>\n",
       "      <td>0</td>\n",
       "      <td>1</td>\n",
       "    </tr>\n",
       "    <tr>\n",
       "      <th>859</th>\n",
       "      <td>1</td>\n",
       "      <td>1</td>\n",
       "      <td>1.702548</td>\n",
       "      <td>0</td>\n",
       "      <td>1</td>\n",
       "      <td>0</td>\n",
       "      <td>1</td>\n",
       "      <td>0</td>\n",
       "      <td>0</td>\n",
       "      <td>0</td>\n",
       "      <td>...</td>\n",
       "      <td>0</td>\n",
       "      <td>0</td>\n",
       "      <td>0</td>\n",
       "      <td>0</td>\n",
       "      <td>0</td>\n",
       "      <td>0</td>\n",
       "      <td>0</td>\n",
       "      <td>0</td>\n",
       "      <td>0</td>\n",
       "      <td>1</td>\n",
       "    </tr>\n",
       "    <tr>\n",
       "      <th>860</th>\n",
       "      <td>1</td>\n",
       "      <td>0</td>\n",
       "      <td>0.796804</td>\n",
       "      <td>0</td>\n",
       "      <td>1</td>\n",
       "      <td>0</td>\n",
       "      <td>0</td>\n",
       "      <td>0</td>\n",
       "      <td>0</td>\n",
       "      <td>1</td>\n",
       "      <td>...</td>\n",
       "      <td>0</td>\n",
       "      <td>0</td>\n",
       "      <td>0</td>\n",
       "      <td>0</td>\n",
       "      <td>0</td>\n",
       "      <td>0</td>\n",
       "      <td>0</td>\n",
       "      <td>0</td>\n",
       "      <td>0</td>\n",
       "      <td>1</td>\n",
       "    </tr>\n",
       "    <tr>\n",
       "      <th>861</th>\n",
       "      <td>1</td>\n",
       "      <td>0</td>\n",
       "      <td>1.646259</td>\n",
       "      <td>0</td>\n",
       "      <td>0</td>\n",
       "      <td>0</td>\n",
       "      <td>0</td>\n",
       "      <td>0</td>\n",
       "      <td>0</td>\n",
       "      <td>0</td>\n",
       "      <td>...</td>\n",
       "      <td>0</td>\n",
       "      <td>0</td>\n",
       "      <td>0</td>\n",
       "      <td>0</td>\n",
       "      <td>0</td>\n",
       "      <td>0</td>\n",
       "      <td>0</td>\n",
       "      <td>0</td>\n",
       "      <td>1</td>\n",
       "      <td>0</td>\n",
       "    </tr>\n",
       "  </tbody>\n",
       "</table>\n",
       "<p>840 rows × 27 columns</p>\n",
       "</div>"
      ],
      "text/plain": [
       "     Grade Gender       Age  IDH1  TP53  ATRX  PTEN  EGFR  CIC  MUC16  ...  \\\n",
       "0        0      0  0.027305     1     0     0     0     0    0      0  ...   \n",
       "1        0      0 -0.777375     1     0     0     0     0    1      0  ...   \n",
       "2        0      0 -1.004451     1     1     1     0     0    0      0  ...   \n",
       "3        0      1 -1.157327     1     1     1     0     0    0      1  ...   \n",
       "4        0      0 -1.238563     1     1     1     0     0    0      0  ...   \n",
       "..     ...    ...       ...   ...   ...   ...   ...   ...  ...    ...  ...   \n",
       "857      1      1  1.728134     0     0     0     1     0    0      0  ...   \n",
       "858      1      0  2.194439     0     1     0     1     0    0      0  ...   \n",
       "859      1      1  1.702548     0     1     0     1     0    0      0  ...   \n",
       "860      1      0  0.796804     0     1     0     0     0    0      1  ...   \n",
       "861      1      0  1.646259     0     0     0     0     0    0      0  ...   \n",
       "\n",
       "     CSMD3  SMARCA4  GRIN2A  IDH2  FAT4  PDGFRA  \\\n",
       "0        0        0       0     0     0       0   \n",
       "1        0        0       0     0     0       0   \n",
       "2        0        0       0     0     0       0   \n",
       "3        0        0       0     0     1       0   \n",
       "4        0        0       0     0     0       0   \n",
       "..     ...      ...     ...   ...   ...     ...   \n",
       "857      0        0       0     0     0       0   \n",
       "858      0        0       0     0     0       0   \n",
       "859      0        0       0     0     0       0   \n",
       "860      0        0       0     0     0       0   \n",
       "861      0        0       0     0     0       0   \n",
       "\n",
       "     Race_american indian or alaska native  Race_asian  \\\n",
       "0                                        0           0   \n",
       "1                                        0           0   \n",
       "2                                        0           0   \n",
       "3                                        0           0   \n",
       "4                                        0           0   \n",
       "..                                     ...         ...   \n",
       "857                                      0           0   \n",
       "858                                      0           0   \n",
       "859                                      0           0   \n",
       "860                                      0           0   \n",
       "861                                      0           0   \n",
       "\n",
       "     Race_black or african american  Race_white  \n",
       "0                                 0           1  \n",
       "1                                 0           1  \n",
       "2                                 0           1  \n",
       "3                                 0           1  \n",
       "4                                 0           1  \n",
       "..                              ...         ...  \n",
       "857                               0           1  \n",
       "858                               0           1  \n",
       "859                               0           1  \n",
       "860                               0           1  \n",
       "861                               1           0  \n",
       "\n",
       "[840 rows x 27 columns]"
      ]
     },
     "execution_count": 78,
     "metadata": {},
     "output_type": "execute_result"
    }
   ],
   "source": [
    "#normalizing age\n",
    "df['Age'] = (df['Age'] - df['Age'].mean()) / df['Age'].std()\n",
    "df"
   ]
  },
  {
   "cell_type": "code",
   "execution_count": 79,
   "metadata": {},
   "outputs": [
    {
     "data": {
      "text/html": [
       "<div>\n",
       "<style scoped>\n",
       "    .dataframe tbody tr th:only-of-type {\n",
       "        vertical-align: middle;\n",
       "    }\n",
       "\n",
       "    .dataframe tbody tr th {\n",
       "        vertical-align: top;\n",
       "    }\n",
       "\n",
       "    .dataframe thead th {\n",
       "        text-align: right;\n",
       "    }\n",
       "</style>\n",
       "<table border=\"1\" class=\"dataframe\">\n",
       "  <thead>\n",
       "    <tr style=\"text-align: right;\">\n",
       "      <th></th>\n",
       "      <th>Grade</th>\n",
       "      <th>Age</th>\n",
       "      <th>IDH1</th>\n",
       "      <th>TP53</th>\n",
       "      <th>ATRX</th>\n",
       "      <th>PTEN</th>\n",
       "      <th>EGFR</th>\n",
       "      <th>CIC</th>\n",
       "      <th>MUC16</th>\n",
       "      <th>PIK3CA</th>\n",
       "      <th>...</th>\n",
       "      <th>CSMD3</th>\n",
       "      <th>SMARCA4</th>\n",
       "      <th>GRIN2A</th>\n",
       "      <th>IDH2</th>\n",
       "      <th>FAT4</th>\n",
       "      <th>PDGFRA</th>\n",
       "      <th>Race_american indian or alaska native</th>\n",
       "      <th>Race_asian</th>\n",
       "      <th>Race_black or african american</th>\n",
       "      <th>Race_white</th>\n",
       "    </tr>\n",
       "  </thead>\n",
       "  <tbody>\n",
       "    <tr>\n",
       "      <th>count</th>\n",
       "      <td>840.000000</td>\n",
       "      <td>8.400000e+02</td>\n",
       "      <td>840.000000</td>\n",
       "      <td>840.000000</td>\n",
       "      <td>840.000000</td>\n",
       "      <td>840.000000</td>\n",
       "      <td>840.000000</td>\n",
       "      <td>840.000000</td>\n",
       "      <td>840.000000</td>\n",
       "      <td>840.000000</td>\n",
       "      <td>...</td>\n",
       "      <td>840.000000</td>\n",
       "      <td>840.000000</td>\n",
       "      <td>840.000000</td>\n",
       "      <td>840.000000</td>\n",
       "      <td>840.000000</td>\n",
       "      <td>840.000000</td>\n",
       "      <td>840.000000</td>\n",
       "      <td>840.000000</td>\n",
       "      <td>840.000000</td>\n",
       "      <td>840.000000</td>\n",
       "    </tr>\n",
       "    <tr>\n",
       "      <th>mean</th>\n",
       "      <td>0.419048</td>\n",
       "      <td>4.372693e-15</td>\n",
       "      <td>0.482143</td>\n",
       "      <td>0.414286</td>\n",
       "      <td>0.258333</td>\n",
       "      <td>0.167857</td>\n",
       "      <td>0.133333</td>\n",
       "      <td>0.132143</td>\n",
       "      <td>0.116667</td>\n",
       "      <td>0.086905</td>\n",
       "      <td>...</td>\n",
       "      <td>0.032143</td>\n",
       "      <td>0.032143</td>\n",
       "      <td>0.032143</td>\n",
       "      <td>0.027381</td>\n",
       "      <td>0.027381</td>\n",
       "      <td>0.026190</td>\n",
       "      <td>0.001190</td>\n",
       "      <td>0.016667</td>\n",
       "      <td>0.070238</td>\n",
       "      <td>0.911905</td>\n",
       "    </tr>\n",
       "    <tr>\n",
       "      <th>std</th>\n",
       "      <td>0.493697</td>\n",
       "      <td>1.000000e+00</td>\n",
       "      <td>0.499979</td>\n",
       "      <td>0.492892</td>\n",
       "      <td>0.437979</td>\n",
       "      <td>0.373962</td>\n",
       "      <td>0.340137</td>\n",
       "      <td>0.338848</td>\n",
       "      <td>0.321214</td>\n",
       "      <td>0.281863</td>\n",
       "      <td>...</td>\n",
       "      <td>0.176484</td>\n",
       "      <td>0.176484</td>\n",
       "      <td>0.176484</td>\n",
       "      <td>0.163288</td>\n",
       "      <td>0.163288</td>\n",
       "      <td>0.159797</td>\n",
       "      <td>0.034503</td>\n",
       "      <td>0.128095</td>\n",
       "      <td>0.255700</td>\n",
       "      <td>0.283602</td>\n",
       "    </tr>\n",
       "    <tr>\n",
       "      <th>min</th>\n",
       "      <td>0.000000</td>\n",
       "      <td>-2.331725e+00</td>\n",
       "      <td>0.000000</td>\n",
       "      <td>0.000000</td>\n",
       "      <td>0.000000</td>\n",
       "      <td>0.000000</td>\n",
       "      <td>0.000000</td>\n",
       "      <td>0.000000</td>\n",
       "      <td>0.000000</td>\n",
       "      <td>0.000000</td>\n",
       "      <td>...</td>\n",
       "      <td>0.000000</td>\n",
       "      <td>0.000000</td>\n",
       "      <td>0.000000</td>\n",
       "      <td>0.000000</td>\n",
       "      <td>0.000000</td>\n",
       "      <td>0.000000</td>\n",
       "      <td>0.000000</td>\n",
       "      <td>0.000000</td>\n",
       "      <td>0.000000</td>\n",
       "      <td>0.000000</td>\n",
       "    </tr>\n",
       "    <tr>\n",
       "      <th>25%</th>\n",
       "      <td>0.000000</td>\n",
       "      <td>-8.194320e-01</td>\n",
       "      <td>0.000000</td>\n",
       "      <td>0.000000</td>\n",
       "      <td>0.000000</td>\n",
       "      <td>0.000000</td>\n",
       "      <td>0.000000</td>\n",
       "      <td>0.000000</td>\n",
       "      <td>0.000000</td>\n",
       "      <td>0.000000</td>\n",
       "      <td>...</td>\n",
       "      <td>0.000000</td>\n",
       "      <td>0.000000</td>\n",
       "      <td>0.000000</td>\n",
       "      <td>0.000000</td>\n",
       "      <td>0.000000</td>\n",
       "      <td>0.000000</td>\n",
       "      <td>0.000000</td>\n",
       "      <td>0.000000</td>\n",
       "      <td>0.000000</td>\n",
       "      <td>1.000000</td>\n",
       "    </tr>\n",
       "    <tr>\n",
       "      <th>50%</th>\n",
       "      <td>0.000000</td>\n",
       "      <td>3.306158e-02</td>\n",
       "      <td>0.000000</td>\n",
       "      <td>0.000000</td>\n",
       "      <td>0.000000</td>\n",
       "      <td>0.000000</td>\n",
       "      <td>0.000000</td>\n",
       "      <td>0.000000</td>\n",
       "      <td>0.000000</td>\n",
       "      <td>0.000000</td>\n",
       "      <td>...</td>\n",
       "      <td>0.000000</td>\n",
       "      <td>0.000000</td>\n",
       "      <td>0.000000</td>\n",
       "      <td>0.000000</td>\n",
       "      <td>0.000000</td>\n",
       "      <td>0.000000</td>\n",
       "      <td>0.000000</td>\n",
       "      <td>0.000000</td>\n",
       "      <td>0.000000</td>\n",
       "      <td>1.000000</td>\n",
       "    </tr>\n",
       "    <tr>\n",
       "      <th>75%</th>\n",
       "      <td>1.000000</td>\n",
       "      <td>7.512286e-01</td>\n",
       "      <td>1.000000</td>\n",
       "      <td>1.000000</td>\n",
       "      <td>1.000000</td>\n",
       "      <td>0.000000</td>\n",
       "      <td>0.000000</td>\n",
       "      <td>0.000000</td>\n",
       "      <td>0.000000</td>\n",
       "      <td>0.000000</td>\n",
       "      <td>...</td>\n",
       "      <td>0.000000</td>\n",
       "      <td>0.000000</td>\n",
       "      <td>0.000000</td>\n",
       "      <td>0.000000</td>\n",
       "      <td>0.000000</td>\n",
       "      <td>0.000000</td>\n",
       "      <td>0.000000</td>\n",
       "      <td>0.000000</td>\n",
       "      <td>0.000000</td>\n",
       "      <td>1.000000</td>\n",
       "    </tr>\n",
       "    <tr>\n",
       "      <th>max</th>\n",
       "      <td>1.000000</td>\n",
       "      <td>2.457335e+00</td>\n",
       "      <td>1.000000</td>\n",
       "      <td>1.000000</td>\n",
       "      <td>1.000000</td>\n",
       "      <td>1.000000</td>\n",
       "      <td>1.000000</td>\n",
       "      <td>1.000000</td>\n",
       "      <td>1.000000</td>\n",
       "      <td>1.000000</td>\n",
       "      <td>...</td>\n",
       "      <td>1.000000</td>\n",
       "      <td>1.000000</td>\n",
       "      <td>1.000000</td>\n",
       "      <td>1.000000</td>\n",
       "      <td>1.000000</td>\n",
       "      <td>1.000000</td>\n",
       "      <td>1.000000</td>\n",
       "      <td>1.000000</td>\n",
       "      <td>1.000000</td>\n",
       "      <td>1.000000</td>\n",
       "    </tr>\n",
       "  </tbody>\n",
       "</table>\n",
       "<p>8 rows × 26 columns</p>\n",
       "</div>"
      ],
      "text/plain": [
       "            Grade           Age        IDH1        TP53        ATRX  \\\n",
       "count  840.000000  8.400000e+02  840.000000  840.000000  840.000000   \n",
       "mean     0.419048  4.372693e-15    0.482143    0.414286    0.258333   \n",
       "std      0.493697  1.000000e+00    0.499979    0.492892    0.437979   \n",
       "min      0.000000 -2.331725e+00    0.000000    0.000000    0.000000   \n",
       "25%      0.000000 -8.194320e-01    0.000000    0.000000    0.000000   \n",
       "50%      0.000000  3.306158e-02    0.000000    0.000000    0.000000   \n",
       "75%      1.000000  7.512286e-01    1.000000    1.000000    1.000000   \n",
       "max      1.000000  2.457335e+00    1.000000    1.000000    1.000000   \n",
       "\n",
       "             PTEN        EGFR         CIC       MUC16      PIK3CA  ...  \\\n",
       "count  840.000000  840.000000  840.000000  840.000000  840.000000  ...   \n",
       "mean     0.167857    0.133333    0.132143    0.116667    0.086905  ...   \n",
       "std      0.373962    0.340137    0.338848    0.321214    0.281863  ...   \n",
       "min      0.000000    0.000000    0.000000    0.000000    0.000000  ...   \n",
       "25%      0.000000    0.000000    0.000000    0.000000    0.000000  ...   \n",
       "50%      0.000000    0.000000    0.000000    0.000000    0.000000  ...   \n",
       "75%      0.000000    0.000000    0.000000    0.000000    0.000000  ...   \n",
       "max      1.000000    1.000000    1.000000    1.000000    1.000000  ...   \n",
       "\n",
       "            CSMD3     SMARCA4      GRIN2A        IDH2        FAT4      PDGFRA  \\\n",
       "count  840.000000  840.000000  840.000000  840.000000  840.000000  840.000000   \n",
       "mean     0.032143    0.032143    0.032143    0.027381    0.027381    0.026190   \n",
       "std      0.176484    0.176484    0.176484    0.163288    0.163288    0.159797   \n",
       "min      0.000000    0.000000    0.000000    0.000000    0.000000    0.000000   \n",
       "25%      0.000000    0.000000    0.000000    0.000000    0.000000    0.000000   \n",
       "50%      0.000000    0.000000    0.000000    0.000000    0.000000    0.000000   \n",
       "75%      0.000000    0.000000    0.000000    0.000000    0.000000    0.000000   \n",
       "max      1.000000    1.000000    1.000000    1.000000    1.000000    1.000000   \n",
       "\n",
       "       Race_american indian or alaska native  Race_asian  \\\n",
       "count                             840.000000  840.000000   \n",
       "mean                                0.001190    0.016667   \n",
       "std                                 0.034503    0.128095   \n",
       "min                                 0.000000    0.000000   \n",
       "25%                                 0.000000    0.000000   \n",
       "50%                                 0.000000    0.000000   \n",
       "75%                                 0.000000    0.000000   \n",
       "max                                 1.000000    1.000000   \n",
       "\n",
       "       Race_black or african american  Race_white  \n",
       "count                      840.000000  840.000000  \n",
       "mean                         0.070238    0.911905  \n",
       "std                          0.255700    0.283602  \n",
       "min                          0.000000    0.000000  \n",
       "25%                          0.000000    1.000000  \n",
       "50%                          0.000000    1.000000  \n",
       "75%                          0.000000    1.000000  \n",
       "max                          1.000000    1.000000  \n",
       "\n",
       "[8 rows x 26 columns]"
      ]
     },
     "execution_count": 79,
     "metadata": {},
     "output_type": "execute_result"
    }
   ],
   "source": [
    "# Descriptive statistics\n",
    "df.describe()"
   ]
  },
  {
   "cell_type": "code",
   "execution_count": 80,
   "metadata": {},
   "outputs": [
    {
     "data": {
      "text/plain": [
       "<AxesSubplot:xlabel='Age'>"
      ]
     },
     "execution_count": 80,
     "metadata": {},
     "output_type": "execute_result"
    },
    {
     "data": {
      "image/png": "[encoded data removed]",
      "text/plain": [
       "<Figure size 432x288 with 1 Axes>"
      ]
     },
     "metadata": {
      "needs_background": "light"
     },
     "output_type": "display_data"
    }
   ],
   "source": [
    "sns.boxplot(data=df, x='Age')"
   ]
  },
  {
   "cell_type": "markdown",
   "metadata": {},
   "source": [
    "## Data visualization "
   ]
  },
  {
   "cell_type": "code",
   "execution_count": 81,
   "metadata": {},
   "outputs": [
    {
     "data": {
      "image/png": "[encoded data removed]",
      "text/plain": [
       "<Figure size 720x360 with 1 Axes>"
      ]
     },
     "metadata": {
      "needs_background": "light"
     },
     "output_type": "display_data"
    }
   ],
   "source": [
    "# Checking age distribution by gender\n",
    "plt.figure(figsize=(10, 5))\n",
    "sns.histplot(x='Age', data=df, hue='Gender', palette={0: 'blue', 1: 'pink'}, multiple='stack', bins=20, kde=True)\n",
    "plt.title('Age Distribution by gender')\n",
    "plt.show()"
   ]
  },
  {
   "cell_type": "code",
   "execution_count": 82,
   "metadata": {},
   "outputs": [
    {
     "data": {
      "image/png": "[encoded data removed]",
      "text/plain": [
       "<Figure size 432x288 with 1 Axes>"
      ]
     },
     "metadata": {
      "needs_background": "light"
     },
     "output_type": "display_data"
    }
   ],
   "source": [
    "# Checking distribution of glioma by gender\n",
    "\n",
    "sns.countplot(data=df, x='Gender', hue='Grade', palette={0: 'blue', 1: 'pink'})\n",
    "\n",
    "plt.xlabel('Gender')\n",
    "plt.ylabel('Count')\n",
    "plt.title('Distribution of Glioma by Gender')\n",
    "plt.legend(title='Glioma')\n",
    "\n",
    "plt.show()"
   ]
  },
  {
   "cell_type": "code",
   "execution_count": 102,
   "metadata": {},
   "outputs": [
    {
     "data": {
      "image/png": "[encoded data removed]",
      "text/plain": [
       "<Figure size 720x360 with 1 Axes>"
      ]
     },
     "metadata": {
      "needs_background": "light"
     },
     "output_type": "display_data"
    }
   ],
   "source": [
    "# distribution of most commonly mutated genes\n",
    "#find most commonly mutated genes \n",
    "df['Most_commonly_mutated_gene'] = df.iloc[:, 3:-5].idxmax(axis=1)\n",
    "plt.figure(figsize=(10, 5))\n",
    "\n",
    "sns.countplot(data=df, y='Most_commonly_mutated_gene', palette='Set2')\n",
    "plt.xlabel('Count')\n",
    "plt.ylabel('Gene')\n",
    "plt.title('Distribution of most commonly mutated genes')\n",
    "plt.show()\n",
    "\n",
    "#TODO: COMMENT IN FINAL REPORT ABOUT HOW IDH1 IS MOST RELEVANT GENE"
   ]
  },
  {
   "cell_type": "markdown",
   "metadata": {},
   "source": [
    "comment: Results: We identified mutations that affected amino acid 132 of IDH1 in more than 70% of WHO grade II and III astrocytomas and oligodendrogliomas and in glioblastomas that developed from these lower-grade lesions. Tumors without mutations in IDH1 often had mutations affecting the analogous amino acid (R172) of the IDH2 gene. Tumors with IDH1 or IDH2 mutations had distinctive genetic and clinical characteristics, and patients with such tumors had a better outcome than those with wild-type IDH genes. Each of four tested IDH1 and IDH2 mutations reduced the enzymatic activity of the encoded protein."
   ]
  },
  {
   "cell_type": "code",
   "execution_count": 83,
   "metadata": {},
   "outputs": [
    {
     "data": {
      "application/vnd.plotly.v1+json": {
       "config": {
        "plotlyServerURL": "https://plot.ly"
       },
       "data": [
        {
         "name": "Column IDH1",
         "type": "bar",
         "x": [
          0,
          1
         ],
         "xaxis": "x",
         "y": [
          435,
          405
         ],
         "yaxis": "y"
        },
        {
         "name": "Column TP53",
         "type": "bar",
         "x": [
          0,
          1
         ],
         "xaxis": "x2",
         "y": [
          492,
          348
         ],
         "yaxis": "y2"
        },
        {
         "name": "Column ATRX",
         "type": "bar",
         "x": [
          0,
          1
         ],
         "xaxis": "x3",
         "y": [
          623,
          217
         ],
         "yaxis": "y3"
        },
        {
         "name": "Column PTEN",
         "type": "bar",
         "x": [
          0,
          1
         ],
         "xaxis": "x4",
         "y": [
          699,
          141
         ],
         "yaxis": "y4"
        },
        {
         "name": "Column EGFR",
         "type": "bar",
         "x": [
          0,
          1
         ],
         "xaxis": "x5",
         "y": [
          728,
          112
         ],
         "yaxis": "y5"
        },
        {
         "name": "Column CIC",
         "type": "bar",
         "x": [
          0,
          1
         ],
         "xaxis": "x6",
         "y": [
          729,
          111
         ],
         "yaxis": "y6"
        },
        {
         "name": "Column MUC16",
         "type": "bar",
         "x": [
          0,
          1
         ],
         "xaxis": "x7",
         "y": [
          742,
          98
         ],
         "yaxis": "y7"
        },
        {
         "name": "Column PIK3CA",
         "type": "bar",
         "x": [
          0,
          1
         ],
         "xaxis": "x8",
         "y": [
          767,
          73
         ],
         "yaxis": "y8"
        },
        {
         "name": "Column NF1",
         "type": "bar",
         "x": [
          0,
          1
         ],
         "xaxis": "x9",
         "y": [
          773,
          67
         ],
         "yaxis": "y9"
        },
        {
         "name": "Column PIK3R1",
         "type": "bar",
         "x": [
          0,
          1
         ],
         "xaxis": "x10",
         "y": [
          786,
          54
         ],
         "yaxis": "y10"
        },
        {
         "name": "Column FUBP1",
         "type": "bar",
         "x": [
          0,
          1
         ],
         "xaxis": "x11",
         "y": [
          795,
          45
         ],
         "yaxis": "y11"
        },
        {
         "name": "Column RB1",
         "type": "bar",
         "x": [
          0,
          1
         ],
         "xaxis": "x12",
         "y": [
          800,
          40
         ],
         "yaxis": "y12"
        },
        {
         "name": "Column NOTCH1",
         "type": "bar",
         "x": [
          0,
          1
         ],
         "xaxis": "x13",
         "y": [
          802,
          38
         ],
         "yaxis": "y13"
        },
        {
         "name": "Column BCOR",
         "type": "bar",
         "x": [
          0,
          1
         ],
         "xaxis": "x14",
         "y": [
          811,
          29
         ],
         "yaxis": "y14"
        },
        {
         "name": "Column CSMD3",
         "type": "bar",
         "x": [
          0,
          1
         ],
         "xaxis": "x15",
         "y": [
          813,
          27
         ],
         "yaxis": "y15"
        },
        {
         "name": "Column SMARCA4",
         "type": "bar",
         "x": [
          0,
          1
         ],
         "xaxis": "x16",
         "y": [
          813,
          27
         ],
         "yaxis": "y16"
        },
        {
         "name": "Column GRIN2A",
         "type": "bar",
         "x": [
          0,
          1
         ],
         "xaxis": "x17",
         "y": [
          813,
          27
         ],
         "yaxis": "y17"
        },
        {
         "name": "Column IDH2",
         "type": "bar",
         "x": [
          0,
          1
         ],
         "xaxis": "x18",
         "y": [
          817,
          23
         ],
         "yaxis": "y18"
        },
        {
         "name": "Column FAT4",
         "type": "bar",
         "x": [
          0,
          1
         ],
         "xaxis": "x19",
         "y": [
          817,
          23
         ],
         "yaxis": "y19"
        },
        {
         "name": "Column PDGFRA",
         "type": "bar",
         "x": [
          0,
          1
         ],
         "xaxis": "x20",
         "y": [
          818,
          22
         ],
         "yaxis": "y20"
        }
       ],
       "layout": {
        "height": 1200,
        "template": {
         "data": {
          "bar": [
           {
            "error_x": {
             "color": "#2a3f5f"
            },
            "error_y": {
             "color": "#2a3f5f"
            },
            "marker": {
             "line": {
              "color": "#E5ECF6",
              "width": 0.5
             },
             "pattern": {
              "fillmode": "overlay",
              "size": 10,
              "solidity": 0.2
             }
            },
            "type": "bar"
           }
          ],
          "barpolar": [
           {
            "marker": {
             "line": {
              "color": "#E5ECF6",
              "width": 0.5
             },
             "pattern": {
              "fillmode": "overlay",
              "size": 10,
              "solidity": 0.2
             }
            },
            "type": "barpolar"
           }
          ],
          "carpet": [
           {
            "aaxis": {
             "endlinecolor": "#2a3f5f",
             "gridcolor": "white",
             "linecolor": "white",
             "minorgridcolor": "white",
             "startlinecolor": "#2a3f5f"
            },
            "baxis": {
             "endlinecolor": "#2a3f5f",
             "gridcolor": "white",
             "linecolor": "white",
             "minorgridcolor": "white",
             "startlinecolor": "#2a3f5f"
            },
            "type": "carpet"
           }
          ],
          "choropleth": [
           {
            "colorbar": {
             "outlinewidth": 0,
             "ticks": ""
            },
            "type": "choropleth"
           }
          ],
          "contour": [
           {
            "colorbar": {
             "outlinewidth": 0,
             "ticks": ""
            },
            "colorscale": [
             [
              0,
              "#0d0887"
             ],
             [
              0.1111111111111111,
              "#46039f"
             ],
             [
              0.2222222222222222,
              "#7201a8"
             ],
             [
              0.3333333333333333,
              "#9c179e"
             ],
             [
              0.4444444444444444,
              "#bd3786"
             ],
             [
              0.5555555555555556,
              "#d8576b"
             ],
             [
              0.6666666666666666,
              "#ed7953"
             ],
             [
              0.7777777777777778,
              "#fb9f3a"
             ],
             [
              0.8888888888888888,
              "#fdca26"
             ],
             [
              1,
              "#f0f921"
             ]
            ],
            "type": "contour"
           }
          ],
          "contourcarpet": [
           {
            "colorbar": {
             "outlinewidth": 0,
             "ticks": ""
            },
            "type": "contourcarpet"
           }
          ],
          "heatmap": [
           {
            "colorbar": {
             "outlinewidth": 0,
             "ticks": ""
            },
            "colorscale": [
             [
              0,
              "#0d0887"
             ],
             [
              0.1111111111111111,
              "#46039f"
             ],
             [
              0.2222222222222222,
              "#7201a8"
             ],
             [
              0.3333333333333333,
              "#9c179e"
             ],
             [
              0.4444444444444444,
              "#bd3786"
             ],
             [
              0.5555555555555556,
              "#d8576b"
             ],
             [
              0.6666666666666666,
              "#ed7953"
             ],
             [
              0.7777777777777778,
              "#fb9f3a"
             ],
             [
              0.8888888888888888,
              "#fdca26"
             ],
             [
              1,
              "#f0f921"
             ]
            ],
            "type": "heatmap"
           }
          ],
          "heatmapgl": [
           {
            "colorbar": {
             "outlinewidth": 0,
             "ticks": ""
            },
            "colorscale": [
             [
              0,
              "#0d0887"
             ],
             [
              0.1111111111111111,
              "#46039f"
             ],
             [
              0.2222222222222222,
              "#7201a8"
             ],
             [
              0.3333333333333333,
              "#9c179e"
             ],
             [
              0.4444444444444444,
              "#bd3786"
             ],
             [
              0.5555555555555556,
              "#d8576b"
             ],
             [
              0.6666666666666666,
              "#ed7953"
             ],
             [
              0.7777777777777778,
              "#fb9f3a"
             ],
             [
              0.8888888888888888,
              "#fdca26"
             ],
             [
              1,
              "#f0f921"
             ]
            ],
            "type": "heatmapgl"
           }
          ],
          "histogram": [
           {
            "marker": {
             "pattern": {
              "fillmode": "overlay",
              "size": 10,
              "solidity": 0.2
             }
            },
            "type": "histogram"
           }
          ],
          "histogram2d": [
           {
            "colorbar": {
             "outlinewidth": 0,
             "ticks": ""
            },
            "colorscale": [
             [
              0,
              "#0d0887"
             ],
             [
              0.1111111111111111,
              "#46039f"
             ],
             [
              0.2222222222222222,
              "#7201a8"
             ],
             [
              0.3333333333333333,
              "#9c179e"
             ],
             [
              0.4444444444444444,
              "#bd3786"
             ],
             [
              0.5555555555555556,
              "#d8576b"
             ],
             [
              0.6666666666666666,
              "#ed7953"
             ],
             [
              0.7777777777777778,
              "#fb9f3a"
             ],
             [
              0.8888888888888888,
              "#fdca26"
             ],
             [
              1,
              "#f0f921"
             ]
            ],
            "type": "histogram2d"
           }
          ],
          "histogram2dcontour": [
           {
            "colorbar": {
             "outlinewidth": 0,
             "ticks": ""
            },
            "colorscale": [
             [
              0,
              "#0d0887"
             ],
             [
              0.1111111111111111,
              "#46039f"
             ],
             [
              0.2222222222222222,
              "#7201a8"
             ],
             [
              0.3333333333333333,
              "#9c179e"
             ],
             [
              0.4444444444444444,
              "#bd3786"
             ],
             [
              0.5555555555555556,
              "#d8576b"
             ],
             [
              0.6666666666666666,
              "#ed7953"
             ],
             [
              0.7777777777777778,
              "#fb9f3a"
             ],
             [
              0.8888888888888888,
              "#fdca26"
             ],
             [
              1,
              "#f0f921"
             ]
            ],
            "type": "histogram2dcontour"
           }
          ],
          "mesh3d": [
           {
            "colorbar": {
             "outlinewidth": 0,
             "ticks": ""
            },
            "type": "mesh3d"
           }
          ],
          "parcoords": [
           {
            "line": {
             "colorbar": {
              "outlinewidth": 0,
              "ticks": ""
             }
            },
            "type": "parcoords"
           }
          ],
          "pie": [
           {
            "automargin": true,
            "type": "pie"
           }
          ],
          "scatter": [
           {
            "marker": {
             "colorbar": {
              "outlinewidth": 0,
              "ticks": ""
             }
            },
            "type": "scatter"
           }
          ],
          "scatter3d": [
           {
            "line": {
             "colorbar": {
              "outlinewidth": 0,
              "ticks": ""
             }
            },
            "marker": {
             "colorbar": {
              "outlinewidth": 0,
              "ticks": ""
             }
            },
            "type": "scatter3d"
           }
          ],
          "scattercarpet": [
           {
            "marker": {
             "colorbar": {
              "outlinewidth": 0,
              "ticks": ""
             }
            },
            "type": "scattercarpet"
           }
          ],
          "scattergeo": [
           {
            "marker": {
             "colorbar": {
              "outlinewidth": 0,
              "ticks": ""
             }
            },
            "type": "scattergeo"
           }
          ],
          "scattergl": [
           {
            "marker": {
             "colorbar": {
              "outlinewidth": 0,
              "ticks": ""
             }
            },
            "type": "scattergl"
           }
          ],
          "scattermapbox": [
           {
            "marker": {
             "colorbar": {
              "outlinewidth": 0,
              "ticks": ""
             }
            },
            "type": "scattermapbox"
           }
          ],
          "scatterpolar": [
           {
            "marker": {
             "colorbar": {
              "outlinewidth": 0,
              "ticks": ""
             }
            },
            "type": "scatterpolar"
           }
          ],
          "scatterpolargl": [
           {
            "marker": {
             "colorbar": {
              "outlinewidth": 0,
              "ticks": ""
             }
            },
            "type": "scatterpolargl"
           }
          ],
          "scatterternary": [
           {
            "marker": {
             "colorbar": {
              "outlinewidth": 0,
              "ticks": ""
             }
            },
            "type": "scatterternary"
           }
          ],
          "surface": [
           {
            "colorbar": {
             "outlinewidth": 0,
             "ticks": ""
            },
            "colorscale": [
             [
              0,
              "#0d0887"
             ],
             [
              0.1111111111111111,
              "#46039f"
             ],
             [
              0.2222222222222222,
              "#7201a8"
             ],
             [
              0.3333333333333333,
              "#9c179e"
             ],
             [
              0.4444444444444444,
              "#bd3786"
             ],
             [
              0.5555555555555556,
              "#d8576b"
             ],
             [
              0.6666666666666666,
              "#ed7953"
             ],
             [
              0.7777777777777778,
              "#fb9f3a"
             ],
             [
              0.8888888888888888,
              "#fdca26"
             ],
             [
              1,
              "#f0f921"
             ]
            ],
            "type": "surface"
           }
          ],
          "table": [
           {
            "cells": {
             "fill": {
              "color": "#EBF0F8"
             },
             "line": {
              "color": "white"
             }
            },
            "header": {
             "fill": {
              "color": "#C8D4E3"
             },
             "line": {
              "color": "white"
             }
            },
            "type": "table"
           }
          ]
         },
         "layout": {
          "annotationdefaults": {
           "arrowcolor": "#2a3f5f",
           "arrowhead": 0,
           "arrowwidth": 1
          },
          "autotypenumbers": "strict",
          "coloraxis": {
           "colorbar": {
            "outlinewidth": 0,
            "ticks": ""
           }
          },
          "colorscale": {
           "diverging": [
            [
             0,
             "#8e0152"
            ],
            [
             0.1,
             "#c51b7d"
            ],
            [
             0.2,
             "#de77ae"
            ],
            [
             0.3,
             "#f1b6da"
            ],
            [
             0.4,
             "#fde0ef"
            ],
            [
             0.5,
             "#f7f7f7"
            ],
            [
             0.6,
             "#e6f5d0"
            ],
            [
             0.7,
             "#b8e186"
            ],
            [
             0.8,
             "#7fbc41"
            ],
            [
             0.9,
             "#4d9221"
            ],
            [
             1,
             "#276419"
            ]
           ],
           "sequential": [
            [
             0,
             "#0d0887"
            ],
            [
             0.1111111111111111,
             "#46039f"
            ],
            [
             0.2222222222222222,
             "#7201a8"
            ],
            [
             0.3333333333333333,
             "#9c179e"
            ],
            [
             0.4444444444444444,
             "#bd3786"
            ],
            [
             0.5555555555555556,
             "#d8576b"
            ],
            [
             0.6666666666666666,
             "#ed7953"
            ],
            [
             0.7777777777777778,
             "#fb9f3a"
            ],
            [
             0.8888888888888888,
             "#fdca26"
            ],
            [
             1,
             "#f0f921"
            ]
           ],
           "sequentialminus": [
            [
             0,
             "#0d0887"
            ],
            [
             0.1111111111111111,
             "#46039f"
            ],
            [
             0.2222222222222222,
             "#7201a8"
            ],
            [
             0.3333333333333333,
             "#9c179e"
            ],
            [
             0.4444444444444444,
             "#bd3786"
            ],
            [
             0.5555555555555556,
             "#d8576b"
            ],
            [
             0.6666666666666666,
             "#ed7953"
            ],
            [
             0.7777777777777778,
             "#fb9f3a"
            ],
            [
             0.8888888888888888,
             "#fdca26"
            ],
            [
             1,
             "#f0f921"
            ]
           ]
          },
          "colorway": [
           "#636efa",
           "#EF553B",
           "#00cc96",
           "#ab63fa",
           "#FFA15A",
           "#19d3f3",
           "#FF6692",
           "#B6E880",
           "#FF97FF",
           "#FECB52"
          ],
          "font": {
           "color": "#2a3f5f"
          },
          "geo": {
           "bgcolor": "white",
           "lakecolor": "white",
           "landcolor": "#E5ECF6",
           "showlakes": true,
           "showland": true,
           "subunitcolor": "white"
          },
          "hoverlabel": {
           "align": "left"
          },
          "hovermode": "closest",
          "mapbox": {
           "style": "light"
          },
          "paper_bgcolor": "white",
          "plot_bgcolor": "#E5ECF6",
          "polar": {
           "angularaxis": {
            "gridcolor": "white",
            "linecolor": "white",
            "ticks": ""
           },
           "bgcolor": "#E5ECF6",
           "radialaxis": {
            "gridcolor": "white",
            "linecolor": "white",
            "ticks": ""
           }
          },
          "scene": {
           "xaxis": {
            "backgroundcolor": "#E5ECF6",
            "gridcolor": "white",
            "gridwidth": 2,
            "linecolor": "white",
            "showbackground": true,
            "ticks": "",
            "zerolinecolor": "white"
           },
           "yaxis": {
            "backgroundcolor": "#E5ECF6",
            "gridcolor": "white",
            "gridwidth": 2,
            "linecolor": "white",
            "showbackground": true,
            "ticks": "",
            "zerolinecolor": "white"
           },
           "zaxis": {
            "backgroundcolor": "#E5ECF6",
            "gridcolor": "white",
            "gridwidth": 2,
            "linecolor": "white",
            "showbackground": true,
            "ticks": "",
            "zerolinecolor": "white"
           }
          },
          "shapedefaults": {
           "line": {
            "color": "#2a3f5f"
           }
          },
          "ternary": {
           "aaxis": {
            "gridcolor": "white",
            "linecolor": "white",
            "ticks": ""
           },
           "baxis": {
            "gridcolor": "white",
            "linecolor": "white",
            "ticks": ""
           },
           "bgcolor": "#E5ECF6",
           "caxis": {
            "gridcolor": "white",
            "linecolor": "white",
            "ticks": ""
           }
          },
          "title": {
           "x": 0.05
          },
          "xaxis": {
           "automargin": true,
           "gridcolor": "white",
           "linecolor": "white",
           "ticks": "",
           "title": {
            "standoff": 15
           },
           "zerolinecolor": "white",
           "zerolinewidth": 2
          },
          "yaxis": {
           "automargin": true,
           "gridcolor": "white",
           "linecolor": "white",
           "ticks": "",
           "title": {
            "standoff": 15
           },
           "zerolinecolor": "white",
           "zerolinewidth": 2
          }
         }
        },
        "title": {
         "text": "Value Counts for Columns 3 to 22"
        },
        "width": 1000,
        "xaxis": {
         "anchor": "y",
         "domain": [
          0,
          0.2125
         ],
         "title": {
          "text": "IDH1"
         }
        },
        "xaxis10": {
         "anchor": "y10",
         "domain": [
          0.2625,
          0.475
         ],
         "title": {
          "text": "PIK3R1"
         }
        },
        "xaxis11": {
         "anchor": "y11",
         "domain": [
          0.525,
          0.7375
         ],
         "title": {
          "text": "FUBP1"
         }
        },
        "xaxis12": {
         "anchor": "y12",
         "domain": [
          0.7875,
          1
         ],
         "title": {
          "text": "RB1"
         }
        },
        "xaxis13": {
         "anchor": "y13",
         "domain": [
          0,
          0.2125
         ],
         "title": {
          "text": "NOTCH1"
         }
        },
        "xaxis14": {
         "anchor": "y14",
         "domain": [
          0.2625,
          0.475
         ],
         "title": {
          "text": "BCOR"
         }
        },
        "xaxis15": {
         "anchor": "y15",
         "domain": [
          0.525,
          0.7375
         ],
         "title": {
          "text": "CSMD3"
         }
        },
        "xaxis16": {
         "anchor": "y16",
         "domain": [
          0.7875,
          1
         ],
         "title": {
          "text": "SMARCA4"
         }
        },
        "xaxis17": {
         "anchor": "y17",
         "domain": [
          0,
          0.2125
         ],
         "title": {
          "text": "GRIN2A"
         }
        },
        "xaxis18": {
         "anchor": "y18",
         "domain": [
          0.2625,
          0.475
         ],
         "title": {
          "text": "IDH2"
         }
        },
        "xaxis19": {
         "anchor": "y19",
         "domain": [
          0.525,
          0.7375
         ],
         "title": {
          "text": "FAT4"
         }
        },
        "xaxis2": {
         "anchor": "y2",
         "domain": [
          0.2625,
          0.475
         ],
         "title": {
          "text": "TP53"
         }
        },
        "xaxis20": {
         "anchor": "y20",
         "domain": [
          0.7875,
          1
         ],
         "title": {
          "text": "PDGFRA"
         }
        },
        "xaxis3": {
         "anchor": "y3",
         "domain": [
          0.525,
          0.7375
         ],
         "title": {
          "text": "ATRX"
         }
        },
        "xaxis4": {
         "anchor": "y4",
         "domain": [
          0.7875,
          1
         ],
         "title": {
          "text": "PTEN"
         }
        },
        "xaxis5": {
         "anchor": "y5",
         "domain": [
          0,
          0.2125
         ],
         "title": {
          "text": "EGFR"
         }
        },
        "xaxis6": {
         "anchor": "y6",
         "domain": [
          0.2625,
          0.475
         ],
         "title": {
          "text": "CIC"
         }
        },
        "xaxis7": {
         "anchor": "y7",
         "domain": [
          0.525,
          0.7375
         ],
         "title": {
          "text": "MUC16"
         }
        },
        "xaxis8": {
         "anchor": "y8",
         "domain": [
          0.7875,
          1
         ],
         "title": {
          "text": "PIK3CA"
         }
        },
        "xaxis9": {
         "anchor": "y9",
         "domain": [
          0,
          0.2125
         ],
         "title": {
          "text": "NF1"
         }
        },
        "yaxis": {
         "anchor": "x",
         "domain": [
          0.848,
          1
         ]
        },
        "yaxis10": {
         "anchor": "x10",
         "domain": [
          0.424,
          0.576
         ]
        },
        "yaxis11": {
         "anchor": "x11",
         "domain": [
          0.424,
          0.576
         ]
        },
        "yaxis12": {
         "anchor": "x12",
         "domain": [
          0.424,
          0.576
         ]
        },
        "yaxis13": {
         "anchor": "x13",
         "domain": [
          0.212,
          0.364
         ]
        },
        "yaxis14": {
         "anchor": "x14",
         "domain": [
          0.212,
          0.364
         ]
        },
        "yaxis15": {
         "anchor": "x15",
         "domain": [
          0.212,
          0.364
         ]
        },
        "yaxis16": {
         "anchor": "x16",
         "domain": [
          0.212,
          0.364
         ]
        },
        "yaxis17": {
         "anchor": "x17",
         "domain": [
          0,
          0.152
         ]
        },
        "yaxis18": {
         "anchor": "x18",
         "domain": [
          0,
          0.152
         ]
        },
        "yaxis19": {
         "anchor": "x19",
         "domain": [
          0,
          0.152
         ]
        },
        "yaxis2": {
         "anchor": "x2",
         "domain": [
          0.848,
          1
         ]
        },
        "yaxis20": {
         "anchor": "x20",
         "domain": [
          0,
          0.152
         ]
        },
        "yaxis3": {
         "anchor": "x3",
         "domain": [
          0.848,
          1
         ]
        },
        "yaxis4": {
         "anchor": "x4",
         "domain": [
          0.848,
          1
         ]
        },
        "yaxis5": {
         "anchor": "x5",
         "domain": [
          0.6359999999999999,
          0.7879999999999999
         ]
        },
        "yaxis6": {
         "anchor": "x6",
         "domain": [
          0.6359999999999999,
          0.7879999999999999
         ]
        },
        "yaxis7": {
         "anchor": "x7",
         "domain": [
          0.6359999999999999,
          0.7879999999999999
         ]
        },
        "yaxis8": {
         "anchor": "x8",
         "domain": [
          0.6359999999999999,
          0.7879999999999999
         ]
        },
        "yaxis9": {
         "anchor": "x9",
         "domain": [
          0.424,
          0.576
         ]
        }
       }
      }
     },
     "metadata": {},
     "output_type": "display_data"
    }
   ],
   "source": [
    "fig = make_subplots(rows=5, cols=4)\n",
    "\n",
    "# Loop through columns 3 to 22 (indexing from 0 to 19)\n",
    "column_names = []  # List to store column names for legend\n",
    "\n",
    "for i, column in enumerate(df.iloc[:, 3:23].columns, start=1):\n",
    "    row_num = (i - 1) // 4 + 1  # Calculate row number\n",
    "    col_num = (i - 1) % 4 + 1   # Calculate column number\n",
    "\n",
    "    value_counts = df[column].value_counts()\n",
    "\n",
    "    fig.add_trace(\n",
    "        go.Bar(x=value_counts.index, y=value_counts.values),\n",
    "        row=row_num, col=col_num\n",
    "    )\n",
    "    \n",
    "    column_names.append(f'Column {column}')  # Store column names for legend\n",
    "\n",
    "    fig.update_xaxes(title_text=f'{column}', row=row_num, col=col_num)  # X-axis title\n",
    "\n",
    "# Update layout for all subplots\n",
    "fig.update_layout(title='Value Counts for Columns 3 to 22', width = 1000, height = 1200)\n",
    "fig.for_each_trace(lambda trace: trace.update(name=column_names.pop(0)))  # Update trace names using stored column names\n",
    "fig.show()"
   ]
  },
  {
   "cell_type": "markdown",
   "metadata": {},
   "source": [
    "Explains why IDH1 mutations so prevalent (boxplot balanced). Also expect that correlation matrix will show inv corrs between idh1 and idh2\n",
    "\n",
    "Other mutations imbalanced bc not all gliomas have all mutated genes"
   ]
  },
  {
   "cell_type": "code",
   "execution_count": 84,
   "metadata": {},
   "outputs": [
    {
     "data": {
      "text/plain": [
       "<AxesSubplot:>"
      ]
     },
     "execution_count": 84,
     "metadata": {},
     "output_type": "execute_result"
    },
    {
     "data": {
      "image/png": "[encoded data removed]",
      "text/plain": [
       "<Figure size 1152x432 with 2 Axes>"
      ]
     },
     "metadata": {
      "needs_background": "light"
     },
     "output_type": "display_data"
    }
   ],
   "source": [
    "# Visualization of correlation between variables\n",
    "plt.figure(figsize=(16, 6))\n",
    "corr = df.iloc[:, 3 : 23].corr()\n",
    "\n",
    "# Getting the Upper Triangle of the co-relation matrix\n",
    "matrix = np.triu(corr)\n",
    "\n",
    "# Using the upper triangle matrix as mask \n",
    "sns.heatmap(corr, annot=True, mask=matrix, vmin=-1, vmax=1, linewidths=.5, cmap='BrBG')"
   ]
  },
  {
   "cell_type": "markdown",
   "metadata": {},
   "source": [
    "We will explain that we had initially hypothesized to use PCA because of the high dimensionality of the dataset. \n",
    "However, upon inspecting feature correlations (which we DID NOT DO WELL) and determining that we cannot establish a complete lack of linear correlation (bc of MENTION CORRELATIONS AND PAPER BACKED UP EVIDENCE) between features, we decided not to perform feature scaling. "
   ]
  },
  {
   "cell_type": "markdown",
   "metadata": {},
   "source": [
    "Yes, PCA can be applied even if there are many binary columns in your dataset. PCA operates on the correlation structure of the data, and it can be applied regardless of the type of data (binary, categorical, numerical, etc.). However, whether it's effective or advisable to use PCA with binary data depends on the specific characteristics of your dataset and your objectives.\n",
    "\n",
    "When applying PCA to binary data, it's essential to consider a few points:\n",
    "\n",
    "### Sparsity and Interpretation:\n",
    "- **Sparsity:** Binary data often leads to sparse matrices, which might affect the effectiveness of PCA.\n",
    "- **Interpretation:** Interpretability might be reduced as the principal components become linear combinations of binary variables.\n",
    "\n",
    "### Variance Explained:\n",
    "- **Explained Variance:** With binary data, the variance might not be well captured by principal components compared to continuous variables.\n",
    "\n",
    "### Dimensionality Reduction:\n",
    "- **Reducing Dimensionality:** Despite the above challenges, PCA might still help in reducing dimensionality and might be beneficial if the binary variables are highly correlated.\n",
    "\n",
    "### Alternative Methods:\n",
    "- **Alternative Techniques:** For binary data, alternative dimensionality reduction techniques like factor analysis or non-linear methods might be more suitable.\n",
    "\n",
    "### Sparse PCA:\n",
    "- **Sparse PCA:** There's also Sparse PCA, which is designed to handle sparse data more effectively by encouraging sparsity in the loadings.\n",
    "\n",
    "Before applying PCA to binary data, consider the trade-offs and whether it aligns with your objectives, especially in terms of interpretability, explained variance, and the underlying structure of your data. Additionally, try different techniques and assess their effectiveness based on your specific use case and dataset characteristics."
   ]
  },
  {
   "cell_type": "markdown",
   "metadata": {},
   "source": [
    "## Model Selection"
   ]
  },
  {
   "cell_type": "code",
   "execution_count": 85,
   "metadata": {},
   "outputs": [
    {
     "data": {
      "text/plain": [
       "0    488\n",
       "1    352\n",
       "Name: Grade, dtype: int64"
      ]
     },
     "execution_count": 85,
     "metadata": {},
     "output_type": "execute_result"
    }
   ],
   "source": [
    "# Define label and features\n",
    "X = df.drop(columns=['Grade'])\n",
    "y = df['Grade']\n",
    "y.value_counts()\n",
    "\n",
    "#lgg 57%"
   ]
  },
  {
   "cell_type": "code",
   "execution_count": 86,
   "metadata": {},
   "outputs": [],
   "source": [
    "# Split data into train and test sets\n",
    "X_train, X_test, y_train, y_test = train_test_split(X, y, test_size=0.3, shuffle=True)"
   ]
  },
  {
   "cell_type": "code",
   "execution_count": 87,
   "metadata": {},
   "outputs": [
    {
     "data": {
      "text/plain": [
       "[LogisticRegression(),\n",
       " SVC(),\n",
       " DecisionTreeClassifier(),\n",
       " RandomForestClassifier()]"
      ]
     },
     "execution_count": 87,
     "metadata": {},
     "output_type": "execute_result"
    }
   ],
   "source": [
    "# Creating a list of potential models: \n",
    "models = []\n",
    "model1 = LogisticRegression()\n",
    "models.append(model1)\n",
    "model2 = svm.SVC()\n",
    "models.append(model2)\n",
    "model3 = tree.DecisionTreeClassifier()\n",
    "models.append(model3)\n",
    "model4 = RandomForestClassifier()\n",
    "models.append(model4)\n",
    "model5 = \n",
    "models.append(model5)\n",
    "models"
   ]
  },
  {
   "cell_type": "code",
   "execution_count": 88,
   "metadata": {},
   "outputs": [
    {
     "name": "stdout",
     "output_type": "stream",
     "text": [
      "LogisticRegression()\n",
      "Accuracy of LogisticRegression() is 0.8809523809523809\n"
     ]
    },
    {
     "data": {
      "image/png": "[encoded data removed]",
      "text/plain": [
       "<Figure size 432x288 with 2 Axes>"
      ]
     },
     "metadata": {
      "needs_background": "light"
     },
     "output_type": "display_data"
    },
    {
     "name": "stdout",
     "output_type": "stream",
     "text": [
      "ROC AUC score of LogisticRegression() is 0.8874703278373004\n"
     ]
    },
    {
     "data": {
      "image/png": "[encoded data removed]",
      "text/plain": [
       "<Figure size 360x360 with 1 Axes>"
      ]
     },
     "metadata": {
      "needs_background": "light"
     },
     "output_type": "display_data"
    },
    {
     "name": "stdout",
     "output_type": "stream",
     "text": [
      "-------------------------------------------------------\n",
      "SVC()\n",
      "Accuracy of SVC() is 0.873015873015873\n"
     ]
    },
    {
     "data": {
      "image/png": "[encoded data removed]",
      "text/plain": [
       "<Figure size 432x288 with 2 Axes>"
      ]
     },
     "metadata": {
      "needs_background": "light"
     },
     "output_type": "display_data"
    },
    {
     "name": "stdout",
     "output_type": "stream",
     "text": [
      "ROC AUC score of SVC() is 0.8815679733110924\n"
     ]
    },
    {
     "data": {
      "image/png": "[encoded data removed]",
      "text/plain": [
       "<Figure size 360x360 with 1 Axes>"
      ]
     },
     "metadata": {
      "needs_background": "light"
     },
     "output_type": "display_data"
    },
    {
     "name": "stdout",
     "output_type": "stream",
     "text": [
      "-------------------------------------------------------\n",
      "DecisionTreeClassifier()\n",
      "Accuracy of DecisionTreeClassifier() is 0.8134920634920635\n"
     ]
    },
    {
     "data": {
      "image/png": "[encoded data removed]",
      "text/plain": [
       "<Figure size 432x288 with 2 Axes>"
      ]
     },
     "metadata": {
      "needs_background": "light"
     },
     "output_type": "display_data"
    },
    {
     "name": "stdout",
     "output_type": "stream",
     "text": [
      "ROC AUC score of DecisionTreeClassifier() is 0.8083980239943542\n"
     ]
    },
    {
     "data": {
      "image/png": "[encoded data removed]",
      "text/plain": [
       "<Figure size 360x360 with 1 Axes>"
      ]
     },
     "metadata": {
      "needs_background": "light"
     },
     "output_type": "display_data"
    },
    {
     "name": "stdout",
     "output_type": "stream",
     "text": [
      "-------------------------------------------------------\n",
      "RandomForestClassifier()\n",
      "Accuracy of RandomForestClassifier() is 0.8571428571428571\n"
     ]
    },
    {
     "data": {
      "image/png": "[encoded data removed]",
      "text/plain": [
       "<Figure size 432x288 with 2 Axes>"
      ]
     },
     "metadata": {
      "needs_background": "light"
     },
     "output_type": "display_data"
    },
    {
     "name": "stdout",
     "output_type": "stream",
     "text": [
      "ROC AUC score of RandomForestClassifier() is 0.8599473920574838\n"
     ]
    },
    {
     "data": {
      "image/png": "[encoded data removed]",
      "text/plain": [
       "<Figure size 360x360 with 1 Axes>"
      ]
     },
     "metadata": {
      "needs_background": "light"
     },
     "output_type": "display_data"
    },
    {
     "name": "stdout",
     "output_type": "stream",
     "text": [
      "-------------------------------------------------------\n"
     ]
    }
   ],
   "source": [
    "# Creating dict for storing model's accuracy \n",
    "dict = {}\n",
    "# Model evaluation with accuracy, cm, f1, roc scores\n",
    "for model in models:\n",
    "    print(model)\n",
    "    model.fit(X_train, y_train)\n",
    "    y_pred = model.predict(X_test)\n",
    "\n",
    "    accuracy = accuracy_score(y_test, y_pred)\n",
    "    # Add key-value pair to the dictionary\n",
    "    dict[model] = round(accuracy, 2)\n",
    "    print(f\"Accuracy of {model} is {accuracy}\")\n",
    "\n",
    "    cm = confusion_matrix(y_test, y_pred, labels = model.classes_)\n",
    "    disp = ConfusionMatrixDisplay(confusion_matrix = cm, display_labels = model.classes_)\n",
    "    disp.plot()\n",
    "    plt.show()\n",
    "\n",
    "    roc_auc = roc_auc_score(y_test, y_pred)\n",
    "    print(f\"ROC AUC score of {model} is {roc_auc}\")\n",
    "\n",
    "    # Compute ROC curve and AUC\n",
    "    fpr, tpr, thresholds = roc_curve(y_test, y_pred)\n",
    "    roc_auc = auc(fpr, tpr)\n",
    "\n",
    "    # Plot ROC curve\n",
    "    plt.figure(figsize=(5, 5))\n",
    "    plt.plot(fpr, tpr, color='darkorange', lw=2, label='ROC curve (area = {:.2f})'.format(roc_auc))\n",
    "    plt.plot([0, 1], [0, 1], color='navy', lw=2, linestyle='--')\n",
    "    plt.xlabel('False Positive Rate (FPR)')\n",
    "    plt.ylabel('True Positive Rate (TPR)')\n",
    "    plt.title(f'ROC Curve for {model}')\n",
    "    plt.legend(loc='lower right')\n",
    "    plt.show()\n",
    "    print(\"-------------------------------------------------------\")"
   ]
  },
  {
   "cell_type": "code",
   "execution_count": 89,
   "metadata": {},
   "outputs": [
    {
     "data": {
      "text/plain": [
       "{LogisticRegression(): 0.88, SVC(): 0.87}"
      ]
     },
     "execution_count": 89,
     "metadata": {},
     "output_type": "execute_result"
    }
   ],
   "source": [
    "# Getting first two models with the best accuracy\n",
    "sorted_dict = OrderedDict(sorted(dict.items(), key = itemgetter(1), reverse = True))\n",
    "first2pairs = {k: sorted_dict[k] for k in list(sorted_dict)[:2]}\n",
    "first2pairs"
   ]
  },
  {
   "cell_type": "code",
   "execution_count": 90,
   "metadata": {},
   "outputs": [
    {
     "data": {
      "text/plain": [
       "[LogisticRegression(), SVC()]"
      ]
     },
     "execution_count": 90,
     "metadata": {},
     "output_type": "execute_result"
    }
   ],
   "source": [
    "# Removing models from models list that didnt performe well\n",
    "keys = first2pairs.keys()\n",
    "models = [model for model in models if model in keys]\n",
    "models"
   ]
  },
  {
   "cell_type": "code",
   "execution_count": 91,
   "metadata": {},
   "outputs": [
    {
     "name": "stdout",
     "output_type": "stream",
     "text": [
      "\n",
      "                Accuracy of LogisticRegression() for 5 splits is 0.86399 \n",
      "            \n",
      "\n",
      "                Accuracy of SVC() for 5 splits is 0.87077 \n",
      "            \n",
      "                ---------------------------------------------------------------\n",
      "\n",
      "                Accuracy of LogisticRegression() for 10 splits is 0.86569 \n",
      "            \n",
      "\n",
      "                Accuracy of SVC() for 10 splits is 0.87244 \n",
      "            \n",
      "                ---------------------------------------------------------------\n"
     ]
    }
   ],
   "source": [
    "#cross validation\n",
    "splits = [5, 10] #trying 5 and 10 folds\n",
    "for i in splits:\n",
    "    kf = KFold(n_splits = i, shuffle = True, random_state = 42)\n",
    "    for model in models:\n",
    "        accuracy = cross_val_score(model, X_train, y_train, cv=kf, scoring='accuracy')\n",
    "        # f1 = cross_val_score(model, X_train, y_train, cv=kf, scoring='f1')\n",
    "        # roc_auc = cross_val_score(model, X_train, y_train,cv=kf, scoring='roc_auc')\n",
    "        # recall = cross_val_score(model, X_train, y_train, cv = kf, scoring = 'recall')\n",
    "        print(f'''\n",
    "                Accuracy of {model} for {i} splits is {round(accuracy.mean(), 5)} \n",
    "            ''')\n",
    "    print(\"                ---------------------------------------------------------------\")\n",
    "\n",
    "\n",
    "#dict: model + splits: accuracy for EVERY model OR everything in one dictionary"
   ]
  },
  {
   "cell_type": "code",
   "execution_count": 92,
   "metadata": {},
   "outputs": [],
   "source": [
    "#5 folds is best , TODO: decide if AUC-ROC/ recall/ accuracy /f1 scores based on our dataset\n",
    "\n",
    "\n",
    "# USE DATA FROM DICT BELOW TO DEFINE K_SPLITS"
   ]
  },
  {
   "cell_type": "code",
   "execution_count": 93,
   "metadata": {},
   "outputs": [],
   "source": [
    "kf = KFold(n_splits=5, shuffle=True, random_state=42)"
   ]
  },
  {
   "cell_type": "code",
   "execution_count": 94,
   "metadata": {},
   "outputs": [
    {
     "name": "stdout",
     "output_type": "stream",
     "text": [
      "Best parameters: {'C': 1.623776739188721, 'penalty': 'l1', 'solver': 'saga'}\n",
      "Best cross-validation score: 0.872490221642764\n"
     ]
    }
   ],
   "source": [
    "# GridSearchCV for logistic regression\n",
    "\n",
    "param_grid = [    \n",
    "    {'penalty' : ['l1', 'l2', 'elasticnet', 'none'],\n",
    "    #'C' : [0.001,0.01,0.1,1,10,100,1000], #this is not granular enough TODO: MENTION IN REPORT \n",
    "    'C': np.logspace(-4, 4, 20), #more granular params bc evenly dsitributed in logspace\n",
    "    'solver' : ['lbfgs', 'newton-cg', 'liblinear', 'sag', 'saga']\n",
    "    }\n",
    "]\n",
    "\n",
    "grid_search = GridSearchCV(estimator = models[0],\n",
    "                           param_grid = param_grid,\n",
    "                           scoring = 'accuracy',\n",
    "                           cv = kf).fit(X_train, y_train)\n",
    "\n",
    "# Get the best estimator\n",
    "best_model = grid_search.best_estimator_\n",
    "\n",
    "print(f\"Best parameters: {grid_search.best_params_}\")\n",
    "print(f\"Best cross-validation score: {grid_search.best_score_}\")"
   ]
  },
  {
   "cell_type": "code",
   "execution_count": 95,
   "metadata": {},
   "outputs": [
    {
     "data": {
      "image/png": "[encoded data removed]",
      "text/plain": [
       "<Figure size 432x288 with 2 Axes>"
      ]
     },
     "metadata": {
      "needs_background": "light"
     },
     "output_type": "display_data"
    },
    {
     "data": {
      "image/png": "[encoded data removed]",
      "text/plain": [
       "<Figure size 360x360 with 1 Axes>"
      ]
     },
     "metadata": {
      "needs_background": "light"
     },
     "output_type": "display_data"
    },
    {
     "name": "stdout",
     "output_type": "stream",
     "text": [
      "Accuracy of new LogisticRegression is 0.8809523809523809\n"
     ]
    }
   ],
   "source": [
    "# y_pred with the best parameters from GridSearchCV\n",
    "y_pred_g = best_model.predict(X_test)\n",
    "\n",
    "\n",
    "accuracy_g = accuracy_score(y_test, y_pred_g)\n",
    "cm = confusion_matrix(y_test, y_pred_g, labels = models[0].classes_)\n",
    "disp = ConfusionMatrixDisplay(confusion_matrix = cm, display_labels = models[0].classes_)\n",
    "disp.plot()\n",
    "plt.show()\n",
    "\n",
    "# Compute ROC curve and AUC\n",
    "fpr, tpr, thresholds = roc_curve(y_test, y_pred_g)\n",
    "roc_auc = auc(fpr, tpr)\n",
    "\n",
    "# Plot ROC curve\n",
    "plt.figure(figsize=(5, 5))\n",
    "plt.plot(fpr, tpr, color='darkorange', lw=2, label='ROC curve (area = {:.2f})'.format(roc_auc))\n",
    "plt.plot([0, 1], [0, 1], color='navy', lw=2, linestyle='--')\n",
    "plt.xlabel('False Positive Rate (FPR)')\n",
    "plt.ylabel('True Positive Rate (TPR)')\n",
    "plt.title(f'ROC Curve for {models[0]}')\n",
    "plt.legend(loc='lower right')\n",
    "plt.show()\n",
    "print(f\"Accuracy of new LogisticRegression is {accuracy_g}\")"
   ]
  },
  {
   "cell_type": "code",
   "execution_count": 96,
   "metadata": {},
   "outputs": [
    {
     "name": "stdout",
     "output_type": "stream",
     "text": [
      "Previous accuracy of LogisticRegression is 0.8809523809523809\n",
      "Accuracy did not improve after gridsearch\n"
     ]
    }
   ],
   "source": [
    "y_pred = models[0].predict(X_test)\n",
    "prev_accuracy = accuracy_score(y_test, y_pred)\n",
    "print(f\"Previous accuracy of LogisticRegression is {prev_accuracy}\")\n",
    "\n",
    "if accuracy_g > prev_accuracy:\n",
    "    print(\"Accuracy improved after gridsearch\")\n",
    "else: \n",
    "    print(\"Accuracy did not improve after gridsearch\")"
   ]
  },
  {
   "cell_type": "markdown",
   "metadata": {},
   "source": [
    "________________________________________________________________________________________________________________________"
   ]
  },
  {
   "cell_type": "markdown",
   "metadata": {},
   "source": [
    "1. kfold cross validation (5,10)\n",
    "\n",
    "\n",
    "2. use diff grid search hyperparameters to determine which best between randomforestclassifier and logistic regression \n",
    "\n",
    "3. kfold cross validation "
   ]
  },
  {
   "cell_type": "code",
   "execution_count": 97,
   "metadata": {},
   "outputs": [
    {
     "ename": "SyntaxError",
     "evalue": "closing parenthesis '}' does not match opening parenthesis '[' on line 5 (3938984704.py, line 7)",
     "output_type": "error",
     "traceback": [
      "\u001b[0;36m  Input \u001b[0;32mIn [97]\u001b[0;36m\u001b[0m\n\u001b[0;31m    }\u001b[0m\n\u001b[0m    ^\u001b[0m\n\u001b[0;31mSyntaxError\u001b[0m\u001b[0;31m:\u001b[0m closing parenthesis '}' does not match opening parenthesis '[' on line 5\n"
     ]
    }
   ],
   "source": [
    "#random forest was second best model, so grid search for random forest to see if tuning hyperparams improves accuracy/whatever metric we end up picking\n",
    "\n",
    "#FPR RANDOM FOREST find values\n",
    "\n",
    "param_grid = [    \n",
    "\n",
    "    }\n",
    "]\n",
    "\n",
    "grid_search = GridSearchCV(estimator=model1,\n",
    "                           param_grid=param_grid,\n",
    "                           scoring='accuracy',\n",
    "                           cv=5).fit(X_train, y_train)\n",
    "\n",
    "print(f\"Best parameters: {grid_search.best_params_}\")\n",
    "print(f\"Best cross-validation score: {grid_search.best_score_}\")\n"
   ]
  },
  {
   "cell_type": "code",
   "execution_count": null,
   "metadata": {},
   "outputs": [],
   "source": [
    "#pick which best bewten rf and lr after hyperparametter turning"
   ]
  },
  {
   "cell_type": "code",
   "execution_count": null,
   "metadata": {},
   "outputs": [],
   "source": [
    "#when found best params plt smth like this \n",
    "\n",
    "\n",
    "#Scatter plot for the actual training values\n",
    "scatter = go.Scatter(x = x_train.values.flatten(), y=y_train.values.flatten(), mode='markers', name='Actual')\n",
    "#line plot for the predicted training values\n",
    "line = go.Scatter(x = x_train.values.flatten(), y=y_pred.values.flatten(), mode='lines', name='Predicted')\n",
    "layout = go.Layout(title='Actual vs Predicted, train set', xaxis=dict(title='population'), yaxis=dict(title='profit'))\n",
    "data = [scatter, line]\n",
    "figtr = go.Figure(data=data, layout=layout)\n",
    "figtr.show()\n",
    "\n",
    "\n",
    "#predict new values based on the test set\n",
    "\n",
    "\n",
    "#scatter for  y test values\n",
    "scatter = go.Scatter(x = x_test.values.flatten(), y=y_test.values.flatten(), mode='markers', name='Actual')\n",
    "#line for predicted y values \n",
    "line = go.Scatter(x = x_test.values.flatten(), y=new_y.values.flatten(), mode='lines', name='Predicted')\n",
    "layout = go.Layout(title='Actual vs Predicted, test set', xaxis=dict(title='population'), yaxis=dict(title='profit'))\n",
    "data = [scatter, line]\n",
    "figte = go.Figure(data=data, layout=layout)\n",
    "figte.show()\n"
   ]
  },
  {
   "cell_type": "markdown",
   "metadata": {},
   "source": [
    "# Points to discuss\n",
    "\n",
    "**EDA**\n",
    "\n",
    "- check if shared things between na in age before just going w mean refill. are they actually outliers?\n",
    "\n",
    "**Correlation matrix**\n",
    "\n",
    "- look into who doesnt have mutations in idh1 and 2 -> is each of them related to a different glioma grade? \n",
    "\n",
    "- look at correlations of high values between themselves: are they more correlated to one specific form of glioma? we expect more associated with GBM based on literature \n",
    "\n",
    "**PCA**\n",
    "\n",
    "- most correlated components in corr matrix are linked to GBM mostly, so can we still do PCA? can we cluster them?\n",
    "\n",
    "**GRID SEARCH**\n",
    "\n",
    "- random search outperforms grid search so try both. \n",
    "\n",
    "\n",
    "**Relevant notes on genes**\n",
    "\n",
    "- p53: tumor suppressor gene, Dna damage and repair! mutations in p53 are associated with many cancers, including gliomas esp GBM\n",
    "\n",
    "- grin2a: less involved in DNA repair, so mutation here is less bad \n",
    "\n",
    "- look at corrs between ATRX and p53, and are tehy linked to one specific kind of glioma more than others? \n",
    "\n",
    "- if highly correlated, check if they dont just exist in same place in dna\n",
    "\n",
    "- atrx is chromosome x and p53 is chromosome 17, so they are not just in same place in dna -> can claim causation? \n",
    "\n",
    "\n"
   ]
  },
  {
   "cell_type": "code",
   "execution_count": null,
   "metadata": {},
   "outputs": [
    {
     "data": {
      "text/plain": [
       "<AxesSubplot:>"
      ]
     },
     "execution_count": 91,
     "metadata": {},
     "output_type": "execute_result"
    },
    {
     "data": {
      "image/png": "[encoded data removed]",
      "text/plain": [
       "<Figure size 1152x432 with 2 Axes>"
      ]
     },
     "metadata": {
      "needs_background": "light"
     },
     "output_type": "display_data"
    }
   ],
   "source": [
    "# Plotting only genes that showed correlation among them, for better visualization\n",
    "correlated_genes = ['ATRX', 'IDH1', 'TP53', 'CIC', 'FUBP1']\n",
    "plt.figure(figsize=(16, 6))\n",
    "corr2 = df[correlated_genes].corr()\n",
    "\n",
    "# Getting the Upper Triangle of the co-relation matrix\n",
    "matrix2 = np.triu(corr2)\n",
    "\n",
    "\n",
    "sns.heatmap(corr2, annot=True, mask=matrix2, vmin=-1, vmax=1, linewidths=.5, cmap='BrBG')"
   ]
  },
  {
   "cell_type": "markdown",
   "metadata": {},
   "source": [
    "ATRX and IDH1 : 0.45\n",
    "\n",
    "ATRX and TP53 : 0.55\n",
    "\n",
    "IDH1 and TP53 : 0.34\n",
    "\n",
    "CIC and FUBP1 : 0.44\n",
    "\n",
    "CIC and IDH1 : 0.32 \n",
    "\n",
    "All of these genes are fundamental in cancer development, they are involved in tasks such as cell division regulation, transcriptional repression, tumor growth interruption under unfavorable conditions (e.g. tumors), DNA structure modification. \n",
    "\n",
    "It is reasonable to expect that these genes would be most correlated to higher grades glioma. \n",
    "Need to determine whether this can be taken as enough evidence to \"cluster\" them and do PCA.\n"
   ]
  },
  {
   "cell_type": "code",
   "execution_count": null,
   "metadata": {},
   "outputs": [
    {
     "data": {
      "text/plain": [
       "<AxesSubplot:>"
      ]
     },
     "execution_count": 92,
     "metadata": {},
     "output_type": "execute_result"
    },
    {
     "data": {
      "image/png": "[encoded data removed]",
      "text/plain": [
       "<Figure size 1152x432 with 2 Axes>"
      ]
     },
     "metadata": {
      "needs_background": "light"
     },
     "output_type": "display_data"
    }
   ],
   "source": [
    "# Plotting selected genes correlation with glioma grade \n",
    "plt.figure(figsize=(16, 6))\n",
    "corr_genesglioma = correlated_genes = ['ATRX', 'IDH1', 'TP53', 'CIC', 'FUBP1' , 'Grade']\n",
    "corr3 = df[corr_genesglioma].corr()\n",
    "\n",
    "# Getting the Upper Triangle of the co-relation matrix\n",
    "matrix3 = np.triu(corr3)\n",
    "\n",
    "\n",
    "sns.heatmap(corr3, annot=True, mask=matrix3, vmin=-1, vmax=1, linewidths=.5, cmap='BrBG')\n",
    "\n",
    "#stronger correlation means that if the genes are mutated, the grade is more likely to be GBM. This is because we assigned 1 to mutation and 1 to GBM."
   ]
  },
  {
   "cell_type": "markdown",
   "metadata": {},
   "source": []
  },
  {
   "cell_type": "code",
   "execution_count": null,
   "metadata": {},
   "outputs": [],
   "source": [
    "#compare w open source results and see if your accuracy is better\n",
    "#dont divide mutations in 0 and 1\n",
    "#threshold of each gene expression"
   ]
  },
  {
   "cell_type": "markdown",
   "metadata": {},
   "source": [
    "we thought accuracy wouldnt be the best metrics, so we chose recall (sensitivity): the cost of misclassifying a GBM as a \"simpler\" LGG is very high, we really care about false negatives. A false negative here, since GBM is 1 and LGG is 0, is a classification of LGG which in reality should have been classified as GBM. \n",
    "\n",
    "AUC-ROC comparing classification ability between models. \n",
    "\n",
    "\n",
    "\n",
    "TODO: mention why didnt pick PCA (We think every feature is important)\n",
    "\n",
    "TODO: ASk ossnat if we should use PCA\n",
    "\n",
    "TODO: try random search as well as grid search https://www.kdnuggets.com/2022/10/hyperparameter-tuning-grid-search-random-search-python.html"
   ]
  }
 ],
 "metadata": {
  "kernelspec": {
   "display_name": "base",
   "language": "python",
   "name": "python3"
  },
  "language_info": {
   "codemirror_mode": {
    "name": "ipython",
    "version": 3
   },
   "file_extension": ".py",
   "mimetype": "text/x-python",
   "name": "python",
   "nbconvert_exporter": "python",
   "pygments_lexer": "ipython3",
   "version": "3.9.12"
  }
 },
 "nbformat": 4,
 "nbformat_minor": 2
}
